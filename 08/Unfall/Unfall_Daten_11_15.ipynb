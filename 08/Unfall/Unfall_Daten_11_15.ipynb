{
 "cells": [
  {
   "cell_type": "markdown",
   "metadata": {},
   "source": [
    "# Swiss road accidents 2011 - 2015"
   ]
  },
  {
   "cell_type": "markdown",
   "metadata": {},
   "source": [
    "Data source: [Federal Roads Office (FEDRO)](http://www.astra.admin.ch/?lang=en)"
   ]
  },
  {
   "cell_type": "markdown",
   "metadata": {},
   "source": [
    "Analysing every road accident in Switzerland from 2011 to 2015 using Pandas."
   ]
  },
  {
   "cell_type": "code",
   "execution_count": 18,
   "metadata": {
    "collapsed": true
   },
   "outputs": [],
   "source": [
    "import pandas as pd"
   ]
  },
  {
   "cell_type": "markdown",
   "metadata": {},
   "source": [
    "Importing files on accidents, .csv Files, organised by year"
   ]
  },
  {
   "cell_type": "code",
   "execution_count": 19,
   "metadata": {
    "collapsed": false
   },
   "outputs": [],
   "source": [
    "unfaelle2011 = pd.read_csv(\"Export_1_Unfallblatt_2011.csv\", delimiter = \";\", encoding = \"latin-1\")\n",
    "unfaelle2012 = pd.read_csv(\"Export_1_Unfallblatt_2012.csv\", delimiter = \";\", encoding = \"latin-1\")\n",
    "unfaelle2013 = pd.read_csv(\"Export_1_Unfallblatt_2013.csv\", delimiter = \";\", encoding = \"latin-1\")\n",
    "unfaelle2014 = pd.read_csv(\"Export_1_Unfallblatt_2014.csv\", delimiter = \";\", encoding = \"latin-1\")\n",
    "unfaelle2015 = pd.read_csv(\"Export_1_Unfallblatt_2015.csv\", delimiter = \"\\t\", encoding = \"UTF-8\")"
   ]
  },
  {
   "cell_type": "markdown",
   "metadata": {},
   "source": [
    "Importing files on people involved in accidents, .csv Files, organised by year"
   ]
  },
  {
   "cell_type": "code",
   "execution_count": 20,
   "metadata": {
    "collapsed": true
   },
   "outputs": [],
   "source": [
    "personen2011 = pd.read_csv(\"Export_3_Personenblatt_2011.csv\", delimiter = \";\", encoding = \"latin-1\")\n",
    "personen2012 = pd.read_csv(\"Export_3_Personenblatt_2012.csv\", delimiter = \";\", encoding = \"latin-1\")\n",
    "personen2013 = pd.read_csv(\"Export_3_Personenblatt_2013.csv\", delimiter = \";\", encoding = \"latin-1\")\n",
    "personen2014 = pd.read_csv(\"Export_3_Personenblatt_2014.csv\", delimiter = \";\", encoding = \"latin-1\")\n",
    "personen2015 = pd.read_csv(\"Export_3_Personenblatt_2015.csv\", delimiter = \"\\t\", encoding = \"UTF-8\")"
   ]
  },
  {
   "cell_type": "markdown",
   "metadata": {},
   "source": [
    "Importing files on vehicles involved in accidents, .csv Files, organised by year"
   ]
  },
  {
   "cell_type": "code",
   "execution_count": 21,
   "metadata": {
    "collapsed": true
   },
   "outputs": [],
   "source": [
    "fahrzeuge2011 = pd.read_csv(\"Export_2_Objektblatt_2011.csv\", delimiter = \";\", encoding = \"latin-1\")\n",
    "fahrzeuge2012 = pd.read_csv(\"Export_2_Objektblatt_2012.csv\", delimiter = \";\", encoding = \"latin-1\")\n",
    "fahrzeuge2013 = pd.read_csv(\"Export_2_Objektblatt_2013.csv\", delimiter = \";\", encoding = \"latin-1\")\n",
    "fahrzeuge2014 = pd.read_csv(\"Export_2_Objektblatt_2014.csv\", delimiter = \";\", encoding = \"latin-1\")\n",
    "fahrzeuge2015 = pd.read_csv(\"Export_2_Objektblatt_2015.csv\", delimiter = \"\\t\", encoding = \"UTF-8\")"
   ]
  },
  {
   "cell_type": "markdown",
   "metadata": {},
   "source": [
    "Concatenating the files"
   ]
  },
  {
   "cell_type": "code",
   "execution_count": 22,
   "metadata": {
    "collapsed": false
   },
   "outputs": [],
   "source": [
    "df_unfaelle = pd.concat([unfaelle2011, unfaelle2012, unfaelle2013, unfaelle2014, unfaelle2015], ignore_index=True)\n",
    "df_personen = pd.concat([personen2011, personen2012, personen2013, personen2014, personen2015], ignore_index=True)\n",
    "df_fahrzeuge = pd.concat([fahrzeuge2011, fahrzeuge2012, fahrzeuge2013, fahrzeuge2014, fahrzeuge2015], ignore_index=True)"
   ]
  },
  {
   "cell_type": "code",
   "execution_count": 23,
   "metadata": {
    "collapsed": false
   },
   "outputs": [
    {
     "data": {
      "text/plain": [
       "Index(['Aktuelle BFS Gemeinde-Nr', 'Bahnübergang UAP',\n",
       "       'Bahnübergang Zusatz UAP', 'Datum', 'Getötete', 'Hauptursache UAP',\n",
       "       'Höchstgeschwindigkeit', 'Höchstgeschwindigkeit Zusatz UAP',\n",
       "       'Innerorts / Ausserorts UAP', 'Jahr', 'Kanton Kürzel',\n",
       "       'Leichtverletzte', 'Lichtverhältnis UAP', 'Schwerverletzte',\n",
       "       'Sicht UAP', 'Strassenanlage UAP', 'Strassenanlage Zusatz UAP',\n",
       "       'Strassenart UAP', 'Strassenart Zusatz UAP', 'Strassenbeleuchtung UAP',\n",
       "       'Strassenkategorie', 'Strassenzustand UAP',\n",
       "       'Strassenzustand Zusatz UAP', 'Total Objekte', 'Total Personen',\n",
       "       'Total geschätzter Sachschaden (in 1000 CHF)', 'Unfall-UID',\n",
       "       'Unfallstelle UAP', 'Unfallstelle Zusatz UAP', 'Unfalltyp UAP',\n",
       "       'Unfallzeit', 'Verkehrsbedingungen UAP', 'Verkehrsregelung UAP',\n",
       "       'Verkehrsregelung Zusatz UAP', 'Vortrittsregelung UAP', 'Witterung UAP',\n",
       "       'Witterung Zusatz UAP', 'Wochentag-Nr', 'Zonensignalisation UAP',\n",
       "       'unverletzte Personen', 'x-Koordinate', 'y-Koordinate'],\n",
       "      dtype='object')"
      ]
     },
     "execution_count": 23,
     "metadata": {},
     "output_type": "execute_result"
    }
   ],
   "source": [
    "unfaelle.columns"
   ]
  },
  {
   "cell_type": "code",
   "execution_count": 24,
   "metadata": {
    "collapsed": false
   },
   "outputs": [
    {
     "data": {
      "text/plain": [
       "Index(['Jahr', 'Datum', 'Unfall-UID', 'Objekt-UID', 'Objekt-Nr', 'Person-UID',\n",
       "       'Person-Nr', 'Geschlecht UAP', 'Alter', 'Führerausweisalter',\n",
       "       'Personenart UAP', 'Personenart Zusatz UAP', 'Unfallfolgen UAP',\n",
       "       'Schutzsystem UAP', 'Schutzsystem Zusatz UAP'],\n",
       "      dtype='object')"
      ]
     },
     "execution_count": 24,
     "metadata": {},
     "output_type": "execute_result"
    }
   ],
   "source": [
    "df_personen.columns"
   ]
  },
  {
   "cell_type": "code",
   "execution_count": 25,
   "metadata": {
    "collapsed": false
   },
   "outputs": [
    {
     "data": {
      "text/plain": [
       "Index(['Abblend-/Tagfahrlicht UAP', 'Ablenkung UAP',\n",
       "       'Angabe Führerausweis UAP', 'Angabe Führerausweis Zusatz UAP',\n",
       "       'Angaben Fahrzeug UAP', 'Anhänger / Auflieger UAP', 'Anprall UAP',\n",
       "       'Atemtest', 'BUM Probe angeordnet UAP',\n",
       "       'BUM Probe angeordnet Zusatz UAP',\n",
       "       'Bauartbedingte Höchstgeschwindigkeit UAP', 'Blutalkoholtest',\n",
       "       'Blutprobe Alkohol angeordnet UAP',\n",
       "       'Blutprobe Alkohol angeordnet Zusatz UAP', 'Datum',\n",
       "       'Eigentumsverhältnis UAP', 'Fahrzeugart UAP', 'Fahrzeugart Zusatz UAP',\n",
       "       'Fahrzweck UAP', 'Führerausweis Kategorie', 'Führerausweis Land UAP',\n",
       "       'Führerausweis seit', 'Getötete', 'Hauptverursacher UAP', 'Jahr',\n",
       "       'Kennzeichen Fahrzeug Kanton', 'Kennzeichen Fahrzeug Land UAP',\n",
       "       'Kennzeichenart UAP', 'Leichtverletzte', 'Lenker UAP',\n",
       "       'Meldepflicht UAP', 'Objekt-Kategorie UAP', 'Objekt-Nr', 'Objekt-UID',\n",
       "       'Schwerverletzte', 'Total Personen', 'Unfall-UID', 'Ursache 1 UAP',\n",
       "       'Ursache 2 UAP', 'Ursache 3 UAP', 'Verdacht Alkohol UAP',\n",
       "       'Verdacht Betäubungsmittel UAP', 'Verdacht Betäubungsmittel Zusatz UAP',\n",
       "       'Verdacht Betääubungsmittel Zusatz UAP',\n",
       "       'Verdacht auf Arzneimittel UAP', 'Verdacht auf Arzneimittel Zusatz UAP',\n",
       "       'Vertrautheit Strecke UAP', 'unverletzte Personen'],\n",
       "      dtype='object')"
      ]
     },
     "execution_count": 25,
     "metadata": {},
     "output_type": "execute_result"
    }
   ],
   "source": [
    "df_fahrzeuge.columns\n",
    "#contains the \"Hauptverursacher UAP\" (ja/nein) category"
   ]
  },
  {
   "cell_type": "code",
   "execution_count": 26,
   "metadata": {
    "collapsed": false
   },
   "outputs": [
    {
     "data": {
      "text/plain": [
       "5    43687\n",
       "4    39969\n",
       "3    39209\n",
       "2    38617\n",
       "6    38540\n",
       "1    37634\n",
       "7    28827\n",
       "Name: Wochentag-Nr, dtype: int64"
      ]
     },
     "execution_count": 26,
     "metadata": {},
     "output_type": "execute_result"
    }
   ],
   "source": [
    "df_unfaelle['Wochentag-Nr'].value_counts()"
   ]
  },
  {
   "cell_type": "code",
   "execution_count": 27,
   "metadata": {
    "collapsed": false
   },
   "outputs": [],
   "source": [
    "#personen['Alter'].mean()"
   ]
  },
  {
   "cell_type": "code",
   "execution_count": 28,
   "metadata": {
    "collapsed": false
   },
   "outputs": [
    {
     "data": {
      "text/plain": [
       "981    412883\n",
       "983     51672\n",
       "980     48651\n",
       "982     37686\n",
       "Name: Schutzsystem UAP, dtype: int64"
      ]
     },
     "execution_count": 28,
     "metadata": {},
     "output_type": "execute_result"
    }
   ],
   "source": [
    "df_personen['Schutzsystem UAP'].value_counts()"
   ]
  },
  {
   "cell_type": "code",
   "execution_count": 29,
   "metadata": {
    "collapsed": false
   },
   "outputs": [
    {
     "data": {
      "text/plain": [
       "Jahr  Schutzsystem UAP\n",
       "2011  981                 84416\n",
       "      983                 11263\n",
       "      980                  9575\n",
       "      982                  7986\n",
       "2012  981                 84843\n",
       "      983                 10521\n",
       "      980                  9864\n",
       "      982                  7370\n",
       "2013  981                 82383\n",
       "      983                 10311\n",
       "      980                  9573\n",
       "      982                  6951\n",
       "2014  981                 79540\n",
       "      980                  9797\n",
       "      983                  9421\n",
       "      982                  7628\n",
       "2015  981                 81701\n",
       "      983                 10156\n",
       "      980                  9842\n",
       "      982                  7751\n",
       "Name: Schutzsystem UAP, dtype: int64"
      ]
     },
     "execution_count": 29,
     "metadata": {},
     "output_type": "execute_result"
    }
   ],
   "source": [
    "df_personen.groupby(['Jahr'])['Schutzsystem UAP'].value_counts()"
   ]
  },
  {
   "cell_type": "code",
   "execution_count": 30,
   "metadata": {
    "collapsed": true
   },
   "outputs": [],
   "source": [
    "x = df_personen.groupby(['Jahr'])['Schutzsystem UAP'].value_counts()"
   ]
  },
  {
   "cell_type": "code",
   "execution_count": 31,
   "metadata": {
    "collapsed": false
   },
   "outputs": [
    {
     "data": {
      "text/html": [
       "<div>\n",
       "<table border=\"1\" class=\"dataframe\">\n",
       "  <thead>\n",
       "    <tr style=\"text-align: right;\">\n",
       "      <th></th>\n",
       "      <th></th>\n",
       "      <th>Schutzsystem UAP</th>\n",
       "    </tr>\n",
       "    <tr>\n",
       "      <th>Jahr</th>\n",
       "      <th>Schutzsystem UAP</th>\n",
       "      <th></th>\n",
       "    </tr>\n",
       "  </thead>\n",
       "  <tbody>\n",
       "    <tr>\n",
       "      <th rowspan=\"4\" valign=\"top\">2011</th>\n",
       "      <th>981</th>\n",
       "      <td>84416</td>\n",
       "    </tr>\n",
       "    <tr>\n",
       "      <th>983</th>\n",
       "      <td>11263</td>\n",
       "    </tr>\n",
       "    <tr>\n",
       "      <th>980</th>\n",
       "      <td>9575</td>\n",
       "    </tr>\n",
       "    <tr>\n",
       "      <th>982</th>\n",
       "      <td>7986</td>\n",
       "    </tr>\n",
       "    <tr>\n",
       "      <th rowspan=\"4\" valign=\"top\">2012</th>\n",
       "      <th>981</th>\n",
       "      <td>84843</td>\n",
       "    </tr>\n",
       "    <tr>\n",
       "      <th>983</th>\n",
       "      <td>10521</td>\n",
       "    </tr>\n",
       "    <tr>\n",
       "      <th>980</th>\n",
       "      <td>9864</td>\n",
       "    </tr>\n",
       "    <tr>\n",
       "      <th>982</th>\n",
       "      <td>7370</td>\n",
       "    </tr>\n",
       "    <tr>\n",
       "      <th rowspan=\"4\" valign=\"top\">2013</th>\n",
       "      <th>981</th>\n",
       "      <td>82383</td>\n",
       "    </tr>\n",
       "    <tr>\n",
       "      <th>983</th>\n",
       "      <td>10311</td>\n",
       "    </tr>\n",
       "    <tr>\n",
       "      <th>980</th>\n",
       "      <td>9573</td>\n",
       "    </tr>\n",
       "    <tr>\n",
       "      <th>982</th>\n",
       "      <td>6951</td>\n",
       "    </tr>\n",
       "    <tr>\n",
       "      <th rowspan=\"4\" valign=\"top\">2014</th>\n",
       "      <th>981</th>\n",
       "      <td>79540</td>\n",
       "    </tr>\n",
       "    <tr>\n",
       "      <th>980</th>\n",
       "      <td>9797</td>\n",
       "    </tr>\n",
       "    <tr>\n",
       "      <th>983</th>\n",
       "      <td>9421</td>\n",
       "    </tr>\n",
       "    <tr>\n",
       "      <th>982</th>\n",
       "      <td>7628</td>\n",
       "    </tr>\n",
       "    <tr>\n",
       "      <th rowspan=\"4\" valign=\"top\">2015</th>\n",
       "      <th>981</th>\n",
       "      <td>81701</td>\n",
       "    </tr>\n",
       "    <tr>\n",
       "      <th>983</th>\n",
       "      <td>10156</td>\n",
       "    </tr>\n",
       "    <tr>\n",
       "      <th>980</th>\n",
       "      <td>9842</td>\n",
       "    </tr>\n",
       "    <tr>\n",
       "      <th>982</th>\n",
       "      <td>7751</td>\n",
       "    </tr>\n",
       "  </tbody>\n",
       "</table>\n",
       "</div>"
      ],
      "text/plain": [
       "                       Schutzsystem UAP\n",
       "Jahr Schutzsystem UAP                  \n",
       "2011 981                          84416\n",
       "     983                          11263\n",
       "     980                           9575\n",
       "     982                           7986\n",
       "2012 981                          84843\n",
       "     983                          10521\n",
       "     980                           9864\n",
       "     982                           7370\n",
       "2013 981                          82383\n",
       "     983                          10311\n",
       "     980                           9573\n",
       "     982                           6951\n",
       "2014 981                          79540\n",
       "     980                           9797\n",
       "     983                           9421\n",
       "     982                           7628\n",
       "2015 981                          81701\n",
       "     983                          10156\n",
       "     980                           9842\n",
       "     982                           7751"
      ]
     },
     "execution_count": 31,
     "metadata": {},
     "output_type": "execute_result"
    }
   ],
   "source": [
    "pd.DataFrame(x)"
   ]
  },
  {
   "cell_type": "code",
   "execution_count": null,
   "metadata": {
    "collapsed": true
   },
   "outputs": [],
   "source": []
  },
  {
   "cell_type": "code",
   "execution_count": null,
   "metadata": {
    "collapsed": true
   },
   "outputs": [],
   "source": []
  },
  {
   "cell_type": "code",
   "execution_count": 32,
   "metadata": {
    "collapsed": true
   },
   "outputs": [],
   "source": [
    "x = unfaelle['Wochentag-Nr'].value_counts()"
   ]
  },
  {
   "cell_type": "code",
   "execution_count": 33,
   "metadata": {
    "collapsed": false
   },
   "outputs": [
    {
     "data": {
      "text/html": [
       "<div>\n",
       "<table border=\"1\" class=\"dataframe\">\n",
       "  <thead>\n",
       "    <tr style=\"text-align: right;\">\n",
       "      <th></th>\n",
       "      <th>Wochentag-Nr</th>\n",
       "    </tr>\n",
       "  </thead>\n",
       "  <tbody>\n",
       "    <tr>\n",
       "      <th>5</th>\n",
       "      <td>43687</td>\n",
       "    </tr>\n",
       "    <tr>\n",
       "      <th>4</th>\n",
       "      <td>39969</td>\n",
       "    </tr>\n",
       "    <tr>\n",
       "      <th>3</th>\n",
       "      <td>39209</td>\n",
       "    </tr>\n",
       "    <tr>\n",
       "      <th>2</th>\n",
       "      <td>38617</td>\n",
       "    </tr>\n",
       "    <tr>\n",
       "      <th>6</th>\n",
       "      <td>38540</td>\n",
       "    </tr>\n",
       "    <tr>\n",
       "      <th>1</th>\n",
       "      <td>37634</td>\n",
       "    </tr>\n",
       "    <tr>\n",
       "      <th>7</th>\n",
       "      <td>28827</td>\n",
       "    </tr>\n",
       "  </tbody>\n",
       "</table>\n",
       "</div>"
      ],
      "text/plain": [
       "   Wochentag-Nr\n",
       "5         43687\n",
       "4         39969\n",
       "3         39209\n",
       "2         38617\n",
       "6         38540\n",
       "1         37634\n",
       "7         28827"
      ]
     },
     "execution_count": 33,
     "metadata": {},
     "output_type": "execute_result"
    }
   ],
   "source": [
    "pd.DataFrame(x)"
   ]
  },
  {
   "cell_type": "code",
   "execution_count": 34,
   "metadata": {
    "collapsed": false
   },
   "outputs": [
    {
     "data": {
      "text/plain": [
       "pandas.core.series.Series"
      ]
     },
     "execution_count": 34,
     "metadata": {},
     "output_type": "execute_result"
    }
   ],
   "source": [
    "type(x)"
   ]
  },
  {
   "cell_type": "code",
   "execution_count": 36,
   "metadata": {
    "collapsed": false
   },
   "outputs": [
    {
     "data": {
      "text/plain": [
       "count        550892\n",
       "unique          106\n",
       "top       unbekannt\n",
       "freq          31518\n",
       "Name: Alter, dtype: object"
      ]
     },
     "execution_count": 36,
     "metadata": {},
     "output_type": "execute_result"
    }
   ],
   "source": [
    "df_personen['Alter'].describe()"
   ]
  },
  {
   "cell_type": "code",
   "execution_count": 39,
   "metadata": {
    "collapsed": false
   },
   "outputs": [
    {
     "name": "stdout",
     "output_type": "stream",
     "text": [
      "<class 'pandas.core.frame.DataFrame'>\n",
      "RangeIndex: 550892 entries, 0 to 550891\n",
      "Data columns (total 15 columns):\n",
      "Jahr                       550892 non-null int64\n",
      "Datum                      550892 non-null object\n",
      "Unfall-UID                 550892 non-null object\n",
      "Objekt-UID                 550892 non-null object\n",
      "Objekt-Nr                  550892 non-null object\n",
      "Person-UID                 550892 non-null object\n",
      "Person-Nr                  550892 non-null int64\n",
      "Geschlecht UAP             550892 non-null int64\n",
      "Alter                      550892 non-null object\n",
      "Führerausweisalter         550892 non-null object\n",
      "Personenart UAP            550892 non-null int64\n",
      "Personenart Zusatz UAP     229669 non-null object\n",
      "Unfallfolgen UAP           550892 non-null int64\n",
      "Schutzsystem UAP           550892 non-null int64\n",
      "Schutzsystem Zusatz UAP    28730 non-null object\n",
      "dtypes: int64(6), object(9)\n",
      "memory usage: 63.0+ MB\n"
     ]
    }
   ],
   "source": [
    "df_personen.info()"
   ]
  },
  {
   "cell_type": "code",
   "execution_count": 40,
   "metadata": {
    "collapsed": false
   },
   "outputs": [
    {
     "ename": "NameError",
     "evalue": "name 'money_players' is not defined",
     "output_type": "error",
     "traceback": [
      "\u001b[0;31m---------------------------------------------------------------------------\u001b[0m",
      "\u001b[0;31mNameError\u001b[0m                                 Traceback (most recent call last)",
      "\u001b[0;32m<ipython-input-40-41d96d84de53>\u001b[0m in \u001b[0;36m<module>\u001b[0;34m()\u001b[0m\n\u001b[0;32m----> 1\u001b[0;31m \u001b[0mmoney_players\u001b[0m\u001b[0;34m.\u001b[0m\u001b[0mplot\u001b[0m\u001b[0;34m(\u001b[0m\u001b[0mkind\u001b[0m\u001b[0;34m=\u001b[0m\u001b[0;34m'scatter'\u001b[0m\u001b[0;34m,\u001b[0m \u001b[0mx\u001b[0m\u001b[0;34m=\u001b[0m\u001b[0;34m'Age'\u001b[0m\u001b[0;34m,\u001b[0m \u001b[0my\u001b[0m\u001b[0;34m=\u001b[0m\u001b[0;34m'salary'\u001b[0m\u001b[0;34m,\u001b[0m \u001b[0malpha\u001b[0m\u001b[0;34m=\u001b[0m\u001b[0;36m0.2\u001b[0m\u001b[0;34m)\u001b[0m\u001b[0;34m\u001b[0m\u001b[0m\n\u001b[0m",
      "\u001b[0;31mNameError\u001b[0m: name 'money_players' is not defined"
     ]
    }
   ],
   "source": []
  },
  {
   "cell_type": "code",
   "execution_count": null,
   "metadata": {
    "collapsed": true
   },
   "outputs": [],
   "source": []
  }
 ],
 "metadata": {
  "kernelspec": {
   "display_name": "Python 3",
   "language": "python",
   "name": "python3"
  },
  "language_info": {
   "codemirror_mode": {
    "name": "ipython",
    "version": 3
   },
   "file_extension": ".py",
   "mimetype": "text/x-python",
   "name": "python",
   "nbconvert_exporter": "python",
   "pygments_lexer": "ipython3",
   "version": "3.5.1"
  }
 },
 "nbformat": 4,
 "nbformat_minor": 0
}
