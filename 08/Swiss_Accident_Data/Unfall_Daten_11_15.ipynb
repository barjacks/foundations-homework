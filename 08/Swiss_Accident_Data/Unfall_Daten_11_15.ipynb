{
 "cells": [
  {
   "cell_type": "markdown",
   "metadata": {},
   "source": [
    "# Swiss road accidents 2011 - 2015"
   ]
  },
  {
   "cell_type": "markdown",
   "metadata": {},
   "source": [
    "Data source: [Federal Roads Office (FEDRO)](http://www.astra.admin.ch/?lang=en)"
   ]
  },
  {
   "cell_type": "markdown",
   "metadata": {},
   "source": [
    "Analysing every road accident in Switzerland from 2011 to 2015 using Pandas."
   ]
  },
  {
   "cell_type": "code",
   "execution_count": 2,
   "metadata": {
    "collapsed": true
   },
   "outputs": [],
   "source": [
    "import pandas as pd\n",
    "import matplotlib.pyplot as plt\n",
    "plt.style.use(\"ggplot\")\n",
    "%matplotlib inline"
   ]
  },
  {
   "cell_type": "markdown",
   "metadata": {},
   "source": [
    "Importing files on accidents, .csv Files, organised by year"
   ]
  },
  {
   "cell_type": "code",
   "execution_count": 3,
   "metadata": {
    "collapsed": false
   },
   "outputs": [],
   "source": [
    "unfaelle2011 = pd.read_csv(\"Export_1_Unfallblatt_2011.csv\", delimiter = \";\", encoding = \"latin-1\")\n",
    "unfaelle2012 = pd.read_csv(\"Export_1_Unfallblatt_2012.csv\", delimiter = \";\", encoding = \"latin-1\")\n",
    "unfaelle2013 = pd.read_csv(\"Export_1_Unfallblatt_2013.csv\", delimiter = \";\", encoding = \"latin-1\")\n",
    "unfaelle2014 = pd.read_csv(\"Export_1_Unfallblatt_2014.csv\", delimiter = \";\", encoding = \"latin-1\")\n",
    "unfaelle2015 = pd.read_csv(\"Export_1_Unfallblatt_2015.csv\", delimiter = \"\\t\", encoding = \"UTF-8\")"
   ]
  },
  {
   "cell_type": "markdown",
   "metadata": {},
   "source": [
    "Importing files on people involved in accidents, .csv Files, organised by year"
   ]
  },
  {
   "cell_type": "code",
   "execution_count": 4,
   "metadata": {
    "collapsed": true
   },
   "outputs": [],
   "source": [
    "personen2011 = pd.read_csv(\"Export_3_Personenblatt_2011.csv\", delimiter = \";\", encoding = \"latin-1\")\n",
    "personen2012 = pd.read_csv(\"Export_3_Personenblatt_2012.csv\", delimiter = \";\", encoding = \"latin-1\")\n",
    "personen2013 = pd.read_csv(\"Export_3_Personenblatt_2013.csv\", delimiter = \";\", encoding = \"latin-1\")\n",
    "personen2014 = pd.read_csv(\"Export_3_Personenblatt_2014.csv\", delimiter = \";\", encoding = \"latin-1\")\n",
    "personen2015 = pd.read_csv(\"Export_3_Personenblatt_2015.csv\", delimiter = \"\\t\", encoding = \"UTF-8\")"
   ]
  },
  {
   "cell_type": "markdown",
   "metadata": {},
   "source": [
    "Importing files on vehicles involved in accidents, .csv Files, organised by year"
   ]
  },
  {
   "cell_type": "code",
   "execution_count": 5,
   "metadata": {
    "collapsed": true
   },
   "outputs": [],
   "source": [
    "fahrzeuge2011 = pd.read_csv(\"Export_2_Objektblatt_2011.csv\", delimiter = \";\", encoding = \"latin-1\")\n",
    "fahrzeuge2012 = pd.read_csv(\"Export_2_Objektblatt_2012.csv\", delimiter = \";\", encoding = \"latin-1\")\n",
    "fahrzeuge2013 = pd.read_csv(\"Export_2_Objektblatt_2013.csv\", delimiter = \";\", encoding = \"latin-1\")\n",
    "fahrzeuge2014 = pd.read_csv(\"Export_2_Objektblatt_2014.csv\", delimiter = \";\", encoding = \"latin-1\")\n",
    "fahrzeuge2015 = pd.read_csv(\"Export_2_Objektblatt_2015.csv\", delimiter = \"\\t\", encoding = \"UTF-8\")"
   ]
  },
  {
   "cell_type": "markdown",
   "metadata": {},
   "source": [
    "Concatenating the files"
   ]
  },
  {
   "cell_type": "code",
   "execution_count": 6,
   "metadata": {
    "collapsed": false
   },
   "outputs": [],
   "source": [
    "df_unfaelle = pd.concat([unfaelle2011, unfaelle2012, unfaelle2013, unfaelle2014, unfaelle2015], ignore_index=True)\n",
    "df_personen = pd.concat([personen2011, personen2012, personen2013, personen2014, personen2015], ignore_index=True)\n",
    "df_fahrzeuge = pd.concat([fahrzeuge2011, fahrzeuge2012, fahrzeuge2013, fahrzeuge2014, fahrzeuge2015], ignore_index=True)"
   ]
  },
  {
   "cell_type": "code",
   "execution_count": 7,
   "metadata": {
    "collapsed": false
   },
   "outputs": [],
   "source": [
    "#df_unfaelle.columns"
   ]
  },
  {
   "cell_type": "code",
   "execution_count": 8,
   "metadata": {
    "collapsed": false
   },
   "outputs": [],
   "source": [
    "#df_personen.columns"
   ]
  },
  {
   "cell_type": "code",
   "execution_count": 9,
   "metadata": {
    "collapsed": false
   },
   "outputs": [],
   "source": [
    "#df_fahrzeuge.columns\n",
    "#contains the \"Hauptverursacher UAP\" (ja/nein) category"
   ]
  },
  {
   "cell_type": "markdown",
   "metadata": {},
   "source": [
    "# Contents"
   ]
  },
  {
   "cell_type": "markdown",
   "metadata": {},
   "source": [
    "**OVERVIEW**\n",
    "1. Total number of road accidents in Switzerland since 2011? How have they developed over the years? Make a bar graph. \n",
    "2. On which day of the week do the most accidents occur? And at what time of day? Make a graph of that as well.\n",
    "3. Compare the various vehicle categories involved in accidents. Total and by year.\n",
    "4. What was the most expensive crash in the past five years? Where was it? And which crash one was the most deadly?\n",
    "5. How many accidents occured on roads without ligthing?\n",
    "6. How have drug and alcohol related accidents developed in the past 5 years?\n",
    "7. Combine as much information about Breatheliser record as possible.\n",
    "8. What ist the average age of crash drivers? Overall? And how has it changed over the years?\n",
    "9. What about female vs. male drivers?\n",
    "10. List the 10 accident hotspots in Switzerland?"
   ]
  },
  {
   "cell_type": "markdown",
   "metadata": {},
   "source": [
    "** 1. Total number of road accidents in Switzerland since 2011? How have they developed over the years? Make a bar graph.**"
   ]
  },
  {
   "cell_type": "code",
   "execution_count": 10,
   "metadata": {
    "collapsed": false
   },
   "outputs": [
    {
     "data": {
      "text/plain": [
       "266483"
      ]
     },
     "execution_count": 10,
     "metadata": {},
     "output_type": "execute_result"
    }
   ],
   "source": [
    "df_unfaelle['Unfall-UID'].count()"
   ]
  },
  {
   "cell_type": "code",
   "execution_count": 11,
   "metadata": {
    "collapsed": false
   },
   "outputs": [
    {
     "data": {
      "text/plain": [
       "Jahr\n",
       "2011    54269\n",
       "2012    54171\n",
       "2013    53052\n",
       "2014    51756\n",
       "2015    53235\n",
       "Name: Unfall-UID, dtype: int64"
      ]
     },
     "execution_count": 11,
     "metadata": {},
     "output_type": "execute_result"
    }
   ],
   "source": [
    "df_unfaelle.groupby('Jahr')['Unfall-UID'].count()"
   ]
  },
  {
   "cell_type": "code",
   "execution_count": 12,
   "metadata": {
    "collapsed": false
   },
   "outputs": [
    {
     "data": {
      "image/png": "[encoded data removed]",
      "text/plain": [
       "<matplotlib.figure.Figure at 0x103054c88>"
      ]
     },
     "metadata": {},
     "output_type": "display_data"
    }
   ],
   "source": [
    "df_unfaelle.groupby('Jahr')['Unfall-UID'].count().plot(kind='bar')\n",
    "plt.savefig(\"Unfaelle_pro_Jahr.svg\")\n",
    "plt.savefig(\"Unfaelle_pro_Jahr.png\")"
   ]
  },
  {
   "cell_type": "markdown",
   "metadata": {},
   "source": [
    "Most recently there has been a slight increase in road accidents in Switzerland."
   ]
  },
  {
   "cell_type": "markdown",
   "metadata": {},
   "source": [
    "** 2. On which day of the week do the most accidents occur? And at what time of day? Make graph of that as well.**"
   ]
  },
  {
   "cell_type": "code",
   "execution_count": 13,
   "metadata": {
    "collapsed": false
   },
   "outputs": [
    {
     "data": {
      "text/plain": [
       "5    43687\n",
       "4    39969\n",
       "3    39209\n",
       "2    38617\n",
       "6    38540\n",
       "1    37634\n",
       "7    28827\n",
       "Name: Wochentag-Nr, dtype: int64"
      ]
     },
     "execution_count": 13,
     "metadata": {},
     "output_type": "execute_result"
    }
   ],
   "source": [
    "df_unfaelle['Wochentag-Nr'].value_counts()"
   ]
  },
  {
   "cell_type": "code",
   "execution_count": 14,
   "metadata": {
    "collapsed": false
   },
   "outputs": [
    {
     "data": {
      "image/png": "[encoded data removed]",
      "text/plain": [
       "<matplotlib.figure.Figure at 0x118982160>"
      ]
     },
     "metadata": {},
     "output_type": "display_data"
    }
   ],
   "source": [
    "df_unfaelle['Wochentag-Nr'].astype(str).str.replace('6', \"Saturday\").str.replace('4', \"Thursday\").str.replace('1', \"Monday\").str.replace('2', \"Tuesday\").str.replace('3', \"Wednesday\").str.replace('5', \"Friday\").str.replace('7', \"Sunday\").value_counts(ascending=True).plot(kind='barh')\n",
    "plt.savefig(\"Unfaelle_pro_Tag.svg\")\n",
    "plt.savefig(\"Unfaelle_pro_Tag.png\")"
   ]
  },
  {
   "cell_type": "code",
   "execution_count": 15,
   "metadata": {
    "collapsed": false
   },
   "outputs": [
    {
     "data": {
      "text/plain": [
       "<matplotlib.figure.Figure at 0x105ad7cc0>"
      ]
     },
     "metadata": {},
     "output_type": "display_data"
    }
   ],
   "source": [
    "plt.savefig(\"Unfaelle_pro_Tag.svg\")\n",
    "plt.savefig(\"Unfaelle_pro_Tag.png\")"
   ]
  },
  {
   "cell_type": "markdown",
   "metadata": {},
   "source": [
    "**Transforming the data into times is proving a problem. They need to be transformed, so I can make a histogram of the times. With time as X-axis and count of accidents corresponding to the time on Y-xis.** This post on timestamps in Pandas may be of some [help](http://pandas.pydata.org/pandas-docs/stable/timeseries.html)."
   ]
  },
  {
   "cell_type": "code",
   "execution_count": 16,
   "metadata": {
    "collapsed": false
   },
   "outputs": [
    {
     "data": {
      "text/plain": [
       "unbekannt    3024\n",
       "17:00        2420\n",
       "18:00        2297\n",
       "17:30        2290\n",
       "Name: Unfallzeit, dtype: int64"
      ]
     },
     "execution_count": 16,
     "metadata": {},
     "output_type": "execute_result"
    }
   ],
   "source": [
    "#df_unfaelle['Unfallzeit'].value_counts(ascending=False).hist(kind='scatter', x=)\n",
    "#df_unfaelle['Unfallzeit'].value_counts().plot(kind='barh', x=['Unfallzeit'])\n",
    "#df_unfaelle['Unfallzeit_Double'] = df_unfaelle['Unfallzeit']\n",
    "df_unfaelle['Unfallzeit'].value_counts().head(4)"
   ]
  },
  {
   "cell_type": "markdown",
   "metadata": {
    "collapsed": false
   },
   "source": [
    "**3. Compare the top ten various vehicle categories involved in accidents. Total and by year.**"
   ]
  },
  {
   "cell_type": "code",
   "execution_count": 17,
   "metadata": {
    "collapsed": false
   },
   "outputs": [
    {
     "data": {
      "text/plain": [
       "|710|    310440\n",
       "|712|     22099\n",
       "|733|     21517\n",
       "|730|     14451\n",
       "|725|      9724\n",
       "Name: Fahrzeugart UAP, dtype: int64"
      ]
     },
     "execution_count": 17,
     "metadata": {},
     "output_type": "execute_result"
    }
   ],
   "source": [
    "df_fahrzeuge['Fahrzeugart UAP'].value_counts().head(5)\n",
    "#money_players = nba[nba['2013 $'] != 'n/a']"
   ]
  },
  {
   "cell_type": "markdown",
   "metadata": {},
   "source": [
    "The \"|\" sign ist causing a lot of problems as it doesn't allow me to change the names of the numbers in one go. And I haven't figures out how to do it in two goes."
   ]
  },
  {
   "cell_type": "code",
   "execution_count": 18,
   "metadata": {
    "collapsed": false
   },
   "outputs": [
    {
     "data": {
      "text/html": [
       "<div>\n",
       "<table border=\"1\" class=\"dataframe\">\n",
       "  <thead>\n",
       "    <tr style=\"text-align: right;\">\n",
       "      <th></th>\n",
       "      <th>Fahrzeugart UAP</th>\n",
       "    </tr>\n",
       "  </thead>\n",
       "  <tbody>\n",
       "    <tr>\n",
       "      <th>710</th>\n",
       "      <td>310440</td>\n",
       "    </tr>\n",
       "    <tr>\n",
       "      <th>712</th>\n",
       "      <td>22099</td>\n",
       "    </tr>\n",
       "    <tr>\n",
       "      <th>733</th>\n",
       "      <td>21517</td>\n",
       "    </tr>\n",
       "    <tr>\n",
       "      <th>730</th>\n",
       "      <td>14451</td>\n",
       "    </tr>\n",
       "    <tr>\n",
       "      <th>nan</th>\n",
       "      <td>13253</td>\n",
       "    </tr>\n",
       "    <tr>\n",
       "      <th>725</th>\n",
       "      <td>9724</td>\n",
       "    </tr>\n",
       "    <tr>\n",
       "      <th>718</th>\n",
       "      <td>7061</td>\n",
       "    </tr>\n",
       "    <tr>\n",
       "      <th>723</th>\n",
       "      <td>6171</td>\n",
       "    </tr>\n",
       "    <tr>\n",
       "      <th>722</th>\n",
       "      <td>4723</td>\n",
       "    </tr>\n",
       "    <tr>\n",
       "      <th>724</th>\n",
       "      <td>4636</td>\n",
       "    </tr>\n",
       "  </tbody>\n",
       "</table>\n",
       "</div>"
      ],
      "text/plain": [
       "     Fahrzeugart UAP\n",
       "710           310440\n",
       "712            22099\n",
       "733            21517\n",
       "730            14451\n",
       "nan            13253\n",
       "725             9724\n",
       "718             7061\n",
       "723             6171\n",
       "722             4723\n",
       "724             4636"
      ]
     },
     "execution_count": 18,
     "metadata": {},
     "output_type": "execute_result"
    }
   ],
   "source": [
    "#df_fahrzeuge['Fahrzeugart UAP'].astype(str).str.replace('|', \"\").value_counts(ascending=False)\n",
    "#vehicles_without_pipes.astype(str).str.replace('710', \"Cars\").value_counts(ascending=False).head(10)\n",
    "test = df_fahrzeuge['Fahrzeugart UAP'].astype(str).str.replace('|', \"\").value_counts(ascending=False)\n",
    "pd.DataFrame(test).head(10)\n",
    "#test['Fahrzeugart UAP']\n",
    "#test['Fahrzeugart UAP'].astype(str).str.replace('712', \"Vans\")\n",
    "#test.columns()\n",
    "\n",
    "#.str.replace('712', \"Vans\").str.replace('733', \"n/a\").str.replace('730', \"Bicycles\").str.replace('725', \"Motorbikes, above 25kw\").str.replace('718', \"Trucks, above 7,4t\").str.replace('722', \"Mopeds\").str.replace('724', \"Motorbike, to 25kw\").str.replace('720', \"Semi trailer, above 7,5t\")."
   ]
  },
  {
   "cell_type": "markdown",
   "metadata": {},
   "source": [
    "**4. What was the most expensive crash in the past five years? Where was it? And which crash was the most deadly?**"
   ]
  },
  {
   "cell_type": "code",
   "execution_count": 19,
   "metadata": {
    "collapsed": false
   },
   "outputs": [
    {
     "data": {
      "text/html": [
       "<div>\n",
       "<table border=\"1\" class=\"dataframe\">\n",
       "  <thead>\n",
       "    <tr style=\"text-align: right;\">\n",
       "      <th></th>\n",
       "      <th>Total geschätzter Sachschaden (in 1000 CHF)</th>\n",
       "      <th>Datum</th>\n",
       "      <th>x-Koordinate</th>\n",
       "      <th>y-Koordinate</th>\n",
       "      <th>Kanton Kürzel</th>\n",
       "      <th>Aktuelle BFS Gemeinde-Nr</th>\n",
       "    </tr>\n",
       "  </thead>\n",
       "  <tbody>\n",
       "    <tr>\n",
       "      <th>102850</th>\n",
       "      <td>3097.0</td>\n",
       "      <td>2012/11/26 00:00:00</td>\n",
       "      <td>733188</td>\n",
       "      <td>264855</td>\n",
       "      <td>TG</td>\n",
       "      <td>4501.0</td>\n",
       "    </tr>\n",
       "    <tr>\n",
       "      <th>125924</th>\n",
       "      <td>2113.8</td>\n",
       "      <td>2013/05/06 00:00:00</td>\n",
       "      <td>753599</td>\n",
       "      <td>261346</td>\n",
       "      <td>SG</td>\n",
       "      <td>3213.0</td>\n",
       "    </tr>\n",
       "    <tr>\n",
       "      <th>14218</th>\n",
       "      <td>2000.0</td>\n",
       "      <td>2011/04/14 00:00:00</td>\n",
       "      <td>577759</td>\n",
       "      <td>183068</td>\n",
       "      <td>FR</td>\n",
       "      <td>2196.0</td>\n",
       "    </tr>\n",
       "    <tr>\n",
       "      <th>232322</th>\n",
       "      <td>1801.0</td>\n",
       "      <td>20.05.15</td>\n",
       "      <td>772188</td>\n",
       "      <td>201408</td>\n",
       "      <td>GR</td>\n",
       "      <td>NaN</td>\n",
       "    </tr>\n",
       "    <tr>\n",
       "      <th>150309</th>\n",
       "      <td>1730.0</td>\n",
       "      <td>2013/10/17 00:00:00</td>\n",
       "      <td>685914</td>\n",
       "      <td>252395</td>\n",
       "      <td>ZH</td>\n",
       "      <td>69.0</td>\n",
       "    </tr>\n",
       "  </tbody>\n",
       "</table>\n",
       "</div>"
      ],
      "text/plain": [
       "        Total geschätzter Sachschaden (in 1000 CHF)                Datum  \\\n",
       "102850                                       3097.0  2012/11/26 00:00:00   \n",
       "125924                                       2113.8  2013/05/06 00:00:00   \n",
       "14218                                        2000.0  2011/04/14 00:00:00   \n",
       "232322                                       1801.0             20.05.15   \n",
       "150309                                       1730.0  2013/10/17 00:00:00   \n",
       "\n",
       "        x-Koordinate  y-Koordinate Kanton Kürzel  Aktuelle BFS Gemeinde-Nr  \n",
       "102850        733188        264855            TG                    4501.0  \n",
       "125924        753599        261346            SG                    3213.0  \n",
       "14218         577759        183068            FR                    2196.0  \n",
       "232322        772188        201408            GR                       NaN  \n",
       "150309        685914        252395            ZH                      69.0  "
      ]
     },
     "execution_count": 19,
     "metadata": {},
     "output_type": "execute_result"
    }
   ],
   "source": [
    "df_unfaelle.sort_values('Total geschätzter Sachschaden (in 1000 CHF)', ascending=False)[['Total geschätzter Sachschaden (in 1000 CHF)', 'Datum', 'x-Koordinate', 'y-Koordinate', 'Kanton Kürzel', 'Aktuelle BFS Gemeinde-Nr']].head(5)"
   ]
  },
  {
   "cell_type": "markdown",
   "metadata": {},
   "source": [
    "The accident causing the greatest damage, 3 Million Swiss Francs, happened on 26 October 2012 in Canton Thurgau, [here](https://tools.retorte.ch/map/?swissgrid=2733188,1264855), or [here](https://goo.gl/maps/5x12FYvzK4D2) on Google Maps. "
   ]
  },
  {
   "cell_type": "code",
   "execution_count": 20,
   "metadata": {
    "collapsed": false
   },
   "outputs": [
    {
     "data": {
      "text/html": [
       "<div>\n",
       "<table border=\"1\" class=\"dataframe\">\n",
       "  <thead>\n",
       "    <tr style=\"text-align: right;\">\n",
       "      <th></th>\n",
       "      <th>Getötete</th>\n",
       "      <th>Datum</th>\n",
       "      <th>x-Koordinate</th>\n",
       "      <th>y-Koordinate</th>\n",
       "      <th>Kanton Kürzel</th>\n",
       "      <th>Aktuelle BFS Gemeinde-Nr</th>\n",
       "    </tr>\n",
       "  </thead>\n",
       "  <tbody>\n",
       "    <tr>\n",
       "      <th>64358</th>\n",
       "      <td>28</td>\n",
       "      <td>2012/03/13 00:00:00</td>\n",
       "      <td>607075</td>\n",
       "      <td>125901</td>\n",
       "      <td>VS</td>\n",
       "      <td>6248.0</td>\n",
       "    </tr>\n",
       "    <tr>\n",
       "      <th>252202</th>\n",
       "      <td>5</td>\n",
       "      <td>26.09.15</td>\n",
       "      <td>627775</td>\n",
       "      <td>267992</td>\n",
       "      <td>AG</td>\n",
       "      <td>NaN</td>\n",
       "    </tr>\n",
       "    <tr>\n",
       "      <th>90121</th>\n",
       "      <td>4</td>\n",
       "      <td>2012/09/03 00:00:00</td>\n",
       "      <td>570220</td>\n",
       "      <td>186565</td>\n",
       "      <td>FR</td>\n",
       "      <td>2024.0</td>\n",
       "    </tr>\n",
       "    <tr>\n",
       "      <th>139561</th>\n",
       "      <td>3</td>\n",
       "      <td>2013/08/04 00:00:00</td>\n",
       "      <td>663813</td>\n",
       "      <td>199798</td>\n",
       "      <td>OW</td>\n",
       "      <td>1401.0</td>\n",
       "    </tr>\n",
       "    <tr>\n",
       "      <th>235187</th>\n",
       "      <td>3</td>\n",
       "      <td>07.06.15</td>\n",
       "      <td>747298</td>\n",
       "      <td>159066</td>\n",
       "      <td>GR</td>\n",
       "      <td>NaN</td>\n",
       "    </tr>\n",
       "  </tbody>\n",
       "</table>\n",
       "</div>"
      ],
      "text/plain": [
       "        Getötete                Datum  x-Koordinate  y-Koordinate  \\\n",
       "64358         28  2012/03/13 00:00:00        607075        125901   \n",
       "252202         5             26.09.15        627775        267992   \n",
       "90121          4  2012/09/03 00:00:00        570220        186565   \n",
       "139561         3  2013/08/04 00:00:00        663813        199798   \n",
       "235187         3             07.06.15        747298        159066   \n",
       "\n",
       "       Kanton Kürzel  Aktuelle BFS Gemeinde-Nr  \n",
       "64358             VS                    6248.0  \n",
       "252202            AG                       NaN  \n",
       "90121             FR                    2024.0  \n",
       "139561            OW                    1401.0  \n",
       "235187            GR                       NaN  "
      ]
     },
     "execution_count": 20,
     "metadata": {},
     "output_type": "execute_result"
    }
   ],
   "source": [
    "df_unfaelle.sort_values('Getötete', ascending=False)[['Getötete', 'Datum', 'x-Koordinate', 'y-Koordinate', 'Kanton Kürzel', 'Aktuelle BFS Gemeinde-Nr']].head(5)"
   ]
  },
  {
   "cell_type": "markdown",
   "metadata": {},
   "source": [
    "The most deadly [accident](https://de.wikipedia.org/wiki/Busunfall_im_Sierre-Tunnel) was a bus accident involving mostly school kids from Belgien. And [this one](http://www.zentralplus.ch/de/news/politik/4337876/RheinfeldenAG-5-Tote-bei-Selbstunfall.htm) more recently. "
   ]
  },
  {
   "cell_type": "markdown",
   "metadata": {},
   "source": [
    "**5. How many accidents occured on roads without ligthing? (Maybe even work out an accident hotspot?**"
   ]
  },
  {
   "cell_type": "code",
   "execution_count": 21,
   "metadata": {
    "collapsed": false
   },
   "outputs": [
    {
     "ename": "SyntaxError",
     "evalue": "invalid syntax (<ipython-input-21-d5aee852fb4f>, line 1)",
     "output_type": "error",
     "traceback": [
      "\u001b[0;36m  File \u001b[0;32m\"<ipython-input-21-d5aee852fb4f>\"\u001b[0;36m, line \u001b[0;32m1\u001b[0m\n\u001b[0;31m    Strassenbeleuchtung UAP 640 keine 641 ausser Betrieb\u001b[0m\n\u001b[0m                          ^\u001b[0m\n\u001b[0;31mSyntaxError\u001b[0m\u001b[0;31m:\u001b[0m invalid syntax\n"
     ]
    }
   ],
   "source": [
    "Strassenbeleuchtung UAP 640 keine 641 ausser Betrieb"
   ]
  },
  {
   "cell_type": "code",
   "execution_count": null,
   "metadata": {
    "collapsed": true
   },
   "outputs": [],
   "source": []
  },
  {
   "cell_type": "code",
   "execution_count": null,
   "metadata": {
    "collapsed": false
   },
   "outputs": [],
   "source": [
    "df_unfaelle[(df_unfaelle['Lichtverhältnis UAP'] == 622) & (df_unfaelle['Strassenbeleuchtung UAP'] == 640)]\n",
    "\n",
    "\n",
    "#df[(df['animal'] == 'cat') & (df['inches'] > 12)]\n",
    "\n",
    "#df[df['feet'] > 6.5]"
   ]
  },
  {
   "cell_type": "code",
   "execution_count": null,
   "metadata": {
    "collapsed": false
   },
   "outputs": [],
   "source": [
    "df_unfaelle[(df_unfaelle['Lichtverhältnis UAP'] == 622) & (df_unfaelle['Strassenbeleuchtung UAP'] == 641)]"
   ]
  },
  {
   "cell_type": "markdown",
   "metadata": {},
   "source": [
    "Including the over 1000 locations were the lights were out of order, over 10% of accidents happened in poorly lit locations. "
   ]
  },
  {
   "cell_type": "markdown",
   "metadata": {},
   "source": [
    "** 6. How have drug and alcohol related accidents developed in the past 5 years?**"
   ]
  },
  {
   "cell_type": "markdown",
   "metadata": {},
   "source": [
    "##### ALCOHOL"
   ]
  },
  {
   "cell_type": "code",
   "execution_count": 57,
   "metadata": {
    "collapsed": false
   },
   "outputs": [
    {
     "data": {
      "text/plain": [
       "<matplotlib.axes._subplots.AxesSubplot at 0x11b5d5898>"
      ]
     },
     "execution_count": 57,
     "metadata": {},
     "output_type": "execute_result"
    },
    {
     "data": {
      "image/png": "[encoded data removed]",
      "text/plain": [
       "<matplotlib.figure.Figure at 0x125ca9d30>"
      ]
     },
     "metadata": {},
     "output_type": "display_data"
    }
   ],
   "source": [
    "df_unfaelle[df_unfaelle['Hauptursache UAP'] == 1101].groupby(\"Jahr\")[\"Hauptursache UAP\"].value_counts().plot(kind='bar')"
   ]
  },
  {
   "cell_type": "markdown",
   "metadata": {},
   "source": [
    "#### DRUGS"
   ]
  },
  {
   "cell_type": "code",
   "execution_count": 58,
   "metadata": {
    "collapsed": false
   },
   "outputs": [
    {
     "data": {
      "text/plain": [
       "<matplotlib.axes._subplots.AxesSubplot at 0x125899cf8>"
      ]
     },
     "execution_count": 58,
     "metadata": {},
     "output_type": "execute_result"
    },
    {
     "data": {
      "image/png": "[encoded data removed]",
      "text/plain": [
       "<matplotlib.figure.Figure at 0x125891ba8>"
      ]
     },
     "metadata": {},
     "output_type": "display_data"
    }
   ],
   "source": [
    "df_unfaelle[df_unfaelle['Hauptursache UAP'] == 1102].groupby(\"Jahr\")[\"Hauptursache UAP\"].value_counts().plot(kind='bar')"
   ]
  },
  {
   "cell_type": "markdown",
   "metadata": {},
   "source": [
    "** 7. Combine as much information about breatheliser record as possible.**"
   ]
  },
  {
   "cell_type": "markdown",
   "metadata": {},
   "source": [
    "# MERGING: Look at this again!!!*"
   ]
  },
  {
   "cell_type": "code",
   "execution_count": 78,
   "metadata": {
    "collapsed": false
   },
   "outputs": [
    {
     "name": "stderr",
     "output_type": "stream",
     "text": [
      "/usr/local/lib/python3.5/site-packages/numpy/lib/function_base.py:3823: RuntimeWarning: Invalid value encountered in percentile\n",
      "  RuntimeWarning)\n"
     ]
    },
    {
     "data": {
      "text/plain": [
       "count    115710.000000\n",
       "mean          0.260254\n",
       "std           0.582384\n",
       "min           0.000000\n",
       "25%                NaN\n",
       "50%                NaN\n",
       "75%                NaN\n",
       "max           9.000000\n",
       "Name: Atemtest, dtype: float64"
      ]
     },
     "execution_count": 78,
     "metadata": {},
     "output_type": "execute_result"
    }
   ],
   "source": [
    "df_fahrzeuge[\"Atemtest\"].describe()"
   ]
  },
  {
   "cell_type": "code",
   "execution_count": 103,
   "metadata": {
    "collapsed": false
   },
   "outputs": [],
   "source": [
    "df_fahrzeuge[\"Atemtest\"].value_counts()\n",
    "\n",
    "Alcohol_record = df_fahrzeuge[df_fahrzeuge['Atemtest'] == 9.0]"
   ]
  },
  {
   "cell_type": "code",
   "execution_count": 104,
   "metadata": {
    "collapsed": false
   },
   "outputs": [
    {
     "data": {
      "text/html": [
       "<div>\n",
       "<table border=\"1\" class=\"dataframe\">\n",
       "  <thead>\n",
       "    <tr style=\"text-align: right;\">\n",
       "      <th></th>\n",
       "      <th>BUM Probe angeordnet UAP</th>\n",
       "      <th>Blutalkoholtest</th>\n",
       "      <th>Datum</th>\n",
       "      <th>Vertrautheit Strecke UAP</th>\n",
       "      <th>Kennzeichen Fahrzeug Kanton</th>\n",
       "    </tr>\n",
       "  </thead>\n",
       "  <tbody>\n",
       "    <tr>\n",
       "      <th>15936</th>\n",
       "      <td>901</td>\n",
       "      <td>NaN</td>\n",
       "      <td>2011/01/05 00:00:00</td>\n",
       "      <td>830</td>\n",
       "      <td>Waadt</td>\n",
       "    </tr>\n",
       "  </tbody>\n",
       "</table>\n",
       "</div>"
      ],
      "text/plain": [
       "       BUM Probe angeordnet UAP  Blutalkoholtest                Datum  \\\n",
       "15936                       901              NaN  2011/01/05 00:00:00   \n",
       "\n",
       "       Vertrautheit Strecke UAP Kennzeichen Fahrzeug Kanton  \n",
       "15936                       830                       Waadt  "
      ]
     },
     "execution_count": 104,
     "metadata": {},
     "output_type": "execute_result"
    }
   ],
   "source": [
    "Alcohol_record[['BUM Probe angeordnet UAP', 'Blutalkoholtest', 'Datum', 'Vertrautheit Strecke UAP', 'Kennzeichen Fahrzeug Kanton']]"
   ]
  },
  {
   "cell_type": "code",
   "execution_count": 107,
   "metadata": {
    "collapsed": true
   },
   "outputs": [],
   "source": [
    "df_merged = df_personen.merge(df_fahrzeuge, how = 'left', left_on = 'Unfall-UID', right_on ='Unfall-UID')"
   ]
  },
  {
   "cell_type": "code",
   "execution_count": 108,
   "metadata": {
    "collapsed": false
   },
   "outputs": [],
   "source": [
    "df = df_merged.merge(df_unfaelle, how = 'left', left_on = 'Unfall-UID', right_on ='Unfall-UID')"
   ]
  },
  {
   "cell_type": "code",
   "execution_count": null,
   "metadata": {
    "collapsed": true
   },
   "outputs": [],
   "source": []
  },
  {
   "cell_type": "code",
   "execution_count": null,
   "metadata": {
    "collapsed": true
   },
   "outputs": [],
   "source": []
  },
  {
   "cell_type": "code",
   "execution_count": null,
   "metadata": {
    "collapsed": true
   },
   "outputs": [],
   "source": []
  },
  {
   "cell_type": "code",
   "execution_count": 70,
   "metadata": {
    "collapsed": false
   },
   "outputs": [
    {
     "name": "stdout",
     "output_type": "stream",
     "text": [
      "<class 'pandas.core.frame.DataFrame'>\n",
      "RangeIndex: 442007 entries, 0 to 442006\n",
      "Data columns (total 48 columns):\n",
      "Abblend-/Tagfahrlicht UAP                   408604 non-null float64\n",
      "Ablenkung UAP                               442007 non-null int64\n",
      "Angabe Führerausweis UAP                    428646 non-null float64\n",
      "Angabe Führerausweis Zusatz UAP             22133 non-null object\n",
      "Angaben Fahrzeug UAP                        162825 non-null object\n",
      "Anhänger / Auflieger UAP                    417774 non-null float64\n",
      "Anprall UAP                                 106171 non-null object\n",
      "Atemtest                                    115710 non-null float64\n",
      "BUM Probe angeordnet UAP                    442007 non-null int64\n",
      "BUM Probe angeordnet Zusatz UAP             194 non-null object\n",
      "Bauartbedingte Höchstgeschwindigkeit UAP    395153 non-null float64\n",
      "Blutalkoholtest                             19394 non-null float64\n",
      "Blutprobe Alkohol angeordnet UAP            442007 non-null int64\n",
      "Blutprobe Alkohol angeordnet Zusatz UAP     1169 non-null object\n",
      "Datum                                       442007 non-null object\n",
      "Eigentumsverhältnis UAP                     428727 non-null float64\n",
      "Fahrzeugart UAP                             428754 non-null object\n",
      "Fahrzeugart Zusatz UAP                      1410 non-null object\n",
      "Fahrzweck UAP                               442007 non-null int64\n",
      "Führerausweis Kategorie                     373702 non-null object\n",
      "Führerausweis Land UAP                      423208 non-null object\n",
      "Führerausweis seit                          372490 non-null object\n",
      "Getötete                                    442007 non-null int64\n",
      "Hauptverursacher UAP                        442007 non-null int64\n",
      "Jahr                                        442007 non-null int64\n",
      "Kennzeichen Fahrzeug Kanton                 348204 non-null object\n",
      "Kennzeichen Fahrzeug Land UAP               427616 non-null object\n",
      "Kennzeichenart UAP                          411540 non-null float64\n",
      "Leichtverletzte                             442007 non-null int64\n",
      "Lenker UAP                                  428754 non-null float64\n",
      "Meldepflicht UAP                            55762 non-null object\n",
      "Objekt-Kategorie UAP                        442007 non-null int64\n",
      "Objekt-Nr                                   442007 non-null object\n",
      "Objekt-UID                                  442007 non-null object\n",
      "Schwerverletzte                             442007 non-null int64\n",
      "Total Personen                              442007 non-null int64\n",
      "Unfall-UID                                  442007 non-null object\n",
      "Ursache 1 UAP                               286988 non-null float64\n",
      "Ursache 2 UAP                               80336 non-null float64\n",
      "Ursache 3 UAP                               14747 non-null float64\n",
      "Verdacht Alkohol UAP                        423200 non-null float64\n",
      "Verdacht Betäubungsmittel UAP               438622 non-null float64\n",
      "Verdacht Betäubungsmittel Zusatz UAP        1531 non-null object\n",
      "Verdacht Betääubungsmittel Zusatz UAP       404 non-null object\n",
      "Verdacht auf Arzneimittel UAP               438659 non-null float64\n",
      "Verdacht auf Arzneimittel Zusatz UAP        1030 non-null object\n",
      "Vertrautheit Strecke UAP                    442007 non-null int64\n",
      "unverletzte Personen                        442007 non-null int64\n",
      "dtypes: float64(15), int64(13), object(20)\n",
      "memory usage: 161.9+ MB\n"
     ]
    }
   ],
   "source": [
    "df_fahrzeuge.info()"
   ]
  },
  {
   "cell_type": "code",
   "execution_count": 68,
   "metadata": {
    "collapsed": false
   },
   "outputs": [
    {
     "name": "stdout",
     "output_type": "stream",
     "text": [
      "<class 'pandas.core.frame.DataFrame'>\n",
      "RangeIndex: 266483 entries, 0 to 266482\n",
      "Data columns (total 42 columns):\n",
      "Aktuelle BFS Gemeinde-Nr                       213248 non-null float64\n",
      "Bahnübergang UAP                               266483 non-null int64\n",
      "Bahnübergang Zusatz UAP                        287 non-null object\n",
      "Datum                                          266483 non-null object\n",
      "Getötete                                       266483 non-null int64\n",
      "Hauptursache UAP                               266483 non-null int64\n",
      "Höchstgeschwindigkeit                          266483 non-null int64\n",
      "Höchstgeschwindigkeit Zusatz UAP               6364 non-null object\n",
      "Innerorts / Ausserorts UAP                     266483 non-null int64\n",
      "Jahr                                           266483 non-null int64\n",
      "Kanton Kürzel                                  266483 non-null object\n",
      "Leichtverletzte                                266483 non-null int64\n",
      "Lichtverhältnis UAP                            266483 non-null int64\n",
      "Schwerverletzte                                266483 non-null int64\n",
      "Sicht UAP                                      266483 non-null int64\n",
      "Strassenanlage UAP                             266483 non-null int64\n",
      "Strassenanlage Zusatz UAP                      12218 non-null object\n",
      "Strassenart UAP                                266483 non-null int64\n",
      "Strassenart Zusatz UAP                         8807 non-null object\n",
      "Strassenbeleuchtung UAP                        266483 non-null int64\n",
      "Strassenkategorie                              266483 non-null object\n",
      "Strassenzustand UAP                            266483 non-null int64\n",
      "Strassenzustand Zusatz UAP                     1770 non-null object\n",
      "Total Objekte                                  266483 non-null int64\n",
      "Total Personen                                 266483 non-null int64\n",
      "Total geschätzter Sachschaden (in 1000 CHF)    266482 non-null float64\n",
      "Unfall-UID                                     266483 non-null object\n",
      "Unfallstelle UAP                               266483 non-null int64\n",
      "Unfallstelle Zusatz UAP                        56871 non-null object\n",
      "Unfalltyp UAP                                  266483 non-null int64\n",
      "Unfallzeit                                     266483 non-null object\n",
      "Verkehrsbedingungen UAP                        266483 non-null int64\n",
      "Verkehrsregelung UAP                           266483 non-null int64\n",
      "Verkehrsregelung Zusatz UAP                    179 non-null object\n",
      "Vortrittsregelung UAP                          266483 non-null int64\n",
      "Witterung UAP                                  266483 non-null int64\n",
      "Witterung Zusatz UAP                           4828 non-null object\n",
      "Wochentag-Nr                                   266483 non-null int64\n",
      "Zonensignalisation UAP                         266483 non-null int64\n",
      "unverletzte Personen                           266483 non-null int64\n",
      "x-Koordinate                                   266483 non-null int64\n",
      "y-Koordinate                                   266483 non-null int64\n",
      "dtypes: float64(2), int64(27), object(13)\n",
      "memory usage: 85.4+ MB\n"
     ]
    }
   ],
   "source": [
    "df_unfaelle.info()"
   ]
  },
  {
   "cell_type": "code",
   "execution_count": 69,
   "metadata": {
    "collapsed": false
   },
   "outputs": [
    {
     "name": "stdout",
     "output_type": "stream",
     "text": [
      "<class 'pandas.core.frame.DataFrame'>\n",
      "RangeIndex: 550892 entries, 0 to 550891\n",
      "Data columns (total 15 columns):\n",
      "Jahr                       550892 non-null int64\n",
      "Datum                      550892 non-null object\n",
      "Unfall-UID                 550892 non-null object\n",
      "Objekt-UID                 550892 non-null object\n",
      "Objekt-Nr                  550892 non-null object\n",
      "Person-UID                 550892 non-null object\n",
      "Person-Nr                  550892 non-null int64\n",
      "Geschlecht UAP             550892 non-null int64\n",
      "Alter                      550892 non-null object\n",
      "Führerausweisalter         550892 non-null object\n",
      "Personenart UAP            550892 non-null int64\n",
      "Personenart Zusatz UAP     229669 non-null object\n",
      "Unfallfolgen UAP           550892 non-null int64\n",
      "Schutzsystem UAP           550892 non-null int64\n",
      "Schutzsystem Zusatz UAP    28730 non-null object\n",
      "dtypes: int64(6), object(9)\n",
      "memory usage: 63.0+ MB\n"
     ]
    }
   ],
   "source": [
    "df_personen.info()"
   ]
  }
 ],
 "metadata": {
  "kernelspec": {
   "display_name": "Python 3",
   "language": "python",
   "name": "python3"
  },
  "language_info": {
   "codemirror_mode": {
    "name": "ipython",
    "version": 3
   },
   "file_extension": ".py",
   "mimetype": "text/x-python",
   "name": "python",
   "nbconvert_exporter": "python",
   "pygments_lexer": "ipython3",
   "version": "3.5.1"
  }
 },
 "nbformat": 4,
 "nbformat_minor": 0
}
