{
 "cells": [
  {
   "cell_type": "markdown",
   "metadata": {},
   "source": [
    "# Exploring the H-2B Visa Programme\n",
    "\n",
    "H-2B visas are nonimmigrant visas, which allow foreign nationals to enter the U.S. temporarily and engage in nonagricultural employment which is seasonal, intermittent, a peak load need, or a one-time occurrence.\n",
    "\n",
    "**Summary** It turns out that Texas has the highest need for foreign unskilled employees. However, it is a Salmon farm  in Alaska that has requested the most and only offering them a wage of 10$ an hour."
   ]
  },
  {
   "cell_type": "code",
   "execution_count": 296,
   "metadata": {
    "collapsed": true
   },
   "outputs": [],
   "source": [
    "import pandas as pd\n",
    "import matplotlib.pyplot as plt\n",
    "%matplotlib inline"
   ]
  },
  {
   "cell_type": "code",
   "execution_count": 297,
   "metadata": {
    "collapsed": true
   },
   "outputs": [],
   "source": [
    "df = pd.read_excel(\"H-2B_Disclosure_Data_FY15_Q4.xlsx\")"
   ]
  },
  {
   "cell_type": "code",
   "execution_count": 298,
   "metadata": {
    "collapsed": false
   },
   "outputs": [
    {
     "data": {
      "text/html": [
       "<div>\n",
       "<table border=\"1\" class=\"dataframe\">\n",
       "  <thead>\n",
       "    <tr style=\"text-align: right;\">\n",
       "      <th></th>\n",
       "      <th>CASE_NUMBER</th>\n",
       "      <th>DECISION_DATE</th>\n",
       "      <th>VISA_CLASS</th>\n",
       "      <th>NPC_SUBMITTED_DATE</th>\n",
       "      <th>CASE_STATUS</th>\n",
       "      <th>CERTIFICATION_BEGIN_DATE</th>\n",
       "      <th>CERTIFICATION_END_DATE</th>\n",
       "      <th>EMPLOYER_NAME</th>\n",
       "      <th>EMPLOYER_ADDRESS1</th>\n",
       "      <th>EMPLOYER_ADDRESS2</th>\n",
       "      <th>...</th>\n",
       "      <th>NAME_REQD_TRAINING</th>\n",
       "      <th>EMP_EXPERIENCE_REQD</th>\n",
       "      <th>EMP_EXP_NUM_MONTHS</th>\n",
       "      <th>WORKSITE_CITY</th>\n",
       "      <th>WORKSITE_STATE</th>\n",
       "      <th>WORKSITE_POSTAL_CODE</th>\n",
       "      <th>OTHER_WORKSITE_LOCATION</th>\n",
       "      <th>SWA_NAME</th>\n",
       "      <th>JOB_IDNUMBER</th>\n",
       "      <th>JOB_START_DATE</th>\n",
       "    </tr>\n",
       "  </thead>\n",
       "  <tbody>\n",
       "    <tr>\n",
       "      <th>0</th>\n",
       "      <td>H-400-13270-851270</td>\n",
       "      <td>2014-12-22</td>\n",
       "      <td>H-2B</td>\n",
       "      <td>2014-12-08</td>\n",
       "      <td>Certification</td>\n",
       "      <td>2014-12-22</td>\n",
       "      <td>2015-05-31</td>\n",
       "      <td>Khan Enterprises, LLC</td>\n",
       "      <td>109 N. Highway 14-16</td>\n",
       "      <td>NaN</td>\n",
       "      <td>...</td>\n",
       "      <td>NaN</td>\n",
       "      <td>N</td>\n",
       "      <td>NaN</td>\n",
       "      <td>Gillette</td>\n",
       "      <td>WY</td>\n",
       "      <td>82716</td>\n",
       "      <td>N</td>\n",
       "      <td>Wyoming at Work</td>\n",
       "      <td>2564577</td>\n",
       "      <td>9/8/2014</td>\n",
       "    </tr>\n",
       "    <tr>\n",
       "      <th>1</th>\n",
       "      <td>H-400-13297-679503</td>\n",
       "      <td>2015-03-24</td>\n",
       "      <td>H-2B</td>\n",
       "      <td>2015-02-18</td>\n",
       "      <td>Certification</td>\n",
       "      <td>2015-04-01</td>\n",
       "      <td>2015-10-15</td>\n",
       "      <td>EDD, LLC</td>\n",
       "      <td>489 A DEANNA LANE</td>\n",
       "      <td>NaN</td>\n",
       "      <td>...</td>\n",
       "      <td>NaN</td>\n",
       "      <td>Y</td>\n",
       "      <td>1.0</td>\n",
       "      <td>CHARLESTON</td>\n",
       "      <td>SC</td>\n",
       "      <td>29492</td>\n",
       "      <td>Y</td>\n",
       "      <td>SC Works Charleston SC Center</td>\n",
       "      <td>604182</td>\n",
       "      <td>2/6/2015</td>\n",
       "    </tr>\n",
       "    <tr>\n",
       "      <th>2</th>\n",
       "      <td>H-400-13310-940709</td>\n",
       "      <td>2015-01-23</td>\n",
       "      <td>H-2B</td>\n",
       "      <td>2015-01-06</td>\n",
       "      <td>Partial Certification</td>\n",
       "      <td>2015-04-01</td>\n",
       "      <td>2015-12-15</td>\n",
       "      <td>Brown's New Life Services LLC</td>\n",
       "      <td>P. O. Box 734, Stuarts Draft, VA 24477  (mailing)</td>\n",
       "      <td>85 Shoffner Lane (physical)</td>\n",
       "      <td>...</td>\n",
       "      <td>NaN</td>\n",
       "      <td>N</td>\n",
       "      <td>NaN</td>\n",
       "      <td>NaN</td>\n",
       "      <td>VA</td>\n",
       "      <td>NaN</td>\n",
       "      <td>NaN</td>\n",
       "      <td>VEC - Fishersville</td>\n",
       "      <td>507944</td>\n",
       "      <td>12/3/2014</td>\n",
       "    </tr>\n",
       "    <tr>\n",
       "      <th>3</th>\n",
       "      <td>H-400-13311-887843</td>\n",
       "      <td>2015-01-27</td>\n",
       "      <td>H-2B</td>\n",
       "      <td>2015-01-13</td>\n",
       "      <td>Certification</td>\n",
       "      <td>2015-04-01</td>\n",
       "      <td>2015-11-20</td>\n",
       "      <td>UNITED SOCCER ACADEMY, INC.</td>\n",
       "      <td>12 MAIDEN LANE, SUITE 1</td>\n",
       "      <td>NaN</td>\n",
       "      <td>...</td>\n",
       "      <td>NaN</td>\n",
       "      <td>Y</td>\n",
       "      <td>24.0</td>\n",
       "      <td>NaN</td>\n",
       "      <td>NJ</td>\n",
       "      <td>NaN</td>\n",
       "      <td>NaN</td>\n",
       "      <td>Jobs4Jersey.com</td>\n",
       "      <td>125428</td>\n",
       "      <td>12/11/2014</td>\n",
       "    </tr>\n",
       "    <tr>\n",
       "      <th>4</th>\n",
       "      <td>H-400-13336-700772</td>\n",
       "      <td>2015-05-28</td>\n",
       "      <td>H-2B</td>\n",
       "      <td>2014-12-10</td>\n",
       "      <td>Withdrawn</td>\n",
       "      <td>2014-03-15</td>\n",
       "      <td>2014-12-15</td>\n",
       "      <td>LAWNS PLUS LLC</td>\n",
       "      <td>26242 EAST 121ST STREET</td>\n",
       "      <td>26242 EAST 121ST STREET</td>\n",
       "      <td>...</td>\n",
       "      <td>NaN</td>\n",
       "      <td>N</td>\n",
       "      <td>NaN</td>\n",
       "      <td>NaN</td>\n",
       "      <td>OK</td>\n",
       "      <td>NaN</td>\n",
       "      <td>NaN</td>\n",
       "      <td>OESC</td>\n",
       "      <td>1004311</td>\n",
       "      <td>11/15/2014</td>\n",
       "    </tr>\n",
       "  </tbody>\n",
       "</table>\n",
       "<p>5 rows × 56 columns</p>\n",
       "</div>"
      ],
      "text/plain": [
       "          CASE_NUMBER DECISION_DATE VISA_CLASS NPC_SUBMITTED_DATE  \\\n",
       "0  H-400-13270-851270    2014-12-22       H-2B         2014-12-08   \n",
       "1  H-400-13297-679503    2015-03-24       H-2B         2015-02-18   \n",
       "2  H-400-13310-940709    2015-01-23       H-2B         2015-01-06   \n",
       "3  H-400-13311-887843    2015-01-27       H-2B         2015-01-13   \n",
       "4  H-400-13336-700772    2015-05-28       H-2B         2014-12-10   \n",
       "\n",
       "             CASE_STATUS CERTIFICATION_BEGIN_DATE CERTIFICATION_END_DATE  \\\n",
       "0          Certification               2014-12-22             2015-05-31   \n",
       "1          Certification               2015-04-01             2015-10-15   \n",
       "2  Partial Certification               2015-04-01             2015-12-15   \n",
       "3          Certification               2015-04-01             2015-11-20   \n",
       "4              Withdrawn               2014-03-15             2014-12-15   \n",
       "\n",
       "                   EMPLOYER_NAME  \\\n",
       "0          Khan Enterprises, LLC   \n",
       "1                       EDD, LLC   \n",
       "2  Brown's New Life Services LLC   \n",
       "3    UNITED SOCCER ACADEMY, INC.   \n",
       "4                 LAWNS PLUS LLC   \n",
       "\n",
       "                                   EMPLOYER_ADDRESS1  \\\n",
       "0                               109 N. Highway 14-16   \n",
       "1                                  489 A DEANNA LANE   \n",
       "2  P. O. Box 734, Stuarts Draft, VA 24477  (mailing)   \n",
       "3                            12 MAIDEN LANE, SUITE 1   \n",
       "4                            26242 EAST 121ST STREET   \n",
       "\n",
       "             EMPLOYER_ADDRESS2      ...       NAME_REQD_TRAINING  \\\n",
       "0                          NaN      ...                      NaN   \n",
       "1                          NaN      ...                      NaN   \n",
       "2  85 Shoffner Lane (physical)      ...                      NaN   \n",
       "3                          NaN      ...                      NaN   \n",
       "4      26242 EAST 121ST STREET      ...                      NaN   \n",
       "\n",
       "  EMP_EXPERIENCE_REQD EMP_EXP_NUM_MONTHS WORKSITE_CITY WORKSITE_STATE  \\\n",
       "0                   N                NaN      Gillette             WY   \n",
       "1                   Y                1.0    CHARLESTON             SC   \n",
       "2                   N                NaN           NaN             VA   \n",
       "3                   Y               24.0           NaN             NJ   \n",
       "4                   N                NaN           NaN             OK   \n",
       "\n",
       "  WORKSITE_POSTAL_CODE  OTHER_WORKSITE_LOCATION  \\\n",
       "0                82716                        N   \n",
       "1                29492                        Y   \n",
       "2                  NaN                      NaN   \n",
       "3                  NaN                      NaN   \n",
       "4                  NaN                      NaN   \n",
       "\n",
       "                        SWA_NAME JOB_IDNUMBER JOB_START_DATE  \n",
       "0                Wyoming at Work      2564577       9/8/2014  \n",
       "1  SC Works Charleston SC Center       604182       2/6/2015  \n",
       "2             VEC - Fishersville       507944      12/3/2014  \n",
       "3                Jobs4Jersey.com       125428     12/11/2014  \n",
       "4                           OESC      1004311     11/15/2014  \n",
       "\n",
       "[5 rows x 56 columns]"
      ]
     },
     "execution_count": 298,
     "metadata": {},
     "output_type": "execute_result"
    }
   ],
   "source": [
    "df.head()"
   ]
  },
  {
   "cell_type": "code",
   "execution_count": 299,
   "metadata": {
    "collapsed": false
   },
   "outputs": [],
   "source": [
    "#df.info()"
   ]
  },
  {
   "cell_type": "markdown",
   "metadata": {},
   "source": [
    "**1. How many requests did the Office of Foreign Labor Certification (OFLC) receive in 2015?**"
   ]
  },
  {
   "cell_type": "code",
   "execution_count": 300,
   "metadata": {
    "collapsed": false
   },
   "outputs": [
    {
     "data": {
      "text/plain": [
       "6521"
      ]
     },
     "execution_count": 300,
     "metadata": {},
     "output_type": "execute_result"
    }
   ],
   "source": [
    "df['CASE_NUMBER'].count()"
   ]
  },
  {
   "cell_type": "markdown",
   "metadata": {},
   "source": [
    "**2. How many jobs did that regard in total? And how many full time positions?**"
   ]
  },
  {
   "cell_type": "code",
   "execution_count": 301,
   "metadata": {
    "collapsed": false
   },
   "outputs": [
    {
     "data": {
      "text/plain": [
       "126138"
      ]
     },
     "execution_count": 301,
     "metadata": {},
     "output_type": "execute_result"
    }
   ],
   "source": [
    "df['NBR_WORKERS_REQUESTED'].sum()"
   ]
  },
  {
   "cell_type": "code",
   "execution_count": 302,
   "metadata": {
    "collapsed": false
   },
   "outputs": [
    {
     "data": {
      "text/plain": [
       "FULL_TIME_POSITION\n",
       "N       287\n",
       "Y    125794\n",
       "Name: NBR_WORKERS_REQUESTED, dtype: int64"
      ]
     },
     "execution_count": 302,
     "metadata": {},
     "output_type": "execute_result"
    }
   ],
   "source": [
    "df.groupby('FULL_TIME_POSITION')['NBR_WORKERS_REQUESTED'].sum()"
   ]
  },
  {
   "cell_type": "markdown",
   "metadata": {},
   "source": [
    "**3. How many jobs did the ETA National Processing Center actually certify?**"
   ]
  },
  {
   "cell_type": "code",
   "execution_count": 303,
   "metadata": {
    "collapsed": false
   },
   "outputs": [
    {
     "data": {
      "text/plain": [
       "101765"
      ]
     },
     "execution_count": 303,
     "metadata": {},
     "output_type": "execute_result"
    }
   ],
   "source": [
    "df['NBR_WORKERS_CERTIFIED'].sum()"
   ]
  },
  {
   "cell_type": "code",
   "execution_count": 304,
   "metadata": {
    "collapsed": false
   },
   "outputs": [
    {
     "data": {
      "text/plain": [
       "FULL_TIME_POSITION\n",
       "N         0\n",
       "Y    101740\n",
       "Name: NBR_WORKERS_CERTIFIED, dtype: int64"
      ]
     },
     "execution_count": 304,
     "metadata": {},
     "output_type": "execute_result"
    }
   ],
   "source": [
    "df.groupby('FULL_TIME_POSITION')['NBR_WORKERS_CERTIFIED'].sum()"
   ]
  },
  {
   "cell_type": "markdown",
   "metadata": {},
   "source": [
    "**4. What was the average pay? "
   ]
  },
  {
   "cell_type": "code",
   "execution_count": 305,
   "metadata": {
    "collapsed": false
   },
   "outputs": [
    {
     "ename": "AttributeError",
     "evalue": "'SeriesGroupBy' object has no attribute 'demean'",
     "output_type": "error",
     "traceback": [
      "\u001b[0;31m---------------------------------------------------------------------------\u001b[0m",
      "\u001b[0;31mAttributeError\u001b[0m                            Traceback (most recent call last)",
      "\u001b[0;32m<ipython-input-305-e1ecde9123f4>\u001b[0m in \u001b[0;36m<module>\u001b[0;34m()\u001b[0m\n\u001b[0;32m----> 1\u001b[0;31m \u001b[0mdf\u001b[0m\u001b[0;34m.\u001b[0m\u001b[0mgroupby\u001b[0m\u001b[0;34m(\u001b[0m\u001b[0;34m'BASIC_UNIT_OF_PAY'\u001b[0m\u001b[0;34m)\u001b[0m\u001b[0;34m[\u001b[0m\u001b[0;34m'PREVAILING_WAGE'\u001b[0m\u001b[0;34m]\u001b[0m\u001b[0;34m.\u001b[0m\u001b[0mdemean\u001b[0m\u001b[0;34m(\u001b[0m\u001b[0;34m)\u001b[0m\u001b[0;34m\u001b[0m\u001b[0m\n\u001b[0m",
      "\u001b[0;32m/usr/local/lib/python3.5/site-packages/pandas/core/groupby.py\u001b[0m in \u001b[0;36m__getattr__\u001b[0;34m(self, attr)\u001b[0m\n\u001b[1;32m    496\u001b[0m \u001b[0;34m\u001b[0m\u001b[0m\n\u001b[1;32m    497\u001b[0m         raise AttributeError(\"%r object has no attribute %r\" %\n\u001b[0;32m--> 498\u001b[0;31m                              (type(self).__name__, attr))\n\u001b[0m\u001b[1;32m    499\u001b[0m \u001b[0;34m\u001b[0m\u001b[0m\n\u001b[1;32m    500\u001b[0m     \u001b[0mplot\u001b[0m \u001b[0;34m=\u001b[0m \u001b[0mproperty\u001b[0m\u001b[0;34m(\u001b[0m\u001b[0mGroupByPlot\u001b[0m\u001b[0;34m)\u001b[0m\u001b[0;34m\u001b[0m\u001b[0m\n",
      "\u001b[0;31mAttributeError\u001b[0m: 'SeriesGroupBy' object has no attribute 'demean'"
     ]
    }
   ],
   "source": [
    "df.groupby('BASIC_UNIT_OF_PAY')['PREVAILING_WAGE'].demean()"
   ]
  },
  {
   "cell_type": "code",
   "execution_count": null,
   "metadata": {
    "collapsed": false
   },
   "outputs": [],
   "source": [
    "df.groupby('BASIC_UNIT_OF_PAY')['BASIC_UNIT_OF_PAY'].count()"
   ]
  },
  {
   "cell_type": "markdown",
   "metadata": {},
   "source": [
    "The majority of the jobs are payed hourly at an average rate of 12.65 $ an hour."
   ]
  },
  {
   "cell_type": "markdown",
   "metadata": {},
   "source": [
    "** 5. Who earned the least? And where are these people actually doing? **"
   ]
  },
  {
   "cell_type": "code",
   "execution_count": null,
   "metadata": {
    "collapsed": false
   },
   "outputs": [],
   "source": [
    "worst_wage = df[df['BASIC_UNIT_OF_PAY'] == 'Hour'].sort_values(by='PREVAILING_WAGE', ascending=True).head()"
   ]
  },
  {
   "cell_type": "markdown",
   "metadata": {},
   "source": [
    "This table displays the lowest payed jobs for which no workers were certified."
   ]
  },
  {
   "cell_type": "code",
   "execution_count": null,
   "metadata": {
    "collapsed": false
   },
   "outputs": [],
   "source": [
    "worst_wage[['BASIC_UNIT_OF_PAY', 'PREVAILING_WAGE', 'EMPLOYER_NAME', 'JOB_TITLE', 'WORKSITE_CITY', 'NBR_WORKERS_REQUESTED', 'NBR_WORKERS_CERTIFIED']]\n"
   ]
  },
  {
   "cell_type": "code",
   "execution_count": null,
   "metadata": {
    "collapsed": false
   },
   "outputs": [],
   "source": [
    "lowest_wages_accepted = df[df['NBR_WORKERS_CERTIFIED'] != 0].sort_values(by='PREVAILING_WAGE', ascending=True).head()"
   ]
  },
  {
   "cell_type": "markdown",
   "metadata": {},
   "source": [
    "And this table shows that landscape laborers are the ones that are earning the least."
   ]
  },
  {
   "cell_type": "code",
   "execution_count": null,
   "metadata": {
    "collapsed": false
   },
   "outputs": [],
   "source": [
    "lowest_wages_accepted[['BASIC_UNIT_OF_PAY', 'PREVAILING_WAGE', 'EMPLOYER_NAME', 'JOB_TITLE', 'WORKSITE_CITY', 'NBR_WORKERS_REQUESTED', 'NBR_WORKERS_CERTIFIED']]"
   ]
  },
  {
   "cell_type": "markdown",
   "metadata": {},
   "source": [
    "**6. What was the most common unit of pay (daily, weekly, monthly)?**"
   ]
  },
  {
   "cell_type": "code",
   "execution_count": null,
   "metadata": {
    "collapsed": false
   },
   "outputs": [],
   "source": [
    "df.groupby('BASIC_UNIT_OF_PAY')['BASIC_UNIT_OF_PAY'].count()"
   ]
  },
  {
   "cell_type": "markdown",
   "metadata": {},
   "source": [
    "**7. Work our total pay amount payed to H-2B laborers?**"
   ]
  },
  {
   "cell_type": "code",
   "execution_count": null,
   "metadata": {
    "collapsed": false
   },
   "outputs": [],
   "source": [
    "#df.groupby('BASIC_UNIT_OF_PAY')['PREVAILING_WAGE'].describe()\n",
    "#df.groupby('PREVAILING_WAGE').count()"
   ]
  },
  {
   "cell_type": "markdown",
   "metadata": {},
   "source": [
    "**Approx.** ####Count * Mean (Year, Week, Month, Hour(8)(33 Million, Bi-Weekly (180'000)#### 40 million $."
   ]
  },
  {
   "cell_type": "markdown",
   "metadata": {},
   "source": [
    "**8. Were there any foreign companies hiring foreign workers in the US? If yes, work out averages by nation.**"
   ]
  },
  {
   "cell_type": "code",
   "execution_count": null,
   "metadata": {
    "collapsed": false
   },
   "outputs": [],
   "source": [
    "df.groupby('EMPLOYER_COUNTRY')['EMPLOYER_COUNTRY'].count()"
   ]
  },
  {
   "cell_type": "markdown",
   "metadata": {},
   "source": [
    "**9. Most common job title. Graph this.**"
   ]
  },
  {
   "cell_type": "code",
   "execution_count": null,
   "metadata": {
    "collapsed": false
   },
   "outputs": [],
   "source": [
    "#x = df.groupby('JOB_TITLE')['JOB_TITLE'].value_counts()\n",
    "df['JOB_TITLE'].value_counts().head(10)"
   ]
  },
  {
   "cell_type": "code",
   "execution_count": null,
   "metadata": {
    "collapsed": false
   },
   "outputs": [],
   "source": [
    "plt.style.use('ggplot')\n",
    "df['JOB_TITLE'].value_counts(ascending=True).tail(10).plot(kind='barh')\n",
    "plt.savefig(\"Top_Jobs.svg\")"
   ]
  },
  {
   "cell_type": "code",
   "execution_count": null,
   "metadata": {
    "collapsed": true
   },
   "outputs": [],
   "source": [
    "##Is there an efficient way for Pandas to clean the data? Merge \"Landscape Laborer\" with \"LANDSCAPE LABORER\" etc.?"
   ]
  },
  {
   "cell_type": "markdown",
   "metadata": {},
   "source": [
    "**10. Which US states have the largest need for unskilled workers? Make a graph of this.**"
   ]
  },
  {
   "cell_type": "code",
   "execution_count": null,
   "metadata": {
    "collapsed": false
   },
   "outputs": [],
   "source": [
    "#x = df['EMPLOYER_STATE'].value_counts(ascending=False).head(10) * df['NBR_WORKERS_REQUESTED'].sum()\n",
    "df['EMPLOYER_STATE'].value_counts(ascending=False).head(10).plot(kind='bar')\n",
    "plt.savefig(\"semand_in_states.svg\")"
   ]
  },
  {
   "cell_type": "code",
   "execution_count": null,
   "metadata": {
    "collapsed": false
   },
   "outputs": [],
   "source": [
    "#x = df['EMPLOYER_STATE'].value_counts(ascending=False).head(10) * df['NBR_WORKERS_REQUESTED'].sum()\n",
    "df['EMPLOYER_STATE'].value_counts(ascending=True).head(10).plot(kind='bar')\n",
    "plt.savefig(\"demand_in_states.svg\")"
   ]
  },
  {
   "cell_type": "code",
   "execution_count": null,
   "metadata": {
    "collapsed": false
   },
   "outputs": [],
   "source": [
    "Workers_in_state_count = df.groupby('EMPLOYER_STATE')['NBR_WORKERS_REQUESTED'].sum()\n",
    "Workers_in_state_count.sort_values(ascending=True).tail(10).plot(kind='barh', legend='NBR_WORKERS_REQUESTED')\n",
    "plt.savefig(\"workers_requestet_in_states.svg\")"
   ]
  },
  {
   "cell_type": "markdown",
   "metadata": {},
   "source": [
    "**11. Which industries had the largest need?**"
   ]
  },
  {
   "cell_type": "code",
   "execution_count": null,
   "metadata": {
    "collapsed": true
   },
   "outputs": [],
   "source": [
    "#changing df['NAIC_CODE'] from non_null object into int"
   ]
  },
  {
   "cell_type": "code",
   "execution_count": null,
   "metadata": {
    "collapsed": false
   },
   "outputs": [],
   "source": [
    "#This .fillna(0.0) is magic. I found it here: \n",
    "#http://stackoverflow.com/questions/21291259/convert-floats-to-ints-in-pandas\n",
    "#df['NAIC_CODE'] = df['NAIC_CODE'].fillna(0.0).astype(int)\n",
    "#But it turns out, it only works for my one fill. Not on the other. Why?"
   ]
  },
  {
   "cell_type": "markdown",
   "metadata": {},
   "source": [
    "Importing the NAIC_Codes from [here](http://www.census.gov/cgi-bin/sssd/naics/naicsrch?chart=2012)."
   ]
  },
  {
   "cell_type": "code",
   "execution_count": null,
   "metadata": {
    "collapsed": true
   },
   "outputs": [],
   "source": [
    "NAIC_CODEs = pd.read_excel(\"6-digit_2012_Code.xls\")"
   ]
  },
  {
   "cell_type": "code",
   "execution_count": null,
   "metadata": {
    "collapsed": false
   },
   "outputs": [],
   "source": [
    "NAIC_CODEs.info()"
   ]
  },
  {
   "cell_type": "code",
   "execution_count": null,
   "metadata": {
    "collapsed": true
   },
   "outputs": [],
   "source": [
    "#Changing the NAIC_Codesfrom non-null object into float64"
   ]
  },
  {
   "cell_type": "code",
   "execution_count": null,
   "metadata": {
    "collapsed": false
   },
   "outputs": [],
   "source": [
    "#NAIC_CODEs['NAICS12'] = df['NAIC_CODE'].fillna(0.0).astype(int)"
   ]
  },
  {
   "cell_type": "code",
   "execution_count": null,
   "metadata": {
    "collapsed": false
   },
   "outputs": [],
   "source": [
    "NAIC_CODEs.head()"
   ]
  },
  {
   "cell_type": "code",
   "execution_count": null,
   "metadata": {
    "collapsed": true
   },
   "outputs": [],
   "source": [
    "#And now reimporting the original file. "
   ]
  },
  {
   "cell_type": "code",
   "execution_count": null,
   "metadata": {
    "collapsed": true
   },
   "outputs": [],
   "source": [
    "df = pd.read_excel(\"H-2B_Disclosure_Data_FY15_Q4.xlsx\")"
   ]
  },
  {
   "cell_type": "code",
   "execution_count": null,
   "metadata": {
    "collapsed": false
   },
   "outputs": [],
   "source": [
    "#now in the NAIC_CODE is a Float64 in the cells we want to merge."
   ]
  },
  {
   "cell_type": "code",
   "execution_count": null,
   "metadata": {
    "collapsed": false
   },
   "outputs": [],
   "source": [
    "df_merged = df.merge(NAIC_CODEs, how = 'left', left_on = 'NAIC_CODE', right_on ='NAICS2012') "
   ]
  },
  {
   "cell_type": "code",
   "execution_count": null,
   "metadata": {
    "collapsed": false
   },
   "outputs": [],
   "source": [
    "#df_merged.info()"
   ]
  },
  {
   "cell_type": "code",
   "execution_count": null,
   "metadata": {
    "collapsed": false
   },
   "outputs": [],
   "source": [
    "df_merged['Industry'].value_counts().head(10)"
   ]
  },
  {
   "cell_type": "code",
   "execution_count": null,
   "metadata": {
    "collapsed": false
   },
   "outputs": [],
   "source": [
    "workers_by_industry = df_merged.groupby('Industry')['NBR_WORKERS_REQUESTED'].sum()\n",
    "workers_by_industry.sort_values(ascending=True).tail(10).plot(kind='barh', legend='NBR_WORKERS_REQUESTED')\n",
    "plt.savefig(\"workers_by_industry.svg\")"
   ]
  },
  {
   "cell_type": "markdown",
   "metadata": {},
   "source": [
    "**12. Which companies had the largest need? Compare acceptance/denials of each company.**"
   ]
  },
  {
   "cell_type": "code",
   "execution_count": null,
   "metadata": {
    "collapsed": false
   },
   "outputs": [],
   "source": [
    "df['EMPLOYER_NAME'].value_counts().head(5)"
   ]
  },
  {
   "cell_type": "code",
   "execution_count": null,
   "metadata": {
    "collapsed": false
   },
   "outputs": [],
   "source": [
    "company_workers_demand = df.groupby('EMPLOYER_NAME')['NBR_WORKERS_REQUESTED'].sum()\n",
    "company_workers_demand.sort_values(ascending=True).tail(10).plot(kind='barh')\n",
    "plt.savefig(\"company_workers_demand.svg\")"
   ]
  },
  {
   "cell_type": "code",
   "execution_count": null,
   "metadata": {
    "collapsed": false
   },
   "outputs": [],
   "source": [
    "company_workers_demand = df.groupby('EMPLOYER_NAME')['NBR_WORKERS_CERTIFIED'].sum()\n",
    "company_workers_demand.sort_values(ascending=True).tail(10).plot(kind='barh')\n",
    "plt.savefig(\"company_workers_demand.svg\")"
   ]
  },
  {
   "cell_type": "markdown",
   "metadata": {},
   "source": [
    "***BONUS*** Looking into [Silver Bay Seafoods](http://www.silverbayseafoods.com/about.html) and [UK International Soccer Campus](http://www.uksocca.com/). \n"
   ]
  },
  {
   "cell_type": "markdown",
   "metadata": {},
   "source": [
    "Silver Bay's claim: [Silver Bays's \"...primary strength is in its combination of having a state of the art processing plant and favorable logistics to support its operations; competent management and key personnel; an established fish buying system; and ownership by fishermen who represent over 80% of the committed fishing effort.\"] How much does the company pay it's workers on average?"
   ]
  },
  {
   "cell_type": "code",
   "execution_count": null,
   "metadata": {
    "collapsed": false
   },
   "outputs": [],
   "source": [
    "SILVER_BAY_SEAFOODS = df[df['EMPLOYER_NAME'] == 'SILVER BAY SEAFOODS, LLC']"
   ]
  },
  {
   "cell_type": "code",
   "execution_count": null,
   "metadata": {
    "collapsed": false
   },
   "outputs": [],
   "source": [
    "SILVER_BAY_SEAFOODS[['JOB_TITLE', 'PREVAILING_WAGE', 'HOURLY_WORK_SCHEDULE_AM', 'HOURLY_WORK_SCHEDULE_PM', 'OVERTIME_RATE_FROM', 'OVERTIME_RATE_TO', 'NATURE_OF_TEMPORARY_NEED', 'NBR_WORKERS_REQUESTED', 'NBR_WORKERS_CERTIFIED']]"
   ]
  },
  {
   "cell_type": "code",
   "execution_count": null,
   "metadata": {
    "collapsed": false
   },
   "outputs": [],
   "source": [
    "SOCCER_CAMPS = df[df['EMPLOYER_NAME'] == 'UK International Soccer Camps']\n",
    "SOCCER_CAMPS[['JOB_TITLE', 'PREVAILING_WAGE', 'HOURLY_WORK_SCHEDULE_AM', 'HOURLY_WORK_SCHEDULE_PM', 'OVERTIME_RATE_FROM', 'OVERTIME_RATE_TO', 'NATURE_OF_TEMPORARY_NEED', 'NBR_WORKERS_REQUESTED', 'NBR_WORKERS_CERTIFIED']]"
   ]
  },
  {
   "cell_type": "code",
   "execution_count": null,
   "metadata": {
    "collapsed": true
   },
   "outputs": [],
   "source": []
  }
 ],
 "metadata": {
  "kernelspec": {
   "display_name": "Python 3",
   "language": "python",
   "name": "python3"
  },
  "language_info": {
   "codemirror_mode": {
    "name": "ipython",
    "version": 3
   },
   "file_extension": ".py",
   "mimetype": "text/x-python",
   "name": "python",
   "nbconvert_exporter": "python",
   "pygments_lexer": "ipython3",
   "version": "3.5.1"
  }
 },
 "nbformat": 4,
 "nbformat_minor": 0
}
