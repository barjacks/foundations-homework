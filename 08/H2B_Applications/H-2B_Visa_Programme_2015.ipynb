{
 "cells": [
  {
   "cell_type": "markdown",
   "metadata": {},
   "source": [
    "# Exploring the H-2B Visa Programme\n",
    "\n",
    "H-2B visas are nonimmigrant visas, which allow foreign nationals to enter the U.S. temporarily and engage in nonagricultural employment which is seasonal, intermittent, a peak load need, or a one-time occurrence.\n",
    "\n",
    "**Summary** It turns out that Texas has the highest need for foreign unskilled employees. However, it is a Salmon farm  in Alaska that has requested the most and only offering them a wage of 10$ an hour."
   ]
  },
  {
   "cell_type": "code",
   "execution_count": 1,
   "metadata": {
    "collapsed": true
   },
   "outputs": [],
   "source": [
    "import pandas as pd\n",
    "import matplotlib.pyplot as plt\n",
    "%matplotlib inline"
   ]
  },
  {
   "cell_type": "code",
   "execution_count": 2,
   "metadata": {
    "collapsed": true
   },
   "outputs": [],
   "source": [
    "df = pd.read_excel(\"H-2B_Disclosure_Data_FY15_Q4.xlsx\")"
   ]
  },
  {
   "cell_type": "code",
   "execution_count": 3,
   "metadata": {
    "collapsed": false
   },
   "outputs": [
    {
     "data": {
      "text/html": [
       "<div>\n",
       "<table border=\"1\" class=\"dataframe\">\n",
       "  <thead>\n",
       "    <tr style=\"text-align: right;\">\n",
       "      <th></th>\n",
       "      <th>CASE_NUMBER</th>\n",
       "      <th>DECISION_DATE</th>\n",
       "      <th>VISA_CLASS</th>\n",
       "      <th>NPC_SUBMITTED_DATE</th>\n",
       "      <th>CASE_STATUS</th>\n",
       "      <th>CERTIFICATION_BEGIN_DATE</th>\n",
       "      <th>CERTIFICATION_END_DATE</th>\n",
       "      <th>EMPLOYER_NAME</th>\n",
       "      <th>EMPLOYER_ADDRESS1</th>\n",
       "      <th>EMPLOYER_ADDRESS2</th>\n",
       "      <th>...</th>\n",
       "      <th>NAME_REQD_TRAINING</th>\n",
       "      <th>EMP_EXPERIENCE_REQD</th>\n",
       "      <th>EMP_EXP_NUM_MONTHS</th>\n",
       "      <th>WORKSITE_CITY</th>\n",
       "      <th>WORKSITE_STATE</th>\n",
       "      <th>WORKSITE_POSTAL_CODE</th>\n",
       "      <th>OTHER_WORKSITE_LOCATION</th>\n",
       "      <th>SWA_NAME</th>\n",
       "      <th>JOB_IDNUMBER</th>\n",
       "      <th>JOB_START_DATE</th>\n",
       "    </tr>\n",
       "  </thead>\n",
       "  <tbody>\n",
       "    <tr>\n",
       "      <th>0</th>\n",
       "      <td>H-400-13270-851270</td>\n",
       "      <td>2014-12-22</td>\n",
       "      <td>H-2B</td>\n",
       "      <td>2014-12-08</td>\n",
       "      <td>Certification</td>\n",
       "      <td>2014-12-22</td>\n",
       "      <td>2015-05-31</td>\n",
       "      <td>Khan Enterprises, LLC</td>\n",
       "      <td>109 N. Highway 14-16</td>\n",
       "      <td>NaN</td>\n",
       "      <td>...</td>\n",
       "      <td>NaN</td>\n",
       "      <td>N</td>\n",
       "      <td>NaN</td>\n",
       "      <td>Gillette</td>\n",
       "      <td>WY</td>\n",
       "      <td>82716</td>\n",
       "      <td>N</td>\n",
       "      <td>Wyoming at Work</td>\n",
       "      <td>2564577</td>\n",
       "      <td>9/8/2014</td>\n",
       "    </tr>\n",
       "    <tr>\n",
       "      <th>1</th>\n",
       "      <td>H-400-13297-679503</td>\n",
       "      <td>2015-03-24</td>\n",
       "      <td>H-2B</td>\n",
       "      <td>2015-02-18</td>\n",
       "      <td>Certification</td>\n",
       "      <td>2015-04-01</td>\n",
       "      <td>2015-10-15</td>\n",
       "      <td>EDD, LLC</td>\n",
       "      <td>489 A DEANNA LANE</td>\n",
       "      <td>NaN</td>\n",
       "      <td>...</td>\n",
       "      <td>NaN</td>\n",
       "      <td>Y</td>\n",
       "      <td>1.0</td>\n",
       "      <td>CHARLESTON</td>\n",
       "      <td>SC</td>\n",
       "      <td>29492</td>\n",
       "      <td>Y</td>\n",
       "      <td>SC Works Charleston SC Center</td>\n",
       "      <td>604182</td>\n",
       "      <td>2/6/2015</td>\n",
       "    </tr>\n",
       "    <tr>\n",
       "      <th>2</th>\n",
       "      <td>H-400-13310-940709</td>\n",
       "      <td>2015-01-23</td>\n",
       "      <td>H-2B</td>\n",
       "      <td>2015-01-06</td>\n",
       "      <td>Partial Certification</td>\n",
       "      <td>2015-04-01</td>\n",
       "      <td>2015-12-15</td>\n",
       "      <td>Brown's New Life Services LLC</td>\n",
       "      <td>P. O. Box 734, Stuarts Draft, VA 24477  (mailing)</td>\n",
       "      <td>85 Shoffner Lane (physical)</td>\n",
       "      <td>...</td>\n",
       "      <td>NaN</td>\n",
       "      <td>N</td>\n",
       "      <td>NaN</td>\n",
       "      <td>NaN</td>\n",
       "      <td>VA</td>\n",
       "      <td>NaN</td>\n",
       "      <td>NaN</td>\n",
       "      <td>VEC - Fishersville</td>\n",
       "      <td>507944</td>\n",
       "      <td>12/3/2014</td>\n",
       "    </tr>\n",
       "    <tr>\n",
       "      <th>3</th>\n",
       "      <td>H-400-13311-887843</td>\n",
       "      <td>2015-01-27</td>\n",
       "      <td>H-2B</td>\n",
       "      <td>2015-01-13</td>\n",
       "      <td>Certification</td>\n",
       "      <td>2015-04-01</td>\n",
       "      <td>2015-11-20</td>\n",
       "      <td>UNITED SOCCER ACADEMY, INC.</td>\n",
       "      <td>12 MAIDEN LANE, SUITE 1</td>\n",
       "      <td>NaN</td>\n",
       "      <td>...</td>\n",
       "      <td>NaN</td>\n",
       "      <td>Y</td>\n",
       "      <td>24.0</td>\n",
       "      <td>NaN</td>\n",
       "      <td>NJ</td>\n",
       "      <td>NaN</td>\n",
       "      <td>NaN</td>\n",
       "      <td>Jobs4Jersey.com</td>\n",
       "      <td>125428</td>\n",
       "      <td>12/11/2014</td>\n",
       "    </tr>\n",
       "    <tr>\n",
       "      <th>4</th>\n",
       "      <td>H-400-13336-700772</td>\n",
       "      <td>2015-05-28</td>\n",
       "      <td>H-2B</td>\n",
       "      <td>2014-12-10</td>\n",
       "      <td>Withdrawn</td>\n",
       "      <td>2014-03-15</td>\n",
       "      <td>2014-12-15</td>\n",
       "      <td>LAWNS PLUS LLC</td>\n",
       "      <td>26242 EAST 121ST STREET</td>\n",
       "      <td>26242 EAST 121ST STREET</td>\n",
       "      <td>...</td>\n",
       "      <td>NaN</td>\n",
       "      <td>N</td>\n",
       "      <td>NaN</td>\n",
       "      <td>NaN</td>\n",
       "      <td>OK</td>\n",
       "      <td>NaN</td>\n",
       "      <td>NaN</td>\n",
       "      <td>OESC</td>\n",
       "      <td>1004311</td>\n",
       "      <td>11/15/2014</td>\n",
       "    </tr>\n",
       "  </tbody>\n",
       "</table>\n",
       "<p>5 rows × 56 columns</p>\n",
       "</div>"
      ],
      "text/plain": [
       "          CASE_NUMBER DECISION_DATE VISA_CLASS NPC_SUBMITTED_DATE  \\\n",
       "0  H-400-13270-851270    2014-12-22       H-2B         2014-12-08   \n",
       "1  H-400-13297-679503    2015-03-24       H-2B         2015-02-18   \n",
       "2  H-400-13310-940709    2015-01-23       H-2B         2015-01-06   \n",
       "3  H-400-13311-887843    2015-01-27       H-2B         2015-01-13   \n",
       "4  H-400-13336-700772    2015-05-28       H-2B         2014-12-10   \n",
       "\n",
       "             CASE_STATUS CERTIFICATION_BEGIN_DATE CERTIFICATION_END_DATE  \\\n",
       "0          Certification               2014-12-22             2015-05-31   \n",
       "1          Certification               2015-04-01             2015-10-15   \n",
       "2  Partial Certification               2015-04-01             2015-12-15   \n",
       "3          Certification               2015-04-01             2015-11-20   \n",
       "4              Withdrawn               2014-03-15             2014-12-15   \n",
       "\n",
       "                   EMPLOYER_NAME  \\\n",
       "0          Khan Enterprises, LLC   \n",
       "1                       EDD, LLC   \n",
       "2  Brown's New Life Services LLC   \n",
       "3    UNITED SOCCER ACADEMY, INC.   \n",
       "4                 LAWNS PLUS LLC   \n",
       "\n",
       "                                   EMPLOYER_ADDRESS1  \\\n",
       "0                               109 N. Highway 14-16   \n",
       "1                                  489 A DEANNA LANE   \n",
       "2  P. O. Box 734, Stuarts Draft, VA 24477  (mailing)   \n",
       "3                            12 MAIDEN LANE, SUITE 1   \n",
       "4                            26242 EAST 121ST STREET   \n",
       "\n",
       "             EMPLOYER_ADDRESS2      ...       NAME_REQD_TRAINING  \\\n",
       "0                          NaN      ...                      NaN   \n",
       "1                          NaN      ...                      NaN   \n",
       "2  85 Shoffner Lane (physical)      ...                      NaN   \n",
       "3                          NaN      ...                      NaN   \n",
       "4      26242 EAST 121ST STREET      ...                      NaN   \n",
       "\n",
       "  EMP_EXPERIENCE_REQD EMP_EXP_NUM_MONTHS WORKSITE_CITY WORKSITE_STATE  \\\n",
       "0                   N                NaN      Gillette             WY   \n",
       "1                   Y                1.0    CHARLESTON             SC   \n",
       "2                   N                NaN           NaN             VA   \n",
       "3                   Y               24.0           NaN             NJ   \n",
       "4                   N                NaN           NaN             OK   \n",
       "\n",
       "  WORKSITE_POSTAL_CODE  OTHER_WORKSITE_LOCATION  \\\n",
       "0                82716                        N   \n",
       "1                29492                        Y   \n",
       "2                  NaN                      NaN   \n",
       "3                  NaN                      NaN   \n",
       "4                  NaN                      NaN   \n",
       "\n",
       "                        SWA_NAME JOB_IDNUMBER JOB_START_DATE  \n",
       "0                Wyoming at Work      2564577       9/8/2014  \n",
       "1  SC Works Charleston SC Center       604182       2/6/2015  \n",
       "2             VEC - Fishersville       507944      12/3/2014  \n",
       "3                Jobs4Jersey.com       125428     12/11/2014  \n",
       "4                           OESC      1004311     11/15/2014  \n",
       "\n",
       "[5 rows x 56 columns]"
      ]
     },
     "execution_count": 3,
     "metadata": {},
     "output_type": "execute_result"
    }
   ],
   "source": [
    "df.head()"
   ]
  },
  {
   "cell_type": "code",
   "execution_count": 4,
   "metadata": {
    "collapsed": false
   },
   "outputs": [],
   "source": [
    "#df.info()"
   ]
  },
  {
   "cell_type": "markdown",
   "metadata": {},
   "source": [
    "**1. How many requests did the Office of Foreign Labor Certification (OFLC) receive in 2015?**"
   ]
  },
  {
   "cell_type": "code",
   "execution_count": 5,
   "metadata": {
    "collapsed": false
   },
   "outputs": [
    {
     "data": {
      "text/plain": [
       "6521"
      ]
     },
     "execution_count": 5,
     "metadata": {},
     "output_type": "execute_result"
    }
   ],
   "source": [
    "df['CASE_NUMBER'].count()"
   ]
  },
  {
   "cell_type": "markdown",
   "metadata": {},
   "source": [
    "**2. How many jobs did that regard in total? And how many full time positions?**"
   ]
  },
  {
   "cell_type": "code",
   "execution_count": 6,
   "metadata": {
    "collapsed": false
   },
   "outputs": [
    {
     "data": {
      "text/plain": [
       "126138"
      ]
     },
     "execution_count": 6,
     "metadata": {},
     "output_type": "execute_result"
    }
   ],
   "source": [
    "df['NBR_WORKERS_REQUESTED'].sum()"
   ]
  },
  {
   "cell_type": "code",
   "execution_count": 7,
   "metadata": {
    "collapsed": false
   },
   "outputs": [
    {
     "data": {
      "text/plain": [
       "FULL_TIME_POSITION\n",
       "N       287\n",
       "Y    125794\n",
       "Name: NBR_WORKERS_REQUESTED, dtype: int64"
      ]
     },
     "execution_count": 7,
     "metadata": {},
     "output_type": "execute_result"
    }
   ],
   "source": [
    "df.groupby('FULL_TIME_POSITION')['NBR_WORKERS_REQUESTED'].sum()"
   ]
  },
  {
   "cell_type": "markdown",
   "metadata": {},
   "source": [
    "**3. How many jobs did the ETA National Processing Center actually certify?**"
   ]
  },
  {
   "cell_type": "code",
   "execution_count": 8,
   "metadata": {
    "collapsed": false
   },
   "outputs": [
    {
     "data": {
      "text/plain": [
       "101765"
      ]
     },
     "execution_count": 8,
     "metadata": {},
     "output_type": "execute_result"
    }
   ],
   "source": [
    "df['NBR_WORKERS_CERTIFIED'].sum()"
   ]
  },
  {
   "cell_type": "code",
   "execution_count": 9,
   "metadata": {
    "collapsed": false
   },
   "outputs": [
    {
     "data": {
      "text/plain": [
       "FULL_TIME_POSITION\n",
       "N         0\n",
       "Y    101740\n",
       "Name: NBR_WORKERS_CERTIFIED, dtype: int64"
      ]
     },
     "execution_count": 9,
     "metadata": {},
     "output_type": "execute_result"
    }
   ],
   "source": [
    "df.groupby('FULL_TIME_POSITION')['NBR_WORKERS_CERTIFIED'].sum()"
   ]
  },
  {
   "cell_type": "markdown",
   "metadata": {},
   "source": [
    "**4. What was the average pay? "
   ]
  },
  {
   "cell_type": "code",
   "execution_count": 10,
   "metadata": {
    "collapsed": false
   },
   "outputs": [
    {
     "data": {
      "text/plain": [
       "BASIC_UNIT_OF_PAY\n",
       "Bi-Weekly             287.143333\n",
       "Hour                   12.641528\n",
       "Month                2640.652632\n",
       "Piece Rate             96.470000\n",
       "Select Pay Range       15.065000\n",
       "Week                  433.330820\n",
       "Year                37673.240625\n",
       "Name: PREVAILING_WAGE, dtype: float64"
      ]
     },
     "execution_count": 10,
     "metadata": {},
     "output_type": "execute_result"
    }
   ],
   "source": [
    "df.groupby('BASIC_UNIT_OF_PAY')['PREVAILING_WAGE'].mean()"
   ]
  },
  {
   "cell_type": "code",
   "execution_count": 11,
   "metadata": {
    "collapsed": false
   },
   "outputs": [
    {
     "data": {
      "text/plain": [
       "BASIC_UNIT_OF_PAY\n",
       "Bi-Weekly              6\n",
       "Hour                6337\n",
       "Month                 19\n",
       "Piece Rate            14\n",
       "Select Pay Range       4\n",
       "Week                 122\n",
       "Year                  17\n",
       "Name: BASIC_UNIT_OF_PAY, dtype: int64"
      ]
     },
     "execution_count": 11,
     "metadata": {},
     "output_type": "execute_result"
    }
   ],
   "source": [
    "df.groupby('BASIC_UNIT_OF_PAY')['BASIC_UNIT_OF_PAY'].count()"
   ]
  },
  {
   "cell_type": "markdown",
   "metadata": {},
   "source": [
    "The majority of the jobs are payed hourly at an average rate of 12.65 $ an hour."
   ]
  },
  {
   "cell_type": "markdown",
   "metadata": {},
   "source": [
    "** 5. Who earned the least? And where are these people actually doing? **"
   ]
  },
  {
   "cell_type": "code",
   "execution_count": 12,
   "metadata": {
    "collapsed": false
   },
   "outputs": [],
   "source": [
    "worst_wage = df[df['BASIC_UNIT_OF_PAY'] == 'Hour'].sort_values(by='PREVAILING_WAGE', ascending=True).head()"
   ]
  },
  {
   "cell_type": "markdown",
   "metadata": {},
   "source": [
    "This table displays the lowest payed jobs for which no workers were certified."
   ]
  },
  {
   "cell_type": "code",
   "execution_count": 13,
   "metadata": {
    "collapsed": false
   },
   "outputs": [
    {
     "data": {
      "text/html": [
       "<div>\n",
       "<table border=\"1\" class=\"dataframe\">\n",
       "  <thead>\n",
       "    <tr style=\"text-align: right;\">\n",
       "      <th></th>\n",
       "      <th>BASIC_UNIT_OF_PAY</th>\n",
       "      <th>PREVAILING_WAGE</th>\n",
       "      <th>EMPLOYER_NAME</th>\n",
       "      <th>JOB_TITLE</th>\n",
       "      <th>WORKSITE_CITY</th>\n",
       "      <th>NBR_WORKERS_REQUESTED</th>\n",
       "      <th>NBR_WORKERS_CERTIFIED</th>\n",
       "    </tr>\n",
       "  </thead>\n",
       "  <tbody>\n",
       "    <tr>\n",
       "      <th>3598</th>\n",
       "      <td>Hour</td>\n",
       "      <td>0.00</td>\n",
       "      <td>CAESAR ENTERTAINMENT</td>\n",
       "      <td>2015 WSOP International Dealer/H2B Visa Applicant</td>\n",
       "      <td>LAS VEGAS</td>\n",
       "      <td>0</td>\n",
       "      <td>0</td>\n",
       "    </tr>\n",
       "    <tr>\n",
       "      <th>6505</th>\n",
       "      <td>Hour</td>\n",
       "      <td>2.00</td>\n",
       "      <td>MIKEL MAYS BEACHSIDE BAR AND GRILL</td>\n",
       "      <td>Waitress/Kitchen Help</td>\n",
       "      <td>Corpus Christi</td>\n",
       "      <td>1</td>\n",
       "      <td>0</td>\n",
       "    </tr>\n",
       "    <tr>\n",
       "      <th>106</th>\n",
       "      <td>Hour</td>\n",
       "      <td>2.13</td>\n",
       "      <td>Connor Concepts Inc.</td>\n",
       "      <td>Restaurant server and trainer</td>\n",
       "      <td>Knoxville</td>\n",
       "      <td>1</td>\n",
       "      <td>0</td>\n",
       "    </tr>\n",
       "    <tr>\n",
       "      <th>5927</th>\n",
       "      <td>Hour</td>\n",
       "      <td>3.25</td>\n",
       "      <td>MOTHER'S CANTINA LLC</td>\n",
       "      <td>Bartender</td>\n",
       "      <td>Ocean City</td>\n",
       "      <td>3</td>\n",
       "      <td>0</td>\n",
       "    </tr>\n",
       "    <tr>\n",
       "      <th>2670</th>\n",
       "      <td>Hour</td>\n",
       "      <td>3.75</td>\n",
       "      <td>MISSING TEETH LLC</td>\n",
       "      <td>Team Lead</td>\n",
       "      <td>Milford</td>\n",
       "      <td>1</td>\n",
       "      <td>0</td>\n",
       "    </tr>\n",
       "  </tbody>\n",
       "</table>\n",
       "</div>"
      ],
      "text/plain": [
       "     BASIC_UNIT_OF_PAY  PREVAILING_WAGE                       EMPLOYER_NAME  \\\n",
       "3598              Hour             0.00                CAESAR ENTERTAINMENT   \n",
       "6505              Hour             2.00  MIKEL MAYS BEACHSIDE BAR AND GRILL   \n",
       "106               Hour             2.13                Connor Concepts Inc.   \n",
       "5927              Hour             3.25                MOTHER'S CANTINA LLC   \n",
       "2670              Hour             3.75                   MISSING TEETH LLC   \n",
       "\n",
       "                                              JOB_TITLE   WORKSITE_CITY  \\\n",
       "3598  2015 WSOP International Dealer/H2B Visa Applicant       LAS VEGAS   \n",
       "6505                              Waitress/Kitchen Help  Corpus Christi   \n",
       "106                       Restaurant server and trainer       Knoxville   \n",
       "5927                                          Bartender      Ocean City   \n",
       "2670                                          Team Lead         Milford   \n",
       "\n",
       "      NBR_WORKERS_REQUESTED  NBR_WORKERS_CERTIFIED  \n",
       "3598                      0                      0  \n",
       "6505                      1                      0  \n",
       "106                       1                      0  \n",
       "5927                      3                      0  \n",
       "2670                      1                      0  "
      ]
     },
     "execution_count": 13,
     "metadata": {},
     "output_type": "execute_result"
    }
   ],
   "source": [
    "worst_wage[['BASIC_UNIT_OF_PAY', 'PREVAILING_WAGE', 'EMPLOYER_NAME', 'JOB_TITLE', 'WORKSITE_CITY', 'NBR_WORKERS_REQUESTED', 'NBR_WORKERS_CERTIFIED']]\n"
   ]
  },
  {
   "cell_type": "code",
   "execution_count": 14,
   "metadata": {
    "collapsed": false
   },
   "outputs": [],
   "source": [
    "lowest_wages_accepted = df[df['NBR_WORKERS_CERTIFIED'] != 0].sort_values(by='PREVAILING_WAGE', ascending=True).head()"
   ]
  },
  {
   "cell_type": "markdown",
   "metadata": {},
   "source": [
    "And this table shows that landscape laborers are the ones that are earning the least."
   ]
  },
  {
   "cell_type": "code",
   "execution_count": 15,
   "metadata": {
    "collapsed": false
   },
   "outputs": [
    {
     "data": {
      "text/html": [
       "<div>\n",
       "<table border=\"1\" class=\"dataframe\">\n",
       "  <thead>\n",
       "    <tr style=\"text-align: right;\">\n",
       "      <th></th>\n",
       "      <th>BASIC_UNIT_OF_PAY</th>\n",
       "      <th>PREVAILING_WAGE</th>\n",
       "      <th>EMPLOYER_NAME</th>\n",
       "      <th>JOB_TITLE</th>\n",
       "      <th>WORKSITE_CITY</th>\n",
       "      <th>NBR_WORKERS_REQUESTED</th>\n",
       "      <th>NBR_WORKERS_CERTIFIED</th>\n",
       "    </tr>\n",
       "  </thead>\n",
       "  <tbody>\n",
       "    <tr>\n",
       "      <th>2508</th>\n",
       "      <td>Hour</td>\n",
       "      <td>7.25</td>\n",
       "      <td>The Munie Company - AL</td>\n",
       "      <td>Landscape Laborer</td>\n",
       "      <td>NaN</td>\n",
       "      <td>18</td>\n",
       "      <td>18</td>\n",
       "    </tr>\n",
       "    <tr>\n",
       "      <th>1293</th>\n",
       "      <td>Hour</td>\n",
       "      <td>7.25</td>\n",
       "      <td>Infinity Lawn and Landscape, LLC</td>\n",
       "      <td>Landscape Laborer</td>\n",
       "      <td>NaN</td>\n",
       "      <td>20</td>\n",
       "      <td>20</td>\n",
       "    </tr>\n",
       "    <tr>\n",
       "      <th>1780</th>\n",
       "      <td>Hour</td>\n",
       "      <td>7.25</td>\n",
       "      <td>Greater Texas Landscapes - Denton</td>\n",
       "      <td>Landscape Laborer</td>\n",
       "      <td>NaN</td>\n",
       "      <td>90</td>\n",
       "      <td>90</td>\n",
       "    </tr>\n",
       "    <tr>\n",
       "      <th>5616</th>\n",
       "      <td>Hour</td>\n",
       "      <td>7.25</td>\n",
       "      <td>Cooper Roofing and Solar of Texas LLC.</td>\n",
       "      <td>General Laborer</td>\n",
       "      <td>NaN</td>\n",
       "      <td>10</td>\n",
       "      <td>10</td>\n",
       "    </tr>\n",
       "    <tr>\n",
       "      <th>5944</th>\n",
       "      <td>Hour</td>\n",
       "      <td>7.25</td>\n",
       "      <td>Astro Homes, Inc.</td>\n",
       "      <td>General Laborers</td>\n",
       "      <td>NaN</td>\n",
       "      <td>8</td>\n",
       "      <td>8</td>\n",
       "    </tr>\n",
       "  </tbody>\n",
       "</table>\n",
       "</div>"
      ],
      "text/plain": [
       "     BASIC_UNIT_OF_PAY  PREVAILING_WAGE  \\\n",
       "2508              Hour             7.25   \n",
       "1293              Hour             7.25   \n",
       "1780              Hour             7.25   \n",
       "5616              Hour             7.25   \n",
       "5944              Hour             7.25   \n",
       "\n",
       "                               EMPLOYER_NAME          JOB_TITLE WORKSITE_CITY  \\\n",
       "2508                  The Munie Company - AL  Landscape Laborer           NaN   \n",
       "1293        Infinity Lawn and Landscape, LLC  Landscape Laborer           NaN   \n",
       "1780       Greater Texas Landscapes - Denton  Landscape Laborer           NaN   \n",
       "5616  Cooper Roofing and Solar of Texas LLC.    General Laborer           NaN   \n",
       "5944                       Astro Homes, Inc.   General Laborers           NaN   \n",
       "\n",
       "      NBR_WORKERS_REQUESTED  NBR_WORKERS_CERTIFIED  \n",
       "2508                     18                     18  \n",
       "1293                     20                     20  \n",
       "1780                     90                     90  \n",
       "5616                     10                     10  \n",
       "5944                      8                      8  "
      ]
     },
     "execution_count": 15,
     "metadata": {},
     "output_type": "execute_result"
    }
   ],
   "source": [
    "lowest_wages_accepted[['BASIC_UNIT_OF_PAY', 'PREVAILING_WAGE', 'EMPLOYER_NAME', 'JOB_TITLE', 'WORKSITE_CITY', 'NBR_WORKERS_REQUESTED', 'NBR_WORKERS_CERTIFIED']]"
   ]
  },
  {
   "cell_type": "markdown",
   "metadata": {},
   "source": [
    "**6. What was the most common unit of pay (daily, weekly, monthly)?**"
   ]
  },
  {
   "cell_type": "code",
   "execution_count": 16,
   "metadata": {
    "collapsed": false
   },
   "outputs": [
    {
     "data": {
      "text/plain": [
       "BASIC_UNIT_OF_PAY\n",
       "Bi-Weekly              6\n",
       "Hour                6337\n",
       "Month                 19\n",
       "Piece Rate            14\n",
       "Select Pay Range       4\n",
       "Week                 122\n",
       "Year                  17\n",
       "Name: BASIC_UNIT_OF_PAY, dtype: int64"
      ]
     },
     "execution_count": 16,
     "metadata": {},
     "output_type": "execute_result"
    }
   ],
   "source": [
    "df.groupby('BASIC_UNIT_OF_PAY')['BASIC_UNIT_OF_PAY'].count()"
   ]
  },
  {
   "cell_type": "markdown",
   "metadata": {},
   "source": [
    "**7. Work our total pay amount payed to H-2B laborers?**"
   ]
  },
  {
   "cell_type": "code",
   "execution_count": 17,
   "metadata": {
    "collapsed": false
   },
   "outputs": [],
   "source": [
    "#df.groupby('BASIC_UNIT_OF_PAY')['PREVAILING_WAGE'].describe()\n",
    "#df.groupby('PREVAILING_WAGE').count()"
   ]
  },
  {
   "cell_type": "markdown",
   "metadata": {},
   "source": [
    "**Approx.** ####Count * Mean (Year, Week, Month, Hour(8)(33 Million, Bi-Weekly (180'000)#### 40 million $."
   ]
  },
  {
   "cell_type": "markdown",
   "metadata": {},
   "source": [
    "**8. Were there any foreign companies hiring foreign workers in the US? If yes, work out averages by nation.**"
   ]
  },
  {
   "cell_type": "code",
   "execution_count": 18,
   "metadata": {
    "collapsed": false
   },
   "outputs": [
    {
     "data": {
      "text/plain": [
       "EMPLOYER_COUNTRY\n",
       "UNITED STATES OF AMERICA    6519\n",
       "Name: EMPLOYER_COUNTRY, dtype: int64"
      ]
     },
     "execution_count": 18,
     "metadata": {},
     "output_type": "execute_result"
    }
   ],
   "source": [
    "df.groupby('EMPLOYER_COUNTRY')['EMPLOYER_COUNTRY'].count()"
   ]
  },
  {
   "cell_type": "markdown",
   "metadata": {},
   "source": [
    "**9. Most common job title. Graph this.**"
   ]
  },
  {
   "cell_type": "code",
   "execution_count": 19,
   "metadata": {
    "collapsed": false
   },
   "outputs": [
    {
     "data": {
      "text/plain": [
       "Landscape Laborer                                     1259\n",
       "LANDSCAPE LABORER                                      159\n",
       "Landscape Laborers                                     153\n",
       "Housekeeper                                            148\n",
       "Laborer                                                118\n",
       "Amusement and Recreation Attendants - Traveling Ca      98\n",
       "Landscaping and Groundskeeping Workers                  94\n",
       "HOUSEKEEPER                                             75\n",
       "Amusement and Recreation Attendant                      63\n",
       "Landscaper                                              60\n",
       "Name: JOB_TITLE, dtype: int64"
      ]
     },
     "execution_count": 19,
     "metadata": {},
     "output_type": "execute_result"
    }
   ],
   "source": [
    "#x = df.groupby('JOB_TITLE')['JOB_TITLE'].value_counts()\n",
    "df['JOB_TITLE'].value_counts().head(10)"
   ]
  },
  {
   "cell_type": "code",
   "execution_count": 20,
   "metadata": {
    "collapsed": false
   },
   "outputs": [
    {
     "data": {
      "image/png": "[encoded data removed]",
      "text/plain": [
       "<matplotlib.figure.Figure at 0x10a86b080>"
      ]
     },
     "metadata": {},
     "output_type": "display_data"
    }
   ],
   "source": [
    "plt.style.use('ggplot')\n",
    "df['JOB_TITLE'].value_counts(ascending=True).tail(10).plot(kind='barh')\n",
    "plt.savefig(\"Top_Jobs.svg\")"
   ]
  },
  {
   "cell_type": "code",
   "execution_count": 21,
   "metadata": {
    "collapsed": true
   },
   "outputs": [],
   "source": [
    "##Is there an efficient way for Pandas to clean the data? Merge \"Landscape Laborer\" with \"LANDSCAPE LABORER\" etc.?"
   ]
  },
  {
   "cell_type": "markdown",
   "metadata": {},
   "source": [
    "**10. Which US states have the largest need for unskilled workers? Make a graph of this.**"
   ]
  },
  {
   "cell_type": "code",
   "execution_count": 22,
   "metadata": {
    "collapsed": false
   },
   "outputs": [
    {
     "data": {
      "image/png": "[encoded data removed]",
      "text/plain": [
       "<matplotlib.figure.Figure at 0x10a5566a0>"
      ]
     },
     "metadata": {},
     "output_type": "display_data"
    }
   ],
   "source": [
    "#x = df['EMPLOYER_STATE'].value_counts(ascending=False).head(10) * df['NBR_WORKERS_REQUESTED'].sum()\n",
    "df['EMPLOYER_STATE'].value_counts(ascending=False).head(10).plot(kind='bar')\n",
    "plt.savefig(\"semand_in_states.svg\")"
   ]
  },
  {
   "cell_type": "code",
   "execution_count": 23,
   "metadata": {
    "collapsed": false
   },
   "outputs": [
    {
     "data": {
      "image/png": "[encoded data removed]",
      "text/plain": [
       "<matplotlib.figure.Figure at 0x10a5434a8>"
      ]
     },
     "metadata": {},
     "output_type": "display_data"
    }
   ],
   "source": [
    "#x = df['EMPLOYER_STATE'].value_counts(ascending=False).head(10) * df['NBR_WORKERS_REQUESTED'].sum()\n",
    "df['EMPLOYER_STATE'].value_counts(ascending=True).head(10).plot(kind='bar')\n",
    "plt.savefig(\"demand_in_states.svg\")"
   ]
  },
  {
   "cell_type": "code",
   "execution_count": 24,
   "metadata": {
    "collapsed": false
   },
   "outputs": [
    {
     "data": {
      "image/png": "[encoded data removed]",
      "text/plain": [
       "<matplotlib.figure.Figure at 0x109862d68>"
      ]
     },
     "metadata": {},
     "output_type": "display_data"
    }
   ],
   "source": [
    "Workers_in_state_count = df.groupby('EMPLOYER_STATE')['NBR_WORKERS_REQUESTED'].sum()\n",
    "Workers_in_state_count.sort_values(ascending=True).tail(10).plot(kind='barh', legend='NBR_WORKERS_REQUESTED')\n",
    "plt.savefig(\"workers_requestet_in_states.svg\")"
   ]
  },
  {
   "cell_type": "markdown",
   "metadata": {},
   "source": [
    "**11. Which industries had the largest need?**"
   ]
  },
  {
   "cell_type": "code",
   "execution_count": 25,
   "metadata": {
    "collapsed": true
   },
   "outputs": [],
   "source": [
    "#changing df['NAIC_CODE'] from non_null object into int"
   ]
  },
  {
   "cell_type": "code",
   "execution_count": 26,
   "metadata": {
    "collapsed": false
   },
   "outputs": [],
   "source": [
    "#This .fillna(0.0) is magic. I found it here: \n",
    "#http://stackoverflow.com/questions/21291259/convert-floats-to-ints-in-pandas\n",
    "#df['NAIC_CODE'] = df['NAIC_CODE'].fillna(0.0).astype(int)\n",
    "#But it turns out, it only works for my one fill. Not on the other. Why?"
   ]
  },
  {
   "cell_type": "markdown",
   "metadata": {},
   "source": [
    "Importing the NAIC_Codes from [here](http://www.census.gov/cgi-bin/sssd/naics/naicsrch?chart=2012)."
   ]
  },
  {
   "cell_type": "code",
   "execution_count": 27,
   "metadata": {
    "collapsed": true
   },
   "outputs": [],
   "source": [
    "NAIC_CODEs = pd.read_excel(\"6-digit_2012_Code.xls\")"
   ]
  },
  {
   "cell_type": "code",
   "execution_count": 28,
   "metadata": {
    "collapsed": false
   },
   "outputs": [
    {
     "name": "stdout",
     "output_type": "stream",
     "text": [
      "<class 'pandas.core.frame.DataFrame'>\n",
      "RangeIndex: 1066 entries, 0 to 1065\n",
      "Data columns (total 2 columns):\n",
      "NAICS2012    1065 non-null float64\n",
      "Industry     1065 non-null object\n",
      "dtypes: float64(1), object(1)\n",
      "memory usage: 16.7+ KB\n"
     ]
    }
   ],
   "source": [
    "NAIC_CODEs.info()"
   ]
  },
  {
   "cell_type": "code",
   "execution_count": 29,
   "metadata": {
    "collapsed": true
   },
   "outputs": [],
   "source": [
    "#Changing the NAIC_Codesfrom non-null object into float64"
   ]
  },
  {
   "cell_type": "code",
   "execution_count": 30,
   "metadata": {
    "collapsed": false
   },
   "outputs": [],
   "source": [
    "#NAIC_CODEs['NAICS12'] = df['NAIC_CODE'].fillna(0.0).astype(int)"
   ]
  },
  {
   "cell_type": "code",
   "execution_count": 31,
   "metadata": {
    "collapsed": false
   },
   "outputs": [
    {
     "data": {
      "text/html": [
       "<div>\n",
       "<table border=\"1\" class=\"dataframe\">\n",
       "  <thead>\n",
       "    <tr style=\"text-align: right;\">\n",
       "      <th></th>\n",
       "      <th>NAICS2012</th>\n",
       "      <th>Industry</th>\n",
       "    </tr>\n",
       "  </thead>\n",
       "  <tbody>\n",
       "    <tr>\n",
       "      <th>0</th>\n",
       "      <td>NaN</td>\n",
       "      <td>NaN</td>\n",
       "    </tr>\n",
       "    <tr>\n",
       "      <th>1</th>\n",
       "      <td>111110.0</td>\n",
       "      <td>Soybean Farming</td>\n",
       "    </tr>\n",
       "    <tr>\n",
       "      <th>2</th>\n",
       "      <td>111120.0</td>\n",
       "      <td>Oilseed (except Soybean) Farming</td>\n",
       "    </tr>\n",
       "    <tr>\n",
       "      <th>3</th>\n",
       "      <td>111130.0</td>\n",
       "      <td>Dry Pea and Bean Farming</td>\n",
       "    </tr>\n",
       "    <tr>\n",
       "      <th>4</th>\n",
       "      <td>111140.0</td>\n",
       "      <td>Wheat Farming</td>\n",
       "    </tr>\n",
       "  </tbody>\n",
       "</table>\n",
       "</div>"
      ],
      "text/plain": [
       "   NAICS2012                           Industry\n",
       "0        NaN                                NaN\n",
       "1   111110.0                    Soybean Farming\n",
       "2   111120.0  Oilseed (except Soybean) Farming \n",
       "3   111130.0          Dry Pea and Bean Farming \n",
       "4   111140.0                      Wheat Farming"
      ]
     },
     "execution_count": 31,
     "metadata": {},
     "output_type": "execute_result"
    }
   ],
   "source": [
    "NAIC_CODEs.head()"
   ]
  },
  {
   "cell_type": "code",
   "execution_count": 32,
   "metadata": {
    "collapsed": true
   },
   "outputs": [],
   "source": [
    "#And now reimporting the original file. "
   ]
  },
  {
   "cell_type": "code",
   "execution_count": 33,
   "metadata": {
    "collapsed": true
   },
   "outputs": [],
   "source": [
    "df = pd.read_excel(\"H-2B_Disclosure_Data_FY15_Q4.xlsx\")"
   ]
  },
  {
   "cell_type": "code",
   "execution_count": 34,
   "metadata": {
    "collapsed": false
   },
   "outputs": [],
   "source": [
    "#now in the NAIC_CODE is a Float64 in the cells we want to merge."
   ]
  },
  {
   "cell_type": "code",
   "execution_count": 35,
   "metadata": {
    "collapsed": false
   },
   "outputs": [],
   "source": [
    "df_merged = df.merge(NAIC_CODEs, how = 'left', left_on = 'NAIC_CODE', right_on ='NAICS2012') "
   ]
  },
  {
   "cell_type": "code",
   "execution_count": 36,
   "metadata": {
    "collapsed": false
   },
   "outputs": [],
   "source": [
    "#df_merged.info()"
   ]
  },
  {
   "cell_type": "code",
   "execution_count": 37,
   "metadata": {
    "collapsed": false
   },
   "outputs": [
    {
     "data": {
      "text/plain": [
       "Landscaping Services                                     2190\n",
       "Hotels (except Casino Hotels) and Motels                  584\n",
       "All Other Amusement and Recreation Industries             247\n",
       "Golf Courses and Country Clubs                            230\n",
       "Support Activities for Forestry                           132\n",
       "Other Spectator Sports                                    122\n",
       "Poured Concrete Foundation and Structure Contractors       87\n",
       "Sports and Recreation Instruction                          69\n",
       "All Other Specialty Trade Contractors                      65\n",
       "Full-Service Restaurants                                   63\n",
       "Name: Industry, dtype: int64"
      ]
     },
     "execution_count": 37,
     "metadata": {},
     "output_type": "execute_result"
    }
   ],
   "source": [
    "df_merged['Industry'].value_counts().head(10)"
   ]
  },
  {
   "cell_type": "code",
   "execution_count": 38,
   "metadata": {
    "collapsed": false
   },
   "outputs": [
    {
     "data": {
      "image/png": "[encoded data removed]",
      "text/plain": [
       "<matplotlib.figure.Figure at 0x10a2bab00>"
      ]
     },
     "metadata": {},
     "output_type": "display_data"
    }
   ],
   "source": [
    "workers_by_industry = df_merged.groupby('Industry')['NBR_WORKERS_REQUESTED'].sum()\n",
    "workers_by_industry.sort_values(ascending=True).tail(10).plot(kind='barh', legend='NBR_WORKERS_REQUESTED')\n",
    "plt.savefig(\"workers_by_industry.svg\")"
   ]
  },
  {
   "cell_type": "markdown",
   "metadata": {},
   "source": [
    "**12. Which companies had the largest need? Compare acceptance/denials of each company.**"
   ]
  },
  {
   "cell_type": "code",
   "execution_count": 39,
   "metadata": {
    "collapsed": false
   },
   "outputs": [
    {
     "data": {
      "text/plain": [
       "THE BRICKMAN GROUP LTD LLC    38\n",
       "Landscapes Unlimited, LLC     34\n",
       "VALLEYCREST COMPANIES         24\n",
       "Challenger Sports Corp.       24\n",
       "PCH HOTELS & RESORTS, INC.    20\n",
       "Name: EMPLOYER_NAME, dtype: int64"
      ]
     },
     "execution_count": 39,
     "metadata": {},
     "output_type": "execute_result"
    }
   ],
   "source": [
    "df['EMPLOYER_NAME'].value_counts().head(5)"
   ]
  },
  {
   "cell_type": "code",
   "execution_count": 40,
   "metadata": {
    "collapsed": false
   },
   "outputs": [
    {
     "data": {
      "image/png": "[encoded data removed]",
      "text/plain": [
       "<matplotlib.figure.Figure at 0x109eb5eb8>"
      ]
     },
     "metadata": {},
     "output_type": "display_data"
    }
   ],
   "source": [
    "company_workers_demand = df.groupby('EMPLOYER_NAME')['NBR_WORKERS_REQUESTED'].sum()\n",
    "company_workers_demand.sort_values(ascending=True).tail(10).plot(kind='barh')\n",
    "plt.savefig(\"company_workers_demand.svg\")"
   ]
  },
  {
   "cell_type": "code",
   "execution_count": 41,
   "metadata": {
    "collapsed": false
   },
   "outputs": [
    {
     "data": {
      "image/png": "[encoded data removed]",
      "text/plain": [
       "<matplotlib.figure.Figure at 0x10a5b1ef0>"
      ]
     },
     "metadata": {},
     "output_type": "display_data"
    }
   ],
   "source": [
    "company_workers_demand = df.groupby('EMPLOYER_NAME')['NBR_WORKERS_CERTIFIED'].sum()\n",
    "company_workers_demand.sort_values(ascending=True).tail(10).plot(kind='barh')\n",
    "plt.savefig(\"company_workers_demand.svg\")"
   ]
  },
  {
   "cell_type": "markdown",
   "metadata": {},
   "source": [
    "***BONUS*** Looking into [Silver Bay Seafoods](http://www.silverbayseafoods.com/about.html) and [UK International Soccer Campus](http://www.uksocca.com/). \n"
   ]
  },
  {
   "cell_type": "markdown",
   "metadata": {},
   "source": [
    "Silver Bay's claim: [Silver Bays's \"...primary strength is in its combination of having a state of the art processing plant and favorable logistics to support its operations; competent management and key personnel; an established fish buying system; and ownership by fishermen who represent over 80% of the committed fishing effort.\"] How much does the company pay it's workers on average?"
   ]
  },
  {
   "cell_type": "code",
   "execution_count": 42,
   "metadata": {
    "collapsed": false
   },
   "outputs": [],
   "source": [
    "SILVER_BAY_SEAFOODS = df[df['EMPLOYER_NAME'] == 'SILVER BAY SEAFOODS, LLC']"
   ]
  },
  {
   "cell_type": "code",
   "execution_count": 43,
   "metadata": {
    "collapsed": false
   },
   "outputs": [
    {
     "data": {
      "text/html": [
       "<div>\n",
       "<table border=\"1\" class=\"dataframe\">\n",
       "  <thead>\n",
       "    <tr style=\"text-align: right;\">\n",
       "      <th></th>\n",
       "      <th>JOB_TITLE</th>\n",
       "      <th>PREVAILING_WAGE</th>\n",
       "      <th>HOURLY_WORK_SCHEDULE_AM</th>\n",
       "      <th>HOURLY_WORK_SCHEDULE_PM</th>\n",
       "      <th>OVERTIME_RATE_FROM</th>\n",
       "      <th>OVERTIME_RATE_TO</th>\n",
       "      <th>NATURE_OF_TEMPORARY_NEED</th>\n",
       "      <th>NBR_WORKERS_REQUESTED</th>\n",
       "      <th>NBR_WORKERS_CERTIFIED</th>\n",
       "    </tr>\n",
       "  </thead>\n",
       "  <tbody>\n",
       "    <tr>\n",
       "      <th>5099</th>\n",
       "      <td>Salmon Processor</td>\n",
       "      <td>10.0</td>\n",
       "      <td>6:00:00 AM</td>\n",
       "      <td>10:00:00 PM</td>\n",
       "      <td>10.0</td>\n",
       "      <td>10.0</td>\n",
       "      <td>Seasonal</td>\n",
       "      <td>975</td>\n",
       "      <td>959</td>\n",
       "    </tr>\n",
       "  </tbody>\n",
       "</table>\n",
       "</div>"
      ],
      "text/plain": [
       "             JOB_TITLE  PREVAILING_WAGE HOURLY_WORK_SCHEDULE_AM  \\\n",
       "5099  Salmon Processor             10.0              6:00:00 AM   \n",
       "\n",
       "     HOURLY_WORK_SCHEDULE_PM  OVERTIME_RATE_FROM  OVERTIME_RATE_TO  \\\n",
       "5099             10:00:00 PM                10.0              10.0   \n",
       "\n",
       "     NATURE_OF_TEMPORARY_NEED  NBR_WORKERS_REQUESTED  NBR_WORKERS_CERTIFIED  \n",
       "5099                 Seasonal                    975                    959  "
      ]
     },
     "execution_count": 43,
     "metadata": {},
     "output_type": "execute_result"
    }
   ],
   "source": [
    "SILVER_BAY_SEAFOODS[['JOB_TITLE', 'PREVAILING_WAGE', 'HOURLY_WORK_SCHEDULE_AM', 'HOURLY_WORK_SCHEDULE_PM', 'OVERTIME_RATE_FROM', 'OVERTIME_RATE_TO', 'NATURE_OF_TEMPORARY_NEED', 'NBR_WORKERS_REQUESTED', 'NBR_WORKERS_CERTIFIED']]"
   ]
  },
  {
   "cell_type": "code",
   "execution_count": 44,
   "metadata": {
    "collapsed": false
   },
   "outputs": [
    {
     "data": {
      "text/html": [
       "<div>\n",
       "<table border=\"1\" class=\"dataframe\">\n",
       "  <thead>\n",
       "    <tr style=\"text-align: right;\">\n",
       "      <th></th>\n",
       "      <th>JOB_TITLE</th>\n",
       "      <th>PREVAILING_WAGE</th>\n",
       "      <th>HOURLY_WORK_SCHEDULE_AM</th>\n",
       "      <th>HOURLY_WORK_SCHEDULE_PM</th>\n",
       "      <th>OVERTIME_RATE_FROM</th>\n",
       "      <th>OVERTIME_RATE_TO</th>\n",
       "      <th>NATURE_OF_TEMPORARY_NEED</th>\n",
       "      <th>NBR_WORKERS_REQUESTED</th>\n",
       "      <th>NBR_WORKERS_CERTIFIED</th>\n",
       "    </tr>\n",
       "  </thead>\n",
       "  <tbody>\n",
       "    <tr>\n",
       "      <th>1943</th>\n",
       "      <td>Soccer Coach</td>\n",
       "      <td>24.0</td>\n",
       "      <td>1:00:00 PM</td>\n",
       "      <td>8:00:00 PM</td>\n",
       "      <td>24.0</td>\n",
       "      <td>NaN</td>\n",
       "      <td>Seasonal</td>\n",
       "      <td>125</td>\n",
       "      <td>125</td>\n",
       "    </tr>\n",
       "    <tr>\n",
       "      <th>2345</th>\n",
       "      <td>Soccer Coach</td>\n",
       "      <td>24.0</td>\n",
       "      <td>1:00:00 PM</td>\n",
       "      <td>8:00:00 PM</td>\n",
       "      <td>24.0</td>\n",
       "      <td>NaN</td>\n",
       "      <td>Seasonal</td>\n",
       "      <td>80</td>\n",
       "      <td>80</td>\n",
       "    </tr>\n",
       "    <tr>\n",
       "      <th>3701</th>\n",
       "      <td>Soccer Coach</td>\n",
       "      <td>18.0</td>\n",
       "      <td>1:00:00 PM</td>\n",
       "      <td>8:00:00 PM</td>\n",
       "      <td>18.0</td>\n",
       "      <td>NaN</td>\n",
       "      <td>Seasonal</td>\n",
       "      <td>125</td>\n",
       "      <td>0</td>\n",
       "    </tr>\n",
       "    <tr>\n",
       "      <th>5238</th>\n",
       "      <td>Soccer Coach</td>\n",
       "      <td>19.0</td>\n",
       "      <td>1:00:00 PM</td>\n",
       "      <td>8:00:00 PM</td>\n",
       "      <td>19.0</td>\n",
       "      <td>NaN</td>\n",
       "      <td>Seasonal</td>\n",
       "      <td>50</td>\n",
       "      <td>50</td>\n",
       "    </tr>\n",
       "    <tr>\n",
       "      <th>5550</th>\n",
       "      <td>Soccer Coach</td>\n",
       "      <td>20.0</td>\n",
       "      <td>1:00:00 AM</td>\n",
       "      <td>8:00:00 PM</td>\n",
       "      <td>20.0</td>\n",
       "      <td>NaN</td>\n",
       "      <td>Seasonal</td>\n",
       "      <td>23</td>\n",
       "      <td>23</td>\n",
       "    </tr>\n",
       "    <tr>\n",
       "      <th>5558</th>\n",
       "      <td>Soccer Coach</td>\n",
       "      <td>18.0</td>\n",
       "      <td>1:00:00 AM</td>\n",
       "      <td>8:00:00 PM</td>\n",
       "      <td>18.0</td>\n",
       "      <td>NaN</td>\n",
       "      <td>Seasonal</td>\n",
       "      <td>125</td>\n",
       "      <td>125</td>\n",
       "    </tr>\n",
       "    <tr>\n",
       "      <th>5734</th>\n",
       "      <td>Soccer Coach</td>\n",
       "      <td>18.0</td>\n",
       "      <td>1:00:00 PM</td>\n",
       "      <td>8:00:00 PM</td>\n",
       "      <td>18.0</td>\n",
       "      <td>NaN</td>\n",
       "      <td>Seasonal</td>\n",
       "      <td>75</td>\n",
       "      <td>75</td>\n",
       "    </tr>\n",
       "    <tr>\n",
       "      <th>6397</th>\n",
       "      <td>Soccer Coach</td>\n",
       "      <td>20.0</td>\n",
       "      <td>1:00:00 PM</td>\n",
       "      <td>8:00:00 PM</td>\n",
       "      <td>20.0</td>\n",
       "      <td>NaN</td>\n",
       "      <td>Seasonal</td>\n",
       "      <td>60</td>\n",
       "      <td>60</td>\n",
       "    </tr>\n",
       "  </tbody>\n",
       "</table>\n",
       "</div>"
      ],
      "text/plain": [
       "         JOB_TITLE  PREVAILING_WAGE HOURLY_WORK_SCHEDULE_AM  \\\n",
       "1943  Soccer Coach             24.0              1:00:00 PM   \n",
       "2345  Soccer Coach             24.0              1:00:00 PM   \n",
       "3701  Soccer Coach             18.0              1:00:00 PM   \n",
       "5238  Soccer Coach             19.0              1:00:00 PM   \n",
       "5550  Soccer Coach             20.0              1:00:00 AM   \n",
       "5558  Soccer Coach             18.0              1:00:00 AM   \n",
       "5734  Soccer Coach             18.0              1:00:00 PM   \n",
       "6397  Soccer Coach             20.0              1:00:00 PM   \n",
       "\n",
       "     HOURLY_WORK_SCHEDULE_PM  OVERTIME_RATE_FROM  OVERTIME_RATE_TO  \\\n",
       "1943              8:00:00 PM                24.0               NaN   \n",
       "2345              8:00:00 PM                24.0               NaN   \n",
       "3701              8:00:00 PM                18.0               NaN   \n",
       "5238              8:00:00 PM                19.0               NaN   \n",
       "5550              8:00:00 PM                20.0               NaN   \n",
       "5558              8:00:00 PM                18.0               NaN   \n",
       "5734              8:00:00 PM                18.0               NaN   \n",
       "6397              8:00:00 PM                20.0               NaN   \n",
       "\n",
       "     NATURE_OF_TEMPORARY_NEED  NBR_WORKERS_REQUESTED  NBR_WORKERS_CERTIFIED  \n",
       "1943                 Seasonal                    125                    125  \n",
       "2345                 Seasonal                     80                     80  \n",
       "3701                 Seasonal                    125                      0  \n",
       "5238                 Seasonal                     50                     50  \n",
       "5550                 Seasonal                     23                     23  \n",
       "5558                 Seasonal                    125                    125  \n",
       "5734                 Seasonal                     75                     75  \n",
       "6397                 Seasonal                     60                     60  "
      ]
     },
     "execution_count": 44,
     "metadata": {},
     "output_type": "execute_result"
    }
   ],
   "source": [
    "SOCCER_CAMPS = df[df['EMPLOYER_NAME'] == 'UK International Soccer Camps']\n",
    "SOCCER_CAMPS[['JOB_TITLE', 'PREVAILING_WAGE', 'HOURLY_WORK_SCHEDULE_AM', 'HOURLY_WORK_SCHEDULE_PM', 'OVERTIME_RATE_FROM', 'OVERTIME_RATE_TO', 'NATURE_OF_TEMPORARY_NEED', 'NBR_WORKERS_REQUESTED', 'NBR_WORKERS_CERTIFIED']]"
   ]
  },
  {
   "cell_type": "code",
   "execution_count": 45,
   "metadata": {
    "collapsed": false
   },
   "outputs": [
    {
     "ename": "NameError",
     "evalue": "name 'df_unfaelle' is not defined",
     "output_type": "error",
     "traceback": [
      "\u001b[0;31m---------------------------------------------------------------------------\u001b[0m",
      "\u001b[0;31mNameError\u001b[0m                                 Traceback (most recent call last)",
      "\u001b[0;32m<ipython-input-45-1e9cbb6210dd>\u001b[0m in \u001b[0;36m<module>\u001b[0;34m()\u001b[0m\n\u001b[0;32m----> 1\u001b[0;31m \u001b[0mdf_unfaelle\u001b[0m\u001b[0;34m.\u001b[0m\u001b[0mgroupby\u001b[0m\u001b[0;34m(\u001b[0m\u001b[0;34m'Jahr'\u001b[0m\u001b[0;34m)\u001b[0m\u001b[0;34m[\u001b[0m\u001b[0;34m(\u001b[0m\u001b[0mdf_unfaelle\u001b[0m\u001b[0;34m[\u001b[0m\u001b[0;34m'Lichtverhältnis UAP'\u001b[0m\u001b[0;34m]\u001b[0m \u001b[0;34m==\u001b[0m \u001b[0;36m622\u001b[0m\u001b[0;34m)\u001b[0m\u001b[0;34m]\u001b[0m\u001b[0;34m\u001b[0m\u001b[0m\n\u001b[0m",
      "\u001b[0;31mNameError\u001b[0m: name 'df_unfaelle' is not defined"
     ]
    }
   ],
   "source": [
    "df_unfaelle.groupby('Jahr')[(df_unfaelle['Lichtverhältnis UAP'] == 622)]"
   ]
  },
  {
   "cell_type": "code",
   "execution_count": null,
   "metadata": {
    "collapsed": true
   },
   "outputs": [],
   "source": []
  },
  {
   "cell_type": "code",
   "execution_count": null,
   "metadata": {
    "collapsed": true
   },
   "outputs": [],
   "source": []
  }
 ],
 "metadata": {
  "kernelspec": {
   "display_name": "Python 3",
   "language": "python",
   "name": "python3"
  },
  "language_info": {
   "codemirror_mode": {
    "name": "ipython",
    "version": 3
   },
   "file_extension": ".py",
   "mimetype": "text/x-python",
   "name": "python",
   "nbconvert_exporter": "python",
   "pygments_lexer": "ipython3",
   "version": "3.5.1"
  }
 },
 "nbformat": 4,
 "nbformat_minor": 0
}
