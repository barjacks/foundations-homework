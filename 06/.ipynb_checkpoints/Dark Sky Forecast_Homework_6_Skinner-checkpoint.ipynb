{
 "cells": [
  {
   "cell_type": "markdown",
   "metadata": {},
   "source": [
    "You'll be using the Dark Sky Forecast API from Forecast.io, available at https://developer.forecast.io. It's a pretty simple API, but be sure to read the documentation!"
   ]
  },
  {
   "cell_type": "markdown",
   "metadata": {},
   "source": [
    "A forecast request returns the current forecast (for the next week): \n",
    "https://api.forecast.io/forecast/APIKEY/LATITUDE,LONGITUDE\n",
    "\n",
    "A time-machine request returns the observed weather at a given time (for many places, up to 60 years in the past): https://api.forecast.io/forecast/APIKEY/LATITUDE,LONGITUDE,TIME\n"
   ]
  },
  {
   "cell_type": "markdown",
   "metadata": {},
   "source": [
    "1) Make a request from the Forecast.io API for where you were born (or lived, or want to visit!)."
   ]
  },
  {
   "cell_type": "code",
   "execution_count": 40,
   "metadata": {
    "collapsed": true
   },
   "outputs": [],
   "source": [
    "import requests"
   ]
  },
  {
   "cell_type": "code",
   "execution_count": 41,
   "metadata": {
    "collapsed": true
   },
   "outputs": [],
   "source": [
    "response = requests.get(\"https://api.forecast.io/forecast/e554f37a8164ce189acd210d00a452e0/47.4079,9.4647\")\n",
    "weather_data = response.json()\n",
    "weather_data.keys()"
   ]
  },
  {
   "cell_type": "code",
   "execution_count": 42,
   "metadata": {
    "collapsed": false
   },
   "outputs": [
    {
     "data": {
      "text/plain": [
       "dict_keys(['longitude', 'timezone', 'daily', 'currently', 'latitude', 'flags', 'hourly', 'offset'])"
      ]
     },
     "execution_count": 42,
     "metadata": {},
     "output_type": "execute_result"
    }
   ],
   "source": []
  },
  {
   "cell_type": "code",
   "execution_count": 43,
   "metadata": {
    "collapsed": false
   },
   "outputs": [
    {
     "name": "stdout",
     "output_type": "stream",
     "text": [
      "Europe/Zurich\n"
     ]
    }
   ],
   "source": [
    "print(weather_data['timezone'])"
   ]
  },
  {
   "cell_type": "markdown",
   "metadata": {},
   "source": [
    "The time zone is correct!"
   ]
  },
  {
   "cell_type": "code",
   "execution_count": 44,
   "metadata": {
    "collapsed": false
   },
   "outputs": [
    {
     "name": "stdout",
     "output_type": "stream",
     "text": [
      "Longitude: 9.4647 Latitude 47.4079\n"
     ]
    }
   ],
   "source": [
    "print(\"Longitude:\", weather_data['longitude'], \"Latitude\", weather_data['latitude'])"
   ]
  },
  {
   "cell_type": "markdown",
   "metadata": {},
   "source": [
    "The longitude is mentioned first, and then the latitude. Usually, it is the other way round."
   ]
  },
  {
   "cell_type": "markdown",
   "metadata": {},
   "source": [
    "2) What's the current wind speed? How much warmer does it feel than it actually is?"
   ]
  },
  {
   "cell_type": "code",
   "execution_count": 45,
   "metadata": {
    "collapsed": false
   },
   "outputs": [
    {
     "data": {
      "text/plain": [
       "dict"
      ]
     },
     "execution_count": 45,
     "metadata": {},
     "output_type": "execute_result"
    }
   ],
   "source": [
    "type(weather_data['currently'])"
   ]
  },
  {
   "cell_type": "code",
   "execution_count": 46,
   "metadata": {
    "collapsed": false
   },
   "outputs": [
    {
     "data": {
      "text/plain": [
       "dict_keys(['icon', 'precipIntensity', 'ozone', 'precipType', 'cloudCover', 'apparentTemperature', 'visibility', 'temperature', 'precipProbability', 'humidity', 'pressure', 'windSpeed', 'windBearing', 'dewPoint', 'time', 'summary'])"
      ]
     },
     "execution_count": 46,
     "metadata": {},
     "output_type": "execute_result"
    }
   ],
   "source": [
    "weather_data['currently'].keys()"
   ]
  },
  {
   "cell_type": "code",
   "execution_count": 47,
   "metadata": {
    "collapsed": false
   },
   "outputs": [
    {
     "name": "stdout",
     "output_type": "stream",
     "text": [
      "The wind in Trogen, Switzerland, is currently blowing at 2.93 mph.\n"
     ]
    }
   ],
   "source": [
    "print(\"The wind in Trogen, Switzerland, is currently blowing at\", weather_data['currently']['windSpeed'], \"mph.\")"
   ]
  },
  {
   "cell_type": "code",
   "execution_count": 58,
   "metadata": {
    "collapsed": false
   },
   "outputs": [
    {
     "name": "stdout",
     "output_type": "stream",
     "text": [
      "The temperature feels exactly as you would expect it to feel, namely 52.7 degrees Fahrenheit, or 11 degrees Celsius.\n"
     ]
    }
   ],
   "source": [
    "weather = weather_data['currently']\n",
    "Temperature = int(weather['apparentTemperature']) - int(weather['temperature'])\n",
    "Celsius = round((int(weather['temperature']) - 32) * 5 / 9)\n",
    "if Temperature == 0:\n",
    "    print(\"The temperature feels exactly as you would expect it to feel, namely\", weather['temperature'], \"degrees Fahrenheit, or\", Celsius, \"degrees Celsius.\")\n",
    "elif Temperature > 0:\n",
    "    print(\"It feels\", Temperature, \"degrees Fahrenheit warmer than the actual temperature, which is\", weather['temperature'], \"degrees Fahrenheit, or\", Celsius, \"degrees Celsius.\")\n",
    "else:\n",
    "    print(\"It feels\", Temperature, \"degrees Fahrenheit colder than the actual temperature, which is\", weather['temperature'], \"degrees Fahrenheit, or\", Celsius, \"degrees Celsius.\")"
   ]
  },
  {
   "cell_type": "markdown",
   "metadata": {},
   "source": [
    "3) The first daily forecast is the forecast for today. For the place you decided on up above, how much of the moon is currently visible?"
   ]
  },
  {
   "cell_type": "code",
   "execution_count": 77,
   "metadata": {
    "collapsed": false
   },
   "outputs": [
    {
     "data": {
      "text/plain": [
       "dict"
      ]
     },
     "execution_count": 77,
     "metadata": {},
     "output_type": "execute_result"
    }
   ],
   "source": [
    "type(weather_data['daily'])"
   ]
  },
  {
   "cell_type": "code",
   "execution_count": 78,
   "metadata": {
    "collapsed": false
   },
   "outputs": [
    {
     "data": {
      "text/plain": [
       "dict_keys(['data', 'icon', 'summary'])"
      ]
     },
     "execution_count": 78,
     "metadata": {},
     "output_type": "execute_result"
    }
   ],
   "source": [
    "weather_data['daily'].keys()"
   ]
  },
  {
   "cell_type": "code",
   "execution_count": 79,
   "metadata": {
    "collapsed": false
   },
   "outputs": [
    {
     "data": {
      "text/plain": [
       "list"
      ]
     },
     "execution_count": 79,
     "metadata": {},
     "output_type": "execute_result"
    }
   ],
   "source": [
    "type(weather_data['daily']['data'])"
   ]
  },
  {
   "cell_type": "code",
   "execution_count": 90,
   "metadata": {
    "collapsed": false
   },
   "outputs": [
    {
     "name": "stdout",
     "output_type": "stream",
     "text": [
      "Tommorrow is the Moon is in a Waxing Crescent phase. This is the first phase after New Moon.\n"
     ]
    }
   ],
   "source": [
    "for phase in weather_data['daily']['data']:\n",
    "    moon_forecast_tomorrow = phase['moonPhase']\n",
    "    break\n",
    "#print(phase['moonPhase'])\n",
    "if moon_forecast_tomorrow == 0:\n",
    "    print(\"Tomorrow is New Moon.\")\n",
    "elif moon_forecast_tomorrow > .75:\n",
    "    print(\"Tomorrow is the Moon is in a Waning Crescent phase.\")\n",
    "elif moon_forecast_tomorrow == .75:\n",
    "    print(\"Tomorrow is last quarter Moon.\")\n",
    "elif moon_forecast_tomorrow > .5:\n",
    "    print(\"Tommorrow is the Moon is in a Waning Gibbous phase.\")\n",
    "elif moon_forecast_tomorrow == .5:\n",
    "    print(\"Tommorrow is Full Moon.\")\n",
    "elif moon_forecast_tomorrow > .25:\n",
    "    print(\"Tommorrow is the Moon is a Waxing Gibbous phase.\")\n",
    "elif moon_forecast_tomorrow == .25:\n",
    "    print(\"Tommorrow is first Quarter Moon.\")\n",
    "elif moon_forecast_tomorrow > 0:\n",
    "    print(\"Tommorrow is the Moon is in a Waxing Crescent phase. This is the first phase after New Moon.\")\n"
   ]
  },
  {
   "cell_type": "markdown",
   "metadata": {},
   "source": [
    "4) What's the difference between the high and low temperatures for today?"
   ]
  },
  {
   "cell_type": "code",
   "execution_count": 101,
   "metadata": {
    "collapsed": false
   },
   "outputs": [
    {
     "name": "stdout",
     "output_type": "stream",
     "text": [
      "{'icon': 'rain', 'precipIntensity': 0.0225, 'ozone': 347.15, 'precipType': 'rain', 'cloudCover': 0.79, 'apparentTemperature': 52.7, 'visibility': 6.21, 'temperature': 52.7, 'precipProbability': 0.56, 'humidity': 0.91, 'pressure': 1017.36, 'windSpeed': 2.93, 'windBearing': 283, 'dewPoint': 50.08, 'time': 1465429364, 'summary': 'Light Rain'}\n"
     ]
    }
   ],
   "source": [
    "print(weather_data['currently'])"
   ]
  },
  {
   "cell_type": "code",
   "execution_count": 102,
   "metadata": {
    "collapsed": false
   },
   "outputs": [
    {
     "data": {
      "text/plain": [
       "dict_keys(['longitude', 'timezone', 'daily', 'currently', 'latitude', 'flags', 'hourly', 'offset'])"
      ]
     },
     "execution_count": 102,
     "metadata": {},
     "output_type": "execute_result"
    }
   ],
   "source": [
    "response = requests.get(\"https://api.forecast.io/forecast/e554f37a8164ce189acd210d00a452e0/47.4079,9.4647,1465420000\")\n",
    "hist_weather_data = response.json()\n",
    "\n",
    "hist_weather_data.keys()\n",
    "\n",
    "\n"
   ]
  },
  {
   "cell_type": "code",
   "execution_count": 103,
   "metadata": {
    "collapsed": false
   },
   "outputs": [
    {
     "data": {
      "text/plain": [
       "dict_keys(['data'])"
      ]
     },
     "execution_count": 103,
     "metadata": {},
     "output_type": "execute_result"
    }
   ],
   "source": [
    "hist_weather_data['daily'].keys()"
   ]
  },
  {
   "cell_type": "code",
   "execution_count": 104,
   "metadata": {
    "collapsed": false
   },
   "outputs": [
    {
     "name": "stdout",
     "output_type": "stream",
     "text": [
      "[{'precipIntensityMax': 0.0488, 'temperatureMax': 65.49, 'sunriseTime': 1465356438, 'temperatureMin': 53.83, 'precipIntensityMaxTime': 1465408800, 'precipType': 'rain', 'apparentTemperatureMin': 53.83, 'visibility': 6.14, 'moonPhase': 0.12, 'precipIntensity': 0.0157, 'humidity': 0.77, 'pressure': 1019.56, 'windSpeed': 2.35, 'windBearing': 254, 'apparentTemperatureMax': 65.49, 'temperatureMinTime': 1465351200, 'sunsetTime': 1465413482, 'ozone': 343.66, 'temperatureMaxTime': 1465390800, 'apparentTemperatureMinTime': 1465351200, 'time': 1465336800, 'apparentTemperatureMaxTime': 1465390800, 'icon': 'rain', 'cloudCover': 0.42, 'precipProbability': 0.65, 'summary': 'Light rain throughout the day.', 'dewPoint': 52.11}]\n"
     ]
    }
   ],
   "source": [
    "print(hist_weather_data['daily']['data'])"
   ]
  },
  {
   "cell_type": "code",
   "execution_count": 112,
   "metadata": {
    "collapsed": false
   },
   "outputs": [],
   "source": [
    "for n in hist_weather_data['daily']['data']:\n",
    "    Min = n['temperatureMin']\n",
    "    Max = n['temperatureMax']"
   ]
  },
  {
   "cell_type": "code",
   "execution_count": 114,
   "metadata": {
    "collapsed": false
   },
   "outputs": [
    {
     "name": "stdout",
     "output_type": "stream",
     "text": [
      "The diffrence between the high and low temperatures on Wendesday, June 8, was 12 Fahrenheit or 6 Celsius.\n"
     ]
    }
   ],
   "source": [
    "Min_Max = Max - Min\n",
    "Min_Max_Celsius = ((Max - 32) * 5 / 9) - ((Min - 32) * 5 / 9)\n",
    "print(\"The diffrence between the high and low temperatures on Wendesday, June 8, in Trogen, Switzerland, was\", round(Min_Max), \"Fahrenheit\", \"or\", round(Min_Max_Celsius), \"Celsius.\")"
   ]
  },
  {
   "cell_type": "markdown",
   "metadata": {},
   "source": [
    "5) Loop through the daily forecast, printing out the next week's worth of predictions. I'd like to know the high temperature for each day, and whether it's hot, warm, or cold, based on what temperatures you think are hot, warm or cold."
   ]
  },
  {
   "cell_type": "code",
   "execution_count": 158,
   "metadata": {
    "collapsed": false
   },
   "outputs": [
    {
     "data": {
      "text/plain": [
       "dict_keys(['longitude', 'timezone', 'minutely', 'daily', 'currently', 'latitude', 'flags', 'hourly', 'offset'])"
      ]
     },
     "execution_count": 158,
     "metadata": {},
     "output_type": "execute_result"
    }
   ],
   "source": [
    "response = requests.get(\"https://api.forecast.io/forecast/e554f37a8164ce189acd210d00a452e0/40.7128,-74.0059\")\n",
    "weather_data = response.json()\n",
    "weather_data.keys()"
   ]
  },
  {
   "cell_type": "code",
   "execution_count": 159,
   "metadata": {
    "collapsed": false
   },
   "outputs": [
    {
     "data": {
      "text/plain": [
       "dict_keys(['data', 'icon', 'summary'])"
      ]
     },
     "execution_count": 159,
     "metadata": {},
     "output_type": "execute_result"
    }
   ],
   "source": [
    "weather_data['daily'].keys()"
   ]
  },
  {
   "cell_type": "code",
   "execution_count": 160,
   "metadata": {
    "collapsed": false
   },
   "outputs": [
    {
     "name": "stdout",
     "output_type": "stream",
     "text": [
      "{'precipIntensityMax': 0.0974, 'temperatureMax': 66.27, 'sunriseTime': 1465377971, 'temperatureMin': 56.91, 'precipIntensityMaxTime': 1465408800, 'precipType': 'rain', 'apparentTemperatureMin': 56.91, 'visibility': 9.29, 'moonPhase': 0.13, 'precipIntensity': 0.0102, 'humidity': 0.63, 'pressure': 1004.47, 'windSpeed': 8.84, 'windBearing': 285, 'apparentTemperatureMax': 66.27, 'temperatureMinTime': 1465408800, 'sunsetTime': 1465432021, 'ozone': 369.45, 'temperatureMaxTime': 1465398000, 'apparentTemperatureMinTime': 1465408800, 'time': 1465358400, 'apparentTemperatureMaxTime': 1465398000, 'icon': 'rain', 'cloudCover': 0.22, 'precipProbability': 0.72, 'summary': 'Rain in the afternoon.', 'dewPoint': 48.53}\n"
     ]
    }
   ],
   "source": [
    "print(weather_data['daily']['data'][0])"
   ]
  },
  {
   "cell_type": "code",
   "execution_count": 161,
   "metadata": {
    "collapsed": false
   },
   "outputs": [
    {
     "name": "stdout",
     "output_type": "stream",
     "text": [
      "The maximum temperature for next week are 66.27 Fahrenheit or 19 Celsius. That is cold\n",
      "The maximum temperature for next week are 74.06 Fahrenheit or 23 Celsius. That is warm\n",
      "The maximum temperature for next week are 76.17 Fahrenheit or 25 Celsius. That is warm\n",
      "The maximum temperature for next week are 75.09 Fahrenheit or 24 Celsius. That is warm\n",
      "The maximum temperature for next week are 79.38 Fahrenheit or 26 Celsius. That is warm\n",
      "The maximum temperature for next week are 68.88 Fahrenheit or 20 Celsius. That is warm\n",
      "The maximum temperature for next week are 75.06 Fahrenheit or 24 Celsius. That is warm\n",
      "The maximum temperature for next week are 76.72 Fahrenheit or 25 Celsius. That is warm\n"
     ]
    }
   ],
   "source": [
    "Forecast = weather_data['daily']['data']\n",
    "for max_temp in Forecast:\n",
    "    Convert_Celsius = (max_temp['temperatureMax'] - 32) * 5 / 9\n",
    "    if Convert_Celsius > 30:\n",
    "        Temperature = \"hot\"\n",
    "    elif Convert_Celsius > 20:\n",
    "        Temperature = \"warm\"\n",
    "    else:\n",
    "        Temperature = \"cold\"\n",
    "    print(\"The maximum temperature for next week are\", max_temp['temperatureMax'], \"Fahrenheit or\", round(Convert_Celsius), \"Celsius. That is\", Temperature)"
   ]
  },
  {
   "cell_type": "code",
   "execution_count": 162,
   "metadata": {
    "collapsed": false
   },
   "outputs": [
    {
     "name": "stdout",
     "output_type": "stream",
     "text": [
      "2010-09-10\n"
     ]
    }
   ],
   "source": [
    " import datetime\n",
    "print(datetime.datetime.fromtimestamp(int(\"1284101485\")).strftime('%Y-%m-%d'))"
   ]
  },
  {
   "cell_type": "code",
   "execution_count": 163,
   "metadata": {
    "collapsed": false
   },
   "outputs": [
    {
     "name": "stdout",
     "output_type": "stream",
     "text": [
      "On 2016-06-08 the maximum temperature will be 66.27 Fahrenheit or 19 Celsius. That is cold\n",
      "On 2016-06-09 the maximum temperature will be 74.06 Fahrenheit or 23 Celsius. That is warm\n",
      "On 2016-06-10 the maximum temperature will be 76.17 Fahrenheit or 25 Celsius. That is warm\n",
      "On 2016-06-11 the maximum temperature will be 75.09 Fahrenheit or 24 Celsius. That is warm\n",
      "On 2016-06-12 the maximum temperature will be 79.38 Fahrenheit or 26 Celsius. That is warm\n",
      "On 2016-06-13 the maximum temperature will be 68.88 Fahrenheit or 20 Celsius. That is warm\n",
      "On 2016-06-14 the maximum temperature will be 75.06 Fahrenheit or 24 Celsius. That is warm\n",
      "On 2016-06-15 the maximum temperature will be 76.72 Fahrenheit or 25 Celsius. That is warm\n"
     ]
    }
   ],
   "source": [
    "import time\n",
    "import datetime\n",
    "Forecast = weather_data['daily']['data']\n",
    "for max_temp in Forecast:\n",
    "    Convert_Celsius = (max_temp['temperatureMax'] - 32) * 5 / 9\n",
    "    time = max_temp['time']\n",
    "    if Convert_Celsius > 30:\n",
    "        Temperature = \"hot\"\n",
    "    elif Convert_Celsius > 20:\n",
    "        Temperature = \"warm\"\n",
    "    else:\n",
    "        Temperature = \"cold\"\n",
    "    print(\"On\", datetime.datetime.fromtimestamp(int(time)).strftime('%Y-%m-%d'), \"the maximum temperature will be\", max_temp['temperatureMax'], \"Fahrenheit or\", round(Convert_Celsius), \"Celsius. That is\", Temperature)"
   ]
  },
  {
   "cell_type": "code",
   "execution_count": null,
   "metadata": {
    "collapsed": true
   },
   "outputs": [],
   "source": [
    "import datetime\n",
    "print(datetime.datetime.fromtimestamp(int(time)).strftime('%Y-%m-%d'))"
   ]
  },
  {
   "cell_type": "markdown",
   "metadata": {},
   "source": [
    "6) What's the weather looking like for the rest of today in Miami, Florida? I'd like to know the temperature for every hour, and if it's going to have cloud cover of more than 0.5 say \"{temperature} and cloudy\" instead of just the temperature."
   ]
  },
  {
   "cell_type": "code",
   "execution_count": 185,
   "metadata": {
    "collapsed": false
   },
   "outputs": [
    {
     "data": {
      "text/plain": [
       "dict_keys(['longitude', 'timezone', 'minutely', 'daily', 'currently', 'latitude', 'flags', 'hourly', 'offset'])"
      ]
     },
     "execution_count": 185,
     "metadata": {},
     "output_type": "execute_result"
    }
   ],
   "source": [
    "response = requests.get(\"https://api.forecast.io/forecast/e554f37a8164ce189acd210d00a452e0/25.7617,-80.1918\")\n",
    "Florida = response.json()\n",
    "Florida.keys()"
   ]
  },
  {
   "cell_type": "code",
   "execution_count": 186,
   "metadata": {
    "collapsed": false
   },
   "outputs": [
    {
     "data": {
      "text/plain": [
       "dict_keys(['data', 'icon', 'summary'])"
      ]
     },
     "execution_count": 186,
     "metadata": {},
     "output_type": "execute_result"
    }
   ],
   "source": [
    "Florida['hourly'].keys()"
   ]
  },
  {
   "cell_type": "code",
   "execution_count": 203,
   "metadata": {
    "collapsed": false
   },
   "outputs": [],
   "source": [
    "#print(Florida['hourly']['data'])"
   ]
  },
  {
   "cell_type": "code",
   "execution_count": 221,
   "metadata": {
    "collapsed": false
   },
   "outputs": [
    {
     "name": "stdout",
     "output_type": "stream",
     "text": [
      "22:00 { 76.8 °F} and cloudy\n",
      "23:00 { 76.56 °F} and cloudy\n",
      "00:00 { 76.65 °F} and cloudy\n",
      "01:00 { 76.47 °F} and cloudy\n",
      "02:00 { 76.78 °F} and cloudy\n",
      "03:00 { 77.11 °F} and cloudy\n",
      "04:00 { 77.83 °F} and cloudy\n",
      "05:00 { 78.16 °F} and cloudy\n",
      "06:00 { 77.88 °F} and cloudy\n",
      "07:00 { 78 °F} and cloudy\n",
      "08:00 { 78.86 °F} and cloudy\n",
      "09:00 { 80.1 °F} and cloudy\n",
      "10:00 { 81.81 °F} and cloudy\n",
      "11:00 { 83.69 °F} and cloudy\n",
      "12:00 { 84.97 °F} and cloudy\n",
      "13:00 { 85.9 °F} and cloudy\n",
      "14:00 { 86.58 °F} and cloudy\n",
      "15:00 { 86.04 °F} and cloudy\n",
      "16:00 { 85.77 °F} and cloudy\n",
      "17:00 { 85.25 °F} and cloudy\n",
      "18:00 { 84.46 °F} and cloudy\n",
      "19:00 { 83.37 °F} and cloudy\n",
      "20:00 { 82.84 °F} and cloudy\n",
      "21:00 { 82.04 °F} and cloudy\n",
      "22:00 { 81.33 °F} and cloudy\n",
      "23:00 { 81.13 °F} and cloudy\n",
      "00:00 { 80.76 °F} and cloudy\n",
      "01:00 { 80.21 °F} and cloudy\n",
      "02:00 { 79.54 °F} and cloudy\n",
      "03:00 { 79 °F} and cloudy\n",
      "04:00 { 78.41 °F} and cloudy\n",
      "05:00 { 77.88 °F} and cloudy\n",
      "06:00 { 77.54 °F} and cloudy\n",
      "07:00 { 78.38 °F} and cloudy\n",
      "08:00 { 79.75 °F} and cloudy\n",
      "09:00 { 81.56 °F} and cloudy\n",
      "10:00 { 83.43 °F} not cloudy\n",
      "11:00 { 84.92 °F} not cloudy\n",
      "12:00 { 86.14 °F} not cloudy\n",
      "13:00 { 87.55 °F} not cloudy\n",
      "14:00 { 88.65 °F} not cloudy\n",
      "15:00 { 88.32 °F} not cloudy\n",
      "16:00 { 87.57 °F} and cloudy\n",
      "17:00 { 86.64 °F} and cloudy\n",
      "18:00 { 85.61 °F} and cloudy\n",
      "19:00 { 84.52 °F} and cloudy\n",
      "20:00 { 83.6 °F} and cloudy\n",
      "21:00 { 82.9 °F} and cloudy\n",
      "22:00 { 82.24 °F} and cloudy\n"
     ]
    }
   ],
   "source": [
    "import time\n",
    "import datetime\n",
    "Hourly = Florida['hourly']['data']\n",
    "Hourly = Hourly\n",
    "for weather in Hourly:\n",
    "    time = weather['time']\n",
    "    if weather['cloudCover'] > 0.5:\n",
    "        cloudy = \"and cloudy\"\n",
    "    else:\n",
    "        cloudy = \"not cloudy\"\n",
    "    print(datetime.datetime.fromtimestamp(int(time)).strftime('%H:%M'), \"{\", weather['temperature'], \"°F}\",cloudy)"
   ]
  },
  {
   "cell_type": "code",
   "execution_count": null,
   "metadata": {
    "collapsed": true
   },
   "outputs": [],
   "source": []
  },
  {
   "cell_type": "code",
   "execution_count": null,
   "metadata": {
    "collapsed": true
   },
   "outputs": [],
   "source": []
  },
  {
   "cell_type": "code",
   "execution_count": null,
   "metadata": {
    "collapsed": true
   },
   "outputs": [],
   "source": []
  },
  {
   "cell_type": "markdown",
   "metadata": {},
   "source": [
    "7) What was the temperature in Central Park on Christmas Day, 1980? How about 1990? 2000?"
   ]
  },
  {
   "cell_type": "code",
   "execution_count": 183,
   "metadata": {
    "collapsed": false
   },
   "outputs": [
    {
     "data": {
      "text/plain": [
       "dict_keys(['longitude', 'timezone', 'daily', 'currently', 'latitude', 'flags', 'hourly', 'offset'])"
      ]
     },
     "execution_count": 183,
     "metadata": {},
     "output_type": "execute_result"
    }
   ],
   "source": [
    "response = requests.get(\"https://api.forecast.io/forecast/e554f37a8164ce189acd210d00a452e0/40.781750,-73.966641,346593600\")\n",
    "weather_data = response.json()\n",
    "weather_data.keys()"
   ]
  },
  {
   "cell_type": "code",
   "execution_count": 170,
   "metadata": {
    "collapsed": false
   },
   "outputs": [],
   "source": [
    "#print(weather_data['daily']['data'][0])"
   ]
  },
  {
   "cell_type": "code",
   "execution_count": 169,
   "metadata": {
    "collapsed": false
   },
   "outputs": [
    {
     "name": "stdout",
     "output_type": "stream",
     "text": [
      "The maximum temperature on Christmas Day 1980 in Centralpark was 29.53 Fahrenheit, or -1 degrees.\n"
     ]
    }
   ],
   "source": [
    "for Christmas in weather_data['daily']['data']:\n",
    "    Convert_Celsius = (Christmas['temperatureMax'] - 32) * 5 / 9\n",
    "    print(\"The maximum temperature on Christmas Day 1980 in Centralpark was\", \n",
    "          Christmas['temperatureMax'], \"Fahrenheit, or\", round(Convert_Celsius), \"degrees Celsius.\")"
   ]
  },
  {
   "cell_type": "code",
   "execution_count": 172,
   "metadata": {
    "collapsed": false
   },
   "outputs": [
    {
     "data": {
      "text/plain": [
       "dict_keys(['longitude', 'timezone', 'daily', 'currently', 'latitude', 'flags', 'hourly', 'offset'])"
      ]
     },
     "execution_count": 172,
     "metadata": {},
     "output_type": "execute_result"
    }
   ],
   "source": [
    "response = requests.get(\"https://api.forecast.io/forecast/e554f37a8164ce189acd210d00a452e0/40.781750,-73.966641,662126400\")\n",
    "weather_data_1990 = response.json()\n",
    "weather_data_1990.keys()\n",
    "\n",
    "response = requests.get(\"https://api.forecast.io/forecast/e554f37a8164ce189acd210d00a452e0/40.781750,-73.966641,977745600\")\n",
    "weather_data_2000 = response.json()\n",
    "weather_data_2000.keys()"
   ]
  },
  {
   "cell_type": "code",
   "execution_count": 173,
   "metadata": {
    "collapsed": false
   },
   "outputs": [
    {
     "name": "stdout",
     "output_type": "stream",
     "text": [
      "The maximum temperature on Christmas Day 1980 in Centralpark was 32.02 Fahrenheit, or 0 degrees Celsius.\n"
     ]
    }
   ],
   "source": [
    "for Christmas in weather_data_1990['daily']['data']:\n",
    "    Convert_Celsius = (Christmas['temperatureMax'] - 32) * 5 / 9\n",
    "    print(\"The maximum temperature on Christmas Day 1980 in Centralpark was\", \n",
    "          Christmas['temperatureMax'], \"Fahrenheit, or\", round(Convert_Celsius), \"degrees Celsius.\")"
   ]
  },
  {
   "cell_type": "code",
   "execution_count": 174,
   "metadata": {
    "collapsed": false
   },
   "outputs": [
    {
     "name": "stdout",
     "output_type": "stream",
     "text": [
      "The maximum temperature on Christmas Day 1980 in Centralpark was 27.02 Fahrenheit, or -3 degrees Celsius.\n"
     ]
    }
   ],
   "source": [
    "for Christmas in weather_data_2000['daily']['data']:\n",
    "    Convert_Celsius = (Christmas['temperatureMax'] - 32) * 5 / 9\n",
    "    print(\"The maximum temperature on Christmas Day 1980 in Centralpark was\", \n",
    "          Christmas['temperatureMax'], \"Fahrenheit, or\", round(Convert_Celsius), \"degrees Celsius.\")"
   ]
  },
  {
   "cell_type": "code",
   "execution_count": null,
   "metadata": {
    "collapsed": true
   },
   "outputs": [],
   "source": []
  }
 ],
 "metadata": {
  "kernelspec": {
   "display_name": "Python 3",
   "language": "python",
   "name": "python3"
  },
  "language_info": {
   "codemirror_mode": {
    "name": "ipython",
    "version": 3
   },
   "file_extension": ".py",
   "mimetype": "text/x-python",
   "name": "python",
   "nbconvert_exporter": "python",
   "pygments_lexer": "ipython3",
   "version": "3.5.1"
  }
 },
 "nbformat": 4,
 "nbformat_minor": 0
}
