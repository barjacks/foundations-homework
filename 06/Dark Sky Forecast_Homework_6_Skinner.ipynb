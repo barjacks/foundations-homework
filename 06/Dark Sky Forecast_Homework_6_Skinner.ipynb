{
 "cells": [
  {
   "cell_type": "markdown",
   "metadata": {},
   "source": [
    "You'll be using the Dark Sky Forecast API from Forecast.io, available at https://developer.forecast.io. It's a pretty simple API, but be sure to read the documentation!"
   ]
  },
  {
   "cell_type": "markdown",
   "metadata": {},
   "source": [
    "A forecast request returns the current forecast (for the next week): \n",
    "https://api.forecast.io/forecast/APIKEY/LATITUDE,LONGITUDE\n",
    "\n",
    "A time-machine request returns the observed weather at a given time (for many places, up to 60 years in the past): https://api.forecast.io/forecast/APIKEY/LATITUDE,LONGITUDE,TIME\n"
   ]
  },
  {
   "cell_type": "markdown",
   "metadata": {},
   "source": [
    "1) Make a request from the Forecast.io API for where you were born (or lived, or want to visit!)."
   ]
  },
  {
   "cell_type": "code",
   "execution_count": 2,
   "metadata": {
    "collapsed": true
   },
   "outputs": [],
   "source": [
    "import requests"
   ]
  },
  {
   "cell_type": "code",
   "execution_count": 35,
   "metadata": {
    "collapsed": false
   },
   "outputs": [
    {
     "data": {
      "text/plain": [
       "dict_keys(['longitude', 'currently', 'hourly', 'daily', 'latitude', 'flags', 'timezone', 'offset'])"
      ]
     },
     "execution_count": 35,
     "metadata": {},
     "output_type": "execute_result"
    }
   ],
   "source": [
    "response = requests.get(\"https://api.forecast.io/forecast/e554f37a8164ce189acd210d00a452e0/47.4079,9.4647\")\n",
    "weather_data = response.json()\n",
    "weather_data.keys()"
   ]
  },
  {
   "cell_type": "code",
   "execution_count": null,
   "metadata": {
    "collapsed": false
   },
   "outputs": [],
   "source": []
  },
  {
   "cell_type": "code",
   "execution_count": 36,
   "metadata": {
    "collapsed": false
   },
   "outputs": [
    {
     "name": "stdout",
     "output_type": "stream",
     "text": [
      "Europe/Zurich\n"
     ]
    }
   ],
   "source": [
    "print(weather_data['timezone'])"
   ]
  },
  {
   "cell_type": "markdown",
   "metadata": {},
   "source": [
    "The time zone of Trogen is correct! This is where I live."
   ]
  },
  {
   "cell_type": "code",
   "execution_count": 37,
   "metadata": {
    "collapsed": false
   },
   "outputs": [
    {
     "name": "stdout",
     "output_type": "stream",
     "text": [
      "Longitude: 9.4647 Latitude 47.4079\n"
     ]
    }
   ],
   "source": [
    "print(\"Longitude:\", weather_data['longitude'], \"Latitude\", weather_data['latitude'])"
   ]
  },
  {
   "cell_type": "markdown",
   "metadata": {},
   "source": [
    "The longitude is mentioned first, and then the latitude. Usually, it is the other way round."
   ]
  },
  {
   "cell_type": "markdown",
   "metadata": {},
   "source": [
    "2) What's the current wind speed? How much warmer does it feel than it actually is?"
   ]
  },
  {
   "cell_type": "code",
   "execution_count": 38,
   "metadata": {
    "collapsed": false
   },
   "outputs": [
    {
     "data": {
      "text/plain": [
       "dict"
      ]
     },
     "execution_count": 38,
     "metadata": {},
     "output_type": "execute_result"
    }
   ],
   "source": [
    "type(weather_data['currently'])"
   ]
  },
  {
   "cell_type": "code",
   "execution_count": 39,
   "metadata": {
    "collapsed": false
   },
   "outputs": [
    {
     "data": {
      "text/plain": [
       "dict_keys(['precipIntensity', 'time', 'ozone', 'visibility', 'humidity', 'apparentTemperature', 'dewPoint', 'pressure', 'windSpeed', 'cloudCover', 'temperature', 'windBearing', 'precipProbability', 'summary', 'icon'])"
      ]
     },
     "execution_count": 39,
     "metadata": {},
     "output_type": "execute_result"
    }
   ],
   "source": [
    "weather_data['currently'].keys()"
   ]
  },
  {
   "cell_type": "code",
   "execution_count": 40,
   "metadata": {
    "collapsed": false
   },
   "outputs": [
    {
     "name": "stdout",
     "output_type": "stream",
     "text": [
      "The wind in Trogen, Switzerland, is currently blowing at 3.97 mph.\n"
     ]
    }
   ],
   "source": [
    "print(\"The wind in Trogen, Switzerland, is currently blowing at\", weather_data['currently']['windSpeed'], \"mph.\")"
   ]
  },
  {
   "cell_type": "code",
   "execution_count": 41,
   "metadata": {
    "collapsed": false
   },
   "outputs": [
    {
     "name": "stdout",
     "output_type": "stream",
     "text": [
      "The temperature feels exactly as you would expect it to feel, namely 68.67 degrees Fahrenheit, or 20 degrees Celsius.\n"
     ]
    }
   ],
   "source": [
    "weather = weather_data['currently']\n",
    "Temperature = int(weather['apparentTemperature']) - int(weather['temperature'])\n",
    "Celsius = round((int(weather['temperature']) - 32) * 5 / 9)\n",
    "if Temperature == 0:\n",
    "    print(\"The temperature feels exactly as you would expect it to feel, namely\", weather['temperature'], \"degrees Fahrenheit, or\", Celsius, \"degrees Celsius.\")\n",
    "elif Temperature > 0:\n",
    "    print(\"It feels\", Temperature, \"degrees Fahrenheit warmer than the actual temperature, which is\", weather['temperature'], \"degrees Fahrenheit, or\", Celsius, \"degrees Celsius.\")\n",
    "else:\n",
    "    print(\"It feels\", Temperature, \"degrees Fahrenheit colder than the actual temperature, which is\", weather['temperature'], \"degrees Fahrenheit, or\", Celsius, \"degrees Celsius.\")"
   ]
  },
  {
   "cell_type": "markdown",
   "metadata": {},
   "source": [
    "3) The first daily forecast is the forecast for today. For the place you decided on up above, how much of the moon is currently visible?"
   ]
  },
  {
   "cell_type": "code",
   "execution_count": 42,
   "metadata": {
    "collapsed": false
   },
   "outputs": [
    {
     "data": {
      "text/plain": [
       "dict"
      ]
     },
     "execution_count": 42,
     "metadata": {},
     "output_type": "execute_result"
    }
   ],
   "source": [
    "type(weather_data['daily'])"
   ]
  },
  {
   "cell_type": "code",
   "execution_count": 43,
   "metadata": {
    "collapsed": false
   },
   "outputs": [
    {
     "data": {
      "text/plain": [
       "dict_keys(['summary', 'icon', 'data'])"
      ]
     },
     "execution_count": 43,
     "metadata": {},
     "output_type": "execute_result"
    }
   ],
   "source": [
    "weather_data['daily'].keys()"
   ]
  },
  {
   "cell_type": "code",
   "execution_count": 44,
   "metadata": {
    "collapsed": false
   },
   "outputs": [
    {
     "data": {
      "text/plain": [
       "list"
      ]
     },
     "execution_count": 44,
     "metadata": {},
     "output_type": "execute_result"
    }
   ],
   "source": [
    "type(weather_data['daily']['data'])"
   ]
  },
  {
   "cell_type": "code",
   "execution_count": 45,
   "metadata": {
    "collapsed": false
   },
   "outputs": [
    {
     "name": "stdout",
     "output_type": "stream",
     "text": [
      "Tommorrow the Moon is in a Waxing Crescent phase. This is the first phase after New Moon.\n"
     ]
    }
   ],
   "source": [
    "for phase in weather_data['daily']['data']:\n",
    "    moon_forecast_tomorrow = phase['moonPhase']\n",
    "    break\n",
    "#print(phase['moonPhase'])\n",
    "if moon_forecast_tomorrow == 0:\n",
    "    print(\"Tomorrow is New Moon.\")\n",
    "elif moon_forecast_tomorrow > .75:\n",
    "    print(\"Tomorrow the Moon is in a Waning Crescent phase.\")\n",
    "elif moon_forecast_tomorrow == .75:\n",
    "    print(\"Tomorrow is last quarter Moon.\")\n",
    "elif moon_forecast_tomorrow > .5:\n",
    "    print(\"Tommorrow the Moon is in a Waning Gibbous phase.\")\n",
    "elif moon_forecast_tomorrow == .5:\n",
    "    print(\"Tommorrow is Full Moon.\")\n",
    "elif moon_forecast_tomorrow > .25:\n",
    "    print(\"Tommorrow the Moon is a Waxing Gibbous phase.\")\n",
    "elif moon_forecast_tomorrow == .25:\n",
    "    print(\"Tommorrow is first Quarter Moon.\")\n",
    "elif moon_forecast_tomorrow > 0:\n",
    "    print(\"Tommorrow the Moon is in a Waxing Crescent phase. This is the first phase after New Moon.\")\n"
   ]
  },
  {
   "cell_type": "markdown",
   "metadata": {},
   "source": [
    "4) What's the difference between the high and low temperatures for today?"
   ]
  },
  {
   "cell_type": "code",
   "execution_count": 46,
   "metadata": {
    "collapsed": false
   },
   "outputs": [
    {
     "name": "stdout",
     "output_type": "stream",
     "text": [
      "{'precipIntensity': 0, 'time': 1465569903, 'ozone': 327.37, 'visibility': 6.21, 'humidity': 0.53, 'apparentTemperature': 68.67, 'dewPoint': 50.91, 'pressure': 1010.77, 'windSpeed': 3.97, 'cloudCover': 0.12, 'temperature': 68.67, 'windBearing': 10, 'precipProbability': 0, 'summary': 'Clear', 'icon': 'clear-day'}\n"
     ]
    }
   ],
   "source": [
    "print(weather_data['currently'])"
   ]
  },
  {
   "cell_type": "code",
   "execution_count": 47,
   "metadata": {
    "collapsed": false
   },
   "outputs": [
    {
     "data": {
      "text/plain": [
       "dict_keys(['longitude', 'currently', 'hourly', 'daily', 'latitude', 'flags', 'timezone', 'offset'])"
      ]
     },
     "execution_count": 47,
     "metadata": {},
     "output_type": "execute_result"
    }
   ],
   "source": [
    "response = requests.get(\"https://api.forecast.io/forecast/e554f37a8164ce189acd210d00a452e0/47.4079,9.4647,1465420000\")\n",
    "hist_weather_data = response.json()\n",
    "\n",
    "hist_weather_data.keys()\n",
    "\n",
    "\n"
   ]
  },
  {
   "cell_type": "code",
   "execution_count": 48,
   "metadata": {
    "collapsed": false
   },
   "outputs": [
    {
     "data": {
      "text/plain": [
       "dict_keys(['data'])"
      ]
     },
     "execution_count": 48,
     "metadata": {},
     "output_type": "execute_result"
    }
   ],
   "source": [
    "hist_weather_data['daily'].keys()"
   ]
  },
  {
   "cell_type": "code",
   "execution_count": 49,
   "metadata": {
    "collapsed": false
   },
   "outputs": [
    {
     "name": "stdout",
     "output_type": "stream",
     "text": [
      "[{'moonPhase': 0.12, 'time': 1465336800, 'precipIntensityMaxTime': 1465408800, 'visibility': 6.14, 'apparentTemperatureMaxTime': 1465390800, 'humidity': 0.75, 'ozone': 344.35, 'pressure': 1019.61, 'apparentTemperatureMax': 66.79, 'temperatureMax': 66.79, 'precipType': 'rain', 'windBearing': 251, 'precipIntensityMax': 0.0519, 'dewPoint': 53.99, 'summary': 'Light rain throughout the day.', 'precipIntensity': 0.0168, 'icon': 'rain', 'temperatureMin': 57.88, 'sunriseTime': 1465356438, 'temperatureMinTime': 1465419600, 'windSpeed': 2.86, 'apparentTemperatureMinTime': 1465419600, 'temperatureMaxTime': 1465390800, 'cloudCover': 0.41, 'apparentTemperatureMin': 57.88, 'sunsetTime': 1465413482, 'precipProbability': 0.65}]\n"
     ]
    }
   ],
   "source": [
    "print(hist_weather_data['daily']['data'])"
   ]
  },
  {
   "cell_type": "code",
   "execution_count": 50,
   "metadata": {
    "collapsed": false
   },
   "outputs": [],
   "source": [
    "for n in hist_weather_data['daily']['data']:\n",
    "    Min = n['temperatureMin']\n",
    "    Max = n['temperatureMax']"
   ]
  },
  {
   "cell_type": "code",
   "execution_count": 51,
   "metadata": {
    "collapsed": false
   },
   "outputs": [
    {
     "name": "stdout",
     "output_type": "stream",
     "text": [
      "The diffrence between the high and low temperatures on Wedesday, June 8, in Trogen, Switzerland, was 9 Fahrenheit or 5 Celsius.\n"
     ]
    }
   ],
   "source": [
    "Min_Max = Max - Min\n",
    "Min_Max_Celsius = ((Max - 32) * 5 / 9) - ((Min - 32) * 5 / 9)\n",
    "print(\"The diffrence between the high and low temperatures on Wedesday, June 8, in Trogen, Switzerland, was\", round(Min_Max), \"Fahrenheit\", \"or\", round(Min_Max_Celsius), \"Celsius.\")"
   ]
  },
  {
   "cell_type": "markdown",
   "metadata": {},
   "source": [
    "5) Loop through the daily forecast, printing out the next week's worth of predictions. I'd like to know the high temperature for each day, and whether it's hot, warm, or cold, based on what temperatures you think are hot, warm or cold."
   ]
  },
  {
   "cell_type": "code",
   "execution_count": 52,
   "metadata": {
    "collapsed": false
   },
   "outputs": [
    {
     "data": {
      "text/plain": [
       "dict_keys(['longitude', 'currently', 'daily', 'hourly', 'minutely', 'latitude', 'flags', 'timezone', 'offset'])"
      ]
     },
     "execution_count": 52,
     "metadata": {},
     "output_type": "execute_result"
    }
   ],
   "source": [
    "response = requests.get(\"https://api.forecast.io/forecast/e554f37a8164ce189acd210d00a452e0/40.7128,-74.0059\")\n",
    "weather_data = response.json()\n",
    "weather_data.keys()"
   ]
  },
  {
   "cell_type": "code",
   "execution_count": 53,
   "metadata": {
    "collapsed": false
   },
   "outputs": [
    {
     "data": {
      "text/plain": [
       "dict_keys(['summary', 'icon', 'data'])"
      ]
     },
     "execution_count": 53,
     "metadata": {},
     "output_type": "execute_result"
    }
   ],
   "source": [
    "weather_data['daily'].keys()"
   ]
  },
  {
   "cell_type": "code",
   "execution_count": 60,
   "metadata": {
    "collapsed": false
   },
   "outputs": [
    {
     "name": "stdout",
     "output_type": "stream",
     "text": [
      "{'moonPhase': 0.2, 'time': 1465531200, 'ozone': 377.46, 'visibility': 10, 'apparentTemperatureMaxTime': 1465592400, 'humidity': 0.39, 'pressure': 1015.38, 'apparentTemperatureMax': 77.53, 'temperatureMax': 77.53, 'windBearing': 298, 'precipIntensityMax': 0, 'dewPoint': 40.1, 'summary': 'Clear throughout the day.', 'precipIntensity': 0, 'icon': 'clear-day', 'temperatureMin': 56.26, 'sunriseTime': 1465550751, 'temperatureMinTime': 1465552800, 'windSpeed': 7.19, 'apparentTemperatureMinTime': 1465552800, 'temperatureMaxTime': 1465592400, 'cloudCover': 0.13, 'apparentTemperatureMin': 56.26, 'sunsetTime': 1465604885, 'precipProbability': 0}\n"
     ]
    }
   ],
   "source": [
    "print(weather_data['daily']['data'][0])"
   ]
  },
  {
   "cell_type": "code",
   "execution_count": 61,
   "metadata": {
    "collapsed": false
   },
   "outputs": [
    {
     "name": "stdout",
     "output_type": "stream",
     "text": [
      "The maximum temperature in New York for next week are 77.53 Fahrenheit or 25 Celsius. That is warm\n",
      "The maximum temperature in New York for next week are 81.4 Fahrenheit or 27 Celsius. That is warm\n",
      "The maximum temperature in New York for next week are 77.76 Fahrenheit or 25 Celsius. That is warm\n",
      "The maximum temperature in New York for next week are 73.44 Fahrenheit or 23 Celsius. That is warm\n",
      "The maximum temperature in New York for next week are 75.83 Fahrenheit or 24 Celsius. That is warm\n",
      "The maximum temperature in New York for next week are 75.01 Fahrenheit or 24 Celsius. That is warm\n",
      "The maximum temperature in New York for next week are 72.62 Fahrenheit or 23 Celsius. That is warm\n",
      "The maximum temperature in New York for next week are 74.5 Fahrenheit or 24 Celsius. That is warm\n"
     ]
    }
   ],
   "source": [
    "Forecast = weather_data['daily']['data']\n",
    "for max_temp in Forecast:\n",
    "    Convert_Celsius = (max_temp['temperatureMax'] - 32) * 5 / 9\n",
    "    if Convert_Celsius > 30:\n",
    "        Temperature = \"hot\"\n",
    "    elif Convert_Celsius > 20:\n",
    "        Temperature = \"warm\"\n",
    "    else:\n",
    "        Temperature = \"cold\"\n",
    "    print(\"The maximum temperature in New York for next week are\", max_temp['temperatureMax'], \"Fahrenheit or\", round(Convert_Celsius), \"Celsius. That is\", Temperature)"
   ]
  },
  {
   "cell_type": "code",
   "execution_count": 62,
   "metadata": {
    "collapsed": false
   },
   "outputs": [
    {
     "name": "stdout",
     "output_type": "stream",
     "text": [
      "2010-09-10\n"
     ]
    }
   ],
   "source": [
    " import datetime\n",
    "print(datetime.datetime.fromtimestamp(int(\"1284101485\")).strftime('%Y-%m-%d'))"
   ]
  },
  {
   "cell_type": "code",
   "execution_count": 71,
   "metadata": {
    "collapsed": false
   },
   "outputs": [
    {
     "name": "stdout",
     "output_type": "stream",
     "text": [
      "On Friday the maximum temperature will be 77.53 Fahrenheit or 25 Celsius. That is comfortably warm.\n",
      "On Saturday the maximum temperature will be 81.4 Fahrenheit or 27 Celsius. That is comfortably warm.\n",
      "On Sunday the maximum temperature will be 77.76 Fahrenheit or 25 Celsius. That is comfortably warm.\n",
      "On Monday the maximum temperature will be 73.44 Fahrenheit or 23 Celsius. That is comfortably warm.\n",
      "On Tuesday the maximum temperature will be 75.83 Fahrenheit or 24 Celsius. That is comfortably warm.\n",
      "On Wednesday the maximum temperature will be 75.01 Fahrenheit or 24 Celsius. That is comfortably warm.\n",
      "On Thursday the maximum temperature will be 72.62 Fahrenheit or 23 Celsius. That is comfortably warm.\n",
      "On Friday the maximum temperature will be 74.5 Fahrenheit or 24 Celsius. That is comfortably warm.\n"
     ]
    }
   ],
   "source": [
    "import time\n",
    "import datetime\n",
    "Forecast = weather_data['daily']['data']\n",
    "for max_temp in Forecast:\n",
    "    Convert_Celsius = (max_temp['temperatureMax'] - 32) * 5 / 9\n",
    "    time1 = max_temp['time']\n",
    "    if Convert_Celsius > 30:\n",
    "        Temperature = \"hot\"\n",
    "    elif Convert_Celsius > 20:\n",
    "        Temperature = \"comfortably warm.\"\n",
    "    else:\n",
    "        Temperature = \"cold\"\n",
    "    #print(\"On\", time.strftime('%A, %b %d', time.localtime(time1)), \"the maximum temperature will be\", max_temp['temperatureMax'], \"Fahrenheit or\", round(Convert_Celsius), \"Celsius. That is\", Temperature)\n",
    "    print(\"On\", time.strftime('%A', time.localtime(time1)), \"the maximum temperature will be\", max_temp['temperatureMax'], \"Fahrenheit or\", round(Convert_Celsius), \"Celsius. That is\", Temperature)"
   ]
  },
  {
   "cell_type": "code",
   "execution_count": 72,
   "metadata": {
    "collapsed": false
   },
   "outputs": [
    {
     "ename": "TypeError",
     "evalue": "int() argument must be a string, a bytes-like object or a number, not 'module'",
     "output_type": "error",
     "traceback": [
      "\u001b[0;31m---------------------------------------------------------------------------\u001b[0m",
      "\u001b[0;31mTypeError\u001b[0m                                 Traceback (most recent call last)",
      "\u001b[0;32m<ipython-input-72-454f31c40e68>\u001b[0m in \u001b[0;36m<module>\u001b[0;34m()\u001b[0m\n\u001b[1;32m      1\u001b[0m \u001b[0;32mimport\u001b[0m \u001b[0mdatetime\u001b[0m\u001b[0;34m\u001b[0m\u001b[0m\n\u001b[0;32m----> 2\u001b[0;31m \u001b[0mprint\u001b[0m\u001b[0;34m(\u001b[0m\u001b[0mdatetime\u001b[0m\u001b[0;34m.\u001b[0m\u001b[0mdatetime\u001b[0m\u001b[0;34m.\u001b[0m\u001b[0mfromtimestamp\u001b[0m\u001b[0;34m(\u001b[0m\u001b[0mint\u001b[0m\u001b[0;34m(\u001b[0m\u001b[0mtime\u001b[0m\u001b[0;34m)\u001b[0m\u001b[0;34m)\u001b[0m\u001b[0;34m.\u001b[0m\u001b[0mstrftime\u001b[0m\u001b[0;34m(\u001b[0m\u001b[0;34m'%Y-%m-%d'\u001b[0m\u001b[0;34m)\u001b[0m\u001b[0;34m)\u001b[0m\u001b[0;34m\u001b[0m\u001b[0m\n\u001b[0m",
      "\u001b[0;31mTypeError\u001b[0m: int() argument must be a string, a bytes-like object or a number, not 'module'"
     ]
    }
   ],
   "source": [
    "import datetime\n",
    "print(datetime.datetime.fromtimestamp(int(time)).strftime('%Y-%m-%d'))"
   ]
  },
  {
   "cell_type": "markdown",
   "metadata": {},
   "source": [
    "6) What's the weather looking like for the rest of today in Miami, Florida? I'd like to know the temperature for every hour, and if it's going to have cloud cover of more than 0.5 say \"{temperature} and cloudy\" instead of just the temperature."
   ]
  },
  {
   "cell_type": "code",
   "execution_count": 73,
   "metadata": {
    "collapsed": false
   },
   "outputs": [
    {
     "data": {
      "text/plain": [
       "dict_keys(['longitude', 'currently', 'daily', 'hourly', 'minutely', 'latitude', 'flags', 'timezone', 'offset'])"
      ]
     },
     "execution_count": 73,
     "metadata": {},
     "output_type": "execute_result"
    }
   ],
   "source": [
    "response = requests.get(\"https://api.forecast.io/forecast/e554f37a8164ce189acd210d00a452e0/25.7617,-80.1918\")\n",
    "Florida = response.json()\n",
    "Florida.keys()"
   ]
  },
  {
   "cell_type": "code",
   "execution_count": 74,
   "metadata": {
    "collapsed": false
   },
   "outputs": [
    {
     "data": {
      "text/plain": [
       "dict_keys(['summary', 'icon', 'data'])"
      ]
     },
     "execution_count": 74,
     "metadata": {},
     "output_type": "execute_result"
    }
   ],
   "source": [
    "Florida['hourly'].keys()"
   ]
  },
  {
   "cell_type": "code",
   "execution_count": 75,
   "metadata": {
    "collapsed": false
   },
   "outputs": [],
   "source": [
    "#print(Florida['hourly']['data'])"
   ]
  },
  {
   "cell_type": "code",
   "execution_count": 76,
   "metadata": {
    "collapsed": false
   },
   "outputs": [
    {
     "name": "stdout",
     "output_type": "stream",
     "text": [
      "10:00 { 84.66 °F} and cloudy\n",
      "11:00 { 86.01 °F} and cloudy\n",
      "12:00 { 86.45 °F} and cloudy\n",
      "13:00 { 86.75 °F} and cloudy\n",
      "14:00 { 87.24 °F} and cloudy\n",
      "15:00 { 87.18 °F} and cloudy\n",
      "16:00 { 86.24 °F} and cloudy\n",
      "17:00 { 85.1 °F} and cloudy\n",
      "18:00 { 84.04 °F} and cloudy\n",
      "19:00 { 83.27 °F} and cloudy\n",
      "20:00 { 82.31 °F} and cloudy\n",
      "21:00 { 81.45 °F} and cloudy\n",
      "22:00 { 80.96 °F} and cloudy\n",
      "23:00 { 80.66 °F} and cloudy\n",
      "00:00 { 79.94 °F} and cloudy\n"
     ]
    }
   ],
   "source": [
    "import time\n",
    "import datetime\n",
    "Hourly = Florida['hourly']['data']\n",
    "Hourly = Hourly\n",
    "for weather in Hourly:\n",
    "    time = weather['time']\n",
    "    stop_time = datetime.datetime.fromtimestamp(int(time)).strftime('%H')\n",
    "    if stop_time == '01':\n",
    "        break\n",
    "    if weather['cloudCover'] > 0.5:\n",
    "        cloudy = \"and cloudy\"\n",
    "    else:\n",
    "        cloudy = \"not cloudy\"\n",
    "    print(datetime.datetime.fromtimestamp(int(time)).strftime('%H:%M'), \"{\", weather['temperature'], \"°F}\",cloudy)"
   ]
  },
  {
   "cell_type": "markdown",
   "metadata": {},
   "source": [
    "7) What was the temperature in Central Park on Christmas Day, 1980? How about 1990? 2000?"
   ]
  },
  {
   "cell_type": "code",
   "execution_count": 77,
   "metadata": {
    "collapsed": false
   },
   "outputs": [
    {
     "data": {
      "text/plain": [
       "dict_keys(['longitude', 'currently', 'hourly', 'daily', 'latitude', 'flags', 'timezone', 'offset'])"
      ]
     },
     "execution_count": 77,
     "metadata": {},
     "output_type": "execute_result"
    }
   ],
   "source": [
    "response = requests.get(\"https://api.forecast.io/forecast/e554f37a8164ce189acd210d00a452e0/40.781750,-73.966641,346593600\")\n",
    "weather_data = response.json()\n",
    "weather_data.keys()"
   ]
  },
  {
   "cell_type": "code",
   "execution_count": 78,
   "metadata": {
    "collapsed": false
   },
   "outputs": [],
   "source": [
    "#print(weather_data['daily']['data'][0])"
   ]
  },
  {
   "cell_type": "code",
   "execution_count": 79,
   "metadata": {
    "collapsed": false
   },
   "outputs": [
    {
     "name": "stdout",
     "output_type": "stream",
     "text": [
      "The maximum temperature on Christmas Day 1980 in Centralpark was 29.53 Fahrenheit, or -1 degrees Celsius.\n"
     ]
    }
   ],
   "source": [
    "for Christmas in weather_data['daily']['data']:\n",
    "    Convert_Celsius = (Christmas['temperatureMax'] - 32) * 5 / 9\n",
    "    print(\"The maximum temperature on Christmas Day 1980 in Centralpark was\", \n",
    "          Christmas['temperatureMax'], \"Fahrenheit, or\", round(Convert_Celsius), \"degrees Celsius.\")"
   ]
  },
  {
   "cell_type": "code",
   "execution_count": 80,
   "metadata": {
    "collapsed": false
   },
   "outputs": [
    {
     "data": {
      "text/plain": [
       "dict_keys(['longitude', 'currently', 'hourly', 'daily', 'latitude', 'flags', 'timezone', 'offset'])"
      ]
     },
     "execution_count": 80,
     "metadata": {},
     "output_type": "execute_result"
    }
   ],
   "source": [
    "response = requests.get(\"https://api.forecast.io/forecast/e554f37a8164ce189acd210d00a452e0/40.781750,-73.966641,662126400\")\n",
    "weather_data_1990 = response.json()\n",
    "weather_data_1990.keys()\n",
    "\n",
    "response = requests.get(\"https://api.forecast.io/forecast/e554f37a8164ce189acd210d00a452e0/40.781750,-73.966641,977745600\")\n",
    "weather_data_2000 = response.json()\n",
    "weather_data_2000.keys()"
   ]
  },
  {
   "cell_type": "code",
   "execution_count": 81,
   "metadata": {
    "collapsed": false
   },
   "outputs": [
    {
     "name": "stdout",
     "output_type": "stream",
     "text": [
      "The maximum temperature on Christmas Day 1990 in Centralpark was 32.02 Fahrenheit, or 0 degrees Celsius.\n"
     ]
    }
   ],
   "source": [
    "for Christmas in weather_data_1990['daily']['data']:\n",
    "    Convert_Celsius = (Christmas['temperatureMax'] - 32) * 5 / 9\n",
    "    print(\"The maximum temperature on Christmas Day 1990 in Centralpark was\", \n",
    "          Christmas['temperatureMax'], \"Fahrenheit, or\", round(Convert_Celsius), \"degrees Celsius.\")"
   ]
  },
  {
   "cell_type": "code",
   "execution_count": 82,
   "metadata": {
    "collapsed": false
   },
   "outputs": [
    {
     "name": "stdout",
     "output_type": "stream",
     "text": [
      "The maximum temperature on Christmas Day 1980 in Centralpark was 27.02 Fahrenheit, or -3 degrees Celsius.\n"
     ]
    }
   ],
   "source": [
    "for Christmas in weather_data_2000['daily']['data']:\n",
    "    Convert_Celsius = (Christmas['temperatureMax'] - 32) * 5 / 9\n",
    "    print(\"The maximum temperature on Christmas Day 1980 in Centralpark was\", \n",
    "          Christmas['temperatureMax'], \"Fahrenheit, or\", round(Convert_Celsius), \"degrees Celsius.\")"
   ]
  },
  {
   "cell_type": "code",
   "execution_count": null,
   "metadata": {
    "collapsed": true
   },
   "outputs": [],
   "source": []
  }
 ],
 "metadata": {
  "kernelspec": {
   "display_name": "Python 3",
   "language": "python",
   "name": "python3"
  },
  "language_info": {
   "codemirror_mode": {
    "name": "ipython",
    "version": 3
   },
   "file_extension": ".py",
   "mimetype": "text/x-python",
   "name": "python",
   "nbconvert_exporter": "python",
   "pygments_lexer": "ipython3",
   "version": "3.5.1"
  }
 },
 "nbformat": 4,
 "nbformat_minor": 0
}
