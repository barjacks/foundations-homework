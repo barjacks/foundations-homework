{
 "cells": [
  {
   "cell_type": "code",
   "execution_count": 1,
   "metadata": {
    "collapsed": false
   },
   "outputs": [],
   "source": [
    "import requests\n",
    "from bs4 import BeautifulSoup"
   ]
  },
  {
   "cell_type": "markdown",
   "metadata": {},
   "source": [
    "# Normal scraping\n",
    "\n",
    "By now we all know how to scrape normal sites (kind of, mostly, somewhat)."
   ]
  },
  {
   "cell_type": "code",
   "execution_count": null,
   "metadata": {
    "collapsed": false
   },
   "outputs": [],
   "source": [
    "# Grab the NYT's homepage\n",
    "# http://docs.python-requests.org/en/master/\n",
    "# vs urllib\n",
    "\n",
    " \n",
    "\n"
   ]
  },
  {
   "cell_type": "code",
   "execution_count": 7,
   "metadata": {
    "collapsed": false
   },
   "outputs": [
    {
     "name": "stdout",
     "output_type": "stream",
     "text": [
      "\n",
      "        Iraqi Forces Enter Falluja, Encountering Little Fight From ISIS        \n",
      "\n",
      "        An Expensive Law Degree, and No Place to Use It        \n",
      "\n",
      "        Op-Ed Contributor: Why We Should Politicize the Orlando Massacre        \n",
      "\n",
      "        Orlando Survivors Recall Night of Terror: ‘Then He Shoots Me Again’        \n",
      "\n",
      "        The First Big Company to Say It’s Serving the Legal Marijuana Trade? Microsoft.        \n",
      "\n",
      "        Christo’s Newest Project: Walking on Water        \n",
      "\n",
      "        Spurred by Orlando Shooting, Senator Offers a Gun Control Compromise        \n",
      "\n",
      "        Modern Love: A Path to Fatherhood, With (Shared) Morning Sickness        \n",
      "\n",
      "        Review: In ‘Finding Dory,’ a Forgetful Fish and a Warm Celebration of Differences        \n",
      "\n",
      "        Brooklyn’s Private Jewish Patrols Wield Power. Some Call Them Bullies.        \n",
      "\n",
      "        Cavaliers 115, Warriors 101 | Series is tied, 3-3: LeBron James and Cavaliers Rout Warriors, Forcing Game 7        \n",
      "\n",
      "        Is ‘Shrew’ Worth Taming? Female Directors Keep Trying        \n",
      "\n",
      "        Fighting ISIS With an Algorithm, Physicists Try to Predict Attacks        \n",
      "\n",
      "        Gene Cavallero Jr., Who Ran the Colony Restaurant, Dies at 92        \n",
      "\n",
      "        Critic's Notebook: After Orlando Shooting, Talk Show Hosts Suggest Talk Is Not Enough        \n",
      "\n",
      "        Well: With Our Father’s Death, a Chance for Me and ‘the Boys’ to Connect        \n",
      "\n",
      "        4 Roller Coasters That Put the Theme in Theme Park        \n",
      "\n",
      "        Books of The Times: Review: Annie Proulx’s ‘Barkskins’ Is an Epic Tale of Logging and Doom        \n",
      "\n",
      "        Race/Related: Moving to Make Amends, Georgetown President Meets With Descendant of Slaves        \n",
      "\n",
      "        Hungry City: The Secret to District Saigon’s Broths: Slow Cooking        \n",
      "\n",
      "        Judith Shulevitz: How to Fix Feminism        \n",
      "\n",
      "        Bidding Wars in the Suburbs        \n",
      "\n",
      "        Public Health: Adults May Be Dying Younger, but Children Are Getting Healthier        \n",
      "\n",
      "        Feature: One Man’s Quest to Get Americans to Care About Rugby        \n",
      "\n",
      "        Wheels: Skeptics of Self-Driving Cars Span Generations        \n",
      "\n",
      "        Five New, Transporting L.A. Boutiques To Shop Now        \n",
      "\n",
      "        Tune In to The Times: The Times on the Air: Terrorism, Trump and Trolls        \n"
     ]
    },
    {
     "name": "stderr",
     "output_type": "stream",
     "text": [
      "/usr/local/lib/python3.5/site-packages/bs4/__init__.py:166: UserWarning: No parser was explicitly specified, so I'm using the best available HTML parser for this system (\"html.parser\"). This usually isn't a problem, but if you run this code on another system, or in a different virtual environment, it may use a different parser and behave differently.\n",
      "\n",
      "To get rid of this warning, change this:\n",
      "\n",
      " BeautifulSoup([your markup])\n",
      "\n",
      "to this:\n",
      "\n",
      " BeautifulSoup([your markup], \"html.parser\")\n",
      "\n",
      "  markup_type=markup_type))\n"
     ]
    }
   ],
   "source": [
    "response = requests.get(\"http://nytimes.com\")\n",
    "doc = BeautifulSoup(response.text)\n",
    "\n",
    "# Snag all of the headlines (h3 tags with 'story-heading' class)\n",
    "headlines = doc.find_all('h3', {'class': 'story-heading'})\n",
    "#headolines = doc.search(\"h3.story-heading\")\n",
    "\n",
    "\n",
    "# Getting the headline text out using list comprehensions\n",
    "# is a lot more fun but I guess you just learned those\n",
    "# like a day ago, so we'll go ahead and use a for loop.\n",
    "# But for the curious:\n",
    "#   [headline.text.strip() for headline in headlines]\n",
    "\n",
    "# Print the text of the headlines\n",
    "for headline in headlines:\n",
    "    print(headline.string)"
   ]
  },
  {
   "cell_type": "markdown",
   "metadata": {},
   "source": [
    "# But... forms!\n",
    "\n",
    "So the issue is that sometimes you need to submit *forms* on a web site. Why? Well, let's look at an example.\n",
    "\n",
    "This example is going to come from [Dan Nguyen](https://twitter.com/dancow)'s incredible [Search, Script, Scrape](https://github.com/compjour/search-script-scrape), 101 scraping exercises.\n",
    "\n",
    "> The number of FDA-approved, but now discontinued drug products that contain Fentanyl as an active ingredient\n",
    ">\n",
    "> Related URL: [http://www.accessdata.fda.gov/scripts/cder/ob/docs/queryai.cfm](http://www.accessdata.fda.gov/scripts/cder/ob/docs/queryai.cfm)\n",
    "\n",
    "When you visit that URL, you're going to type in \"Fentanyl,\" and select \"Disc (Discontinued Drug Products).\" Then you'll hit **search**.\n",
    "\n",
    "Hooray, results! Now **look at the URL.**\n",
    "\n",
    "> http://www.accessdata.fda.gov/scripts/cder/ob/docs/tempai.cfm\n",
    "\n",
    "Does anything about that URL say \"Fentanyl\" or \"Discontinued Drug Products\"? Nope! And if you [straight up visit it](http://www.accessdata.fda.gov/scripts/cder/ob/docs/tempai.cfm) (might need to open an Incognito window) you'll end up being redirected back to a different page. \n",
    "\n",
    "This means **`requests.get` just isn't going to cut it.** If you tell `requests` to download that page it's going to get a whooole lot of uselessness.\n",
    "\n",
    "Be my guest if you want to try it!"
   ]
  },
  {
   "cell_type": "code",
   "execution_count": null,
   "metadata": {
    "collapsed": true
   },
   "outputs": [],
   "source": [
    "Post and get"
   ]
  },
  {
   "cell_type": "code",
   "execution_count": null,
   "metadata": {
    "collapsed": true
   },
   "outputs": [],
   "source": [
    "url = 'http://www.accessdata.fda.gov/scripts/cder/ob/docs/queryai.cfm')\n",
    "paramenters ={'q': 'cats with guitaes'}\n",
    "reponse = requests.post('http://www.accessdata.fda.gov/scripts/cder/ob/docs/queryai.cfm')"
   ]
  },
  {
   "cell_type": "code",
   "execution_count": null,
   "metadata": {
    "collapsed": true
   },
   "outputs": [],
   "source": [
    "url = 'http://www.accessdata.fda.gov/scripts/cder/ob/docs/queryai.cfm')\n",
    "paramenters ={'Generiic_Name': 'Fentanyl', 'table1': 'OB_Disc'}\n",
    "reponse = requests.post(url, post)\n",
    "#Inspect the form with Developter tools\n",
    "#Spy on the request we sent to the server.\n",
    "#DEv Tools, Network, run search."
   ]
  },
  {
   "cell_type": "code",
   "execution_count": null,
   "metadata": {
    "collapsed": true
   },
   "outputs": [],
   "source": [
    "doc = BeautifulSoup(response.text, 'html.parser')\n",
    "\n",
    "links\n"
   ]
  },
  {
   "cell_type": "code",
   "execution_count": null,
   "metadata": {
    "collapsed": true
   },
   "outputs": [],
   "source": [
    "# Just in case you didn't run it up there, I'll import again\n",
    "import requests\n",
    "\n"
   ]
  },
  {
   "cell_type": "code",
   "execution_count": null,
   "metadata": {
    "collapsed": false
   },
   "outputs": [],
   "source": [
    "# Using .select instead of .find is a little more\n",
    "# readable to people from the web dev world, maybe?\n"
   ]
  },
  {
   "cell_type": "markdown",
   "metadata": {},
   "source": [
    "It's magic, I swear!\n",
    "\n",
    "# But then...\n",
    "\n",
    "Sometimes `requests.get` just isn't enough. Why? It mostly has to do with JavaScript or complicated forms - when a site reacts and changes without loading a new page, you can't use `requests` for that (think \"Load more\" buttons on Instagram).\n",
    "\n",
    "For those sites you need **Selenium!** Selenium = you put your browser on autopilot. As in, literally, it takes control over your browser. There are \"headless\" versions that use invisible browsers but if you don't like to install a bunch of stuff, the normal version is usually fine.\n",
    "\n",
    "## Installing Selenium\n"
   ]
  },
  {
   "cell_type": "markdown",
   "metadata": {
    "collapsed": true
   },
   "source": [
    "Selenium isn't just a Python package, but you'll need to install **python bindings** in order to have Python talk to Selenium.\n",
    "\n",
    "````\n",
    "pip install selenium\n",
    "````\n",
    "\n",
    "You'll also need the [Firefox browser](https://www.mozilla.org/en-US/firefox), since that's the browser we're going to be controlling.\n",
    "\n",
    "Selenium is built on **WebDrivers**, which are libraries that let you... drive a browser. I believe it comes with a Firefox WebDriver, whereas Safari/Chrome/etc take a little more effort to set up."
   ]
  },
  {
   "cell_type": "code",
   "execution_count": 9,
   "metadata": {
    "collapsed": false
   },
   "outputs": [
    {
     "name": "stdout",
     "output_type": "stream",
     "text": [
      "Collecting selenium\n",
      "  Downloading selenium-2.53.5-py2.py3-none-any.whl (884kB)\n",
      "\u001b[K    100% |████████████████████████████████| 890kB 815kB/s \n",
      "\u001b[?25hInstalling collected packages: selenium\n",
      "\u001b[31mException:\n",
      "Traceback (most recent call last):\n",
      "  File \"/usr/local/lib/python3.5/site-packages/pip/basecommand.py\", line 215, in main\n",
      "    status = self.run(options, args)\n",
      "  File \"/usr/local/lib/python3.5/site-packages/pip/commands/install.py\", line 317, in run\n",
      "    prefix=options.prefix_path,\n",
      "  File \"/usr/local/lib/python3.5/site-packages/pip/req/req_set.py\", line 742, in install\n",
      "    **kwargs\n",
      "  File \"/usr/local/lib/python3.5/site-packages/pip/req/req_install.py\", line 831, in install\n",
      "    self.move_wheel_files(self.source_dir, root=root, prefix=prefix)\n",
      "  File \"/usr/local/lib/python3.5/site-packages/pip/req/req_install.py\", line 1032, in move_wheel_files\n",
      "    isolated=self.isolated,\n",
      "  File \"/usr/local/lib/python3.5/site-packages/pip/wheel.py\", line 378, in move_wheel_files\n",
      "    clobber(source, dest, False, fixer=fixer, filter=filter)\n",
      "  File \"/usr/local/lib/python3.5/site-packages/pip/wheel.py\", line 317, in clobber\n",
      "    ensure_dir(destdir)\n",
      "  File \"/usr/local/lib/python3.5/site-packages/pip/utils/__init__.py\", line 83, in ensure_dir\n",
      "    os.makedirs(path)\n",
      "  File \"/usr/local/Cellar/python3/3.5.1/Frameworks/Python.framework/Versions/3.5/lib/python3.5/os.py\", line 231, in makedirs\n",
      "    makedirs(head, mode, exist_ok)\n",
      "  File \"/usr/local/Cellar/python3/3.5.1/Frameworks/Python.framework/Versions/3.5/lib/python3.5/os.py\", line 231, in makedirs\n",
      "    makedirs(head, mode, exist_ok)\n",
      "  File \"/usr/local/Cellar/python3/3.5.1/Frameworks/Python.framework/Versions/3.5/lib/python3.5/os.py\", line 231, in makedirs\n",
      "    makedirs(head, mode, exist_ok)\n",
      "  File \"/usr/local/Cellar/python3/3.5.1/Frameworks/Python.framework/Versions/3.5/lib/python3.5/os.py\", line 241, in makedirs\n",
      "    mkdir(name, mode)\n",
      "PermissionError: [Errno 13] Permission denied: '/usr/local/selenium'\u001b[0m\n"
     ]
    }
   ],
   "source": [
    "!pip install selenium"
   ]
  },
  {
   "cell_type": "markdown",
   "metadata": {},
   "source": [
    "## Using Selenium"
   ]
  },
  {
   "cell_type": "code",
   "execution_count": 18,
   "metadata": {
    "collapsed": false
   },
   "outputs": [],
   "source": [
    "# Imports, of course\n",
    "from selenium import webdriver\n",
    "from selenium.webdriver.common.keys import Keys\n",
    "from selenium.webdriver.support.ui import Select\n",
    "from selenium.webdriver.support.ui import WebDriverWait\n"
   ]
  },
  {
   "cell_type": "code",
   "execution_count": 19,
   "metadata": {
    "collapsed": true
   },
   "outputs": [],
   "source": [
    "# Initialize a Firefox webdriver\n",
    "driver = webdriver.Firefox()\n",
    "\n",
    "#if not working, download this: http://www.seleniumhq.org/download/\n",
    "#Selenium Standalone Server\n",
    "#The Selenium Server is needed in order to run either Selenium RC style scripts or Remote Selenium WebDriver ones. The 2.x server is a drop-in replacement for the old Selenium RC server and is designed to be backwards compatible with your existing infrastructure.\n",
    "#Download version 2.53.0\n",
    "#To use the Selenium Server in a Grid configuration see the wiki page."
   ]
  },
  {
   "cell_type": "code",
   "execution_count": 20,
   "metadata": {
    "collapsed": false
   },
   "outputs": [],
   "source": [
    "# Grab the web page\n",
    "search_url = 'http://www.accessdata.fda.gov/scripts/cder/ob/docs/queryai.cfm'\n",
    "driver.get(search_url)"
   ]
  },
  {
   "cell_type": "code",
   "execution_count": 21,
   "metadata": {
    "collapsed": true
   },
   "outputs": [],
   "source": [
    "# You'll use selenium.webdriver.support.ui.Select\n",
    "# that we imported above to grab the Seelct element called \n",
    "# t_web_lookup__license_type_name, then select Acupuncturists\n",
    "name_input = driver.find_element_by_name('Generic_Name')\n",
    "name_input.send_keys('Fentanyl')\n",
    "# We use .find_element_by_name here because we know the name"
   ]
  },
  {
   "cell_type": "code",
   "execution_count": 34,
   "metadata": {
    "collapsed": true
   },
   "outputs": [],
   "source": [
    "search_url = 'https://app.hpla.doh.dc.gov/Weblookup/'\n",
    "driver.get(search_url)"
   ]
  },
  {
   "cell_type": "code",
   "execution_count": 35,
   "metadata": {
    "collapsed": true
   },
   "outputs": [],
   "source": [
    "name_input = driver.find_element_by_name('t_web_lookup__first_name')\n",
    "name_input.send_keys('Katherine')"
   ]
  },
  {
   "cell_type": "code",
   "execution_count": 36,
   "metadata": {
    "collapsed": false
   },
   "outputs": [],
   "source": [
    "# We use .find_element_by_id here because we know the id\n",
    "\n",
    "# Then we'll fake typing into it"
   ]
  },
  {
   "cell_type": "code",
   "execution_count": 37,
   "metadata": {
    "collapsed": false
   },
   "outputs": [],
   "source": [
    "# Now we can grab the search button and click it\n",
    "license_type = driver.find_element_by_name(\"t_web_lookup__license_type_name\")\n",
    "Select(license_type).select_by_value(\"ACUPUNCTURIST\")\n"
   ]
  },
  {
   "cell_type": "code",
   "execution_count": 38,
   "metadata": {
    "collapsed": false
   },
   "outputs": [],
   "source": [
    "search_button = driver.find_element_by_id(\"sch_button\")\n",
    "search_button.click()"
   ]
  },
  {
   "cell_type": "code",
   "execution_count": null,
   "metadata": {
    "collapsed": false
   },
   "outputs": [],
   "source": [
    "# Instead of using requests.get, we just look at .page_source of the driver\n"
   ]
  },
  {
   "cell_type": "code",
   "execution_count": 41,
   "metadata": {
    "collapsed": false
   },
   "outputs": [],
   "source": [
    "# We can feed that into Beautiful Soup\n",
    "doc = BeautifulSoup(driver.page_source, 'html.parser')"
   ]
  },
  {
   "cell_type": "code",
   "execution_count": 42,
   "metadata": {
    "collapsed": false
   },
   "outputs": [],
   "source": [
    "# It's a tricky table, but this grabs the linked names inside of the A\n",
    "#rows = doc.select(\"#datagrid_results tr\")\n",
    "rows = doc.find('table', id='datagrid_results').find_all('tr', attrs={'class': None})\n",
    "\n",
    "doctors = []\n",
    "for row in rows:\n",
    "   #print(row.attrs)\n",
    "   # Find the ones that don't have 'style' as an attribute\n",
    "   if 'style' in row.attrs:\n",
    "       # Skip it! It's a header or footer row\n",
    "       pass\n",
    "   else:\n",
    "       cells = row.find_all(\"td\")\n",
    "       doctor = {\n",
    "           'name': cells[0].text,\n",
    "           'number': cells[1].text,\n",
    "           'profession': cells[2].text,\n",
    "           'type': cells[3].text,\n",
    "           'status': cells[4].text,\n",
    "           'city': cells[5].text,\n",
    "           'state': cells[6].text\n",
    "       }\n",
    "       doctors.append(doctor)\n"
   ]
  },
  {
   "cell_type": "code",
   "execution_count": 43,
   "metadata": {
    "collapsed": false
   },
   "outputs": [
    {
     "name": "stdout",
     "output_type": "stream",
     "text": [
      "[{'state': 'MD', 'name': 'KATHERINE A. SALE', 'status': 'Expired', 'type': 'ACUPUNCTURIST', 'profession': 'MEDICINE', 'city': 'ARNOLD', 'number': 'AC30086'}, {'state': 'NA', 'name': 'KATHERINE F SEARS', 'status': 'Active', 'type': 'ACUPUNCTURIST', 'profession': 'MEDICINE', 'city': 'Unknown', 'number': 'AC30023'}, {'state': 'NA', 'name': 'KATHERINE J KAPUSNIK', 'status': 'Expired', 'type': 'ACUPUNCTURIST', 'profession': 'MEDICINE', 'city': 'Unknown', 'number': 'AC500105'}, {'state': 'DC', 'name': 'KATHERINE S. YONKERS', 'status': 'Active', 'type': 'ACUPUNCTURIST', 'profession': 'MEDICINE', 'city': 'WASHINGTON', 'number': 'AC30057'}]\n"
     ]
    }
   ],
   "source": [
    "print(doctors)"
   ]
  },
  {
   "cell_type": "code",
   "execution_count": null,
   "metadata": {
    "collapsed": true
   },
   "outputs": [],
   "source": []
  },
  {
   "cell_type": "code",
   "execution_count": null,
   "metadata": {
    "collapsed": true
   },
   "outputs": [],
   "source": []
  },
  {
   "cell_type": "code",
   "execution_count": null,
   "metadata": {
    "collapsed": true
   },
   "outputs": [],
   "source": []
  },
  {
   "cell_type": "code",
   "execution_count": null,
   "metadata": {
    "collapsed": true
   },
   "outputs": [],
   "source": []
  },
  {
   "cell_type": "markdown",
   "metadata": {},
   "source": [
    "## Closing the webdriver\n",
    "\n",
    "Once we have all the data we want, we can close our webdriver."
   ]
  },
  {
   "cell_type": "code",
   "execution_count": 52,
   "metadata": {
    "collapsed": true
   },
   "outputs": [],
   "source": [
    "# Close the webdriver\n",
    "driver.close()"
   ]
  },
  {
   "cell_type": "markdown",
   "metadata": {},
   "source": [
    "# Saving our data\n",
    "\n",
    "Now what are we going to do with our list of dictionaries? We *could* use a `csv.DictWriter` like in [this post](http://stackoverflow.com/questions/3086973/how-do-i-convert-this-list-of-dictionaries-to-a-csv-file-python), but it's actually quicker to do it with `pandas`.\n",
    "\n",
    "### Step One: import pandas"
   ]
  },
  {
   "cell_type": "code",
   "execution_count": 44,
   "metadata": {
    "collapsed": false
   },
   "outputs": [],
   "source": [
    "import pandas as pd"
   ]
  },
  {
   "cell_type": "markdown",
   "metadata": {},
   "source": [
    "### Step Two: Turn list into a DataFrame"
   ]
  },
  {
   "cell_type": "code",
   "execution_count": 46,
   "metadata": {
    "collapsed": false
   },
   "outputs": [
    {
     "data": {
      "text/html": [
       "<div>\n",
       "<table border=\"1\" class=\"dataframe\">\n",
       "  <thead>\n",
       "    <tr style=\"text-align: right;\">\n",
       "      <th></th>\n",
       "      <th>city</th>\n",
       "      <th>name</th>\n",
       "      <th>number</th>\n",
       "      <th>profession</th>\n",
       "      <th>state</th>\n",
       "      <th>status</th>\n",
       "      <th>type</th>\n",
       "    </tr>\n",
       "  </thead>\n",
       "  <tbody>\n",
       "    <tr>\n",
       "      <th>0</th>\n",
       "      <td>ARNOLD</td>\n",
       "      <td>KATHERINE A. SALE</td>\n",
       "      <td>AC30086</td>\n",
       "      <td>MEDICINE</td>\n",
       "      <td>MD</td>\n",
       "      <td>Expired</td>\n",
       "      <td>ACUPUNCTURIST</td>\n",
       "    </tr>\n",
       "    <tr>\n",
       "      <th>1</th>\n",
       "      <td>Unknown</td>\n",
       "      <td>KATHERINE F SEARS</td>\n",
       "      <td>AC30023</td>\n",
       "      <td>MEDICINE</td>\n",
       "      <td>NA</td>\n",
       "      <td>Active</td>\n",
       "      <td>ACUPUNCTURIST</td>\n",
       "    </tr>\n",
       "    <tr>\n",
       "      <th>2</th>\n",
       "      <td>Unknown</td>\n",
       "      <td>KATHERINE J KAPUSNIK</td>\n",
       "      <td>AC500105</td>\n",
       "      <td>MEDICINE</td>\n",
       "      <td>NA</td>\n",
       "      <td>Expired</td>\n",
       "      <td>ACUPUNCTURIST</td>\n",
       "    </tr>\n",
       "    <tr>\n",
       "      <th>3</th>\n",
       "      <td>WASHINGTON</td>\n",
       "      <td>KATHERINE S. YONKERS</td>\n",
       "      <td>AC30057</td>\n",
       "      <td>MEDICINE</td>\n",
       "      <td>DC</td>\n",
       "      <td>Active</td>\n",
       "      <td>ACUPUNCTURIST</td>\n",
       "    </tr>\n",
       "  </tbody>\n",
       "</table>\n",
       "</div>"
      ],
      "text/plain": [
       "         city                  name    number profession state   status  \\\n",
       "0      ARNOLD     KATHERINE A. SALE   AC30086   MEDICINE    MD  Expired   \n",
       "1     Unknown     KATHERINE F SEARS   AC30023   MEDICINE    NA   Active   \n",
       "2     Unknown  KATHERINE J KAPUSNIK  AC500105   MEDICINE    NA  Expired   \n",
       "3  WASHINGTON  KATHERINE S. YONKERS   AC30057   MEDICINE    DC   Active   \n",
       "\n",
       "            type  \n",
       "0  ACUPUNCTURIST  \n",
       "1  ACUPUNCTURIST  \n",
       "2  ACUPUNCTURIST  \n",
       "3  ACUPUNCTURIST  "
      ]
     },
     "execution_count": 46,
     "metadata": {},
     "output_type": "execute_result"
    }
   ],
   "source": [
    "doctor_df = pd.DataFrame(doctors)\n",
    "doctor_df"
   ]
  },
  {
   "cell_type": "markdown",
   "metadata": {},
   "source": [
    "### Step Three: Save it to a CSV\n",
    "\n",
    "While you're saving it, set `index=False` or else it will include `0`, `1`, `2`, etc from the further-left column (the index, of course)."
   ]
  },
  {
   "cell_type": "code",
   "execution_count": 49,
   "metadata": {
    "collapsed": true
   },
   "outputs": [],
   "source": [
    "doctor_df.to_csv('scraped-doctor.csv', index=False)"
   ]
  },
  {
   "cell_type": "code",
   "execution_count": 50,
   "metadata": {
    "collapsed": false
   },
   "outputs": [
    {
     "name": "stdout",
     "output_type": "stream",
     "text": [
      "city,name,number,profession,state,status,type\r\n",
      "ARNOLD,KATHERINE A. SALE,AC30086,MEDICINE,MD,Expired,ACUPUNCTURIST\r\n",
      "Unknown,KATHERINE F SEARS,AC30023,MEDICINE,NA,Active,ACUPUNCTURIST\r\n",
      "Unknown,KATHERINE J KAPUSNIK,AC500105,MEDICINE,NA,Expired,ACUPUNCTURIST\r\n",
      "WASHINGTON,KATHERINE S. YONKERS,AC30057,MEDICINE,DC,Active,ACUPUNCTURIST\r\n"
     ]
    }
   ],
   "source": [
    "!cat scraped-doctor.csv"
   ]
  },
  {
   "cell_type": "code",
   "execution_count": 51,
   "metadata": {
    "collapsed": true
   },
   "outputs": [],
   "source": [
    "pd.DataFrame(doctors).to_csv('one-line-doctors.csv', index=False)"
   ]
  },
  {
   "cell_type": "markdown",
   "metadata": {},
   "source": [
    "### Step Four: Party down\n",
    "\n",
    "I don't have directions for this one"
   ]
  },
  {
   "cell_type": "code",
   "execution_count": null,
   "metadata": {
    "collapsed": true
   },
   "outputs": [],
   "source": []
  },
  {
   "cell_type": "code",
   "execution_count": null,
   "metadata": {
    "collapsed": true
   },
   "outputs": [],
   "source": [
    "#Logging in:"
   ]
  },
  {
   "cell_type": "code",
   "execution_count": null,
   "metadata": {
    "collapsed": true
   },
   "outputs": [],
   "source": []
  },
  {
   "cell_type": "code",
   "execution_count": null,
   "metadata": {
    "collapsed": true
   },
   "outputs": [],
   "source": [
    "#xkcd automation"
   ]
  }
 ],
 "metadata": {
  "kernelspec": {
   "display_name": "Python 3",
   "language": "python",
   "name": "python3"
  },
  "language_info": {
   "codemirror_mode": {
    "name": "ipython",
    "version": 3
   },
   "file_extension": ".py",
   "mimetype": "text/x-python",
   "name": "python",
   "nbconvert_exporter": "python",
   "pygments_lexer": "ipython3",
   "version": "3.5.1"
  }
 },
 "nbformat": 4,
 "nbformat_minor": 0
}
