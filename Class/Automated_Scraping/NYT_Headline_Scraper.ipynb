{
 "cells": [
  {
   "cell_type": "code",
   "execution_count": 35,
   "metadata": {
    "collapsed": true
   },
   "outputs": [],
   "source": [
    "import requests\n",
    "from bs4 import BeautifulSoup"
   ]
  },
  {
   "cell_type": "code",
   "execution_count": 36,
   "metadata": {
    "collapsed": true
   },
   "outputs": [],
   "source": [
    "#Grab the NYT homepage\n",
    "response = requests.get(\"http://nytimes.com\")"
   ]
  },
  {
   "cell_type": "code",
   "execution_count": 37,
   "metadata": {
    "collapsed": true
   },
   "outputs": [],
   "source": [
    "#Feed it into BeautifulSoup\n",
    "doc = BeautifulSoup(response.text, 'html.parser')"
   ]
  },
  {
   "cell_type": "code",
   "execution_count": 38,
   "metadata": {
    "collapsed": false
   },
   "outputs": [
    {
     "data": {
      "text/plain": [
       "141"
      ]
     },
     "execution_count": 38,
     "metadata": {},
     "output_type": "execute_result"
    }
   ],
   "source": [
    "#Get out the headlines\n",
    "stories = doc.find_all('article', {'class': 'story'})\n",
    "len(stories)"
   ]
  },
  {
   "cell_type": "code",
   "execution_count": 39,
   "metadata": {
    "collapsed": false
   },
   "outputs": [],
   "source": [
    "for story in stories:\n",
    "    headline = story.find('h2', {'class': 'story-heading'})\n",
    "    if headline:\n",
    "        headline_text = headline.text.strip()\n",
    "        byline = story.find('p', {'class': 'byline'})\n",
    "        if byline:\n",
    "            byline_text = byline.text.strip()\n"
   ]
  },
  {
   "cell_type": "code",
   "execution_count": 40,
   "metadata": {
    "collapsed": true
   },
   "outputs": [],
   "source": [
    "#Save the headlines and bylines to a timestamp CSV\n",
    "#Turning it into Pandas, and making a list of dictionaries"
   ]
  },
  {
   "cell_type": "code",
   "execution_count": 41,
   "metadata": {
    "collapsed": false
   },
   "outputs": [],
   "source": [
    "all_stories = []\n",
    "\n",
    "for story in stories:\n",
    "    headline = story.find('h2', {'class': 'story-heading'})\n",
    "    if headline:\n",
    "        headline_text = headline.text.strip()\n",
    "        this_story = {'headline': headline_text}\n",
    "        byline = story.find('p', {'class': 'byline'})\n",
    "        if byline:\n",
    "            byline_text = byline.text.strip()\n",
    "            this_story['byline'] = byline_text\n",
    "        all_stories.append(this_story)"
   ]
  },
  {
   "cell_type": "code",
   "execution_count": 42,
   "metadata": {
    "collapsed": true
   },
   "outputs": [],
   "source": [
    "import pandas as pd"
   ]
  },
  {
   "cell_type": "code",
   "execution_count": 43,
   "metadata": {
    "collapsed": false
   },
   "outputs": [
    {
     "data": {
      "text/html": [
       "<div>\n",
       "<table border=\"1\" class=\"dataframe\">\n",
       "  <thead>\n",
       "    <tr style=\"text-align: right;\">\n",
       "      <th></th>\n",
       "      <th>byline</th>\n",
       "      <th>headline</th>\n",
       "    </tr>\n",
       "  </thead>\n",
       "  <tbody>\n",
       "    <tr>\n",
       "      <th>0</th>\n",
       "      <td>By MAGGIE HABERMAN 9:55 AM ET</td>\n",
       "      <td>Trump Fires His Campaign Chief in Pivot to Gen...</td>\n",
       "    </tr>\n",
       "    <tr>\n",
       "      <th>1</th>\n",
       "      <td>By JONATHAN MAHLER and MATT FLEGENHEIMER</td>\n",
       "      <td>What Trump Learned From Joe McCarthy’s Top Aide</td>\n",
       "    </tr>\n",
       "    <tr>\n",
       "      <th>2</th>\n",
       "      <td>NaN</td>\n",
       "      <td>Clinton Seeks Running Mate to Click With Her, ...</td>\n",
       "    </tr>\n",
       "    <tr>\n",
       "      <th>3</th>\n",
       "      <td>By WILLIAM K. RASHBAUM and JOSEPH GOLDSTEIN 10...</td>\n",
       "      <td>3 New York Police Officials Arrested on Corrup...</td>\n",
       "    </tr>\n",
       "    <tr>\n",
       "      <th>4</th>\n",
       "      <td>By REBECCA R. RUIZ 11:08 AM ET</td>\n",
       "      <td>Senators Demand Explanation From Doping Agency</td>\n",
       "    </tr>\n",
       "    <tr>\n",
       "      <th>5</th>\n",
       "      <td>By SCOTT CACCIOLA</td>\n",
       "      <td></td>\n",
       "    </tr>\n",
       "    <tr>\n",
       "      <th>6</th>\n",
       "      <td>NaN</td>\n",
       "      <td>Is This Heaven? No, It’s Cleveland 11:52 AM ET</td>\n",
       "    </tr>\n",
       "    <tr>\n",
       "      <th>7</th>\n",
       "      <td>NaN</td>\n",
       "      <td>Sports of The Times: James Makes N.B.A. Histor...</td>\n",
       "    </tr>\n",
       "    <tr>\n",
       "      <th>8</th>\n",
       "      <td>By ADEEL HASSAN</td>\n",
       "      <td>Your Monday Briefing</td>\n",
       "    </tr>\n",
       "    <tr>\n",
       "      <th>9</th>\n",
       "      <td>By KIT EATON</td>\n",
       "      <td>The Smartphone Way to Inner Calm</td>\n",
       "    </tr>\n",
       "  </tbody>\n",
       "</table>\n",
       "</div>"
      ],
      "text/plain": [
       "                                              byline  \\\n",
       "0                      By MAGGIE HABERMAN 9:55 AM ET   \n",
       "1           By JONATHAN MAHLER and MATT FLEGENHEIMER   \n",
       "2                                                NaN   \n",
       "3  By WILLIAM K. RASHBAUM and JOSEPH GOLDSTEIN 10...   \n",
       "4                     By REBECCA R. RUIZ 11:08 AM ET   \n",
       "5                                  By SCOTT CACCIOLA   \n",
       "6                                                NaN   \n",
       "7                                                NaN   \n",
       "8                                    By ADEEL HASSAN   \n",
       "9                                       By KIT EATON   \n",
       "\n",
       "                                            headline  \n",
       "0  Trump Fires His Campaign Chief in Pivot to Gen...  \n",
       "1    What Trump Learned From Joe McCarthy’s Top Aide  \n",
       "2  Clinton Seeks Running Mate to Click With Her, ...  \n",
       "3  3 New York Police Officials Arrested on Corrup...  \n",
       "4     Senators Demand Explanation From Doping Agency  \n",
       "5                                                     \n",
       "6     Is This Heaven? No, It’s Cleveland 11:52 AM ET  \n",
       "7  Sports of The Times: James Makes N.B.A. Histor...  \n",
       "8                               Your Monday Briefing  \n",
       "9                   The Smartphone Way to Inner Calm  "
      ]
     },
     "execution_count": 43,
     "metadata": {},
     "output_type": "execute_result"
    }
   ],
   "source": [
    "stories_df = pd.DataFrame(all_stories)\n",
    "stories_df.head(10)"
   ]
  },
  {
   "cell_type": "code",
   "execution_count": 44,
   "metadata": {
    "collapsed": true
   },
   "outputs": [],
   "source": [
    "stories_df.to_csv(\"nyt-data.csv\")"
   ]
  },
  {
   "cell_type": "code",
   "execution_count": 45,
   "metadata": {
    "collapsed": true
   },
   "outputs": [],
   "source": [
    "#we want \"nyt-data-2016-06-20.csv\"\n",
    "#we will use \"nyt-data`date + \"%Y-%m-%d`.csv\", but this doesn't work\n",
    "\n",
    "import time"
   ]
  },
  {
   "cell_type": "code",
   "execution_count": 46,
   "metadata": {
    "collapsed": false
   },
   "outputs": [
    {
     "data": {
      "text/plain": [
       "'2016-06-20-01-06-PM'"
      ]
     },
     "execution_count": 46,
     "metadata": {},
     "output_type": "execute_result"
    }
   ],
   "source": [
    "datestring = time.strftime('%Y-%m-%d-%I-%m-%p')\n",
    "datestring"
   ]
  },
  {
   "cell_type": "code",
   "execution_count": 47,
   "metadata": {
    "collapsed": true
   },
   "outputs": [],
   "source": [
    "filename = \"nyt-data-\" + datestring + \".csv\"\n",
    "stories_df.to_csv(filename)\n"
   ]
  },
  {
   "cell_type": "code",
   "execution_count": null,
   "metadata": {
    "collapsed": true
   },
   "outputs": [],
   "source": []
  },
  {
   "cell_type": "code",
   "execution_count": null,
   "metadata": {
    "collapsed": true
   },
   "outputs": [],
   "source": []
  }
 ],
 "metadata": {
  "kernelspec": {
   "display_name": "Python 3",
   "language": "python",
   "name": "python3"
  },
  "language_info": {
   "codemirror_mode": {
    "name": "ipython",
    "version": 3
   },
   "file_extension": ".py",
   "mimetype": "text/x-python",
   "name": "python",
   "nbconvert_exporter": "python",
   "pygments_lexer": "ipython3",
   "version": "3.5.1"
  }
 },
 "nbformat": 4,
 "nbformat_minor": 0
}
