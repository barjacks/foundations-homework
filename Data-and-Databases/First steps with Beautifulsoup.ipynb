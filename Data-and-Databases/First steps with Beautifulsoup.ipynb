{
 "cells": [
  {
   "cell_type": "markdown",
   "metadata": {},
   "source": [
    "#Scrapin' the Webz\n",
    "Notes from my Beautiful Soup tutorial"
   ]
  },
  {
   "cell_type": "code",
   "execution_count": 63,
   "metadata": {
    "collapsed": false
   },
   "outputs": [
    {
     "name": "stdout",
     "output_type": "stream",
     "text": [
      "Requirement already satisfied (use --upgrade to upgrade): bs4 in /usr/local/lib/python3.5/site-packages\r\n",
      "Requirement already satisfied (use --upgrade to upgrade): beautifulsoup4 in /usr/local/lib/python3.5/site-packages (from bs4)\r\n"
     ]
    }
   ],
   "source": [
    "!pip3 install bs4"
   ]
  },
  {
   "cell_type": "code",
   "execution_count": 64,
   "metadata": {
    "collapsed": true
   },
   "outputs": [],
   "source": [
    "from bs4 import BeautifulSoup"
   ]
  },
  {
   "cell_type": "code",
   "execution_count": 65,
   "metadata": {
    "collapsed": true
   },
   "outputs": [],
   "source": [
    "from urllib.request import urlopen\n",
    "html_str = urlopen(\"http://static.decontextualize.com/kittens.html\").read()"
   ]
  },
  {
   "cell_type": "code",
   "execution_count": 66,
   "metadata": {
    "collapsed": false
   },
   "outputs": [
    {
     "name": "stdout",
     "output_type": "stream",
     "text": [
      "b'<!doctype html>\\n<html>\\n\\t<head>\\n\\t\\t<title>Kittens!</title>\\n\\t\\t<style type=\"text/css\">\\n\\t\\t\\tspan.lastcheckup { font-family: \"Courier\", fixed; font-size: 11px; }\\n\\t\\t</style>\\n\\t</head>\\n\\t<body>\\n\\t\\t<h1>Kittens and the TV Shows They Love</h1>\\n\\t\\t<div class=\"kitten\">\\n\\t\\t\\t<h2>Fluffy</h2>\\n\\t\\t\\t<div><img src=\"http://placekitten.com/120/120\"></div>\\n\\t\\t\\t<ul class=\"tvshows\">\\n\\t\\t\\t\\t<li>\\n\\t\\t\\t\\t\\t<a href=\"http://www.imdb.com/title/tt0106145/\">Deep Space Nine</a>\\n\\t\\t\\t\\t</li>\\n\\t\\t\\t\\t<li>\\n\\t\\t\\t\\t\\t<a href=\"http://www.imdb.com/title/tt0088576/\">Mr. Belvedere</a>\\n\\t\\t\\t\\t</li>\\n\\t\\t\\t</ul>\\n\\t\\t\\tLast check-up: <span class=\"lastcheckup\">2014-01-17</span>\\n\\t\\t</div>\\n\\t\\t<div class=\"kitten\">\\n\\t\\t\\t<h2>Monsieur Whiskeurs</h2>\\n\\t\\t\\t<div><img src=\"http://placekitten.com/110/110\"></div>\\n\\t\\t\\t<ul class=\"tvshows\">\\n\\t\\t\\t\\t<li>\\n\\t\\t\\t\\t\\t<a href=\"http://www.imdb.com/title/tt0106179/\">The X-Files</a>\\n\\t\\t\\t\\t</li>\\n\\t\\t\\t\\t<li>\\n\\t\\t\\t\\t\\t<a href=\"http://www.imdb.com/title/tt0098800/\">Fresh Prince</a>\\n\\t\\t\\t\\t</li>\\n\\t\\t\\t</ul>\\n\\t\\t\\tLast check-up: <span class=\"lastcheckup\">2013-11-02</span>\\n\\t\\t</div>\\n\\t</body>\\n</html>\\n\\n'\n"
     ]
    }
   ],
   "source": [
    "print(html_str)"
   ]
  },
  {
   "cell_type": "code",
   "execution_count": 67,
   "metadata": {
    "collapsed": true
   },
   "outputs": [],
   "source": [
    "document = BeautifulSoup(html_str, \"html.parser\")"
   ]
  },
  {
   "cell_type": "code",
   "execution_count": 68,
   "metadata": {
    "collapsed": false
   },
   "outputs": [
    {
     "data": {
      "text/plain": [
       "bs4.BeautifulSoup"
      ]
     },
     "execution_count": 68,
     "metadata": {},
     "output_type": "execute_result"
    }
   ],
   "source": [
    "type(document)"
   ]
  },
  {
   "cell_type": "code",
   "execution_count": 69,
   "metadata": {
    "collapsed": true
   },
   "outputs": [],
   "source": [
    "h1_tag = document.find('h1')"
   ]
  },
  {
   "cell_type": "code",
   "execution_count": 70,
   "metadata": {
    "collapsed": false
   },
   "outputs": [
    {
     "data": {
      "text/plain": [
       "'Kittens and the TV Shows They Love'"
      ]
     },
     "execution_count": 70,
     "metadata": {},
     "output_type": "execute_result"
    }
   ],
   "source": [
    "h1_tag.string"
   ]
  },
  {
   "cell_type": "code",
   "execution_count": 71,
   "metadata": {
    "collapsed": true
   },
   "outputs": [],
   "source": [
    "img_tag = document.find('img')"
   ]
  },
  {
   "cell_type": "code",
   "execution_count": 72,
   "metadata": {
    "collapsed": true
   },
   "outputs": [],
   "source": [
    "img_tag.string"
   ]
  },
  {
   "cell_type": "code",
   "execution_count": 73,
   "metadata": {
    "collapsed": false
   },
   "outputs": [
    {
     "data": {
      "text/plain": [
       "'http://placekitten.com/120/120'"
      ]
     },
     "execution_count": 73,
     "metadata": {},
     "output_type": "execute_result"
    }
   ],
   "source": [
    "img_tag['src']"
   ]
  },
  {
   "cell_type": "code",
   "execution_count": 74,
   "metadata": {
    "collapsed": true
   },
   "outputs": [],
   "source": [
    "img_tags = document.find_all('img')"
   ]
  },
  {
   "cell_type": "code",
   "execution_count": 75,
   "metadata": {
    "collapsed": false
   },
   "outputs": [
    {
     "data": {
      "text/plain": [
       "bs4.element.ResultSet"
      ]
     },
     "execution_count": 75,
     "metadata": {},
     "output_type": "execute_result"
    }
   ],
   "source": [
    "type(img_tags)"
   ]
  },
  {
   "cell_type": "code",
   "execution_count": 76,
   "metadata": {
    "collapsed": false
   },
   "outputs": [],
   "source": [
    "first_img = img_tags[0]"
   ]
  },
  {
   "cell_type": "code",
   "execution_count": 77,
   "metadata": {
    "collapsed": false
   },
   "outputs": [
    {
     "data": {
      "text/plain": [
       "'http://placekitten.com/120/120'"
      ]
     },
     "execution_count": 77,
     "metadata": {},
     "output_type": "execute_result"
    }
   ],
   "source": [
    "first_img['src']"
   ]
  },
  {
   "cell_type": "code",
   "execution_count": 78,
   "metadata": {
    "collapsed": true
   },
   "outputs": [],
   "source": [
    "second_img = img_tags[1]"
   ]
  },
  {
   "cell_type": "code",
   "execution_count": 79,
   "metadata": {
    "collapsed": false
   },
   "outputs": [
    {
     "data": {
      "text/plain": [
       "'http://placekitten.com/110/110'"
      ]
     },
     "execution_count": 79,
     "metadata": {},
     "output_type": "execute_result"
    }
   ],
   "source": [
    "second_img['src']"
   ]
  },
  {
   "cell_type": "code",
   "execution_count": 80,
   "metadata": {
    "collapsed": false
   },
   "outputs": [
    {
     "name": "stdout",
     "output_type": "stream",
     "text": [
      "http://placekitten.com/120/120\n",
      "http://placekitten.com/110/110\n"
     ]
    }
   ],
   "source": [
    "for tag_obj in img_tags:\n",
    "    print(tag_obj['src'])"
   ]
  },
  {
   "cell_type": "markdown",
   "metadata": {},
   "source": [
    "h2_tags = document.find_all('h2')\n",
    "for item in h2_tags:\n",
    "    print(item.string)"
   ]
  },
  {
   "cell_type": "code",
   "execution_count": 81,
   "metadata": {
    "collapsed": true
   },
   "outputs": [],
   "source": [
    "#including different span classes, a very important way to distinguish different queries.\n",
    "checkups = document.find_all('span', {'class': 'lastcheckup'})"
   ]
  },
  {
   "cell_type": "code",
   "execution_count": 82,
   "metadata": {
    "collapsed": false
   },
   "outputs": [
    {
     "name": "stdout",
     "output_type": "stream",
     "text": [
      "2014-01-17\n",
      "2013-11-02\n"
     ]
    }
   ],
   "source": [
    "for item in checkups:\n",
    "    print(item.string)"
   ]
  },
  {
   "cell_type": "markdown",
   "metadata": {},
   "source": [
    "Desired Output:\n",
    "    Fluffy: 2014-01-17\n",
    "    Monsieur Whiskey: 2013-11-02\n"
   ]
  },
  {
   "cell_type": "code",
   "execution_count": 83,
   "metadata": {
    "collapsed": false
   },
   "outputs": [
    {
     "name": "stdout",
     "output_type": "stream",
     "text": [
      "Fluffy\n",
      "2014-01-17\n",
      "Monsieur Whiskeurs\n",
      "2013-11-02\n"
     ]
    }
   ],
   "source": [
    "#For this there are two approaches: bottom up and top down. This ist the top down approach.\n",
    "kittens = document.find_all('div', {'class': 'kitten'})\n",
    "for item in kittens:\n",
    "    h2_tag = item.find('h2')\n",
    "    print(h2_tag.string)\n",
    "    checkup = item.find('span')\n",
    "    print(checkup.string)\n"
   ]
  },
  {
   "cell_type": "code",
   "execution_count": 84,
   "metadata": {
    "collapsed": false
   },
   "outputs": [
    {
     "name": "stdout",
     "output_type": "stream",
     "text": [
      "Fluffy\n"
     ]
    }
   ],
   "source": [
    "kittens = document.find_all('div', {'class': 'kitten'})\n",
    "\n",
    "first_kitten = kittens[0]\n",
    "first_kitten_h2 = first_kitten.find('h2')\n",
    "print(first_kitten_h2.string)\n"
   ]
  },
  {
   "cell_type": "code",
   "execution_count": 85,
   "metadata": {
    "collapsed": false
   },
   "outputs": [
    {
     "name": "stdout",
     "output_type": "stream",
     "text": [
      "Monsieur Whiskeurs\n"
     ]
    }
   ],
   "source": [
    "second_kitten = kittens[1]\n",
    "second_kitten_h2 = second_kitten.find('h2')\n",
    "print(second_kitten_h2.string)"
   ]
  },
  {
   "cell_type": "code",
   "execution_count": 86,
   "metadata": {
    "collapsed": false
   },
   "outputs": [
    {
     "name": "stdout",
     "output_type": "stream",
     "text": [
      "Fluffy: 2014-01-17\n",
      "Monsieur Whiskeurs: 2013-11-02\n"
     ]
    }
   ],
   "source": [
    "kittens = document.find_all('div', {'class': 'kitten'})\n",
    "for item in kittens:\n",
    "    h2_tag = item.find('h2')\n",
    "    checkup = item.find('span')\n",
    "    print(h2_tag.string + \":\", checkup.string)\n"
   ]
  },
  {
   "cell_type": "markdown",
   "metadata": {},
   "source": [
    "Desired output: Name of the favourite TV schows of the cats\n",
    "\n",
    "Fluffy: Deep Space Nine, Mr. Belvedere\n",
    "Monsieur Whiskeurs: The X-Files, Fresh Prince    "
   ]
  },
  {
   "cell_type": "code",
   "execution_count": 87,
   "metadata": {
    "collapsed": true
   },
   "outputs": [],
   "source": [
    "#1 Aside into joining, and a little bit about slicing"
   ]
  },
  {
   "cell_type": "code",
   "execution_count": 88,
   "metadata": {
    "collapsed": true
   },
   "outputs": [],
   "source": [
    "planets = ['Mercury', 'Venus', 'Earth', 'Mars', 'Jupiter', 'Saturn', 'Uranus', 'Neptune']"
   ]
  },
  {
   "cell_type": "code",
   "execution_count": 89,
   "metadata": {
    "collapsed": false
   },
   "outputs": [
    {
     "data": {
      "text/plain": [
       "'Mercury'"
      ]
     },
     "execution_count": 89,
     "metadata": {},
     "output_type": "execute_result"
    }
   ],
   "source": [
    "planets[0]"
   ]
  },
  {
   "cell_type": "code",
   "execution_count": 90,
   "metadata": {
    "collapsed": false
   },
   "outputs": [
    {
     "data": {
      "text/plain": [
       "'Mercury,Venus,Earth,Mars,Jupiter,Saturn,Uranus,Neptune'"
      ]
     },
     "execution_count": 90,
     "metadata": {},
     "output_type": "execute_result"
    }
   ],
   "source": [
    "separator = ','\n",
    "separator.join(planets)"
   ]
  },
  {
   "cell_type": "code",
   "execution_count": 91,
   "metadata": {
    "collapsed": false
   },
   "outputs": [
    {
     "data": {
      "text/plain": [
       "'Mercury,Venus,Earth,Mars,Jupiter,Saturn,Uranus,Neptune'"
      ]
     },
     "execution_count": 91,
     "metadata": {},
     "output_type": "execute_result"
    }
   ],
   "source": [
    "','.join(planets)"
   ]
  },
  {
   "cell_type": "code",
   "execution_count": 92,
   "metadata": {
    "collapsed": false
   },
   "outputs": [
    {
     "name": "stdout",
     "output_type": "stream",
     "text": [
      "Mercury&\n",
      "Venus&\n",
      "Earth&\n",
      "Mars&\n",
      "Jupiter&\n",
      "Saturn&\n",
      "Uranus&\n",
      "Neptune\n"
     ]
    }
   ],
   "source": [
    "print('&\\n'.join(planets))"
   ]
  },
  {
   "cell_type": "code",
   "execution_count": 93,
   "metadata": {
    "collapsed": false
   },
   "outputs": [
    {
     "name": "stdout",
     "output_type": "stream",
     "text": [
      "Mercury&\n",
      "Venus&\n",
      "Earth&\n",
      "Mars\n"
     ]
    }
   ],
   "source": [
    "print('&\\n'.join(planets[:4]))"
   ]
  },
  {
   "cell_type": "code",
   "execution_count": 94,
   "metadata": {
    "collapsed": false
   },
   "outputs": [
    {
     "name": "stdout",
     "output_type": "stream",
     "text": [
      "Fluffy: Deep Space Nine, Mr. Belvedere\n",
      "Monsieur Whiskeurs: The X-Files, Fresh Prince\n"
     ]
    }
   ],
   "source": [
    "#Back to the kittens:\n",
    "\n",
    "kittens = document.find_all('div', {'class': 'kitten'})\n",
    "for item in kittens:\n",
    "    h2_tag = item.find('h2')\n",
    "    a_tags = item.find_all('a')\n",
    "    all_shows_str = []\n",
    "    for a_tag_item in a_tags:\n",
    "        tag_str = a_tag_item.string\n",
    "        all_shows_str.append(tag_str)  \n",
    "    string_with_all_show_names = \", \".join(all_shows_str)\n",
    "    print(h2_tag.string + \":\", string_with_all_show_names)\n"
   ]
  },
  {
   "cell_type": "code",
   "execution_count": 95,
   "metadata": {
    "collapsed": true
   },
   "outputs": [],
   "source": [
    "#2 aside: lists and yeah lists"
   ]
  },
  {
   "cell_type": "code",
   "execution_count": 96,
   "metadata": {
    "collapsed": true
   },
   "outputs": [],
   "source": [
    "x = ['a', 'b', 'c', 'd']"
   ]
  },
  {
   "cell_type": "code",
   "execution_count": 97,
   "metadata": {
    "collapsed": false
   },
   "outputs": [
    {
     "data": {
      "text/plain": [
       "'a'"
      ]
     },
     "execution_count": 97,
     "metadata": {},
     "output_type": "execute_result"
    }
   ],
   "source": [
    "x[0]"
   ]
  },
  {
   "cell_type": "code",
   "execution_count": 98,
   "metadata": {
    "collapsed": false
   },
   "outputs": [
    {
     "data": {
      "text/plain": [
       "'c'"
      ]
     },
     "execution_count": 98,
     "metadata": {},
     "output_type": "execute_result"
    }
   ],
   "source": [
    "x[2]"
   ]
  },
  {
   "cell_type": "code",
   "execution_count": 99,
   "metadata": {
    "collapsed": true
   },
   "outputs": [],
   "source": [
    "x.append('e')"
   ]
  },
  {
   "cell_type": "code",
   "execution_count": 100,
   "metadata": {
    "collapsed": false
   },
   "outputs": [
    {
     "data": {
      "text/plain": [
       "'e'"
      ]
     },
     "execution_count": 100,
     "metadata": {},
     "output_type": "execute_result"
    }
   ],
   "source": [
    "x[4]"
   ]
  },
  {
   "cell_type": "code",
   "execution_count": 101,
   "metadata": {
    "collapsed": true
   },
   "outputs": [],
   "source": [
    "numbers = [1, 2, 3, 4, 5, 6]"
   ]
  },
  {
   "cell_type": "code",
   "execution_count": 102,
   "metadata": {
    "collapsed": false
   },
   "outputs": [],
   "source": [
    "squared = []\n",
    "for item in numbers:\n",
    "    s = item * item\n",
    "    squared.append(s)"
   ]
  },
  {
   "cell_type": "code",
   "execution_count": 103,
   "metadata": {
    "collapsed": false
   },
   "outputs": [
    {
     "data": {
      "text/plain": [
       "[1, 4, 9, 16, 25, 36]"
      ]
     },
     "execution_count": 103,
     "metadata": {},
     "output_type": "execute_result"
    }
   ],
   "source": [
    "squared"
   ]
  },
  {
   "cell_type": "code",
   "execution_count": 104,
   "metadata": {
    "collapsed": true
   },
   "outputs": [],
   "source": [
    "squared = [item * item for item in numbers]"
   ]
  },
  {
   "cell_type": "code",
   "execution_count": 105,
   "metadata": {
    "collapsed": false
   },
   "outputs": [
    {
     "data": {
      "text/plain": [
       "[1, 4, 9, 16, 25, 36]"
      ]
     },
     "execution_count": 105,
     "metadata": {},
     "output_type": "execute_result"
    }
   ],
   "source": [
    "squared"
   ]
  },
  {
   "cell_type": "code",
   "execution_count": 106,
   "metadata": {
    "collapsed": false
   },
   "outputs": [
    {
     "data": {
      "text/plain": [
       "[{'name': 'Fluffy', 'tvshows': ['Deep Space Nine', 'Mr. Belevedere']},\n",
       " {'name': 'Monsieur Whisheurs', 'tvshows': ['The X-Files', 'Fresh Prince']}]"
      ]
     },
     "execution_count": 106,
     "metadata": {},
     "output_type": "execute_result"
    }
   ],
   "source": [
    "#Our next goal is to create a data structure that look like this:\n",
    "\n",
    "[\n",
    "    {'name': 'Fluffy', \n",
    "      'tvshows': ['Deep Space Nine', 'Mr. Belevedere']},\n",
    "    {'name': 'Monsieur Whisheurs', 'tvshows': ['The X-Files', 'Fresh Prince']} \n",
    "]"
   ]
  },
  {
   "cell_type": "code",
   "execution_count": 107,
   "metadata": {
    "collapsed": false
   },
   "outputs": [
    {
     "data": {
      "text/plain": [
       "[{'name': 'Fluffy', 'tvshows': ['Deep Space Nine', 'Mr. Belvedere']},\n",
       " {'name': 'Monsieur Whiskeurs', 'tvshows': ['The X-Files', 'Fresh Prince']}]"
      ]
     },
     "execution_count": 107,
     "metadata": {},
     "output_type": "execute_result"
    }
   ],
   "source": [
    "kittens_data = [] #list() also works\n",
    "kittens = document.find_all('div', {'class': 'kitten'})\n",
    "for item in kittens:\n",
    "    h2_tag = item.find('h2')\n",
    "    a_tags = item.find_all('a')\n",
    "    all_shows_str = []\n",
    "    for a_tag_item in a_tags:\n",
    "        tag_str = a_tag_item.string\n",
    "        all_shows_str.append(tag_str)  \n",
    "    #(1)create a dictionary and add to it the releve key/value pairs\n",
    "    kitten_map = {}\n",
    "    kitten_map['name'] = h2_tag.string\n",
    "    kitten_map['tvshows'] = all_shows_str\n",
    "    #(2)append that dictionary to the kittens_data list\n",
    "    #string_with_all_show_names = \", \".join(all_shows_str)\n",
    "    #print(h2_tag.string + \":\", string_with_all_show_names)\n",
    "    kittens_data.append(kitten_map)\n",
    "kittens_data"
   ]
  },
  {
   "cell_type": "code",
   "execution_count": 108,
   "metadata": {
    "collapsed": false
   },
   "outputs": [
    {
     "data": {
      "text/plain": [
       "2"
      ]
     },
     "execution_count": 108,
     "metadata": {},
     "output_type": "execute_result"
    }
   ],
   "source": [
    "len(kittens_data)"
   ]
  },
  {
   "cell_type": "code",
   "execution_count": 109,
   "metadata": {
    "collapsed": false
   },
   "outputs": [
    {
     "name": "stdout",
     "output_type": "stream",
     "text": [
      "Deep Space Nine\n",
      "Mr. Belvedere\n",
      "The X-Files\n",
      "Fresh Prince\n"
     ]
    }
   ],
   "source": [
    "for kitten in kittens_data:\n",
    "    for show in kitten['tvshows']:\n",
    "        print(show)"
   ]
  },
  {
   "cell_type": "code",
   "execution_count": 110,
   "metadata": {
    "collapsed": true
   },
   "outputs": [],
   "source": [
    "#3 Aside: Making Dictionaries"
   ]
  },
  {
   "cell_type": "code",
   "execution_count": 111,
   "metadata": {
    "collapsed": false
   },
   "outputs": [
    {
     "data": {
      "text/plain": [
       "1"
      ]
     },
     "execution_count": 111,
     "metadata": {},
     "output_type": "execute_result"
    }
   ],
   "source": [
    "#declading a dictionary\n",
    "dictionary = {'a': 1, 'b': 2, 'c': 3}\n",
    "#get a value\n",
    "dictionary['a']"
   ]
  },
  {
   "cell_type": "code",
   "execution_count": 112,
   "metadata": {
    "collapsed": false
   },
   "outputs": [
    {
     "data": {
      "text/plain": [
       "dict_keys(['c', 'b', 'a'])"
      ]
     },
     "execution_count": 112,
     "metadata": {},
     "output_type": "execute_result"
    }
   ],
   "source": [
    "dictionary.keys()"
   ]
  },
  {
   "cell_type": "code",
   "execution_count": 113,
   "metadata": {
    "collapsed": false
   },
   "outputs": [
    {
     "data": {
      "text/plain": [
       "{1: 1, 2: 4, 3: 9, 4: 16, 5: 25, 6: 36, 7: 49, 8: 64, 9: 81, 10: 100}"
      ]
     },
     "execution_count": 113,
     "metadata": {},
     "output_type": "execute_result"
    }
   ],
   "source": [
    "#target: {1: 1, 2: 4, 3:9, ...}\n",
    "squares = {}\n",
    "for n in range(1, 11):\n",
    "    squares[n] = n * n\n",
    "squares"
   ]
  },
  {
   "cell_type": "code",
   "execution_count": 114,
   "metadata": {
    "collapsed": false
   },
   "outputs": [
    {
     "data": {
      "text/plain": [
       "{'Aaron': 5, 'Bob': 3, 'Caroline': 8, 'Daphne': 6}"
      ]
     },
     "execution_count": 114,
     "metadata": {},
     "output_type": "execute_result"
    }
   ],
   "source": [
    "names = ['Aaron', 'Bob', 'Caroline', 'Daphne']\n",
    "\n",
    "name_length_map = {}\n",
    "for item in names:\n",
    "    name_length_map[item] = len(item)\n",
    "name_length_map"
   ]
  },
  {
   "cell_type": "code",
   "execution_count": 115,
   "metadata": {
    "collapsed": false
   },
   "outputs": [
    {
     "name": "stdout",
     "output_type": "stream",
     "text": [
      "{'Bob': 3, 'Caroline': 8, 'Aaron': 5, 'Daphne': 6}\n"
     ]
    }
   ],
   "source": [
    "print(name_length_map)"
   ]
  },
  {
   "cell_type": "code",
   "execution_count": 116,
   "metadata": {
    "collapsed": true
   },
   "outputs": [],
   "source": [
    "#Alternativ for kittens data "
   ]
  },
  {
   "cell_type": "code",
   "execution_count": 117,
   "metadata": {
    "collapsed": false
   },
   "outputs": [
    {
     "data": {
      "text/plain": [
       "[{'name': 'Fluffy', 'tvshows': ['Deep Space Nine', 'Mr. Belvedere']},\n",
       " {'name': 'Monsieur Whiskeurs', 'tvshows': ['The X-Files', 'Fresh Prince']}]"
      ]
     },
     "execution_count": 117,
     "metadata": {},
     "output_type": "execute_result"
    }
   ],
   "source": [
    "kittens_data = [] #list() also works\n",
    "kittens = document.find_all('div', {'class': 'kitten'})\n",
    "for item in kittens:\n",
    "    h2_tag = item.find('h2')\n",
    "    a_tags = item.find_all('a')\n",
    "    all_shows_str = []\n",
    "    for a_tag_item in a_tags:\n",
    "        tag_str = a_tag_item.string\n",
    "        all_shows_str.append(tag_str)  \n",
    "    #(1)create a dictionary and add to it the releve key/value pairs\n",
    "    kitten_map = {'name': h2_tag.string, 'tvshows':all_shows_str}\n",
    "    #(2)append that dictionary to the kittens_data list\n",
    "    #string_with_all_show_names = \", \".join(all_shows_str)\n",
    "    #print(h2_tag.string + \":\", string_with_all_show_names)\n",
    "    kittens_data.append(kitten_map)\n",
    "kittens_data"
   ]
  },
  {
   "cell_type": "code",
   "execution_count": 118,
   "metadata": {
    "collapsed": true
   },
   "outputs": [],
   "source": [
    "#or even:"
   ]
  },
  {
   "cell_type": "code",
   "execution_count": 119,
   "metadata": {
    "collapsed": false
   },
   "outputs": [
    {
     "data": {
      "text/plain": [
       "[{'name': 'Fluffy', 'tvshows': ['Deep Space Nine', 'Mr. Belvedere']},\n",
       " {'name': 'Monsieur Whiskeurs', 'tvshows': ['The X-Files', 'Fresh Prince']}]"
      ]
     },
     "execution_count": 119,
     "metadata": {},
     "output_type": "execute_result"
    }
   ],
   "source": [
    "kittens_data = [] #list() also works\n",
    "kittens = document.find_all('div', {'class': 'kitten'})\n",
    "for item in kittens:\n",
    "    h2_tag = item.find('h2')\n",
    "    a_tags = item.find_all('a')\n",
    "    all_shows_str = []\n",
    "    for a_tag_item in a_tags:\n",
    "        tag_str = a_tag_item.string\n",
    "        all_shows_str.append(tag_str)  \n",
    "    kittens_data.append({'name': h2_tag.string, 'tvshows':all_shows_str})\n",
    "kittens_data"
   ]
  },
  {
   "cell_type": "code",
   "execution_count": 120,
   "metadata": {
    "collapsed": false
   },
   "outputs": [
    {
     "ename": "SyntaxError",
     "evalue": "invalid syntax (<ipython-input-120-24993e76f359>, line 3)",
     "output_type": "error",
     "traceback": [
      "\u001b[0;36m  File \u001b[0;32m\"<ipython-input-120-24993e76f359>\"\u001b[0;36m, line \u001b[0;32m3\u001b[0m\n\u001b[0;31m    [{'name': 'Fluffy' }, 'tvshows':\u001b[0m\n\u001b[0m                                   ^\u001b[0m\n\u001b[0;31mSyntaxError\u001b[0m\u001b[0;31m:\u001b[0m invalid syntax\n"
     ]
    }
   ],
   "source": [
    "#Each dictionary should have kittens last checkup date.\n",
    "\n",
    "[{'name': 'Fluffy' }, 'tvshows': \n"
   ]
  },
  {
   "cell_type": "code",
   "execution_count": 122,
   "metadata": {
    "collapsed": false
   },
   "outputs": [
    {
     "data": {
      "text/plain": [
       "[{'checkup': '2014-01-17',\n",
       "  'name': 'Fluffy',\n",
       "  'tvshows': ['Deep Space Nine', 'Mr. Belvedere']},\n",
       " {'checkup': '2013-11-02',\n",
       "  'name': 'Monsieur Whiskeurs',\n",
       "  'tvshows': ['The X-Files', 'Fresh Prince']}]"
      ]
     },
     "execution_count": 122,
     "metadata": {},
     "output_type": "execute_result"
    }
   ],
   "source": [
    "kittens_data = [] #list() also works\n",
    "kittens = document.find_all('div', {'class': 'kitten'})\n",
    "for item in kittens:\n",
    "    h2_tag = item.find('h2')\n",
    "    a_tags = item.find_all('a')\n",
    "    all_shows_str = []\n",
    "    for a_tag_item in a_tags:\n",
    "        tag_str = a_tag_item.string\n",
    "        all_shows_str.append(tag_str) \n",
    "    checkup = item.find('span')\n",
    "    kittens_data.append({'name': h2_tag.string, 'tvshows':all_shows_str, 'checkup': checkup.string})\n",
    "kittens_data"
   ]
  },
  {
   "cell_type": "code",
   "execution_count": null,
   "metadata": {
    "collapsed": true
   },
   "outputs": [],
   "source": [
    "#Voynich Manuscript\n"
   ]
  },
  {
   "cell_type": "code",
   "execution_count": null,
   "metadata": {
    "collapsed": true
   },
   "outputs": [],
   "source": [
    "##Scraping the faculty"
   ]
  },
  {
   "cell_type": "code",
   "execution_count": 126,
   "metadata": {
    "collapsed": true
   },
   "outputs": [],
   "source": [
    "#Our hypothesis find all of the '<li>' tags, \n",
    "    #inside of the '<li>' tags, finde the '<h4>'\n",
    "        #inside the '<li> tags, find the <p> with class description\n",
    "    #inside the <li> tags, find the <p> with class description\n"
   ]
  },
  {
   "cell_type": "code",
   "execution_count": 137,
   "metadata": {
    "collapsed": false
   },
   "outputs": [],
   "source": [
    "from urllib.request import urlopen\n",
    "faculty_html = urlopen('http://www.journalism.columbia.edu/page/10/10?category_ids%5B%5D=2&category_ids%5B%5D=3&category_ids%5B%5D=37').read()"
   ]
  },
  {
   "cell_type": "code",
   "execution_count": 138,
   "metadata": {
    "collapsed": false
   },
   "outputs": [],
   "source": [
    "#print(faculty_html)"
   ]
  },
  {
   "cell_type": "code",
   "execution_count": 139,
   "metadata": {
    "collapsed": true
   },
   "outputs": [],
   "source": [
    "document = BeautifulSoup(faculty_html, \"html.parser\")"
   ]
  },
  {
   "cell_type": "code",
   "execution_count": 140,
   "metadata": {
    "collapsed": false
   },
   "outputs": [
    {
     "data": {
      "text/plain": [
       "' Full-Time, Adjunct & Visiting Faculty'"
      ]
     },
     "execution_count": 140,
     "metadata": {},
     "output_type": "execute_result"
    }
   ],
   "source": [
    "document.find('h2').string"
   ]
  },
  {
   "cell_type": "code",
   "execution_count": 141,
   "metadata": {
    "collapsed": false
   },
   "outputs": [
    {
     "data": {
      "text/plain": [
       "' Full-Time, Adjunct & Visiting Faculty'"
      ]
     },
     "execution_count": 141,
     "metadata": {},
     "output_type": "execute_result"
    }
   ],
   "source": [
    "h2_tag = document.find('h2')\n",
    "h2_tag.string"
   ]
  },
  {
   "cell_type": "code",
   "execution_count": 142,
   "metadata": {
    "collapsed": true
   },
   "outputs": [],
   "source": [
    "#Just print out the names of all the faculty members"
   ]
  },
  {
   "cell_type": "code",
   "execution_count": 148,
   "metadata": {
    "collapsed": false
   },
   "outputs": [],
   "source": [
    "Faculty_names = document.find_all('h4')"
   ]
  },
  {
   "cell_type": "code",
   "execution_count": 152,
   "metadata": {
    "collapsed": false
   },
   "outputs": [
    {
     "data": {
      "text/plain": [
       "<h4><a href=\"/profile/536-daniel-alarcon/10\">Alarcón, Daniel</a></h4>"
      ]
     },
     "execution_count": 152,
     "metadata": {},
     "output_type": "execute_result"
    }
   ],
   "source": [
    "Faculty_names[1]"
   ]
  },
  {
   "cell_type": "code",
   "execution_count": 154,
   "metadata": {
    "collapsed": false
   },
   "outputs": [],
   "source": [
    "#print(Faculty_names)"
   ]
  },
  {
   "cell_type": "code",
   "execution_count": 162,
   "metadata": {
    "collapsed": false
   },
   "outputs": [
    {
     "name": "stdout",
     "output_type": "stream",
     "text": [
      "Adkison, Abbey \n",
      "Alarcón, Daniel\n",
      "Barclay, Dolores \n",
      "Baum, Geraldine\n",
      "Bell, Emily\n",
      "Benedict, Helen \n",
      "Bennet, John \n",
      "Bennett, Rob\n",
      "Berman, Nina\n",
      "Blair, Gwenda \n",
      "Blum, David \n",
      "Bockelman, Matt\n",
      "Bodarky, George\n",
      "Bogdanich, Walt \n",
      "Bourin, Lennart\n",
      "Bradley, Theresa\n",
      "Brainard, Curtis \n",
      "Bruder, Jessica\n",
      "Burford, Melanie \n",
      "Burleigh, Nina \n",
      "Cabot, Heather\n",
      "Cabral, Elena \n",
      "Canipe, Chris\n",
      "Casciato, Tom\n",
      "Cohen, Julie\n",
      "Cohen, Lisa R.\n",
      "Cohen, Sarah\n",
      "Coll, Steve\n",
      "Cooper, Ann\n",
      "Coronel, Sheila \n",
      "Coyne , Kevin \n",
      "Cross, June \n",
      "Cunningham, Brent \n",
      "DePalma, Anthony\n",
      "Deitsch, Richard\n",
      "Diamond, Becky\n",
      "Dinges, John\n",
      "Donahue, Kerry \n",
      "Drew, Christopher \n",
      "Edsall, Thomas B. \n",
      "Einhorn, Cheryl\n",
      "Elliott, Justin \n",
      "Epstein, Randi Hutter \n",
      "Evans, Farrell \n",
      "Ford, Constance Mitchell \n",
      "Freedman, Samuel \n",
      "Freeman, George \n",
      "French, Howard \n",
      "Fried, Stephen \n",
      "Garcia, Mario\n",
      "Gezari, Vanessa\n",
      "Gilderman, Greg\n",
      "Gitlin, Todd\n",
      "Giudice, Barbara \n",
      "Goldensohn, Marty\n",
      "Goldman, Ari \n",
      "Goldstein, Jacob\n",
      "Grueskin, Bill\n",
      "Haburchak, Alan\n",
      "Hajdu, David \n",
      "Hancock, LynNell\n",
      "Hansen, Mark\n",
      "Harris, Mark\n",
      "Hartenstein, Julie\n",
      "Heinzerling, Larry\n",
      "Herman, Tom \n",
      "Hickey, Neil \n",
      "Hoel, Lars \n",
      "Hogan, Pamela\n",
      "Holloway, Marguerite \n",
      "Hoyt, Michael \n",
      "Isabel, Lonnie\n",
      "Jennings, Tom\n",
      "John, Richard R. \n",
      "Jones, Matthew L. \n",
      "Kann, Peter R. \n",
      "Kantrowitz, Barbara \n",
      "Karle, Stuart\n",
      "Karr, Rick\n",
      "Kellogg, David\n",
      "Kennedy, Lucy\n",
      "Kent, Thomas \n",
      "Klatell, David\n",
      "Klein, Adam\n",
      "Kleman, Kim \n",
      "Knee, Jonathan\n",
      "Konner, Joan\n",
      "Kozar, Matt\n",
      "Lehmann-Haupt, Christopher \n",
      "Lemann, Nicholas\n",
      "Levenson, Jacob \n",
      "Lipsky, Seth \n",
      "Lombardi, Kristen\n",
      "Luhby, Tami\n",
      "Maciulis, Tony\n",
      "Maharidge, Dale \n",
      "Mason, Tom\n",
      "Matloff, Judith \n",
      "Maytal, Itai\n",
      "McCormick, David \n",
      "McCray, Melvin\n",
      "McDonald, Erica\n",
      "McGregor, Susan E.\n",
      "Mencher, Melvin\n",
      "Merchant, Preston\n",
      "Mintz, James\n",
      "Morais, Betsy\n",
      "Nasar, Sylvia \n",
      "Navasky, Victor\n",
      "Newman, Maria\n",
      "Nisenholtz, Martin\n",
      "Norton, Rob\n",
      "Nosheen, Habiba\n",
      "Ornstein, Charles\n",
      "Padawer , Ruth\n",
      "Parker, Diantha\n",
      "Parrish, Allison \n",
      "Patel, Samir S.\n",
      "Paunescu, Delia \n",
      "Perlman, Merrill\n",
      "Pollak, Lisa\n",
      "Pool-Eckert, Marquita\n",
      "Richardson, Lynda \n",
      "Richardson, Whitney \n",
      "Richman, Joe\n",
      "Robbins, Ed\n",
      "Roberts, Fletcher\n",
      "Sacha, Bob \n",
      "Sataline, Suzanne\n",
      "Schapiro, Rich\n",
      "Schatz, Robin\n",
      "Schecter, B.J.\n",
      "Schellmann, Hilke\n",
      "Schoen, John\n",
      "Schoonmaker, Mary Ellen\n",
      "Schudson, Michael \n",
      "Schumacher-Matos, Ed \n",
      "Schwartz, Jack \n",
      "Seave, Ava \n",
      "Segnini, Giannina \n",
      "Shanor, Donald\n",
      "Shapiro, Bruce\n",
      "Shapiro, Michael \n",
      "Shihab-Eldin, Ahmed \n",
      "Sicha, Choire\n",
      "Siegel, Lloyd\n",
      "Singer, Amy \n",
      "Sliwa, Maria\n",
      "Solomon, Alisa\n",
      "Soma, Jonathan\n",
      "Sotomayor, Ernest\n",
      "Span, Paula \n",
      "Spanninger, Martha\n",
      "Stabiner, Karen\n",
      "Stewart, James\n",
      "Stille, Alexander\n",
      "Subramanian, Sushma\n",
      "Surowicz, Simon\n",
      "Templin, Jacob\n",
      "Tenen, Dennis\n",
      "Topping, Seymour  \n",
      "Trivedi, Yogi \n",
      "Tsiantar, Dody \n",
      "Tu, Duy Linh\n",
      "Tucher, Andie \n",
      "Ventura, Michael\n",
      "Wald, Jonathan\n",
      "Wald, Richard\n",
      "Wayne, Leslie\n",
      "Weiner, Jonathan \n",
      "West, Betsy \n",
      "Wheatley, Jr., William\n",
      "Wiggins, Chris\n",
      "Wilson, Duff\n",
      "Woodward, Tali \n",
      "Wu, Tim\n",
      "Yu, Frederick T C.\n",
      "Zucker, John\n",
      "Zuckerman, Jocelyn Craugh \n",
      "Connect\n"
     ]
    }
   ],
   "source": [
    "for name in Faculty_names:\n",
    "    print(name.string)"
   ]
  },
  {
   "cell_type": "code",
   "execution_count": null,
   "metadata": {
    "collapsed": true
   },
   "outputs": [],
   "source": [
    "#how allison did it"
   ]
  },
  {
   "cell_type": "code",
   "execution_count": 164,
   "metadata": {
    "collapsed": false
   },
   "outputs": [
    {
     "name": "stdout",
     "output_type": "stream",
     "text": [
      "<li><a href=\"/page/1-about-the-school/1\">About the School</a> </li>\n"
     ]
    },
    {
     "ename": "NameError",
     "evalue": "name 'h4_tagfind' is not defined",
     "output_type": "error",
     "traceback": [
      "\u001b[0;31m---------------------------------------------------------------------------\u001b[0m",
      "\u001b[0;31mNameError\u001b[0m                                 Traceback (most recent call last)",
      "\u001b[0;32m<ipython-input-164-289060f73e07>\u001b[0m in \u001b[0;36m<module>\u001b[0;34m()\u001b[0m\n\u001b[1;32m      6\u001b[0m     \u001b[0mprint\u001b[0m\u001b[0;34m(\u001b[0m\u001b[0mitem\u001b[0m\u001b[0;34m)\u001b[0m\u001b[0;34m\u001b[0m\u001b[0m\n\u001b[1;32m      7\u001b[0m     \u001b[0mh4_tags\u001b[0m \u001b[0;34m=\u001b[0m \u001b[0mitem\u001b[0m\u001b[0;34m.\u001b[0m\u001b[0mfind\u001b[0m\u001b[0;34m(\u001b[0m\u001b[0;34m'h4'\u001b[0m\u001b[0;34m)\u001b[0m\u001b[0;34m\u001b[0m\u001b[0m\n\u001b[0;32m----> 8\u001b[0;31m     \u001b[0ma_tag\u001b[0m \u001b[0;34m=\u001b[0m \u001b[0mh4_tagfind\u001b[0m\u001b[0;34m(\u001b[0m\u001b[0;34m'a'\u001b[0m\u001b[0;34m)\u001b[0m\u001b[0;34m\u001b[0m\u001b[0m\n\u001b[0m\u001b[1;32m      9\u001b[0m     \u001b[0mprint\u001b[0m\u001b[0;34m(\u001b[0m\u001b[0ma_tag\u001b[0m\u001b[0;34m.\u001b[0m\u001b[0mstring\u001b[0m\u001b[0;34m)\u001b[0m\u001b[0;34m\u001b[0m\u001b[0m\n",
      "\u001b[0;31mNameError\u001b[0m: name 'h4_tagfind' is not defined"
     ]
    }
   ],
   "source": [
    "#THis doesn't work but is a good example of not working. So many more <li> tags than we thought there \n",
    "#were. So we need to change the definition of the <li> tags. So some of the parents share a list. MAybe\n",
    "#<ul> class.\n",
    "li_tags = document.find_all('li')\n",
    "for item in li_tags:\n",
    "    #this shows were mistake happened. Dev Tools, module, crtl F to find \"About the School\"\n",
    "    print(item)\n",
    "    h4_tags = item.find('h4')\n",
    "    a_tag = h4_tagfind('a')\n",
    "    print(a_tag.string)"
   ]
  },
  {
   "cell_type": "code",
   "execution_count": null,
   "metadata": {
    "collapsed": true
   },
   "outputs": [],
   "source": [
    "#so all of the <li>s we are looking for are all children of the <class=\"experts-list\"> tag"
   ]
  },
  {
   "cell_type": "code",
   "execution_count": 177,
   "metadata": {
    "collapsed": false
   },
   "outputs": [
    {
     "name": "stdout",
     "output_type": "stream",
     "text": [
      "Adkison, Abbey  | Assistant Director, Multi-Media Journalism\n",
      "Alarcón, Daniel | Assistant Professor of Broadcast Journalism\n",
      "Barclay, Dolores  | Adjunct Faculty\n",
      "Baum, Geraldine | Adjunct Faculty\n",
      "Bell, Emily | Professor of Professional Practice & Director, Tow Center for Digital Journalism\n",
      "Benedict, Helen  | Professor\n",
      "Bennet, John  | Adjunct Faculty\n",
      "Bennett, Rob | Adjunct Faculty\n",
      "Berman, Nina | Associate Professor\n",
      "Blair, Gwenda  | Adjunct Faculty\n",
      "Blum, David  | Adjunct Faculty\n",
      "Bockelman, Matt | None\n",
      "Bodarky, George | Adjunct Assistant Professor \n",
      "Bogdanich, Walt  | Adjunct Faculty\n",
      "Bourin, Lennart | Adjunct Faculty\n",
      "Bradley, Theresa | Adjunct Faculty\n",
      "Brainard, Curtis  | Staff Writer\n",
      "Bruder, Jessica | Adjunct Faculty\n",
      "Burford, Melanie  | Adjunct Faculty\n",
      "Burleigh, Nina  | Adjunct Faculty\n",
      "Cabot, Heather | Adjunct Professor\n",
      "Cabral, Elena  | Adjunct Faculty & Assistant Director, Student Services\n",
      "Canipe, Chris | None\n",
      "Casciato, Tom | Adjunct Faculty\n",
      "Cohen, Julie | Adjunct Faculty\n",
      "Cohen, Lisa R. | Director, duPont/Professional Prizes; Adjunct Associate Professor\n",
      "Cohen, Sarah | Adjunct Faculty\n",
      "Coll, Steve | Dean & Henry R. Luce Professor of Journalism\n",
      "Cooper, Ann | CBS Professor of Professional Practice in International Journalism\n",
      "Coronel, Sheila  | Toni Stabile Professor of Professional Practice in Investigative Journalism; Director, Toni Stabile Center for Investigative Journalism, and Dean of Academic Affairs\n",
      "Coyne , Kevin  | Adjunct Faculty\n",
      "Cross, June  | Professor \n",
      "Cunningham, Brent  | Deputy Editor\n",
      "DePalma, Anthony | Adjunct Faculty\n",
      "Deitsch, Richard | Adjunct Faculty\n",
      "Diamond, Becky | None\n",
      "Dinges, John | Godfrey Lowell Cabot Professor Emeritus\n",
      "Donahue, Kerry  | Adjunct Faculty & Director, Radio Program\n",
      "Drew, Christopher  | Adjunct Faculty\n",
      "Edsall, Thomas B.  | None\n",
      "Einhorn, Cheryl | Adjunct Faculty\n",
      "Elliott, Justin  | Adjunct Assistant Professor\n",
      "Epstein, Randi Hutter  | Adjunct Faculty \n",
      "Evans, Farrell  | Adjunct Faculty\n",
      "Ford, Constance Mitchell  | Adjunct Faculty\n",
      "Freedman, Samuel  | Professor\n",
      "Freeman, George  | Adjunct Faculty\n",
      "French, Howard  | Associate Professor\n",
      "Fried, Stephen  | Adjunct Faculty\n",
      "Garcia, Mario | Senior Adviser on News Design/Adjunct Professor\n",
      "Gezari, Vanessa | None\n",
      "Gilderman, Greg | Adjunct Faculty\n",
      "Gitlin, Todd | Professor & Chair, Ph.D. Program\n",
      "Giudice, Barbara  | Adjunct Faculty\n",
      "Goldensohn, Marty | Adjunct Faculty\n",
      "Goldman, Ari  | Professor\n",
      "Goldstein, Jacob | Adjunct Professor\n",
      "Grueskin, Bill | Professor of Professional Practice \n",
      "Haburchak, Alan | Adjunct Faculty\n",
      "Hajdu, David  | Associate Professor \n",
      "Hancock, LynNell | H. Gordon Garbedian Professor of Journalism & Director, Spencer Fellowship Program\n",
      "Hansen, Mark | Director, David and Helen Gurley Brown Institute for Media Innovation & Professor of Journalism \n",
      "Harris, Mark | Adjunct Faculty\n",
      "Hartenstein, Julie | Associate Dean\n",
      "Heinzerling, Larry | Adjunct Faculty\n",
      "Herman, Tom  | Adjunct Faculty\n",
      "Hickey, Neil  | Adjunct Faculty\n",
      "Hoel, Lars  | None\n",
      "Hogan, Pamela | Adjunct Faculty\n",
      "Holloway, Marguerite  | Associate Professor of Professional Practice and Director, Science & Environmental Journalism\n",
      "Hoyt, Michael  | Adjunct Faculty\n",
      "Isabel, Lonnie | Senior Lecturer in Discipline\n",
      "Jennings, Tom | Adjunct Faculty\n",
      "John, Richard R.  | Professor of History and Communications\n",
      "Jones, Matthew L.  | Instructor, The Lede Program\n",
      "Kann, Peter R.  | Adjunct Faculty\n",
      "Kantrowitz, Barbara  | Adjunct Professor\n",
      "Karle, Stuart | Adjunct Faculty; William J. Brennan Jr. Visiting Professor of First Amendment Issues\n",
      "Karr, Rick | Adjunct Faculty\n",
      "Kellogg, David | Adjunct Faculty\n",
      "Kennedy, Lucy | Adjunct Faculty\n",
      "Kent, Thomas  | Adjunct Faculty\n",
      "Klatell, David | Professor of Professional Practice & Chair, International Studies\n",
      "Klein, Adam | Adjunct Professor\n",
      "Kleman, Kim  | Adjunct Faculty\n",
      "Knee, Jonathan | Adjunct Professor\n",
      "Konner, Joan | Dean Emerita\n",
      "Kozar, Matt | Adjunct Faculty\n",
      "Lehmann-Haupt, Christopher  | Adjunct Faculty\n",
      "Lemann, Nicholas | Joseph Pulitzer II and Edith Pulitzer Moore Professor of Journalism; Dean Emeritus\n",
      "Levenson, Jacob  | Adjunct Faculty\n",
      "Lipsky, Seth  | Adjunct Faculty\n",
      "Lombardi, Kristen | Adjunct Faculty\n",
      "Luhby, Tami | Adjunct Faculty\n",
      "Maciulis, Tony | Adjunct Faculty\n",
      "Maharidge, Dale  | Professor \n",
      "Mason, Tom | None\n",
      "Matloff, Judith  | Adjunct faculty\n",
      "Maytal, Itai | Adjunct Faculty\n",
      "McCormick, David  | Adjunct Faculty\n",
      "McCray, Melvin | Adjunct Faculty\n",
      "McDonald, Erica | None\n",
      "McGregor, Susan E. | Assistant Professor & Assistant Director, Tow Center for Digital Journalism\n",
      "Mencher, Melvin | Professor Emeritus\n",
      "Merchant, Preston | None\n",
      "Mintz, James | Adjunct Faculty\n",
      "Morais, Betsy | Adjunct Faculty\n",
      "Nasar, Sylvia  | John S. and James L. Knight Professor of Business Journalism\n",
      "Navasky, Victor | George T. Delacorte Professor in Magazine Journalism Emeritus\n",
      "Newman, Maria | Adjunct Faculty\n",
      "Nisenholtz, Martin | Adjunct Professor \n",
      "Norton, Rob | Adjunct Faculty\n",
      "Nosheen, Habiba | Adjunct Professor\n",
      "Ornstein, Charles | Adjunct Faculty\n",
      "Padawer , Ruth | Adjunct Professor\n",
      "Parker, Diantha | Adjunct Faculty\n",
      "Parrish, Allison  | Instructor, The Lede Program\n",
      "Patel, Samir S. | Adjunct Faculty\n",
      "Paunescu, Delia  | None\n",
      "Perlman, Merrill | Adjunct Faculty\n",
      "Pollak, Lisa | Adjunct Faculty\n",
      "Pool-Eckert, Marquita | Adjunct Faculty\n",
      "Richardson, Lynda  | Adjunct Faculty\n",
      "Richardson, Whitney  | Adjunct Professor\n",
      "Richman, Joe | Adjunct Faculty\n",
      "Robbins, Ed | Adjunct Faculty\n",
      "Roberts, Fletcher | Adjunct Faculty\n",
      "Sacha, Bob  | Adjunct Faculty\n",
      "Sataline, Suzanne | Adjunct Faculty\n",
      "Schapiro, Rich | Adjunct Faculty\n",
      "Schatz, Robin | Adjunct Faculty\n",
      "Schecter, B.J. | Adjunct Faculty\n",
      "Schellmann, Hilke | Adjunct Faculty\n",
      "Schoen, John | Adjunct Faculty\n",
      "Schoonmaker, Mary Ellen | Adjunct Faculty\n",
      "Schudson, Michael  | Professor \n",
      "Schumacher-Matos, Ed  | Adjunct Faculty\n",
      "Schwartz, Jack  | None\n",
      "Seave, Ava  | Adjunct Faculty\n",
      "Segnini, Giannina  | Director of the Data Concentration Program\n",
      "Shanor, Donald | G. L. Cabot Professor Emeritus \n",
      "Shapiro, Bruce | Executive Director, Dart Center for Journalism and Trauma and Senior Advisor for Academic Affairs\n",
      "Shapiro, Michael  | Professor \n",
      "Shihab-Eldin, Ahmed  | Adjunct Assistant Professor \n",
      "Sicha, Choire | Adjunct Professor\n",
      "Siegel, Lloyd | Adjunct Faculty\n",
      "Singer, Amy  | Adjunct Faculty\n",
      "Sliwa, Maria | Adjunct Faculty\n",
      "Solomon, Alisa | Professor & Director, Arts Concentration, M.A. Program\n",
      "Soma, Jonathan | Director, The Lede Program\n",
      "Sotomayor, Ernest | Dean of Student Affairs & Director, Latin American Initiatives\n",
      "Span, Paula  | Adjunct Professor\n",
      "Spanninger, Martha | Adjunct Faculty\n",
      "Stabiner, Karen | Adjunct Faculty\n",
      "Stewart, James | Bloomberg Professor of Business Journalism\n",
      "Stille, Alexander | San Paolo Professor of International Journalism\n",
      "Subramanian, Sushma | Adjunct Faculty\n",
      "Surowicz, Simon | None\n",
      "Templin, Jacob | None\n",
      "Tenen, Dennis | Instructor, The Lede Program\n",
      "Topping, Seymour   | San Paolo Professor of International Journalism Emeritus\n",
      "Trivedi, Yogi  | Adjunct Professor\n",
      "Tsiantar, Dody  | Adjunct Faculty\n",
      "Tu, Duy Linh | Associate Professor of Professional Practice & Director, Digital Media Program \n",
      "Tucher, Andie  | Associate Professor; Director, Ph.D. Program\n",
      "Ventura, Michael | Adjunct Faculty\n",
      "Wald, Jonathan | Adjunt Faculty\n",
      "Wald, Richard | Fred W. Friendly Professor of Professional Practice in Media Society Emeritus\n",
      "Wayne, Leslie | Adjunct Faculty\n",
      "Weiner, Jonathan  | Maxwell M. Geffen Professor of Medical and Scientific Journalism \n",
      "West, Betsy  | Fred W. Friendly Professor of Professional Practice in Media and Society\n",
      "Wheatley, Jr., William | Adjunct Faculty\n",
      "Wiggins, Chris | Instructor, The Lede Program\n",
      "Wilson, Duff | Adjunct Faculty\n",
      "Woodward, Tali  | Director, M.A. Program\n",
      "Wu, Tim | Director of the Saul and Janice Poliak Center for the Study of First Amendment Issues\n",
      "Yu, Frederick T C. | CBS Professor Emeritus International Journalism\n",
      "Zucker, John | Adjunct Faculty\n",
      "Zuckerman, Jocelyn Craugh  | Adjunct Faculty\n"
     ]
    }
   ],
   "source": [
    "#this works now: \n",
    "ul_tags = document.find('ul', {'class': 'experts-list'})\n",
    "li_tags = ul_tags.find_all('li')\n",
    "for item in li_tags:\n",
    "    h4_tags = item.find('h4')\n",
    "    if h4_tags is not None:\n",
    "        a_tag = h4_tags.find('a')\n",
    "        p_tag = item.find('p', {'class': 'description'})\n",
    "        print(a_tag.string, \"|\", p_tag.string)"
   ]
  },
  {
   "cell_type": "code",
   "execution_count": null,
   "metadata": {
    "collapsed": true
   },
   "outputs": [],
   "source": [
    "#NOw, we want to make a list of dictionaries of faculty members along with their titled."
   ]
  },
  {
   "cell_type": "code",
   "execution_count": null,
   "metadata": {
    "collapsed": true
   },
   "outputs": [],
   "source": [
    "##[{'name': 'Bodarky, George'}, 'title': 'Adjunct Assistant Professor'},\n",
    "## ...]"
   ]
  },
  {
   "cell_type": "code",
   "execution_count": 204,
   "metadata": {
    "collapsed": false
   },
   "outputs": [
    {
     "data": {
      "text/plain": [
       "[{'name': 'Adkison, Abbey ',\n",
       "  'title': 'Assistant Director, Multi-Media Journalism'},\n",
       " {'name': 'Alarcón, Daniel',\n",
       "  'title': 'Assistant Professor of Broadcast Journalism'},\n",
       " {'name': 'Barclay, Dolores ', 'title': 'Adjunct Faculty'},\n",
       " {'name': 'Baum, Geraldine', 'title': 'Adjunct Faculty'},\n",
       " {'name': 'Bell, Emily',\n",
       "  'title': 'Professor of Professional Practice & Director, Tow Center for Digital Journalism'},\n",
       " {'name': 'Benedict, Helen ', 'title': 'Professor'},\n",
       " {'name': 'Bennet, John ', 'title': 'Adjunct Faculty'},\n",
       " {'name': 'Bennett, Rob', 'title': 'Adjunct Faculty'},\n",
       " {'name': 'Berman, Nina', 'title': 'Associate Professor'},\n",
       " {'name': 'Blair, Gwenda ', 'title': 'Adjunct Faculty'},\n",
       " {'name': 'Blum, David ', 'title': 'Adjunct Faculty'},\n",
       " {'name': 'Bockelman, Matt', 'title': None},\n",
       " {'name': 'Bodarky, George', 'title': 'Adjunct Assistant Professor '},\n",
       " {'name': 'Bogdanich, Walt ', 'title': 'Adjunct Faculty'},\n",
       " {'name': 'Bourin, Lennart', 'title': 'Adjunct Faculty'},\n",
       " {'name': 'Bradley, Theresa', 'title': 'Adjunct Faculty'},\n",
       " {'name': 'Brainard, Curtis ', 'title': 'Staff Writer'},\n",
       " {'name': 'Bruder, Jessica', 'title': 'Adjunct Faculty'},\n",
       " {'name': 'Burford, Melanie ', 'title': 'Adjunct Faculty'},\n",
       " {'name': 'Burleigh, Nina ', 'title': 'Adjunct Faculty'},\n",
       " {'name': 'Cabot, Heather', 'title': 'Adjunct Professor'},\n",
       " {'name': 'Cabral, Elena ',\n",
       "  'title': 'Adjunct Faculty & Assistant Director, Student Services'},\n",
       " {'name': 'Canipe, Chris', 'title': None},\n",
       " {'name': 'Casciato, Tom', 'title': 'Adjunct Faculty'},\n",
       " {'name': 'Cohen, Julie', 'title': 'Adjunct Faculty'},\n",
       " {'name': 'Cohen, Lisa R.',\n",
       "  'title': 'Director, duPont/Professional Prizes; Adjunct Associate Professor'},\n",
       " {'name': 'Cohen, Sarah', 'title': 'Adjunct Faculty'},\n",
       " {'name': 'Coll, Steve',\n",
       "  'title': 'Dean & Henry R. Luce Professor of Journalism'},\n",
       " {'name': 'Cooper, Ann',\n",
       "  'title': 'CBS Professor of Professional Practice in International Journalism'},\n",
       " {'name': 'Coronel, Sheila ',\n",
       "  'title': 'Toni Stabile Professor of Professional Practice in Investigative Journalism; Director, Toni Stabile Center for Investigative Journalism, and Dean of Academic Affairs'},\n",
       " {'name': 'Coyne , Kevin ', 'title': 'Adjunct Faculty'},\n",
       " {'name': 'Cross, June ', 'title': 'Professor '},\n",
       " {'name': 'Cunningham, Brent ', 'title': 'Deputy Editor'},\n",
       " {'name': 'DePalma, Anthony', 'title': 'Adjunct Faculty'},\n",
       " {'name': 'Deitsch, Richard', 'title': 'Adjunct Faculty'},\n",
       " {'name': 'Diamond, Becky', 'title': None},\n",
       " {'name': 'Dinges, John', 'title': 'Godfrey Lowell Cabot Professor Emeritus'},\n",
       " {'name': 'Donahue, Kerry ',\n",
       "  'title': 'Adjunct Faculty & Director, Radio Program'},\n",
       " {'name': 'Drew, Christopher ', 'title': 'Adjunct Faculty'},\n",
       " {'name': 'Edsall, Thomas B. ', 'title': None},\n",
       " {'name': 'Einhorn, Cheryl', 'title': 'Adjunct Faculty'},\n",
       " {'name': 'Elliott, Justin ', 'title': 'Adjunct Assistant Professor'},\n",
       " {'name': 'Epstein, Randi Hutter ', 'title': 'Adjunct Faculty '},\n",
       " {'name': 'Evans, Farrell ', 'title': 'Adjunct Faculty'},\n",
       " {'name': 'Ford, Constance Mitchell ', 'title': 'Adjunct Faculty'},\n",
       " {'name': 'Freedman, Samuel ', 'title': 'Professor'},\n",
       " {'name': 'Freeman, George ', 'title': 'Adjunct Faculty'},\n",
       " {'name': 'French, Howard ', 'title': 'Associate Professor'},\n",
       " {'name': 'Fried, Stephen ', 'title': 'Adjunct Faculty'},\n",
       " {'name': 'Garcia, Mario',\n",
       "  'title': 'Senior Adviser on News Design/Adjunct Professor'},\n",
       " {'name': 'Gezari, Vanessa', 'title': None},\n",
       " {'name': 'Gilderman, Greg', 'title': 'Adjunct Faculty'},\n",
       " {'name': 'Gitlin, Todd', 'title': 'Professor & Chair, Ph.D. Program'},\n",
       " {'name': 'Giudice, Barbara ', 'title': 'Adjunct Faculty'},\n",
       " {'name': 'Goldensohn, Marty', 'title': 'Adjunct Faculty'},\n",
       " {'name': 'Goldman, Ari ', 'title': 'Professor'},\n",
       " {'name': 'Goldstein, Jacob', 'title': 'Adjunct Professor'},\n",
       " {'name': 'Grueskin, Bill', 'title': 'Professor of Professional Practice '},\n",
       " {'name': 'Haburchak, Alan', 'title': 'Adjunct Faculty'},\n",
       " {'name': 'Hajdu, David ', 'title': 'Associate Professor '},\n",
       " {'name': 'Hancock, LynNell',\n",
       "  'title': 'H. Gordon Garbedian Professor of Journalism & Director, Spencer Fellowship Program'},\n",
       " {'name': 'Hansen, Mark',\n",
       "  'title': 'Director, David and Helen Gurley Brown Institute for Media Innovation & Professor of Journalism '},\n",
       " {'name': 'Harris, Mark', 'title': 'Adjunct Faculty'},\n",
       " {'name': 'Hartenstein, Julie', 'title': 'Associate Dean'},\n",
       " {'name': 'Heinzerling, Larry', 'title': 'Adjunct Faculty'},\n",
       " {'name': 'Herman, Tom ', 'title': 'Adjunct Faculty'},\n",
       " {'name': 'Hickey, Neil ', 'title': 'Adjunct Faculty'},\n",
       " {'name': 'Hoel, Lars ', 'title': None},\n",
       " {'name': 'Hogan, Pamela', 'title': 'Adjunct Faculty'},\n",
       " {'name': 'Holloway, Marguerite ',\n",
       "  'title': 'Associate Professor of Professional Practice and Director, Science & Environmental Journalism'},\n",
       " {'name': 'Hoyt, Michael ', 'title': 'Adjunct Faculty'},\n",
       " {'name': 'Isabel, Lonnie', 'title': 'Senior Lecturer in Discipline'},\n",
       " {'name': 'Jennings, Tom', 'title': 'Adjunct Faculty'},\n",
       " {'name': 'John, Richard R. ',\n",
       "  'title': 'Professor of History and Communications'},\n",
       " {'name': 'Jones, Matthew L. ', 'title': 'Instructor, The Lede Program'},\n",
       " {'name': 'Kann, Peter R. ', 'title': 'Adjunct Faculty'},\n",
       " {'name': 'Kantrowitz, Barbara ', 'title': 'Adjunct Professor'},\n",
       " {'name': 'Karle, Stuart',\n",
       "  'title': 'Adjunct Faculty; William J. Brennan Jr. Visiting Professor of First Amendment Issues'},\n",
       " {'name': 'Karr, Rick', 'title': 'Adjunct Faculty'},\n",
       " {'name': 'Kellogg, David', 'title': 'Adjunct Faculty'},\n",
       " {'name': 'Kennedy, Lucy', 'title': 'Adjunct Faculty'},\n",
       " {'name': 'Kent, Thomas ', 'title': 'Adjunct Faculty'},\n",
       " {'name': 'Klatell, David',\n",
       "  'title': 'Professor of Professional Practice & Chair, International Studies'},\n",
       " {'name': 'Klein, Adam', 'title': 'Adjunct Professor'},\n",
       " {'name': 'Kleman, Kim ', 'title': 'Adjunct Faculty'},\n",
       " {'name': 'Knee, Jonathan', 'title': 'Adjunct Professor'},\n",
       " {'name': 'Konner, Joan', 'title': 'Dean Emerita'},\n",
       " {'name': 'Kozar, Matt', 'title': 'Adjunct Faculty'},\n",
       " {'name': 'Lehmann-Haupt, Christopher ', 'title': 'Adjunct Faculty'},\n",
       " {'name': 'Lemann, Nicholas',\n",
       "  'title': 'Joseph Pulitzer II and Edith Pulitzer Moore Professor of Journalism; Dean Emeritus'},\n",
       " {'name': 'Levenson, Jacob ', 'title': 'Adjunct Faculty'},\n",
       " {'name': 'Lipsky, Seth ', 'title': 'Adjunct Faculty'},\n",
       " {'name': 'Lombardi, Kristen', 'title': 'Adjunct Faculty'},\n",
       " {'name': 'Luhby, Tami', 'title': 'Adjunct Faculty'},\n",
       " {'name': 'Maciulis, Tony', 'title': 'Adjunct Faculty'},\n",
       " {'name': 'Maharidge, Dale ', 'title': 'Professor '},\n",
       " {'name': 'Mason, Tom', 'title': None},\n",
       " {'name': 'Matloff, Judith ', 'title': 'Adjunct faculty'},\n",
       " {'name': 'Maytal, Itai', 'title': 'Adjunct Faculty'},\n",
       " {'name': 'McCormick, David ', 'title': 'Adjunct Faculty'},\n",
       " {'name': 'McCray, Melvin', 'title': 'Adjunct Faculty'},\n",
       " {'name': 'McDonald, Erica', 'title': None},\n",
       " {'name': 'McGregor, Susan E.',\n",
       "  'title': 'Assistant Professor & Assistant Director, Tow Center for Digital Journalism'},\n",
       " {'name': 'Mencher, Melvin', 'title': 'Professor Emeritus'},\n",
       " {'name': 'Merchant, Preston', 'title': None},\n",
       " {'name': 'Mintz, James', 'title': 'Adjunct Faculty'},\n",
       " {'name': 'Morais, Betsy', 'title': 'Adjunct Faculty'},\n",
       " {'name': 'Nasar, Sylvia ',\n",
       "  'title': 'John S. and James L. Knight Professor of Business Journalism'},\n",
       " {'name': 'Navasky, Victor',\n",
       "  'title': 'George T. Delacorte Professor in Magazine Journalism Emeritus'},\n",
       " {'name': 'Newman, Maria', 'title': 'Adjunct Faculty'},\n",
       " {'name': 'Nisenholtz, Martin', 'title': 'Adjunct Professor '},\n",
       " {'name': 'Norton, Rob', 'title': 'Adjunct Faculty'},\n",
       " {'name': 'Nosheen, Habiba', 'title': 'Adjunct Professor'},\n",
       " {'name': 'Ornstein, Charles', 'title': 'Adjunct Faculty'},\n",
       " {'name': 'Padawer , Ruth', 'title': 'Adjunct Professor'},\n",
       " {'name': 'Parker, Diantha', 'title': 'Adjunct Faculty'},\n",
       " {'name': 'Parrish, Allison ', 'title': 'Instructor, The Lede Program'},\n",
       " {'name': 'Patel, Samir S.', 'title': 'Adjunct Faculty'},\n",
       " {'name': 'Paunescu, Delia ', 'title': None},\n",
       " {'name': 'Perlman, Merrill', 'title': 'Adjunct Faculty'},\n",
       " {'name': 'Pollak, Lisa', 'title': 'Adjunct Faculty'},\n",
       " {'name': 'Pool-Eckert, Marquita', 'title': 'Adjunct Faculty'},\n",
       " {'name': 'Richardson, Lynda ', 'title': 'Adjunct Faculty'},\n",
       " {'name': 'Richardson, Whitney ', 'title': 'Adjunct Professor'},\n",
       " {'name': 'Richman, Joe', 'title': 'Adjunct Faculty'},\n",
       " {'name': 'Robbins, Ed', 'title': 'Adjunct Faculty'},\n",
       " {'name': 'Roberts, Fletcher', 'title': 'Adjunct Faculty'},\n",
       " {'name': 'Sacha, Bob ', 'title': 'Adjunct Faculty'},\n",
       " {'name': 'Sataline, Suzanne', 'title': 'Adjunct Faculty'},\n",
       " {'name': 'Schapiro, Rich', 'title': 'Adjunct Faculty'},\n",
       " {'name': 'Schatz, Robin', 'title': 'Adjunct Faculty'},\n",
       " {'name': 'Schecter, B.J.', 'title': 'Adjunct Faculty'},\n",
       " {'name': 'Schellmann, Hilke', 'title': 'Adjunct Faculty'},\n",
       " {'name': 'Schoen, John', 'title': 'Adjunct Faculty'},\n",
       " {'name': 'Schoonmaker, Mary Ellen', 'title': 'Adjunct Faculty'},\n",
       " {'name': 'Schudson, Michael ', 'title': 'Professor '},\n",
       " {'name': 'Schumacher-Matos, Ed ', 'title': 'Adjunct Faculty'},\n",
       " {'name': 'Schwartz, Jack ', 'title': None},\n",
       " {'name': 'Seave, Ava ', 'title': 'Adjunct Faculty'},\n",
       " {'name': 'Segnini, Giannina ',\n",
       "  'title': 'Director of the Data Concentration Program'},\n",
       " {'name': 'Shanor, Donald', 'title': 'G. L. Cabot Professor Emeritus '},\n",
       " {'name': 'Shapiro, Bruce',\n",
       "  'title': 'Executive Director, Dart Center for Journalism and Trauma and Senior Advisor for Academic Affairs'},\n",
       " {'name': 'Shapiro, Michael ', 'title': 'Professor '},\n",
       " {'name': 'Shihab-Eldin, Ahmed ', 'title': 'Adjunct Assistant Professor '},\n",
       " {'name': 'Sicha, Choire', 'title': 'Adjunct Professor'},\n",
       " {'name': 'Siegel, Lloyd', 'title': 'Adjunct Faculty'},\n",
       " {'name': 'Singer, Amy ', 'title': 'Adjunct Faculty'},\n",
       " {'name': 'Sliwa, Maria', 'title': 'Adjunct Faculty'},\n",
       " {'name': 'Solomon, Alisa',\n",
       "  'title': 'Professor & Director, Arts Concentration, M.A. Program'},\n",
       " {'name': 'Soma, Jonathan', 'title': 'Director, The Lede Program'},\n",
       " {'name': 'Sotomayor, Ernest',\n",
       "  'title': 'Dean of Student Affairs & Director, Latin American Initiatives'},\n",
       " {'name': 'Span, Paula ', 'title': 'Adjunct Professor'},\n",
       " {'name': 'Spanninger, Martha', 'title': 'Adjunct Faculty'},\n",
       " {'name': 'Stabiner, Karen', 'title': 'Adjunct Faculty'},\n",
       " {'name': 'Stewart, James',\n",
       "  'title': 'Bloomberg Professor of Business Journalism'},\n",
       " {'name': 'Stille, Alexander',\n",
       "  'title': 'San Paolo Professor of International Journalism'},\n",
       " {'name': 'Subramanian, Sushma', 'title': 'Adjunct Faculty'},\n",
       " {'name': 'Surowicz, Simon', 'title': None},\n",
       " {'name': 'Templin, Jacob', 'title': None},\n",
       " {'name': 'Tenen, Dennis', 'title': 'Instructor, The Lede Program'},\n",
       " {'name': 'Topping, Seymour  ',\n",
       "  'title': 'San Paolo Professor of International Journalism Emeritus'},\n",
       " {'name': 'Trivedi, Yogi ', 'title': 'Adjunct Professor'},\n",
       " {'name': 'Tsiantar, Dody ', 'title': 'Adjunct Faculty'},\n",
       " {'name': 'Tu, Duy Linh',\n",
       "  'title': 'Associate Professor of Professional Practice & Director, Digital Media Program '},\n",
       " {'name': 'Tucher, Andie ',\n",
       "  'title': 'Associate Professor; Director, Ph.D. Program'},\n",
       " {'name': 'Ventura, Michael', 'title': 'Adjunct Faculty'},\n",
       " {'name': 'Wald, Jonathan', 'title': 'Adjunt Faculty'},\n",
       " {'name': 'Wald, Richard',\n",
       "  'title': 'Fred W. Friendly Professor of Professional Practice in Media Society Emeritus'},\n",
       " {'name': 'Wayne, Leslie', 'title': 'Adjunct Faculty'},\n",
       " {'name': 'Weiner, Jonathan ',\n",
       "  'title': 'Maxwell M. Geffen Professor of Medical and Scientific Journalism '},\n",
       " {'name': 'West, Betsy ',\n",
       "  'title': 'Fred W. Friendly Professor of Professional Practice in Media and Society'},\n",
       " {'name': 'Wheatley, Jr., William', 'title': 'Adjunct Faculty'},\n",
       " {'name': 'Wiggins, Chris', 'title': 'Instructor, The Lede Program'},\n",
       " {'name': 'Wilson, Duff', 'title': 'Adjunct Faculty'},\n",
       " {'name': 'Woodward, Tali ', 'title': 'Director, M.A. Program'},\n",
       " {'name': 'Wu, Tim',\n",
       "  'title': 'Director of the Saul and Janice Poliak Center for the Study of First Amendment Issues'},\n",
       " {'name': 'Yu, Frederick T C.',\n",
       "  'title': 'CBS Professor Emeritus International Journalism'},\n",
       " {'name': 'Zucker, John', 'title': 'Adjunct Faculty'},\n",
       " {'name': 'Zuckerman, Jocelyn Craugh ', 'title': 'Adjunct Faculty'}]"
      ]
     },
     "execution_count": 204,
     "metadata": {},
     "output_type": "execute_result"
    }
   ],
   "source": [
    "profs = []\n",
    "ul_tags = document.find('ul', {'class': 'experts-list'})\n",
    "li_tags = ul_tags.find_all('li')\n",
    "for item in li_tags:\n",
    "    h4_tags = item.find('h4')\n",
    "    if h4_tags is not None:\n",
    "        a_tag = h4_tags.find('a')\n",
    "        p_tag = item.find('p', {'class': 'description'})\n",
    "        #print(a_tag.string, \"|\", p_tag.string)\n",
    "        #prof_map = {'name': a_tag.string, title: 'p_tag.string'}\n",
    "        profs.append({'name': a_tag.string, 'title': p_tag.string})\n",
    "profs"
   ]
  },
  {
   "cell_type": "code",
   "execution_count": 181,
   "metadata": {
    "collapsed": false
   },
   "outputs": [
    {
     "data": {
      "text/plain": [
       "True"
      ]
     },
     "execution_count": 181,
     "metadata": {},
     "output_type": "execute_result"
    }
   ],
   "source": [
    "#Aside IV: Revenge of the Asides\n",
    "#Dictionary equality\n",
    "\n",
    "x = {'a': 1, 'b': 2}\n",
    "y = {'b': 2, 'a': 1}\n",
    "x ==y"
   ]
  },
  {
   "cell_type": "code",
   "execution_count": null,
   "metadata": {
    "collapsed": true
   },
   "outputs": [],
   "source": [
    "#Aside V: String indexing"
   ]
  },
  {
   "cell_type": "code",
   "execution_count": 186,
   "metadata": {
    "collapsed": true
   },
   "outputs": [],
   "source": [
    "message = 'bungalow'"
   ]
  },
  {
   "cell_type": "code",
   "execution_count": 187,
   "metadata": {
    "collapsed": false
   },
   "outputs": [
    {
     "data": {
      "text/plain": [
       "'b'"
      ]
     },
     "execution_count": 187,
     "metadata": {},
     "output_type": "execute_result"
    }
   ],
   "source": [
    "message[0]"
   ]
  },
  {
   "cell_type": "code",
   "execution_count": 188,
   "metadata": {
    "collapsed": false
   },
   "outputs": [
    {
     "data": {
      "text/plain": [
       "'ngal'"
      ]
     },
     "execution_count": 188,
     "metadata": {},
     "output_type": "execute_result"
    }
   ],
   "source": [
    "message[2:6]"
   ]
  },
  {
   "cell_type": "code",
   "execution_count": 189,
   "metadata": {
    "collapsed": false
   },
   "outputs": [
    {
     "data": {
      "text/plain": [
       "'w'"
      ]
     },
     "execution_count": 189,
     "metadata": {},
     "output_type": "execute_result"
    }
   ],
   "source": [
    "message[-1]"
   ]
  },
  {
   "cell_type": "code",
   "execution_count": 191,
   "metadata": {
    "collapsed": false
   },
   "outputs": [
    {
     "data": {
      "text/plain": [
       "'bun'"
      ]
     },
     "execution_count": 191,
     "metadata": {},
     "output_type": "execute_result"
    }
   ],
   "source": [
    "message[:3]"
   ]
  },
  {
   "cell_type": "code",
   "execution_count": 192,
   "metadata": {
    "collapsed": false
   },
   "outputs": [
    {
     "data": {
      "text/plain": [
       "'alow'"
      ]
     },
     "execution_count": 192,
     "metadata": {},
     "output_type": "execute_result"
    }
   ],
   "source": [
    "message[4:]"
   ]
  },
  {
   "cell_type": "code",
   "execution_count": 193,
   "metadata": {
    "collapsed": false
   },
   "outputs": [
    {
     "data": {
      "text/plain": [
       "'gal'"
      ]
     },
     "execution_count": 193,
     "metadata": {},
     "output_type": "execute_result"
    }
   ],
   "source": [
    "message[-5:-2]"
   ]
  },
  {
   "cell_type": "code",
   "execution_count": 194,
   "metadata": {
    "collapsed": false
   },
   "outputs": [
    {
     "data": {
      "text/plain": [
       "'na'"
      ]
     },
     "execution_count": 194,
     "metadata": {},
     "output_type": "execute_result"
    }
   ],
   "source": [
    "message[2] + message[4]"
   ]
  },
  {
   "cell_type": "code",
   "execution_count": null,
   "metadata": {
    "collapsed": true
   },
   "outputs": [],
   "source": [
    "#Now, wth this new data structure let us print names"
   ]
  },
  {
   "cell_type": "code",
   "execution_count": 198,
   "metadata": {
    "collapsed": false
   },
   "outputs": [
    {
     "name": "stdout",
     "output_type": "stream",
     "text": [
      "Maciulis, Tony\n",
      "Maharidge, Dale \n",
      "Mason, Tom\n",
      "Matloff, Judith \n",
      "Maytal, Itai\n",
      "McCormick, David \n",
      "McCray, Melvin\n",
      "McDonald, Erica\n",
      "McGregor, Susan E.\n",
      "Mencher, Melvin\n",
      "Merchant, Preston\n",
      "Mintz, James\n",
      "Morais, Betsy\n",
      "13\n"
     ]
    }
   ],
   "source": [
    "mcount = 0\n",
    "for item in profs:\n",
    "    prof_name = item['name']\n",
    "    if prof_name[0] == 'M':\n",
    "        print(item['name'])\n",
    "        mcount += 1 # mcount = mcount + 1\n",
    "print(mcount)"
   ]
  },
  {
   "cell_type": "code",
   "execution_count": 203,
   "metadata": {
    "collapsed": false
   },
   "outputs": [
    {
     "name": "stdout",
     "output_type": "stream",
     "text": [
      "13\n"
     ]
    }
   ],
   "source": [
    "m_profs = []\n",
    "for item in profs:\n",
    "    prof_name = item['name']\n",
    "    if prof_name[0] == 'M':\n",
    "        m_profs.append(item)\n",
    "print(len(m_profs))"
   ]
  },
  {
   "cell_type": "code",
   "execution_count": 211,
   "metadata": {
    "collapsed": false
   },
   "outputs": [
    {
     "data": {
      "text/plain": [
       "0.49162011173184356"
      ]
     },
     "execution_count": 211,
     "metadata": {},
     "output_type": "execute_result"
    }
   ],
   "source": [
    "#find all profs listed as Adjunt Faculty\n",
    "\n",
    "adjunct_profs = []\n",
    "for item in profs:\n",
    "    if item['title'] == 'Adjunct Faculty' or item['title'] == \"Adjunct Assitant Professor\":        \n",
    "        adjunct_profs.append(item)\n",
    "len(adjunct_profs) / len(profs)"
   ]
  },
  {
   "cell_type": "code",
   "execution_count": 213,
   "metadata": {
    "collapsed": false
   },
   "outputs": [
    {
     "data": {
      "text/plain": [
       "0.6145251396648045"
      ]
     },
     "execution_count": 213,
     "metadata": {},
     "output_type": "execute_result"
    }
   ],
   "source": [
    "#sadly can't us the item title\n",
    "\n",
    "adjunct_profs = []\n",
    "for item in profs:\n",
    "    if item['title'] is not None and ('Adjunct' in item['title']):\n",
    "        adjunct_profs.append(item)\n",
    "len(adjunct_profs) / len(profs)"
   ]
  },
  {
   "cell_type": "code",
   "execution_count": null,
   "metadata": {
    "collapsed": true
   },
   "outputs": [],
   "source": []
  }
 ],
 "metadata": {
  "kernelspec": {
   "display_name": "Python 3",
   "language": "python",
   "name": "python3"
  },
  "language_info": {
   "codemirror_mode": {
    "name": "ipython",
    "version": 3
   },
   "file_extension": ".py",
   "mimetype": "text/x-python",
   "name": "python",
   "nbconvert_exporter": "python",
   "pygments_lexer": "ipython3",
   "version": "3.5.1"
  }
 },
 "nbformat": 4,
 "nbformat_minor": 0
}
