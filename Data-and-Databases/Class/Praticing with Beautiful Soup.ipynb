{
 "cells": [
  {
   "cell_type": "code",
   "execution_count": 63,
   "metadata": {
    "collapsed": false
   },
   "outputs": [
    {
     "name": "stdout",
     "output_type": "stream",
     "text": [
      "Requirement already satisfied (use --upgrade to upgrade): bs4 in /usr/local/lib/python3.5/site-packages\r\n",
      "Requirement already satisfied (use --upgrade to upgrade): beautifulsoup4 in /usr/local/lib/python3.5/site-packages (from bs4)\r\n"
     ]
    }
   ],
   "source": [
    "!pip3 install bs4"
   ]
  },
  {
   "cell_type": "code",
   "execution_count": 64,
   "metadata": {
    "collapsed": true
   },
   "outputs": [],
   "source": [
    "from bs4 import BeautifulSoup"
   ]
  },
  {
   "cell_type": "code",
   "execution_count": 69,
   "metadata": {
    "collapsed": true
   },
   "outputs": [],
   "source": [
    "from urllib.request import urlopen\n",
    "html_str = urlopen(\"https://www.unibas.ch/de/Universitaet/Leitung-Organisation/Universitaetsrat.html\").read()"
   ]
  },
  {
   "cell_type": "code",
   "execution_count": 70,
   "metadata": {
    "collapsed": false
   },
   "outputs": [
    {
     "data": {
      "text/plain": [
       "bytes"
      ]
     },
     "execution_count": 70,
     "metadata": {},
     "output_type": "execute_result"
    }
   ],
   "source": [
    "type(html_str)"
   ]
  },
  {
   "cell_type": "code",
   "execution_count": 74,
   "metadata": {
    "collapsed": false
   },
   "outputs": [],
   "source": [
    "UNIBAS_Leitung = BeautifulSoup(html_str, \"html.parser\")"
   ]
  },
  {
   "cell_type": "code",
   "execution_count": 75,
   "metadata": {
    "collapsed": false
   },
   "outputs": [],
   "source": [
    "#print(UNIBS_Leitung)"
   ]
  },
  {
   "cell_type": "code",
   "execution_count": 76,
   "metadata": {
    "collapsed": false
   },
   "outputs": [],
   "source": [
    "Leitung = UNIBAS_Leitung.find_all('h2')"
   ]
  },
  {
   "cell_type": "code",
   "execution_count": 77,
   "metadata": {
    "collapsed": false
   },
   "outputs": [
    {
     "name": "stdout",
     "output_type": "stream",
     "text": [
      "[<h2>Mitglieder des Universitätsrats</h2>, <h2>Dr. Ulrich Vischer | Präsident</h2>, <h2>Klaus Endress | Vizepräsident</h2>, <h2>Dr. Kathrin Amacker</h2>, <h2>Daniela Dolci Reidemeister</h2>, <h2>Dr. Christoph Eymann</h2>, <h2>Monica Gschwind</h2>, <h2>Prof. Dr. Paul L. Herrling</h2>, <h2>Gabriella Karger</h2>, <h2>Dr. Gottlieb A. Keller</h2>, <h2>Dr. Dieter Scholer</h2>, <h2>Dr. Sibylle Schürch</h2>, <h2>Das Wissenschaftsmagazin</h2>]\n"
     ]
    }
   ],
   "source": [
    "print(Leitung)"
   ]
  },
  {
   "cell_type": "code",
   "execution_count": 79,
   "metadata": {
    "collapsed": false
   },
   "outputs": [
    {
     "name": "stdout",
     "output_type": "stream",
     "text": [
      "Mitglieder des Universitätsrats\n",
      "Dr. Ulrich Vischer | Präsident\n",
      "Klaus Endress | Vizepräsident\n",
      "Dr. Kathrin Amacker\n",
      "Daniela Dolci Reidemeister\n",
      "Dr. Christoph Eymann\n",
      "Monica Gschwind\n",
      "Prof. Dr. Paul L. Herrling\n",
      "Gabriella Karger\n",
      "Dr. Gottlieb A. Keller\n",
      "Dr. Dieter Scholer\n",
      "Dr. Sibylle Schürch\n",
      "Das Wissenschaftsmagazin\n"
     ]
    }
   ],
   "source": [
    "for n in Leitung:\n",
    "    print(n.string)"
   ]
  },
  {
   "cell_type": "code",
   "execution_count": null,
   "metadata": {
    "collapsed": true
   },
   "outputs": [],
   "source": []
  }
 ],
 "metadata": {
  "kernelspec": {
   "display_name": "Python 3",
   "language": "python",
   "name": "python3"
  },
  "language_info": {
   "codemirror_mode": {
    "name": "ipython",
    "version": 3
   },
   "file_extension": ".py",
   "mimetype": "text/x-python",
   "name": "python",
   "nbconvert_exporter": "python",
   "pygments_lexer": "ipython3",
   "version": "3.5.1"
  }
 },
 "nbformat": 4,
 "nbformat_minor": 0
}
