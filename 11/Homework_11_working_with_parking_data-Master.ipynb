{
 "cells": [
  {
   "cell_type": "markdown",
   "metadata": {},
   "source": [
    "# Homework 11: PARKING TICKETS\n"
   ]
  },
  {
   "cell_type": "code",
   "execution_count": 1,
   "metadata": {
    "collapsed": true
   },
   "outputs": [],
   "source": [
    "import pandas as pd"
   ]
  },
  {
   "cell_type": "markdown",
   "metadata": {},
   "source": [
    "**1. I want to make sure my Plate ID is a string. Can't lose the leading zeroes!**"
   ]
  },
  {
   "cell_type": "code",
   "execution_count": 2,
   "metadata": {
    "collapsed": false
   },
   "outputs": [],
   "source": [
    "#As the datatypes in all of the columns vary, I decided to to make all the values, except for the ones I specify\n",
    "#into str. This also takes care of questions 1. -> dtype=str"
   ]
  },
  {
   "cell_type": "markdown",
   "metadata": {},
   "source": [
    "**2. I don't think anyone's car was built in 0AD. Discard the '0's as NaN.**"
   ]
  },
  {
   "cell_type": "code",
   "execution_count": 3,
   "metadata": {
    "collapsed": true
   },
   "outputs": [],
   "source": [
    "# The syntax for this is really very nice and clear, an example na_values= {'Vehicle Year' : ['0']}\n",
    "# A lot more here: http://pandas.pydata.org/pandas-docs/stable/generated/pandas.read_csv.html"
   ]
  },
  {
   "cell_type": "markdown",
   "metadata": {},
   "source": [
    "**3. I want the dates to be dates! Read the read_csv documentation to find out how to make pandas automatically parse dates.**"
   ]
  },
  {
   "cell_type": "code",
   "execution_count": 4,
   "metadata": {
    "collapsed": false
   },
   "outputs": [],
   "source": [
    "#parse_dates=True,keep_date_col = True\n",
    "\n",
    "import datetime\n",
    "import datetime as dt\n",
    "\n",
    "dt.datetime.strptime('08/04/2013', '%m/%d/%Y')\n",
    "datetime.datetime(2013, 8, 4, 0, 0)\n",
    "\n",
    "parser = lambda date: pd.datetime.strptime(date, '%m/%d/%Y')\n",
    "\n",
    "#taken from here: http://stackoverflow.com/questions/23797491/parse-dates-in-pandas\n",
    "#adding this, column counts starts at 0, without index, parse_dates=[4], date_parser=parser\n",
    "\n",
    "#nrows=100000,"
   ]
  },
  {
   "cell_type": "code",
   "execution_count": 5,
   "metadata": {
    "collapsed": false
   },
   "outputs": [],
   "source": [
    "df = pd.read_csv(\"violations.csv\", na_values= {'Vehicle Year' : ['0']}, nrows=1000000, parse_dates=[4], date_parser=parser, dtype=str)"
   ]
  },
  {
   "cell_type": "code",
   "execution_count": 6,
   "metadata": {
    "collapsed": false
   },
   "outputs": [
    {
     "data": {
      "text/html": [
       "<div>\n",
       "<table border=\"1\" class=\"dataframe\">\n",
       "  <thead>\n",
       "    <tr style=\"text-align: right;\">\n",
       "      <th></th>\n",
       "      <th>Summons Number</th>\n",
       "      <th>Plate ID</th>\n",
       "      <th>Registration State</th>\n",
       "      <th>Plate Type</th>\n",
       "      <th>Issue Date</th>\n",
       "      <th>Violation Code</th>\n",
       "      <th>Vehicle Body Type</th>\n",
       "      <th>Vehicle Make</th>\n",
       "      <th>Issuing Agency</th>\n",
       "      <th>Street Code1</th>\n",
       "      <th>...</th>\n",
       "      <th>Vehicle Color</th>\n",
       "      <th>Unregistered Vehicle?</th>\n",
       "      <th>Vehicle Year</th>\n",
       "      <th>Meter Number</th>\n",
       "      <th>Feet From Curb</th>\n",
       "      <th>Violation Post Code</th>\n",
       "      <th>Violation Description</th>\n",
       "      <th>No Standing or Stopping Violation</th>\n",
       "      <th>Hydrant Violation</th>\n",
       "      <th>Double Parking Violation</th>\n",
       "    </tr>\n",
       "  </thead>\n",
       "  <tbody>\n",
       "    <tr>\n",
       "      <th>0</th>\n",
       "      <td>1283294138</td>\n",
       "      <td>GBB9093</td>\n",
       "      <td>NY</td>\n",
       "      <td>PAS</td>\n",
       "      <td>2013-08-04</td>\n",
       "      <td>46</td>\n",
       "      <td>SUBN</td>\n",
       "      <td>AUDI</td>\n",
       "      <td>P</td>\n",
       "      <td>37250</td>\n",
       "      <td>...</td>\n",
       "      <td>GY</td>\n",
       "      <td>0</td>\n",
       "      <td>2013</td>\n",
       "      <td>-</td>\n",
       "      <td>0</td>\n",
       "      <td>NaN</td>\n",
       "      <td>NaN</td>\n",
       "      <td>NaN</td>\n",
       "      <td>NaN</td>\n",
       "      <td>NaN</td>\n",
       "    </tr>\n",
       "    <tr>\n",
       "      <th>1</th>\n",
       "      <td>1283294151</td>\n",
       "      <td>62416MB</td>\n",
       "      <td>NY</td>\n",
       "      <td>COM</td>\n",
       "      <td>2013-08-04</td>\n",
       "      <td>46</td>\n",
       "      <td>VAN</td>\n",
       "      <td>FORD</td>\n",
       "      <td>P</td>\n",
       "      <td>37290</td>\n",
       "      <td>...</td>\n",
       "      <td>WH</td>\n",
       "      <td>0</td>\n",
       "      <td>2012</td>\n",
       "      <td>-</td>\n",
       "      <td>0</td>\n",
       "      <td>NaN</td>\n",
       "      <td>NaN</td>\n",
       "      <td>NaN</td>\n",
       "      <td>NaN</td>\n",
       "      <td>NaN</td>\n",
       "    </tr>\n",
       "    <tr>\n",
       "      <th>2</th>\n",
       "      <td>1283294163</td>\n",
       "      <td>78755JZ</td>\n",
       "      <td>NY</td>\n",
       "      <td>COM</td>\n",
       "      <td>2013-08-05</td>\n",
       "      <td>46</td>\n",
       "      <td>P-U</td>\n",
       "      <td>CHEVR</td>\n",
       "      <td>P</td>\n",
       "      <td>37030</td>\n",
       "      <td>...</td>\n",
       "      <td>NaN</td>\n",
       "      <td>0</td>\n",
       "      <td>NaN</td>\n",
       "      <td>-</td>\n",
       "      <td>0</td>\n",
       "      <td>NaN</td>\n",
       "      <td>NaN</td>\n",
       "      <td>NaN</td>\n",
       "      <td>NaN</td>\n",
       "      <td>NaN</td>\n",
       "    </tr>\n",
       "    <tr>\n",
       "      <th>3</th>\n",
       "      <td>1283294175</td>\n",
       "      <td>63009MA</td>\n",
       "      <td>NY</td>\n",
       "      <td>COM</td>\n",
       "      <td>2013-08-05</td>\n",
       "      <td>46</td>\n",
       "      <td>VAN</td>\n",
       "      <td>FORD</td>\n",
       "      <td>P</td>\n",
       "      <td>37270</td>\n",
       "      <td>...</td>\n",
       "      <td>WH</td>\n",
       "      <td>0</td>\n",
       "      <td>2010</td>\n",
       "      <td>-</td>\n",
       "      <td>0</td>\n",
       "      <td>NaN</td>\n",
       "      <td>NaN</td>\n",
       "      <td>NaN</td>\n",
       "      <td>NaN</td>\n",
       "      <td>NaN</td>\n",
       "    </tr>\n",
       "    <tr>\n",
       "      <th>4</th>\n",
       "      <td>1283294187</td>\n",
       "      <td>91648MC</td>\n",
       "      <td>NY</td>\n",
       "      <td>COM</td>\n",
       "      <td>2013-08-08</td>\n",
       "      <td>41</td>\n",
       "      <td>TRLR</td>\n",
       "      <td>GMC</td>\n",
       "      <td>P</td>\n",
       "      <td>37240</td>\n",
       "      <td>...</td>\n",
       "      <td>BR</td>\n",
       "      <td>0</td>\n",
       "      <td>2012</td>\n",
       "      <td>-</td>\n",
       "      <td>0</td>\n",
       "      <td>NaN</td>\n",
       "      <td>NaN</td>\n",
       "      <td>NaN</td>\n",
       "      <td>NaN</td>\n",
       "      <td>NaN</td>\n",
       "    </tr>\n",
       "  </tbody>\n",
       "</table>\n",
       "<p>5 rows × 43 columns</p>\n",
       "</div>"
      ],
      "text/plain": [
       "  Summons Number Plate ID Registration State Plate Type Issue Date  \\\n",
       "0     1283294138  GBB9093                 NY        PAS 2013-08-04   \n",
       "1     1283294151  62416MB                 NY        COM 2013-08-04   \n",
       "2     1283294163  78755JZ                 NY        COM 2013-08-05   \n",
       "3     1283294175  63009MA                 NY        COM 2013-08-05   \n",
       "4     1283294187  91648MC                 NY        COM 2013-08-08   \n",
       "\n",
       "  Violation Code Vehicle Body Type Vehicle Make Issuing Agency Street Code1  \\\n",
       "0             46              SUBN         AUDI              P        37250   \n",
       "1             46               VAN         FORD              P        37290   \n",
       "2             46               P-U        CHEVR              P        37030   \n",
       "3             46               VAN         FORD              P        37270   \n",
       "4             41              TRLR          GMC              P        37240   \n",
       "\n",
       "            ...            Vehicle Color Unregistered Vehicle? Vehicle Year  \\\n",
       "0           ...                       GY                     0         2013   \n",
       "1           ...                       WH                     0         2012   \n",
       "2           ...                      NaN                     0          NaN   \n",
       "3           ...                       WH                     0         2010   \n",
       "4           ...                       BR                     0         2012   \n",
       "\n",
       "  Meter Number Feet From Curb Violation Post Code Violation Description  \\\n",
       "0            -              0                 NaN                   NaN   \n",
       "1            -              0                 NaN                   NaN   \n",
       "2            -              0                 NaN                   NaN   \n",
       "3            -              0                 NaN                   NaN   \n",
       "4            -              0                 NaN                   NaN   \n",
       "\n",
       "  No Standing or Stopping Violation Hydrant Violation Double Parking Violation  \n",
       "0                               NaN               NaN                      NaN  \n",
       "1                               NaN               NaN                      NaN  \n",
       "2                               NaN               NaN                      NaN  \n",
       "3                               NaN               NaN                      NaN  \n",
       "4                               NaN               NaN                      NaN  \n",
       "\n",
       "[5 rows x 43 columns]"
      ]
     },
     "execution_count": 6,
     "metadata": {},
     "output_type": "execute_result"
    }
   ],
   "source": [
    "df.head()"
   ]
  },
  {
   "cell_type": "code",
   "execution_count": 7,
   "metadata": {
    "collapsed": false
   },
   "outputs": [],
   "source": [
    "#df.info()"
   ]
  },
  {
   "cell_type": "markdown",
   "metadata": {},
   "source": [
    "**4. \"Date first observed\" is a pretty weird column, but it seems like it has a date hiding inside. Using a function with .apply, transform the string (e.g. \"20140324\") into a Python date. Make the 0's show up as NaN.**"
   ]
  },
  {
   "cell_type": "code",
   "execution_count": 8,
   "metadata": {
    "collapsed": false
   },
   "outputs": [],
   "source": [
    "#df['Date First Observed'].value_counts()"
   ]
  },
  {
   "cell_type": "code",
   "execution_count": 9,
   "metadata": {
    "collapsed": true
   },
   "outputs": [],
   "source": [
    "import dateutil.parser"
   ]
  },
  {
   "cell_type": "code",
   "execution_count": 10,
   "metadata": {
    "collapsed": false
   },
   "outputs": [
    {
     "name": "stdout",
     "output_type": "stream",
     "text": [
      "18/11/2015\n"
     ]
    }
   ],
   "source": [
    "def date_transfer(x):\n",
    "    x = str(x)\n",
    "    if x == '0':\n",
    "        return 'NaN'\n",
    "    try:\n",
    "        date = dateutil.parser.parse(x)\n",
    "        return str(date.strftime('%d/%m/%Y'))\n",
    "    except:\n",
    "        return 'NaN'    \n",
    "    #    dt.datetime.strptime('20130719', '%Y%m%d')\n",
    "    #    datetime.datetime(2013, 7, 19, 0, 0)\n",
    "    #    year_month_tag = dateutil.parser.parse(x)\n",
    "    return x\n",
    "print(date_transfer(20151118))"
   ]
  },
  {
   "cell_type": "code",
   "execution_count": 11,
   "metadata": {
    "collapsed": false
   },
   "outputs": [
    {
     "data": {
      "text/plain": [
       "0    NaN\n",
       "1    NaN\n",
       "2    NaN\n",
       "3    NaN\n",
       "4    NaN\n",
       "Name: Date First Observed, dtype: object"
      ]
     },
     "execution_count": 11,
     "metadata": {},
     "output_type": "execute_result"
    }
   ],
   "source": [
    "df['Date First Observed'].apply(date_transfer).head()"
   ]
  },
  {
   "cell_type": "markdown",
   "metadata": {},
   "source": [
    "**5. \"Violation time\" is... not a time. Make it a time.**"
   ]
  },
  {
   "cell_type": "code",
   "execution_count": 12,
   "metadata": {
    "collapsed": false
   },
   "outputs": [],
   "source": [
    "#adding n_values = {'Violation Time' : ['0']}\n",
    "#df = pd.read_csv(\"violations.csv\", na_values= {'Vehicle Year' : ['0'], 'Violation Time' : ['0']}, parse_dates=[4], date_parser=parser, dtype=str)"
   ]
  },
  {
   "cell_type": "code",
   "execution_count": 13,
   "metadata": {
    "collapsed": false
   },
   "outputs": [
    {
     "data": {
      "text/plain": [
       "0    0752A\n",
       "1    1240P\n",
       "2    1243P\n",
       "3    0232P\n",
       "4    1239P\n",
       "Name: Violation Time, dtype: object"
      ]
     },
     "execution_count": 13,
     "metadata": {},
     "output_type": "execute_result"
    }
   ],
   "source": [
    "df['Violation Time'].head(5)"
   ]
  },
  {
   "cell_type": "code",
   "execution_count": 14,
   "metadata": {
    "collapsed": false
   },
   "outputs": [],
   "source": [
    "#df['Violation Time'].value_counts()"
   ]
  },
  {
   "cell_type": "code",
   "execution_count": 15,
   "metadata": {
    "collapsed": false
   },
   "outputs": [
    {
     "name": "stdout",
     "output_type": "stream",
     "text": [
      "NaN\n",
      "07:52 AM\n",
      "12:40 PM\n",
      "14:32 PM\n"
     ]
    }
   ],
   "source": [
    "import dateutil\n",
    "\n",
    "def pmam(x):\n",
    "    x = str(x)\n",
    "    #x = (':'.join(a+b for a,b in zip(x[::2], x[1::2])))\n",
    "    if x == 'NaN':\n",
    "        pass\n",
    "    try:\n",
    "        x = str(x[:2] + ':' + x[2:])\n",
    "        date = dateutil.parser.parse(x)\n",
    "        return str(date.strftime('%H:%M %p'))\n",
    "    except:\n",
    "        return 'NaN'\n",
    "\n",
    "print(pmam('NaN'))\n",
    "print(pmam(\"0752A\"))\n",
    "print(pmam(\"1240P\"))\n",
    "print(pmam(\"0232P\"))"
   ]
  },
  {
   "cell_type": "code",
   "execution_count": 16,
   "metadata": {
    "collapsed": false
   },
   "outputs": [],
   "source": [
    "df['Violation Time pmam'] = df['Violation Time'].apply(pmam)"
   ]
  },
  {
   "cell_type": "markdown",
   "metadata": {},
   "source": [
    "**6. There sure are a lot of colors of cars, too bad so many of them are the same. Make \"BLK\" and \"BLACK\", \"WT\" and \"WHITE\", and any other combinations that you notice.**"
   ]
  },
  {
   "cell_type": "code",
   "execution_count": 17,
   "metadata": {
    "collapsed": false
   },
   "outputs": [
    {
     "data": {
      "text/plain": [
       "0       GY\n",
       "1       WH\n",
       "2      NaN\n",
       "3       WH\n",
       "4       BR\n",
       "5       RD\n",
       "6       GN\n",
       "7    WHITE\n",
       "8    WHITE\n",
       "9    BLACK\n",
       "Name: Vehicle Color, dtype: object"
      ]
     },
     "execution_count": 17,
     "metadata": {},
     "output_type": "execute_result"
    }
   ],
   "source": [
    "df['Vehicle Color'].head(10)"
   ]
  },
  {
   "cell_type": "code",
   "execution_count": 18,
   "metadata": {
    "collapsed": false
   },
   "outputs": [],
   "source": [
    "def black_and_white(car_color):\n",
    "    car_color = str(car_color)\n",
    "    if car_color == 'NaN':\n",
    "        return 'NaN'\n",
    "    elif car_color == 'WHITE':\n",
    "        return car_color\n",
    "    elif car_color == 'BLACK':\n",
    "        return car_color\n",
    "    else:\n",
    "        return car_color.replace(\"BK\",\"BLACK\").replace(\"WH\", \"WHITE\")                                                                                                                                "
   ]
  },
  {
   "cell_type": "code",
   "execution_count": 19,
   "metadata": {
    "collapsed": false
   },
   "outputs": [],
   "source": [
    "def rainbow(car_color):\n",
    "    car_color = str(car_color)\n",
    "    if car_color == 'NaN':\n",
    "        return car_color\n",
    "    elif car_color == 'BROWN':\n",
    "        return car_color\n",
    "    elif car_color == 'BLUE':\n",
    "        return car_color\n",
    "    elif car_color == 'RED':\n",
    "        return car_color\n",
    "    elif car_color == 'GREY':\n",
    "        return car_color\n",
    "    elif car_color == 'GREEN':\n",
    "        return car_color\n",
    "    else:\n",
    "        return car_color.replace(\"BR\",\"BROWN\").replace(\"RD\", \"RED\").replace(\"GY\", \"GRAY\").replace(\"TN\", \"TAN\").replace(\"BLU\", \"BLUE\").replace(\"GN\", \"GREEN\")"
   ]
  },
  {
   "cell_type": "code",
   "execution_count": 20,
   "metadata": {
    "collapsed": false
   },
   "outputs": [
    {
     "data": {
      "text/plain": [
       "0     GRAY\n",
       "1    WHITE\n",
       "2      nan\n",
       "3    WHITE\n",
       "4    BROWN\n",
       "Name: Vehicle Color, dtype: object"
      ]
     },
     "execution_count": 20,
     "metadata": {},
     "output_type": "execute_result"
    }
   ],
   "source": [
    "df['Vehicle Color'].apply(black_and_white).apply(rainbow).head(5)"
   ]
  },
  {
   "cell_type": "markdown",
   "metadata": {},
   "source": [
    "**7.Join the data with the Parking Violations Code dataset from the NYC Open Data site.**"
   ]
  },
  {
   "cell_type": "code",
   "execution_count": 21,
   "metadata": {
    "collapsed": false
   },
   "outputs": [
    {
     "data": {
      "text/html": [
       "<div>\n",
       "<table border=\"1\" class=\"dataframe\">\n",
       "  <thead>\n",
       "    <tr style=\"text-align: right;\">\n",
       "      <th></th>\n",
       "      <th>CODE</th>\n",
       "      <th>DEFINITION</th>\n",
       "      <th>Manhattan 96th St. &amp; below</th>\n",
       "      <th>All Other Areas</th>\n",
       "      <th>Manhattan Quota</th>\n",
       "    </tr>\n",
       "  </thead>\n",
       "  <tbody>\n",
       "    <tr>\n",
       "      <th>0</th>\n",
       "      <td>10</td>\n",
       "      <td>Stopping, standing or parking where a sign, st...</td>\n",
       "      <td>115.0</td>\n",
       "      <td>115.0</td>\n",
       "      <td>1.0</td>\n",
       "    </tr>\n",
       "    <tr>\n",
       "      <th>1</th>\n",
       "      <td>11</td>\n",
       "      <td>Hotel Loading/Unloading: Standing or parking w...</td>\n",
       "      <td>115.0</td>\n",
       "      <td>115.0</td>\n",
       "      <td>1.0</td>\n",
       "    </tr>\n",
       "    <tr>\n",
       "      <th>2</th>\n",
       "      <td>12</td>\n",
       "      <td>Snow Emergency: Standing or parking where stan...</td>\n",
       "      <td>95.0</td>\n",
       "      <td>95.0</td>\n",
       "      <td>1.0</td>\n",
       "    </tr>\n",
       "    <tr>\n",
       "      <th>3</th>\n",
       "      <td>13</td>\n",
       "      <td>Taxi Stand: Standing or parking where standing...</td>\n",
       "      <td>115.0</td>\n",
       "      <td>115.0</td>\n",
       "      <td>1.0</td>\n",
       "    </tr>\n",
       "    <tr>\n",
       "      <th>4</th>\n",
       "      <td>14</td>\n",
       "      <td>General No Standing: Standing or parking where...</td>\n",
       "      <td>115.0</td>\n",
       "      <td>115.0</td>\n",
       "      <td>1.0</td>\n",
       "    </tr>\n",
       "  </tbody>\n",
       "</table>\n",
       "</div>"
      ],
      "text/plain": [
       "   CODE                                         DEFINITION  \\\n",
       "0    10  Stopping, standing or parking where a sign, st...   \n",
       "1    11  Hotel Loading/Unloading: Standing or parking w...   \n",
       "2    12  Snow Emergency: Standing or parking where stan...   \n",
       "3    13  Taxi Stand: Standing or parking where standing...   \n",
       "4    14  General No Standing: Standing or parking where...   \n",
       "\n",
       "   Manhattan 96th St. & below  All Other Areas  Manhattan Quota  \n",
       "0                       115.0            115.0              1.0  \n",
       "1                       115.0            115.0              1.0  \n",
       "2                        95.0             95.0              1.0  \n",
       "3                       115.0            115.0              1.0  \n",
       "4                       115.0            115.0              1.0  "
      ]
     },
     "execution_count": 21,
     "metadata": {},
     "output_type": "execute_result"
    }
   ],
   "source": [
    "DOF_Parking_Violation_Codes_df = pd.read_csv(\"Parking_Fine_Codes_Man_Quota.csv\")\n",
    "DOF_Parking_Violation_Codes_df.head()"
   ]
  },
  {
   "cell_type": "code",
   "execution_count": 22,
   "metadata": {
    "collapsed": true
   },
   "outputs": [],
   "source": [
    "def make_code_int(code):\n",
    "    return int(code)"
   ]
  },
  {
   "cell_type": "code",
   "execution_count": 23,
   "metadata": {
    "collapsed": false
   },
   "outputs": [],
   "source": [
    "df['Violation Code int'] = df['Violation Code'].apply(make_code_int)"
   ]
  },
  {
   "cell_type": "code",
   "execution_count": 24,
   "metadata": {
    "collapsed": true
   },
   "outputs": [],
   "source": [
    "df_merged = df.merge(DOF_Parking_Violation_Codes_df, left_on='Violation Code int', right_on='CODE')"
   ]
  },
  {
   "cell_type": "code",
   "execution_count": 25,
   "metadata": {
    "collapsed": false
   },
   "outputs": [
    {
     "data": {
      "text/html": [
       "<div>\n",
       "<table border=\"1\" class=\"dataframe\">\n",
       "  <thead>\n",
       "    <tr style=\"text-align: right;\">\n",
       "      <th></th>\n",
       "      <th>Summons Number</th>\n",
       "      <th>Plate ID</th>\n",
       "      <th>Registration State</th>\n",
       "      <th>Plate Type</th>\n",
       "      <th>Issue Date</th>\n",
       "      <th>Violation Code</th>\n",
       "      <th>Vehicle Body Type</th>\n",
       "      <th>Vehicle Make</th>\n",
       "      <th>Issuing Agency</th>\n",
       "      <th>Street Code1</th>\n",
       "      <th>...</th>\n",
       "      <th>No Standing or Stopping Violation</th>\n",
       "      <th>Hydrant Violation</th>\n",
       "      <th>Double Parking Violation</th>\n",
       "      <th>Violation Time pmam</th>\n",
       "      <th>Violation Code int</th>\n",
       "      <th>CODE</th>\n",
       "      <th>DEFINITION</th>\n",
       "      <th>Manhattan 96th St. &amp; below</th>\n",
       "      <th>All Other Areas</th>\n",
       "      <th>Manhattan Quota</th>\n",
       "    </tr>\n",
       "  </thead>\n",
       "  <tbody>\n",
       "    <tr>\n",
       "      <th>0</th>\n",
       "      <td>1283294138</td>\n",
       "      <td>GBB9093</td>\n",
       "      <td>NY</td>\n",
       "      <td>PAS</td>\n",
       "      <td>2013-08-04</td>\n",
       "      <td>46</td>\n",
       "      <td>SUBN</td>\n",
       "      <td>AUDI</td>\n",
       "      <td>P</td>\n",
       "      <td>37250</td>\n",
       "      <td>...</td>\n",
       "      <td>NaN</td>\n",
       "      <td>NaN</td>\n",
       "      <td>NaN</td>\n",
       "      <td>07:52 AM</td>\n",
       "      <td>46</td>\n",
       "      <td>46</td>\n",
       "      <td>Standing or parking on the roadway side of a v...</td>\n",
       "      <td>115.0</td>\n",
       "      <td>115.0</td>\n",
       "      <td>1.0</td>\n",
       "    </tr>\n",
       "  </tbody>\n",
       "</table>\n",
       "<p>1 rows × 50 columns</p>\n",
       "</div>"
      ],
      "text/plain": [
       "  Summons Number Plate ID Registration State Plate Type Issue Date  \\\n",
       "0     1283294138  GBB9093                 NY        PAS 2013-08-04   \n",
       "\n",
       "  Violation Code Vehicle Body Type Vehicle Make Issuing Agency Street Code1  \\\n",
       "0             46              SUBN         AUDI              P        37250   \n",
       "\n",
       "        ...       No Standing or Stopping Violation Hydrant Violation  \\\n",
       "0       ...                                     NaN               NaN   \n",
       "\n",
       "  Double Parking Violation Violation Time pmam Violation Code int CODE  \\\n",
       "0                      NaN            07:52 AM                 46   46   \n",
       "\n",
       "                                          DEFINITION  \\\n",
       "0  Standing or parking on the roadway side of a v...   \n",
       "\n",
       "  Manhattan 96th St. & below All Other Areas Manhattan Quota  \n",
       "0                      115.0           115.0             1.0  \n",
       "\n",
       "[1 rows x 50 columns]"
      ]
     },
     "execution_count": 25,
     "metadata": {},
     "output_type": "execute_result"
    }
   ],
   "source": [
    "df_merged.head(1)"
   ]
  },
  {
   "cell_type": "markdown",
   "metadata": {},
   "source": [
    "**8. How much money did NYC make off of parking violations?**"
   ]
  },
  {
   "cell_type": "code",
   "execution_count": 26,
   "metadata": {
    "collapsed": false
   },
   "outputs": [],
   "source": [
    "Mininum_Amount = df_merged['All Other Areas'].sum()"
   ]
  },
  {
   "cell_type": "code",
   "execution_count": 27,
   "metadata": {
    "collapsed": false
   },
   "outputs": [
    {
     "data": {
      "text/plain": [
       "59717805.0"
      ]
     },
     "execution_count": 27,
     "metadata": {},
     "output_type": "execute_result"
    }
   ],
   "source": [
    "Mininum_Amount"
   ]
  },
  {
   "cell_type": "code",
   "execution_count": 28,
   "metadata": {
    "collapsed": false
   },
   "outputs": [
    {
     "name": "stdout",
     "output_type": "stream",
     "text": [
      "NYC made at least: $59,717,805.00 off parking fines.\n"
     ]
    }
   ],
   "source": [
    "print(\"NYC made at least: ${:,.2f} off parking fines.\".format(Mininum_Amount))"
   ]
  },
  {
   "cell_type": "markdown",
   "metadata": {},
   "source": [
    "**9. What's the most lucrative kind of parking violation? The most frequent?**"
   ]
  },
  {
   "cell_type": "code",
   "execution_count": 29,
   "metadata": {
    "collapsed": false
   },
   "outputs": [],
   "source": [
    "def def_strip(definition):\n",
    "    return definition.strip()"
   ]
  },
  {
   "cell_type": "code",
   "execution_count": 30,
   "metadata": {
    "collapsed": true
   },
   "outputs": [],
   "source": [
    "df_merged['DEFINITION_stripped'] = df_merged['DEFINITION'].apply(def_strip)"
   ]
  },
  {
   "cell_type": "code",
   "execution_count": 31,
   "metadata": {
    "collapsed": false
   },
   "outputs": [
    {
     "data": {
      "text/plain": [
       "Street Cleaning: No parking where parking is not allowed by sign, street marking or traffic control device.    140329\n",
       "Name: DEFINITION, dtype: int64"
      ]
     },
     "execution_count": 31,
     "metadata": {},
     "output_type": "execute_result"
    }
   ],
   "source": [
    "#Most frequent kind of parking violation\n",
    "df_merged['DEFINITION'].value_counts().head(1)"
   ]
  },
  {
   "cell_type": "code",
   "execution_count": 32,
   "metadata": {
    "collapsed": false
   },
   "outputs": [],
   "source": [
    "count_by_violation_code = df_merged['CODE'].value_counts()"
   ]
  },
  {
   "cell_type": "code",
   "execution_count": 33,
   "metadata": {
    "collapsed": false
   },
   "outputs": [
    {
     "data": {
      "text/plain": [
       "21    140329\n",
       "38    125716\n",
       "14     93579\n",
       "37     75484\n",
       "46     56695\n",
       "Name: CODE, dtype: int64"
      ]
     },
     "execution_count": 33,
     "metadata": {},
     "output_type": "execute_result"
    }
   ],
   "source": [
    "count_by_violation_code.head()"
   ]
  },
  {
   "cell_type": "code",
   "execution_count": 34,
   "metadata": {
    "collapsed": false
   },
   "outputs": [
    {
     "data": {
      "text/plain": [
       "CODE\n",
       "14    10761585.0\n",
       "46     6519925.0\n",
       "21     6314805.0\n",
       "40     5382000.0\n",
       "38     4400060.0\n",
       "Name: All Other Areas, dtype: float64"
      ]
     },
     "execution_count": 34,
     "metadata": {},
     "output_type": "execute_result"
    }
   ],
   "source": [
    "df_merged.groupby('CODE')['All Other Areas'].sum().sort_values(ascending=False).head()"
   ]
  },
  {
   "cell_type": "code",
   "execution_count": 35,
   "metadata": {
    "collapsed": false
   },
   "outputs": [
    {
     "data": {
      "text/plain": [
       "CODE\n",
       "14    10761585.0\n",
       "Name: All Other Areas, dtype: float64"
      ]
     },
     "execution_count": 35,
     "metadata": {},
     "output_type": "execute_result"
    }
   ],
   "source": [
    "Most_lucrative_amount = df_merged.groupby('CODE')['All Other Areas'].sum().sort_values(ascending=False).head(1)\n",
    "Most_lucrative_amount"
   ]
  },
  {
   "cell_type": "code",
   "execution_count": 36,
   "metadata": {
    "collapsed": false
   },
   "outputs": [],
   "source": [
    "Most_lucrative_fine_in_words = df_merged[df_merged['CODE'] == 14]"
   ]
  },
  {
   "cell_type": "code",
   "execution_count": 37,
   "metadata": {
    "collapsed": false
   },
   "outputs": [
    {
     "data": {
      "text/plain": [
       "56695    General No Standing: Standing or parking where...\n",
       "Name: DEFINITION, dtype: object"
      ]
     },
     "execution_count": 37,
     "metadata": {},
     "output_type": "execute_result"
    }
   ],
   "source": [
    "Most_lucrative_fine_in_words = Most_lucrative_fine_in_words['DEFINITION'].head(1)\n",
    "Most_lucrative_fine_in_words"
   ]
  },
  {
   "cell_type": "markdown",
   "metadata": {
    "collapsed": false
   },
   "source": [
    "**10. New Jersey has bad drivers, but does it have bad parkers, too? How much money does NYC make off of all non-New York vehicles?**"
   ]
  },
  {
   "cell_type": "code",
   "execution_count": 38,
   "metadata": {
    "collapsed": false
   },
   "outputs": [
    {
     "data": {
      "text/plain": [
       "NY    593237\n",
       "NJ     91200\n",
       "PA     25071\n",
       "CT     14806\n",
       "FL     11827\n",
       "MA      8660\n",
       "VA      7318\n",
       "MD      5753\n",
       "NC      4754\n",
       "99      3981\n",
       "Name: Registration State, dtype: int64"
      ]
     },
     "execution_count": 38,
     "metadata": {},
     "output_type": "execute_result"
    }
   ],
   "source": [
    "df_merged['Registration State'].value_counts().head(10)"
   ]
  },
  {
   "cell_type": "code",
   "execution_count": 39,
   "metadata": {
    "collapsed": false
   },
   "outputs": [],
   "source": [
    "Fines_for_New_York_Cars = df_merged.groupby('Registration State')['All Other Areas'].sum().sort_values(ascending=False).head(1)"
   ]
  },
  {
   "cell_type": "code",
   "execution_count": 40,
   "metadata": {
    "collapsed": false
   },
   "outputs": [
    {
     "data": {
      "text/plain": [
       "Registration State\n",
       "NY    43145630.0\n",
       "Name: All Other Areas, dtype: float64"
      ]
     },
     "execution_count": 40,
     "metadata": {},
     "output_type": "execute_result"
    }
   ],
   "source": [
    "Fines_for_New_York_Cars"
   ]
  },
  {
   "cell_type": "code",
   "execution_count": 41,
   "metadata": {
    "collapsed": false
   },
   "outputs": [
    {
     "data": {
      "text/plain": [
       "59717805.0"
      ]
     },
     "execution_count": 41,
     "metadata": {},
     "output_type": "execute_result"
    }
   ],
   "source": [
    "Mininum_Amount #Total fines"
   ]
  },
  {
   "cell_type": "code",
   "execution_count": 42,
   "metadata": {
    "collapsed": false
   },
   "outputs": [
    {
     "name": "stdout",
     "output_type": "stream",
     "text": [
      "New York City makes $55,565,465.00 off non-New-York cars.\n"
     ]
    }
   ],
   "source": [
    "print(\"New York City makes ${:,.2f} off non-New-York cars.\".format(Mininum_Amount - 4152340.0)) "
   ]
  },
  {
   "cell_type": "code",
   "execution_count": 43,
   "metadata": {
    "collapsed": false
   },
   "outputs": [
    {
     "data": {
      "text/plain": [
       "Violation Code int            6.632725e+06\n",
       "CODE                          6.632725e+06\n",
       "Manhattan 96th St. & below    1.900166e+07\n",
       "All Other Areas               1.657218e+07\n",
       "Manhattan Quota               2.799261e+05\n",
       "dtype: float64"
      ]
     },
     "execution_count": 43,
     "metadata": {},
     "output_type": "execute_result"
    }
   ],
   "source": [
    "#Double Check:\n",
    "df_merged[df_merged['Registration State'] != 'NY'].sum()"
   ]
  },
  {
   "cell_type": "markdown",
   "metadata": {},
   "source": [
    "**11. Make a chart of the top few.**"
   ]
  },
  {
   "cell_type": "code",
   "execution_count": 44,
   "metadata": {
    "collapsed": true
   },
   "outputs": [],
   "source": [
    "import matplotlib.pyplot as plt\n",
    "%matplotlib inline\n",
    "plt.style.use(\"ggplot\")"
   ]
  },
  {
   "cell_type": "code",
   "execution_count": 45,
   "metadata": {
    "collapsed": false
   },
   "outputs": [
    {
     "data": {
      "text/plain": [
       "<matplotlib.axes._subplots.AxesSubplot at 0x116f76c18>"
      ]
     },
     "execution_count": 45,
     "metadata": {},
     "output_type": "execute_result"
    },
    {
     "data": {
      "image/png": "[encoded data removed]",
      "text/plain": [
       "<matplotlib.figure.Figure at 0x116f76358>"
      ]
     },
     "metadata": {},
     "output_type": "display_data"
    }
   ],
   "source": [
    "df_merged['Registration State'].value_counts().sort_values(ascending=True).tail(10).plot(kind='barh')\n"
   ]
  },
  {
   "cell_type": "markdown",
   "metadata": {},
   "source": [
    "**12. What time of day do people usually get their tickets? You can break the day up into several blocks - for example 12am-6am, 6am-12pm, 12pm-6pm,6pm-12am.**"
   ]
  },
  {
   "cell_type": "code",
   "execution_count": 46,
   "metadata": {
    "collapsed": false
   },
   "outputs": [],
   "source": [
    "import dateutil\n",
    "\n",
    "def Time_of_day(x):\n",
    "    x = str(x)\n",
    "    #x = (':'.join(a+b for a,b in zip(x[::2], x[1::2])))\n",
    "    if x == 'NaN':\n",
    "        pass\n",
    "    try:\n",
    "        x = str(x[:2] + ':' + x[2:])\n",
    "        date = dateutil.parser.parse(x)\n",
    "        time = int(str(date.strftime('%H')))\n",
    "        if time <= 6:\n",
    "            return '12am - 6am'\n",
    "        elif time <= 12:\n",
    "            return '6am - 12pm'\n",
    "        elif time <= 18:\n",
    "            return '12pm - 6pm'\n",
    "        elif time <= 24:\n",
    "            return '6pm - 12am'\n",
    "    except:\n",
    "        return 'NaN'"
   ]
  },
  {
   "cell_type": "code",
   "execution_count": 47,
   "metadata": {
    "collapsed": false
   },
   "outputs": [],
   "source": [
    "df_merged['Time of Day'] = df['Violation Time'].apply(Time_of_day)"
   ]
  },
  {
   "cell_type": "code",
   "execution_count": 48,
   "metadata": {
    "collapsed": false
   },
   "outputs": [
    {
     "data": {
      "text/plain": [
       "6am - 12pm    396852\n",
       "12pm - 6pm    308077\n",
       "12am - 6am     57147\n",
       "6pm - 12am     47926\n",
       "NaN              275\n",
       "Name: Time of Day, dtype: int64"
      ]
     },
     "execution_count": 48,
     "metadata": {},
     "output_type": "execute_result"
    }
   ],
   "source": [
    "df_merged['Time of Day'].value_counts()"
   ]
  },
  {
   "cell_type": "markdown",
   "metadata": {},
   "source": [
    "**14. Make a graph of the number of tickets per day.**"
   ]
  },
  {
   "cell_type": "code",
   "execution_count": 49,
   "metadata": {
    "collapsed": false
   },
   "outputs": [
    {
     "data": {
      "text/plain": [
       "0   2013-08-04\n",
       "1   2013-08-04\n",
       "2   2013-08-05\n",
       "3   2013-08-05\n",
       "4   2013-07-23\n",
       "Name: Issue Date, dtype: datetime64[ns]"
      ]
     },
     "execution_count": 49,
     "metadata": {},
     "output_type": "execute_result"
    }
   ],
   "source": [
    "df_merged['Issue Date'].head()"
   ]
  },
  {
   "cell_type": "code",
   "execution_count": 50,
   "metadata": {
    "collapsed": false
   },
   "outputs": [],
   "source": [
    "#Filtering out all the dates that were in the future and before 2013, obviously wrong dates.\n",
    "df_merged_only_2013_dates = df_merged[(df_merged['Issue Date'] > '2013-01-01') & (df_merged['Issue Date'] < '2013-12-31')]"
   ]
  },
  {
   "cell_type": "code",
   "execution_count": 51,
   "metadata": {
    "collapsed": false
   },
   "outputs": [
    {
     "data": {
      "image/png": "[encoded data removed]",
      "text/plain": [
       "<matplotlib.figure.Figure at 0x1175cb2e8>"
      ]
     },
     "metadata": {},
     "output_type": "display_data"
    }
   ],
   "source": [
    "#More on histograms\n",
    "#http://stackoverflow.com/questions/27365467/python-pandas-plot-histogram-of-dates\n",
    "#http://stackoverflow.com/questions/29672375/histogram-in-matplotlib-time-on-x-axis\n",
    "#plt.axis('off')\n",
    "import matplotlib.pyplot as plt\n",
    "\n",
    "plt.plot(range(5))\n",
    "plt.gca().xaxis.set_major_locator(plt.NullLocator())\n",
    "df_merged_only_2013_dates.groupby('Issue Date')['Issue Date'].count().plot(kind=\"bar\", figsize=(15, 6), legend=None, title='Amount of daily parking tickets in 2013')\n",
    "plt.show()"
   ]
  },
  {
   "cell_type": "markdown",
   "metadata": {},
   "source": [
    "**15. Make a graph of the amount of revenue collected per day.**"
   ]
  },
  {
   "cell_type": "code",
   "execution_count": 52,
   "metadata": {
    "collapsed": false
   },
   "outputs": [
    {
     "data": {
      "text/plain": [
       "0   2013-08-04\n",
       "1   2013-08-04\n",
       "2   2013-08-05\n",
       "3   2013-08-05\n",
       "4   2013-07-23\n",
       "Name: Issue Date, dtype: datetime64[ns]"
      ]
     },
     "execution_count": 52,
     "metadata": {},
     "output_type": "execute_result"
    }
   ],
   "source": [
    "df_merged['Issue Date'].head()"
   ]
  },
  {
   "cell_type": "code",
   "execution_count": 53,
   "metadata": {
    "collapsed": false
   },
   "outputs": [
    {
     "data": {
      "image/png": "[encoded data removed]",
      "text/plain": [
       "<matplotlib.figure.Figure at 0x10ec095f8>"
      ]
     },
     "metadata": {},
     "output_type": "display_data"
    }
   ],
   "source": [
    "plt.plot(range(5))\n",
    "plt.gca().xaxis.set_major_locator(plt.NullLocator())\n",
    "df_merged_only_2013_dates.groupby('Issue Date')['All Other Areas'].sum().plot(kind=\"bar\", figsize=(15, 6), legend=None, title='Total daily fine amount in 2013')\n",
    "plt.show()"
   ]
  },
  {
   "cell_type": "markdown",
   "metadata": {},
   "source": [
    "**16. Manually construct a dataframe out of https://dmv.ny.gov/statistic/2015licinforce-web.pdf (only NYC boroughts - bronx, queens, manhattan, staten island, brooklyn), having columns for borough name, abbreviation, and number of licensed drivers.**"
   ]
  },
  {
   "cell_type": "code",
   "execution_count": 54,
   "metadata": {
    "collapsed": true
   },
   "outputs": [],
   "source": [
    "df_boroughs = pd.read_csv(\"NYC_Boroughs3.csv\")"
   ]
  },
  {
   "cell_type": "code",
   "execution_count": 55,
   "metadata": {
    "collapsed": false
   },
   "outputs": [
    {
     "data": {
      "text/html": [
       "<div>\n",
       "<table border=\"1\" class=\"dataframe\">\n",
       "  <thead>\n",
       "    <tr style=\"text-align: right;\">\n",
       "      <th></th>\n",
       "      <th>borough name</th>\n",
       "      <th>abbreviation</th>\n",
       "      <th>Total</th>\n",
       "    </tr>\n",
       "  </thead>\n",
       "  <tbody>\n",
       "    <tr>\n",
       "      <th>0</th>\n",
       "      <td>Manhattan (New York)</td>\n",
       "      <td>NY</td>\n",
       "      <td>748583</td>\n",
       "    </tr>\n",
       "    <tr>\n",
       "      <th>1</th>\n",
       "      <td>Bronx</td>\n",
       "      <td>BX</td>\n",
       "      <td>456847</td>\n",
       "    </tr>\n",
       "    <tr>\n",
       "      <th>2</th>\n",
       "      <td>Brooklyn</td>\n",
       "      <td>K</td>\n",
       "      <td>983769</td>\n",
       "    </tr>\n",
       "    <tr>\n",
       "      <th>3</th>\n",
       "      <td>Queens</td>\n",
       "      <td>Q</td>\n",
       "      <td>1134064</td>\n",
       "    </tr>\n",
       "    <tr>\n",
       "      <th>4</th>\n",
       "      <td>Staten Island (Richmond)</td>\n",
       "      <td>R</td>\n",
       "      <td>304250</td>\n",
       "    </tr>\n",
       "  </tbody>\n",
       "</table>\n",
       "</div>"
      ],
      "text/plain": [
       "               borough name abbreviation    Total\n",
       "0      Manhattan (New York)           NY   748583\n",
       "1                     Bronx           BX   456847\n",
       "2                  Brooklyn            K   983769\n",
       "3                    Queens            Q  1134064\n",
       "4  Staten Island (Richmond)            R   304250"
      ]
     },
     "execution_count": 55,
     "metadata": {},
     "output_type": "execute_result"
    }
   ],
   "source": [
    "df_boroughs.head()"
   ]
  },
  {
   "cell_type": "markdown",
   "metadata": {},
   "source": [
    "**17. What's the parking-ticket-$-per-licensed-driver in each borough of NYC? Do this with pandas and the dataframe you just made, not with your head!**"
   ]
  },
  {
   "cell_type": "code",
   "execution_count": 56,
   "metadata": {
    "collapsed": true
   },
   "outputs": [],
   "source": [
    "def county_harm(county):\n",
    "    county = str(county)\n",
    "    if county == 'NaN':\n",
    "        return\n",
    "    else:\n",
    "        return county.replace(\"BRONX\",\"BX\").replace(\"KINGS\", \"K\").replace(\"NYC\", \"NY\").replace(\"QUEEN\", \"Q\").replace(\"RC\", \"R\").replace(\"RICH\", \"R\")"
   ]
  },
  {
   "cell_type": "code",
   "execution_count": 57,
   "metadata": {
    "collapsed": false
   },
   "outputs": [],
   "source": [
    "df_merged['Violation County harm'] = df_merged['Violation County'].apply(county_harm)"
   ]
  },
  {
   "cell_type": "code",
   "execution_count": 58,
   "metadata": {
    "collapsed": false
   },
   "outputs": [],
   "source": [
    "summed_fine_amounts_by_county = df_merged.groupby('Violation County harm')['All Other Areas'].sum()"
   ]
  },
  {
   "cell_type": "code",
   "execution_count": 59,
   "metadata": {
    "collapsed": false
   },
   "outputs": [],
   "source": [
    "#creating dataframe\n",
    "fine_amounts = pd.DataFrame(summed_fine_amounts_by_county)"
   ]
  },
  {
   "cell_type": "code",
   "execution_count": 60,
   "metadata": {
    "collapsed": false
   },
   "outputs": [],
   "source": [
    "#changing the index into column\n",
    "fine_amounts.reset_index(inplace=True)"
   ]
  },
  {
   "cell_type": "code",
   "execution_count": 61,
   "metadata": {
    "collapsed": false
   },
   "outputs": [
    {
     "data": {
      "text/html": [
       "<div>\n",
       "<table border=\"1\" class=\"dataframe\">\n",
       "  <thead>\n",
       "    <tr style=\"text-align: right;\">\n",
       "      <th></th>\n",
       "      <th>Violation County harm</th>\n",
       "      <th>All Other Areas</th>\n",
       "    </tr>\n",
       "  </thead>\n",
       "  <tbody>\n",
       "    <tr>\n",
       "      <th>0</th>\n",
       "      <td>BX</td>\n",
       "      <td>5562195.0</td>\n",
       "    </tr>\n",
       "    <tr>\n",
       "      <th>1</th>\n",
       "      <td>K</td>\n",
       "      <td>12581020.0</td>\n",
       "    </tr>\n",
       "    <tr>\n",
       "      <th>2</th>\n",
       "      <td>NY</td>\n",
       "      <td>30122910.0</td>\n",
       "    </tr>\n",
       "    <tr>\n",
       "      <th>3</th>\n",
       "      <td>Q</td>\n",
       "      <td>10398690.0</td>\n",
       "    </tr>\n",
       "    <tr>\n",
       "      <th>4</th>\n",
       "      <td>R</td>\n",
       "      <td>430360.0</td>\n",
       "    </tr>\n",
       "    <tr>\n",
       "      <th>5</th>\n",
       "      <td>nan</td>\n",
       "      <td>622630.0</td>\n",
       "    </tr>\n",
       "  </tbody>\n",
       "</table>\n",
       "</div>"
      ],
      "text/plain": [
       "  Violation County harm  All Other Areas\n",
       "0                    BX        5562195.0\n",
       "1                     K       12581020.0\n",
       "2                    NY       30122910.0\n",
       "3                     Q       10398690.0\n",
       "4                     R         430360.0\n",
       "5                   nan         622630.0"
      ]
     },
     "execution_count": 61,
     "metadata": {},
     "output_type": "execute_result"
    }
   ],
   "source": [
    "fine_amounts"
   ]
  },
  {
   "cell_type": "code",
   "execution_count": 62,
   "metadata": {
    "collapsed": false
   },
   "outputs": [],
   "source": [
    "#Joining the two new datasets\n",
    "df_ticket_dollars_per_licence = fine_amounts.merge(df_boroughs, left_on='Violation County harm', right_on='abbreviation')"
   ]
  },
  {
   "cell_type": "code",
   "execution_count": 63,
   "metadata": {
    "collapsed": false
   },
   "outputs": [
    {
     "data": {
      "text/html": [
       "<div>\n",
       "<table border=\"1\" class=\"dataframe\">\n",
       "  <thead>\n",
       "    <tr style=\"text-align: right;\">\n",
       "      <th></th>\n",
       "      <th>Violation County harm</th>\n",
       "      <th>All Other Areas</th>\n",
       "      <th>borough name</th>\n",
       "      <th>abbreviation</th>\n",
       "      <th>Total</th>\n",
       "    </tr>\n",
       "  </thead>\n",
       "  <tbody>\n",
       "    <tr>\n",
       "      <th>0</th>\n",
       "      <td>BX</td>\n",
       "      <td>5562195.0</td>\n",
       "      <td>Bronx</td>\n",
       "      <td>BX</td>\n",
       "      <td>456847</td>\n",
       "    </tr>\n",
       "    <tr>\n",
       "      <th>1</th>\n",
       "      <td>K</td>\n",
       "      <td>12581020.0</td>\n",
       "      <td>Brooklyn</td>\n",
       "      <td>K</td>\n",
       "      <td>983769</td>\n",
       "    </tr>\n",
       "    <tr>\n",
       "      <th>2</th>\n",
       "      <td>NY</td>\n",
       "      <td>30122910.0</td>\n",
       "      <td>Manhattan (New York)</td>\n",
       "      <td>NY</td>\n",
       "      <td>748583</td>\n",
       "    </tr>\n",
       "    <tr>\n",
       "      <th>3</th>\n",
       "      <td>Q</td>\n",
       "      <td>10398690.0</td>\n",
       "      <td>Queens</td>\n",
       "      <td>Q</td>\n",
       "      <td>1134064</td>\n",
       "    </tr>\n",
       "    <tr>\n",
       "      <th>4</th>\n",
       "      <td>R</td>\n",
       "      <td>430360.0</td>\n",
       "      <td>Staten Island (Richmond)</td>\n",
       "      <td>R</td>\n",
       "      <td>304250</td>\n",
       "    </tr>\n",
       "  </tbody>\n",
       "</table>\n",
       "</div>"
      ],
      "text/plain": [
       "  Violation County harm  All Other Areas              borough name  \\\n",
       "0                    BX        5562195.0                     Bronx   \n",
       "1                     K       12581020.0                  Brooklyn   \n",
       "2                    NY       30122910.0      Manhattan (New York)   \n",
       "3                     Q       10398690.0                    Queens   \n",
       "4                     R         430360.0  Staten Island (Richmond)   \n",
       "\n",
       "  abbreviation    Total  \n",
       "0           BX   456847  \n",
       "1            K   983769  \n",
       "2           NY   748583  \n",
       "3            Q  1134064  \n",
       "4            R   304250  "
      ]
     },
     "execution_count": 63,
     "metadata": {},
     "output_type": "execute_result"
    }
   ],
   "source": [
    "df_ticket_dollars_per_licence"
   ]
  },
  {
   "cell_type": "code",
   "execution_count": 64,
   "metadata": {
    "collapsed": true
   },
   "outputs": [],
   "source": [
    "df_ticket_dollars_per_licence['Ticket Dollars per Licence'] = df_ticket_dollars_per_licence['All Other Areas'] / df_ticket_dollars_per_licence['Total']"
   ]
  },
  {
   "cell_type": "code",
   "execution_count": 65,
   "metadata": {
    "collapsed": false
   },
   "outputs": [
    {
     "data": {
      "text/html": [
       "<div>\n",
       "<table border=\"1\" class=\"dataframe\">\n",
       "  <thead>\n",
       "    <tr style=\"text-align: right;\">\n",
       "      <th></th>\n",
       "      <th>borough name</th>\n",
       "      <th>abbreviation</th>\n",
       "      <th>Ticket Dollars per Licence</th>\n",
       "    </tr>\n",
       "  </thead>\n",
       "  <tbody>\n",
       "    <tr>\n",
       "      <th>0</th>\n",
       "      <td>Bronx</td>\n",
       "      <td>BX</td>\n",
       "      <td>12.175181</td>\n",
       "    </tr>\n",
       "    <tr>\n",
       "      <th>1</th>\n",
       "      <td>Brooklyn</td>\n",
       "      <td>K</td>\n",
       "      <td>12.788592</td>\n",
       "    </tr>\n",
       "    <tr>\n",
       "      <th>2</th>\n",
       "      <td>Manhattan (New York)</td>\n",
       "      <td>NY</td>\n",
       "      <td>40.239907</td>\n",
       "    </tr>\n",
       "    <tr>\n",
       "      <th>3</th>\n",
       "      <td>Queens</td>\n",
       "      <td>Q</td>\n",
       "      <td>9.169403</td>\n",
       "    </tr>\n",
       "    <tr>\n",
       "      <th>4</th>\n",
       "      <td>Staten Island (Richmond)</td>\n",
       "      <td>R</td>\n",
       "      <td>1.414495</td>\n",
       "    </tr>\n",
       "  </tbody>\n",
       "</table>\n",
       "</div>"
      ],
      "text/plain": [
       "               borough name abbreviation  Ticket Dollars per Licence\n",
       "0                     Bronx           BX                   12.175181\n",
       "1                  Brooklyn            K                   12.788592\n",
       "2      Manhattan (New York)           NY                   40.239907\n",
       "3                    Queens            Q                    9.169403\n",
       "4  Staten Island (Richmond)            R                    1.414495"
      ]
     },
     "execution_count": 65,
     "metadata": {},
     "output_type": "execute_result"
    }
   ],
   "source": [
    "#Dividing one dataset by the other\n",
    "df_ticket_dollars_per_licence[['borough name', 'abbreviation', 'Ticket Dollars per Licence']]"
   ]
  }
 ],
 "metadata": {
  "kernelspec": {
   "display_name": "Python 3",
   "language": "python",
   "name": "python3"
  },
  "language_info": {
   "codemirror_mode": {
    "name": "ipython",
    "version": 3
   },
   "file_extension": ".py",
   "mimetype": "text/x-python",
   "name": "python",
   "nbconvert_exporter": "python",
   "pygments_lexer": "ipython3",
   "version": "3.5.1"
  }
 },
 "nbformat": 4,
 "nbformat_minor": 0
}
