{
 "cells": [
  {
   "cell_type": "code",
   "execution_count": 1,
   "metadata": {
    "collapsed": true
   },
   "outputs": [],
   "source": [
    "import requests"
   ]
  },
  {
   "cell_type": "code",
   "execution_count": 2,
   "metadata": {
    "collapsed": false
   },
   "outputs": [],
   "source": [
    "#Favorite_Artists = input(\"What is your favorite Arist on Spotify? \")"
   ]
  },
  {
   "cell_type": "code",
   "execution_count": 7,
   "metadata": {
    "collapsed": false
   },
   "outputs": [],
   "source": [
    "response = requests.get('https://api.spotify.com/v1/search?query=Radio&type=artist&limit=50&market=US')\n",
    "Favorite_Artists = response.json()"
   ]
  },
  {
   "cell_type": "code",
   "execution_count": 8,
   "metadata": {
    "collapsed": false
   },
   "outputs": [
    {
     "name": "stdout",
     "output_type": "stream",
     "text": [
      "Radiohead\n",
      "TV On The Radio\n",
      "Beta Radio\n",
      "Bronze Radio Return\n",
      "Go Radio\n",
      "State Radio\n",
      "Slovak Radio Symphony Orchestra\n",
      "DiRTY RADiO\n",
      "Bavarian Radio Symphony Orchestra\n",
      "The Radio Dept.\n",
      "Primitive Radio Gods\n",
      "Polish National Radio Symphony Orchestra\n",
      "Radio Moscow\n",
      "Red City Radio\n",
      "Chiptune Radio\n",
      "Stuttgart Radio Symphony Orchestra\n",
      "Radioactive Warfare\n",
      "All India Radio\n",
      "Belgian Radio and Television Philharmonic Orchestra\n",
      "Radio Citizen\n",
      "SWR Symphony Orchestra\n",
      "Stuttgart Southwest Radio Vocal Ensemble\n",
      "Stuck In Your Radio\n",
      "Deutsches Symphonie-Orchester Berlin\n",
      "Radio Futura\n",
      "Vinny Radio\n",
      "Goodnight Radio\n",
      "The One AM Radio\n",
      "Radioactivity\n",
      "Radion6\n",
      "No Tv No Radio\n",
      "Motel Radio\n",
      "Swedish Radio Symphony Orchestra\n",
      "Old Time Radio\n",
      "Orchestre Philharmonique de Radio France\n",
      "Alternative Radio\n",
      "Danger Radio\n",
      "Moscow Radio Symphony Orchestra\n",
      "Radio Birdman\n",
      "National Park Radio\n",
      "Rundfunkchor Berlin\n",
      "Munich Radio Orchestra\n",
      "Latvian Radio Choir\n",
      "Ukraine National Radio Symphony Orchestra\n",
      "Fm Radio\n",
      "Radio 4\n",
      "Relax Radio\n",
      "Armin van Buuren ASOT Radio\n",
      "Sounds Under Radio\n",
      "St. Petersburg Radio Symphony Orchestra\n"
     ]
    }
   ],
   "source": [
    "Favorite_Artists_List = Favorite_Artists['artists']['items']\n",
    "for artist in Favorite_Artists_List:\n",
    "    print(artist['name'])"
   ]
  },
  {
   "cell_type": "code",
   "execution_count": 9,
   "metadata": {
    "collapsed": false
   },
   "outputs": [
    {
     "data": {
      "text/plain": [
       "dict_keys(['artists'])"
      ]
     },
     "execution_count": 9,
     "metadata": {},
     "output_type": "execute_result"
    }
   ],
   "source": [
    "Favorite_Artists.keys()"
   ]
  },
  {
   "cell_type": "code",
   "execution_count": 13,
   "metadata": {
    "collapsed": false
   },
   "outputs": [
    {
     "data": {
      "text/plain": [
       "dict_keys(['next', 'href', 'items', 'total', 'limit', 'offset', 'previous'])"
      ]
     },
     "execution_count": 13,
     "metadata": {},
     "output_type": "execute_result"
    }
   ],
   "source": [
    "Favorite_Artists['artists'].keys()"
   ]
  },
  {
   "cell_type": "code",
   "execution_count": 15,
   "metadata": {
    "collapsed": false
   },
   "outputs": [
    {
     "data": {
      "text/plain": [
       "4409"
      ]
     },
     "execution_count": 15,
     "metadata": {},
     "output_type": "execute_result"
    }
   ],
   "source": [
    "Favorite_Artists['artists']['total']"
   ]
  },
  {
   "cell_type": "code",
   "execution_count": null,
   "metadata": {
    "collapsed": true
   },
   "outputs": [],
   "source": []
  }
 ],
 "metadata": {
  "kernelspec": {
   "display_name": "Python 3",
   "language": "python",
   "name": "python3"
  },
  "language_info": {
   "codemirror_mode": {
    "name": "ipython",
    "version": 3
   },
   "file_extension": ".py",
   "mimetype": "text/x-python",
   "name": "python",
   "nbconvert_exporter": "python",
   "pygments_lexer": "ipython3",
   "version": "3.5.1"
  }
 },
 "nbformat": 4,
 "nbformat_minor": 0
}
