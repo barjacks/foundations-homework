{
 "cells": [
  {
   "cell_type": "code",
   "execution_count": 5,
   "metadata": {
    "collapsed": true
   },
   "outputs": [],
   "source": [
    "import requests\n",
    "\n",
    "response = requests.get('https://api.spotify.com/v1/search?query=Lil&type=artist&limit=50&offest=50&market=US')\n",
    "big_data = response.json()"
   ]
  },
  {
   "cell_type": "code",
   "execution_count": 6,
   "metadata": {
    "collapsed": false
   },
   "outputs": [
    {
     "data": {
      "text/plain": [
       "7"
      ]
     },
     "execution_count": 6,
     "metadata": {},
     "output_type": "execute_result"
    }
   ],
   "source": [
    "len(big_data['artists'])"
   ]
  },
  {
   "cell_type": "code",
   "execution_count": null,
   "metadata": {
    "collapsed": true
   },
   "outputs": [],
   "source": [
    "FIRST PAGE\n",
    "'https://api.spotify.com/v1/search?query=Lil&type=artist&limit=50&offest=0&market=US'\n",
    "SECOND PAGE\n",
    "'https://api.spotify.com/v1/search?query=Lil&type=artist&limit=50&offest=50&market=US'\n",
    "THIRD PAGE\n",
    "'https://api.spotify.com/v1/search?query=Lil&type=artist&limit=50&offest=150&market=US'\n",
    "FOURTH PAGE\n",
    "'https://api.spotify.com/v1/search?query=Lil&type=artist&limit=50&offest=200&market=US'"
   ]
  }
 ],
 "metadata": {
  "kernelspec": {
   "display_name": "Python 3",
   "language": "python",
   "name": "python3"
  },
  "language_info": {
   "codemirror_mode": {
    "name": "ipython",
    "version": 3
   },
   "file_extension": ".py",
   "mimetype": "text/x-python",
   "name": "python",
   "nbconvert_exporter": "python",
   "pygments_lexer": "ipython3",
   "version": "3.5.1"
  }
 },
 "nbformat": 4,
 "nbformat_minor": 0
}
