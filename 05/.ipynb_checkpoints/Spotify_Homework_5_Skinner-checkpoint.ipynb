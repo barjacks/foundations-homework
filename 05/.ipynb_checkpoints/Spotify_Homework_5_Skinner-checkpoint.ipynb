{
 "cells": [
  {
   "cell_type": "code",
   "execution_count": 1,
   "metadata": {
    "collapsed": false
   },
   "outputs": [],
   "source": [
    "import requests"
   ]
  },
  {
   "cell_type": "markdown",
   "metadata": {},
   "source": [
    "These are the search queries for the [Spotify Web API](https://developer.spotify.com/web-api/search-item/)\n"
   ]
  },
  {
   "cell_type": "code",
   "execution_count": 2,
   "metadata": {
    "collapsed": false
   },
   "outputs": [],
   "source": [
    "response = requests.get('https://api.spotify.com/v1/search?query=Lil&type=artist&limit=50&market=US')\n",
    "Lil_data = response.json()"
   ]
  },
  {
   "cell_type": "code",
   "execution_count": 3,
   "metadata": {
    "collapsed": false
   },
   "outputs": [
    {
     "data": {
      "text/plain": [
       "dict_keys(['artists'])"
      ]
     },
     "execution_count": 3,
     "metadata": {},
     "output_type": "execute_result"
    }
   ],
   "source": [
    "Lil_data.keys()"
   ]
  },
  {
   "cell_type": "code",
   "execution_count": 4,
   "metadata": {
    "collapsed": false
   },
   "outputs": [
    {
     "data": {
      "text/plain": [
       "dict_keys(['items', 'limit', 'offset', 'href', 'total', 'previous', 'next'])"
      ]
     },
     "execution_count": 4,
     "metadata": {},
     "output_type": "execute_result"
    }
   ],
   "source": [
    "Lil_data['artists'].keys()"
   ]
  },
  {
   "cell_type": "markdown",
   "metadata": {},
   "source": [
    "**1) With \"Lil Wayne\" and \"Lil Kim\" there are a lot of \"Lil\" musicians. Do a search and print a list of 50 that are playable in the USA (or the country of your choice), along with their popularity score.**"
   ]
  },
  {
   "cell_type": "code",
   "execution_count": 5,
   "metadata": {
    "collapsed": false
   },
   "outputs": [
    {
     "name": "stdout",
     "output_type": "stream",
     "text": [
      "Lil Wayne 86\n",
      "Lil Yachty 73\n",
      "Lil Uzi Vert 73\n",
      "Lil Dicky 68\n",
      "Boosie Badazz 67\n",
      "Lil Jon 72\n",
      "King Lil G 61\n",
      "Lil Durk 60\n",
      "Lil Jon & The East Side Boyz 60\n",
      "Lil Bibby 54\n",
      "G Herbo 53\n",
      "Lil Rob 50\n",
      "Lil Reese 50\n",
      "Lil Keke 48\n",
      "Bow Wow 57\n",
      "Lil Scrappy 49\n",
      "Lil Wyte 50\n",
      "Lil Blood 45\n",
      "Lil Snupe 45\n",
      "Lil Mama 45\n",
      "Lil B 44\n",
      "Lil' Kim 62\n",
      "Lil Cuete 40\n",
      "Lil Phat 39\n",
      "Lil Boom 42\n",
      "Lil Debbie 43\n",
      "Lil Twist 40\n",
      "Lil Trill 37\n",
      "Lil AJ 37\n",
      "Lil Lonnie 37\n",
      "Lil Twon 37\n",
      "Lil Goofy 35\n",
      "Lil Haiti 37\n",
      "Lil Cray 35\n",
      "Mr. Lil One 36\n",
      "Lil Flash 38\n",
      "Lil Silva 43\n",
      "Lil Yase 34\n",
      "Lil Eddie 41\n",
      "Lil Rue 34\n",
      "Lil Kesh 39\n",
      "Lil Suzy 34\n",
      "Lil Wayne, DJ Drama 35\n",
      "Lil Mouse 34\n",
      "Lil C 33\n",
      "Lil Rick 39\n",
      "Lil June 32\n",
      "Lil E 34\n",
      "Lil Fate 34\n",
      "Lil' Flip 50\n"
     ]
    }
   ],
   "source": [
    "Lil_artists = Lil_data['artists']['items']\n",
    "for artist in Lil_artists:\n",
    "    print(artist['name'], artist['popularity'])"
   ]
  },
  {
   "cell_type": "markdown",
   "metadata": {},
   "source": [
    "**2 a) What genres are most represented in the search results?**"
   ]
  },
  {
   "cell_type": "markdown",
   "metadata": {},
   "source": [
    "Finding all the genres and combining into one list."
   ]
  },
  {
   "cell_type": "code",
   "execution_count": 6,
   "metadata": {
    "collapsed": false
   },
   "outputs": [
    {
     "name": "stdout",
     "output_type": "stream",
     "text": [
      "Lil Wayne 86\n",
      "Genres:  dirty south rap, pop rap, southern hip hop, trap music\n",
      "Lil Yachty 73\n",
      "No genres listed\n",
      "Lil Uzi Vert 73\n",
      "No genres listed\n",
      "Lil Dicky 68\n",
      "No genres listed\n",
      "Boosie Badazz 67\n",
      "No genres listed\n",
      "Lil Jon 72\n",
      "Genres:  crunk, dirty south rap, southern hip hop\n",
      "King Lil G 61\n",
      "No genres listed\n",
      "Lil Durk 60\n",
      "No genres listed\n",
      "Lil Jon & The East Side Boyz 60\n",
      "No genres listed\n",
      "Lil Bibby 54\n",
      "No genres listed\n",
      "G Herbo 53\n",
      "No genres listed\n",
      "Lil Rob 50\n",
      "Genres:  chicano rap, latin hip hop\n",
      "Lil Reese 50\n",
      "No genres listed\n",
      "Lil Keke 48\n",
      "No genres listed\n",
      "Bow Wow 57\n",
      "Genres:  hip pop, pop rap\n",
      "Lil Scrappy 49\n",
      "Genres:  crunk, dirty south rap, southern hip hop, trap music\n",
      "Lil Wyte 50\n",
      "Genres:  juggalo\n",
      "Lil Blood 45\n",
      "No genres listed\n",
      "Lil Snupe 45\n",
      "No genres listed\n",
      "Lil Mama 45\n",
      "Genres:  hip pop\n",
      "Lil B 44\n",
      "No genres listed\n",
      "Lil' Kim 62\n",
      "Genres:  hip pop\n",
      "Lil Cuete 40\n",
      "Genres:  chicano rap\n",
      "Lil Phat 39\n",
      "No genres listed\n",
      "Lil Boom 42\n",
      "No genres listed\n",
      "Lil Debbie 43\n",
      "No genres listed\n",
      "Lil Twist 40\n",
      "Genres:  jerk\n",
      "Lil Trill 37\n",
      "Genres:  deep trap\n",
      "Lil AJ 37\n",
      "No genres listed\n",
      "Lil Lonnie 37\n",
      "No genres listed\n",
      "Lil Twon 37\n",
      "No genres listed\n",
      "Lil Goofy 35\n",
      "No genres listed\n",
      "Lil Haiti 37\n",
      "No genres listed\n",
      "Lil Cray 35\n",
      "No genres listed\n",
      "Mr. Lil One 36\n",
      "Genres:  chicano rap\n",
      "Lil Flash 38\n",
      "No genres listed\n",
      "Lil Silva 43\n",
      "No genres listed\n",
      "Lil Yase 34\n",
      "No genres listed\n",
      "Lil Eddie 41\n",
      "No genres listed\n",
      "Lil Rue 34\n",
      "No genres listed\n",
      "Lil Kesh 39\n",
      "No genres listed\n",
      "Lil Suzy 34\n",
      "Genres:  freestyle\n",
      "Lil Wayne, DJ Drama 35\n",
      "No genres listed\n",
      "Lil Mouse 34\n",
      "No genres listed\n",
      "Lil C 33\n",
      "No genres listed\n",
      "Lil Rick 39\n",
      "Genres:  soca\n",
      "Lil June 32\n",
      "No genres listed\n",
      "Lil E 34\n",
      "No genres listed\n",
      "Lil Fate 34\n",
      "No genres listed\n",
      "Lil' Flip 50\n",
      "Genres:  crunk, dirty south rap\n"
     ]
    }
   ],
   "source": [
    "Lil_artists = Lil_data['artists']['items']\n",
    "\n",
    "for artist in Lil_artists:\n",
    "    print(artist['name'], artist['popularity'])\n",
    "    #joining\n",
    "    if len(artist['genres']) == 0:\n",
    "        print(\"No genres listed\")\n",
    "    else:\n",
    "        genres = \", \".join(artist['genres'])\n",
    "        print(\"Genres: \", genres)\n",
    "    \n",
    "\n",
    "    "
   ]
  },
  {
   "cell_type": "code",
   "execution_count": 7,
   "metadata": {
    "collapsed": false
   },
   "outputs": [
    {
     "name": "stdout",
     "output_type": "stream",
     "text": [
      "['crunk', 'dirty south rap', 'soca', 'freestyle', 'chicano rap', 'deep trap', 'jerk', 'chicano rap', 'hip pop', 'hip pop', 'juggalo', 'crunk', 'dirty south rap', 'southern hip hop', 'trap music', 'hip pop', 'pop rap', 'chicano rap', 'latin hip hop', 'crunk', 'dirty south rap', 'southern hip hop', 'dirty south rap', 'pop rap', 'southern hip hop', 'trap music']\n"
     ]
    }
   ],
   "source": [
    "Lil_artists = Lil_data['artists']['items']\n",
    "\n",
    "Lil_genres_list = []\n",
    "for genres in Lil_artists:\n",
    "    Lil_genres_list = genres[\"genres\"] + Lil_genres_list\n",
    "print(Lil_genres_list)\n",
    "    "
   ]
  },
  {
   "cell_type": "markdown",
   "metadata": {},
   "source": [
    "Counting the genres."
   ]
  },
  {
   "cell_type": "code",
   "execution_count": 8,
   "metadata": {
    "collapsed": false
   },
   "outputs": [
    {
     "name": "stdout",
     "output_type": "stream",
     "text": [
      "[['latin hip hop', 1], ['pop rap', 2], ['crunk', 3], ['hip pop', 3], ['soca', 1], ['dirty south rap', 4], ['juggalo', 1], ['jerk', 1], ['chicano rap', 3], ['freestyle', 1], ['trap music', 2], ['southern hip hop', 3], ['deep trap', 1]]\n"
     ]
    }
   ],
   "source": [
    "Genre_list = [[x,Lil_genres_list.count(x)] for x in set(Lil_genres_list)]\n",
    "print(Genre_list)"
   ]
  },
  {
   "cell_type": "markdown",
   "metadata": {},
   "source": [
    "Sorting the genres by occurences."
   ]
  },
  {
   "cell_type": "code",
   "execution_count": 9,
   "metadata": {
    "collapsed": false
   },
   "outputs": [
    {
     "name": "stdout",
     "output_type": "stream",
     "text": [
      "The most frequent genre of the musicians called Lil is ['dirty south rap', 4]\n"
     ]
    }
   ],
   "source": [
    "sorted(Genre_list, key = lambda x: int(x[1]), reverse=True)\n",
    "\n",
    "Sorted_by_occurences_Genre_list = sorted(Genre_list, key = lambda x: int(x[1]), reverse=True)\n",
    "print(\"The most frequent genre of the musicians called Lil is\", Sorted_by_occurences_Genre_list[0])\n"
   ]
  },
  {
   "cell_type": "markdown",
   "metadata": {},
   "source": [
    "**2 b) Edit your previous printout to also display a list of their genres in the format \"GENRE_1, GENRE_2, GENRE_3\". If there are no genres, print \"No genres listed\".**"
   ]
  },
  {
   "cell_type": "code",
   "execution_count": 10,
   "metadata": {
    "collapsed": false
   },
   "outputs": [
    {
     "name": "stdout",
     "output_type": "stream",
     "text": [
      "Lil Wayne 86 ['dirty south rap', 'pop rap', 'southern hip hop', 'trap music']\n",
      "Lil Yachty 73 No genres listed.\n",
      "Lil Uzi Vert 73 No genres listed.\n",
      "Lil Dicky 68 No genres listed.\n",
      "Boosie Badazz 67 No genres listed.\n",
      "Lil Jon 72 ['crunk', 'dirty south rap', 'southern hip hop']\n",
      "King Lil G 61 No genres listed.\n",
      "Lil Durk 60 No genres listed.\n",
      "Lil Jon & The East Side Boyz 60 No genres listed.\n",
      "Lil Bibby 54 No genres listed.\n",
      "G Herbo 53 No genres listed.\n",
      "Lil Rob 50 ['chicano rap', 'latin hip hop']\n",
      "Lil Reese 50 No genres listed.\n",
      "Lil Keke 48 No genres listed.\n",
      "Bow Wow 57 ['hip pop', 'pop rap']\n",
      "Lil Scrappy 49 ['crunk', 'dirty south rap', 'southern hip hop', 'trap music']\n",
      "Lil Wyte 50 ['juggalo']\n",
      "Lil Blood 45 No genres listed.\n",
      "Lil Snupe 45 No genres listed.\n",
      "Lil Mama 45 ['hip pop']\n",
      "Lil B 44 No genres listed.\n",
      "Lil' Kim 62 ['hip pop']\n",
      "Lil Cuete 40 ['chicano rap']\n",
      "Lil Phat 39 No genres listed.\n",
      "Lil Boom 42 No genres listed.\n",
      "Lil Debbie 43 No genres listed.\n",
      "Lil Twist 40 ['jerk']\n",
      "Lil Trill 37 ['deep trap']\n",
      "Lil AJ 37 No genres listed.\n",
      "Lil Lonnie 37 No genres listed.\n",
      "Lil Twon 37 No genres listed.\n",
      "Lil Goofy 35 No genres listed.\n",
      "Lil Haiti 37 No genres listed.\n",
      "Lil Cray 35 No genres listed.\n",
      "Mr. Lil One 36 ['chicano rap']\n",
      "Lil Flash 38 No genres listed.\n",
      "Lil Silva 43 No genres listed.\n",
      "Lil Yase 34 No genres listed.\n",
      "Lil Eddie 41 No genres listed.\n",
      "Lil Rue 34 No genres listed.\n",
      "Lil Kesh 39 No genres listed.\n",
      "Lil Suzy 34 ['freestyle']\n",
      "Lil Wayne, DJ Drama 35 No genres listed.\n",
      "Lil Mouse 34 No genres listed.\n",
      "Lil C 33 No genres listed.\n",
      "Lil Rick 39 ['soca']\n",
      "Lil June 32 No genres listed.\n",
      "Lil E 34 No genres listed.\n",
      "Lil Fate 34 No genres listed.\n",
      "Lil' Flip 50 ['crunk', 'dirty south rap']\n"
     ]
    }
   ],
   "source": [
    "Lil_artists = Lil_data['artists']['items']\n",
    "for artist in Lil_artists:\n",
    "    if artist['genres'] == []:\n",
    "        print(artist['name'], artist['popularity'], \"No genres listed.\")\n",
    "    else:\n",
    "        print(artist['name'], artist['popularity'], artist['genres'])"
   ]
  },
  {
   "cell_type": "markdown",
   "metadata": {},
   "source": [
    "**3 a) Use a for loop to determine who BESIDES Lil Wayne has the highest popularity rating.**"
   ]
  },
  {
   "cell_type": "code",
   "execution_count": 11,
   "metadata": {
    "collapsed": false
   },
   "outputs": [
    {
     "name": "stdout",
     "output_type": "stream",
     "text": [
      "Lil Yachty\n",
      "Lil Uzi Vert\n",
      "Lil Jon\n"
     ]
    }
   ],
   "source": [
    "for artist in Lil_artists: \n",
    "    if artist['popularity'] >= 72 and artist['name'] != 'Lil Wayne':\n",
    "            print(artist['name'])"
   ]
  },
  {
   "cell_type": "code",
   "execution_count": 12,
   "metadata": {
    "collapsed": false
   },
   "outputs": [
    {
     "name": "stdout",
     "output_type": "stream",
     "text": [
      "checking for Lil Wayne\n",
      "go away\n",
      "checking for Lil Wayne\n",
      "not Lil Wayne, updating our notebook\n",
      "Lil Yachty 73\n"
     ]
    }
   ],
   "source": [
    "#Better solution:\n",
    "most_popular_name = \"\"\n",
    "most_popular_score = 0\n",
    "for artist in Lil_artists:\n",
    "    #print(\"Comparing\", artist['popularity'], 'to', most_popular_score)\n",
    "    if artist['popularity'] > most_popular_score:\n",
    "        print(\"checking for Lil Wayne\")\n",
    "        if artist['name'] == 'Lil Wayne':\n",
    "            print('go away')\n",
    "        else:\n",
    "        #The change you are keeping track of\n",
    "        #a.k.a. what you are keeping track of\n",
    "            print('not Lil Wayne, updating our notebook')\n",
    "            most_popular_name = artist['name']\n",
    "            most_popular_score = artist['popularity']\n",
    "            \n",
    "print(most_popular_name, most_popular_score)\n"
   ]
  },
  {
   "cell_type": "code",
   "execution_count": 13,
   "metadata": {
    "collapsed": false
   },
   "outputs": [],
   "source": [
    "####### This doesn't work\n",
    "#name = 'Lil Soma'\n",
    "#target_score = 72\n",
    "#1 INITIAL CONDITION\n",
    "#second_best_artists = []\n",
    "#second_best_artists = [Lil Yachty]\n",
    "\n",
    "#Aggregation Problem\n",
    "#When you're looping through a series of serious objects\n",
    "#and sometimes you want to add one of those objects\n",
    "#to a different list\n",
    "\n",
    "#for artist in artists:\n",
    "#    print('Looking at', artist['name'])\n",
    "    #2 COndition\n",
    "    #wehen we want someone on the list\n",
    "#    if artist['popularity'] == 72:\n",
    "#        print('!!! The artist is popularity is 72.')\n",
    "#        second_best_artists.append(second_best_artists)\n",
    "        \n",
    "    "
   ]
  },
  {
   "cell_type": "code",
   "execution_count": 14,
   "metadata": {
    "collapsed": false
   },
   "outputs": [
    {
     "data": {
      "text/plain": [
       "dict_keys(['items', 'limit', 'offset', 'href', 'total', 'previous', 'next'])"
      ]
     },
     "execution_count": 14,
     "metadata": {},
     "output_type": "execute_result"
    }
   ],
   "source": [
    "Lil_data['artists'].keys()"
   ]
  },
  {
   "cell_type": "code",
   "execution_count": 15,
   "metadata": {
    "collapsed": true
   },
   "outputs": [],
   "source": [
    "for artist in Lil_artists:\n",
    "    if artist['name'] == [\"Lil Wayne\"]:\n",
    "        print(artist['popularity'], \"is\")"
   ]
  },
  {
   "cell_type": "code",
   "execution_count": null,
   "metadata": {
    "collapsed": true
   },
   "outputs": [],
   "source": []
  },
  {
   "cell_type": "markdown",
   "metadata": {},
   "source": [
    "**3 b) Is it the same artist who has the largest number of followers?**"
   ]
  },
  {
   "cell_type": "code",
   "execution_count": 16,
   "metadata": {
    "collapsed": false
   },
   "outputs": [
    {
     "data": {
      "text/plain": [
       "dict"
      ]
     },
     "execution_count": 16,
     "metadata": {},
     "output_type": "execute_result"
    }
   ],
   "source": [
    "type(artist['followers'])"
   ]
  },
  {
   "cell_type": "code",
   "execution_count": 17,
   "metadata": {
    "collapsed": false
   },
   "outputs": [
    {
     "data": {
      "text/plain": [
       "{'href': None, 'total': 19986}"
      ]
     },
     "execution_count": 17,
     "metadata": {},
     "output_type": "execute_result"
    }
   ],
   "source": [
    "artist['followers']"
   ]
  },
  {
   "cell_type": "markdown",
   "metadata": {},
   "source": [
    "Creating a list of the popularity values, so we can sort them and say which one is the highest)"
   ]
  },
  {
   "cell_type": "code",
   "execution_count": 18,
   "metadata": {
    "collapsed": false
   },
   "outputs": [
    {
     "name": "stdout",
     "output_type": "stream",
     "text": [
      "[2628387, 40273, 59768, 228053, 220967, 256550, 64746, 134660, 17127, 44417, 51878, 35991, 23919, 18835, 118804, 27157, 31224, 5555, 34112, 21182, 244, 70489, 15621, 5360, 228, 14567, 14844, 2129, 902, 1383, 324, 1348, 710, 1008, 4761, 1770, 9495, 1149, 1623, 3299, 1678, 5919, 12889, 16336, 1711, 1834, 1419, 138, 110, 19986]\n"
     ]
    }
   ],
   "source": [
    "Lil_artists = Lil_data['artists']['items']\n",
    "List_of_Followers = []\n",
    "for artist in Lil_artists:\n",
    "    List_of_Followers.append(artist['followers']['total'])\n",
    "print(List_of_Followers)"
   ]
  },
  {
   "cell_type": "markdown",
   "metadata": {},
   "source": [
    "Deciding which one is highest:"
   ]
  },
  {
   "cell_type": "code",
   "execution_count": 19,
   "metadata": {
    "collapsed": false
   },
   "outputs": [
    {
     "name": "stdout",
     "output_type": "stream",
     "text": [
      "[2628387, 256550, 228053, 220967, 134660, 118804, 70489, 64746, 59768, 51878, 44417, 40273, 35991, 34112, 31224, 27157, 23919, 21182, 19986, 18835, 17127, 16336, 15621, 14844, 14567, 12889, 9495, 5919, 5555, 5360, 4761, 3299, 2129, 1834, 1770, 1711, 1678, 1623, 1419, 1383, 1348, 1149, 1008, 902, 710, 324, 244, 228, 138, 110]\n"
     ]
    }
   ],
   "source": [
    "List_of_Followers.sort(reverse=True)\n",
    "print(List_of_Followers)"
   ]
  },
  {
   "cell_type": "code",
   "execution_count": 20,
   "metadata": {
    "collapsed": false
   },
   "outputs": [],
   "source": [
    "Highest_Number_of_Followers = (List_of_Followers[0])"
   ]
  },
  {
   "cell_type": "code",
   "execution_count": 21,
   "metadata": {
    "collapsed": false
   },
   "outputs": [
    {
     "name": "stdout",
     "output_type": "stream",
     "text": [
      "2628387\n"
     ]
    }
   ],
   "source": [
    "print(Highest_Number_of_Followers)"
   ]
  },
  {
   "cell_type": "code",
   "execution_count": 22,
   "metadata": {
    "collapsed": false
   },
   "outputs": [
    {
     "name": "stdout",
     "output_type": "stream",
     "text": [
      "Their are no artists with more followers that Lil Wayne.\n"
     ]
    }
   ],
   "source": [
    "for artist in Lil_artists: \n",
    "    if artist['followers']['total'] > List_of_Followers[0] and artist['name'] != 'Lil Wayne':\n",
    "        print(artist['name'], \"has more followers than Lil Wayne.\")\n",
    "    else:\n",
    "        print(\"Their are no artists with more followers that Lil Wayne.\")\n",
    "        break"
   ]
  },
  {
   "cell_type": "markdown",
   "metadata": {},
   "source": [
    "**4) Print a list of Lil's that are more popular than Lil' Kim.**"
   ]
  },
  {
   "cell_type": "markdown",
   "metadata": {},
   "source": [
    "Establishing how high Lil' Kim's popularity is. **Would this be possible in one go?**"
   ]
  },
  {
   "cell_type": "code",
   "execution_count": 23,
   "metadata": {
    "collapsed": false
   },
   "outputs": [
    {
     "name": "stdout",
     "output_type": "stream",
     "text": [
      "62\n"
     ]
    }
   ],
   "source": [
    "for artist in Lil_artists: \n",
    "    if artist['name'] == \"Lil' Kim\":\n",
    "        print(artist['popularity'])"
   ]
  },
  {
   "cell_type": "code",
   "execution_count": 24,
   "metadata": {
    "collapsed": false
   },
   "outputs": [
    {
     "name": "stdout",
     "output_type": "stream",
     "text": [
      "Lil Wayne 86\n",
      "Lil Yachty 73\n",
      "Lil Uzi Vert 73\n",
      "Lil Dicky 68\n",
      "Boosie Badazz 67\n",
      "Lil Jon 72\n"
     ]
    }
   ],
   "source": [
    "for artist in Lil_artists: \n",
    "    if artist['popularity'] > 62:\n",
    "        print(artist['name'], artist['popularity'])\n",
    "\n"
   ]
  },
  {
   "cell_type": "markdown",
   "metadata": {},
   "source": [
    "**5) Pick two of your favorite Lils to fight it out, and use their IDs to print out their top tracks.**\n",
    "Tip: You're going to be making two separate requests, be sure you DO NOT save them into the same variable."
   ]
  },
  {
   "cell_type": "code",
   "execution_count": 25,
   "metadata": {
    "collapsed": false
   },
   "outputs": [
    {
     "name": "stdout",
     "output_type": "stream",
     "text": [
      "Lil Wayne 55Aa2cqylxrFIXC767Z865\n",
      "Lil Yachty 6icQOAFXDZKsumw3YXyusw\n",
      "Lil Uzi Vert 4O15NlyKLIASxsJ0PrXPfz\n",
      "Lil Dicky 1tqhsYv8yBBdwANFNzHtcr\n",
      "Boosie Badazz 6z7xFFHxYkE9t8bwIF0Bvg\n",
      "Lil Jon 7sfl4Xt5KmfyDs2T3SVSMK\n",
      "King Lil G 6L3x3if9RVimruryD9LoFb\n",
      "Lil Durk 3hcs9uc56yIGFCSy9leWe7\n",
      "Lil Jon & The East Side Boyz 3ciRvbBIVz9fBoPbtSYq4x\n",
      "Lil Bibby 4uSN8Y3kgFNVULUWsZEAVW\n",
      "G Herbo 5QdEbQJ3ylBnc3gsIASAT5\n",
      "Lil Rob 7B7TGqQe7QTVm2U6q8jzk1\n",
      "Lil Reese 1bPxKZtCdjB1aj1csBJpdS\n",
      "Lil Keke 1grI9x4Uzos1Asx8JmRW6T\n",
      "Bow Wow 7352aRY2mqSxBZwzUb6LmA\n",
      "Lil Scrappy 5einkgXXrjhfYCyac1FANB\n",
      "Lil Wyte 21O7WwRkik43ErKppxDKJq\n",
      "Lil Blood 74nSA5FdDOuuLw7Rn5JnuP\n",
      "Lil Snupe 42FaEHFfyxTdZQ5W28dXnj\n",
      "Lil Mama 5qK5bOC6wLtuLhG5KvU17c\n",
      "Lil B 4dqh62yIzDBmrMeBOLiP5F\n",
      "Lil' Kim 5tth2a3v0sWwV1C7bApBdX\n",
      "Lil Cuete 1I5u5Umau1AgHl0ZbPL1oR\n",
      "Lil Phat 3QnIBUOS4mUzs67rZ8r4c9\n",
      "Lil Boom 1mmlWsyPJvvxMdabcGJjRn\n",
      "Lil Debbie 3FNZcjyqT7F5upP99JV0oN\n",
      "Lil Twist 564gvOqSRcQoYAhaBpTiK2\n",
      "Lil Trill 5EQERGi7ffHvHsv3bnqzBn\n",
      "Lil AJ 2jXwYLNnCxNavms4mc1DYM\n",
      "Lil Lonnie 6zSBkdKFLKKggDtE3amfCk\n",
      "Lil Twon 5YZZbPdI7P7te3lW3dTpzK\n",
      "Lil Goofy 3rWaFjgOi5mjQfllMfN3VI\n",
      "Lil Haiti 4E9dumwOMLlTyXUp1i2WdI\n",
      "Lil Cray 43BqexhEx5NKF7VfeOYP9m\n",
      "Mr. Lil One 6tslWi0BXiDdtChermDzkU\n",
      "Lil Flash 069qBEK34YGoX7nSIT74Eg\n",
      "Lil Silva 2Kv0ApBohrL213X9avMrEn\n",
      "Lil Yase 4vIlHBnzWKbmWe8ZOkT1ZT\n",
      "Lil Eddie 5CY0QKsbUBpQJIE2yycsYi\n",
      "Lil Rue 4IFVaKBbEO8Qkurg6nmoc4\n",
      "Lil Kesh 38XiDu0kK3Z5jdHUDqBzNT\n",
      "Lil Suzy 5HPsVk1MblCoa44WLJsQwN\n",
      "Lil Wayne, DJ Drama 65npPa1U4cgobX9wU7Jgpb\n",
      "Lil Mouse 1cEHxCgGlEgqBc91YOcAEQ\n",
      "Lil C 69swdLSkKxCQBMYJ55O2mA\n",
      "Lil Rick 1qKzKUnuQsjB83hBZffoq0\n",
      "Lil June 3GH3KD2078kLPpEkN1UN26\n",
      "Lil E 0zn6yzsbWj3EPMgOTqfG5k\n",
      "Lil Fate 6JUnsP7jmvYmdhbg7lTMQj\n",
      "Lil' Flip 4Q5sPmM8j4SpMqL4UA1DtS\n"
     ]
    }
   ],
   "source": [
    "for artist in Lil_artists:\n",
    "    print(artist['name'], artist['id'])"
   ]
  },
  {
   "cell_type": "code",
   "execution_count": 26,
   "metadata": {
    "collapsed": false
   },
   "outputs": [
    {
     "data": {
      "text/plain": [
       "dict"
      ]
     },
     "execution_count": 26,
     "metadata": {},
     "output_type": "execute_result"
    }
   ],
   "source": [
    "response = requests.get('https://api.spotify.com/v1/artists/5einkgXXrjhfYCyac1FANB/top-tracks?country=US')\n",
    "Lil_Scrappy_data = response.json()\n",
    "type(Lil_Scrappy_data)"
   ]
  },
  {
   "cell_type": "code",
   "execution_count": 27,
   "metadata": {
    "collapsed": false
   },
   "outputs": [
    {
     "data": {
      "text/plain": [
       "dict"
      ]
     },
     "execution_count": 27,
     "metadata": {},
     "output_type": "execute_result"
    }
   ],
   "source": [
    "response = requests.get('https://api.spotify.com/v1/artists/5qK5bOC6wLtuLhG5KvU17c/top-tracks?country=US')\n",
    "Lil_Mama_data = response.json()\n",
    "type(Lil_Mama_data)"
   ]
  },
  {
   "cell_type": "code",
   "execution_count": 28,
   "metadata": {
    "collapsed": false
   },
   "outputs": [
    {
     "data": {
      "text/plain": [
       "dict_keys(['tracks'])"
      ]
     },
     "execution_count": 28,
     "metadata": {},
     "output_type": "execute_result"
    }
   ],
   "source": [
    "Lil_Scrappy_data.keys()\n",
    "Lil_Mama_data.keys()"
   ]
  },
  {
   "cell_type": "code",
   "execution_count": 29,
   "metadata": {
    "collapsed": false
   },
   "outputs": [
    {
     "data": {
      "text/plain": [
       "dict_keys"
      ]
     },
     "execution_count": 29,
     "metadata": {},
     "output_type": "execute_result"
    }
   ],
   "source": [
    "type(Lil_Scrappy_data.keys())\n",
    "type(Lil_Mama_data.keys())"
   ]
  },
  {
   "cell_type": "code",
   "execution_count": 30,
   "metadata": {
    "collapsed": false
   },
   "outputs": [
    {
     "name": "stdout",
     "output_type": "stream",
     "text": [
      "What U Gon' Do (feat. Lil Scrappy)\n",
      "No Problem\n",
      "Money In The Bank - Remix feat. Young Buck\n",
      "Wait (The Whisper Song) Remix\n",
      "Keep It 1000\n",
      "Damn - Remix\n",
      "Like a Pimp - Remix\n",
      "Head Bussa - feat. Lil Jon\n",
      "Livin' In The Projects\n",
      "Oh Yeah - Work feat. Sean P. of YoungBloodZ and E-40\n"
     ]
    }
   ],
   "source": [
    "Scrappy_tracks = Lil_Scrappy_data['tracks']\n",
    "\n",
    "for tracks in Scrappy_tracks:\n",
    "    print(tracks['name'])\n"
   ]
  },
  {
   "cell_type": "code",
   "execution_count": 31,
   "metadata": {
    "collapsed": false
   },
   "outputs": [
    {
     "name": "stdout",
     "output_type": "stream",
     "text": [
      "Lip Gloss\n",
      "Shawty Get Loose\n",
      "G-Slide (Tour Bus) - Radio Version\n",
      "Dough Boy\n",
      "Lip Gloss/ No Music - Main Version - clean\n",
      "Shawty Get Loose\n",
      "Hustler Girl\n",
      "Bad As Me\n",
      "Truly In Love\n",
      "L.I.F.E.\n"
     ]
    }
   ],
   "source": [
    "Mama_tracks = Lil_Mama_data['tracks']\n",
    "\n",
    "for tracks in Mama_tracks:\n",
    "    print(tracks['name'])"
   ]
  },
  {
   "cell_type": "markdown",
   "metadata": {},
   "source": [
    "**6 Will the world explode if a musicians swears? Get an average popularity for their explicit songs vs. their non-explicit songs. How many minutes of explicit songs do they have? Non-explicit?**"
   ]
  },
  {
   "cell_type": "markdown",
   "metadata": {},
   "source": [
    "Number of Explicit Tracks for Lil Scrappy."
   ]
  },
  {
   "cell_type": "code",
   "execution_count": 32,
   "metadata": {
    "collapsed": false
   },
   "outputs": [
    {
     "name": "stdout",
     "output_type": "stream",
     "text": [
      "The average rating of explicit songs by Lil Scrappy is 40 .\n",
      "The average rating of non-explicit songs by Lil Scrappy is 37 .\n",
      "The duration of explicit song material of Lil Scrappy is 1809 minutes, and of non explicit material is 765 minutes.\n"
     ]
    }
   ],
   "source": [
    "explicit_track_scrappy = 0\n",
    "non_explicit_track_scrappy = 0\n",
    "unknown_scrappy = 0\n",
    "for tracks in Scrappy_tracks:\n",
    "    if tracks['explicit'] == True:\n",
    "        explicit_track_scrappy = explicit_track_scrappy + 1\n",
    "    elif tracks['explicit'] == False:\n",
    "        non_explicit_track_scrappy = non_explicit_track_scrappy + 1\n",
    "    else:\n",
    "        unknown_scrappy = unknown_scrappy + 1\n",
    "\n",
    "explicit_track_pop_total = 0\n",
    "non_explicit_track_pop_total = 0\n",
    "for tracks in Scrappy_tracks:\n",
    "    if tracks['explicit'] == True:\n",
    "        explicit_track_pop_total = explicit_track_pop_total + tracks['popularity']\n",
    "    elif tracks['explicit'] == False:\n",
    "        non_explicit_track_pop_total = non_explicit_track_pop_total + tracks['popularity']\n",
    "\n",
    "explicit_track_duration_total = 0\n",
    "non_explicit_track_duration_total = 0\n",
    "for tracks in Scrappy_tracks:\n",
    "    if tracks['explicit'] == True:\n",
    "        explicit_track_duration_total = explicit_track_duration_total + tracks['duration_ms']\n",
    "    elif tracks['explicit'] == False:\n",
    "        non_explicit_track_duration_total = non_explicit_track_duration_total + tracks['duration_ms']\n",
    "    \n",
    "print(\"The average rating of explicit songs by Lil Scrappy is\", round(explicit_track_pop_total / explicit_track_scrappy), \".\")\n",
    "print(\"The average rating of non-explicit songs by Lil Scrappy is\", round(non_explicit_track_pop_total / non_explicit_track_scrappy), \".\")\n",
    "print(\"The duration of explicit song material of Lil Scrappy is\", round(explicit_track_duration_total / 1000), \"minutes, and of non explicit material is\", round(non_explicit_track_duration_total / 1000), \"minutes.\") \n",
    "\n"
   ]
  },
  {
   "cell_type": "markdown",
   "metadata": {},
   "source": [
    "And this is the same for Lil Mama:"
   ]
  },
  {
   "cell_type": "code",
   "execution_count": 33,
   "metadata": {
    "collapsed": false
   },
   "outputs": [
    {
     "name": "stdout",
     "output_type": "stream",
     "text": [
      "The average rating of explicit songs by Lil Mama is 22 .\n",
      "The average rating of non-explicit songs by Lil Mama is 31 .\n",
      "The duration of explicit song material of Lil Mama is 526 minutes, and of non explicit material is 1769 minutes.\n"
     ]
    }
   ],
   "source": [
    "explicit_track_Mama = 0\n",
    "non_explicit_track_Mama = 0\n",
    "unknown = 0\n",
    "for tracks in Mama_tracks:\n",
    "    if tracks['explicit'] == True:\n",
    "        explicit_track_Mama = explicit_track_Mama + 1\n",
    "    elif tracks['explicit'] == False:\n",
    "        non_explicit_track_Mama = non_explicit_track_Mama + 1\n",
    "    else:\n",
    "        unknown = unknown + 1\n",
    "\n",
    "explicit_track_pop_total_Mama = 0\n",
    "non_explicit_track_pop_total_Mama = 0\n",
    "for tracks in Mama_tracks:\n",
    "    if tracks['explicit'] == True:\n",
    "        explicit_track_pop_total_Mama = explicit_track_pop_total_Mama + tracks['popularity']\n",
    "    elif tracks['explicit'] == False:\n",
    "        non_explicit_track_pop_total_Mama = non_explicit_track_pop_total_Mama + tracks['popularity']\n",
    "        \n",
    "explicit_track_duration_total_Mama = 0\n",
    "non_explicit_track_duration_total_Mama = 0\n",
    "for tracks in Mama_tracks:\n",
    "    if tracks['explicit'] == True:\n",
    "        explicit_track_duration_total_Mama = explicit_track_duration_total_Mama + tracks['duration_ms']\n",
    "    elif tracks['explicit'] == False:\n",
    "        non_explicit_track_duration_total_Mama = non_explicit_track_duration_total_Mama + tracks['duration_ms']        \n",
    "        \n",
    "print(\"The average rating of explicit songs by Lil Mama is\", round(explicit_track_pop_total_Mama / explicit_track_Mama), \".\")\n",
    "print(\"The average rating of non-explicit songs by Lil Mama is\", round(non_explicit_track_pop_total_Mama / non_explicit_track_Mama), \".\")\n",
    "print(\"The duration of explicit song material of Lil Mama is\", round(explicit_track_duration_total_Mama / 1000), \"minutes, and of non explicit material is\", round(non_explicit_track_duration_total_Mama / 1000), \"minutes.\") \n",
    "\n"
   ]
  },
  {
   "cell_type": "markdown",
   "metadata": {},
   "source": [
    "**7 a) Since we're talking about Lils, what about Biggies? How many total \"Biggie\" artists are there? How many total \"Lil\"s? If you made 1 request every 5 seconds, how long would it take to download information on all the Lils vs the Biggies?**"
   ]
  },
  {
   "cell_type": "code",
   "execution_count": 34,
   "metadata": {
    "collapsed": true
   },
   "outputs": [],
   "source": [
    "response = requests.get('https://api.spotify.com/v1/search?query=Biggie&type=artist&limit=50&market=US')\n",
    "Biggie_data = response.json()"
   ]
  },
  {
   "cell_type": "code",
   "execution_count": 35,
   "metadata": {
    "collapsed": true
   },
   "outputs": [],
   "source": [
    "response = requests.get('https://api.spotify.com/v1/search?query=Lil&type=artist&limit=50&market=US')\n",
    "Lil_data = response.json()"
   ]
  },
  {
   "cell_type": "code",
   "execution_count": 36,
   "metadata": {
    "collapsed": false
   },
   "outputs": [
    {
     "name": "stdout",
     "output_type": "stream",
     "text": [
      "There are 50 artists named Biggie on Spotify and 4515 named Lil\n"
     ]
    }
   ],
   "source": [
    "Biggie_artists = Biggie_data['artists']['total']\n",
    "Lil_artists = Lil_data['artists']['total']\n",
    "print(\"There are\", Biggie_artists, \"artists named Biggie on Spotify and\", Lil_artists, \"named Lil\",)"
   ]
  },
  {
   "cell_type": "code",
   "execution_count": 37,
   "metadata": {
    "collapsed": false
   },
   "outputs": [
    {
     "name": "stdout",
     "output_type": "stream",
     "text": [
      "It would take 5 seconds to download all the Biggie artists and 452 seconds to download the Lil artists.\n"
     ]
    }
   ],
   "source": [
    "Total_Download_Time_Biggie = Biggie_artists / 50 * 5\n",
    "Total_Download_Time_Lil = Lil_artists / 50 * 5\n",
    "print(\"It would take\", round(Total_Download_Time_Biggie), \"seconds to download all the Biggie artists and\", round(Total_Download_Time_Lil), \"seconds to download the Lil artists.\" )"
   ]
  },
  {
   "cell_type": "markdown",
   "metadata": {},
   "source": [
    "**8) Out of the top 50 \"Lil\"s and the top 50 \"Biggie\"s, who is more popular on average?**"
   ]
  },
  {
   "cell_type": "code",
   "execution_count": 38,
   "metadata": {
    "collapsed": false
   },
   "outputs": [
    {
     "name": "stdout",
     "output_type": "stream",
     "text": [
      "The average rating for the top 50 artists called Lil is: 46\n"
     ]
    }
   ],
   "source": [
    "Lil_artists_popularity = Lil_data['artists']['items']\n",
    "popularity_total = 0\n",
    "for popularity in Lil_artists_popularity:\n",
    "    popularity_total = popularity_total + popularity['popularity']\n",
    "print(\"The average rating for the top 50 artists called Lil is:\", round(popularity_total / 50))"
   ]
  },
  {
   "cell_type": "code",
   "execution_count": 39,
   "metadata": {
    "collapsed": false
   },
   "outputs": [
    {
     "name": "stdout",
     "output_type": "stream",
     "text": [
      "The average rating for the top 50 artists called Biggie is: 4\n"
     ]
    }
   ],
   "source": [
    "Biggie_artists_popularity = Biggie_data['artists']['items']\n",
    "Biggie_popularity_total = 0\n",
    "for popularity2 in Biggie_artists_popularity:\n",
    "    Biggie_popularity_total = Biggie_popularity_total + popularity2['popularity']\n",
    "print(\"The average rating for the top 50 artists called Biggie is:\", round(Biggie_popularity_total / 49) )"
   ]
  },
  {
   "cell_type": "code",
   "execution_count": 41,
   "metadata": {
    "collapsed": false
   },
   "outputs": [
    {
     "name": "stdout",
     "output_type": "stream",
     "text": [
      "Lil Wayne 86\n",
      "Lil Yachty 73\n",
      "Lil Uzi Vert 73\n",
      "Lil Dicky 68\n",
      "Boosie Badazz 67\n",
      "Lil Jon 72\n",
      "King Lil G 61\n",
      "Lil Durk 60\n",
      "Lil Jon & The East Side Boyz 60\n",
      "Lil Bibby 54\n",
      "G Herbo 53\n",
      "Lil Rob 50\n",
      "Lil Reese 50\n",
      "Lil Keke 48\n",
      "Bow Wow 57\n",
      "Lil Scrappy 49\n",
      "Lil Wyte 50\n",
      "Lil Blood 45\n",
      "Lil Snupe 45\n",
      "Lil Mama 45\n",
      "Lil B 44\n",
      "Lil' Kim 62\n",
      "Lil Cuete 40\n",
      "Lil Phat 39\n",
      "Lil Boom 42\n",
      "Lil Debbie 43\n",
      "Lil Twist 40\n",
      "Lil Trill 37\n",
      "Lil AJ 37\n",
      "Lil Lonnie 37\n",
      "Lil Twon 37\n",
      "Lil Goofy 35\n",
      "Lil Haiti 37\n",
      "Lil Cray 35\n",
      "Mr. Lil One 36\n",
      "Lil Flash 38\n",
      "Lil Silva 43\n",
      "Lil Yase 34\n",
      "Lil Eddie 41\n",
      "Lil Rue 34\n",
      "Lil Kesh 39\n",
      "Lil Suzy 34\n",
      "Lil Wayne, DJ Drama 35\n",
      "Lil Mouse 34\n",
      "Lil C 33\n",
      "Lil Rick 39\n",
      "Lil June 32\n",
      "Lil E 34\n",
      "Lil Fate 34\n",
      "Lil' Flip 50\n"
     ]
    }
   ],
   "source": [
    "Lil_artists_popularity = Lil_data['artists']['items']\n",
    "for popularity in Lil_artists_popularity:\n",
    "    print(popularity['name'], popularity['popularity'])"
   ]
  },
  {
   "cell_type": "code",
   "execution_count": 46,
   "metadata": {
    "collapsed": false
   },
   "outputs": [
    {
     "name": "stdout",
     "output_type": "stream",
     "text": [
      "The Notorious B.I.G. 76\n",
      "Biggie D 20\n",
      "Biggie 23\n",
      "Biggie Irie 15\n",
      "Fabolous|Biggie|Busta|Nate Dogg 11\n",
      "Biggie Smalls 13\n",
      "Biggie Paul 17\n",
      "Biggie the Kid 4\n",
      "Alief Biggie 4\n",
      "Papa Biggie 0\n",
      "Mister Biggie 0\n",
      "Biggie & Foldy 0\n",
      "Biggie Bash 6\n",
      "Dj Majah & Blaq Biggie Blaq 1\n",
      "Biggie Tembo 0\n",
      "Louis Biggie 0\n",
      "Biggie Da Roxter 0\n",
      "Biggie Dutch 0\n",
      "Biggie Dutch feat. Marina Wilde 0\n",
      "MC Biggie 0\n",
      "Mr Biggie 0\n",
      "Biggie & Anjay 0\n",
      "Balder & Biggie 2\n",
      "Poppa Biggie 0\n",
      "Biggie Mic 0\n",
      "Babie Biggie 0\n",
      "Biggie Moe 0\n",
      "MC Biggiedoy 0\n",
      "Biggie Lu 0\n",
      "Biggie Bandit 0\n",
      "Biggie Babylon 0\n",
      "Biggieballzh 0\n",
      "1000 LBS (Biggie Irie 0\n",
      "Biggie Brown 0\n",
      "Biggie Vinkeloe 0\n",
      "Biggie Sam 0\n",
      "Crenshaw Biggie 0\n",
      "Biggie Whit 0\n",
      "Biggie Smiles 0\n",
      "Biggie Nabwelela 1\n",
      "Biggie Roggie Shirima 0\n",
      "Wandung'u Biggie 0\n",
      "Biggie Jackson 0\n",
      "Kevy K Biggie 0\n",
      "Andrew Biggie 0\n",
      "Biggie Fab 0\n",
      "Dj Biggie B 0\n",
      "Biggie Talls 0\n",
      "Biggie Smalls Featuring Grand Puba 0\n",
      "Luke Biggie 0\n"
     ]
    }
   ],
   "source": [
    "Biggie_popularity = Biggie_data['artists']['items']\n",
    "for artist in Biggie_popularity:\n",
    "    print(artist['name'], artist['popularity'])"
   ]
  },
  {
   "cell_type": "code",
   "execution_count": 53,
   "metadata": {
    "collapsed": false
   },
   "outputs": [
    {
     "ename": "Error",
     "evalue": "iterable expected, not int",
     "output_type": "error",
     "traceback": [
      "\u001b[0;31m---------------------------------------------------------------------------\u001b[0m",
      "\u001b[0;31mError\u001b[0m                                     Traceback (most recent call last)",
      "\u001b[0;32m<ipython-input-53-71e0def69b4b>\u001b[0m in \u001b[0;36m<module>\u001b[0;34m()\u001b[0m\n\u001b[1;32m      4\u001b[0m     \u001b[0mthedatawriter\u001b[0m \u001b[0;34m=\u001b[0m \u001b[0mcsv\u001b[0m\u001b[0;34m.\u001b[0m\u001b[0mwriter\u001b[0m\u001b[0;34m(\u001b[0m\u001b[0mmycsvfile\u001b[0m\u001b[0;34m)\u001b[0m\u001b[0;34m\u001b[0m\u001b[0m\n\u001b[1;32m      5\u001b[0m     \u001b[0;32mfor\u001b[0m \u001b[0martist\u001b[0m \u001b[0;32min\u001b[0m \u001b[0mBiggie_popularity\u001b[0m\u001b[0;34m:\u001b[0m\u001b[0;34m\u001b[0m\u001b[0m\n\u001b[0;32m----> 6\u001b[0;31m         \u001b[0mthedatawriter\u001b[0m\u001b[0;34m.\u001b[0m\u001b[0mwriterow\u001b[0m\u001b[0;34m(\u001b[0m\u001b[0martist\u001b[0m\u001b[0;34m[\u001b[0m\u001b[0;34m'name'\u001b[0m\u001b[0;34m]\u001b[0m\u001b[0;34m)\u001b[0m \u001b[0;34m+\u001b[0m \u001b[0mthedatawriter\u001b[0m\u001b[0;34m.\u001b[0m\u001b[0mwriterow\u001b[0m\u001b[0;34m(\u001b[0m\u001b[0martist\u001b[0m\u001b[0;34m[\u001b[0m\u001b[0;34m'popularity'\u001b[0m\u001b[0;34m]\u001b[0m\u001b[0;34m)\u001b[0m\u001b[0;34m\u001b[0m\u001b[0m\n\u001b[0m",
      "\u001b[0;31mError\u001b[0m: iterable expected, not int"
     ]
    }
   ],
   "source": [
    "import csv\n",
    "\n",
    "with open('Biggie.csv', 'w') as mycsvfile:\n",
    "    thedatawriter = csv.writer(mycsvfile)\n",
    "    for artist in Biggie_popularity:\n",
    "        thedatawriter.writerow(artist['name'])\n",
    "        thedatawriter.writerow(artist['popularity'])"
   ]
  },
  {
   "cell_type": "code",
   "execution_count": null,
   "metadata": {
    "collapsed": true
   },
   "outputs": [],
   "source": []
  },
  {
   "cell_type": "code",
   "execution_count": null,
   "metadata": {
    "collapsed": true
   },
   "outputs": [],
   "source": []
  }
 ],
 "metadata": {
  "kernelspec": {
   "display_name": "Python 3",
   "language": "python",
   "name": "python3"
  },
  "language_info": {
   "codemirror_mode": {
    "name": "ipython",
    "version": 3
   },
   "file_extension": ".py",
   "mimetype": "text/x-python",
   "name": "python",
   "nbconvert_exporter": "python",
   "pygments_lexer": "ipython3",
   "version": "3.5.1"
  }
 },
 "nbformat": 4,
 "nbformat_minor": 0
}
