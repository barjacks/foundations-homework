{
 "cells": [
  {
   "cell_type": "code",
   "execution_count": 1,
   "metadata": {
    "collapsed": false
   },
   "outputs": [],
   "source": [
    "import requests"
   ]
  },
  {
   "cell_type": "markdown",
   "metadata": {},
   "source": [
    "These are the search queries for the [Spotify Web API](https://developer.spotify.com/web-api/search-item/)\n"
   ]
  },
  {
   "cell_type": "code",
   "execution_count": 2,
   "metadata": {
    "collapsed": false
   },
   "outputs": [],
   "source": [
    "response = requests.get('https://api.spotify.com/v1/search?query=Lil&type=artist&limit=50&market=US')\n",
    "Lil_data = response.json()"
   ]
  },
  {
   "cell_type": "code",
   "execution_count": 3,
   "metadata": {
    "collapsed": false
   },
   "outputs": [
    {
     "data": {
      "text/plain": [
       "dict"
      ]
     },
     "execution_count": 3,
     "metadata": {},
     "output_type": "execute_result"
    }
   ],
   "source": [
    "type(Lil_data)"
   ]
  },
  {
   "cell_type": "code",
   "execution_count": 4,
   "metadata": {
    "collapsed": false
   },
   "outputs": [
    {
     "data": {
      "text/plain": [
       "dict_keys(['artists'])"
      ]
     },
     "execution_count": 4,
     "metadata": {},
     "output_type": "execute_result"
    }
   ],
   "source": [
    "Lil_data.keys()"
   ]
  },
  {
   "cell_type": "code",
   "execution_count": 5,
   "metadata": {
    "collapsed": false
   },
   "outputs": [
    {
     "data": {
      "text/plain": [
       "dict_keys(['previous', 'total', 'next', 'items', 'limit', 'offset', 'href'])"
      ]
     },
     "execution_count": 5,
     "metadata": {},
     "output_type": "execute_result"
    }
   ],
   "source": [
    "Lil_data['artists'].keys()"
   ]
  },
  {
   "cell_type": "markdown",
   "metadata": {},
   "source": [
    "**1) With \"Lil Wayne\" and \"Lil Kim\" there are a lot of \"Lil\" musicians. Do a search and print a list of 50 that are playable in the USA (or the country of your choice), along with their popularity score.**"
   ]
  },
  {
   "cell_type": "code",
   "execution_count": 6,
   "metadata": {
    "collapsed": false
   },
   "outputs": [
    {
     "name": "stdout",
     "output_type": "stream",
     "text": [
      "Lil Wayne 86\n",
      "Lil Yachty 72\n",
      "Lil Uzi Vert 72\n",
      "Lil Dicky 68\n",
      "Boosie Badazz 67\n",
      "Lil Jon 72\n",
      "King Lil G 61\n",
      "Lil Durk 60\n",
      "Lil Jon & The East Side Boyz 60\n",
      "Lil Bibby 54\n",
      "G Herbo 53\n",
      "Lil Rob 50\n",
      "Lil Reese 50\n",
      "Lil Keke 48\n",
      "Bow Wow 57\n",
      "Lil Scrappy 49\n",
      "Lil Wyte 50\n",
      "Lil Blood 45\n",
      "Lil Snupe 45\n",
      "Lil Mama 45\n",
      "Lil B 44\n",
      "Lil' Kim 62\n",
      "Lil Cuete 40\n",
      "Lil Phat 39\n",
      "Lil Debbie 43\n",
      "Lil Twist 39\n",
      "Lil Trill 37\n",
      "Lil Twon 38\n",
      "Lil AJ 37\n",
      "Lil Lonnie 36\n",
      "Lil Goofy 35\n",
      "Mr. Lil One 36\n",
      "Lil Flash 38\n",
      "Lil Kesh 39\n",
      "Lil Haiti 36\n",
      "Lil Silva 43\n",
      "Lil Rue 34\n",
      "Lil Cray 35\n",
      "Lil Eddie 41\n",
      "Lil Wayne, DJ Drama 35\n",
      "Lil Yase 33\n",
      "Lil Suzy 34\n",
      "Lil Mouse 34\n",
      "Lil C 33\n",
      "Lil Rick 39\n",
      "Lil Boom 34\n",
      "Lil June 32\n",
      "Lil E 34\n",
      "Lil Fate 34\n",
      "Lil' Flip 49\n"
     ]
    }
   ],
   "source": [
    "Lil_artists = Lil_data['artists']['items']\n",
    "for artist in Lil_artists:\n",
    "    print(artist['name'], artist['popularity'])"
   ]
  },
  {
   "cell_type": "markdown",
   "metadata": {},
   "source": [
    "**2 a) What genres are most represented in the search results?**"
   ]
  },
  {
   "cell_type": "markdown",
   "metadata": {},
   "source": [
    "Finding all the genres and combining into one list."
   ]
  },
  {
   "cell_type": "code",
   "execution_count": 7,
   "metadata": {
    "collapsed": false
   },
   "outputs": [
    {
     "name": "stdout",
     "output_type": "stream",
     "text": [
      "['crunk', 'dirty south rap', 'soca', 'freestyle', 'chicano rap', 'deep trap', 'jerk', 'chicano rap', 'hip pop', 'hip pop', 'juggalo', 'crunk', 'dirty south rap', 'southern hip hop', 'trap music', 'hip pop', 'pop rap', 'chicano rap', 'latin hip hop', 'crunk', 'dirty south rap', 'southern hip hop', 'dirty south rap', 'pop rap', 'southern hip hop', 'trap music']\n"
     ]
    }
   ],
   "source": [
    "Lil_artists = Lil_data['artists']['items']\n",
    "\n",
    "Lil_genres_list = []\n",
    "for genres in Lil_artists:\n",
    "    Lil_genres_list = genres[\"genres\"] + Lil_genres_list\n",
    "print(Lil_genres_list)\n",
    "    "
   ]
  },
  {
   "cell_type": "markdown",
   "metadata": {},
   "source": [
    "Counting the genres."
   ]
  },
  {
   "cell_type": "code",
   "execution_count": 8,
   "metadata": {
    "collapsed": false
   },
   "outputs": [
    {
     "name": "stdout",
     "output_type": "stream",
     "text": [
      "[['freestyle', 1], ['hip pop', 3], ['juggalo', 1], ['crunk', 3], ['jerk', 1], ['deep trap', 1], ['chicano rap', 3], ['trap music', 2], ['soca', 1], ['southern hip hop', 3], ['dirty south rap', 4], ['pop rap', 2], ['latin hip hop', 1]]\n"
     ]
    }
   ],
   "source": [
    "Genre_list = [[x,Lil_genres_list.count(x)] for x in set(Lil_genres_list)]\n",
    "print(Genre_list)"
   ]
  },
  {
   "cell_type": "markdown",
   "metadata": {},
   "source": [
    "Sorting the genres by occurences."
   ]
  },
  {
   "cell_type": "code",
   "execution_count": 9,
   "metadata": {
    "collapsed": false
   },
   "outputs": [
    {
     "name": "stdout",
     "output_type": "stream",
     "text": [
      "The most frequent genre of the musicians called Lil is ['dirty south rap', 4]\n"
     ]
    }
   ],
   "source": [
    "sorted(Genre_list, key = lambda x: int(x[1]), reverse=True)\n",
    "\n",
    "Sorted_by_occurences_Genre_list = sorted(Genre_list, key = lambda x: int(x[1]), reverse=True)\n",
    "print(\"The most frequent genre of the musicians called Lil is\", Sorted_by_occurences_Genre_list[0])\n"
   ]
  },
  {
   "cell_type": "markdown",
   "metadata": {},
   "source": [
    "**2 b) Edit your previous printout to also display a list of their genres in the format \"GENRE_1, GENRE_2, GENRE_3\". If there are no genres, print \"No genres listed\".**"
   ]
  },
  {
   "cell_type": "code",
   "execution_count": 10,
   "metadata": {
    "collapsed": false
   },
   "outputs": [
    {
     "name": "stdout",
     "output_type": "stream",
     "text": [
      "Lil Wayne 86 ['dirty south rap', 'pop rap', 'southern hip hop', 'trap music']\n",
      "Lil Yachty 72 No genres listed.\n",
      "Lil Uzi Vert 72 No genres listed.\n",
      "Lil Dicky 68 No genres listed.\n",
      "Boosie Badazz 67 No genres listed.\n",
      "Lil Jon 72 ['crunk', 'dirty south rap', 'southern hip hop']\n",
      "King Lil G 61 No genres listed.\n",
      "Lil Durk 60 No genres listed.\n",
      "Lil Jon & The East Side Boyz 60 No genres listed.\n",
      "Lil Bibby 54 No genres listed.\n",
      "G Herbo 53 No genres listed.\n",
      "Lil Rob 50 ['chicano rap', 'latin hip hop']\n",
      "Lil Reese 50 No genres listed.\n",
      "Lil Keke 48 No genres listed.\n",
      "Bow Wow 57 ['hip pop', 'pop rap']\n",
      "Lil Scrappy 49 ['crunk', 'dirty south rap', 'southern hip hop', 'trap music']\n",
      "Lil Wyte 50 ['juggalo']\n",
      "Lil Blood 45 No genres listed.\n",
      "Lil Snupe 45 No genres listed.\n",
      "Lil Mama 45 ['hip pop']\n",
      "Lil B 44 No genres listed.\n",
      "Lil' Kim 62 ['hip pop']\n",
      "Lil Cuete 40 ['chicano rap']\n",
      "Lil Phat 39 No genres listed.\n",
      "Lil Debbie 43 No genres listed.\n",
      "Lil Twist 39 ['jerk']\n",
      "Lil Trill 37 ['deep trap']\n",
      "Lil Twon 38 No genres listed.\n",
      "Lil AJ 37 No genres listed.\n",
      "Lil Lonnie 36 No genres listed.\n",
      "Lil Goofy 35 No genres listed.\n",
      "Mr. Lil One 36 ['chicano rap']\n",
      "Lil Flash 38 No genres listed.\n",
      "Lil Kesh 39 No genres listed.\n",
      "Lil Haiti 36 No genres listed.\n",
      "Lil Silva 43 No genres listed.\n",
      "Lil Rue 34 No genres listed.\n",
      "Lil Cray 35 No genres listed.\n",
      "Lil Eddie 41 No genres listed.\n",
      "Lil Wayne, DJ Drama 35 No genres listed.\n",
      "Lil Yase 33 No genres listed.\n",
      "Lil Suzy 34 ['freestyle']\n",
      "Lil Mouse 34 No genres listed.\n",
      "Lil C 33 No genres listed.\n",
      "Lil Rick 39 ['soca']\n",
      "Lil Boom 34 No genres listed.\n",
      "Lil June 32 No genres listed.\n",
      "Lil E 34 No genres listed.\n",
      "Lil Fate 34 No genres listed.\n",
      "Lil' Flip 49 ['crunk', 'dirty south rap']\n"
     ]
    }
   ],
   "source": [
    "Lil_artists = Lil_data['artists']['items']\n",
    "for artist in Lil_artists:\n",
    "    if artist['genres'] == []:\n",
    "        print(artist['name'], artist['popularity'], \"No genres listed.\")\n",
    "    else:\n",
    "        print(artist['name'], artist['popularity'], artist['genres'][0:4])"
   ]
  },
  {
   "cell_type": "markdown",
   "metadata": {},
   "source": [
    "**3 a) Use a for loop to determine who BESIDES Lil Wayne has the highest popularity rating."
   ]
  },
  {
   "cell_type": "code",
   "execution_count": 11,
   "metadata": {
    "collapsed": false
   },
   "outputs": [
    {
     "data": {
      "text/plain": [
       "dict_keys(['previous', 'total', 'next', 'items', 'limit', 'offset', 'href'])"
      ]
     },
     "execution_count": 11,
     "metadata": {},
     "output_type": "execute_result"
    }
   ],
   "source": [
    "Lil_data['artists'].keys()"
   ]
  },
  {
   "cell_type": "code",
   "execution_count": 12,
   "metadata": {
    "collapsed": false
   },
   "outputs": [
    {
     "name": "stdout",
     "output_type": "stream",
     "text": [
      "Lil Yachty\n",
      "Lil Uzi Vert\n",
      "Lil Jon\n"
     ]
    }
   ],
   "source": [
    "for artist in Lil_artists: \n",
    "    if artist['popularity'] >= 72 and artist['name'] != 'Lil Wayne':\n",
    "            print(artist['name'])"
   ]
  },
  {
   "cell_type": "markdown",
   "metadata": {},
   "source": [
    "**3 b) Is it the same artist who has the largest number of followers?**"
   ]
  },
  {
   "cell_type": "code",
   "execution_count": 13,
   "metadata": {
    "collapsed": false
   },
   "outputs": [
    {
     "data": {
      "text/plain": [
       "dict"
      ]
     },
     "execution_count": 13,
     "metadata": {},
     "output_type": "execute_result"
    }
   ],
   "source": [
    "type(artist['followers'])"
   ]
  },
  {
   "cell_type": "code",
   "execution_count": 14,
   "metadata": {
    "collapsed": false
   },
   "outputs": [
    {
     "data": {
      "text/plain": [
       "{'href': None, 'total': 19863}"
      ]
     },
     "execution_count": 14,
     "metadata": {},
     "output_type": "execute_result"
    }
   ],
   "source": [
    "artist['followers']"
   ]
  },
  {
   "cell_type": "markdown",
   "metadata": {},
   "source": [
    "Creating a list of the popularity values, so we can sort them and say which one is the highest)"
   ]
  },
  {
   "cell_type": "code",
   "execution_count": 58,
   "metadata": {
    "collapsed": false
   },
   "outputs": [
    {
     "name": "stdout",
     "output_type": "stream",
     "text": [
      "[2622611, 37360, 53873, 224144, 219874, 255905, 64052, 133905, 17027, 43994, 51357, 35787, 23818, 18725, 118464, 27043, 31063, 5518, 33951, 21096, 217, 70141, 15558, 5327, 14509, 14831, 2123, 317, 893, 1314, 1338, 4738, 1758, 1655, 665, 9412, 3283, 981, 1623, 12841, 1114, 5879, 16284, 1705, 1826, 142, 1396, 129, 110, 19863]\n"
     ]
    }
   ],
   "source": [
    "Lil_artists = Lil_data['artists']['items']\n",
    "List_of_Followers = []\n",
    "for artist in Lil_artists:\n",
    "    List_of_Followers.append(artist['followers']['total'])\n",
    "print(List_of_Followers)"
   ]
  },
  {
   "cell_type": "markdown",
   "metadata": {},
   "source": [
    "Deciding which one is highest:"
   ]
  },
  {
   "cell_type": "code",
   "execution_count": 60,
   "metadata": {
    "collapsed": false
   },
   "outputs": [
    {
     "name": "stdout",
     "output_type": "stream",
     "text": [
      "[2622611, 255905, 224144, 219874, 133905, 118464, 70141, 64052, 53873, 51357, 43994, 37360, 35787, 33951, 31063, 27043, 23818, 21096, 19863, 18725, 17027, 16284, 15558, 14831, 14509, 12841, 9412, 5879, 5518, 5327, 4738, 3283, 2123, 1826, 1758, 1705, 1655, 1623, 1396, 1338, 1314, 1114, 981, 893, 665, 317, 217, 142, 129, 110]\n"
     ]
    }
   ],
   "source": [
    "List_of_Followers.sort(reverse=True)\n",
    "print(List_of_Followers)"
   ]
  },
  {
   "cell_type": "code",
   "execution_count": 61,
   "metadata": {
    "collapsed": false
   },
   "outputs": [],
   "source": [
    "Highest_Number_of_Followers = (List_of_Followers[0])"
   ]
  },
  {
   "cell_type": "code",
   "execution_count": 62,
   "metadata": {
    "collapsed": false
   },
   "outputs": [
    {
     "name": "stdout",
     "output_type": "stream",
     "text": [
      "2622611\n"
     ]
    }
   ],
   "source": [
    "print(Highest_Number_of_Followers)"
   ]
  },
  {
   "cell_type": "code",
   "execution_count": 57,
   "metadata": {
    "collapsed": false
   },
   "outputs": [
    {
     "name": "stdout",
     "output_type": "stream",
     "text": [
      "So to answer the question. No, the Lil's with the second best popularity rating have smaller followings than Lil Wayne. And he says: 'I am Lil Wayne, and I have the largest following and the largest popularity score of all the Lils on the planet.'\n",
      "As Lil Yachty has a smaller popularity score than Lil Wayne, the following is also smaller.\n",
      "As Lil Uzi Vert has a smaller popularity score than Lil Wayne, the following is also smaller.\n",
      "As Lil Dicky has a smaller popularity score than Lil Wayne, the following is also smaller.\n",
      "As Boosie Badazz has a smaller popularity score than Lil Wayne, the following is also smaller.\n",
      "As Lil Jon has a smaller popularity score than Lil Wayne, the following is also smaller.\n",
      "As King Lil G has a smaller popularity score than Lil Wayne, the following is also smaller.\n",
      "As Lil Durk has a smaller popularity score than Lil Wayne, the following is also smaller.\n",
      "As Lil Jon & The East Side Boyz has a smaller popularity score than Lil Wayne, the following is also smaller.\n",
      "As Lil Bibby has a smaller popularity score than Lil Wayne, the following is also smaller.\n",
      "As G Herbo has a smaller popularity score than Lil Wayne, the following is also smaller.\n",
      "As Lil Rob has a smaller popularity score than Lil Wayne, the following is also smaller.\n",
      "As Lil Reese has a smaller popularity score than Lil Wayne, the following is also smaller.\n",
      "As Lil Keke has a smaller popularity score than Lil Wayne, the following is also smaller.\n",
      "As Bow Wow has a smaller popularity score than Lil Wayne, the following is also smaller.\n",
      "As Lil Scrappy has a smaller popularity score than Lil Wayne, the following is also smaller.\n",
      "As Lil Wyte has a smaller popularity score than Lil Wayne, the following is also smaller.\n",
      "As Lil Blood has a smaller popularity score than Lil Wayne, the following is also smaller.\n",
      "As Lil Snupe has a smaller popularity score than Lil Wayne, the following is also smaller.\n",
      "As Lil Mama has a smaller popularity score than Lil Wayne, the following is also smaller.\n",
      "As Lil B has a smaller popularity score than Lil Wayne, the following is also smaller.\n",
      "As Lil' Kim has a smaller popularity score than Lil Wayne, the following is also smaller.\n",
      "As Lil Cuete has a smaller popularity score than Lil Wayne, the following is also smaller.\n",
      "As Lil Phat has a smaller popularity score than Lil Wayne, the following is also smaller.\n",
      "As Lil Debbie has a smaller popularity score than Lil Wayne, the following is also smaller.\n",
      "As Lil Twist has a smaller popularity score than Lil Wayne, the following is also smaller.\n",
      "As Lil Trill has a smaller popularity score than Lil Wayne, the following is also smaller.\n",
      "As Lil Twon has a smaller popularity score than Lil Wayne, the following is also smaller.\n",
      "As Lil AJ has a smaller popularity score than Lil Wayne, the following is also smaller.\n",
      "As Lil Lonnie has a smaller popularity score than Lil Wayne, the following is also smaller.\n",
      "As Lil Goofy has a smaller popularity score than Lil Wayne, the following is also smaller.\n",
      "As Mr. Lil One has a smaller popularity score than Lil Wayne, the following is also smaller.\n",
      "As Lil Flash has a smaller popularity score than Lil Wayne, the following is also smaller.\n",
      "As Lil Kesh has a smaller popularity score than Lil Wayne, the following is also smaller.\n",
      "As Lil Haiti has a smaller popularity score than Lil Wayne, the following is also smaller.\n",
      "As Lil Silva has a smaller popularity score than Lil Wayne, the following is also smaller.\n",
      "As Lil Rue has a smaller popularity score than Lil Wayne, the following is also smaller.\n",
      "As Lil Cray has a smaller popularity score than Lil Wayne, the following is also smaller.\n",
      "As Lil Eddie has a smaller popularity score than Lil Wayne, the following is also smaller.\n",
      "As Lil Wayne, DJ Drama has a smaller popularity score than Lil Wayne, the following is also smaller.\n",
      "As Lil Yase has a smaller popularity score than Lil Wayne, the following is also smaller.\n",
      "As Lil Suzy has a smaller popularity score than Lil Wayne, the following is also smaller.\n",
      "As Lil Mouse has a smaller popularity score than Lil Wayne, the following is also smaller.\n",
      "As Lil C has a smaller popularity score than Lil Wayne, the following is also smaller.\n",
      "As Lil Rick has a smaller popularity score than Lil Wayne, the following is also smaller.\n",
      "As Lil Boom has a smaller popularity score than Lil Wayne, the following is also smaller.\n",
      "As Lil June has a smaller popularity score than Lil Wayne, the following is also smaller.\n",
      "As Lil E has a smaller popularity score than Lil Wayne, the following is also smaller.\n",
      "As Lil Fate has a smaller popularity score than Lil Wayne, the following is also smaller.\n",
      "As Lil' Flip has a smaller popularity score than Lil Wayne, the following is also smaller.\n"
     ]
    }
   ],
   "source": [
    "for artist in Lil_artists: \n",
    "    if artist['name'] == 'Lil Wayne':\n",
    "        print(\"So to answer the question. No, the Lil's with the second best popularity rating have smaller followings than Lil Wayne. And he says: 'I am Lil Wayne, and I have the largest following and the largest popularity score of all the Lils on the planet.'\")\n",
    "    elif artist['popularity'] >= 72 and artist['name'] != 'Lil Wayne' and artist['followers']['total'] >= Highest_Number_of_Followers:\n",
    "        print(artist['name'], \"might have a smaller popularity score than Lil Wayne, but he has more followrs.\")\n",
    "    else:\n",
    "        print(\"As\", artist['name'], \"has a smaller popularity score than Lil Wayne, the following is also smaller.\")"
   ]
  },
  {
   "cell_type": "markdown",
   "metadata": {},
   "source": [
    "**4) Print a list of Lil's that are more popular than Lil' Kim.**"
   ]
  },
  {
   "cell_type": "markdown",
   "metadata": {},
   "source": [
    "Establishing how high Lil' Kim's popularity is. **Would this be possible in one go?**"
   ]
  },
  {
   "cell_type": "code",
   "execution_count": 19,
   "metadata": {
    "collapsed": false
   },
   "outputs": [
    {
     "name": "stdout",
     "output_type": "stream",
     "text": [
      "62\n"
     ]
    }
   ],
   "source": [
    "for artist in Lil_artists: \n",
    "    if artist['name'] == \"Lil' Kim\":\n",
    "        print(artist['popularity'])"
   ]
  },
  {
   "cell_type": "code",
   "execution_count": 20,
   "metadata": {
    "collapsed": false
   },
   "outputs": [
    {
     "name": "stdout",
     "output_type": "stream",
     "text": [
      "Lil Wayne 86\n",
      "Lil Yachty 72\n",
      "Lil Uzi Vert 72\n",
      "Lil Dicky 68\n",
      "Boosie Badazz 67\n",
      "Lil Jon 72\n"
     ]
    }
   ],
   "source": [
    "for artist in Lil_artists: \n",
    "    if artist['popularity'] > 62:\n",
    "        print(artist['name'], artist['popularity'])\n",
    "\n"
   ]
  },
  {
   "cell_type": "markdown",
   "metadata": {},
   "source": [
    "**5) Pick two of your favorite Lils to fight it out, and use their IDs to print out their top tracks.**\n",
    "Tip: You're going to be making two separate requests, be sure you DO NOT save them into the same variable."
   ]
  },
  {
   "cell_type": "code",
   "execution_count": 21,
   "metadata": {
    "collapsed": false
   },
   "outputs": [
    {
     "name": "stdout",
     "output_type": "stream",
     "text": [
      "Lil Wayne 55Aa2cqylxrFIXC767Z865\n",
      "Lil Yachty 6icQOAFXDZKsumw3YXyusw\n",
      "Lil Uzi Vert 4O15NlyKLIASxsJ0PrXPfz\n",
      "Lil Dicky 1tqhsYv8yBBdwANFNzHtcr\n",
      "Boosie Badazz 6z7xFFHxYkE9t8bwIF0Bvg\n",
      "Lil Jon 7sfl4Xt5KmfyDs2T3SVSMK\n",
      "King Lil G 6L3x3if9RVimruryD9LoFb\n",
      "Lil Durk 3hcs9uc56yIGFCSy9leWe7\n",
      "Lil Jon & The East Side Boyz 3ciRvbBIVz9fBoPbtSYq4x\n",
      "Lil Bibby 4uSN8Y3kgFNVULUWsZEAVW\n",
      "G Herbo 5QdEbQJ3ylBnc3gsIASAT5\n",
      "Lil Rob 7B7TGqQe7QTVm2U6q8jzk1\n",
      "Lil Reese 1bPxKZtCdjB1aj1csBJpdS\n",
      "Lil Keke 1grI9x4Uzos1Asx8JmRW6T\n",
      "Bow Wow 7352aRY2mqSxBZwzUb6LmA\n",
      "Lil Scrappy 5einkgXXrjhfYCyac1FANB\n",
      "Lil Wyte 21O7WwRkik43ErKppxDKJq\n",
      "Lil Blood 74nSA5FdDOuuLw7Rn5JnuP\n",
      "Lil Snupe 42FaEHFfyxTdZQ5W28dXnj\n",
      "Lil Mama 5qK5bOC6wLtuLhG5KvU17c\n",
      "Lil B 4dqh62yIzDBmrMeBOLiP5F\n",
      "Lil' Kim 5tth2a3v0sWwV1C7bApBdX\n",
      "Lil Cuete 1I5u5Umau1AgHl0ZbPL1oR\n",
      "Lil Phat 3QnIBUOS4mUzs67rZ8r4c9\n",
      "Lil Debbie 3FNZcjyqT7F5upP99JV0oN\n",
      "Lil Twist 564gvOqSRcQoYAhaBpTiK2\n",
      "Lil Trill 5EQERGi7ffHvHsv3bnqzBn\n",
      "Lil Twon 5YZZbPdI7P7te3lW3dTpzK\n",
      "Lil AJ 2jXwYLNnCxNavms4mc1DYM\n",
      "Lil Lonnie 6zSBkdKFLKKggDtE3amfCk\n",
      "Lil Goofy 3rWaFjgOi5mjQfllMfN3VI\n",
      "Mr. Lil One 6tslWi0BXiDdtChermDzkU\n",
      "Lil Flash 069qBEK34YGoX7nSIT74Eg\n",
      "Lil Kesh 38XiDu0kK3Z5jdHUDqBzNT\n",
      "Lil Haiti 4E9dumwOMLlTyXUp1i2WdI\n",
      "Lil Silva 2Kv0ApBohrL213X9avMrEn\n",
      "Lil Rue 4IFVaKBbEO8Qkurg6nmoc4\n",
      "Lil Cray 43BqexhEx5NKF7VfeOYP9m\n",
      "Lil Eddie 5CY0QKsbUBpQJIE2yycsYi\n",
      "Lil Wayne, DJ Drama 65npPa1U4cgobX9wU7Jgpb\n",
      "Lil Yase 4vIlHBnzWKbmWe8ZOkT1ZT\n",
      "Lil Suzy 5HPsVk1MblCoa44WLJsQwN\n",
      "Lil Mouse 1cEHxCgGlEgqBc91YOcAEQ\n",
      "Lil C 69swdLSkKxCQBMYJ55O2mA\n",
      "Lil Rick 1qKzKUnuQsjB83hBZffoq0\n",
      "Lil Boom 1mmlWsyPJvvxMdabcGJjRn\n",
      "Lil June 3GH3KD2078kLPpEkN1UN26\n",
      "Lil E 0zn6yzsbWj3EPMgOTqfG5k\n",
      "Lil Fate 6JUnsP7jmvYmdhbg7lTMQj\n",
      "Lil' Flip 4Q5sPmM8j4SpMqL4UA1DtS\n"
     ]
    }
   ],
   "source": [
    "for artist in Lil_artists:\n",
    "    print(artist['name'], artist['id'])"
   ]
  },
  {
   "cell_type": "code",
   "execution_count": 22,
   "metadata": {
    "collapsed": false
   },
   "outputs": [
    {
     "data": {
      "text/plain": [
       "dict"
      ]
     },
     "execution_count": 22,
     "metadata": {},
     "output_type": "execute_result"
    }
   ],
   "source": [
    "response = requests.get('https://api.spotify.com/v1/artists/5einkgXXrjhfYCyac1FANB/top-tracks?country=US')\n",
    "Lil_Scrappy_data = response.json()\n",
    "type(Lil_Scrappy_data)"
   ]
  },
  {
   "cell_type": "code",
   "execution_count": 23,
   "metadata": {
    "collapsed": false
   },
   "outputs": [
    {
     "data": {
      "text/plain": [
       "dict"
      ]
     },
     "execution_count": 23,
     "metadata": {},
     "output_type": "execute_result"
    }
   ],
   "source": [
    "response = requests.get('https://api.spotify.com/v1/artists/5qK5bOC6wLtuLhG5KvU17c/top-tracks?country=US')\n",
    "Lil_Mama_data = response.json()\n",
    "type(Lil_Mama_data)"
   ]
  },
  {
   "cell_type": "code",
   "execution_count": 24,
   "metadata": {
    "collapsed": false
   },
   "outputs": [
    {
     "data": {
      "text/plain": [
       "dict_keys(['tracks'])"
      ]
     },
     "execution_count": 24,
     "metadata": {},
     "output_type": "execute_result"
    }
   ],
   "source": [
    "Lil_Scrappy_data.keys()\n",
    "Lil_Mama_data.keys()"
   ]
  },
  {
   "cell_type": "code",
   "execution_count": 25,
   "metadata": {
    "collapsed": false
   },
   "outputs": [
    {
     "data": {
      "text/plain": [
       "dict_keys"
      ]
     },
     "execution_count": 25,
     "metadata": {},
     "output_type": "execute_result"
    }
   ],
   "source": [
    "type(Lil_Scrappy_data.keys())\n",
    "type(Lil_Mama_data.keys())"
   ]
  },
  {
   "cell_type": "code",
   "execution_count": 26,
   "metadata": {
    "collapsed": false
   },
   "outputs": [
    {
     "name": "stdout",
     "output_type": "stream",
     "text": [
      "What U Gon' Do (feat. Lil Scrappy)\n",
      "No Problem\n",
      "Money In The Bank - Remix feat. Young Buck\n",
      "Keep It 1000\n",
      "Wait (The Whisper Song) Remix\n",
      "Damn - Remix\n",
      "Head Bussa - feat. Lil Jon\n",
      "Like a Pimp - Remix\n",
      "Livin' In The Projects\n",
      "Oh Yeah - Work feat. Sean P. of YoungBloodZ and E-40\n"
     ]
    }
   ],
   "source": [
    "Scrappy_tracks = Lil_Scrappy_data['tracks']\n",
    "\n",
    "for tracks in Scrappy_tracks:\n",
    "    print(tracks['name'])\n"
   ]
  },
  {
   "cell_type": "code",
   "execution_count": 27,
   "metadata": {
    "collapsed": false
   },
   "outputs": [
    {
     "name": "stdout",
     "output_type": "stream",
     "text": [
      "Lip Gloss\n",
      "Shawty Get Loose\n",
      "G-Slide (Tour Bus) - Radio Version\n",
      "Dough Boy\n",
      "Lip Gloss/ No Music - Main Version - clean\n",
      "Shawty Get Loose\n",
      "Hustler Girl\n",
      "Bad As Me\n",
      "Truly In Love\n",
      "L.I.F.E.\n"
     ]
    }
   ],
   "source": [
    "Mama_tracks = Lil_Mama_data['tracks']\n",
    "\n",
    "for tracks in Mama_tracks:\n",
    "    print(tracks['name'])"
   ]
  },
  {
   "cell_type": "markdown",
   "metadata": {},
   "source": [
    "**6 Will the world explode if a musicians swears? Get an average popularity for their explicit songs vs. their non-explicit songs. How many minutes of explicit songs do they have? Non-explicit?**"
   ]
  },
  {
   "cell_type": "markdown",
   "metadata": {},
   "source": [
    "Number of Explicit Tracks for Lil Scrappy."
   ]
  },
  {
   "cell_type": "code",
   "execution_count": 89,
   "metadata": {
    "collapsed": false
   },
   "outputs": [
    {
     "name": "stdout",
     "output_type": "stream",
     "text": [
      "The average rating of explicit songs by Lil Scrappy is 41 .\n",
      "The average rating of non-explicit songs by Lil Scrappy is 37 .\n",
      "The duration of explicit song material of Lil Scrappy is 1809 minutes, and of non explicit material is 765 minutes.\n"
     ]
    }
   ],
   "source": [
    "explicit_track_scrappy = 0\n",
    "non_explicit_track_scrappy = 0\n",
    "unknown_scrappy = 0\n",
    "for tracks in Scrappy_tracks:\n",
    "    if tracks['explicit'] == True:\n",
    "        explicit_track_scrappy = explicit_track_scrappy + 1\n",
    "    elif tracks['explicit'] == False:\n",
    "        non_explicit_track_scrappy = non_explicit_track_scrappy + 1\n",
    "    else:\n",
    "        unknown_scrappy = unknown_scrappy + 1\n",
    "\n",
    "explicit_track_pop_total = 0\n",
    "non_explicit_track_pop_total = 0\n",
    "for tracks in Scrappy_tracks:\n",
    "    if tracks['explicit'] == True:\n",
    "        explicit_track_pop_total = explicit_track_pop_total + tracks['popularity']\n",
    "    elif tracks['explicit'] == False:\n",
    "        non_explicit_track_pop_total = non_explicit_track_pop_total + tracks['popularity']\n",
    "\n",
    "explicit_track_duration_total = 0\n",
    "non_explicit_track_duration_total = 0\n",
    "for tracks in Scrappy_tracks:\n",
    "    if tracks['explicit'] == True:\n",
    "        explicit_track_duration_total = explicit_track_duration_total + tracks['duration_ms']\n",
    "    elif tracks['explicit'] == False:\n",
    "        non_explicit_track_duration_total = non_explicit_track_duration_total + tracks['duration_ms']\n",
    "    \n",
    "print(\"The average rating of explicit songs by Lil Scrappy is\", round(explicit_track_pop_total / explicit_track_scrappy), \".\")\n",
    "print(\"The average rating of non-explicit songs by Lil Scrappy is\", round(non_explicit_track_pop_total / non_explicit_track_scrappy), \".\")\n",
    "print(\"The duration of explicit song material of Lil Scrappy is\", round(explicit_track_duration_total / 1000), \"minutes, and of non explicit material is\", round(non_explicit_track_duration_total / 1000), \"minutes.\") \n",
    "\n"
   ]
  },
  {
   "cell_type": "markdown",
   "metadata": {},
   "source": [
    "And this is the same for Lil Mama:"
   ]
  },
  {
   "cell_type": "code",
   "execution_count": 90,
   "metadata": {
    "collapsed": false
   },
   "outputs": [
    {
     "name": "stdout",
     "output_type": "stream",
     "text": [
      "The average rating of explicit songs by Lil Mama is 23 .\n",
      "The average rating of non-explicit songs by Lil Mama is 32 .\n",
      "The duration of explicit song material of Lil Mama is 526 minutes, and of non explicit material is 1769 minutes.\n"
     ]
    }
   ],
   "source": [
    "explicit_track_Mama = 0\n",
    "non_explicit_track_Mama = 0\n",
    "unknown = 0\n",
    "for tracks in Mama_tracks:\n",
    "    if tracks['explicit'] == True:\n",
    "        explicit_track_Mama = explicit_track_Mama + 1\n",
    "    elif tracks['explicit'] == False:\n",
    "        non_explicit_track_Mama = non_explicit_track_Mama + 1\n",
    "    else:\n",
    "        unknown = unknown + 1\n",
    "\n",
    "explicit_track_pop_total_Mama = 0\n",
    "non_explicit_track_pop_total_Mama = 0\n",
    "for tracks in Mama_tracks:\n",
    "    if tracks['explicit'] == True:\n",
    "        explicit_track_pop_total_Mama = explicit_track_pop_total_Mama + tracks['popularity']\n",
    "    elif tracks['explicit'] == False:\n",
    "        non_explicit_track_pop_total_Mama = non_explicit_track_pop_total_Mama + tracks['popularity']\n",
    "        \n",
    "explicit_track_duration_total_Mama = 0\n",
    "non_explicit_track_duration_total_Mama = 0\n",
    "for tracks in Mama_tracks:\n",
    "    if tracks['explicit'] == True:\n",
    "        explicit_track_duration_total_Mama = explicit_track_duration_total_Mama + tracks['duration_ms']\n",
    "    elif tracks['explicit'] == False:\n",
    "        non_explicit_track_duration_total_Mama = non_explicit_track_duration_total_Mama + tracks['duration_ms']        \n",
    "        \n",
    "print(\"The average rating of explicit songs by Lil Mama is\", round(explicit_track_pop_total_Mama / explicit_track_Mama), \".\")\n",
    "print(\"The average rating of non-explicit songs by Lil Mama is\", round(non_explicit_track_pop_total_Mama / non_explicit_track_Mama), \".\")\n",
    "print(\"The duration of explicit song material of Lil Mama is\", round(explicit_track_duration_total_Mama / 1000), \"minutes, and of non explicit material is\", round(non_explicit_track_duration_total_Mama / 1000), \"minutes.\") \n",
    "\n"
   ]
  },
  {
   "cell_type": "markdown",
   "metadata": {},
   "source": [
    "**7 a) Since we're talking about Lils, what about Biggies? How many total \"Biggie\" artists are there?**"
   ]
  },
  {
   "cell_type": "markdown",
   "metadata": {},
   "source": [
    "This obviously works with the [Offset function](https://developer.spotify.com/web-api/search-item/). But how to automate these queries?\n",
    "\n",
    "This is what the links will look like: https://api.spotify.com/v1/search?q=biggie&type=artist&offset=0&limit=50&market=US"
   ]
  },
  {
   "cell_type": "code",
   "execution_count": null,
   "metadata": {
    "collapsed": true
   },
   "outputs": [],
   "source": [
    "biggie_query_list = {'q': 'biggie', 'type': 'artist', 'offset': [0, 49, 99, 149, 199, 249, 299, 349, 400, 449, 499], 'limit: 50', 'market': 'US'}"
   ]
  },
  {
   "cell_type": "markdown",
   "metadata": {},
   "source": [
    "Counting biggie's in the first query"
   ]
  },
  {
   "cell_type": "code",
   "execution_count": 49,
   "metadata": {
    "collapsed": false
   },
   "outputs": [
    {
     "data": {
      "text/plain": [
       "dict_keys(['artists'])"
      ]
     },
     "execution_count": 49,
     "metadata": {},
     "output_type": "execute_result"
    }
   ],
   "source": [
    "response = requests.get('https://api.spotify.com/v1/search?q=biggie&type=artist&offset=0&limit=50&market=US')\n",
    "Biggie_data = response.json()\n",
    "Biggie_data.keys()\n",
    "\n",
    "response2 = requests.get('https://api.spotify.com/v1/search?q=biggie&type=artist&offset=49&limit=50&market=US')\n",
    "Biggie_data2 = response2.json()\n",
    "Biggie_data2.keys()\n"
   ]
  },
  {
   "cell_type": "code",
   "execution_count": 50,
   "metadata": {
    "collapsed": false
   },
   "outputs": [
    {
     "data": {
      "text/plain": [
       "7"
      ]
     },
     "execution_count": 50,
     "metadata": {},
     "output_type": "execute_result"
    }
   ],
   "source": [
    "len(Biggie_data['artists'])"
   ]
  },
  {
   "cell_type": "code",
   "execution_count": 63,
   "metadata": {
    "collapsed": false
   },
   "outputs": [
    {
     "name": "stdout",
     "output_type": "stream",
     "text": [
      "49\n"
     ]
    }
   ],
   "source": [
    "Biggie_artists = Biggie_data['artists']['items']\n",
    "Biggie_artist_count = 0\n",
    "for artist in Biggie_artists:\n",
    "    Biggie_artist_count = Biggie_artist_count + 1\n",
    "print(Biggie_artist_count)"
   ]
  },
  {
   "cell_type": "code",
   "execution_count": 64,
   "metadata": {
    "collapsed": false
   },
   "outputs": [
    {
     "name": "stdout",
     "output_type": "stream",
     "text": [
      "0\n"
     ]
    }
   ],
   "source": [
    "Biggie_artists2 = Biggie_data2['artists']['items']\n",
    "Biggie_artist2_count = 0\n",
    "for artist in Biggie_artists2:\n",
    "    Biggie_artist2_count = Biggie_artist2_count + 1\n",
    "print(Biggie_artist2_count)"
   ]
  },
  {
   "cell_type": "code",
   "execution_count": 65,
   "metadata": {
    "collapsed": false
   },
   "outputs": [
    {
     "name": "stdout",
     "output_type": "stream",
     "text": [
      "There are currently 49 Artists with 'Biggie' in there name on Spotify.\n"
     ]
    }
   ],
   "source": [
    "Biggie_artist_count = Biggie_artist_count + Biggie_artist2_count\n",
    "print(\"There are currently\", Biggie_artist_count, \"Artists with 'Biggie' in there name on Spotify.\" )"
   ]
  },
  {
   "cell_type": "markdown",
   "metadata": {},
   "source": [
    "**7 b) How many total \"Lil\"s?**"
   ]
  },
  {
   "cell_type": "code",
   "execution_count": 76,
   "metadata": {
    "collapsed": false
   },
   "outputs": [
    {
     "data": {
      "text/plain": [
       "dict_keys(['artists'])"
      ]
     },
     "execution_count": 76,
     "metadata": {},
     "output_type": "execute_result"
    }
   ],
   "source": [
    "response = requests.get('https://api.spotify.com/v1/search?q=Lil&type=artist&offset=0&limit=50&market=US')\n",
    "Lil_data = response.json()\n",
    "Lil_data.keys()\n",
    "\n",
    "response2 = requests.get('https://api.spotify.com/v1/search?q=Lil&type=artist&offset=49&limit=50&market=US')\n",
    "Lil_data2 = response2.json()\n",
    "Lil_data2.keys()\n",
    "\n",
    "response3 = requests.get('https://api.spotify.com/v1/search?q=Lil&type=artist&offset=99&limit=50&market=US')\n",
    "Lil_data3 = response3.json()\n",
    "Lil_data3.keys()"
   ]
  },
  {
   "cell_type": "markdown",
   "metadata": {},
   "source": [
    "**How can we automatically generate these queries?** Is this [link](https://www.evernote.com/l/ANEiTf0rR2tB16Vj2jauhZ85TP0uBNQaoUE) helpful? And is it something to do with a Dictionary like this? biggie_query_list = {'q': 'biggie', 'type': 'artist', 'offset': [0, 49, 99, 149, 199, 249, 299, 349, 400, 449, 499], 'limit: 50', 'market': 'US'}"
   ]
  },
  {
   "cell_type": "markdown",
   "metadata": {},
   "source": [
    "By changing the offset counter in these links https://api.spotify.com/v1/search?q=Lil&type=artist&offset=4499&limit=50&market=US I came up with 4500 artists with \"Lil\" in their name."
   ]
  },
  {
   "cell_type": "markdown",
   "metadata": {},
   "source": [
    "**7 c) If you made 1 request every 5 seconds, how long would it take to download information on all the Lils vs the Biggies?**"
   ]
  },
  {
   "cell_type": "markdown",
   "metadata": {},
   "source": [
    "If their are 4500 artists and 50 artists need 5 seconds to download, that would mean you'll need **90 seconds to download them all**. "
   ]
  }
 ],
 "metadata": {
  "kernelspec": {
   "display_name": "Python 3",
   "language": "python",
   "name": "python3"
  },
  "language_info": {
   "codemirror_mode": {
    "name": "ipython",
    "version": 3
   },
   "file_extension": ".py",
   "mimetype": "text/x-python",
   "name": "python",
   "nbconvert_exporter": "python",
   "pygments_lexer": "ipython3",
   "version": "3.5.1"
  }
 },
 "nbformat": 4,
 "nbformat_minor": 0
}
