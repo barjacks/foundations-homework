{
 "cells": [
  {
   "cell_type": "code",
   "execution_count": 79,
   "metadata": {
    "collapsed": false
   },
   "outputs": [],
   "source": [
    "#1) What books topped the Hardcover Fiction NYT best-sellers list on \n",
    "#Mother's Day in 2009 and 2010? How about Father's Day?\n",
    "\n",
    "#Establishing the name of bestseller lists"
   ]
  },
  {
   "cell_type": "code",
   "execution_count": 109,
   "metadata": {
    "collapsed": true
   },
   "outputs": [],
   "source": [
    "import requests"
   ]
  },
  {
   "cell_type": "code",
   "execution_count": 110,
   "metadata": {
    "collapsed": false
   },
   "outputs": [],
   "source": [
    "response = requests.get('https://api.nytimes.com/svc/books/v3/lists/names.json?api-key=71621eb479f045bf8bee783b6943fdd4')\n",
    "Bestseller_lists = response.json()"
   ]
  },
  {
   "cell_type": "code",
   "execution_count": 111,
   "metadata": {
    "collapsed": false
   },
   "outputs": [
    {
     "data": {
      "text/plain": [
       "dict_keys(['copyright', 'num_results', 'status', 'results'])"
      ]
     },
     "execution_count": 111,
     "metadata": {},
     "output_type": "execute_result"
    }
   ],
   "source": [
    "Bestseller_lists.keys()"
   ]
  },
  {
   "cell_type": "code",
   "execution_count": 112,
   "metadata": {
    "collapsed": false
   },
   "outputs": [
    {
     "data": {
      "text/plain": [
       "list"
      ]
     },
     "execution_count": 112,
     "metadata": {},
     "output_type": "execute_result"
    }
   ],
   "source": [
    "type(Bestseller_lists['results'])"
   ]
  },
  {
   "cell_type": "code",
   "execution_count": 113,
   "metadata": {
    "collapsed": false
   },
   "outputs": [
    {
     "name": "stdout",
     "output_type": "stream",
     "text": [
      "Combined Print and E-Book Fiction\n",
      "Combined Print and E-Book Nonfiction\n",
      "Hardcover Fiction\n",
      "Hardcover Nonfiction\n",
      "Trade Fiction Paperback\n",
      "Mass Market Paperback\n",
      "Paperback Nonfiction\n",
      "E-Book Fiction\n",
      "E-Book Nonfiction\n",
      "Hardcover Advice\n",
      "Paperback Advice\n",
      "Advice How-To and Miscellaneous\n",
      "Chapter Books\n",
      "Childrens Middle Grade\n",
      "Childrens Middle Grade E-Book\n",
      "Childrens Middle Grade Hardcover\n",
      "Childrens Middle Grade Paperback\n",
      "Paperback Books\n",
      "Picture Books\n",
      "Series Books\n",
      "Young Adult\n",
      "Young Adult E-Book\n",
      "Young Adult Hardcover\n",
      "Young Adult Paperback\n",
      "Hardcover Graphic Books\n",
      "Paperback Graphic Books\n",
      "Manga\n",
      "Combined Print Fiction\n",
      "Combined Print Nonfiction\n",
      "Animals\n",
      "Business Books\n",
      "Celebrities\n",
      "Crime and Punishment\n",
      "Culture\n",
      "Education\n",
      "Espionage\n",
      "Expeditions Disasters and Adventures\n",
      "Fashion Manners and Customs\n",
      "Food and Fitness\n",
      "Games and Activities\n",
      "Hardcover Business Books\n",
      "Health\n",
      "Humor\n",
      "Indigenous Americans\n",
      "Relationships\n",
      "Paperback Business Books\n",
      "Family\n",
      "Hardcover Political Books\n",
      "Race and Civil Rights\n",
      "Religion Spirituality and Faith\n",
      "Science\n",
      "Sports\n",
      "Travel\n"
     ]
    }
   ],
   "source": [
    "bestseller = Bestseller_lists['results']\n",
    "for x in bestseller:\n",
    "    print(x['list_name'])"
   ]
  },
  {
   "cell_type": "code",
   "execution_count": 114,
   "metadata": {
    "collapsed": true
   },
   "outputs": [],
   "source": [
    "#Now looking at the best seller list on Mother's Day May 10 2009 and Mother's Day May 2010."
   ]
  },
  {
   "cell_type": "code",
   "execution_count": 115,
   "metadata": {
    "collapsed": true
   },
   "outputs": [],
   "source": [
    "response = requests.get('https://api.nytimes.com/svc/books/v3/lists/2009-05-10/hardcover-fiction.json?api-key=a39223b33e0e46fd82dbddcc4972ff91')\n",
    "books = response.json()"
   ]
  },
  {
   "cell_type": "code",
   "execution_count": 116,
   "metadata": {
    "collapsed": false
   },
   "outputs": [
    {
     "data": {
      "text/plain": [
       "dict_keys(['copyright', 'num_results', 'status', 'results', 'last_modified'])"
      ]
     },
     "execution_count": 116,
     "metadata": {},
     "output_type": "execute_result"
    }
   ],
   "source": [
    "books.keys()"
   ]
  },
  {
   "cell_type": "code",
   "execution_count": 117,
   "metadata": {
    "collapsed": false
   },
   "outputs": [
    {
     "data": {
      "text/plain": [
       "dict"
      ]
     },
     "execution_count": 117,
     "metadata": {},
     "output_type": "execute_result"
    }
   ],
   "source": [
    "type(books['results'])"
   ]
  },
  {
   "cell_type": "code",
   "execution_count": 118,
   "metadata": {
    "collapsed": false
   },
   "outputs": [
    {
     "name": "stdout",
     "output_type": "stream",
     "text": [
      "dict_keys(['next_published_date', 'books', 'list_name', 'previous_published_date', 'display_name', 'published_date_description', 'bestsellers_date', 'corrections', 'list_name_encoded', 'updated', 'published_date', 'normal_list_ends_at'])\n"
     ]
    }
   ],
   "source": [
    "print(books['results'].keys())"
   ]
  },
  {
   "cell_type": "code",
   "execution_count": 128,
   "metadata": {
    "collapsed": false
   },
   "outputs": [
    {
     "data": {
      "text/plain": [
       "dict"
      ]
     },
     "execution_count": 128,
     "metadata": {},
     "output_type": "execute_result"
    }
   ],
   "source": [
    "books_details = books['results']['books']\n",
    "type(books)"
   ]
  },
  {
   "cell_type": "code",
   "execution_count": 134,
   "metadata": {
    "collapsed": false
   },
   "outputs": [
    {
     "name": "stdout",
     "output_type": "stream",
     "text": [
      "The list of books topping the bestseller's list of Hardcore Fiction on Mother's Day 2009 was:\n",
      "FIRST FAMILY\n",
      "TEA TIME FOR THE TRADITIONALLY BUILT\n",
      "LOITERING WITH INTENT\n",
      "JUST TAKE MY HEART\n",
      "THE PERFECT POISON\n",
      "THE HOST\n",
      "LOOK AGAIN\n",
      "DEADLOCK\n",
      "LONG LOST\n",
      "TURN COAT\n",
      "THE ASSOCIATE\n",
      "HANDLE WITH CARE\n",
      "THE HELP\n",
      "THE GUERNSEY LITERARY AND POTATO PEEL PIE SOCIETY\n",
      "FATALLY FLAKY\n",
      "ARTHAS\n",
      "A RELIABLE WIFE\n",
      "BORDERLINE\n",
      "ONE SECOND AFTER\n",
      "BONEMAN'S DAUGHTERS\n"
     ]
    }
   ],
   "source": [
    "print(\"The list of books topping the bestseller's list of Hardcore Fiction on Mother's Day 2009 was:\")\n",
    "for title in books_details:\n",
    "    print(title['title'])\n",
    "    "
   ]
  },
  {
   "cell_type": "code",
   "execution_count": 140,
   "metadata": {
    "collapsed": true
   },
   "outputs": [],
   "source": [
    "response = requests.get('https://api.nytimes.com/svc/books/v3/lists/2010-05-09/hardcover-fiction.json?api-key=a39223b33e0e46fd82dbddcc4972ff91')\n",
    "books = response.json()"
   ]
  },
  {
   "cell_type": "code",
   "execution_count": 145,
   "metadata": {
    "collapsed": false
   },
   "outputs": [
    {
     "name": "stdout",
     "output_type": "stream",
     "text": [
      "The list of books topping the bestseller's list of Hardcore Fiction on Mother's Day 2010 was:\n",
      "SKIN TRADE\n",
      "MEDUSA\n",
      "THE SCARECROW\n",
      "SHANGHAI GIRLS\n",
      "MATTERS OF THE HEART\n",
      "GONE TOMORROW\n",
      "DEAD AND GONE\n",
      "THE 8TH CONFESSION\n",
      "THE STRAIN\n",
      "WICKED PREY\n",
      "THE HOST\n",
      "FIRST FAMILY\n",
      "CEMETERY DANCE\n",
      "UNDEAD AND UNWELCOME\n",
      "THE HELP\n",
      "PYGMY\n",
      "MY FATHER'S TEARS AND OTHER STORIES\n",
      "ROAD DOGS\n",
      "THE STORY SISTERS\n",
      "HEARTLESS\n"
     ]
    }
   ],
   "source": [
    "books_details_2010 = books['results']['books']\n",
    "print(\"The list of books topping the bestseller's list of Hardcore Fiction on Mother's Day 2010 was:\")\n",
    "for title in books_details_2010:\n",
    "    print(title['title'])"
   ]
  },
  {
   "cell_type": "code",
   "execution_count": 149,
   "metadata": {
    "collapsed": true
   },
   "outputs": [],
   "source": [
    "#And now for father's day 2009 and 2010:"
   ]
  },
  {
   "cell_type": "code",
   "execution_count": 150,
   "metadata": {
    "collapsed": true
   },
   "outputs": [],
   "source": [
    "response = requests.get('https://api.nytimes.com/svc/books/v3/lists/2009-06-21/hardcover-fiction.json?api-key=a39223b33e0e46fd82dbddcc4972ff91')\n",
    "books = response.json()"
   ]
  },
  {
   "cell_type": "code",
   "execution_count": 151,
   "metadata": {
    "collapsed": false
   },
   "outputs": [
    {
     "name": "stdout",
     "output_type": "stream",
     "text": [
      "The list of books topping the bestseller's list of Hardcore Fiction on fathers's Day 2009 was:\n",
      "SKIN TRADE\n",
      "MEDUSA\n",
      "THE SCARECROW\n",
      "SHANGHAI GIRLS\n",
      "MATTERS OF THE HEART\n",
      "GONE TOMORROW\n",
      "DEAD AND GONE\n",
      "THE 8TH CONFESSION\n",
      "THE STRAIN\n",
      "WICKED PREY\n",
      "THE HOST\n",
      "FIRST FAMILY\n",
      "CEMETERY DANCE\n",
      "UNDEAD AND UNWELCOME\n",
      "THE HELP\n",
      "PYGMY\n",
      "MY FATHER'S TEARS AND OTHER STORIES\n",
      "ROAD DOGS\n",
      "THE STORY SISTERS\n",
      "HEARTLESS\n"
     ]
    }
   ],
   "source": [
    "books_details_2009_fathers = books['results']['books']\n",
    "print(\"The list of books topping the bestseller's list of Hardcore Fiction on fathers's Day 2009 was:\")\n",
    "for title in books_details_2009_fathers:\n",
    "    print(title['title'])"
   ]
  },
  {
   "cell_type": "code",
   "execution_count": 152,
   "metadata": {
    "collapsed": true
   },
   "outputs": [],
   "source": [
    "response = requests.get('https://api.nytimes.com/svc/books/v3/lists/2010-06-20/hardcover-fiction.json?api-key=a39223b33e0e46fd82dbddcc4972ff91')\n",
    "books = response.json()"
   ]
  },
  {
   "cell_type": "code",
   "execution_count": 153,
   "metadata": {
    "collapsed": false
   },
   "outputs": [
    {
     "name": "stdout",
     "output_type": "stream",
     "text": [
      "The list of books topping the bestseller's list of Hardcore Fiction on fathers's Day 2010 was:\n",
      "THE GIRL WHO KICKED THE HORNET’S NEST\n",
      "BULLET\n",
      "THE SPY\n",
      "THE HELP\n",
      "DEAD IN THE FAMILY\n",
      "61 HOURS\n",
      "THE BURNING WIRE\n",
      "STORM PREY\n",
      "THE BOURNE OBJECTIVE\n",
      "INNOCENT\n",
      "HEART OF THE MATTER\n",
      "THE 9TH JUDGMENT\n",
      "BLOCKADE BILLY\n",
      "ALLIES\n",
      "THE RULE OF NINE\n",
      "FEVER DREAM\n",
      "DELIVER US FROM EVIL\n",
      "MATTERHORN\n",
      "THE PARTICULAR SADNESS OF LEMON CAKE\n",
      "DANGEROUS\n"
     ]
    }
   ],
   "source": [
    "books_details_2010_fathers = books['results']['books']\n",
    "print(\"The list of books topping the bestseller's list of Hardcore Fiction on fathers's Day 2010 was:\")\n",
    "for title in books_details_2010_fathers:\n",
    "    print(title['title'])"
   ]
  },
  {
   "cell_type": "code",
   "execution_count": null,
   "metadata": {
    "collapsed": true
   },
   "outputs": [],
   "source": []
  }
 ],
 "metadata": {
  "kernelspec": {
   "display_name": "Python 3",
   "language": "python",
   "name": "python3"
  },
  "language_info": {
   "codemirror_mode": {
    "name": "ipython",
    "version": 3
   },
   "file_extension": ".py",
   "mimetype": "text/x-python",
   "name": "python",
   "nbconvert_exporter": "python",
   "pygments_lexer": "ipython3",
   "version": "3.5.1"
  }
 },
 "nbformat": 4,
 "nbformat_minor": 0
}
