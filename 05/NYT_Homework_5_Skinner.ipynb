{
 "cells": [
  {
   "cell_type": "code",
   "execution_count": 79,
   "metadata": {
    "collapsed": false
   },
   "outputs": [],
   "source": [
    "#1) What books topped the Hardcover Fiction NYT best-sellers list on \n",
    "#Mother's Day in 2009 and 2010? How about Father's Day?\n",
    "\n",
    "#Establishing the name of bestseller lists"
   ]
  },
  {
   "cell_type": "code",
   "execution_count": 109,
   "metadata": {
    "collapsed": true
   },
   "outputs": [],
   "source": [
    "import requests"
   ]
  },
  {
   "cell_type": "code",
   "execution_count": 110,
   "metadata": {
    "collapsed": false
   },
   "outputs": [],
   "source": [
    "response = requests.get('https://api.nytimes.com/svc/books/v3/lists/names.json?api-key=71621eb479f045bf8bee783b6943fdd4')\n",
    "Bestseller_lists = response.json()"
   ]
  },
  {
   "cell_type": "code",
   "execution_count": 111,
   "metadata": {
    "collapsed": false
   },
   "outputs": [
    {
     "data": {
      "text/plain": [
       "dict_keys(['copyright', 'num_results', 'status', 'results'])"
      ]
     },
     "execution_count": 111,
     "metadata": {},
     "output_type": "execute_result"
    }
   ],
   "source": [
    "Bestseller_lists.keys()"
   ]
  },
  {
   "cell_type": "code",
   "execution_count": 112,
   "metadata": {
    "collapsed": false
   },
   "outputs": [
    {
     "data": {
      "text/plain": [
       "list"
      ]
     },
     "execution_count": 112,
     "metadata": {},
     "output_type": "execute_result"
    }
   ],
   "source": [
    "type(Bestseller_lists['results'])"
   ]
  },
  {
   "cell_type": "code",
   "execution_count": 113,
   "metadata": {
    "collapsed": false
   },
   "outputs": [
    {
     "name": "stdout",
     "output_type": "stream",
     "text": [
      "Combined Print and E-Book Fiction\n",
      "Combined Print and E-Book Nonfiction\n",
      "Hardcover Fiction\n",
      "Hardcover Nonfiction\n",
      "Trade Fiction Paperback\n",
      "Mass Market Paperback\n",
      "Paperback Nonfiction\n",
      "E-Book Fiction\n",
      "E-Book Nonfiction\n",
      "Hardcover Advice\n",
      "Paperback Advice\n",
      "Advice How-To and Miscellaneous\n",
      "Chapter Books\n",
      "Childrens Middle Grade\n",
      "Childrens Middle Grade E-Book\n",
      "Childrens Middle Grade Hardcover\n",
      "Childrens Middle Grade Paperback\n",
      "Paperback Books\n",
      "Picture Books\n",
      "Series Books\n",
      "Young Adult\n",
      "Young Adult E-Book\n",
      "Young Adult Hardcover\n",
      "Young Adult Paperback\n",
      "Hardcover Graphic Books\n",
      "Paperback Graphic Books\n",
      "Manga\n",
      "Combined Print Fiction\n",
      "Combined Print Nonfiction\n",
      "Animals\n",
      "Business Books\n",
      "Celebrities\n",
      "Crime and Punishment\n",
      "Culture\n",
      "Education\n",
      "Espionage\n",
      "Expeditions Disasters and Adventures\n",
      "Fashion Manners and Customs\n",
      "Food and Fitness\n",
      "Games and Activities\n",
      "Hardcover Business Books\n",
      "Health\n",
      "Humor\n",
      "Indigenous Americans\n",
      "Relationships\n",
      "Paperback Business Books\n",
      "Family\n",
      "Hardcover Political Books\n",
      "Race and Civil Rights\n",
      "Religion Spirituality and Faith\n",
      "Science\n",
      "Sports\n",
      "Travel\n"
     ]
    }
   ],
   "source": [
    "bestseller = Bestseller_lists['results']\n",
    "for x in bestseller:\n",
    "    print(x['list_name'])"
   ]
  },
  {
   "cell_type": "code",
   "execution_count": 114,
   "metadata": {
    "collapsed": true
   },
   "outputs": [],
   "source": [
    "#Now looking at the best seller list on Mother's Day May 10 2009 and Mother's Day May 2010."
   ]
  },
  {
   "cell_type": "code",
   "execution_count": 115,
   "metadata": {
    "collapsed": true
   },
   "outputs": [],
   "source": [
    "response = requests.get('https://api.nytimes.com/svc/books/v3/lists/2009-05-10/hardcover-fiction.json?api-key=a39223b33e0e46fd82dbddcc4972ff91')\n",
    "books = response.json()"
   ]
  },
  {
   "cell_type": "code",
   "execution_count": 116,
   "metadata": {
    "collapsed": false
   },
   "outputs": [
    {
     "data": {
      "text/plain": [
       "dict_keys(['copyright', 'num_results', 'status', 'results', 'last_modified'])"
      ]
     },
     "execution_count": 116,
     "metadata": {},
     "output_type": "execute_result"
    }
   ],
   "source": [
    "books.keys()"
   ]
  },
  {
   "cell_type": "code",
   "execution_count": 117,
   "metadata": {
    "collapsed": false
   },
   "outputs": [
    {
     "data": {
      "text/plain": [
       "dict"
      ]
     },
     "execution_count": 117,
     "metadata": {},
     "output_type": "execute_result"
    }
   ],
   "source": [
    "type(books['results'])"
   ]
  },
  {
   "cell_type": "code",
   "execution_count": 118,
   "metadata": {
    "collapsed": false
   },
   "outputs": [
    {
     "name": "stdout",
     "output_type": "stream",
     "text": [
      "dict_keys(['next_published_date', 'books', 'list_name', 'previous_published_date', 'display_name', 'published_date_description', 'bestsellers_date', 'corrections', 'list_name_encoded', 'updated', 'published_date', 'normal_list_ends_at'])\n"
     ]
    }
   ],
   "source": [
    "print(books['results'].keys())"
   ]
  },
  {
   "cell_type": "code",
   "execution_count": 128,
   "metadata": {
    "collapsed": false
   },
   "outputs": [
    {
     "data": {
      "text/plain": [
       "dict"
      ]
     },
     "execution_count": 128,
     "metadata": {},
     "output_type": "execute_result"
    }
   ],
   "source": [
    "books_details = books['results']['books']\n",
    "type(books)"
   ]
  },
  {
   "cell_type": "code",
   "execution_count": 134,
   "metadata": {
    "collapsed": false
   },
   "outputs": [
    {
     "name": "stdout",
     "output_type": "stream",
     "text": [
      "The list of books topping the bestseller's list of Hardcore Fiction on Mother's Day 2009 was:\n",
      "FIRST FAMILY\n",
      "TEA TIME FOR THE TRADITIONALLY BUILT\n",
      "LOITERING WITH INTENT\n",
      "JUST TAKE MY HEART\n",
      "THE PERFECT POISON\n",
      "THE HOST\n",
      "LOOK AGAIN\n",
      "DEADLOCK\n",
      "LONG LOST\n",
      "TURN COAT\n",
      "THE ASSOCIATE\n",
      "HANDLE WITH CARE\n",
      "THE HELP\n",
      "THE GUERNSEY LITERARY AND POTATO PEEL PIE SOCIETY\n",
      "FATALLY FLAKY\n",
      "ARTHAS\n",
      "A RELIABLE WIFE\n",
      "BORDERLINE\n",
      "ONE SECOND AFTER\n",
      "BONEMAN'S DAUGHTERS\n"
     ]
    }
   ],
   "source": [
    "print(\"The list of books topping the bestseller's list of Hardcore Fiction on Mother's Day 2009 was:\")\n",
    "for title in books_details:\n",
    "    print(title['title'])\n",
    "    "
   ]
  },
  {
   "cell_type": "code",
   "execution_count": 140,
   "metadata": {
    "collapsed": true
   },
   "outputs": [],
   "source": [
    "response = requests.get('https://api.nytimes.com/svc/books/v3/lists/2010-05-09/hardcover-fiction.json?api-key=a39223b33e0e46fd82dbddcc4972ff91')\n",
    "books = response.json()"
   ]
  },
  {
   "cell_type": "code",
   "execution_count": 145,
   "metadata": {
    "collapsed": false
   },
   "outputs": [
    {
     "name": "stdout",
     "output_type": "stream",
     "text": [
      "The list of books topping the bestseller's list of Hardcore Fiction on Mother's Day 2010 was:\n",
      "SKIN TRADE\n",
      "MEDUSA\n",
      "THE SCARECROW\n",
      "SHANGHAI GIRLS\n",
      "MATTERS OF THE HEART\n",
      "GONE TOMORROW\n",
      "DEAD AND GONE\n",
      "THE 8TH CONFESSION\n",
      "THE STRAIN\n",
      "WICKED PREY\n",
      "THE HOST\n",
      "FIRST FAMILY\n",
      "CEMETERY DANCE\n",
      "UNDEAD AND UNWELCOME\n",
      "THE HELP\n",
      "PYGMY\n",
      "MY FATHER'S TEARS AND OTHER STORIES\n",
      "ROAD DOGS\n",
      "THE STORY SISTERS\n",
      "HEARTLESS\n"
     ]
    }
   ],
   "source": [
    "books_details_2010 = books['results']['books']\n",
    "print(\"The list of books topping the bestseller's list of Hardcore Fiction on Mother's Day 2010 was:\")\n",
    "for title in books_details_2010:\n",
    "    print(title['title'])"
   ]
  },
  {
   "cell_type": "code",
   "execution_count": 149,
   "metadata": {
    "collapsed": true
   },
   "outputs": [],
   "source": [
    "#And now for father's day 2009 and 2010:"
   ]
  },
  {
   "cell_type": "code",
   "execution_count": 177,
   "metadata": {
    "collapsed": true
   },
   "outputs": [],
   "source": [
    "response = requests.get('https://api.nytimes.com/svc/books/v3/lists/2010-06-21/hardcover-fiction.json?api-key=a39223b33e0e46fd82dbddcc4972ff91')\n",
    "books = response.json()"
   ]
  },
  {
   "cell_type": "code",
   "execution_count": 178,
   "metadata": {
    "collapsed": false
   },
   "outputs": [
    {
     "name": "stdout",
     "output_type": "stream",
     "text": [
      "The list of books topping the bestseller's list of Hardcore Fiction on fathers's Day 2009 was:\n",
      "THE GIRL WHO KICKED THE HORNET’S NEST\n",
      "THE LION\n",
      "THE PASSAGE\n",
      "THE HELP\n",
      "THE SPY\n",
      "DEAD IN THE FAMILY\n",
      "61 HOURS\n",
      "BULLET\n",
      "STORM PREY\n",
      "INNOCENT\n",
      "HEART OF THE MATTER\n",
      "THE BURNING WIRE\n",
      "THE 9TH JUDGMENT\n",
      "THE BOURNE OBJECTIVE\n",
      "DEATH ECHO\n",
      "BLOCKADE BILLY\n",
      "DELIVER US FROM EVIL\n",
      "THE PARTICULAR SADNESS OF LEMON CAKE\n",
      "MATTERHORN\n",
      "FEVER DREAM\n"
     ]
    }
   ],
   "source": [
    "books_details_2009_fathers = books['results']['books']\n",
    "print(\"The list of books topping the bestseller's list of Hardcore Fiction on fathers's Day 2009 was:\")\n",
    "for title in books_details_2009_fathers:\n",
    "    print(title['title'])"
   ]
  },
  {
   "cell_type": "code",
   "execution_count": 179,
   "metadata": {
    "collapsed": true
   },
   "outputs": [],
   "source": [
    "response = requests.get('https://api.nytimes.com/svc/books/v3/lists/2010-06-20/hardcover-fiction.json?api-key=a39223b33e0e46fd82dbddcc4972ff91')\n",
    "books = response.json()"
   ]
  },
  {
   "cell_type": "code",
   "execution_count": 180,
   "metadata": {
    "collapsed": false
   },
   "outputs": [
    {
     "name": "stdout",
     "output_type": "stream",
     "text": [
      "The list of books topping the bestseller's list of Hardcore Fiction on fathers's Day 2010 was:\n",
      "THE GIRL WHO KICKED THE HORNET’S NEST\n",
      "BULLET\n",
      "THE SPY\n",
      "THE HELP\n",
      "DEAD IN THE FAMILY\n",
      "61 HOURS\n",
      "THE BURNING WIRE\n",
      "STORM PREY\n",
      "THE BOURNE OBJECTIVE\n",
      "INNOCENT\n",
      "HEART OF THE MATTER\n",
      "THE 9TH JUDGMENT\n",
      "BLOCKADE BILLY\n",
      "ALLIES\n",
      "THE RULE OF NINE\n",
      "FEVER DREAM\n",
      "DELIVER US FROM EVIL\n",
      "MATTERHORN\n",
      "THE PARTICULAR SADNESS OF LEMON CAKE\n",
      "DANGEROUS\n"
     ]
    }
   ],
   "source": [
    "books_details_2010_fathers = books['results']['books']\n",
    "print(\"The list of books topping the bestseller's list of Hardcore Fiction on fathers's Day 2010 was:\")\n",
    "for title in books_details_2010_fathers:\n",
    "    print(title['title'])"
   ]
  },
  {
   "cell_type": "code",
   "execution_count": 181,
   "metadata": {
    "collapsed": false
   },
   "outputs": [],
   "source": [
    "#2) What are all the different book categories the NYT ranked in June 6, 2009? How about June 6, 2015?"
   ]
  },
  {
   "cell_type": "code",
   "execution_count": 186,
   "metadata": {
    "collapsed": false
   },
   "outputs": [],
   "source": [
    "response = requests.get('https://api.nytimes.com/svc/books/v3/lists/overview.json?api-key=a39223b33e0e46fd82dbddcc4972ff91&published_date=2009-06-06')\n",
    "categories = response.json()"
   ]
  },
  {
   "cell_type": "code",
   "execution_count": 198,
   "metadata": {
    "collapsed": false
   },
   "outputs": [
    {
     "data": {
      "text/plain": [
       "dict_keys(['copyright', 'num_results', 'status', 'results'])"
      ]
     },
     "execution_count": 198,
     "metadata": {},
     "output_type": "execute_result"
    }
   ],
   "source": [
    "categories.keys()"
   ]
  },
  {
   "cell_type": "code",
   "execution_count": 201,
   "metadata": {
    "collapsed": false
   },
   "outputs": [
    {
     "data": {
      "text/plain": [
       "dict_keys(['bestsellers_date', 'next_published_date', 'previous_published_date', 'lists', 'published_date_description', 'published_date'])"
      ]
     },
     "execution_count": 201,
     "metadata": {},
     "output_type": "execute_result"
    }
   ],
   "source": [
    "categories['results'].keys()"
   ]
  },
  {
   "cell_type": "code",
   "execution_count": 192,
   "metadata": {
    "collapsed": false
   },
   "outputs": [
    {
     "data": {
      "text/plain": [
       "list"
      ]
     },
     "execution_count": 192,
     "metadata": {},
     "output_type": "execute_result"
    }
   ],
   "source": [
    "Lists = categories['results']['lists']\n",
    "type(Lists)"
   ]
  },
  {
   "cell_type": "code",
   "execution_count": 205,
   "metadata": {
    "collapsed": false
   },
   "outputs": [
    {
     "name": "stdout",
     "output_type": "stream",
     "text": [
      "These were the NYTimes book categories on 6 June 2009:\n",
      "Hardcover Fiction\n",
      "Hardcover Nonfiction\n",
      "Trade Fiction Paperback\n",
      "Mass Market Paperback\n",
      "Paperback Nonfiction\n",
      "Hardcover Advice\n",
      "Paperback Advice\n",
      "Chapter Books\n",
      "Paperback Books\n",
      "Picture Books\n",
      "Series Books\n",
      "Hardcover Graphic Books\n",
      "Paperback Graphic Books\n",
      "Manga\n"
     ]
    }
   ],
   "source": [
    "print(\"These were the NYTimes book categories on 6 June 2009:\")\n",
    "for list in Lists:\n",
    "    print(list['list_name'])"
   ]
  },
  {
   "cell_type": "code",
   "execution_count": 206,
   "metadata": {
    "collapsed": true
   },
   "outputs": [],
   "source": [
    "response = requests.get('https://api.nytimes.com/svc/books/v3/lists/overview.json?api-key=a39223b33e0e46fd82dbddcc4972ff91&published_date=2015-06-06')\n",
    "categories = response.json()"
   ]
  },
  {
   "cell_type": "code",
   "execution_count": 207,
   "metadata": {
    "collapsed": false
   },
   "outputs": [
    {
     "name": "stdout",
     "output_type": "stream",
     "text": [
      "And these were the NYTimes book categories on 6 June 2015:\n",
      "Combined Print and E-Book Fiction\n",
      "Combined Print and E-Book Nonfiction\n",
      "Hardcover Fiction\n",
      "Hardcover Nonfiction\n",
      "Trade Fiction Paperback\n",
      "Mass Market Paperback\n",
      "Paperback Nonfiction\n",
      "E-Book Fiction\n",
      "E-Book Nonfiction\n",
      "Advice How-To and Miscellaneous\n",
      "Childrens Middle Grade\n",
      "Picture Books\n",
      "Series Books\n",
      "Young Adult\n",
      "Hardcover Graphic Books\n",
      "Paperback Graphic Books\n",
      "Manga\n",
      "Animals\n",
      "Business Books\n",
      "Celebrities\n",
      "Crime and Punishment\n",
      "Culture\n",
      "Education\n",
      "Espionage\n",
      "Expeditions Disasters and Adventures\n",
      "Fashion Manners and Customs\n",
      "Food and Fitness\n",
      "Games and Activities\n",
      "Health\n",
      "Humor\n",
      "Indigenous Americans\n",
      "Relationships\n",
      "Family\n",
      "Hardcover Political Books\n",
      "Race and Civil Rights\n",
      "Religion Spirituality and Faith\n",
      "Science\n",
      "Sports\n",
      "Travel\n"
     ]
    }
   ],
   "source": [
    "Lists = categories['results']['lists']\n",
    "print(\"And these were the NYTimes book categories on 6 June 2015:\")\n",
    "for list in Lists:\n",
    "    print(list['list_name'])"
   ]
  },
  {
   "cell_type": "code",
   "execution_count": null,
   "metadata": {
    "collapsed": true
   },
   "outputs": [],
   "source": [
    "#3 Muammar Gaddafi's name can be transliterated many many ways. His last name is often a source of a million and one versions - Gadafi, Gaddafi, Kadafi, and Qaddafi to name a few. How many times has the New York Times referred to him by each of those names?"
   ]
  },
  {
   "cell_type": "code",
   "execution_count": 219,
   "metadata": {
    "collapsed": true
   },
   "outputs": [],
   "source": [
    "responseQaddafi = requests.get('http://api.nytimes.com/svc/search/v2/articlesearch.json?q=Qaddafi&api-key=a39223b33e0e46fd82dbddcc4972ff91')\n",
    "responseKadafi = requests.get('http://api.nytimes.com/svc/search/v2/articlesearch.json?q=Kadafi&api-key=a39223b33e0e46fd82dbddcc4972ff91')\n",
    "responseGaddafi = requests.get('http://api.nytimes.com/svc/search/v2/articlesearch.json?q=Gaddafi&api-key=a39223b33e0e46fd82dbddcc4972ff91')\n",
    "responseGadafi = requests.get('http://api.nytimes.com/svc/search/v2/articlesearch.json?q=Gadafi&api-key=a39223b33e0e46fd82dbddcc4972ff91')\n",
    "Qaddafi = responseQaddafi.json()\n",
    "Kadafi = responseKadafi.json()\n",
    "Gaddafi = responseGaddafi.json()\n",
    "Gadafi = responseGadafi.json()"
   ]
  },
  {
   "cell_type": "code",
   "execution_count": 220,
   "metadata": {
    "collapsed": false
   },
   "outputs": [
    {
     "data": {
      "text/plain": [
       "dict_keys(['copyright', 'status', 'response'])"
      ]
     },
     "execution_count": 220,
     "metadata": {},
     "output_type": "execute_result"
    }
   ],
   "source": [
    "Qaddafi.keys()"
   ]
  },
  {
   "cell_type": "code",
   "execution_count": 221,
   "metadata": {
    "collapsed": false
   },
   "outputs": [
    {
     "data": {
      "text/plain": [
       "dict"
      ]
     },
     "execution_count": 221,
     "metadata": {},
     "output_type": "execute_result"
    }
   ],
   "source": [
    "type(Qaddafi['response']['meta'])"
   ]
  },
  {
   "cell_type": "code",
   "execution_count": 222,
   "metadata": {
    "collapsed": false
   },
   "outputs": [
    {
     "data": {
      "text/plain": [
       "dict_keys(['time', 'hits', 'offset'])"
      ]
     },
     "execution_count": 222,
     "metadata": {},
     "output_type": "execute_result"
    }
   ],
   "source": [
    "Qaddafi['response']['meta'].keys()"
   ]
  },
  {
   "cell_type": "code",
   "execution_count": null,
   "metadata": {
    "collapsed": true
   },
   "outputs": [],
   "source": [
    "#Without adding Libya to the search"
   ]
  },
  {
   "cell_type": "code",
   "execution_count": 226,
   "metadata": {
    "collapsed": false
   },
   "outputs": [
    {
     "name": "stdout",
     "output_type": "stream",
     "text": [
      "The New York Times used the Qaddafi spelling 6929 times.\n",
      "The New York Times used the Kadafi spelling 4 times.\n",
      "The New York Times used the Gaddafi spelling 1153 times.\n",
      "The New York Times used the Gadafi spelling 0 times.\n"
     ]
    }
   ],
   "source": [
    "print(\"The New York Times used the Qaddafi spelling\", Qaddafi['response']['meta']['hits'], \"times.\")\n",
    "print(\"The New York Times used the Kadafi spelling\", Kadafi['response']['meta']['hits'], \"times.\")\n",
    "print(\"The New York Times used the Gaddafi spelling\", Gaddafi['response']['meta']['hits'], \"times.\")\n",
    "print(\"The New York Times used the Gadafi spelling\", Gadafi['response']['meta']['hits'], \"times.\")"
   ]
  },
  {
   "cell_type": "code",
   "execution_count": null,
   "metadata": {
    "collapsed": true
   },
   "outputs": [],
   "source": [
    "#Added Libya to the search "
   ]
  },
  {
   "cell_type": "code",
   "execution_count": 234,
   "metadata": {
    "collapsed": true
   },
   "outputs": [],
   "source": [
    "responseQaddafi = requests.get('http://api.nytimes.com/svc/search/v2/articlesearch.json?q=Qaddafi&fq=Libya&api-key=a39223b33e0e46fd82dbddcc4972ff91')\n",
    "responseKadafi = requests.get('http://api.nytimes.com/svc/search/v2/articlesearch.json?q=Kadafi&fq=Libya&api-key=a39223b33e0e46fd82dbddcc4972ff91')\n",
    "responseGaddafi = requests.get('http://api.nytimes.com/svc/search/v2/articlesearch.json?q=Gaddafi&fq=Libya&api-key=a39223b33e0e46fd82dbddcc4972ff91')\n",
    "responseGadafi = requests.get('http://api.nytimes.com/svc/search/v2/articlesearch.json?q=Gadafi&fq=Libya&api-key=a39223b33e0e46fd82dbddcc4972ff91')\n",
    "Qaddafi = responseQaddafi.json()\n",
    "Kadafi = responseKadafi.json()\n",
    "Gaddafi = responseGaddafi.json()\n",
    "Gadafi = responseGadafi.json()"
   ]
  },
  {
   "cell_type": "code",
   "execution_count": 235,
   "metadata": {
    "collapsed": false
   },
   "outputs": [
    {
     "name": "stdout",
     "output_type": "stream",
     "text": [
      "The New York Times used the Qaddafi spelling 5251 times.\n",
      "The New York Times used the Kadafi spelling 3 times.\n",
      "The New York Times used the Gaddafi spelling 1014 times.\n",
      "The New York Times used the Gadafi spelling 0 times.\n"
     ]
    }
   ],
   "source": [
    "print(\"The New York Times used the Qaddafi spelling\", Qaddafi['response']['meta']['hits'], \"times.\")\n",
    "print(\"The New York Times used the Kadafi spelling\", Kadafi['response']['meta']['hits'], \"times.\")\n",
    "print(\"The New York Times used the Gaddafi spelling\", Gaddafi['response']['meta']['hits'], \"times.\")\n",
    "print(\"The New York Times used the Gadafi spelling\", Gadafi['response']['meta']['hits'], \"times.\")"
   ]
  },
  {
   "cell_type": "code",
   "execution_count": null,
   "metadata": {
    "collapsed": true
   },
   "outputs": [],
   "source": [
    "#4) What's the title of the first story to mention the word 'hipster' in 1995? What's the first paragraph?"
   ]
  },
  {
   "cell_type": "code",
   "execution_count": 239,
   "metadata": {
    "collapsed": false
   },
   "outputs": [
    {
     "data": {
      "text/plain": [
       "dict_keys(['copyright', 'status', 'response'])"
      ]
     },
     "execution_count": 239,
     "metadata": {},
     "output_type": "execute_result"
    }
   ],
   "source": [
    "hipster_response = requests.get('http://api.nytimes.com/svc/search/v2/articlesearch.json?q=hipster&begin_date=19950101&api-key=a39223b33e0e46fd82dbddcc4972ff91')\n",
    "Hipster = hipster_response.json()\n",
    "\n",
    "Hipster.keys()\n"
   ]
  },
  {
   "cell_type": "code",
   "execution_count": 241,
   "metadata": {
    "collapsed": false
   },
   "outputs": [
    {
     "data": {
      "text/plain": [
       "dict_keys(['meta', 'docs'])"
      ]
     },
     "execution_count": 241,
     "metadata": {},
     "output_type": "execute_result"
    }
   ],
   "source": [
    "Hipster['response'].keys()"
   ]
  },
  {
   "cell_type": "code",
   "execution_count": 244,
   "metadata": {
    "collapsed": false
   },
   "outputs": [],
   "source": [
    "Hipster_Docs = (Hipster['response']['docs'])"
   ]
  },
  {
   "cell_type": "code",
   "execution_count": 245,
   "metadata": {
    "collapsed": false
   },
   "outputs": [
    {
     "name": "stdout",
     "output_type": "stream",
     "text": [
      "{'snippet': 'Earlier this year, my colleague Claire Cain Miller and I reported on the fierce recruiting wars among tech companies as they competed to hire and retain talented software developers and engineers. We wrote about some of the perks that start-ups were...', 'pub_date': '2011-06-06T00:00:00Z', 'news_desk': 'Business/Financial Desk', 'web_url': 'http://query.nytimes.com/gst/fullpage.html?res=9802E6D9103DF935A35755C0A9679D8B63', 'type_of_material': 'News', 'word_count': 398, 'blog': [], 'byline': {'person': [{'organization': '', 'role': 'reported', 'firstname': 'Jenna', 'rank': 1, 'lastname': 'WORTHAM'}], 'original': 'By JENNA WORTHAM'}, 'subsection_name': None, 'multimedia': [], 'abstract': \"Bits blog; social network start-up Hipster is offering $10,000 and year's supply of beer for new employees; photo (S)\", 'section_name': 'Business', 'document_type': 'article', 'source': 'The New York Times', '_id': '4fd2b95f8eb7c8105d8afb5f', 'headline': {'kicker': 'BITS', 'main': 'A Start-Up Offers $10,000, and Beer'}, 'print_page': '11', 'keywords': [{'name': 'organizations', 'value': 'HIPSTER'}, {'name': 'subject', 'value': 'SOCIAL NETWORKING (INTERNET)'}, {'name': 'subject', 'value': 'HIRING AND PROMOTION'}, {'name': 'subject', 'value': 'ADVERTISING AND MARKETING'}], 'slideshow_credits': None, 'lead_paragraph': \"Earlier this year, my colleague Claire Cain Miller and I reported on the fierce recruiting wars among tech companies as they competed to hire and retain talented software developers and engineers. We wrote about some of the perks that start-ups were offering to potential employees to convince them to join their companies, including free meals, haircuts and even iPads. Now, Hipster, a start-up in San Francisco that lets people post queries and answers to others in their geographic area using the Web and a mobile phone, is trying to attract fresh faces to its company with a particularly attention-getting offer -- $10,000 and a year's supply of beer. The company is also offering a bicycle, pair of oversized glasses, skinny jeans, a bowtie, mustache-grooming services and a pair of boots. The prize was designed to resonate with the company's name. The beer, of course, is PBR (Pabst Blue Ribbon, for those who are not hip).\"}\n"
     ]
    }
   ],
   "source": [
    "print(Hipster_Docs[0])"
   ]
  },
  {
   "cell_type": "code",
   "execution_count": 256,
   "metadata": {
    "collapsed": false
   },
   "outputs": [
    {
     "name": "stdout",
     "output_type": "stream",
     "text": [
      "['2011-06-06T00:00:00Z', '2016-05-10T13:58:55Z', '2003-02-09T00:00:00Z', '2013-09-21T00:00:00Z', '2003-11-30T00:00:00Z', '2012-05-17T22:00:23Z', '2010-11-14T00:00:00Z', '2010-08-05T14:30:39Z', '2000-02-13T00:00:00Z', '2003-03-23T00:00:00Z']\n"
     ]
    }
   ],
   "source": [
    "date_list = []\n",
    "for date in Hipster_Docs:\n",
    "    date_list.append(date['pub_date'])\n",
    "print(date_list)"
   ]
  },
  {
   "cell_type": "code",
   "execution_count": 252,
   "metadata": {
    "collapsed": true
   },
   "outputs": [],
   "source": [
    "date_list.sort()"
   ]
  },
  {
   "cell_type": "code",
   "execution_count": 254,
   "metadata": {
    "collapsed": false
   },
   "outputs": [
    {
     "name": "stdout",
     "output_type": "stream",
     "text": [
      "2000-02-13T00:00:00Z\n"
     ]
    }
   ],
   "source": [
    "print(date_list[0])"
   ]
  },
  {
   "cell_type": "code",
   "execution_count": null,
   "metadata": {
    "collapsed": true
   },
   "outputs": [],
   "source": [
    "#5) How many times was gay marriage mentioned in the NYT between 1950-1959, 1960-1969, 1970-1978, 1980-1989, 1990-1999, 2000-2009, and 2010-present?"
   ]
  },
  {
   "cell_type": "code",
   "execution_count": 264,
   "metadata": {
    "collapsed": false
   },
   "outputs": [],
   "source": [
    "r50s = requests.get('http://api.nytimes.com/svc/search/v2/articlesearch.json?q=%22gay%20marriage%22&begin_date=19500101&end_date=19591231&api-key=a39223b33e0e46fd82dbddcc4972ff91')\n",
    "r60s = requests.get('http://api.nytimes.com/svc/search/v2/articlesearch.json?q=%22gay%20marriage%22&begin_date=19600101&end_date=19691231&api-key=a39223b33e0e46fd82dbddcc4972ff91')\n",
    "r70s = requests.get('http://api.nytimes.com/svc/search/v2/articlesearch.json?q=%22gay%20marriage%22&begin_date=19700101&end_date=19791231&api-key=a39223b33e0e46fd82dbddcc4972ff91')\n",
    "r80s = requests.get('http://api.nytimes.com/svc/search/v2/articlesearch.json?q=%22gay%20marriage%22&begin_date=19800101&end_date=19891231&api-key=a39223b33e0e46fd82dbddcc4972ff91')\n",
    "r90s = requests.get('http://api.nytimes.com/svc/search/v2/articlesearch.json?q=%22gay%20marriage%22&begin_date=19900101&end_date=19991231&api-key=a39223b33e0e46fd82dbddcc4972ff91')            \n",
    "r00s = requests.get('http://api.nytimes.com/svc/search/v2/articlesearch.json?q=%22gay%20marriage%22&begin_date=20000101&end_date=20091231&api-key=a39223b33e0e46fd82dbddcc4972ff91')\n",
    "r10s = requests.get('http://api.nytimes.com/svc/search/v2/articlesearch.json?q=%22gay%20marriage%22&begin_date=20100101&end_date=20160707&api-key=a39223b33e0e46fd82dbddcc4972ff91')\n",
    "    \n",
    "re50s = r50s.json()\n",
    "re60s = r60s.json()\n",
    "re70s = r70s.json()\n",
    "re80s = r80s.json()\n",
    "re90s = r90s.json()\n",
    "re00s = r00s.json()\n",
    "re10s = r10s.json()"
   ]
  },
  {
   "cell_type": "code",
   "execution_count": 270,
   "metadata": {
    "collapsed": false
   },
   "outputs": [
    {
     "name": "stdout",
     "output_type": "stream",
     "text": [
      "1950 - 1959: 0\n",
      "1960 - 1969: 0\n",
      "1970 - 1979: 0\n",
      "1980 - 1989: 3\n",
      "1990 - 1999: 137\n",
      "2000 - 2009: 2510\n",
      "2010 - 2016: 4748\n"
     ]
    }
   ],
   "source": [
    "print(\"1950 - 1959:\", re50s['response']['meta']['hits'])\n",
    "print(\"1960 - 1969:\", re60s['response']['meta']['hits'])\n",
    "print(\"1970 - 1979:\", re70s['response']['meta']['hits'])\n",
    "print(\"1980 - 1989:\", re80s['response']['meta']['hits'])\n",
    "print(\"1990 - 1999:\", re90s['response']['meta']['hits'])\n",
    "print(\"2000 - 2009:\", re00s['response']['meta']['hits'])\n",
    "print(\"2010 - 2016:\", re10s['response']['meta']['hits'])"
   ]
  },
  {
   "cell_type": "code",
   "execution_count": null,
   "metadata": {
    "collapsed": true
   },
   "outputs": [],
   "source": [
    "#6) What section talks about motorcycles the most? **Tip: You'll be using facets**"
   ]
  },
  {
   "cell_type": "code",
   "execution_count": 280,
   "metadata": {
    "collapsed": false
   },
   "outputs": [
    {
     "data": {
      "text/plain": [
       "dict_keys(['copyright', 'status', 'response'])"
      ]
     },
     "execution_count": 280,
     "metadata": {},
     "output_type": "execute_result"
    }
   ],
   "source": [
    "#Searching for all the section names\n",
    "motorcyle_facets = requests.get('http://api.nytimes.com/svc/search/v2/articlesearch.json?q=motorcycles&facet_field=section_name&api-key=a39223b33e0e46fd82dbddcc4972ff91')\n",
    "motorcycles = motorcyle_facets.json()\n",
    "\n",
    "motorcycles.keys()"
   ]
  },
  {
   "cell_type": "code",
   "execution_count": 281,
   "metadata": {
    "collapsed": false
   },
   "outputs": [
    {
     "data": {
      "text/plain": [
       "dict_keys(['facets', 'meta', 'docs'])"
      ]
     },
     "execution_count": 281,
     "metadata": {},
     "output_type": "execute_result"
    }
   ],
   "source": [
    "motorcycles['response'].keys()"
   ]
  },
  {
   "cell_type": "code",
   "execution_count": 282,
   "metadata": {
    "collapsed": false
   },
   "outputs": [
    {
     "data": {
      "text/plain": [
       "dict"
      ]
     },
     "execution_count": 282,
     "metadata": {},
     "output_type": "execute_result"
    }
   ],
   "source": [
    "type(motorcycles['response']['meta'])"
   ]
  },
  {
   "cell_type": "code",
   "execution_count": 283,
   "metadata": {
    "collapsed": false
   },
   "outputs": [
    {
     "name": "stdout",
     "output_type": "stream",
     "text": [
      "{'time': 70, 'hits': 10581, 'offset': 0}\n"
     ]
    }
   ],
   "source": [
    "print(motorcycles['response']['meta'])"
   ]
  },
  {
   "cell_type": "code",
   "execution_count": 284,
   "metadata": {
    "collapsed": false
   },
   "outputs": [
    {
     "name": "stdout",
     "output_type": "stream",
     "text": [
      "{'section_name': {'terms': [{'term': 'World', 'count': 1032}, {'term': 'New York and Region', 'count': 574}, {'term': 'U.S.', 'count': 474}, {'term': 'Automobiles', 'count': 367}, {'term': 'Business', 'count': 322}]}}\n"
     ]
    }
   ],
   "source": [
    "print(motorcycles['response']['facets'])"
   ]
  },
  {
   "cell_type": "code",
   "execution_count": 285,
   "metadata": {
    "collapsed": false
   },
   "outputs": [
    {
     "data": {
      "text/plain": [
       "dict_keys(['section_name'])"
      ]
     },
     "execution_count": 285,
     "metadata": {},
     "output_type": "execute_result"
    }
   ],
   "source": [
    "motorcycles['response']['facets'].keys()"
   ]
  },
  {
   "cell_type": "code",
   "execution_count": 286,
   "metadata": {
    "collapsed": false
   },
   "outputs": [
    {
     "name": "stdout",
     "output_type": "stream",
     "text": [
      "{'terms': [{'term': 'World', 'count': 1032}, {'term': 'New York and Region', 'count': 574}, {'term': 'U.S.', 'count': 474}, {'term': 'Automobiles', 'count': 367}, {'term': 'Business', 'count': 322}]}\n"
     ]
    }
   ],
   "source": [
    "print(motorcycles['response']['facets']['section_name'])"
   ]
  },
  {
   "cell_type": "code",
   "execution_count": 287,
   "metadata": {
    "collapsed": false
   },
   "outputs": [
    {
     "name": "stdout",
     "output_type": "stream",
     "text": [
      "[{'term': 'World', 'count': 1032}, {'term': 'New York and Region', 'count': 574}, {'term': 'U.S.', 'count': 474}, {'term': 'Automobiles', 'count': 367}, {'term': 'Business', 'count': 322}]\n"
     ]
    }
   ],
   "source": [
    "print(motorcycles['response']['facets']['section_name']['terms'])"
   ]
  },
  {
   "cell_type": "code",
   "execution_count": 291,
   "metadata": {
    "collapsed": false
   },
   "outputs": [
    {
     "name": "stdout",
     "output_type": "stream",
     "text": [
      "World 1032\n",
      "New York and Region 574\n",
      "U.S. 474\n",
      "Automobiles 367\n",
      "Business 322\n"
     ]
    }
   ],
   "source": [
    "Sections_count = motorcycles['response']['facets']['section_name']['terms']\n",
    "\n",
    "for count in Sections_count:\n",
    "    print(count['term'], count['count'])"
   ]
  },
  {
   "cell_type": "code",
   "execution_count": null,
   "metadata": {
    "collapsed": true
   },
   "outputs": [],
   "source": []
  }
 ],
 "metadata": {
  "kernelspec": {
   "display_name": "Python 3",
   "language": "python",
   "name": "python3"
  },
  "language_info": {
   "codemirror_mode": {
    "name": "ipython",
    "version": 3
   },
   "file_extension": ".py",
   "mimetype": "text/x-python",
   "name": "python",
   "nbconvert_exporter": "python",
   "pygments_lexer": "ipython3",
   "version": "3.5.1"
  }
 },
 "nbformat": 4,
 "nbformat_minor": 0
}
