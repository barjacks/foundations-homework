{
 "cells": [
  {
   "cell_type": "markdown",
   "metadata": {},
   "source": [
    "Graded = 8/8"
   ]
  },
  {
   "cell_type": "code",
   "execution_count": 55,
   "metadata": {
    "collapsed": false
   },
   "outputs": [],
   "source": [
    "#1) What books topped the Hardcover Fiction NYT best-sellers list on \n",
    "#Mother's Day in 2009 and 2010? How about Father's Day?\n",
    "\n",
    "#Establishing the name of bestseller lists"
   ]
  },
  {
   "cell_type": "code",
   "execution_count": 56,
   "metadata": {
    "collapsed": true
   },
   "outputs": [],
   "source": [
    "import requests"
   ]
  },
  {
   "cell_type": "code",
   "execution_count": 57,
   "metadata": {
    "collapsed": false
   },
   "outputs": [],
   "source": [
    "response = requests.get('https://api.nytimes.com/svc/books/v3/lists/names.json?api-key=71621eb479f045bf8bee783b6943fdd4')\n",
    "Bestseller_lists = response.json()"
   ]
  },
  {
   "cell_type": "code",
   "execution_count": 58,
   "metadata": {
    "collapsed": false
   },
   "outputs": [
    {
     "data": {
      "text/plain": [
       "dict_keys(['status', 'num_results', 'copyright', 'results'])"
      ]
     },
     "execution_count": 58,
     "metadata": {},
     "output_type": "execute_result"
    }
   ],
   "source": [
    "Bestseller_lists.keys()"
   ]
  },
  {
   "cell_type": "code",
   "execution_count": 59,
   "metadata": {
    "collapsed": false
   },
   "outputs": [
    {
     "data": {
      "text/plain": [
       "list"
      ]
     },
     "execution_count": 59,
     "metadata": {},
     "output_type": "execute_result"
    }
   ],
   "source": [
    "type(Bestseller_lists['results'])"
   ]
  },
  {
   "cell_type": "code",
   "execution_count": 60,
   "metadata": {
    "collapsed": false
   },
   "outputs": [
    {
     "name": "stdout",
     "output_type": "stream",
     "text": [
      "Combined Print and E-Book Fiction\n",
      "Combined Print and E-Book Nonfiction\n",
      "Hardcover Fiction\n",
      "Hardcover Nonfiction\n",
      "Trade Fiction Paperback\n",
      "Mass Market Paperback\n",
      "Paperback Nonfiction\n",
      "E-Book Fiction\n",
      "E-Book Nonfiction\n",
      "Hardcover Advice\n",
      "Paperback Advice\n",
      "Advice How-To and Miscellaneous\n",
      "Chapter Books\n",
      "Childrens Middle Grade\n",
      "Childrens Middle Grade E-Book\n",
      "Childrens Middle Grade Hardcover\n",
      "Childrens Middle Grade Paperback\n",
      "Paperback Books\n",
      "Picture Books\n",
      "Series Books\n",
      "Young Adult\n",
      "Young Adult E-Book\n",
      "Young Adult Hardcover\n",
      "Young Adult Paperback\n",
      "Hardcover Graphic Books\n",
      "Paperback Graphic Books\n",
      "Manga\n",
      "Combined Print Fiction\n",
      "Combined Print Nonfiction\n",
      "Animals\n",
      "Business Books\n",
      "Celebrities\n",
      "Crime and Punishment\n",
      "Culture\n",
      "Education\n",
      "Espionage\n",
      "Expeditions Disasters and Adventures\n",
      "Fashion Manners and Customs\n",
      "Food and Fitness\n",
      "Games and Activities\n",
      "Hardcover Business Books\n",
      "Health\n",
      "Humor\n",
      "Indigenous Americans\n",
      "Relationships\n",
      "Paperback Business Books\n",
      "Family\n",
      "Hardcover Political Books\n",
      "Race and Civil Rights\n",
      "Religion Spirituality and Faith\n",
      "Science\n",
      "Sports\n",
      "Travel\n"
     ]
    }
   ],
   "source": [
    "bestseller = Bestseller_lists['results']\n",
    "for x in bestseller:\n",
    "    print(x['list_name'])"
   ]
  },
  {
   "cell_type": "code",
   "execution_count": 61,
   "metadata": {
    "collapsed": true
   },
   "outputs": [],
   "source": [
    "#Now looking at the best seller list on Mother's Day May 10 2009 and Mother's Day May 2010."
   ]
  },
  {
   "cell_type": "code",
   "execution_count": 62,
   "metadata": {
    "collapsed": true
   },
   "outputs": [],
   "source": [
    "response = requests.get('https://api.nytimes.com/svc/books/v3/lists/2009-05-10/hardcover-fiction.json?api-key=a39223b33e0e46fd82dbddcc4972ff91')\n",
    "books = response.json()"
   ]
  },
  {
   "cell_type": "code",
   "execution_count": 63,
   "metadata": {
    "collapsed": false
   },
   "outputs": [
    {
     "data": {
      "text/plain": [
       "dict_keys(['status', 'results', 'num_results', 'copyright', 'last_modified'])"
      ]
     },
     "execution_count": 63,
     "metadata": {},
     "output_type": "execute_result"
    }
   ],
   "source": [
    "books.keys()"
   ]
  },
  {
   "cell_type": "code",
   "execution_count": 64,
   "metadata": {
    "collapsed": false
   },
   "outputs": [
    {
     "data": {
      "text/plain": [
       "dict"
      ]
     },
     "execution_count": 64,
     "metadata": {},
     "output_type": "execute_result"
    }
   ],
   "source": [
    "type(books['results'])"
   ]
  },
  {
   "cell_type": "code",
   "execution_count": 65,
   "metadata": {
    "collapsed": false
   },
   "outputs": [
    {
     "name": "stdout",
     "output_type": "stream",
     "text": [
      "dict_keys(['previous_published_date', 'published_date', 'bestsellers_date', 'books', 'next_published_date', 'published_date_description', 'list_name_encoded', 'corrections', 'display_name', 'normal_list_ends_at', 'updated', 'list_name'])\n"
     ]
    }
   ],
   "source": [
    "print(books['results'].keys())"
   ]
  },
  {
   "cell_type": "code",
   "execution_count": 66,
   "metadata": {
    "collapsed": false
   },
   "outputs": [
    {
     "data": {
      "text/plain": [
       "dict"
      ]
     },
     "execution_count": 66,
     "metadata": {},
     "output_type": "execute_result"
    }
   ],
   "source": [
    "books_details = books['results']['books']\n",
    "type(books)"
   ]
  },
  {
   "cell_type": "code",
   "execution_count": 67,
   "metadata": {
    "collapsed": false
   },
   "outputs": [
    {
     "name": "stdout",
     "output_type": "stream",
     "text": [
      "The list of books topping the bestseller's list of Hardcore Fiction on Mother's Day 2009 was:\n",
      "FIRST FAMILY\n",
      "TEA TIME FOR THE TRADITIONALLY BUILT\n",
      "LOITERING WITH INTENT\n",
      "JUST TAKE MY HEART\n",
      "THE PERFECT POISON\n",
      "THE HOST\n",
      "LOOK AGAIN\n",
      "DEADLOCK\n",
      "LONG LOST\n",
      "TURN COAT\n",
      "THE ASSOCIATE\n",
      "HANDLE WITH CARE\n",
      "THE HELP\n",
      "THE GUERNSEY LITERARY AND POTATO PEEL PIE SOCIETY\n",
      "FATALLY FLAKY\n",
      "ARTHAS\n",
      "A RELIABLE WIFE\n",
      "BORDERLINE\n",
      "ONE SECOND AFTER\n",
      "BONEMAN'S DAUGHTERS\n"
     ]
    }
   ],
   "source": [
    "print(\"The list of books topping the bestseller's list of Hardcore Fiction on Mother's Day 2009 was:\")\n",
    "for title in books_details:\n",
    "    print(title['title'])\n",
    "    "
   ]
  },
  {
   "cell_type": "code",
   "execution_count": 68,
   "metadata": {
    "collapsed": true
   },
   "outputs": [],
   "source": [
    "response = requests.get('https://api.nytimes.com/svc/books/v3/lists/2010-05-09/hardcover-fiction.json?api-key=a39223b33e0e46fd82dbddcc4972ff91')\n",
    "books = response.json()"
   ]
  },
  {
   "cell_type": "code",
   "execution_count": 69,
   "metadata": {
    "collapsed": false
   },
   "outputs": [
    {
     "name": "stdout",
     "output_type": "stream",
     "text": [
      "The list of books topping the bestseller's list of Hardcore Fiction on Mother's Day 2010 was:\n",
      "DELIVER US FROM EVIL\n",
      "THE HELP\n",
      "THE DOUBLE COMFORT SAFARI CLUB\n",
      "THIS BODY OF DEATH\n",
      "LUCID INTERVALS\n",
      "THE SHADOW OF YOUR SMILE\n",
      "BURNING LAMP\n",
      "EVERY LAST ONE\n",
      "EIGHT DAYS TO LIVE\n",
      "CHANGES\n",
      "CAUGHT\n",
      "HOUSE RULES\n",
      "MATTERHORN\n",
      "THE WALK\n",
      "DECEPTION\n",
      "BEATRICE AND VIRGIL\n",
      "WRECKED\n",
      "SILVER BORNE\n",
      "ABRAHAM LINCOLN: VAMPIRE HUNTER\n",
      "A RIVER IN THE SKY\n"
     ]
    }
   ],
   "source": [
    "books_details_2010 = books['results']['books']\n",
    "print(\"The list of books topping the bestseller's list of Hardcore Fiction on Mother's Day 2010 was:\")\n",
    "for title in books_details_2010:\n",
    "    print(title['title'])"
   ]
  },
  {
   "cell_type": "code",
   "execution_count": 70,
   "metadata": {
    "collapsed": true
   },
   "outputs": [],
   "source": [
    "#And now for father's day 2009 and 2010:"
   ]
  },
  {
   "cell_type": "code",
   "execution_count": 71,
   "metadata": {
    "collapsed": true
   },
   "outputs": [],
   "source": [
    "response = requests.get('https://api.nytimes.com/svc/books/v3/lists/2010-06-21/hardcover-fiction.json?api-key=a39223b33e0e46fd82dbddcc4972ff91')\n",
    "books = response.json()"
   ]
  },
  {
   "cell_type": "code",
   "execution_count": 72,
   "metadata": {
    "collapsed": false
   },
   "outputs": [
    {
     "name": "stdout",
     "output_type": "stream",
     "text": [
      "The list of books topping the bestseller's list of Hardcore Fiction on fathers's Day 2009 was:\n",
      "THE GIRL WHO KICKED THE HORNET’S NEST\n",
      "THE LION\n",
      "THE PASSAGE\n",
      "THE HELP\n",
      "THE SPY\n",
      "DEAD IN THE FAMILY\n",
      "61 HOURS\n",
      "BULLET\n",
      "STORM PREY\n",
      "INNOCENT\n",
      "HEART OF THE MATTER\n",
      "THE BURNING WIRE\n",
      "THE 9TH JUDGMENT\n",
      "THE BOURNE OBJECTIVE\n",
      "DEATH ECHO\n",
      "BLOCKADE BILLY\n",
      "DELIVER US FROM EVIL\n",
      "THE PARTICULAR SADNESS OF LEMON CAKE\n",
      "MATTERHORN\n",
      "FEVER DREAM\n"
     ]
    }
   ],
   "source": [
    "books_details_2009_fathers = books['results']['books']\n",
    "print(\"The list of books topping the bestseller's list of Hardcore Fiction on fathers's Day 2009 was:\")\n",
    "for title in books_details_2009_fathers:\n",
    "    print(title['title'])"
   ]
  },
  {
   "cell_type": "code",
   "execution_count": 73,
   "metadata": {
    "collapsed": true
   },
   "outputs": [],
   "source": [
    "response = requests.get('https://api.nytimes.com/svc/books/v3/lists/2010-06-20/hardcover-fiction.json?api-key=a39223b33e0e46fd82dbddcc4972ff91')\n",
    "books = response.json()"
   ]
  },
  {
   "cell_type": "code",
   "execution_count": 74,
   "metadata": {
    "collapsed": false
   },
   "outputs": [
    {
     "name": "stdout",
     "output_type": "stream",
     "text": [
      "The list of books topping the bestseller's list of Hardcore Fiction on fathers's Day 2010 was:\n",
      "THE GIRL WHO KICKED THE HORNET’S NEST\n",
      "BULLET\n",
      "THE SPY\n",
      "THE HELP\n",
      "DEAD IN THE FAMILY\n",
      "61 HOURS\n",
      "THE BURNING WIRE\n",
      "STORM PREY\n",
      "THE BOURNE OBJECTIVE\n",
      "INNOCENT\n",
      "HEART OF THE MATTER\n",
      "THE 9TH JUDGMENT\n",
      "BLOCKADE BILLY\n",
      "ALLIES\n",
      "THE RULE OF NINE\n",
      "FEVER DREAM\n",
      "DELIVER US FROM EVIL\n",
      "MATTERHORN\n",
      "THE PARTICULAR SADNESS OF LEMON CAKE\n",
      "DANGEROUS\n"
     ]
    }
   ],
   "source": [
    "books_details_2010_fathers = books['results']['books']\n",
    "print(\"The list of books topping the bestseller's list of Hardcore Fiction on fathers's Day 2010 was:\")\n",
    "for title in books_details_2010_fathers:\n",
    "    print(title['title'])"
   ]
  },
  {
   "cell_type": "code",
   "execution_count": 75,
   "metadata": {
    "collapsed": false
   },
   "outputs": [],
   "source": [
    "#2) What are all the different book categories the NYT ranked in June 6, 2009? How about June 6, 2015?"
   ]
  },
  {
   "cell_type": "code",
   "execution_count": 76,
   "metadata": {
    "collapsed": false
   },
   "outputs": [],
   "source": [
    "response = requests.get('https://api.nytimes.com/svc/books/v3/lists/overview.json?api-key=a39223b33e0e46fd82dbddcc4972ff91&published_date=2009-06-06')\n",
    "categories = response.json()"
   ]
  },
  {
   "cell_type": "code",
   "execution_count": 77,
   "metadata": {
    "collapsed": false
   },
   "outputs": [
    {
     "data": {
      "text/plain": [
       "dict_keys(['status', 'num_results', 'copyright', 'results'])"
      ]
     },
     "execution_count": 77,
     "metadata": {},
     "output_type": "execute_result"
    }
   ],
   "source": [
    "categories.keys()"
   ]
  },
  {
   "cell_type": "code",
   "execution_count": 78,
   "metadata": {
    "collapsed": false
   },
   "outputs": [
    {
     "data": {
      "text/plain": [
       "dict_keys(['previous_published_date', 'published_date', 'bestsellers_date', 'next_published_date', 'lists', 'published_date_description'])"
      ]
     },
     "execution_count": 78,
     "metadata": {},
     "output_type": "execute_result"
    }
   ],
   "source": [
    "categories['results'].keys()"
   ]
  },
  {
   "cell_type": "code",
   "execution_count": 79,
   "metadata": {
    "collapsed": false
   },
   "outputs": [
    {
     "data": {
      "text/plain": [
       "list"
      ]
     },
     "execution_count": 79,
     "metadata": {},
     "output_type": "execute_result"
    }
   ],
   "source": [
    "Lists = categories['results']['lists']\n",
    "type(Lists)"
   ]
  },
  {
   "cell_type": "code",
   "execution_count": 80,
   "metadata": {
    "collapsed": false
   },
   "outputs": [
    {
     "name": "stdout",
     "output_type": "stream",
     "text": [
      "These were the NYTimes book categories on 6 June 2009:\n",
      "Hardcover Fiction\n",
      "Hardcover Nonfiction\n",
      "Trade Fiction Paperback\n",
      "Mass Market Paperback\n",
      "Paperback Nonfiction\n",
      "Hardcover Advice\n",
      "Paperback Advice\n",
      "Chapter Books\n",
      "Paperback Books\n",
      "Picture Books\n",
      "Series Books\n",
      "Hardcover Graphic Books\n",
      "Paperback Graphic Books\n",
      "Manga\n"
     ]
    }
   ],
   "source": [
    "print(\"These were the NYTimes book categories on 6 June 2009:\")\n",
    "for list in Lists:\n",
    "    print(list['list_name'])"
   ]
  },
  {
   "cell_type": "code",
   "execution_count": 81,
   "metadata": {
    "collapsed": true
   },
   "outputs": [],
   "source": [
    "response = requests.get('https://api.nytimes.com/svc/books/v3/lists/overview.json?api-key=a39223b33e0e46fd82dbddcc4972ff91&published_date=2015-06-06')\n",
    "categories = response.json()"
   ]
  },
  {
   "cell_type": "code",
   "execution_count": 82,
   "metadata": {
    "collapsed": false
   },
   "outputs": [
    {
     "name": "stdout",
     "output_type": "stream",
     "text": [
      "And these were the NYTimes book categories on 6 June 2015:\n",
      "Combined Print and E-Book Fiction\n",
      "Combined Print and E-Book Nonfiction\n",
      "Hardcover Fiction\n",
      "Hardcover Nonfiction\n",
      "Trade Fiction Paperback\n",
      "Mass Market Paperback\n",
      "Paperback Nonfiction\n",
      "E-Book Fiction\n",
      "E-Book Nonfiction\n",
      "Advice How-To and Miscellaneous\n",
      "Childrens Middle Grade\n",
      "Picture Books\n",
      "Series Books\n",
      "Young Adult\n",
      "Hardcover Graphic Books\n",
      "Paperback Graphic Books\n",
      "Manga\n",
      "Animals\n",
      "Business Books\n",
      "Celebrities\n",
      "Crime and Punishment\n",
      "Culture\n",
      "Education\n",
      "Espionage\n",
      "Expeditions Disasters and Adventures\n",
      "Fashion Manners and Customs\n",
      "Food and Fitness\n",
      "Games and Activities\n",
      "Health\n",
      "Humor\n",
      "Indigenous Americans\n",
      "Relationships\n",
      "Family\n",
      "Hardcover Political Books\n",
      "Race and Civil Rights\n",
      "Religion Spirituality and Faith\n",
      "Science\n",
      "Sports\n",
      "Travel\n"
     ]
    }
   ],
   "source": [
    "Lists = categories['results']['lists']\n",
    "print(\"And these were the NYTimes book categories on 6 June 2015:\")\n",
    "for list in Lists:\n",
    "    print(list['list_name'])"
   ]
  },
  {
   "cell_type": "code",
   "execution_count": 83,
   "metadata": {
    "collapsed": true
   },
   "outputs": [],
   "source": [
    "#3 Muammar Gaddafi's name can be transliterated many many ways. His last name is often a source of a million and one versions - Gadafi, Gaddafi, Kadafi, and Qaddafi to name a few. How many times has the New York Times referred to him by each of those names?"
   ]
  },
  {
   "cell_type": "code",
   "execution_count": 84,
   "metadata": {
    "collapsed": true
   },
   "outputs": [],
   "source": [
    "responseQaddafi = requests.get('http://api.nytimes.com/svc/search/v2/articlesearch.json?q=Qaddafi&api-key=a39223b33e0e46fd82dbddcc4972ff91')\n",
    "responseKadafi = requests.get('http://api.nytimes.com/svc/search/v2/articlesearch.json?q=Kadafi&api-key=a39223b33e0e46fd82dbddcc4972ff91')\n",
    "responseGaddafi = requests.get('http://api.nytimes.com/svc/search/v2/articlesearch.json?q=Gaddafi&api-key=a39223b33e0e46fd82dbddcc4972ff91')\n",
    "responseGadafi = requests.get('http://api.nytimes.com/svc/search/v2/articlesearch.json?q=Gadafi&api-key=a39223b33e0e46fd82dbddcc4972ff91')\n",
    "Qaddafi = responseQaddafi.json()\n",
    "Kadafi = responseKadafi.json()\n",
    "Gaddafi = responseGaddafi.json()\n",
    "Gadafi = responseGadafi.json()"
   ]
  },
  {
   "cell_type": "code",
   "execution_count": 85,
   "metadata": {
    "collapsed": false
   },
   "outputs": [
    {
     "data": {
      "text/plain": [
       "dict_keys(['status', 'response', 'copyright'])"
      ]
     },
     "execution_count": 85,
     "metadata": {},
     "output_type": "execute_result"
    }
   ],
   "source": [
    "Qaddafi.keys()"
   ]
  },
  {
   "cell_type": "code",
   "execution_count": 86,
   "metadata": {
    "collapsed": false
   },
   "outputs": [
    {
     "data": {
      "text/plain": [
       "dict"
      ]
     },
     "execution_count": 86,
     "metadata": {},
     "output_type": "execute_result"
    }
   ],
   "source": [
    "type(Qaddafi['response']['meta'])"
   ]
  },
  {
   "cell_type": "code",
   "execution_count": 87,
   "metadata": {
    "collapsed": false
   },
   "outputs": [
    {
     "data": {
      "text/plain": [
       "dict_keys(['offset', 'hits', 'time'])"
      ]
     },
     "execution_count": 87,
     "metadata": {},
     "output_type": "execute_result"
    }
   ],
   "source": [
    "Qaddafi['response']['meta'].keys()"
   ]
  },
  {
   "cell_type": "code",
   "execution_count": 88,
   "metadata": {
    "collapsed": true
   },
   "outputs": [],
   "source": [
    "#Without adding Libya to the search"
   ]
  },
  {
   "cell_type": "code",
   "execution_count": 89,
   "metadata": {
    "collapsed": false
   },
   "outputs": [
    {
     "name": "stdout",
     "output_type": "stream",
     "text": [
      "The New York Times used the Qaddafi spelling 7017 times.\n",
      "The New York Times used the Kadafi spelling 4 times.\n",
      "The New York Times used the Gaddafi spelling 1223 times.\n",
      "The New York Times used the Gadafi spelling 0 times.\n"
     ]
    }
   ],
   "source": [
    "print(\"The New York Times used the Qaddafi spelling\", Qaddafi['response']['meta']['hits'], \"times.\")\n",
    "print(\"The New York Times used the Kadafi spelling\", Kadafi['response']['meta']['hits'], \"times.\")\n",
    "print(\"The New York Times used the Gaddafi spelling\", Gaddafi['response']['meta']['hits'], \"times.\")\n",
    "print(\"The New York Times used the Gadafi spelling\", Gadafi['response']['meta']['hits'], \"times.\")"
   ]
  },
  {
   "cell_type": "code",
   "execution_count": 90,
   "metadata": {
    "collapsed": true
   },
   "outputs": [],
   "source": [
    "#Added Libya to the search "
   ]
  },
  {
   "cell_type": "code",
   "execution_count": 91,
   "metadata": {
    "collapsed": true
   },
   "outputs": [],
   "source": [
    "responseQaddafi = requests.get('http://api.nytimes.com/svc/search/v2/articlesearch.json?q=Qaddafi&fq=Libya&api-key=a39223b33e0e46fd82dbddcc4972ff91')\n",
    "responseKadafi = requests.get('http://api.nytimes.com/svc/search/v2/articlesearch.json?q=Kadafi&fq=Libya&api-key=a39223b33e0e46fd82dbddcc4972ff91')\n",
    "responseGaddafi = requests.get('http://api.nytimes.com/svc/search/v2/articlesearch.json?q=Gaddafi&fq=Libya&api-key=a39223b33e0e46fd82dbddcc4972ff91')\n",
    "responseGadafi = requests.get('http://api.nytimes.com/svc/search/v2/articlesearch.json?q=Gadafi&fq=Libya&api-key=a39223b33e0e46fd82dbddcc4972ff91')\n",
    "Qaddafi = responseQaddafi.json()\n",
    "Kadafi = responseKadafi.json()\n",
    "Gaddafi = responseGaddafi.json()\n",
    "Gadafi = responseGadafi.json()"
   ]
  },
  {
   "cell_type": "code",
   "execution_count": 92,
   "metadata": {
    "collapsed": false
   },
   "outputs": [
    {
     "name": "stdout",
     "output_type": "stream",
     "text": [
      "The New York Times used the Qaddafi spelling 5309 times.\n"
     ]
    },
    {
     "ename": "KeyError",
     "evalue": "'response'",
     "output_type": "error",
     "traceback": [
      "\u001b[0;31m---------------------------------------------------------------------------\u001b[0m",
      "\u001b[0;31mKeyError\u001b[0m                                  Traceback (most recent call last)",
      "\u001b[0;32m<ipython-input-92-e0b07702d244>\u001b[0m in \u001b[0;36m<module>\u001b[0;34m()\u001b[0m\n\u001b[1;32m      1\u001b[0m \u001b[0mprint\u001b[0m\u001b[0;34m(\u001b[0m\u001b[0;34m\"The New York Times used the Qaddafi spelling\"\u001b[0m\u001b[0;34m,\u001b[0m \u001b[0mQaddafi\u001b[0m\u001b[0;34m[\u001b[0m\u001b[0;34m'response'\u001b[0m\u001b[0;34m]\u001b[0m\u001b[0;34m[\u001b[0m\u001b[0;34m'meta'\u001b[0m\u001b[0;34m]\u001b[0m\u001b[0;34m[\u001b[0m\u001b[0;34m'hits'\u001b[0m\u001b[0;34m]\u001b[0m\u001b[0;34m,\u001b[0m \u001b[0;34m\"times.\"\u001b[0m\u001b[0;34m)\u001b[0m\u001b[0;34m\u001b[0m\u001b[0m\n\u001b[0;32m----> 2\u001b[0;31m \u001b[0mprint\u001b[0m\u001b[0;34m(\u001b[0m\u001b[0;34m\"The New York Times used the Kadafi spelling\"\u001b[0m\u001b[0;34m,\u001b[0m \u001b[0mKadafi\u001b[0m\u001b[0;34m[\u001b[0m\u001b[0;34m'response'\u001b[0m\u001b[0;34m]\u001b[0m\u001b[0;34m[\u001b[0m\u001b[0;34m'meta'\u001b[0m\u001b[0;34m]\u001b[0m\u001b[0;34m[\u001b[0m\u001b[0;34m'hits'\u001b[0m\u001b[0;34m]\u001b[0m\u001b[0;34m,\u001b[0m \u001b[0;34m\"times.\"\u001b[0m\u001b[0;34m)\u001b[0m\u001b[0;34m\u001b[0m\u001b[0m\n\u001b[0m\u001b[1;32m      3\u001b[0m \u001b[0mprint\u001b[0m\u001b[0;34m(\u001b[0m\u001b[0;34m\"The New York Times used the Gaddafi spelling\"\u001b[0m\u001b[0;34m,\u001b[0m \u001b[0mGaddafi\u001b[0m\u001b[0;34m[\u001b[0m\u001b[0;34m'response'\u001b[0m\u001b[0;34m]\u001b[0m\u001b[0;34m[\u001b[0m\u001b[0;34m'meta'\u001b[0m\u001b[0;34m]\u001b[0m\u001b[0;34m[\u001b[0m\u001b[0;34m'hits'\u001b[0m\u001b[0;34m]\u001b[0m\u001b[0;34m,\u001b[0m \u001b[0;34m\"times.\"\u001b[0m\u001b[0;34m)\u001b[0m\u001b[0;34m\u001b[0m\u001b[0m\n\u001b[1;32m      4\u001b[0m \u001b[0mprint\u001b[0m\u001b[0;34m(\u001b[0m\u001b[0;34m\"The New York Times used the Gadafi spelling\"\u001b[0m\u001b[0;34m,\u001b[0m \u001b[0mGadafi\u001b[0m\u001b[0;34m[\u001b[0m\u001b[0;34m'response'\u001b[0m\u001b[0;34m]\u001b[0m\u001b[0;34m[\u001b[0m\u001b[0;34m'meta'\u001b[0m\u001b[0;34m]\u001b[0m\u001b[0;34m[\u001b[0m\u001b[0;34m'hits'\u001b[0m\u001b[0;34m]\u001b[0m\u001b[0;34m,\u001b[0m \u001b[0;34m\"times.\"\u001b[0m\u001b[0;34m)\u001b[0m\u001b[0;34m\u001b[0m\u001b[0m\n",
      "\u001b[0;31mKeyError\u001b[0m: 'response'"
     ]
    }
   ],
   "source": [
    "print(\"The New York Times used the Qaddafi spelling\", Qaddafi['response']['meta']['hits'], \"times.\")\n",
    "print(\"The New York Times used the Kadafi spelling\", Kadafi['response']['meta']['hits'], \"times.\")\n",
    "print(\"The New York Times used the Gaddafi spelling\", Gaddafi['response']['meta']['hits'], \"times.\")\n",
    "print(\"The New York Times used the Gadafi spelling\", Gadafi['response']['meta']['hits'], \"times.\")"
   ]
  },
  {
   "cell_type": "code",
   "execution_count": null,
   "metadata": {
    "collapsed": true
   },
   "outputs": [],
   "source": [
    "#4) What's the title of the first story to mention the word 'hipster' in 1995? What's the first paragraph?"
   ]
  },
  {
   "cell_type": "code",
   "execution_count": 94,
   "metadata": {
    "collapsed": false
   },
   "outputs": [],
   "source": [
    "Hipster_Hits = (Hipster['response']['meta'])"
   ]
  },
  {
   "cell_type": "code",
   "execution_count": 93,
   "metadata": {
    "collapsed": false
   },
   "outputs": [
    {
     "data": {
      "text/plain": [
       "dict_keys(['status', 'response', 'copyright'])"
      ]
     },
     "execution_count": 93,
     "metadata": {},
     "output_type": "execute_result"
    }
   ],
   "source": [
    "hipster_response = requests.get('https://api.nytimes.com/svc/search/v2/articlesearch.json?q=hipster&begin_date=19950101&end_date=19951231&sort=oldest&api-key=a39223b33e0e46fd82dbddcc4972ff91')\n",
    "Hipster = hipster_response.json()\n",
    "\n",
    "Hipster.keys()\n"
   ]
  },
  {
   "cell_type": "code",
   "execution_count": 95,
   "metadata": {
    "collapsed": true
   },
   "outputs": [],
   "source": [
    "Hipster_Hits = (Hipster['response']['meta'])"
   ]
  },
  {
   "cell_type": "code",
   "execution_count": 96,
   "metadata": {
    "collapsed": false
   },
   "outputs": [
    {
     "name": "stdout",
     "output_type": "stream",
     "text": [
      "26\n"
     ]
    }
   ],
   "source": [
    "print(Hipster_Hits['hits'])"
   ]
  },
  {
   "cell_type": "code",
   "execution_count": 97,
   "metadata": {
    "collapsed": false
   },
   "outputs": [
    {
     "data": {
      "text/plain": [
       "dict_keys(['kicker', 'main'])"
      ]
     },
     "execution_count": 97,
     "metadata": {},
     "output_type": "execute_result"
    }
   ],
   "source": [
    "Hipster['response']['docs'][0]['headline'].keys()"
   ]
  },
  {
   "cell_type": "code",
   "execution_count": 98,
   "metadata": {
    "collapsed": false
   },
   "outputs": [
    {
     "name": "stdout",
     "output_type": "stream",
     "text": [
      "The title of the first article in 1995 that mentioned Hipster was SURFACING SOUND\n"
     ]
    }
   ],
   "source": [
    "print(\"The title of the first article in 1995 that mentioned Hipster was\", Hipster['response']['docs'][0]['headline']['kicker'], Hipster['response']['docs'][0]['headline']['main'])  "
   ]
  },
  {
   "cell_type": "code",
   "execution_count": 99,
   "metadata": {
    "collapsed": false
   },
   "outputs": [
    {
     "name": "stdout",
     "output_type": "stream",
     "text": [
      "This is the leading paragraph of the first article that mentioned Hipster in 1995: Portable record players with built-in speakers, from the 1960's, are the latest points on hipster score cards. In some cases, they are the only way to listen to many of the old LP or 45-r.p.m. recordings still around but not released on cassette or CD. Usually available in white plastic or metal, they can be found in flea markets and secondhand stores. One style has the arm cast in the shape of a cobra. (Don Hogan Charles/The New York Times)\n"
     ]
    }
   ],
   "source": [
    "#print(Hipster['response']['docs'])\n",
    "\n",
    "print(\"This is the leading paragraph of the first article that mentioned Hipster in 1995:\", Hipster['response']['docs'][0]['lead_paragraph'])\n",
    "\n"
   ]
  },
  {
   "cell_type": "code",
   "execution_count": 100,
   "metadata": {
    "collapsed": true
   },
   "outputs": [],
   "source": [
    "#5) How many times was gay marriage mentioned in the NYT between 1950-1959, 1960-1969, 1970-1978, 1980-1989, 1990-1999, 2000-2009, and 2010-present?"
   ]
  },
  {
   "cell_type": "code",
   "execution_count": 101,
   "metadata": {
    "collapsed": false
   },
   "outputs": [],
   "source": [
    "r50s = requests.get('http://api.nytimes.com/svc/search/v2/articlesearch.json?q=%22gay%20marriage%22&begin_date=19500101&end_date=19591231&api-key=a39223b33e0e46fd82dbddcc4972ff91')\n",
    "r60s = requests.get('http://api.nytimes.com/svc/search/v2/articlesearch.json?q=%22gay%20marriage%22&begin_date=19600101&end_date=19691231&api-key=a39223b33e0e46fd82dbddcc4972ff91')\n",
    "r70s = requests.get('http://api.nytimes.com/svc/search/v2/articlesearch.json?q=%22gay%20marriage%22&begin_date=19700101&end_date=19791231&api-key=a39223b33e0e46fd82dbddcc4972ff91')\n",
    "r80s = requests.get('http://api.nytimes.com/svc/search/v2/articlesearch.json?q=%22gay%20marriage%22&begin_date=19800101&end_date=19891231&api-key=a39223b33e0e46fd82dbddcc4972ff91')\n",
    "r90s = requests.get('http://api.nytimes.com/svc/search/v2/articlesearch.json?q=%22gay%20marriage%22&begin_date=19900101&end_date=19991231&api-key=a39223b33e0e46fd82dbddcc4972ff91')            \n",
    "r00s = requests.get('http://api.nytimes.com/svc/search/v2/articlesearch.json?q=%22gay%20marriage%22&begin_date=20000101&end_date=20091231&api-key=a39223b33e0e46fd82dbddcc4972ff91')\n",
    "r10s = requests.get('http://api.nytimes.com/svc/search/v2/articlesearch.json?q=%22gay%20marriage%22&begin_date=20100101&end_date=20160707&api-key=a39223b33e0e46fd82dbddcc4972ff91')\n",
    "    \n",
    "re50s = r50s.json()\n",
    "re60s = r60s.json()\n",
    "re70s = r70s.json()\n",
    "re80s = r80s.json()\n",
    "re90s = r90s.json()\n",
    "re00s = r00s.json()\n",
    "re10s = r10s.json()"
   ]
  },
  {
   "cell_type": "code",
   "execution_count": 102,
   "metadata": {
    "collapsed": false
   },
   "outputs": [
    {
     "name": "stdout",
     "output_type": "stream",
     "text": [
      "1950 - 1959: 0\n",
      "1960 - 1969: 0\n",
      "1970 - 1979: 0\n",
      "1980 - 1989: 3\n",
      "1990 - 1999: 138\n",
      "2000 - 2009: 2513\n",
      "2010 - 2016: 4936\n"
     ]
    }
   ],
   "source": [
    "print(\"1950 - 1959:\", re50s['response']['meta']['hits'])\n",
    "print(\"1960 - 1969:\", re60s['response']['meta']['hits'])\n",
    "print(\"1970 - 1979:\", re70s['response']['meta']['hits'])\n",
    "print(\"1980 - 1989:\", re80s['response']['meta']['hits'])\n",
    "print(\"1990 - 1999:\", re90s['response']['meta']['hits'])\n",
    "print(\"2000 - 2009:\", re00s['response']['meta']['hits'])\n",
    "print(\"2010 - 2016:\", re10s['response']['meta']['hits'])"
   ]
  },
  {
   "cell_type": "code",
   "execution_count": 103,
   "metadata": {
    "collapsed": true
   },
   "outputs": [],
   "source": [
    "#6) What section talks about motorcycles the most? **Tip: You'll be using facets**"
   ]
  },
  {
   "cell_type": "code",
   "execution_count": 104,
   "metadata": {
    "collapsed": false
   },
   "outputs": [
    {
     "data": {
      "text/plain": [
       "dict_keys(['status', 'response', 'copyright'])"
      ]
     },
     "execution_count": 104,
     "metadata": {},
     "output_type": "execute_result"
    }
   ],
   "source": [
    "#Searching for all the section names\n",
    "motorcyle_facets = requests.get('http://api.nytimes.com/svc/search/v2/articlesearch.json?q=motorcycles&facet_field=section_name&api-key=a39223b33e0e46fd82dbddcc4972ff91')\n",
    "motorcycles = motorcyle_facets.json()\n",
    "\n",
    "motorcycles.keys()"
   ]
  },
  {
   "cell_type": "code",
   "execution_count": 105,
   "metadata": {
    "collapsed": false
   },
   "outputs": [
    {
     "data": {
      "text/plain": [
       "dict_keys(['docs', 'meta', 'facets'])"
      ]
     },
     "execution_count": 105,
     "metadata": {},
     "output_type": "execute_result"
    }
   ],
   "source": [
    "motorcycles['response'].keys()"
   ]
  },
  {
   "cell_type": "code",
   "execution_count": 106,
   "metadata": {
    "collapsed": false
   },
   "outputs": [
    {
     "data": {
      "text/plain": [
       "dict"
      ]
     },
     "execution_count": 106,
     "metadata": {},
     "output_type": "execute_result"
    }
   ],
   "source": [
    "type(motorcycles['response']['meta'])"
   ]
  },
  {
   "cell_type": "code",
   "execution_count": 107,
   "metadata": {
    "collapsed": false
   },
   "outputs": [
    {
     "name": "stdout",
     "output_type": "stream",
     "text": [
      "{'offset': 0, 'hits': 10718, 'time': 36}\n"
     ]
    }
   ],
   "source": [
    "print(motorcycles['response']['meta'])"
   ]
  },
  {
   "cell_type": "code",
   "execution_count": 108,
   "metadata": {
    "collapsed": false
   },
   "outputs": [
    {
     "name": "stdout",
     "output_type": "stream",
     "text": [
      "{'section_name': {'terms': [{'count': 1078, 'term': 'World'}, {'count': 580, 'term': 'New York and Region'}, {'count': 489, 'term': 'U.S.'}, {'count': 345, 'term': 'Automobiles'}, {'count': 333, 'term': 'Business'}]}}\n"
     ]
    }
   ],
   "source": [
    "print(motorcycles['response']['facets'])"
   ]
  },
  {
   "cell_type": "code",
   "execution_count": 109,
   "metadata": {
    "collapsed": false
   },
   "outputs": [
    {
     "data": {
      "text/plain": [
       "dict_keys(['section_name'])"
      ]
     },
     "execution_count": 109,
     "metadata": {},
     "output_type": "execute_result"
    }
   ],
   "source": [
    "motorcycles['response']['facets'].keys()"
   ]
  },
  {
   "cell_type": "code",
   "execution_count": 110,
   "metadata": {
    "collapsed": false
   },
   "outputs": [
    {
     "name": "stdout",
     "output_type": "stream",
     "text": [
      "{'terms': [{'count': 1078, 'term': 'World'}, {'count': 580, 'term': 'New York and Region'}, {'count': 489, 'term': 'U.S.'}, {'count': 345, 'term': 'Automobiles'}, {'count': 333, 'term': 'Business'}]}\n"
     ]
    }
   ],
   "source": [
    "print(motorcycles['response']['facets']['section_name'])"
   ]
  },
  {
   "cell_type": "code",
   "execution_count": 111,
   "metadata": {
    "collapsed": false
   },
   "outputs": [
    {
     "name": "stdout",
     "output_type": "stream",
     "text": [
      "[{'count': 1078, 'term': 'World'}, {'count': 580, 'term': 'New York and Region'}, {'count': 489, 'term': 'U.S.'}, {'count': 345, 'term': 'Automobiles'}, {'count': 333, 'term': 'Business'}]\n"
     ]
    }
   ],
   "source": [
    "print(motorcycles['response']['facets']['section_name']['terms'])"
   ]
  },
  {
   "cell_type": "code",
   "execution_count": 112,
   "metadata": {
    "collapsed": false
   },
   "outputs": [
    {
     "name": "stdout",
     "output_type": "stream",
     "text": [
      "World 1078\n",
      "New York and Region 580\n",
      "U.S. 489\n",
      "Automobiles 345\n",
      "Business 333\n"
     ]
    }
   ],
   "source": [
    "Sections_count = motorcycles['response']['facets']['section_name']['terms']\n",
    "\n",
    "for count in Sections_count:\n",
    "    print(count['term'], count['count'])"
   ]
  },
  {
   "cell_type": "code",
   "execution_count": 113,
   "metadata": {
    "collapsed": true
   },
   "outputs": [],
   "source": [
    "#7) How many of the last 20 movies reviewed by the NYT were Critics' Picks? How about the last 40? The last 60?"
   ]
  },
  {
   "cell_type": "code",
   "execution_count": 114,
   "metadata": {
    "collapsed": false
   },
   "outputs": [
    {
     "data": {
      "text/plain": [
       "dict_keys(['status', 'has_more', 'num_results', 'copyright', 'results'])"
      ]
     },
     "execution_count": 114,
     "metadata": {},
     "output_type": "execute_result"
    }
   ],
   "source": [
    "response = requests.get('https://api.nytimes.com/svc/movies/v2/reviews/search.json?api-key=a39223b33e0e46fd82dbddcc4972ff91&publication-date=2015-01-01;2016-06-08')\n",
    "movie_reviews = response.json()\n",
    "\n",
    "movie_reviews.keys()"
   ]
  },
  {
   "cell_type": "code",
   "execution_count": 115,
   "metadata": {
    "collapsed": false
   },
   "outputs": [],
   "source": [
    "#movie_reviews = movie_reviews['results']"
   ]
  },
  {
   "cell_type": "code",
   "execution_count": 116,
   "metadata": {
    "collapsed": true
   },
   "outputs": [],
   "source": [
    "movie_reviews = movie_reviews['results']"
   ]
  },
  {
   "cell_type": "code",
   "execution_count": 117,
   "metadata": {
    "collapsed": false
   },
   "outputs": [
    {
     "name": "stdout",
     "output_type": "stream",
     "text": [
      "Out ot the first 20 movie reviews 8 were from critics' pick.\n"
     ]
    }
   ],
   "source": [
    "critics_pick = 0\n",
    "for name in movie_reviews:\n",
    "    if name['critics_pick']:\n",
    "        critics_pick = critics_pick + 1\n",
    "        #print(name['display_title'], name['critics_pick'])\n",
    "print(\"Out ot the first 20 movie reviews\", critics_pick, \"were from critics' pick.\")"
   ]
  },
  {
   "cell_type": "code",
   "execution_count": 118,
   "metadata": {
    "collapsed": false
   },
   "outputs": [
    {
     "name": "stdout",
     "output_type": "stream",
     "text": [
      "60\n"
     ]
    }
   ],
   "source": [
    "All_results = []\n",
    "offset = [0, 20, 40]\n",
    "#url = \"https://api.nytimes.com/svc/movies/v2/reviews/search.json?api-key=a39223b33e0e46fd82dbddcc4972ff91&publication-date=2015-01-01;2016-06-08&offset=\"\n",
    "\n",
    "for n in offset:\n",
    "    url = \"https://api.nytimes.com/svc/movies/v2/reviews/search.json?api-key=a39223b33e0e46fd82dbddcc4972ff91&publication-date=2015-01-01;2016-06-08&offset=\" + str(n)\n",
    "    movie_reviews_60 = requests.get(url)\n",
    "    movie_reviews_60 = movie_reviews_60.json()\n",
    "    All_results = All_results + movie_reviews_60['results']\n",
    "\n",
    "print(len(All_results))\n",
    "\n"
   ]
  },
  {
   "cell_type": "code",
   "execution_count": 119,
   "metadata": {
    "collapsed": false
   },
   "outputs": [
    {
     "data": {
      "text/plain": [
       "dict_keys(['status', 'has_more', 'num_results', 'copyright', 'results'])"
      ]
     },
     "execution_count": 119,
     "metadata": {},
     "output_type": "execute_result"
    }
   ],
   "source": [
    "movie_reviews_60.keys()"
   ]
  },
  {
   "cell_type": "code",
   "execution_count": 120,
   "metadata": {
    "collapsed": false
   },
   "outputs": [
    {
     "data": {
      "text/plain": [
       "list"
      ]
     },
     "execution_count": 120,
     "metadata": {},
     "output_type": "execute_result"
    }
   ],
   "source": [
    "type(movie_reviews_60['results'])"
   ]
  },
  {
   "cell_type": "code",
   "execution_count": 121,
   "metadata": {
    "collapsed": false
   },
   "outputs": [
    {
     "name": "stdout",
     "output_type": "stream",
     "text": [
      "Out ot the first 60 movie reviews 22 were from critics' pick.\n"
     ]
    }
   ],
   "source": [
    "critics_pick_60 = 0\n",
    "for name in All_results:\n",
    "    #print(name['display_title'], name['critics_pick'])\n",
    "    if name['critics_pick']:\n",
    "        critics_pick_60 = critics_pick_60 + 1\n",
    "print(\"Out ot the first 60 movie reviews\", critics_pick_60, \"were from critics' pick.\")"
   ]
  },
  {
   "cell_type": "code",
   "execution_count": 122,
   "metadata": {
    "collapsed": false
   },
   "outputs": [
    {
     "name": "stdout",
     "output_type": "stream",
     "text": [
      "40\n"
     ]
    }
   ],
   "source": [
    "All_results = []\n",
    "offset = [0, 20]\n",
    "#url = \"https://api.nytimes.com/svc/movies/v2/reviews/search.json?api-key=a39223b33e0e46fd82dbddcc4972ff91&publication-date=2015-01-01;2016-06-08&offset=\"\n",
    "\n",
    "for n in offset:\n",
    "    url = \"https://api.nytimes.com/svc/movies/v2/reviews/search.json?api-key=a39223b33e0e46fd82dbddcc4972ff91&publication-date=2015-01-01;2016-06-08&offset=\" + str(n)\n",
    "    movie_reviews_40 = requests.get(url)\n",
    "    movie_reviews_40 = movie_reviews_40.json()\n",
    "    All_results = All_results + movie_reviews_40['results']\n",
    "\n",
    "print(len(All_results))"
   ]
  },
  {
   "cell_type": "code",
   "execution_count": 123,
   "metadata": {
    "collapsed": false
   },
   "outputs": [
    {
     "name": "stdout",
     "output_type": "stream",
     "text": [
      "Out ot the first 40 movie reviews 14 were from critics' pick.\n"
     ]
    }
   ],
   "source": [
    "critics_pick_40 = 0\n",
    "for name in All_results:\n",
    "    #print(name['display_title'], name['critics_pick'])\n",
    "    if name['critics_pick']:\n",
    "        critics_pick_40 = critics_pick_40 + 1\n",
    "print(\"Out ot the first 40 movie reviews\", critics_pick_40, \"were from critics' pick.\")"
   ]
  },
  {
   "cell_type": "code",
   "execution_count": 124,
   "metadata": {
    "collapsed": true
   },
   "outputs": [],
   "source": [
    "#8)Out of the last 40 movie reviews from the NYT, which critic has written the most reviews?"
   ]
  },
  {
   "cell_type": "code",
   "execution_count": 125,
   "metadata": {
    "collapsed": false
   },
   "outputs": [
    {
     "name": "stdout",
     "output_type": "stream",
     "text": [
      "40\n"
     ]
    }
   ],
   "source": [
    "All_results = []\n",
    "offset = [0, 20]\n",
    "#url = \"https://api.nytimes.com/svc/movies/v2/reviews/search.json?api-key=a39223b33e0e46fd82dbddcc4972ff91&publication-date=2015-01-01;2016-06-08&offset=\"\n",
    "\n",
    "for n in offset:\n",
    "    url = \"https://api.nytimes.com/svc/movies/v2/reviews/search.json?api-key=a39223b33e0e46fd82dbddcc4972ff91&publication-date=2015-01-01;2016-06-08&offset=\" + str(n)\n",
    "    movie_reviews_60 = requests.get(url)\n",
    "    movie_reviews_60 = movie_reviews_60.json()\n",
    "    All_results = All_results + movie_reviews_60['results']\n",
    "\n",
    "print(len(All_results))"
   ]
  },
  {
   "cell_type": "code",
   "execution_count": 126,
   "metadata": {
    "collapsed": false
   },
   "outputs": [],
   "source": [
    "#for byline in All_results:\n",
    "#    print(byline['byline'])"
   ]
  },
  {
   "cell_type": "code",
   "execution_count": 127,
   "metadata": {
    "collapsed": false
   },
   "outputs": [
    {
     "name": "stdout",
     "output_type": "stream",
     "text": [
      "['GLENN KENNY', 'STEPHEN HOLDEN', 'A. O. SCOTT', 'MANOHLA DARGIS', 'MANOHLA DARGIS', 'NEIL GENZLINGER', 'JEANNETTE CATSOULIS', 'KEN JAWOROWSKI', 'KEN JAWOROWSKI', 'BEN KENIGSBERG', 'ANDY WEBSTER', 'GLENN KENNY', 'JEANNETTE CATSOULIS', 'BEN KENIGSBERG', 'A. O. SCOTT', 'A. O. SCOTT', 'A. O. SCOTT', 'GLENN KENNY', 'NEIL GENZLINGER', 'ANDY WEBSTER', 'KEN JAWOROWSKI', 'ANDY WEBSTER', 'DANIEL M. GOLD', 'JEANNETTE CATSOULIS', 'HELEN T. VERONGOS', 'ANDY WEBSTER', 'KEN JAWOROWSKI', 'MANOHLA DARGIS', 'A. O. SCOTT', 'STEPHEN HOLDEN', 'NEIL GENZLINGER', 'MANOHLA DARGIS', 'BEN KENIGSBERG', 'STEPHEN HOLDEN', 'MANOHLA DARGIS', 'STEPHEN HOLDEN', 'A. O. SCOTT', 'STEPHEN HOLDEN', 'NEIL GENZLINGER', 'BEN KENIGSBERG']\n"
     ]
    }
   ],
   "source": [
    "byline_list = []\n",
    "for by_line in All_results:\n",
    "    byline_list.append(by_line['byline'])\n",
    "print(byline_list)"
   ]
  },
  {
   "cell_type": "code",
   "execution_count": 128,
   "metadata": {
    "collapsed": true
   },
   "outputs": [],
   "source": [
    "from collections import Counter"
   ]
  },
  {
   "cell_type": "code",
   "execution_count": 129,
   "metadata": {
    "collapsed": true
   },
   "outputs": [],
   "source": [
    "counts = Counter(byline_list)"
   ]
  },
  {
   "cell_type": "code",
   "execution_count": 130,
   "metadata": {
    "collapsed": false
   },
   "outputs": [
    {
     "name": "stdout",
     "output_type": "stream",
     "text": [
      "The author with the most number of counts is [('A. O. SCOTT', 6)]\n"
     ]
    }
   ],
   "source": [
    "print(\"The author with the most number of counts is\", counts.most_common(1))"
   ]
  },
  {
   "cell_type": "code",
   "execution_count": null,
   "metadata": {
    "collapsed": true
   },
   "outputs": [],
   "source": []
  },
  {
   "cell_type": "code",
   "execution_count": null,
   "metadata": {
    "collapsed": true
   },
   "outputs": [],
   "source": []
  }
 ],
 "metadata": {
  "kernelspec": {
   "display_name": "Python 3",
   "language": "python",
   "name": "python3"
  },
  "language_info": {
   "codemirror_mode": {
    "name": "ipython",
    "version": 3
   },
   "file_extension": ".py",
   "mimetype": "text/x-python",
   "name": "python",
   "nbconvert_exporter": "python",
   "pygments_lexer": "ipython3",
   "version": "3.5.1"
  }
 },
 "nbformat": 4,
 "nbformat_minor": 0
}
