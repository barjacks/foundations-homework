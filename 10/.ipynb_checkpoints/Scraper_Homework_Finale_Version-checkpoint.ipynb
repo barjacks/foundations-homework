{
 "cells": [
  {
   "cell_type": "code",
   "execution_count": 22,
   "metadata": {
    "collapsed": true
   },
   "outputs": [],
   "source": [
    "import requests\n",
    "from bs4 import BeautifulSoup"
   ]
  },
  {
   "cell_type": "code",
   "execution_count": 23,
   "metadata": {
    "collapsed": true
   },
   "outputs": [],
   "source": [
    "# Grab the Reddit Homepage\n",
    "headers = {'User-Agent': 'Mozilla/5.0 (Macintosh; Intel Mac OS X 10_10_1) AppleWebKit/537.36 (KHTML, like Gecko) Chrome/39.0.2171.95 Safari/537.36'}\n",
    "response = requests.get(\"http://www.reddit.com\", headers=headers)"
   ]
  },
  {
   "cell_type": "code",
   "execution_count": 24,
   "metadata": {
    "collapsed": true
   },
   "outputs": [],
   "source": [
    "#Feed it into BeautifulSoup\n",
    "reddit = BeautifulSoup(response.text, 'html.parser')"
   ]
  },
  {
   "cell_type": "code",
   "execution_count": 25,
   "metadata": {
    "collapsed": false
   },
   "outputs": [],
   "source": [
    "#reddit"
   ]
  },
  {
   "cell_type": "code",
   "execution_count": 26,
   "metadata": {
    "collapsed": true
   },
   "outputs": [],
   "source": [
    "one_sibling_up = reddit.find_all('div', {'class': 'clearleft'})"
   ]
  },
  {
   "cell_type": "code",
   "execution_count": 27,
   "metadata": {
    "collapsed": true
   },
   "outputs": [],
   "source": [
    "#because only every other clearleft has a post in it:\n",
    "posts = [tag.find_next_sibling('div') for tag in one_sibling_up if tag.find_next_sibling('div')]"
   ]
  },
  {
   "cell_type": "code",
   "execution_count": 90,
   "metadata": {
    "collapsed": true
   },
   "outputs": [],
   "source": [
    "#Function to change the votes into int\n",
    "def vote_count_int(x):\n",
    "    if x == '•':\n",
    "        return 0\n",
    "    else:\n",
    "        return int(x)"
   ]
  },
  {
   "cell_type": "code",
   "execution_count": 91,
   "metadata": {
    "collapsed": false
   },
   "outputs": [],
   "source": [
    "all_stories = []\n",
    "for article in posts:\n",
    "    #subreddit\n",
    "    if article.find(\"a\", {'class': 'subreddit hover may-blank' }) is None:\n",
    "        posts.remove(article)\n",
    "    else:\n",
    "        article_subreddit = article.find(\"a\", {'class': 'subreddit hover may-blank' })\n",
    "    #title\n",
    "    if article.find(\"a\", {'class': 'title may-blank ' }) is None:\n",
    "        posts.remove(article)\n",
    "    else:\n",
    "        article_title = article.find(\"a\", {'class': 'title may-blank ' }) \n",
    "    #time\n",
    "    if article.find(\"time\", {'class' : 'live-timestamp'}) is None:  \n",
    "        posts.remove(article)\n",
    "    else:\n",
    "        time = article.find(\"time\", {'class' : 'live-timestamp'}).get('datetime')\n",
    "    #URL\n",
    "    if article.find(\"a\", {'class': 'title may-blank ' }) is None:\n",
    "        posts.remove(article)\n",
    "    else: \n",
    "        article_URL = article.find(\"a\", {'class': 'title may-blank ' }).get('href')\n",
    "    #Thumbnails\n",
    "    if article.find('img') is None:\n",
    "        posts.remove(article)\n",
    "    else:\n",
    "        image_url = article.find('img')\n",
    "        if image_url:\n",
    "            thumbnail = image_url.get('src')\n",
    "    #votes\n",
    "    if article.find(\"div\", {'class': 'score unvoted' }) is None:\n",
    "        posts.remove(article)\n",
    "    else:\n",
    "        article_score = article.find(\"div\", {'class': 'score unvoted' })\n",
    "    #Dictionary\n",
    "    article_subreddit_dict = {'subreddit': article_subreddit.string, 'title': article_title.string, \\\n",
    "                              'time': time, 'URL': article_URL, 'thumbnail-URL': thumbnail, \\\n",
    "                              'votes': vote_count_int(article_score.string)}\n",
    "                              \n",
    "    \n",
    "    #Dict List\n",
    "    all_stories.append(article_subreddit_dict)"
   ]
  },
  {
   "cell_type": "code",
   "execution_count": 92,
   "metadata": {
    "collapsed": false
   },
   "outputs": [
    {
     "data": {
      "text/plain": [
       "[{'URL': 'http://www.usnews.com/news/politics/articles/2016-06-23/the-latest-business-leaders-endorse-clinton',\n",
       "  'subreddit': '/r/politics',\n",
       "  'thumbnail-URL': '//b.thumbs.redditmedia.com/tc5Ut1c5FOyNLBdK0BpkuEZ-aC2eEu252qOcLU6j7Hw.jpg',\n",
       "  'time': '2016-06-23T18:54:46+00:00',\n",
       "  'title': \"Presumptive GOP nominee Donald Trump is commending the Supreme Court's decision blocking President Barack Obama's efforts to shield millions living in the U.S. illegally from deportation\",\n",
       "  'votes': 0},\n",
       " {'URL': 'http://abcnews.go.com/Politics/state-dept-appears-disabled-security-features-blocking-clintons/story?id=40078931',\n",
       "  'subreddit': '/r/politics',\n",
       "  'thumbnail-URL': '//b.thumbs.redditmedia.com/4Mgue1kjmHJzI_WgzMnd921rog-Fn20BWZIMaqYTNco.jpg',\n",
       "  'time': '2016-06-23T18:46:14+00:00',\n",
       "  'title': \"State Dept. Appears to Have Disabled Security Features Blocking Clinton's Private Email\",\n",
       "  'votes': 0},\n",
       " {'URL': 'http://thehill.com/blogs/congress-blog/judicial/284611-chaos-following-scotuss-4-4-split-on-texass-amnesty-challenge',\n",
       "  'subreddit': '/r/politics',\n",
       "  'thumbnail-URL': '//b.thumbs.redditmedia.com/9k9rxJY8kk71kWMXMoAEzQhdShimq3RVlM_dQy088SI.jpg',\n",
       "  'time': '2016-06-23T18:48:32+00:00',\n",
       "  'title': \"Chaos following SCOTUS’s 4-4 split on Texas's amnesty-challenge looks inevitable\",\n",
       "  'votes': 0},\n",
       " {'URL': 'https://www.washingtonpost.com/posteverything/wp/2016/06/23/bernie-sanders-heres-what-we-want/',\n",
       "  'subreddit': '/r/politics',\n",
       "  'thumbnail-URL': '//b.thumbs.redditmedia.com/IYKB7NfTYswU4bReO8meGQkdT5pawuicEWYLEBYjILY.jpg',\n",
       "  'time': '2016-06-23T11:28:57+00:00',\n",
       "  'title': 'Bernie Sanders: Here’s what we want \"We want an economy that is not based on uncontrollable greed, monopolistic practices and illegal behavior. We want an economy that protects the human needs and dignity of all people — children, the elderly, the sick, working people and the poor.\"',\n",
       "  'votes': 5150},\n",
       " {'URL': 'http://nypost.com/2016/06/22/clinton-staff-disabled-security-of-private-email-server-report/',\n",
       "  'subreddit': '/r/politics',\n",
       "  'thumbnail-URL': '//b.thumbs.redditmedia.com/24K9u-poEnhjgUEfxMwqLXW6yY_9O99_Io20CEUjh_Q.jpg',\n",
       "  'time': '2016-06-23T13:46:50+00:00',\n",
       "  'title': 'Clinton staff disabled security of private email server',\n",
       "  'votes': 2125},\n",
       " {'URL': 'http://arstechnica.com/information-technology/2016/06/clintons-private-e-mail-was-blocked-by-spam-filters-so-state-it-turned-them-off/',\n",
       "  'subreddit': '/r/politics',\n",
       "  'thumbnail-URL': '//b.thumbs.redditmedia.com/Gub8eW2F2whyH3svfAmR27ocSS6SyJs_-xaPBKmV9oY.jpg',\n",
       "  'time': '2016-06-23T16:53:56+00:00',\n",
       "  'title': 'Clinton’s private e-mail was blocked by spam filters—so State IT turned them off',\n",
       "  'votes': 750},\n",
       " {'URL': 'http://www.chron.com/news/politics/article/Emails-Key-security-features-disabled-on-8319055.php',\n",
       "  'subreddit': '/r/politics',\n",
       "  'thumbnail-URL': '//b.thumbs.redditmedia.com/zGkiPbVriz8PB0nX-T3yUAtiFRjbYUd4lDrrEPxMxhE.jpg',\n",
       "  'time': '2016-06-23T12:32:01+00:00',\n",
       "  'title': \"State Dept. scrambled on trouble on Clinton's server\",\n",
       "  'votes': 1125},\n",
       " {'URL': 'https://www.denverpost.com/2016/06/22/imf-downgrades-outlook-us-economy/',\n",
       "  'subreddit': '/r/politics',\n",
       "  'thumbnail-URL': '//b.thumbs.redditmedia.com/wceBPJCsANRQ2MSPj7wy2Ls3k7KrjCqr21jyg8mooKg.jpg',\n",
       "  'time': '2016-06-23T14:22:07+00:00',\n",
       "  'title': 'U.S. should raise minimum wage, overhaul taxes and offer paid maternity leave, IMF says',\n",
       "  'votes': 775},\n",
       " {'URL': 'http://www.politico.com/blogs/2016-dem-primary-live-updates-and-results/2016/06/superdelegates-maine-convention-224703',\n",
       "  'subreddit': '/r/politics',\n",
       "  'thumbnail-URL': '//a.thumbs.redditmedia.com/0edRQMR0d7yUF95Adeb7pbtvNEdtz9vGnfV6nMRm7U0.jpg',\n",
       "  'time': '2016-06-23T13:07:26+00:00',\n",
       "  'title': 'Maine Democrat moves to abolish superdelegates',\n",
       "  'votes': 854},\n",
       " {'URL': 'http://thehill.com/regulation/284468-gop-fails-to-block-obamas-financial-adviser-rule',\n",
       "  'subreddit': '/r/politics',\n",
       "  'thumbnail-URL': '//b.thumbs.redditmedia.com/XZlSyiKFPWo2KU40KyZz85fEiOO9OJy2qGdyz5cO_TI.jpg',\n",
       "  'time': '2016-06-23T03:22:03+00:00',\n",
       "  'title': \"GOP fails to block Obama's financial adviser rule requiring financial advisers to act in the best interest of their clients who are saving for retirement.\",\n",
       "  'votes': 4595},\n",
       " {'URL': 'http://www.newsmax.com/CalThomas/honesty-integrity/2016/06/23/id/735281/',\n",
       "  'subreddit': '/r/politics',\n",
       "  'thumbnail-URL': '//b.thumbs.redditmedia.com/x3UBEZDHrpKraFmVKzSgdowPlIesmFMsR_Ow6QELPwU.jpg',\n",
       "  'time': '2016-06-23T15:35:25+00:00',\n",
       "  'title': 'Democrats Should Demand Better Than Hillary',\n",
       "  'votes': 431},\n",
       " {'URL': 'http://thehill.com/policy/national-security/284604-clinton-aide-joked-about-funders-appointment-to-intelligence-board',\n",
       "  'subreddit': '/r/politics',\n",
       "  'thumbnail-URL': '//b.thumbs.redditmedia.com/N_92gaU-4sgymupI1hBoO-mO3Oszi5Eotay9UCh-yVQ.jpg',\n",
       "  'time': '2016-06-23T16:51:34+00:00',\n",
       "  'title': 'HRC aide jokes about donor appointment via email',\n",
       "  'votes': 293}]"
      ]
     },
     "execution_count": 92,
     "metadata": {},
     "output_type": "execute_result"
    }
   ],
   "source": [
    "all_stories"
   ]
  },
  {
   "cell_type": "code",
   "execution_count": 106,
   "metadata": {
    "collapsed": true
   },
   "outputs": [],
   "source": [
    "import pandas as pd"
   ]
  },
  {
   "cell_type": "code",
   "execution_count": 107,
   "metadata": {
    "collapsed": true
   },
   "outputs": [],
   "source": [
    "#convert to Pandas"
   ]
  },
  {
   "cell_type": "code",
   "execution_count": 109,
   "metadata": {
    "collapsed": true
   },
   "outputs": [],
   "source": [
    "#date string import"
   ]
  },
  {
   "cell_type": "code",
   "execution_count": 116,
   "metadata": {
    "collapsed": false
   },
   "outputs": [
    {
     "data": {
      "text/html": [
       "<div>\n",
       "<table border=\"1\" class=\"dataframe\">\n",
       "  <thead>\n",
       "    <tr style=\"text-align: right;\">\n",
       "      <th></th>\n",
       "      <th>URL</th>\n",
       "      <th>subreddit</th>\n",
       "      <th>thumbnail-URL</th>\n",
       "      <th>time</th>\n",
       "      <th>title</th>\n",
       "      <th>votes</th>\n",
       "    </tr>\n",
       "  </thead>\n",
       "  <tbody>\n",
       "    <tr>\n",
       "      <th>0</th>\n",
       "      <td>http://www.usnews.com/news/politics/articles/2...</td>\n",
       "      <td>/r/politics</td>\n",
       "      <td>//b.thumbs.redditmedia.com/tc5Ut1c5FOyNLBdK0Bp...</td>\n",
       "      <td>2016-06-23T18:54:46+00:00</td>\n",
       "      <td>Presumptive GOP nominee Donald Trump is commen...</td>\n",
       "      <td>0</td>\n",
       "    </tr>\n",
       "    <tr>\n",
       "      <th>1</th>\n",
       "      <td>http://abcnews.go.com/Politics/state-dept-appe...</td>\n",
       "      <td>/r/politics</td>\n",
       "      <td>//b.thumbs.redditmedia.com/4Mgue1kjmHJzI_WgzMn...</td>\n",
       "      <td>2016-06-23T18:46:14+00:00</td>\n",
       "      <td>State Dept. Appears to Have Disabled Security ...</td>\n",
       "      <td>0</td>\n",
       "    </tr>\n",
       "  </tbody>\n",
       "</table>\n",
       "</div>"
      ],
      "text/plain": [
       "                                                 URL    subreddit  \\\n",
       "0  http://www.usnews.com/news/politics/articles/2...  /r/politics   \n",
       "1  http://abcnews.go.com/Politics/state-dept-appe...  /r/politics   \n",
       "\n",
       "                                       thumbnail-URL  \\\n",
       "0  //b.thumbs.redditmedia.com/tc5Ut1c5FOyNLBdK0Bp...   \n",
       "1  //b.thumbs.redditmedia.com/4Mgue1kjmHJzI_WgzMn...   \n",
       "\n",
       "                        time  \\\n",
       "0  2016-06-23T18:54:46+00:00   \n",
       "1  2016-06-23T18:46:14+00:00   \n",
       "\n",
       "                                               title  votes  \n",
       "0  Presumptive GOP nominee Donald Trump is commen...      0  \n",
       "1  State Dept. Appears to Have Disabled Security ...      0  "
      ]
     },
     "execution_count": 116,
     "metadata": {},
     "output_type": "execute_result"
    }
   ],
   "source": [
    "stories_df = pd.DataFrame(all_stories)\n",
    "stories_df.head(2)"
   ]
  },
  {
   "cell_type": "code",
   "execution_count": 119,
   "metadata": {
    "collapsed": false
   },
   "outputs": [],
   "source": [
    "CSV_FORMAT = stories_df[['URL', 'subreddit', 'thumbnail-URL', 'time', 'title', 'votes']]"
   ]
  },
  {
   "cell_type": "code",
   "execution_count": 110,
   "metadata": {
    "collapsed": true
   },
   "outputs": [],
   "source": [
    "import time"
   ]
  },
  {
   "cell_type": "code",
   "execution_count": 111,
   "metadata": {
    "collapsed": false
   },
   "outputs": [
    {
     "data": {
      "text/plain": [
       "'06-Jun-23'"
      ]
     },
     "execution_count": 111,
     "metadata": {},
     "output_type": "execute_result"
    }
   ],
   "source": [
    "datestring = time.strftime(\"%m-%h-%d\")\n",
    "datestring"
   ]
  },
  {
   "cell_type": "code",
   "execution_count": 112,
   "metadata": {
    "collapsed": true
   },
   "outputs": [],
   "source": [
    "#creating .csv file"
   ]
  },
  {
   "cell_type": "code",
   "execution_count": 120,
   "metadata": {
    "collapsed": false
   },
   "outputs": [],
   "source": [
    "filename = \"reddit-frontpage-\" + datestring + \".csv\"\n",
    "CSV_FORMAT.to_csv(filename, index=False)"
   ]
  },
  {
   "cell_type": "code",
   "execution_count": null,
   "metadata": {
    "collapsed": true
   },
   "outputs": [],
   "source": []
  },
  {
   "cell_type": "code",
   "execution_count": null,
   "metadata": {
    "collapsed": true
   },
   "outputs": [],
   "source": []
  }
 ],
 "metadata": {
  "kernelspec": {
   "display_name": "Python 3",
   "language": "python",
   "name": "python3"
  },
  "language_info": {
   "codemirror_mode": {
    "name": "ipython",
    "version": 3
   },
   "file_extension": ".py",
   "mimetype": "text/x-python",
   "name": "python",
   "nbconvert_exporter": "python",
   "pygments_lexer": "ipython3",
   "version": "3.5.1"
  }
 },
 "nbformat": 4,
 "nbformat_minor": 0
}
