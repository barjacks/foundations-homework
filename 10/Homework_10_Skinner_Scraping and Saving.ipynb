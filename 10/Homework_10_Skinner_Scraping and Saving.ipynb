{
 "cells": [
  {
   "cell_type": "markdown",
   "metadata": {},
   "source": [
    "# Scraping and Saving Reddit"
   ]
  },
  {
   "cell_type": "code",
   "execution_count": 252,
   "metadata": {
    "collapsed": true
   },
   "outputs": [],
   "source": [
    "import requests\n",
    "from bs4 import BeautifulSoup"
   ]
  },
  {
   "cell_type": "code",
   "execution_count": 253,
   "metadata": {
    "collapsed": true
   },
   "outputs": [],
   "source": [
    "# Grab the Reddit Homepage\n",
    "headers = {'User-Agent': 'Mozilla/5.0 (Macintosh; Intel Mac OS X 10_10_1) AppleWebKit/537.36 (KHTML, like Gecko) Chrome/39.0.2171.95 Safari/537.36'}\n",
    "response = requests.get(\"http://www.reddit.com\", headers=headers)"
   ]
  },
  {
   "cell_type": "code",
   "execution_count": 254,
   "metadata": {
    "collapsed": true
   },
   "outputs": [],
   "source": [
    "# Feed it into BeautifulSoup\n",
    "reddit = BeautifulSoup(response.text, 'html.parser')"
   ]
  },
  {
   "cell_type": "code",
   "execution_count": 255,
   "metadata": {
    "collapsed": false
   },
   "outputs": [],
   "source": [
    "#print(reddit)"
   ]
  },
  {
   "cell_type": "code",
   "execution_count": 256,
   "metadata": {
    "collapsed": false
   },
   "outputs": [],
   "source": [
    "#This is want I want to be able to change into a csv.\n",
    "\n",
    "dict = [\n",
    "        {'title': 'title of the post',\n",
    "        'votes': 'number of votes',\n",
    "        'subreddit': 'subreddit',   #/r/AskReddit \n",
    "        'timestamp': 'TIMESTAMP',   #2016-06-22T12:33:58+00:00\n",
    "        'URL': 'URL',\n",
    "        'URL-image': 'URL Thumbnail'},\n",
    "        {'title': 'title of the post',\n",
    "        'votes': 'number of votes',\n",
    "        'subreddit': 'subreddit',   #/r/AskReddit \n",
    "        'timestamp': 'TIMESTAMP',   #2016-06-22T12:33:58+00:00\n",
    "        'URL': 'URL',\n",
    "        'URL-image': 'URL Thumbnail'}\n",
    "       ]"
   ]
  },
  {
   "cell_type": "code",
   "execution_count": 257,
   "metadata": {
    "collapsed": false
   },
   "outputs": [],
   "source": [
    "one_sibling_up = reddit.find_all('div', {'class': 'clearleft'})"
   ]
  },
  {
   "cell_type": "code",
   "execution_count": 258,
   "metadata": {
    "collapsed": false
   },
   "outputs": [],
   "source": [
    "# because only every other clearleft has a post in it:\n",
    "posts = [tag.find_next_sibling('div') for tag in one_sibling_up if tag.find_next_sibling('div')]"
   ]
  },
  {
   "cell_type": "code",
   "execution_count": 264,
   "metadata": {
    "collapsed": false
   },
   "outputs": [],
   "source": [
    "#Function to change the votes into int\n",
    "def vote_count_int(x):\n",
    "    if x == '•':\n",
    "        return 0\n",
    "    else:\n",
    "        return int(x)"
   ]
  },
  {
   "cell_type": "code",
   "execution_count": 265,
   "metadata": {
    "collapsed": false
   },
   "outputs": [
    {
     "ename": "AttributeError",
     "evalue": "'NoneType' object has no attribute 'get'",
     "output_type": "error",
     "traceback": [
      "\u001b[0;31m---------------------------------------------------------------------\u001b[0m",
      "\u001b[0;31mAttributeError\u001b[0m                      Traceback (most recent call last)",
      "\u001b[0;32m<ipython-input-265-895f2410b7f0>\u001b[0m in \u001b[0;36m<module>\u001b[0;34m()\u001b[0m\n\u001b[1;32m      9\u001b[0m     \u001b[0marticle_score\u001b[0m \u001b[0;34m=\u001b[0m \u001b[0marticle\u001b[0m\u001b[0;34m.\u001b[0m\u001b[0mfind\u001b[0m\u001b[0;34m(\u001b[0m\u001b[0;34m\"div\"\u001b[0m\u001b[0;34m,\u001b[0m \u001b[0;34m{\u001b[0m\u001b[0;34m'class'\u001b[0m\u001b[0;34m:\u001b[0m \u001b[0;34m'score unvoted'\u001b[0m \u001b[0;34m}\u001b[0m\u001b[0;34m)\u001b[0m\u001b[0;34m\u001b[0m\u001b[0m\n\u001b[1;32m     10\u001b[0m     \u001b[0;31m#time\u001b[0m\u001b[0;34m\u001b[0m\u001b[0;34m\u001b[0m\u001b[0m\n\u001b[0;32m---> 11\u001b[0;31m     \u001b[0mtime\u001b[0m \u001b[0;34m=\u001b[0m \u001b[0marticle\u001b[0m\u001b[0;34m.\u001b[0m\u001b[0mfind\u001b[0m\u001b[0;34m(\u001b[0m\u001b[0;34m\"time\"\u001b[0m\u001b[0;34m,\u001b[0m \u001b[0;34m{\u001b[0m\u001b[0;34m'class'\u001b[0m \u001b[0;34m:\u001b[0m \u001b[0;34m'live-timestamp'\u001b[0m\u001b[0;34m}\u001b[0m\u001b[0;34m)\u001b[0m\u001b[0;34m.\u001b[0m\u001b[0mget\u001b[0m\u001b[0;34m(\u001b[0m\u001b[0;34m'datetime'\u001b[0m\u001b[0;34m)\u001b[0m\u001b[0;34m\u001b[0m\u001b[0m\n\u001b[0m\u001b[1;32m     12\u001b[0m     \u001b[0;31m#URL\u001b[0m\u001b[0;34m\u001b[0m\u001b[0;34m\u001b[0m\u001b[0m\n\u001b[1;32m     13\u001b[0m     \u001b[0marticle_URL\u001b[0m \u001b[0;34m=\u001b[0m \u001b[0mURL\u001b[0m\u001b[0;34m.\u001b[0m\u001b[0mfind\u001b[0m\u001b[0;34m(\u001b[0m\u001b[0;34m\"a\"\u001b[0m\u001b[0;34m,\u001b[0m \u001b[0;34m{\u001b[0m\u001b[0;34m'class'\u001b[0m\u001b[0;34m:\u001b[0m \u001b[0;34m'title may-blank '\u001b[0m \u001b[0;34m}\u001b[0m\u001b[0;34m)\u001b[0m\u001b[0;34m.\u001b[0m\u001b[0mget\u001b[0m\u001b[0;34m(\u001b[0m\u001b[0;34m'href'\u001b[0m\u001b[0;34m)\u001b[0m\u001b[0;34m\u001b[0m\u001b[0m\n",
      "\u001b[0;31mAttributeError\u001b[0m: 'NoneType' object has no attribute 'get'"
     ]
    }
   ],
   "source": [
    "#Master transformation code\n",
    "all_stories = []\n",
    "for article in posts:\n",
    "    #subreddit\n",
    "    article_subreddit = article.find(\"a\", {'class': 'subreddit hover may-blank' })\n",
    "    #title\n",
    "    article_title = article.find(\"a\", {'class': 'title may-blank ' }) \n",
    "    #votes\n",
    "    article_score = article.find(\"div\", {'class': 'score unvoted' })\n",
    "    #time\n",
    "    time = article.find(\"time\", {'class' : 'live-timestamp'}).get('datetime')\n",
    "    #URL\n",
    "    article_URL = URL.find(\"a\", {'class': 'title may-blank ' }).get('href')\n",
    "    #Dict\n",
    "    article_subreddit_dict = {'title': article_title.string, 'subreddit': article_subreddit.string, \\\n",
    "                              'votes': vote_count_int(article_score.string), 'URL': article_URL, \\\n",
    "                              'time': time}\n",
    "    #Dict List\n",
    "    all_stories.append(article_subreddit_dict)"
   ]
  },
  {
   "cell_type": "code",
   "execution_count": 268,
   "metadata": {
    "collapsed": false
   },
   "outputs": [
    {
     "ename": "AttributeError",
     "evalue": "'NoneType' object has no attribute 'string'",
     "output_type": "error",
     "traceback": [
      "\u001b[0;31m---------------------------------------------------------------------\u001b[0m",
      "\u001b[0;31mAttributeError\u001b[0m                      Traceback (most recent call last)",
      "\u001b[0;32m<ipython-input-268-ed1a1d54e4cd>\u001b[0m in \u001b[0;36m<module>\u001b[0;34m()\u001b[0m\n\u001b[1;32m     18\u001b[0m     \u001b[0;31m#article_URL = URL.find(\"a\", {'class': 'title may-blank ' }).get('href')\u001b[0m\u001b[0;34m\u001b[0m\u001b[0;34m\u001b[0m\u001b[0m\n\u001b[1;32m     19\u001b[0m     \u001b[0;31m#Dict\u001b[0m\u001b[0;34m\u001b[0m\u001b[0;34m\u001b[0m\u001b[0m\n\u001b[0;32m---> 20\u001b[0;31m     \u001b[0marticle_subreddit_dict\u001b[0m \u001b[0;34m=\u001b[0m \u001b[0;34m{\u001b[0m\u001b[0;34m'title'\u001b[0m\u001b[0;34m:\u001b[0m \u001b[0marticle_title\u001b[0m\u001b[0;34m.\u001b[0m\u001b[0mstring\u001b[0m\u001b[0;34m,\u001b[0m                               \u001b[0;34m'time'\u001b[0m\u001b[0;34m:\u001b[0m \u001b[0mtime\u001b[0m\u001b[0;34m}\u001b[0m\u001b[0;34m\u001b[0m\u001b[0m\n\u001b[0m\u001b[1;32m     21\u001b[0m     \u001b[0;31m#Dict List\u001b[0m\u001b[0;34m\u001b[0m\u001b[0;34m\u001b[0m\u001b[0m\n\u001b[1;32m     22\u001b[0m     \u001b[0mall_stories\u001b[0m\u001b[0;34m.\u001b[0m\u001b[0mappend\u001b[0m\u001b[0;34m(\u001b[0m\u001b[0marticle_subreddit_dict\u001b[0m\u001b[0;34m)\u001b[0m\u001b[0;34m\u001b[0m\u001b[0m\n",
      "\u001b[0;31mAttributeError\u001b[0m: 'NoneType' object has no attribute 'string'"
     ]
    }
   ],
   "source": [
    "all_stories = []\n",
    "for article in posts:\n",
    "    #subreddit\n",
    "    if article.find(\"a\", {'class': 'subreddit hover may-blank' }) is None:\n",
    "        posts.remove(article)\n",
    "    else: \n",
    "        article_subreddit = article.find(\"a\", {'class': 'subreddit hover may-blank' })\n",
    "    #title\n",
    "    #article_title = article.find(\"a\", {'class': 'title may-blank ' }) \n",
    "    #votes\n",
    "    #article_score = article.find(\"div\", {'class': 'score unvoted' })\n",
    "    #time\n",
    "    if article.find(\"time\", {'class' : 'live-timestamp'}) is None:  \n",
    "        posts.remove(article)\n",
    "    else:\n",
    "        time = article.find(\"time\", {'class' : 'live-timestamp'}).get('datetime')\n",
    "    #URL\n",
    "    #article_URL = URL.find(\"a\", {'class': 'title may-blank ' }).get('href')\n",
    "    #Dict\n",
    "    article_subreddit_dict = {'title': article_title.string, \\\n",
    "                              'time': time}\n",
    "    #Dict List\n",
    "    all_stories.append(article_subreddit_dict)"
   ]
  },
  {
   "cell_type": "code",
   "execution_count": null,
   "metadata": {
    "collapsed": true
   },
   "outputs": [],
   "source": []
  },
  {
   "cell_type": "code",
   "execution_count": null,
   "metadata": {
    "collapsed": true
   },
   "outputs": [],
   "source": [
    "thumbnail may-blank "
   ]
  },
  {
   "cell_type": "code",
   "execution_count": null,
   "metadata": {
    "collapsed": true
   },
   "outputs": [],
   "source": []
  },
  {
   "cell_type": "code",
   "execution_count": 218,
   "metadata": {
    "collapsed": false
   },
   "outputs": [
    {
     "data": {
      "text/plain": [
       "[{'URL': 'http://www.popmatters.com/post/rats-writing-and-the-nature-of-evil-a-night-with-stephen-king/',\n",
       "  'subreddit': '/r/Showerthoughts',\n",
       "  'time': '2016-06-23T18:15:41+00:00',\n",
       "  'title': \"All the VR games that come out are going to be bought by people so they can say that they don't use it just for porn.\",\n",
       "  'votes': 0},\n",
       " {'URL': 'http://www.popmatters.com/post/rats-writing-and-the-nature-of-evil-a-night-with-stephen-king/',\n",
       "  'subreddit': '/r/funny',\n",
       "  'time': '2016-06-23T18:18:22+00:00',\n",
       "  'title': 'My dad the night before his colonoscopy, recorded by mom',\n",
       "  'votes': 0},\n",
       " {'URL': 'http://www.popmatters.com/post/rats-writing-and-the-nature-of-evil-a-night-with-stephen-king/',\n",
       "  'subreddit': '/r/Art',\n",
       "  'time': '2016-06-23T18:15:04+00:00',\n",
       "  'title': 'Viking Helm, Pen on paper, a4',\n",
       "  'votes': 0},\n",
       " {'URL': 'http://www.popmatters.com/post/rats-writing-and-the-nature-of-evil-a-night-with-stephen-king/',\n",
       "  'subreddit': '/r/worldnews',\n",
       "  'time': '2016-06-23T18:20:05+00:00',\n",
       "  'title': 'UK Polling station closed after man is found with stab wounds in West Yorkshire',\n",
       "  'votes': 0},\n",
       " {'URL': 'http://www.popmatters.com/post/rats-writing-and-the-nature-of-evil-a-night-with-stephen-king/',\n",
       "  'subreddit': '/r/gaming',\n",
       "  'time': '2016-06-23T18:18:55+00:00',\n",
       "  'title': 'This Is An Actual Song From The First Resident Evil. Someone Was Paid To Write This.',\n",
       "  'votes': 0},\n",
       " {'URL': 'http://www.popmatters.com/post/rats-writing-and-the-nature-of-evil-a-night-with-stephen-king/',\n",
       "  'subreddit': '/r/personalfinance',\n",
       "  'time': '2016-06-23T18:17:38+00:00',\n",
       "  'title': 'Go ahead and pay off student loan?',\n",
       "  'votes': 0},\n",
       " {'URL': 'http://www.popmatters.com/post/rats-writing-and-the-nature-of-evil-a-night-with-stephen-king/',\n",
       "  'subreddit': '/r/sports',\n",
       "  'time': '2016-06-23T18:12:32+00:00',\n",
       "  'title': 'Future of Icc Champions Trophy back in doubt',\n",
       "  'votes': 0},\n",
       " {'URL': 'http://www.popmatters.com/post/rats-writing-and-the-nature-of-evil-a-night-with-stephen-king/',\n",
       "  'subreddit': '/r/Showerthoughts',\n",
       "  'time': '2016-06-23T18:18:32+00:00',\n",
       "  'title': \"I wonder if I can trust my own opinions since I'm only a 1 person sample size\",\n",
       "  'votes': 0},\n",
       " {'URL': 'http://www.popmatters.com/post/rats-writing-and-the-nature-of-evil-a-night-with-stephen-king/',\n",
       "  'subreddit': '/r/mildlyinteresting',\n",
       "  'time': '2016-06-23T18:19:12+00:00',\n",
       "  'title': 'So I was trying to take a picture of this bike and the next thing I knew I was getting the finger',\n",
       "  'votes': 0},\n",
       " {'URL': 'http://www.popmatters.com/post/rats-writing-and-the-nature-of-evil-a-night-with-stephen-king/',\n",
       "  'subreddit': '/r/pics',\n",
       "  'time': '2016-06-23T14:12:05+00:00',\n",
       "  'title': 'Mad skills',\n",
       "  'votes': 5405},\n",
       " {'URL': 'http://www.popmatters.com/post/rats-writing-and-the-nature-of-evil-a-night-with-stephen-king/',\n",
       "  'subreddit': '/r/aww',\n",
       "  'time': '2016-06-23T12:38:06+00:00',\n",
       "  'title': 'I get greeted like this everyday.',\n",
       "  'votes': 6890},\n",
       " {'URL': 'http://www.popmatters.com/post/rats-writing-and-the-nature-of-evil-a-night-with-stephen-king/',\n",
       "  'subreddit': '/r/funny',\n",
       "  'time': '2016-06-23T12:41:33+00:00',\n",
       "  'title': 'Army Specialist was denied leave to go to a baby shower because his CO said \"Men don\\'t go to baby showers\", so he changed his reason',\n",
       "  'votes': 7913},\n",
       " {'URL': 'http://www.popmatters.com/post/rats-writing-and-the-nature-of-evil-a-night-with-stephen-king/',\n",
       "  'subreddit': '/r/Showerthoughts',\n",
       "  'time': '2016-06-23T12:37:11+00:00',\n",
       "  'title': \"If I wore a British flag sweater while in the UK, people would assume I'm a tourist. If I wore an American flag sweater while in America, they'd assume I'm a local.\",\n",
       "  'votes': 5661},\n",
       " {'URL': 'http://www.popmatters.com/post/rats-writing-and-the-nature-of-evil-a-night-with-stephen-king/',\n",
       "  'subreddit': '/r/gifs',\n",
       "  'time': '2016-06-23T11:42:53+00:00',\n",
       "  'title': 'Pug is reunited with its owner after being stolen in a burglary',\n",
       "  'votes': 6343},\n",
       " {'URL': 'http://www.popmatters.com/post/rats-writing-and-the-nature-of-evil-a-night-with-stephen-king/',\n",
       "  'subreddit': '/r/videos',\n",
       "  'time': '2016-06-23T12:06:52+00:00',\n",
       "  'title': 'What Happened Before History? Human Origins',\n",
       "  'votes': 5410},\n",
       " {'URL': 'http://www.popmatters.com/post/rats-writing-and-the-nature-of-evil-a-night-with-stephen-king/',\n",
       "  'subreddit': '/r/todayilearned',\n",
       "  'time': '2016-06-23T13:12:52+00:00',\n",
       "  'title': 'TIL that Nevada is the only state to have a \"None of the above\" option in Presidential elections',\n",
       "  'votes': 4323},\n",
       " {'URL': 'http://www.popmatters.com/post/rats-writing-and-the-nature-of-evil-a-night-with-stephen-king/',\n",
       "  'subreddit': '/r/explainlikeimfive',\n",
       "  'time': '2016-06-23T14:01:11+00:00',\n",
       "  'title': 'ELI5: Why is the AR-15 not considered an assault rifle? What makes a rifle an assault rifle?',\n",
       "  'votes': 3383},\n",
       " {'URL': 'http://www.popmatters.com/post/rats-writing-and-the-nature-of-evil-a-night-with-stephen-king/',\n",
       "  'subreddit': '/r/movies',\n",
       "  'time': '2016-06-23T15:27:38+00:00',\n",
       "  'title': 'Last night, I paid $17 to see a movie and they showed 16 minutes of commercials before it started. And theaters wonder why people stay at home.',\n",
       "  'votes': 2456},\n",
       " {'URL': 'http://www.popmatters.com/post/rats-writing-and-the-nature-of-evil-a-night-with-stephen-king/',\n",
       "  'subreddit': '/r/food',\n",
       "  'time': '2016-06-23T13:44:37+00:00',\n",
       "  'title': 'Caprese salad I make at the restaurant I work at.',\n",
       "  'votes': 3349},\n",
       " {'URL': 'http://www.popmatters.com/post/rats-writing-and-the-nature-of-evil-a-night-with-stephen-king/',\n",
       "  'subreddit': '/r/mildlyinteresting',\n",
       "  'time': '2016-06-23T11:35:08+00:00',\n",
       "  'title': 'Someone who drives the same truck as me, in the same color, with the same NASA sticker in the same place on the back windshield parked next to me this morning.',\n",
       "  'votes': 4005},\n",
       " {'URL': 'http://www.popmatters.com/post/rats-writing-and-the-nature-of-evil-a-night-with-stephen-king/',\n",
       "  'subreddit': '/r/creepy',\n",
       "  'time': '2016-06-23T10:42:03+00:00',\n",
       "  'title': \"Coraline's Other Mother Cosplay\",\n",
       "  'votes': 4732},\n",
       " {'URL': 'http://www.popmatters.com/post/rats-writing-and-the-nature-of-evil-a-night-with-stephen-king/',\n",
       "  'subreddit': '/r/LifeProTips',\n",
       "  'time': '2016-06-23T16:23:44+00:00',\n",
       "  'title': 'LPT: Have a friend call up your ex-employers pretending to be a potential employer to see what they say about you',\n",
       "  'votes': 1630},\n",
       " {'URL': 'http://www.popmatters.com/post/rats-writing-and-the-nature-of-evil-a-night-with-stephen-king/',\n",
       "  'subreddit': '/r/photoshopbattles',\n",
       "  'time': '2016-06-23T09:41:33+00:00',\n",
       "  'title': 'PsBattle: A cheetah refusing to paricipate in a dog race',\n",
       "  'votes': 5352},\n",
       " {'URL': 'http://www.popmatters.com/post/rats-writing-and-the-nature-of-evil-a-night-with-stephen-king/',\n",
       "  'subreddit': '/r/news',\n",
       "  'time': '2016-06-23T10:50:19+00:00',\n",
       "  'title': 'Gun control protest sparks chaos in US Congress',\n",
       "  'votes': 3643},\n",
       " {'URL': 'http://www.popmatters.com/post/rats-writing-and-the-nature-of-evil-a-night-with-stephen-king/',\n",
       "  'subreddit': '/r/tifu',\n",
       "  'time': '2016-06-23T12:36:38+00:00',\n",
       "  'title': \"TIFU by taking my entire hotel's internet down for a day\",\n",
       "  'votes': 2569},\n",
       " {'URL': 'http://www.popmatters.com/post/rats-writing-and-the-nature-of-evil-a-night-with-stephen-king/',\n",
       "  'subreddit': '/r/television',\n",
       "  'time': '2016-06-23T15:14:32+00:00',\n",
       "  'title': \"'Game of Thrones' ratings at record high: 23 million viewers\",\n",
       "  'votes': 1583},\n",
       " {'URL': 'http://www.popmatters.com/post/rats-writing-and-the-nature-of-evil-a-night-with-stephen-king/',\n",
       "  'subreddit': '/r/gaming',\n",
       "  'time': '2016-06-23T08:24:58+00:00',\n",
       "  'title': 'Tomb Raider Cosplay',\n",
       "  'votes': 5159},\n",
       " {'URL': 'http://www.popmatters.com/post/rats-writing-and-the-nature-of-evil-a-night-with-stephen-king/',\n",
       "  'subreddit': '/r/nottheonion',\n",
       "  'time': '2016-06-23T07:08:58+00:00',\n",
       "  'title': 'Judge rules Texas prison must provide inmates with safe-drinking water',\n",
       "  'votes': 5823},\n",
       " {'URL': 'http://www.popmatters.com/post/rats-writing-and-the-nature-of-evil-a-night-with-stephen-king/',\n",
       "  'subreddit': '/r/AskReddit',\n",
       "  'time': '2016-06-23T08:07:05+00:00',\n",
       "  'title': 'Germans, Japanese, and Italians of Reddit, What did you learn about WW2 in School?',\n",
       "  'votes': 4754},\n",
       " {'URL': 'http://www.popmatters.com/post/rats-writing-and-the-nature-of-evil-a-night-with-stephen-king/',\n",
       "  'subreddit': '/r/WritingPrompts',\n",
       "  'time': '2016-06-23T11:25:39+00:00',\n",
       "  'title': '[WP] The UK votes to leave Earth. It passes.',\n",
       "  'votes': 2140},\n",
       " {'URL': 'http://www.popmatters.com/post/rats-writing-and-the-nature-of-evil-a-night-with-stephen-king/',\n",
       "  'subreddit': '/r/science',\n",
       "  'time': '2016-06-23T11:34:17+00:00',\n",
       "  'title': 'Science AMA Series: Hi Reddit, I’m Mike Ellis, head of climate and landscape change science at the British Geological Survey and a member of the Anthropocene Working Group, here to talk about the impact of human activity on the Earth. Ask Me Anything!',\n",
       "  'votes': 1738},\n",
       " {'URL': 'http://www.popmatters.com/post/rats-writing-and-the-nature-of-evil-a-night-with-stephen-king/',\n",
       "  'subreddit': '/r/GetMotivated',\n",
       "  'time': '2016-06-23T09:56:28+00:00',\n",
       "  'title': '[Image]saw this at the campus today',\n",
       "  'votes': 2175},\n",
       " {'URL': 'http://www.popmatters.com/post/rats-writing-and-the-nature-of-evil-a-night-with-stephen-king/',\n",
       "  'subreddit': '/r/UpliftingNews',\n",
       "  'time': '2016-06-23T04:51:06+00:00',\n",
       "  'title': 'LeBron James pledges $87M for hometown kids to attend college',\n",
       "  'votes': 5206}]"
      ]
     },
     "execution_count": 218,
     "metadata": {},
     "output_type": "execute_result"
    }
   ],
   "source": [
    "all_stories"
   ]
  },
  {
   "cell_type": "code",
   "execution_count": 219,
   "metadata": {
    "collapsed": false
   },
   "outputs": [],
   "source": [
    "#Master transformation code, with None Exclusion, don't seem to need it now, ??????\n",
    "#all_stories = []\n",
    "#for article in posts:\n",
    "#    #subreddits\n",
    "#    #excluding None Values that were breaking the code\n",
    "#    if article.find(\"a\", {'class': 'subreddit hover may-blank' }) is None:        \n",
    "#        posts.remove(article) #all_stories.append(\"None\")\n",
    "#    else:\n",
    "#        article_subreddit = article.find(\"a\", {'class': 'subreddit hover may-blank' })\n",
    "#    #titles\n",
    "#    if article.find(\"a\", {'class': 'title may-blank ' }) is None:        \n",
    "#        posts.remove(article) #all_stories.append(\"None\")\n",
    "#    else:\n",
    "#        article_title = article.find(\"a\", {'class': 'title may-blank ' }) \n",
    "#    #votes\n",
    "#    if article.find(\"div\", {'class': 'score unvoted' }) is None:\n",
    "#        posts.remove(article) #all_stories.append(\"None\")    \n",
    "#    else:\n",
    "#        article_score = article.find(\"div\", {'class': 'score unvoted' })\n",
    "#    #timestamp\n",
    "    #if article.find(\"time\", {'class' : 'live-timestamp'}).get('datetime') is None:  \n",
    "    #    posts.remove(article)\n",
    "    #else:\n",
    "    #     time = article.find(\"time\", {'class' : 'live-timestamp'}).get('datetime')  \n",
    "    #URL\n",
    "#    if article.find(\"a\", {'class': 'title may-blank ' }) is None:        \n",
    "#        posts.remove(article) #all_stories.append(\"None\")\n",
    "#    else: #I stell need to deal with the Reddit links\n",
    "#        article_URL = URL.find(\"a\", {'class': 'title may-blank ' }).get('href')\n",
    "    #URL-image\n",
    "    #if article.find(\"a\", {'class': 'subreddit hover may-blank' }) is None:        \n",
    "    #    posts.remove(article) #all_stories.append(\"None\")\n",
    "    #else:\n",
    "    #    article_subreddit = article.find(\"a\", {'class': 'subreddit hover may-blank' })\n",
    "    #Dictionary\n",
    "#        article_subreddit_dict = {'title': article_title.string, 'subreddit': article_subreddit.string, \\\n",
    "#                                  'votes': vote_count_int(article_score.string), 'URL': article_URL, \\\n",
    "#                                  'time': time}\n",
    "#        all_stories.append(article_subreddit_dict)"
   ]
  },
  {
   "cell_type": "code",
   "execution_count": null,
   "metadata": {
    "collapsed": false
   },
   "outputs": [],
   "source": []
  },
  {
   "cell_type": "code",
   "execution_count": 242,
   "metadata": {
    "collapsed": false
   },
   "outputs": [
    {
     "name": "stdout",
     "output_type": "stream",
     "text": [
      "None\n",
      "<a class=\"thumbnail may-blank \" href=\"https://www.youtube.com/watch?v=BWBUVYeDhvU\" rel=\"nofollow\"><img alt=\"\" height=\"52\" src=\"//b.thumbs.redditmedia.com/GmhKu42Jw9KHAJEI5eMi7v0HL62tk3-4vfQh0T4fg5g.jpg\" width=\"70\"/></a>\n",
      "<a class=\"thumbnail may-blank \" href=\"http://i.imgur.com/E40Y3Aq.jpg\" rel=\"\"><img alt=\"\" height=\"70\" src=\"//b.thumbs.redditmedia.com/rMhHis9zXk0P7xC54rWR-2JoFth71GzLn2wN6qGLv7U.jpg\" width=\"70\"/></a>\n",
      "None\n",
      "<a class=\"thumbnail may-blank \" href=\"https://www.youtube.com/watch?v=0kcF7E69C6Q\" rel=\"\"><img alt=\"\" height=\"52\" src=\"//b.thumbs.redditmedia.com/nRqa5w16_q3zQHN7i7nDB6AGz4anGxelYHCnYRZ3ACk.jpg\" width=\"70\"/></a>\n",
      "None\n",
      "<a class=\"thumbnail may-blank \" href=\"http://yuppiesports.com/future-champions-trophy-back-doubt/\" rel=\"nofollow\"><img alt=\"\" height=\"39\" src=\"//b.thumbs.redditmedia.com/tsnPZ8MHzwD_mF5_IiRV4TwXooIphLDeLMTLIxUprfc.jpg\" width=\"70\"/></a>\n",
      "None\n",
      "<a class=\"thumbnail may-blank \" href=\"http://i.imgur.com/ZsUTOfE.jpg\" rel=\"nofollow\"><img alt=\"\" height=\"70\" src=\"//b.thumbs.redditmedia.com/9_up4P7FvurFDoV_vff7s2RbGs7ZAYLhQc0rLSSCozA.jpg\" width=\"70\"/></a>\n",
      "<a class=\"thumbnail may-blank \" href=\"https://imgur.com/gallery/AEDgA\" rel=\"\"><img alt=\"\" height=\"32\" src=\"//b.thumbs.redditmedia.com/TtIsN75YYis7fbMRTPcWCjZnvHeCtKiY57worqAiIUQ.jpg\" width=\"70\"/></a>\n",
      "<a class=\"thumbnail may-blank \" href=\"http://imgur.com/wecPnLs\" rel=\"\"><img alt=\"\" height=\"70\" src=\"//b.thumbs.redditmedia.com/Wc6AoKfhkXS38NiB0j9tqO9oBij_MF3Gbvsc3Z6AEtY.jpg\" width=\"70\"/></a>\n",
      "<a class=\"thumbnail may-blank \" href=\"http://imgur.com/WQ9f3g0\" rel=\"\"><img alt=\"\" height=\"70\" src=\"//b.thumbs.redditmedia.com/1ZRp2v23jOSqkzRmfcqjR5fthye4Iz1dRPwea7Bz9YQ.jpg\" width=\"70\"/></a>\n",
      "None\n",
      "<a class=\"thumbnail may-blank \" href=\"http://i.imgur.com/36CxdeG.gifv\" rel=\"\"><img alt=\"\" height=\"70\" src=\"//b.thumbs.redditmedia.com/ZWNHCpxc-iPE-S3XorEuOT5pWTU_IJpsiCRZKdPQiXE.jpg\" width=\"70\"/></a>\n",
      "<a class=\"thumbnail may-blank \" href=\"https://www.youtube.com/watch?v=dGiQaabX3_o\" rel=\"\"><img alt=\"\" height=\"52\" src=\"//b.thumbs.redditmedia.com/JmaBJTJPLGpLMdyXZoMBnm48BVeUMhBDohu_izm0Mlo.jpg\" width=\"70\"/></a>\n",
      "<a class=\"thumbnail may-blank \" href=\"https://en.wikipedia.org/wiki/None_of_These_Candidates\" rel=\"\"><img alt=\"\" height=\"70\" src=\"//b.thumbs.redditmedia.com/UrQ_74w98rdWE09Wk9naaiRFvKCtcfXXle-9Myh-VZA.jpg\" width=\"70\"/></a>\n",
      "None\n",
      "None\n",
      "<a class=\"thumbnail may-blank \" href=\"http://imgur.com/FC1kOTn\" rel=\"\"><img alt=\"\" height=\"70\" src=\"//b.thumbs.redditmedia.com/NLiSc4E3VcY0pMhdTooNcUYqOlu1u7Y84U_oXw8w06E.jpg\" width=\"70\"/></a>\n",
      "<a class=\"thumbnail may-blank \" href=\"http://imgur.com/pgY9tfA\" rel=\"\"><img alt=\"\" height=\"39\" src=\"//b.thumbs.redditmedia.com/BfP7brhsTTH0VhnBvqdhrt0SjP2Yfw5V0A_YZQeNIOo.jpg\" width=\"70\"/></a>\n",
      "<a class=\"thumbnail may-blank \" href=\"http://i.imgur.com/5iPMM0d.jpg\" rel=\"\"><img alt=\"\" height=\"70\" src=\"//b.thumbs.redditmedia.com/R7DlAi8zYZ9P1AEwQKT6d0GkF3cmoRZbmBxalXWKRbU.jpg\" width=\"70\"/></a>\n",
      "None\n",
      "<a class=\"thumbnail may-blank \" href=\"https://i.imgur.com/5eTvtJl.jpg\" rel=\"\"><img alt=\"\" height=\"45\" src=\"//b.thumbs.redditmedia.com/LIQW8gKR8Y7cCZh_e8KHqHVuSFuGqCpk_4Hl-UKr0aM.jpg\" width=\"70\"/></a>\n",
      "None\n",
      "None\n",
      "<a class=\"thumbnail may-blank \" href=\"http://www.ew.com/article/2016/06/23/game-thrones-ratings\" rel=\"\"><img alt=\"\" height=\"43\" src=\"//b.thumbs.redditmedia.com/bVYZY6u63L8O9k2X-m5Q4fh4d9gdyHd2uJIRm4jLMCc.jpg\" width=\"70\"/></a>\n",
      "<a class=\"thumbnail may-blank \" href=\"http://i.imgur.com/DRqBzIw.png\" rel=\"\"><img alt=\"\" height=\"58\" src=\"//b.thumbs.redditmedia.com/t2EW0e5yLtySiUFzVAaIgTwmTlxBo8yLzNbtLtNwssU.jpg\" width=\"70\"/></a>\n",
      "<a class=\"thumbnail may-blank \" href=\"http://www.foxnews.com/us/2016/06/23/judge-rules-texas-prison-must-provide-inmates-with-safe-drinking-water.html\" rel=\"\"><img alt=\"\" height=\"70\" src=\"//a.thumbs.redditmedia.com/0n3aX7wYMljhMlZW4NXK_gqHzqXgUymMyCF6IGHJ_C4.jpg\" width=\"70\"/></a>\n",
      "None\n",
      "None\n",
      "None\n",
      "<a class=\"thumbnail may-blank \" href=\"http://i.imgur.com/AUeDVGc.jpg\" rel=\"\"><img alt=\"\" height=\"70\" src=\"//b.thumbs.redditmedia.com/BzTvZxd-etuXitPPG3cdYnzM1xLDlKY164btUjYZiOM.jpg\" width=\"70\"/></a>\n",
      "<a class=\"thumbnail may-blank \" href=\"http://nypost.com/2015/08/14/lebron-james-pledges-87m-for-hometown-kids-to-attend-college/\" rel=\"\"><img alt=\"\" height=\"46\" src=\"//b.thumbs.redditmedia.com/cDX3C1xQxqEcQQ-zj1fz-EpxHQLAHPG2_yfQa6l7UWM.jpg\" width=\"70\"/></a>\n"
     ]
    }
   ],
   "source": [
    "for image in posts:\n",
    "    image_url = image.find(\"a\", {'class' : 'thumbnail may-blank '})\n",
    "    print(image_url)"
   ]
  },
  {
   "cell_type": "code",
   "execution_count": 190,
   "metadata": {
    "collapsed": false
   },
   "outputs": [
    {
     "ename": "SyntaxError",
     "evalue": "invalid syntax (<ipython-input-190-95cf42733fdb>, line 1)",
     "output_type": "error",
     "traceback": [
      "\u001b[0;36m  File \u001b[0;32m\"<ipython-input-190-95cf42733fdb>\"\u001b[0;36m, line \u001b[0;32m1\u001b[0m\n\u001b[0;31m    BeautifulSoup(<time class=\"live-timestamp\" datetime=\"2016-06-23T11:26:03+00:00\" title=\"Thu Jun 23 11:26:03 2016 UTC\">10 minutes ago</time>).time.attrs['datetime']\u001b[0m\n\u001b[0m                  ^\u001b[0m\n\u001b[0;31mSyntaxError\u001b[0m\u001b[0;31m:\u001b[0m invalid syntax\n"
     ]
    }
   ],
   "source": [
    "\n",
    "\n"
   ]
  },
  {
   "cell_type": "code",
   "execution_count": 192,
   "metadata": {
    "collapsed": false
   },
   "outputs": [
    {
     "name": "stderr",
     "output_type": "stream",
     "text": [
      "/usr/local/lib/python3.5/site-packages/bs4/__init__.py:166: UserWarning: No parser was explicitly specified, so I'm using the best available HTML parser for this system (\"html.parser\"). This usually isn't a problem, but if you run this code on another system, or in a different virtual environment, it may use a different parser and behave differently.\n",
      "\n",
      "To get rid of this warning, change this:\n",
      "\n",
      " BeautifulSoup([your markup])\n",
      "\n",
      "to this:\n",
      "\n",
      " BeautifulSoup([your markup], \"html.parser\")\n",
      "\n",
      "  markup_type=markup_type))\n"
     ]
    },
    {
     "ename": "TypeError",
     "evalue": "expected string or bytes-like object",
     "output_type": "error",
     "traceback": [
      "\u001b[0;31m---------------------------------------------------------------------\u001b[0m",
      "\u001b[0;31mTypeError\u001b[0m                           Traceback (most recent call last)",
      "\u001b[0;32m<ipython-input-192-fe6306db3586>\u001b[0m in \u001b[0;36m<module>\u001b[0;34m()\u001b[0m\n\u001b[1;32m      1\u001b[0m \u001b[0;32mfor\u001b[0m \u001b[0mtimestamp\u001b[0m \u001b[0;32min\u001b[0m \u001b[0mposts\u001b[0m\u001b[0;34m:\u001b[0m\u001b[0;34m\u001b[0m\u001b[0m\n\u001b[1;32m      2\u001b[0m     \u001b[0mtime\u001b[0m \u001b[0;34m=\u001b[0m \u001b[0mtimestamp\u001b[0m\u001b[0;34m.\u001b[0m\u001b[0mfind\u001b[0m\u001b[0;34m(\u001b[0m\u001b[0;34m\"time\"\u001b[0m\u001b[0;34m,\u001b[0m \u001b[0;34m{\u001b[0m\u001b[0;34m'class'\u001b[0m \u001b[0;34m:\u001b[0m \u001b[0;34m'live-timestamp'\u001b[0m\u001b[0;34m}\u001b[0m\u001b[0;34m)\u001b[0m\u001b[0;34m\u001b[0m\u001b[0m\n\u001b[0;32m----> 3\u001b[0;31m     \u001b[0mBeautifulSoup\u001b[0m\u001b[0;34m(\u001b[0m\u001b[0;34m[\u001b[0m\u001b[0mtime\u001b[0m\u001b[0;34m]\u001b[0m\u001b[0;34m)\u001b[0m\u001b[0;34m.\u001b[0m\u001b[0mtime\u001b[0m\u001b[0;34m.\u001b[0m\u001b[0mattrs\u001b[0m\u001b[0;34m[\u001b[0m\u001b[0;34m'datetime'\u001b[0m\u001b[0;34m]\u001b[0m\u001b[0;34m\u001b[0m\u001b[0m\n\u001b[0m",
      "\u001b[0;32m/usr/local/lib/python3.5/site-packages/bs4/__init__.py\u001b[0m in \u001b[0;36m__init__\u001b[0;34m(self, markup, features, builder, parse_only, from_encoding, exclude_encodings, **kwargs)\u001b[0m\n\u001b[1;32m    210\u001b[0m          \u001b[0mself\u001b[0m\u001b[0;34m.\u001b[0m\u001b[0mcontains_replacement_characters\u001b[0m\u001b[0;34m)\u001b[0m \u001b[0;32min\u001b[0m \u001b[0;34m(\u001b[0m\u001b[0;34m\u001b[0m\u001b[0m\n\u001b[1;32m    211\u001b[0m              self.builder.prepare_markup(\n\u001b[0;32m--> 212\u001b[0;31m                  markup, from_encoding, exclude_encodings=exclude_encodings)):\n\u001b[0m\u001b[1;32m    213\u001b[0m             \u001b[0mself\u001b[0m\u001b[0;34m.\u001b[0m\u001b[0mreset\u001b[0m\u001b[0;34m(\u001b[0m\u001b[0;34m)\u001b[0m\u001b[0;34m\u001b[0m\u001b[0m\n\u001b[1;32m    214\u001b[0m             \u001b[0;32mtry\u001b[0m\u001b[0;34m:\u001b[0m\u001b[0;34m\u001b[0m\u001b[0m\n",
      "\u001b[0;32m/usr/local/lib/python3.5/site-packages/bs4/builder/_htmlparser.py\u001b[0m in \u001b[0;36mprepare_markup\u001b[0;34m(self, markup, user_specified_encoding, document_declared_encoding, exclude_encodings)\u001b[0m\n\u001b[1;32m    152\u001b[0m         \u001b[0mtry_encodings\u001b[0m \u001b[0;34m=\u001b[0m \u001b[0;34m[\u001b[0m\u001b[0muser_specified_encoding\u001b[0m\u001b[0;34m,\u001b[0m \u001b[0mdocument_declared_encoding\u001b[0m\u001b[0;34m]\u001b[0m\u001b[0;34m\u001b[0m\u001b[0m\n\u001b[1;32m    153\u001b[0m         dammit = UnicodeDammit(markup, try_encodings, is_html=True,\n\u001b[0;32m--> 154\u001b[0;31m                                exclude_encodings=exclude_encodings)\n\u001b[0m\u001b[1;32m    155\u001b[0m         yield (dammit.markup, dammit.original_encoding,\n\u001b[1;32m    156\u001b[0m                \u001b[0mdammit\u001b[0m\u001b[0;34m.\u001b[0m\u001b[0mdeclared_html_encoding\u001b[0m\u001b[0;34m,\u001b[0m\u001b[0;34m\u001b[0m\u001b[0m\n",
      "\u001b[0;32m/usr/local/lib/python3.5/site-packages/bs4/dammit.py\u001b[0m in \u001b[0;36m__init__\u001b[0;34m(self, markup, override_encodings, smart_quotes_to, is_html, exclude_encodings)\u001b[0m\n\u001b[1;32m    363\u001b[0m \u001b[0;34m\u001b[0m\u001b[0m\n\u001b[1;32m    364\u001b[0m         \u001b[0mu\u001b[0m \u001b[0;34m=\u001b[0m \u001b[0;32mNone\u001b[0m\u001b[0;34m\u001b[0m\u001b[0m\n\u001b[0;32m--> 365\u001b[0;31m         \u001b[0;32mfor\u001b[0m \u001b[0mencoding\u001b[0m \u001b[0;32min\u001b[0m \u001b[0mself\u001b[0m\u001b[0;34m.\u001b[0m\u001b[0mdetector\u001b[0m\u001b[0;34m.\u001b[0m\u001b[0mencodings\u001b[0m\u001b[0;34m:\u001b[0m\u001b[0;34m\u001b[0m\u001b[0m\n\u001b[0m\u001b[1;32m    366\u001b[0m             \u001b[0mmarkup\u001b[0m \u001b[0;34m=\u001b[0m \u001b[0mself\u001b[0m\u001b[0;34m.\u001b[0m\u001b[0mdetector\u001b[0m\u001b[0;34m.\u001b[0m\u001b[0mmarkup\u001b[0m\u001b[0;34m\u001b[0m\u001b[0m\n\u001b[1;32m    367\u001b[0m             \u001b[0mu\u001b[0m \u001b[0;34m=\u001b[0m \u001b[0mself\u001b[0m\u001b[0;34m.\u001b[0m\u001b[0m_convert_from\u001b[0m\u001b[0;34m(\u001b[0m\u001b[0mencoding\u001b[0m\u001b[0;34m)\u001b[0m\u001b[0;34m\u001b[0m\u001b[0m\n",
      "\u001b[0;32m/usr/local/lib/python3.5/site-packages/bs4/dammit.py\u001b[0m in \u001b[0;36mencodings\u001b[0;34m(self)\u001b[0m\n\u001b[1;32m    254\u001b[0m         \u001b[0;32mif\u001b[0m \u001b[0mself\u001b[0m\u001b[0;34m.\u001b[0m\u001b[0mdeclared_encoding\u001b[0m \u001b[0;32mis\u001b[0m \u001b[0;32mNone\u001b[0m\u001b[0;34m:\u001b[0m\u001b[0;34m\u001b[0m\u001b[0m\n\u001b[1;32m    255\u001b[0m             self.declared_encoding = self.find_declared_encoding(\n\u001b[0;32m--> 256\u001b[0;31m                 self.markup, self.is_html)\n\u001b[0m\u001b[1;32m    257\u001b[0m         \u001b[0;32mif\u001b[0m \u001b[0mself\u001b[0m\u001b[0;34m.\u001b[0m\u001b[0m_usable\u001b[0m\u001b[0;34m(\u001b[0m\u001b[0mself\u001b[0m\u001b[0;34m.\u001b[0m\u001b[0mdeclared_encoding\u001b[0m\u001b[0;34m,\u001b[0m \u001b[0mtried\u001b[0m\u001b[0;34m)\u001b[0m\u001b[0;34m:\u001b[0m\u001b[0;34m\u001b[0m\u001b[0m\n\u001b[1;32m    258\u001b[0m             \u001b[0;32myield\u001b[0m \u001b[0mself\u001b[0m\u001b[0;34m.\u001b[0m\u001b[0mdeclared_encoding\u001b[0m\u001b[0;34m\u001b[0m\u001b[0m\n",
      "\u001b[0;32m/usr/local/lib/python3.5/site-packages/bs4/dammit.py\u001b[0m in \u001b[0;36mfind_declared_encoding\u001b[0;34m(cls, markup, is_html, search_entire_document)\u001b[0m\n\u001b[1;32m    312\u001b[0m \u001b[0;34m\u001b[0m\u001b[0m\n\u001b[1;32m    313\u001b[0m         \u001b[0mdeclared_encoding\u001b[0m \u001b[0;34m=\u001b[0m \u001b[0;32mNone\u001b[0m\u001b[0;34m\u001b[0m\u001b[0m\n\u001b[0;32m--> 314\u001b[0;31m         \u001b[0mdeclared_encoding_match\u001b[0m \u001b[0;34m=\u001b[0m \u001b[0mxml_encoding_re\u001b[0m\u001b[0;34m.\u001b[0m\u001b[0msearch\u001b[0m\u001b[0;34m(\u001b[0m\u001b[0mmarkup\u001b[0m\u001b[0;34m,\u001b[0m \u001b[0mendpos\u001b[0m\u001b[0;34m=\u001b[0m\u001b[0mxml_endpos\u001b[0m\u001b[0;34m)\u001b[0m\u001b[0;34m\u001b[0m\u001b[0m\n\u001b[0m\u001b[1;32m    315\u001b[0m         \u001b[0;32mif\u001b[0m \u001b[0;32mnot\u001b[0m \u001b[0mdeclared_encoding_match\u001b[0m \u001b[0;32mand\u001b[0m \u001b[0mis_html\u001b[0m\u001b[0;34m:\u001b[0m\u001b[0;34m\u001b[0m\u001b[0m\n\u001b[1;32m    316\u001b[0m             \u001b[0mdeclared_encoding_match\u001b[0m \u001b[0;34m=\u001b[0m \u001b[0mhtml_meta_re\u001b[0m\u001b[0;34m.\u001b[0m\u001b[0msearch\u001b[0m\u001b[0;34m(\u001b[0m\u001b[0mmarkup\u001b[0m\u001b[0;34m,\u001b[0m \u001b[0mendpos\u001b[0m\u001b[0;34m=\u001b[0m\u001b[0mhtml_endpos\u001b[0m\u001b[0;34m)\u001b[0m\u001b[0;34m\u001b[0m\u001b[0m\n",
      "\u001b[0;31mTypeError\u001b[0m: expected string or bytes-like object"
     ]
    }
   ],
   "source": [
    "for timestamp in posts:\n",
    "    time = timestamp.find(\"time\", {'class' : 'live-timestamp'})\n",
    "    BeautifulSoup([time]).time.attrs['datetime']\n"
   ]
  },
  {
   "cell_type": "code",
   "execution_count": null,
   "metadata": {
    "collapsed": true
   },
   "outputs": [],
   "source": [
    "find(\"span\" title=True, class_='tool')\n"
   ]
  },
  {
   "cell_type": "code",
   "execution_count": null,
   "metadata": {
    "collapsed": true
   },
   "outputs": [],
   "source": []
  },
  {
   "cell_type": "code",
   "execution_count": 160,
   "metadata": {
    "collapsed": false
   },
   "outputs": [
    {
     "name": "stdout",
     "output_type": "stream",
     "text": [
      "/r/Showerthoughts/comments/4pg8rg/a_long_handshake_with_your_bro_is_the_nonverbal/\n",
      "http://imgur.com/2SXZsKW\n",
      "/r/movies/comments/4pg86p/spiderman_joins_spiderman_homecoming/\n",
      "/r/Jokes/comments/4pg8ol/how_do_you_calculate_zero_with_a_computer/\n",
      "/r/LifeProTips/comments/4pg8fw/lpt_start_with_the_end_it_is_hard_to_build_a/\n",
      "/r/WritingPrompts/comments/4pg7ep/wp_patrick_batemanamerican_psycho_meets_tyler/\n",
      "/r/pics/comments/4pg8hh/battle_of_fallujah_june_2016/\n",
      "http://i.imgur.com/DsaZPtg.gifv\n",
      "http://mahebiotech.com/\n",
      "http://qevaz.com/unreleased-nirvana-songs-written-by-dave-grohl-leak\n",
      "http://i.imgur.com/m0xCyiI.jpg\n",
      "http://www.foxnews.com/us/2016/06/23/judge-rules-texas-prison-must-provide-inmates-with-safe-drinking-water.html\n",
      "http://i.imgur.com/G5w1Sab.jpg\n",
      "http://i.imgur.com/ZjlzDVz.jpg\n",
      "http://www.vanityfair.com/hollywood/2016/06/matthew-mcconaughey-true-detective-season-3?mbid=social_twitter\n",
      "http://www.bbc.co.uk/news/uk-politics-eu-referendum-36602702\n",
      "http://imgur.com/4WOyQD5\n",
      "/r/gifs/comments/4pdwqt/the_flip_of_all_flips/\n",
      "https://i.imgur.com/yjbYPQQ.jpg\n",
      "http://austin.blog.statesman.com/2015/10/20/texas-is-slang-for-crazy-in-norway/?ecmp=statesman_social_facebook_2014_sfp\n",
      "https://www.youtube.com/watch?v=_TNSUIsjdpY&t=1s\n",
      "http://imgur.com/0tp8I67.gifv\n",
      "/r/EarthPorn/comments/4pddg1/thors_well_cape_perpetua_or_oc_5763x3832/\n",
      "https://embed.gyazo.com/3a326d05a3b4b6d3c5848b69c14c543b.gif\n",
      "/r/Jokes/comments/4pe443/its_the_end_of_the_2016_presidential_race/\n",
      "http://www.theverge.com/2016/6/21/11984548/hyperloop-one-moscow-announcement-magomedov\n",
      "http://money.cnn.com/2016/06/22/real_estate/rent-affordability-housing-harvard/\n",
      "http://bbc.co.uk/news/world-us-canada-36597949\n",
      "http://nypost.com/2015/08/14/lebron-james-pledges-87m-for-hometown-kids-to-attend-college/\n",
      "http://imgur.com/ZTBz6Ff\n",
      "/r/Showerthoughts/comments/4pcgk6/deodorant_companies_should_stop_advertising_last/\n",
      "http://i.imgur.com/FYaZF3m.jpg\n",
      "http://www.popmatters.com/post/rats-writing-and-the-nature-of-evil-a-night-with-stephen-king/\n"
     ]
    }
   ],
   "source": [
    "#Code to dive explore reddit links further\n",
    "for URL in posts:\n",
    "    article_URL = URL.find(\"a\", {'class': 'title may-blank ' }).get('href')\n",
    "    print(article_URL)\n",
    "#print(article_URL)"
   ]
  },
  {
   "cell_type": "code",
   "execution_count": 375,
   "metadata": {
    "collapsed": true
   },
   "outputs": [],
   "source": []
  },
  {
   "cell_type": "code",
   "execution_count": 376,
   "metadata": {
    "collapsed": false
   },
   "outputs": [
    {
     "data": {
      "text/plain": [
       "['•',\n",
       " '•',\n",
       " '•',\n",
       " '•',\n",
       " '•',\n",
       " '•',\n",
       " '•',\n",
       " '•',\n",
       " '•',\n",
       " '•',\n",
       " '3942',\n",
       " '5915',\n",
       " '5147',\n",
       " '6229',\n",
       " '6736',\n",
       " '5330',\n",
       " '4136',\n",
       " '3732',\n",
       " '5133',\n",
       " '2088',\n",
       " '3343',\n",
       " '5456',\n",
       " '5714',\n",
       " '3984',\n",
       " '5096',\n",
       " '4118',\n",
       " '3367',\n",
       " '5943',\n",
       " '3570',\n",
       " '2852',\n",
       " '4383',\n",
       " '4855',\n",
       " '4918',\n",
       " '5241',\n",
       " '3084']"
      ]
     },
     "execution_count": 376,
     "metadata": {},
     "output_type": "execute_result"
    }
   ],
   "source": [
    "x = [votes.string for votes in div_class_midcol_unvoted]\n",
    "x"
   ]
  },
  {
   "cell_type": "code",
   "execution_count": null,
   "metadata": {
    "collapsed": true
   },
   "outputs": [],
   "source": []
  },
  {
   "cell_type": "code",
   "execution_count": null,
   "metadata": {
    "collapsed": true
   },
   "outputs": [],
   "source": []
  },
  {
   "cell_type": "code",
   "execution_count": 303,
   "metadata": {
    "collapsed": false
   },
   "outputs": [
    {
     "data": {
      "text/plain": [
       "[{'subreddit': '/r/personalfinance',\n",
       "  'title': 'Best technique to building credit. Pay off each month or all at once?'},\n",
       " {'subreddit': '/r/personalfinance',\n",
       "  'title': \"At 23, I'm starting to pay attention to my finances. How much house can I afford, and any other advice welcome!\"},\n",
       " {'subreddit': '/r/movies', 'title': 'Do we really need another hero film?'},\n",
       " {'subreddit': '/r/Showerthoughts',\n",
       "  'title': \"I'm pretty sure that the titular character in Cats and Dogs: The Revenge of Kitty Galore is supposed to be an odd reference to the Goldfinger character Pussy Galore\"},\n",
       " {'subreddit': '/r/Jokes', 'title': 'The Greatest Yo Mama Joke'},\n",
       " {'subreddit': '/r/worldnews',\n",
       "  'title': 'European Countries Attempt to Seek Justice for Syria Victims; Several, including Sweden, Germany, France and Finland, are investigating or prosecuting alleged perpetrators of grave crimes in Syria in the first attempts to seek justice for victims of the conflict which is now in its sixth year.'},\n",
       " {'subreddit': '/r/Showerthoughts',\n",
       "  'title': 'Are there too many Final Fantasy games yet?'},\n",
       " {'subreddit': '/r/AskReddit',\n",
       "  'title': \"If Cesar Millan is the Dog Whisperer, what kind of 'whisperer' are you?\"},\n",
       " {'subreddit': '/r/AskReddit',\n",
       "  'title': 'How would you describe your significant other?'},\n",
       " {'subreddit': '/r/pics',\n",
       "  'title': 'This pro wrestler looks like frasier on steroids'},\n",
       " {'subreddit': '/r/science',\n",
       "  'title': 'Demand for abortions soars in countries hit by Zika outbreak, study finds'},\n",
       " {'subreddit': '/r/news',\n",
       "  'title': '11 million Americans spend half their income on rent'},\n",
       " {'subreddit': '/r/videos',\n",
       "  'title': 'Icelandic commentator loses his mind after his country, that has a population of only 330,000,win in the last minute and advance to the knockout stages'},\n",
       " {'subreddit': '/r/sports',\n",
       "  'title': 'View of Cleveland for the Cavaliers parade'},\n",
       " {'subreddit': '/r/funny', 'title': 'T-Rex Arms'},\n",
       " {'subreddit': '/r/gaming',\n",
       "  'title': 'For anyone who has recently bought, or is thinking about picking up Fallout: New Vegas'},\n",
       " {'subreddit': '/r/aww',\n",
       "  'title': \"My kitten constantly looks like she's having an existential crisis.\"},\n",
       " {'subreddit': '/r/space',\n",
       "  'title': 'Harrison Schmitt, first scientist on the Moon, came to our school today'},\n",
       " {'subreddit': '/r/TwoXChromosomes',\n",
       "  'title': \"Free tampons and pads are coming to New York City's public schools, prisons and homeless shelters\"},\n",
       " {'subreddit': '/r/Showerthoughts',\n",
       "  'title': \"There exists a set of finite actions that, if I performed them in the correct order, would make me a millionaire in a day. I just don't know what they are.\"},\n",
       " {'subreddit': '/r/todayilearned',\n",
       "  'title': 'TIL that in 1997, 14 year old Nathan Zohner was able to get 43 out of 50 of his classmates to vote to ban \"Dihydrogen Monoxide\" for his science fair project. His project aimed to prove that the use of true facts can lead the ignorant public to false conclusions. He won first prize.'},\n",
       " {'subreddit': '/r/DIY', 'title': 'Custom Nintendo 64'},\n",
       " {'subreddit': '/r/personalfinance',\n",
       "  'title': \"My mom just left and I'm going to be homeless at the end of the month. I'm really scared and don't know what to do.\"},\n",
       " {'subreddit': '/r/Art',\n",
       "  'title': '\"Two clowns in the same circus\" 16 x 12s oil on linen'},\n",
       " {'subreddit': '/r/AskReddit',\n",
       "  'title': \"What is the creepiest and most unexplainable paranormal experience you've ever had?\"},\n",
       " {'subreddit': '/r/worldnews',\n",
       "  'title': 'German government agrees to ban fracking indefinitely'},\n",
       " {'subreddit': '/r/tifu', 'title': 'TIFU By finishing my PhD.'},\n",
       " {'subreddit': '/r/IAmA',\n",
       "  'title': 'I’m Tommy Chong, half of Cheech & Chong, founder of Chong’s Choice & 78 yr old comedian, director, writer, activist, dancer, and I forget the rest…AMA!'},\n",
       " {'subreddit': '/r/LifeProTips',\n",
       "  'title': 'LPT: Make a distinct bend in your business card before dropping it in a bowl used for a drawing. The drawer is more likely to pick a card that sticks out rather than lays flat.'},\n",
       " {'subreddit': '/r/mildlyinteresting',\n",
       "  'title': \"Triggerfish got itself caught in my friend's knee brace while he was surfing yesterday.\"},\n",
       " {'subreddit': '/r/nottheonion',\n",
       "  'title': 'For men, the importance of safe sex depends on how hot their partner is'},\n",
       " {'subreddit': '/r/photoshopbattles',\n",
       "  'title': 'PsBattle: Peter Dinklage riding a scooter'},\n",
       " {'subreddit': '/r/food',\n",
       "  'title': 'Hash Brown, Bacon, Egg & Cheese Breakfast Skillet'}]"
      ]
     },
     "execution_count": 303,
     "metadata": {},
     "output_type": "execute_result"
    }
   ],
   "source": [
    "all_stories"
   ]
  },
  {
   "cell_type": "code",
   "execution_count": null,
   "metadata": {
    "collapsed": true
   },
   "outputs": [],
   "source": []
  },
  {
   "cell_type": "code",
   "execution_count": 263,
   "metadata": {
    "collapsed": false
   },
   "outputs": [
    {
     "ename": "AttributeError",
     "evalue": "'NoneType' object has no attribute 'string'",
     "output_type": "error",
     "traceback": [
      "\u001b[0;31m---------------------------------------------------------------------------\u001b[0m",
      "\u001b[0;31mAttributeError\u001b[0m                            Traceback (most recent call last)",
      "\u001b[0;32m<ipython-input-263-927be3debaaa>\u001b[0m in \u001b[0;36m<module>\u001b[0;34m()\u001b[0m\n\u001b[1;32m      5\u001b[0m         \u001b[0;32mcontinue\u001b[0m\u001b[0;34m\u001b[0m\u001b[0m\n\u001b[1;32m      6\u001b[0m     \u001b[0mstory_title\u001b[0m \u001b[0;34m=\u001b[0m \u001b[0mtitle\u001b[0m\u001b[0;34m.\u001b[0m\u001b[0mfind\u001b[0m\u001b[0;34m(\u001b[0m\u001b[0;34m\"a\"\u001b[0m\u001b[0;34m,\u001b[0m \u001b[0;34m{\u001b[0m\u001b[0;34m'class'\u001b[0m\u001b[0;34m:\u001b[0m \u001b[0;34m'title may-blank '\u001b[0m \u001b[0;34m}\u001b[0m\u001b[0;34m)\u001b[0m\u001b[0;34m\u001b[0m\u001b[0m\n\u001b[0;32m----> 7\u001b[0;31m     \u001b[0mall_stories\u001b[0m\u001b[0;34m.\u001b[0m\u001b[0mappend\u001b[0m\u001b[0;34m(\u001b[0m\u001b[0mstory_title\u001b[0m\u001b[0;34m.\u001b[0m\u001b[0mstring\u001b[0m\u001b[0;34m)\u001b[0m\u001b[0;34m\u001b[0m\u001b[0m\n\u001b[0m",
      "\u001b[0;31mAttributeError\u001b[0m: 'NoneType' object has no attribute 'string'"
     ]
    }
   ],
   "source": [
    "all_stories = []\n",
    "for title in posts:\n",
    "    #getting the title from the a_tag\n",
    "    if title is None:\n",
    "        continue\n",
    "    story_title = title.find(\"a\", {'class': 'title may-blank ' })\n",
    "    all_stories.append(story_title.string)\n"
   ]
  },
  {
   "cell_type": "code",
   "execution_count": 262,
   "metadata": {
    "collapsed": false
   },
   "outputs": [
    {
     "data": {
      "text/plain": [
       "['Best technique to building credit. Pay off each month or all at once?',\n",
       " \"At 23, I'm starting to pay attention to my finances. How much house can I afford, and any other advice welcome!\",\n",
       " 'Do we really need another hero film?',\n",
       " \"I'm pretty sure that the titular character in Cats and Dogs: The Revenge of Kitty Galore is supposed to be an odd reference to the Goldfinger character Pussy Galore\",\n",
       " 'The Greatest Yo Mama Joke',\n",
       " 'European Countries Attempt to Seek Justice for Syria Victims; Several, including Sweden, Germany, France and Finland, are investigating or prosecuting alleged perpetrators of grave crimes in Syria in the first attempts to seek justice for victims of the conflict which is now in its sixth year.',\n",
       " 'Are there too many Final Fantasy games yet?',\n",
       " \"If Cesar Millan is the Dog Whisperer, what kind of 'whisperer' are you?\",\n",
       " 'How would you describe your significant other?']"
      ]
     },
     "execution_count": 262,
     "metadata": {},
     "output_type": "execute_result"
    }
   ],
   "source": [
    "all_stories"
   ]
  },
  {
   "cell_type": "code",
   "execution_count": null,
   "metadata": {
    "collapsed": true
   },
   "outputs": [],
   "source": []
  },
  {
   "cell_type": "code",
   "execution_count": 223,
   "metadata": {
    "collapsed": false
   },
   "outputs": [
    {
     "ename": "TypeError",
     "evalue": "'dict' object is not callable",
     "output_type": "error",
     "traceback": [
      "\u001b[0;31m---------------------------------------------------------------------------\u001b[0m",
      "\u001b[0;31mTypeError\u001b[0m                                 Traceback (most recent call last)",
      "\u001b[0;32m<ipython-input-223-9dc986ece49a>\u001b[0m in \u001b[0;36m<module>\u001b[0;34m()\u001b[0m\n\u001b[1;32m     16\u001b[0m \u001b[0;34m\u001b[0m\u001b[0m\n\u001b[1;32m     17\u001b[0m \u001b[0;32mfor\u001b[0m \u001b[0mx\u001b[0m \u001b[0;32min\u001b[0m \u001b[0mall_stories\u001b[0m\u001b[0;34m:\u001b[0m\u001b[0;34m\u001b[0m\u001b[0m\n\u001b[0;32m---> 18\u001b[0;31m     \u001b[0mprint\u001b[0m\u001b[0;34m(\u001b[0m\u001b[0mx\u001b[0m\u001b[0;34m(\u001b[0m\u001b[0mxstr\u001b[0m\u001b[0;34m)\u001b[0m\u001b[0;34m)\u001b[0m\u001b[0;34m\u001b[0m\u001b[0m\n\u001b[0m",
      "\u001b[0;31mTypeError\u001b[0m: 'dict' object is not callable"
     ]
    }
   ],
   "source": [
    "all_stories = []\n",
    "for title in posts:\n",
    "    #getting the title from the a_tag\n",
    "    if title is None:\n",
    "        title == \"\"\n",
    "    story_title = title.find(\"a\", {'class': 'title may-blank ' })\n",
    "    story_title = story_title\n",
    "    story_dict = {'title': story_title}\n",
    "    all_stories.append(story_dict)\n",
    "all_stories\n",
    "\n",
    "def xstr(s):\n",
    "    if s is None:\n",
    "        return ''\n",
    "    return str(s)\n",
    "\n",
    "for x in all_stories:\n",
    "    print(x(xstr))"
   ]
  },
  {
   "cell_type": "code",
   "execution_count": null,
   "metadata": {
    "collapsed": true
   },
   "outputs": [],
   "source": []
  },
  {
   "cell_type": "code",
   "execution_count": 186,
   "metadata": {
    "collapsed": false
   },
   "outputs": [],
   "source": [
    "all_headlines = reddit.find_all(\"div\", { 'class': 'sitetable linklisting' })"
   ]
  },
  {
   "cell_type": "code",
   "execution_count": 184,
   "metadata": {
    "collapsed": false
   },
   "outputs": [
    {
     "data": {
      "text/plain": [
       "[<div class=\"sitetable linklisting\" id=\"siteTable\"><div class=\" thing id-t3_4pcfy4 odd gilded link \" data-author=\"alitheboss55\" data-author-fullname=\"t2_qef2g\" data-domain=\"streamable.com\" data-fullname=\"t3_4pcfy4\" data-rank=\"1\" data-subreddit=\"videos\" data-subreddit-fullname=\"t5_2qh1e\" data-timestamp=\"1466622651000\" data-type=\"link\" data-url=\"https://streamable.com/f6hj\" id=\"thing_t3_4pcfy4\" onclick=\"click_thing(this)\"><p class=\"parent\"></p><span class=\"rank\">1</span><div class=\"midcol unvoted\"><div aria-label=\"upvote\" class=\"arrow up login-required access-required\" data-event-action=\"upvote\" role=\"button\" tabindex=\"0\"></div><div class=\"score dislikes\">7234</div><div class=\"score unvoted\">7235</div><div class=\"score likes\">7236</div><div aria-label=\"downvote\" class=\"arrow down login-required access-required\" data-event-action=\"downvote\" role=\"button\" tabindex=\"0\"></div></div><a class=\"thumbnail may-blank \" href=\"https://streamable.com/f6hj\" rel=\"\"><img alt=\"\" height=\"39\" src=\"//b.thumbs.redditmedia.com/IyazOsPmyEdDQKBX2QZHEY36_OT3U8-sIjeMe7H45bA.jpg\" width=\"70\"/></a><div class=\"entry unvoted\"><p class=\"title\"><a class=\"title may-blank \" href=\"https://streamable.com/f6hj\" rel=\"\" tabindex=\"1\">Icelandic commentator loses his mind after his country, that has a population of only 330,000,win in the last minute and advance to the knockout stages</a> <span class=\"domain\">(<a href=\"/domain/streamable.com/\">streamable.com</a>)</span></p><div class=\"expando-button collapsed video\"></div><p class=\"tagline\">submitted <time class=\"live-timestamp\" datetime=\"2016-06-22T19:10:51+00:00\" title=\"Wed Jun 22 19:10:51 2016 UTC\">6 hours ago</time> by <a class=\"author may-blank id-t2_qef2g\" href=\"https://www.reddit.com/user/alitheboss55\">alitheboss55</a><span class=\"userattrs\"></span> to <a class=\"subreddit hover may-blank\" href=\"https://www.reddit.com/r/videos/\">/r/videos</a></p><ul class=\"flat-list buttons\"><li class=\"first\"><a class=\"bylink comments may-blank\" data-event-action=\"comments\" href=\"https://www.reddit.com/r/videos/comments/4pcfy4/icelandic_commentator_loses_his_mind_after_his/\" rel=\"nofollow\">3204 comments</a></li><li class=\"share\"><a class=\"post-sharing-button\" href=\"javascript: void 0;\">share</a></li></ul><div class=\"reportform report-t3_4pcfy4\"></div><div class=\"expando expando-uninitialized\" data-cachedhtml=' &lt;iframe src=\"//www.redditmedia.com/mediaembed/4pcfy4\" id=\"media-embed-4pcfy4-na2\" class=\"media-embed\" width=\"610\" height=\"348\" border=\"0\" frameBorder=\"0\" scrolling=\"no\" allowfullscreen&gt;&lt;/iframe&gt; ' style=\"display: none\"><span class=\"error\">loading...</span></div></div><div class=\"child\"></div><div class=\"clearleft\"></div></div><div class=\"clearleft\"></div><div class=\" thing id-t3_4pcjja even link \" data-author=\"magenta_placenta\" data-author-fullname=\"t2_3bhyn\" data-domain=\"money.cnn.com\" data-fullname=\"t3_4pcjja\" data-rank=\"2\" data-subreddit=\"news\" data-subreddit-fullname=\"t5_2qh3l\" data-timestamp=\"1466623775000\" data-type=\"link\" data-url=\"http://money.cnn.com/2016/06/22/real_estate/rent-affordability-housing-harvard/\" id=\"thing_t3_4pcjja\" onclick=\"click_thing(this)\"><p class=\"parent\"></p><span class=\"rank\">2</span><div class=\"midcol unvoted\"><div aria-label=\"upvote\" class=\"arrow up login-required access-required\" data-event-action=\"upvote\" role=\"button\" tabindex=\"0\"></div><div class=\"score dislikes\">6147</div><div class=\"score unvoted\">6148</div><div class=\"score likes\">6149</div><div aria-label=\"downvote\" class=\"arrow down login-required access-required\" data-event-action=\"downvote\" role=\"button\" tabindex=\"0\"></div></div><div class=\"entry unvoted\"><p class=\"title\"><a class=\"title may-blank \" href=\"http://money.cnn.com/2016/06/22/real_estate/rent-affordability-housing-harvard/\" rel=\"\" tabindex=\"1\">11 million Americans spend half their income on rent</a> <span class=\"domain\">(<a href=\"/domain/money.cnn.com/\">money.cnn.com</a>)</span></p><p class=\"tagline\">submitted <time class=\"live-timestamp\" datetime=\"2016-06-22T19:29:35+00:00\" title=\"Wed Jun 22 19:29:35 2016 UTC\">6 hours ago</time> by <a class=\"author may-blank id-t2_3bhyn\" href=\"https://www.reddit.com/user/magenta_placenta\">magenta_placenta</a><span class=\"userattrs\"></span> to <a class=\"subreddit hover may-blank\" href=\"https://www.reddit.com/r/news/\">/r/news</a></p><ul class=\"flat-list buttons\"><li class=\"first\"><a class=\"bylink comments may-blank\" data-event-action=\"comments\" href=\"https://www.reddit.com/r/news/comments/4pcjja/11_million_americans_spend_half_their_income_on/\" rel=\"nofollow\">4686 comments</a></li><li class=\"share\"><a class=\"post-sharing-button\" href=\"javascript: void 0;\">share</a></li></ul><div class=\"reportform report-t3_4pcjja\"></div><div class=\"expando expando-uninitialized\" style=\"display: none\"><span class=\"error\">loading...</span></div></div><div class=\"child\"></div><div class=\"clearleft\"></div></div><div class=\"clearleft\"></div><div class=\" thing id-t3_4pcgs0 linkflair linkflair-basketball odd link \" data-author=\"leavin_you_hangin\" data-author-fullname=\"t2_ozfwd\" data-domain=\"imgur.com\" data-fullname=\"t3_4pcgs0\" data-rank=\"3\" data-subreddit=\"sports\" data-subreddit-fullname=\"t5_2qgzy\" data-timestamp=\"1466622922000\" data-type=\"link\" data-url=\"http://imgur.com/ZTBz6Ff\" id=\"thing_t3_4pcgs0\" onclick=\"click_thing(this)\"><p class=\"parent\"></p><span class=\"rank\">3</span><div class=\"midcol unvoted\"><div aria-label=\"upvote\" class=\"arrow up login-required access-required\" data-event-action=\"upvote\" role=\"button\" tabindex=\"0\"></div><div class=\"score dislikes\">5324</div><div class=\"score unvoted\">5325</div><div class=\"score likes\">5326</div><div aria-label=\"downvote\" class=\"arrow down login-required access-required\" data-event-action=\"downvote\" role=\"button\" tabindex=\"0\"></div></div><a class=\"thumbnail may-blank \" href=\"http://imgur.com/ZTBz6Ff\" rel=\"\"><img alt=\"\" height=\"70\" src=\"//b.thumbs.redditmedia.com/XosNpNRRouyGfVepUXxlAGLuEBmvv45vvAv5pWZs_2o.jpg\" width=\"70\"/></a><div class=\"entry unvoted\"><p class=\"title\"><a class=\"title may-blank \" href=\"http://imgur.com/ZTBz6Ff\" rel=\"\" tabindex=\"1\">View of Cleveland for the Cavaliers parade</a><span class=\"linkflairlabel\" title=\"Basketball\">Basketball</span> <span class=\"domain\">(<a href=\"/domain/imgur.com/\">imgur.com</a>)</span></p><p class=\"tagline\">submitted <time class=\"live-timestamp\" datetime=\"2016-06-22T19:15:22+00:00\" title=\"Wed Jun 22 19:15:22 2016 UTC\">6 hours ago</time> by <a class=\"author may-blank id-t2_ozfwd\" href=\"https://www.reddit.com/user/leavin_you_hangin\">leavin_you_hangin</a><span class=\"userattrs\"></span> to <a class=\"subreddit hover may-blank\" href=\"https://www.reddit.com/r/sports/\">/r/sports</a></p><ul class=\"flat-list buttons\"><li class=\"first\"><a class=\"bylink comments may-blank\" data-event-action=\"comments\" href=\"https://www.reddit.com/r/sports/comments/4pcgs0/view_of_cleveland_for_the_cavaliers_parade/\" rel=\"nofollow\">1284 comments</a></li><li class=\"share\"><a class=\"post-sharing-button\" href=\"javascript: void 0;\">share</a></li></ul><div class=\"reportform report-t3_4pcgs0\"></div><div class=\"expando expando-uninitialized\" style=\"display: none\"><span class=\"error\">loading...</span></div></div><div class=\"child\"></div><div class=\"clearleft\"></div></div><div class=\"clearleft\"></div><div class=\" thing id-t3_4pc8cg even link \" data-author=\"cakebeerandmorebeer\" data-author-fullname=\"t2_j3x2i\" data-domain=\"i.imgur.com\" data-fullname=\"t3_4pc8cg\" data-rank=\"4\" data-subreddit=\"funny\" data-subreddit-fullname=\"t5_2qh33\" data-timestamp=\"1466620262000\" data-type=\"link\" data-url=\"http://i.imgur.com/nuRZv1O.gifv\" id=\"thing_t3_4pc8cg\" onclick=\"click_thing(this)\"><p class=\"parent\"></p><span class=\"rank\">4</span><div class=\"midcol unvoted\"><div aria-label=\"upvote\" class=\"arrow up login-required access-required\" data-event-action=\"upvote\" role=\"button\" tabindex=\"0\"></div><div class=\"score dislikes\">5974</div><div class=\"score unvoted\">5975</div><div class=\"score likes\">5976</div><div aria-label=\"downvote\" class=\"arrow down login-required access-required\" data-event-action=\"downvote\" role=\"button\" tabindex=\"0\"></div></div><a class=\"thumbnail may-blank \" href=\"http://i.imgur.com/nuRZv1O.gifv\" rel=\"\"><img alt=\"\" height=\"70\" src=\"//a.thumbs.redditmedia.com/qT7PkIVnsieQ39kCxbnzf2NucgBHDExsa6bcJTR2oz8.jpg\" width=\"70\"/></a><div class=\"entry unvoted\"><p class=\"title\"><a class=\"title may-blank \" href=\"http://i.imgur.com/nuRZv1O.gifv\" rel=\"\" tabindex=\"1\">\"I'm stuck...I'm stuck! Never mind...I got it!\"</a> <span class=\"domain\">(<a href=\"/domain/i.imgur.com/\">i.imgur.com</a>)</span></p><div class=\"expando-button collapsed video\"></div><p class=\"tagline\">submitted <time class=\"live-timestamp\" datetime=\"2016-06-22T18:31:02+00:00\" title=\"Wed Jun 22 18:31:02 2016 UTC\">7 hours ago</time> by <a class=\"author may-blank id-t2_j3x2i\" href=\"https://www.reddit.com/user/cakebeerandmorebeer\">cakebeerandmorebeer</a><span class=\"userattrs\"></span> to <a class=\"subreddit hover may-blank\" href=\"https://www.reddit.com/r/funny/\">/r/funny</a></p><ul class=\"flat-list buttons\"><li class=\"first\"><a class=\"bylink comments may-blank\" data-event-action=\"comments\" href=\"https://www.reddit.com/r/funny/comments/4pc8cg/im_stuckim_stuck_never_mindi_got_it/\" rel=\"nofollow\">444 comments</a></li><li class=\"share\"><a class=\"post-sharing-button\" href=\"javascript: void 0;\">share</a></li></ul><div class=\"reportform report-t3_4pc8cg\"></div><div class=\"expando expando-uninitialized\" data-cachedhtml=' &lt;div class=\"media-preview\" id=\"media-preview-4pc8cg\" style=\"max-width: 614px\"&gt; &lt;div class=\"media-preview-content\"&gt; &lt;a href=\"http://i.imgur.com/nuRZv1O.gifv\" class=\"may-blank\"&gt; &lt;video class=\"preview\" preload=\"auto\" autoplay=\"autoplay\" muted=\"muted\" loop=\"loop\" webkit-playsinline=\"\" style=\"width: 614px; height: 768px;\"&gt; &lt;source src=\"https://g.redditmedia.com/S3JIEyhnGmnuJV6F_o-kkPPlI9V4VNP3UI2CACnGZ58.gif?w=614&amp;amp;fm=mp4&amp;amp;mp4-fragmented=false&amp;amp;s=e9169e4f7c1ef66daf4dc4ca2c8b583b\" type=\"video/mp4\"&gt; &lt;/video&gt; &lt;/a&gt; &lt;/div&gt; &lt;/div&gt; ' style=\"display: none\"><span class=\"error\">loading...</span></div></div><div class=\"child\"></div><div class=\"clearleft\"></div></div><div class=\"clearleft\"></div><div class=\" thing id-t3_4pd2ye linkflair linkflair-health linkflair-badpost odd link \" data-author=\"NinjaDiscoJesus\" data-author-fullname=\"t2_5qlsa\" data-domain=\"theguardian.com\" data-fullname=\"t3_4pd2ye\" data-rank=\"5\" data-subreddit=\"science\" data-subreddit-fullname=\"t5_mouw\" data-timestamp=\"1466630270000\" data-type=\"link\" data-url=\"https://www.theguardian.com/world/2016/jun/22/abortion-information-zika-virus-birth-defects-latin-america-study?CMP=twt_b-gdnnews\" id=\"thing_t3_4pd2ye\" onclick=\"click_thing(this)\"><p class=\"parent\"></p><span class=\"rank\">5</span><div class=\"midcol unvoted\"><div aria-label=\"upvote\" class=\"arrow up login-required access-required\" data-event-action=\"upvote\" role=\"button\" tabindex=\"0\"></div><div class=\"score dislikes\">3288</div><div class=\"score unvoted\">3289</div><div class=\"score likes\">3290</div><div aria-label=\"downvote\" class=\"arrow down login-required access-required\" data-event-action=\"downvote\" role=\"button\" tabindex=\"0\"></div></div><a class=\"thumbnail may-blank \" href=\"https://www.theguardian.com/world/2016/jun/22/abortion-information-zika-virus-birth-defects-latin-america-study?CMP=twt_b-gdnnews\" rel=\"\"><img alt=\"\" height=\"36\" src=\"//a.thumbs.redditmedia.com/kCitwr5epSipHoGohW974Qiw2X69htM_DWMkJ8MHTX0.jpg\" width=\"70\"/></a><div class=\"entry unvoted\"><p class=\"title\"><a class=\"title may-blank \" href=\"https://www.theguardian.com/world/2016/jun/22/abortion-information-zika-virus-birth-defects-latin-america-study?CMP=twt_b-gdnnews\" rel=\"\" tabindex=\"1\">Demand for abortions soars in countries hit by Zika outbreak, study finds</a><span class=\"linkflairlabel\" title=\"Health\">Health</span> <span class=\"domain\">(<a href=\"/domain/theguardian.com/\">theguardian.com</a>)</span></p><p class=\"tagline\">submitted <time class=\"live-timestamp\" datetime=\"2016-06-22T21:17:50+00:00\" title=\"Wed Jun 22 21:17:50 2016 UTC\">4 hours ago</time> by <a class=\"author may-blank id-t2_5qlsa\" href=\"https://www.reddit.com/user/NinjaDiscoJesus\">NinjaDiscoJesus</a><span class=\"userattrs\"></span> to <a class=\"subreddit hover may-blank\" href=\"https://www.reddit.com/r/science/\">/r/science</a></p><ul class=\"flat-list buttons\"><li class=\"first\"><a class=\"bylink comments may-blank\" data-event-action=\"comments\" href=\"https://www.reddit.com/r/science/comments/4pd2ye/demand_for_abortions_soars_in_countries_hit_by/\" rel=\"nofollow\">191 comments</a></li><li class=\"share\"><a class=\"post-sharing-button\" href=\"javascript: void 0;\">share</a></li></ul><div class=\"reportform report-t3_4pd2ye\"></div><div class=\"expando expando-uninitialized\" style=\"display: none\"><span class=\"error\">loading...</span></div></div><div class=\"child\"></div><div class=\"clearleft\"></div></div><div class=\"clearleft\"></div><div class=\" thing id-t3_4pcz9m even link \" data-author=\"Dongerding\" data-author-fullname=\"t2_cjrty\" data-domain=\"i.redd.it\" data-fullname=\"t3_4pcz9m\" data-rank=\"6\" data-subreddit=\"pics\" data-subreddit-fullname=\"t5_2qh0u\" data-timestamp=\"1466628975000\" data-type=\"link\" data-url=\"/r/pics/comments/4pcz9m/this_pro_wrestler_looks_like_frasier_on_steroids/\" id=\"thing_t3_4pcz9m\" onclick=\"click_thing(this)\"><p class=\"parent\"></p><span class=\"rank\">6</span><div class=\"midcol unvoted\"><div aria-label=\"upvote\" class=\"arrow up login-required access-required\" data-event-action=\"upvote\" role=\"button\" tabindex=\"0\"></div><div class=\"score dislikes\">3152</div><div class=\"score unvoted\">3153</div><div class=\"score likes\">3154</div><div aria-label=\"downvote\" class=\"arrow down login-required access-required\" data-event-action=\"downvote\" role=\"button\" tabindex=\"0\"></div></div><a class=\"thumbnail may-blank \" href=\"/r/pics/comments/4pcz9m/this_pro_wrestler_looks_like_frasier_on_steroids/\" rel=\"\"><img alt=\"\" height=\"33\" src=\"//b.thumbs.redditmedia.com/SXCNj-hxAbEZ-RB_jRmIUdO-7LrECm8EfXT81WO8bkI.jpg\" width=\"70\"/></a><div class=\"entry unvoted\"><p class=\"title\"><a class=\"title may-blank \" href=\"/r/pics/comments/4pcz9m/this_pro_wrestler_looks_like_frasier_on_steroids/\" rel=\"\" tabindex=\"1\">This pro wrestler looks like frasier on steroids</a> <span class=\"domain\">(<a href=\"/domain/i.redd.it/\">i.redd.it</a>)</span></p><div class=\"expando-button collapsed video\"></div><p class=\"tagline\">submitted <time class=\"live-timestamp\" datetime=\"2016-06-22T20:56:15+00:00\" title=\"Wed Jun 22 20:56:15 2016 UTC\">5 hours ago</time> by <a class=\"author may-blank id-t2_cjrty\" href=\"https://www.reddit.com/user/Dongerding\">Dongerding</a><span class=\"userattrs\"></span> to <a class=\"subreddit hover may-blank\" href=\"https://www.reddit.com/r/pics/\">/r/pics</a></p><ul class=\"flat-list buttons\"><li class=\"first\"><a class=\"bylink comments may-blank\" data-event-action=\"comments\" href=\"https://www.reddit.com/r/pics/comments/4pcz9m/this_pro_wrestler_looks_like_frasier_on_steroids/\" rel=\"nofollow\">134 comments</a></li><li class=\"share\"><a class=\"post-sharing-button\" href=\"javascript: void 0;\">share</a></li></ul><div class=\"reportform report-t3_4pcz9m\"></div><div class=\"expando expando-uninitialized\" data-cachedhtml=' &lt;div class=\"media-preview\" id=\"media-preview-4pcz9m\" style=\"max-width: 1024px\"&gt; &lt;div class=\"media-preview-content\"&gt; &lt;a href=\"https://i.redd.it/2hthqts2nw4x.png\" class=\"may-blank\"&gt; &lt;img class=\"preview\" src=\"https://i.redditmedia.com/kpZGbB3BE20z__cqfaGLv_zFGDzp_zQ7pzxeCj3WrJ8.png?w=1024&amp;amp;s=36b98f08304c3cece6c9646acc33836f\" width=\"1024\" height=\"496\"&gt; &lt;/a&gt; &lt;/div&gt; &lt;/div&gt; ' style=\"display: none\"><span class=\"error\">loading...</span></div></div><div class=\"child\"></div><div class=\"clearleft\"></div></div><div class=\"clearleft\"></div><div class=\" thing id-t3_4pbr8b odd link self\" data-author=\"i_like_yoghurt\" data-author-fullname=\"t2_y6gtb\" data-domain=\"self.Showerthoughts\" data-fullname=\"t3_4pbr8b\" data-rank=\"7\" data-subreddit=\"Showerthoughts\" data-subreddit-fullname=\"t5_2szyo\" data-timestamp=\"1466615168000\" data-type=\"link\" data-url=\"/r/Showerthoughts/comments/4pbr8b/there_exists_a_set_of_finite_actions_that_if_i/\" id=\"thing_t3_4pbr8b\" onclick=\"click_thing(this)\"><p class=\"parent\"></p><span class=\"rank\">7</span><div class=\"midcol unvoted\"><div aria-label=\"upvote\" class=\"arrow up login-required access-required\" data-event-action=\"upvote\" role=\"button\" tabindex=\"0\"></div><div class=\"score dislikes\">5451</div><div class=\"score unvoted\">5452</div><div class=\"score likes\">5453</div><div aria-label=\"downvote\" class=\"arrow down login-required access-required\" data-event-action=\"downvote\" role=\"button\" tabindex=\"0\"></div></div><a class=\"thumbnail self may-blank \" href=\"/r/Showerthoughts/comments/4pbr8b/there_exists_a_set_of_finite_actions_that_if_i/\" rel=\"nofollow\"></a><div class=\"entry unvoted\"><p class=\"title\"><a class=\"title may-blank \" href=\"/r/Showerthoughts/comments/4pbr8b/there_exists_a_set_of_finite_actions_that_if_i/\" rel=\"nofollow\" tabindex=\"1\">There exists a set of finite actions that, if I performed them in the correct order, would make me a millionaire in a day. I just don't know what they are.</a> <span class=\"domain\">(<a href=\"/r/Showerthoughts/\">self.Showerthoughts</a>)</span></p><p class=\"tagline\">submitted <time class=\"live-timestamp\" datetime=\"2016-06-22T17:06:08+00:00\" title=\"Wed Jun 22 17:06:08 2016 UTC\">8 hours ago</time> by <a class=\"author may-blank id-t2_y6gtb\" href=\"https://www.reddit.com/user/i_like_yoghurt\">i_like_yoghurt</a><span class=\"userattrs\"></span> to <a class=\"subreddit hover may-blank\" href=\"https://www.reddit.com/r/Showerthoughts/\">/r/Showerthoughts</a></p><ul class=\"flat-list buttons\"><li class=\"first\"><a class=\"bylink comments may-blank\" data-event-action=\"comments\" href=\"https://www.reddit.com/r/Showerthoughts/comments/4pbr8b/there_exists_a_set_of_finite_actions_that_if_i/\" rel=\"nofollow\">1503 comments</a></li><li class=\"share\"><a class=\"post-sharing-button\" href=\"javascript: void 0;\">share</a></li></ul><div class=\"reportform report-t3_4pbr8b\"></div><div class=\"expando expando-uninitialized\" style=\"display: none\"><span class=\"error\">loading...</span></div></div><div class=\"child\"></div><div class=\"clearleft\"></div></div><div class=\"clearleft\"></div><div class=\" thing id-t3_4pbpot even link \" data-author=\"parlonida\" data-author-fullname=\"t2_u25me\" data-domain=\"en.wikipedia.org\" data-fullname=\"t3_4pbpot\" data-rank=\"8\" data-subreddit=\"todayilearned\" data-subreddit-fullname=\"t5_2qqjc\" data-timestamp=\"1466614719000\" data-type=\"link\" data-url=\"https://en.wikipedia.org/wiki/Dihydrogen_monoxide_hoax#cite_ref-17\" id=\"thing_t3_4pbpot\" onclick=\"click_thing(this)\"><p class=\"parent\"></p><span class=\"rank\">8</span><div class=\"midcol unvoted\"><div aria-label=\"upvote\" class=\"arrow up login-required access-required\" data-event-action=\"upvote\" role=\"button\" tabindex=\"0\"></div><div class=\"score dislikes\">6031</div><div class=\"score unvoted\">6032</div><div class=\"score likes\">6033</div><div aria-label=\"downvote\" class=\"arrow down login-required access-required\" data-event-action=\"downvote\" role=\"button\" tabindex=\"0\"></div></div><a class=\"thumbnail may-blank \" href=\"https://en.wikipedia.org/wiki/Dihydrogen_monoxide_hoax#cite_ref-17\" rel=\"\"><img alt=\"\" height=\"70\" src=\"//b.thumbs.redditmedia.com/GOQ5PBdkKVwKwz-VRDRofbvuB3qVmw36LqensM0EmOU.jpg\" width=\"70\"/></a><div class=\"entry unvoted\"><p class=\"title\"><a class=\"title may-blank \" href=\"https://en.wikipedia.org/wiki/Dihydrogen_monoxide_hoax#cite_ref-17\" rel=\"\" tabindex=\"1\">TIL that in 1997, 14 year old Nathan Zohner was able to get 43 out of 50 of his classmates to vote to ban \"Dihydrogen Monoxide\" for his science fair project. His project aimed to prove that the use of true facts can lead the ignorant public to false conclusions. He won first prize.</a> <span class=\"domain\">(<a href=\"/domain/en.wikipedia.org/\">en.wikipedia.org</a>)</span></p><p class=\"tagline\">submitted <time class=\"live-timestamp\" datetime=\"2016-06-22T16:58:39+00:00\" title=\"Wed Jun 22 16:58:39 2016 UTC\">8 hours ago</time> by <a class=\"author may-blank id-t2_u25me\" href=\"https://www.reddit.com/user/parlonida\">parlonida</a><span class=\"userattrs\"></span> to <a class=\"subreddit hover may-blank\" href=\"https://www.reddit.com/r/todayilearned/\">/r/todayilearned</a></p><ul class=\"flat-list buttons\"><li class=\"first\"><a class=\"bylink comments may-blank\" data-event-action=\"comments\" href=\"https://www.reddit.com/r/todayilearned/comments/4pbpot/til_that_in_1997_14_year_old_nathan_zohner_was/\" rel=\"nofollow\">2767 comments</a></li><li class=\"share\"><a class=\"post-sharing-button\" href=\"javascript: void 0;\">share</a></li></ul><div class=\"reportform report-t3_4pbpot\"></div><div class=\"expando expando-uninitialized\" style=\"display: none\"><span class=\"error\">loading...</span></div></div><div class=\"child\"></div><div class=\"clearleft\"></div></div><div class=\"clearleft\"></div><div class=\" thing id-t3_4pc8dh odd link \" data-author=\"birdly420\" data-author-fullname=\"t2_nqm2b\" data-domain=\"i.reddituploads.com\" data-fullname=\"t3_4pc8dh\" data-rank=\"9\" data-subreddit=\"aww\" data-subreddit-fullname=\"t5_2qh1o\" data-timestamp=\"1466620270000\" data-type=\"link\" data-url=\"https://i.reddituploads.com/279da42ef1c14c02a540bc02cc14b06a?fit=max&amp;h=1536&amp;w=1536&amp;s=a1f7537addf26a81d76501e62b3a04f2\" id=\"thing_t3_4pc8dh\" onclick=\"click_thing(this)\"><p class=\"parent\"></p><span class=\"rank\">9</span><div class=\"midcol unvoted\"><div aria-label=\"upvote\" class=\"arrow up login-required access-required\" data-event-action=\"upvote\" role=\"button\" tabindex=\"0\"></div><div class=\"score dislikes\">3448</div><div class=\"score unvoted\">3449</div><div class=\"score likes\">3450</div><div aria-label=\"downvote\" class=\"arrow down login-required access-required\" data-event-action=\"downvote\" role=\"button\" tabindex=\"0\"></div></div><a class=\"thumbnail may-blank \" href=\"https://i.reddituploads.com/279da42ef1c14c02a540bc02cc14b06a?fit=max&amp;h=1536&amp;w=1536&amp;s=a1f7537addf26a81d76501e62b3a04f2\" rel=\"\"><img alt=\"\" height=\"70\" src=\"//b.thumbs.redditmedia.com/ppteCREpCRSug-8WFtVSAT0uDZuuVvmdXkdx9_L_lck.jpg\" width=\"70\"/></a><div class=\"entry unvoted\"><p class=\"title\"><a class=\"title may-blank \" href=\"https://i.reddituploads.com/279da42ef1c14c02a540bc02cc14b06a?fit=max&amp;h=1536&amp;w=1536&amp;s=a1f7537addf26a81d76501e62b3a04f2\" rel=\"\" tabindex=\"1\">My kitten constantly looks like she's having an existential crisis.</a> <span class=\"domain\">(<a href=\"/domain/i.reddituploads.com/\">i.reddituploads.com</a>)</span></p><div class=\"expando-button collapsed video\"></div><p class=\"tagline\">submitted <time class=\"live-timestamp\" datetime=\"2016-06-22T18:31:10+00:00\" title=\"Wed Jun 22 18:31:10 2016 UTC\">7 hours ago</time> by <a class=\"author may-blank id-t2_nqm2b\" href=\"https://www.reddit.com/user/birdly420\">birdly420</a><span class=\"userattrs\"></span> to <a class=\"subreddit hover may-blank\" href=\"https://www.reddit.com/r/aww/\">/r/aww</a></p><ul class=\"flat-list buttons\"><li class=\"first\"><a class=\"bylink comments may-blank\" data-event-action=\"comments\" href=\"https://www.reddit.com/r/aww/comments/4pc8dh/my_kitten_constantly_looks_like_shes_having_an/\" rel=\"nofollow\">71 comments</a></li><li class=\"share\"><a class=\"post-sharing-button\" href=\"javascript: void 0;\">share</a></li></ul><div class=\"reportform report-t3_4pc8dh\"></div><div class=\"expando expando-uninitialized\" data-cachedhtml=' &lt;div class=\"media-preview\" id=\"media-preview-4pc8dh\" style=\"max-width: 576px\"&gt; &lt;div class=\"media-preview-content\"&gt; &lt;a href=\"https://i.reddituploads.com/279da42ef1c14c02a540bc02cc14b06a?fit=max&amp;amp;h=1536&amp;amp;w=1536&amp;amp;s=a1f7537addf26a81d76501e62b3a04f2\" class=\"may-blank\"&gt; &lt;img class=\"preview\" src=\"https://i.redditmedia.com/Fz0b6_auRllkepgg_MmbwNMjYJj71_dqguRcHBMPPqE.jpg?w=576&amp;amp;s=1320b69c7c611509bfdc0696becf3530\" width=\"576\" height=\"768\"&gt; &lt;/a&gt; &lt;/div&gt; &lt;/div&gt; ' style=\"display: none\"><span class=\"error\">loading...</span></div></div><div class=\"child\"></div><div class=\"clearleft\"></div></div><div class=\"clearleft\"></div><div class=\" thing id-t3_4pbhl1 linkflair linkflair-Housing even gilded link self\" data-author=\"throwaway75238\" data-author-fullname=\"t2_yxpgj\" data-domain=\"self.personalfinance\" data-fullname=\"t3_4pbhl1\" data-rank=\"10\" data-subreddit=\"personalfinance\" data-subreddit-fullname=\"t5_2qstm\" data-timestamp=\"1466612247000\" data-type=\"link\" data-url=\"/r/personalfinance/comments/4pbhl1/my_mom_just_left_and_im_going_to_be_homeless_at/\" id=\"thing_t3_4pbhl1\" onclick=\"click_thing(this)\"><p class=\"parent\"></p><span class=\"rank\">10</span><div class=\"midcol unvoted\"><div aria-label=\"upvote\" class=\"arrow up login-required access-required\" data-event-action=\"upvote\" role=\"button\" tabindex=\"0\"></div><div class=\"score dislikes\">5083</div><div class=\"score unvoted\">5084</div><div class=\"score likes\">5085</div><div aria-label=\"downvote\" class=\"arrow down login-required access-required\" data-event-action=\"downvote\" role=\"button\" tabindex=\"0\"></div></div><div class=\"entry unvoted\"><p class=\"title\"><a class=\"title may-blank \" href=\"/r/personalfinance/comments/4pbhl1/my_mom_just_left_and_im_going_to_be_homeless_at/\" rel=\"\" tabindex=\"1\">My mom just left and I'm going to be homeless at the end of the month. I'm really scared and don't know what to do.</a><span class=\"linkflairlabel\" title=\"Housing\">Housing</span> <span class=\"domain\">(<a href=\"/r/personalfinance/\">self.personalfinance</a>)</span></p><div class=\"expando-button collapsed selftext\"></div><p class=\"tagline\">submitted <time class=\"live-timestamp\" datetime=\"2016-06-22T16:17:27+00:00\" title=\"Wed Jun 22 16:17:27 2016 UTC\">9 hours ago</time> <time class=\"edited-timestamp\" datetime=\"2016-06-22T20:37:09+00:00\" title=\"last edited 5 hours ago\">*</time> by <a class=\"author may-blank id-t2_yxpgj\" href=\"https://www.reddit.com/user/throwaway75238\">throwaway75238</a><span class=\"userattrs\"></span> to <a class=\"subreddit hover may-blank\" href=\"https://www.reddit.com/r/personalfinance/\">/r/personalfinance</a></p><ul class=\"flat-list buttons\"><li class=\"first\"><a class=\"bylink comments may-blank\" data-event-action=\"comments\" href=\"https://www.reddit.com/r/personalfinance/comments/4pbhl1/my_mom_just_left_and_im_going_to_be_homeless_at/\" rel=\"nofollow\">1121 comments</a></li><li class=\"share\"><a class=\"post-sharing-button\" href=\"javascript: void 0;\">share</a></li></ul><div class=\"reportform report-t3_4pbhl1\"></div><div class=\"expando expando-uninitialized\" style=\"display: none\"><span class=\"error\">loading...</span></div></div><div class=\"child\"></div><div class=\"clearleft\"></div></div><div class=\"clearleft\"></div><div class=\" thing id-t3_4pbvk5 linkflair linkflair-artwork odd gilded link \" data-author=\"idezine123\" data-author-fullname=\"t2_epusm\" data-domain=\"i.redd.it\" data-fullname=\"t3_4pbvk5\" data-rank=\"11\" data-subreddit=\"Art\" data-subreddit-fullname=\"t5_2qh7a\" data-timestamp=\"1466616463000\" data-type=\"link\" data-url=\"/r/Art/comments/4pbvk5/two_clowns_in_the_same_circus_16_x_12s_oil_on/\" id=\"thing_t3_4pbvk5\" onclick=\"click_thing(this)\"><p class=\"parent\"></p><span class=\"rank\">11</span><div class=\"midcol unvoted\"><div aria-label=\"upvote\" class=\"arrow up login-required access-required\" data-event-action=\"upvote\" role=\"button\" tabindex=\"0\"></div><div class=\"score dislikes\">4335</div><div class=\"score unvoted\">4336</div><div class=\"score likes\">4337</div><div aria-label=\"downvote\" class=\"arrow down login-required access-required\" data-event-action=\"downvote\" role=\"button\" tabindex=\"0\"></div></div><a class=\"thumbnail may-blank \" href=\"/r/Art/comments/4pbvk5/two_clowns_in_the_same_circus_16_x_12s_oil_on/\" rel=\"\"><img alt=\"\" height=\"46\" src=\"//b.thumbs.redditmedia.com/p32PnbLD9t9hqvw9Q5X7eZS2tI7Ygqnh5K5MTxOERSE.jpg\" width=\"70\"/></a><div class=\"entry unvoted\"><p class=\"title\"><a class=\"title may-blank \" href=\"/r/Art/comments/4pbvk5/two_clowns_in_the_same_circus_16_x_12s_oil_on/\" rel=\"\" tabindex=\"1\">\"Two clowns in the same circus\" 16 x 12s oil on linen</a><span class=\"linkflairlabel\" title=\"Artwork \">Artwork</span> <span class=\"domain\">(<a href=\"/domain/i.redd.it/\">i.redd.it</a>)</span></p><div class=\"expando-button collapsed video\"></div><p class=\"tagline\">submitted <time class=\"live-timestamp\" datetime=\"2016-06-22T17:27:43+00:00\" title=\"Wed Jun 22 17:27:43 2016 UTC\">8 hours ago</time> by <a class=\"author may-blank id-t2_epusm\" href=\"https://www.reddit.com/user/idezine123\">idezine123</a><span class=\"userattrs\"></span> to <a class=\"subreddit hover may-blank\" href=\"https://www.reddit.com/r/Art/\">/r/Art</a></p><ul class=\"flat-list buttons\"><li class=\"first\"><a class=\"bylink comments may-blank\" data-event-action=\"comments\" href=\"https://www.reddit.com/r/Art/comments/4pbvk5/two_clowns_in_the_same_circus_16_x_12s_oil_on/\" rel=\"nofollow\">1677 comments</a></li><li class=\"share\"><a class=\"post-sharing-button\" href=\"javascript: void 0;\">share</a></li></ul><div class=\"reportform report-t3_4pbvk5\"></div><div class=\"expando expando-uninitialized\" data-cachedhtml=' &lt;div class=\"media-preview\" id=\"media-preview-4pbvk5\" style=\"max-width: 1024px\"&gt; &lt;div class=\"media-preview-content\"&gt; &lt;a href=\"https://i.redd.it/xip1d486mv4x.jpg\" class=\"may-blank\"&gt; &lt;img class=\"preview\" src=\"https://i.redditmedia.com/rOx0Stv0Te8qB5F7KfXypoTbfJSXBTv-Vqem-F4xZcY.jpg?w=1024&amp;amp;s=ffc44f551bc6187638a4366374ddb043\" width=\"1024\" height=\"679\"&gt; &lt;/a&gt; &lt;/div&gt; &lt;/div&gt; ' style=\"display: none\"><span class=\"error\">loading...</span></div></div><div class=\"child\"></div><div class=\"clearleft\"></div></div><div class=\"clearleft\"></div><div class=\" thing id-t3_4pbxkh even link \" data-author=\"charliehoward\" data-author-fullname=\"t2_xtop3\" data-domain=\"imgur.com\" data-fullname=\"t3_4pbxkh\" data-rank=\"12\" data-subreddit=\"DIY\" data-subreddit-fullname=\"t5_2qh7d\" data-timestamp=\"1466617038000\" data-type=\"link\" data-url=\"http://imgur.com/a/cGq5r\" id=\"thing_t3_4pbxkh\" onclick=\"click_thing(this)\"><p class=\"parent\"></p><span class=\"rank\">12</span><div class=\"midcol unvoted\"><div aria-label=\"upvote\" class=\"arrow up login-required access-required\" data-event-action=\"upvote\" role=\"button\" tabindex=\"0\"></div><div class=\"score dislikes\">3601</div><div class=\"score unvoted\">3602</div><div class=\"score likes\">3603</div><div aria-label=\"downvote\" class=\"arrow down login-required access-required\" data-event-action=\"downvote\" role=\"button\" tabindex=\"0\"></div></div><a class=\"thumbnail may-blank \" href=\"http://imgur.com/a/cGq5r\" rel=\"\"><img alt=\"\" height=\"52\" src=\"//b.thumbs.redditmedia.com/oUAn6uciUKrIC73W6qPwWpLdwqrwdNfeXSKqLOZLyiQ.jpg\" width=\"70\"/></a><div class=\"entry unvoted\"><p class=\"title\"><a class=\"title may-blank \" href=\"http://imgur.com/a/cGq5r\" rel=\"\" tabindex=\"1\">Custom Nintendo 64</a> <span class=\"domain\">(<a href=\"/domain/imgur.com/\">imgur.com</a>)</span></p><div class=\"expando-button collapsed video\"></div><p class=\"tagline\">submitted <time class=\"live-timestamp\" datetime=\"2016-06-22T17:37:18+00:00\" title=\"Wed Jun 22 17:37:18 2016 UTC\">8 hours ago</time> by <a class=\"author may-blank id-t2_xtop3\" href=\"https://www.reddit.com/user/charliehoward\">charliehoward</a><span class=\"userattrs\"></span> to <a class=\"subreddit hover may-blank\" href=\"https://www.reddit.com/r/DIY/\">/r/DIY</a></p><ul class=\"flat-list buttons\"><li class=\"first\"><a class=\"bylink comments may-blank\" data-event-action=\"comments\" href=\"https://www.reddit.com/r/DIY/comments/4pbxkh/custom_nintendo_64/\" rel=\"nofollow\">313 comments</a></li><li class=\"share\"><a class=\"post-sharing-button\" href=\"javascript: void 0;\">share</a></li></ul><div class=\"reportform report-t3_4pbxkh\"></div><div class=\"expando expando-uninitialized\" data-cachedhtml=' &lt;iframe src=\"//www.redditmedia.com/mediaembed/4pbxkh\" id=\"media-embed-4pbxkh-xug\" class=\"media-embed\" width=\"560\" height=\"560\" border=\"0\" frameBorder=\"0\" scrolling=\"no\" allowfullscreen&gt;&lt;/iframe&gt; ' style=\"display: none\"><span class=\"error\">loading...</span></div></div><div class=\"child\"></div><div class=\"clearleft\"></div></div><div class=\"clearleft\"></div><div class=\" thing id-t3_4pcw7m linkflair linkflair-allstatus odd link \" data-author=\"OPisactuallydog\" data-author-fullname=\"t2_p52lw\" data-domain=\"bbc.co.uk\" data-fullname=\"t3_4pcw7m\" data-rank=\"13\" data-subreddit=\"TwoXChromosomes\" data-subreddit-fullname=\"t5_2r2jt\" data-timestamp=\"1466627893000\" data-type=\"link\" data-url=\"http://bbc.co.uk/news/world-us-canada-36597949\" id=\"thing_t3_4pcw7m\" onclick=\"click_thing(this)\"><p class=\"parent\"></p><span class=\"rank\">13</span><div class=\"midcol unvoted\"><div aria-label=\"upvote\" class=\"arrow up login-required access-required\" data-event-action=\"upvote\" role=\"button\" tabindex=\"0\"></div><div class=\"score dislikes\">1920</div><div class=\"score unvoted\">1921</div><div class=\"score likes\">1922</div><div aria-label=\"downvote\" class=\"arrow down login-required access-required\" data-event-action=\"downvote\" role=\"button\" tabindex=\"0\"></div></div><div class=\"entry unvoted\"><p class=\"title\"><a class=\"title may-blank \" href=\"http://bbc.co.uk/news/world-us-canada-36597949\" rel=\"\" tabindex=\"1\">Free tampons and pads are coming to New York City's public schools, prisons and homeless shelters</a><span class=\"linkflairlabel\" title=\"/r/all\">/r/all</span> <span class=\"domain\">(<a href=\"/domain/bbc.co.uk/\">bbc.co.uk</a>)</span></p><p class=\"tagline\">submitted <time class=\"live-timestamp\" datetime=\"2016-06-22T20:38:13+00:00\" title=\"Wed Jun 22 20:38:13 2016 UTC\">5 hours ago</time> by <a class=\"author may-blank id-t2_p52lw\" href=\"https://www.reddit.com/user/OPisactuallydog\">OPisactuallydog</a><span class=\"userattrs\"></span> to <a class=\"subreddit hover may-blank\" href=\"https://www.reddit.com/r/TwoXChromosomes/\">/r/TwoXChromosomes</a></p><ul class=\"flat-list buttons\"><li class=\"first\"><a class=\"bylink comments may-blank\" data-event-action=\"comments\" href=\"https://www.reddit.com/r/TwoXChromosomes/comments/4pcw7m/free_tampons_and_pads_are_coming_to_new_york/\" rel=\"nofollow\">194 comments</a></li><li class=\"share\"><a class=\"post-sharing-button\" href=\"javascript: void 0;\">share</a></li></ul><div class=\"reportform report-t3_4pcw7m\"></div><div class=\"expando expando-uninitialized\" style=\"display: none\"><span class=\"error\">loading...</span></div></div><div class=\"child\"></div><div class=\"clearleft\"></div></div><div class=\"clearleft\"></div><div class=\" thing id-t3_4pbew0 even link \" data-author=\"syrupdash\" data-author-fullname=\"t2_aapd2\" data-domain=\"i.imgur.com\" data-fullname=\"t3_4pbew0\" data-rank=\"14\" data-subreddit=\"gaming\" data-subreddit-fullname=\"t5_2qh03\" data-timestamp=\"1466611424000\" data-type=\"link\" data-url=\"http://i.imgur.com/r7umZnt.jpg\" id=\"thing_t3_4pbew0\" onclick=\"click_thing(this)\"><p class=\"parent\"></p><span class=\"rank\">14</span><div class=\"midcol unvoted\"><div aria-label=\"upvote\" class=\"arrow up login-required access-required\" data-event-action=\"upvote\" role=\"button\" tabindex=\"0\"></div><div class=\"score dislikes\">4518</div><div class=\"score unvoted\">4519</div><div class=\"score likes\">4520</div><div aria-label=\"downvote\" class=\"arrow down login-required access-required\" data-event-action=\"downvote\" role=\"button\" tabindex=\"0\"></div></div><a class=\"thumbnail may-blank \" href=\"http://i.imgur.com/r7umZnt.jpg\" rel=\"\"><img alt=\"\" height=\"39\" src=\"//b.thumbs.redditmedia.com/8oaBpeVbDmafM6aMBn0Rl6XQROzqrkkVLVO7YPMflMo.jpg\" width=\"70\"/></a><div class=\"entry unvoted\"><p class=\"title\"><a class=\"title may-blank \" href=\"http://i.imgur.com/r7umZnt.jpg\" rel=\"\" tabindex=\"1\">First World Anarchist</a> <span class=\"domain\">(<a href=\"/domain/i.imgur.com/\">i.imgur.com</a>)</span></p><div class=\"expando-button collapsed video\"></div><p class=\"tagline\">submitted <time class=\"live-timestamp\" datetime=\"2016-06-22T16:03:44+00:00\" title=\"Wed Jun 22 16:03:44 2016 UTC\">9 hours ago</time> by <a class=\"author may-blank id-t2_aapd2\" href=\"https://www.reddit.com/user/syrupdash\">syrupdash</a><span class=\"userattrs\"></span> to <a class=\"subreddit hover may-blank\" href=\"https://www.reddit.com/r/gaming/\">/r/gaming</a></p><ul class=\"flat-list buttons\"><li class=\"first\"><a class=\"bylink comments may-blank\" data-event-action=\"comments\" href=\"https://www.reddit.com/r/gaming/comments/4pbew0/first_world_anarchist/\" rel=\"nofollow\">746 comments</a></li><li class=\"share\"><a class=\"post-sharing-button\" href=\"javascript: void 0;\">share</a></li></ul><div class=\"reportform report-t3_4pbew0\"></div><div class=\"expando expando-uninitialized\" data-cachedhtml=' &lt;div class=\"media-preview\" id=\"media-preview-4pbew0\" style=\"max-width: 1024px\"&gt; &lt;div class=\"media-preview-content\"&gt; &lt;a href=\"http://i.imgur.com/r7umZnt.jpg\" class=\"may-blank\"&gt; &lt;img class=\"preview\" src=\"https://i.redditmedia.com/3N0jPeOV3w1Ia3Q9BnufKBE7cSjf8lkUI4t5fV6uMpk.jpg?w=1024&amp;amp;s=de13b6b614026a7dcf986c081f2c4f86\" width=\"1024\" height=\"576\"&gt; &lt;/a&gt; &lt;/div&gt; &lt;/div&gt; ' style=\"display: none\"><span class=\"error\">loading...</span></div></div><div class=\"child\"></div><div class=\"clearleft\"></div></div><div class=\"clearleft\"></div><div class=\" thing id-t3_4panw5 odd link \" data-author=\"JackassWhisperer\" data-author-fullname=\"t2_fmxqm\" data-domain=\"reuters.com\" data-fullname=\"t3_4panw5\" data-rank=\"15\" data-subreddit=\"worldnews\" data-subreddit-fullname=\"t5_2qh13\" data-timestamp=\"1466602480000\" data-type=\"link\" data-url=\"http://www.reuters.com/article/us-germany-fracking-idUSKCN0Z71YY\" id=\"thing_t3_4panw5\" onclick=\"click_thing(this)\"><p class=\"parent\"></p><span class=\"rank\">15</span><div class=\"midcol unvoted\"><div aria-label=\"upvote\" class=\"arrow up login-required access-required\" data-event-action=\"upvote\" role=\"button\" tabindex=\"0\"></div><div class=\"score dislikes\">5983</div><div class=\"score unvoted\">5984</div><div class=\"score likes\">5985</div><div aria-label=\"downvote\" class=\"arrow down login-required access-required\" data-event-action=\"downvote\" role=\"button\" tabindex=\"0\"></div></div><div class=\"entry unvoted\"><p class=\"title\"><a class=\"title may-blank \" href=\"http://www.reuters.com/article/us-germany-fracking-idUSKCN0Z71YY\" rel=\"\" tabindex=\"1\">German government agrees to ban fracking indefinitely</a> <span class=\"domain\">(<a href=\"/domain/reuters.com/\">reuters.com</a>)</span></p><p class=\"tagline\">submitted <time class=\"live-timestamp\" datetime=\"2016-06-22T13:34:40+00:00\" title=\"Wed Jun 22 13:34:40 2016 UTC\">12 hours ago</time> by <a class=\"author may-blank id-t2_fmxqm\" href=\"https://www.reddit.com/user/JackassWhisperer\">JackassWhisperer</a><span class=\"userattrs\"></span> to <a class=\"subreddit hover may-blank\" href=\"https://www.reddit.com/r/worldnews/\">/r/worldnews</a></p><ul class=\"flat-list buttons\"><li class=\"first\"><a class=\"bylink comments may-blank\" data-event-action=\"comments\" href=\"https://www.reddit.com/r/worldnews/comments/4panw5/german_government_agrees_to_ban_fracking/\" rel=\"nofollow\">2511 comments</a></li><li class=\"share\"><a class=\"post-sharing-button\" href=\"javascript: void 0;\">share</a></li></ul><div class=\"reportform report-t3_4panw5\"></div><div class=\"expando expando-uninitialized\" style=\"display: none\"><span class=\"error\">loading...</span></div></div><div class=\"child\"></div><div class=\"clearleft\"></div></div><div class=\"clearleft\"></div><div class=\" thing id-t3_4pbffj linkflair linkflair-M even link self\" data-author=\"golonrisa\" data-author-fullname=\"t2_ouiog\" data-domain=\"self.tifu\" data-fullname=\"t3_4pbffj\" data-rank=\"16\" data-subreddit=\"tifu\" data-subreddit-fullname=\"t5_2to41\" data-timestamp=\"1466611589000\" data-type=\"link\" data-url=\"/r/tifu/comments/4pbffj/tifu_by_finishing_my_phd/\" id=\"thing_t3_4pbffj\" onclick=\"click_thing(this)\"><p class=\"parent\"></p><span class=\"rank\">16</span><div class=\"midcol unvoted\"><div aria-label=\"upvote\" class=\"arrow up login-required access-required\" data-event-action=\"upvote\" role=\"button\" tabindex=\"0\"></div><div class=\"score dislikes\">3440</div><div class=\"score unvoted\">3441</div><div class=\"score likes\">3442</div><div aria-label=\"downvote\" class=\"arrow down login-required access-required\" data-event-action=\"downvote\" role=\"button\" tabindex=\"0\"></div></div><div class=\"entry unvoted\"><p class=\"title\"><a class=\"title may-blank \" href=\"/r/tifu/comments/4pbffj/tifu_by_finishing_my_phd/\" rel=\"\" tabindex=\"1\">TIFU By finishing my PhD.</a><span class=\"linkflairlabel\" title=\"M\">M</span> <span class=\"domain\">(<a href=\"/r/tifu/\">self.tifu</a>)</span></p><div class=\"expando-button collapsed selftext\"></div><p class=\"tagline\">submitted <time class=\"live-timestamp\" datetime=\"2016-06-22T16:06:29+00:00\" title=\"Wed Jun 22 16:06:29 2016 UTC\">9 hours ago</time> <time class=\"edited-timestamp\" datetime=\"2016-06-23T01:42:14+00:00\" title=\"last edited 14 minutes ago\">*</time> by <a class=\"author may-blank id-t2_ouiog\" href=\"https://www.reddit.com/user/golonrisa\">golonrisa</a><span class=\"userattrs\"></span> to <a class=\"subreddit hover may-blank\" href=\"https://www.reddit.com/r/tifu/\">/r/tifu</a></p><ul class=\"flat-list buttons\"><li class=\"first\"><a class=\"bylink comments may-blank\" data-event-action=\"comments\" href=\"https://www.reddit.com/r/tifu/comments/4pbffj/tifu_by_finishing_my_phd/\" rel=\"nofollow\">1019 comments</a></li><li class=\"share\"><a class=\"post-sharing-button\" href=\"javascript: void 0;\">share</a></li></ul><div class=\"reportform report-t3_4pbffj\"></div><div class=\"expando expando-uninitialized\" style=\"display: none\"><span class=\"error\">loading...</span></div></div><div class=\"child\"></div><div class=\"clearleft\"></div></div><div class=\"clearleft\"></div><div class=\" thing id-t3_4pc3xy odd link self\" data-author=\"eshoves14\" data-author-fullname=\"t2_9drig\" data-domain=\"self.AskReddit\" data-fullname=\"t3_4pc3xy\" data-rank=\"17\" data-subreddit=\"AskReddit\" data-subreddit-fullname=\"t5_2qh1i\" data-timestamp=\"1466618944000\" data-type=\"link\" data-url=\"/r/AskReddit/comments/4pc3xy/what_is_the_creepiest_and_most_unexplainable/\" id=\"thing_t3_4pc3xy\" onclick=\"click_thing(this)\"><p class=\"parent\"></p><span class=\"rank\">17</span><div class=\"midcol unvoted\"><div aria-label=\"upvote\" class=\"arrow up login-required access-required\" data-event-action=\"upvote\" role=\"button\" tabindex=\"0\"></div><div class=\"score dislikes\">2301</div><div class=\"score unvoted\">2302</div><div class=\"score likes\">2303</div><div aria-label=\"downvote\" class=\"arrow down login-required access-required\" data-event-action=\"downvote\" role=\"button\" tabindex=\"0\"></div></div><div class=\"entry unvoted\"><p class=\"title\"><a class=\"title may-blank \" href=\"/r/AskReddit/comments/4pc3xy/what_is_the_creepiest_and_most_unexplainable/\" rel=\"\" tabindex=\"1\">What is the creepiest and most unexplainable paranormal experience you've ever had?</a> <span class=\"domain\">(<a href=\"/r/AskReddit/\">self.AskReddit</a>)</span></p><p class=\"tagline\">submitted <time class=\"live-timestamp\" datetime=\"2016-06-22T18:09:04+00:00\" title=\"Wed Jun 22 18:09:04 2016 UTC\">7 hours ago</time> by <a class=\"author may-blank id-t2_9drig\" href=\"https://www.reddit.com/user/eshoves14\">eshoves14</a><span class=\"userattrs\"></span> to <a class=\"subreddit hover may-blank\" href=\"https://www.reddit.com/r/AskReddit/\">/r/AskReddit</a></p><ul class=\"flat-list buttons\"><li class=\"first\"><a class=\"bylink comments may-blank\" data-event-action=\"comments\" href=\"https://www.reddit.com/r/AskReddit/comments/4pc3xy/what_is_the_creepiest_and_most_unexplainable/\" rel=\"nofollow\">2095 comments</a></li><li class=\"share\"><a class=\"post-sharing-button\" href=\"javascript: void 0;\">share</a></li></ul><div class=\"reportform report-t3_4pc3xy\"></div><div class=\"expando expando-uninitialized\" style=\"display: none\"><span class=\"error\">loading...</span></div></div><div class=\"child\"></div><div class=\"clearleft\"></div></div><div class=\"clearleft\"></div><div class=\" thing id-t3_4pay8c even link self\" data-author=\"CanIGetAWotM8\" data-author-fullname=\"t2_rrkkr\" data-domain=\"self.LifeProTips\" data-fullname=\"t3_4pay8c\" data-rank=\"18\" data-subreddit=\"LifeProTips\" data-subreddit-fullname=\"t5_2s5oq\" data-timestamp=\"1466606052000\" data-type=\"link\" data-url=\"/r/LifeProTips/comments/4pay8c/lpt_make_a_distinct_bend_in_your_business_card/\" id=\"thing_t3_4pay8c\" onclick=\"click_thing(this)\"><p class=\"parent\"></p><span class=\"rank\">18</span><div class=\"midcol unvoted\"><div aria-label=\"upvote\" class=\"arrow up login-required access-required\" data-event-action=\"upvote\" role=\"button\" tabindex=\"0\"></div><div class=\"score dislikes\">4429</div><div class=\"score unvoted\">4430</div><div class=\"score likes\">4431</div><div aria-label=\"downvote\" class=\"arrow down login-required access-required\" data-event-action=\"downvote\" role=\"button\" tabindex=\"0\"></div></div><a class=\"thumbnail self may-blank \" href=\"/r/LifeProTips/comments/4pay8c/lpt_make_a_distinct_bend_in_your_business_card/\" rel=\"nofollow\"></a><div class=\"entry unvoted\"><p class=\"title\"><a class=\"title may-blank \" href=\"/r/LifeProTips/comments/4pay8c/lpt_make_a_distinct_bend_in_your_business_card/\" rel=\"nofollow\" tabindex=\"1\">LPT: Make a distinct bend in your business card before dropping it in a bowl used for a drawing. The drawer is more likely to pick a card that sticks out rather than lays flat.</a> <span class=\"domain\">(<a href=\"/r/LifeProTips/\">self.LifeProTips</a>)</span></p><div class=\"expando-button collapsed selftext\"></div><p class=\"tagline\">submitted <time class=\"live-timestamp\" datetime=\"2016-06-22T14:34:12+00:00\" title=\"Wed Jun 22 14:34:12 2016 UTC\">11 hours ago</time> by <a class=\"author may-blank id-t2_rrkkr\" href=\"https://www.reddit.com/user/CanIGetAWotM8\">CanIGetAWotM8</a><span class=\"userattrs\"></span> to <a class=\"subreddit hover may-blank\" href=\"https://www.reddit.com/r/LifeProTips/\">/r/LifeProTips</a></p><ul class=\"flat-list buttons\"><li class=\"first\"><a class=\"bylink comments may-blank\" data-event-action=\"comments\" href=\"https://www.reddit.com/r/LifeProTips/comments/4pay8c/lpt_make_a_distinct_bend_in_your_business_card/\" rel=\"nofollow\">785 comments</a></li><li class=\"share\"><a class=\"post-sharing-button\" href=\"javascript: void 0;\">share</a></li></ul><div class=\"reportform report-t3_4pay8c\"></div><div class=\"expando expando-uninitialized\" style=\"display: none\"><span class=\"error\">loading...</span></div></div><div class=\"child\"></div><div class=\"clearleft\"></div></div><div class=\"clearleft\"></div><div class=\" thing id-t3_4parc7 linkflair linkflair-business odd link self\" data-author=\"studentloanhero\" data-author-fullname=\"t2_b80vk\" data-domain=\"self.IAmA\" data-fullname=\"t3_4parc7\" data-rank=\"19\" data-subreddit=\"IAmA\" data-subreddit-fullname=\"t5_2qzb6\" data-timestamp=\"1466603721000\" data-type=\"link\" data-url=\"/r/IAmA/comments/4parc7/i_created_a_startup_that_helps_people_pay_off/\" id=\"thing_t3_4parc7\" onclick=\"click_thing(this)\"><p class=\"parent\"></p><span class=\"rank\">19</span><div class=\"midcol unvoted\"><div aria-label=\"upvote\" class=\"arrow up login-required access-required\" data-event-action=\"upvote\" role=\"button\" tabindex=\"0\"></div><div class=\"score dislikes\">4537</div><div class=\"score unvoted\">4538</div><div class=\"score likes\">4539</div><div aria-label=\"downvote\" class=\"arrow down login-required access-required\" data-event-action=\"downvote\" role=\"button\" tabindex=\"0\"></div></div><a class=\"thumbnail self may-blank \" href=\"/r/IAmA/comments/4parc7/i_created_a_startup_that_helps_people_pay_off/\" rel=\"\"></a><div class=\"entry unvoted\"><p class=\"title\"><a class=\"title may-blank \" href=\"/r/IAmA/comments/4parc7/i_created_a_startup_that_helps_people_pay_off/\" rel=\"\" tabindex=\"1\">I created a startup that helps people pay off their student loans. AMA!</a><span class=\"linkflairlabel\" title=\"Business\">Business</span> <span class=\"domain\">(<a href=\"/r/IAmA/\">self.IAmA</a>)</span></p><div class=\"expando-button collapsed selftext\"></div><p class=\"tagline\">submitted <time class=\"live-timestamp\" datetime=\"2016-06-22T13:55:21+00:00\" title=\"Wed Jun 22 13:55:21 2016 UTC\">12 hours ago</time> <time class=\"edited-timestamp\" datetime=\"2016-06-22T22:11:25+00:00\" title=\"last edited 3 hours ago\">*</time> by <a class=\"author may-blank id-t2_b80vk\" href=\"https://www.reddit.com/user/studentloanhero\">studentloanhero</a><span class=\"userattrs\"></span> to <a class=\"subreddit hover may-blank\" href=\"https://www.reddit.com/r/IAmA/\">/r/IAmA</a></p><ul class=\"flat-list buttons\"><li class=\"first\"><a class=\"bylink comments may-blank\" data-event-action=\"comments\" href=\"https://www.reddit.com/r/IAmA/comments/4parc7/i_created_a_startup_that_helps_people_pay_off/\" rel=\"nofollow\">2202 comments</a></li><li class=\"share\"><a class=\"post-sharing-button\" href=\"javascript: void 0;\">share</a></li></ul><div class=\"reportform report-t3_4parc7\"></div><div class=\"expando expando-uninitialized\" style=\"display: none\"><span class=\"error\">loading...</span></div></div><div class=\"child\"></div><div class=\"clearleft\"></div></div><div class=\"clearleft\"></div><div class=\" thing id-t3_4pam6a even link \" data-author=\"ken27238\" data-author-fullname=\"t2_69mz7\" data-domain=\"arstechnica.com\" data-fullname=\"t3_4pam6a\" data-rank=\"20\" data-subreddit=\"nottheonion\" data-subreddit-fullname=\"t5_2qnts\" data-timestamp=\"1466601833000\" data-type=\"link\" data-url=\"http://arstechnica.com/science/2016/06/for-men-the-importance-of-safe-sex-depends-on-how-hot-their-partner-is/\" id=\"thing_t3_4pam6a\" onclick=\"click_thing(this)\"><p class=\"parent\"></p><span class=\"rank\">20</span><div class=\"midcol unvoted\"><div aria-label=\"upvote\" class=\"arrow up login-required access-required\" data-event-action=\"upvote\" role=\"button\" tabindex=\"0\"></div><div class=\"score dislikes\">4971</div><div class=\"score unvoted\">4972</div><div class=\"score likes\">4973</div><div aria-label=\"downvote\" class=\"arrow down login-required access-required\" data-event-action=\"downvote\" role=\"button\" tabindex=\"0\"></div></div><a class=\"thumbnail may-blank \" href=\"http://arstechnica.com/science/2016/06/for-men-the-importance-of-safe-sex-depends-on-how-hot-their-partner-is/\" rel=\"\"><img alt=\"\" height=\"52\" src=\"//b.thumbs.redditmedia.com/eM_f1SKssiVX7FQRYP803V5KTTR-5t3OSgt6JbkpEkI.jpg\" width=\"70\"/></a><div class=\"entry unvoted\"><p class=\"title\"><a class=\"title may-blank \" href=\"http://arstechnica.com/science/2016/06/for-men-the-importance-of-safe-sex-depends-on-how-hot-their-partner-is/\" rel=\"\" tabindex=\"1\">For men, the importance of safe sex depends on how hot their partner is</a> <span class=\"domain\">(<a href=\"/domain/arstechnica.com/\">arstechnica.com</a>)</span></p><p class=\"tagline\">submitted <time class=\"live-timestamp\" datetime=\"2016-06-22T13:23:53+00:00\" title=\"Wed Jun 22 13:23:53 2016 UTC\">12 hours ago</time> by <a class=\"author may-blank id-t2_69mz7\" href=\"https://www.reddit.com/user/ken27238\">ken27238</a><span class=\"userattrs\"></span> to <a class=\"subreddit hover may-blank\" href=\"https://www.reddit.com/r/nottheonion/\">/r/nottheonion</a></p><ul class=\"flat-list buttons\"><li class=\"first\"><a class=\"bylink comments may-blank\" data-event-action=\"comments\" href=\"https://www.reddit.com/r/nottheonion/comments/4pam6a/for_men_the_importance_of_safe_sex_depends_on_how/\" rel=\"nofollow\">3716 comments</a></li><li class=\"share\"><a class=\"post-sharing-button\" href=\"javascript: void 0;\">share</a></li></ul><div class=\"reportform report-t3_4pam6a\"></div><div class=\"expando expando-uninitialized\" style=\"display: none\"><span class=\"error\">loading...</span></div></div><div class=\"child\"></div><div class=\"clearleft\"></div></div><div class=\"clearleft\"></div><div class=\" thing id-t3_4pcngg odd link \" data-author=\"zorzurafi\" data-author-fullname=\"t2_ktppy\" data-domain=\"i.imgur.com\" data-fullname=\"t3_4pcngg\" data-rank=\"21\" data-subreddit=\"mildlyinteresting\" data-subreddit-fullname=\"t5_2ti4h\" data-timestamp=\"1466625028000\" data-type=\"link\" data-url=\"http://i.imgur.com/HBzAlge.jpg\" id=\"thing_t3_4pcngg\" onclick=\"click_thing(this)\"><p class=\"parent\"></p><span class=\"rank\">21</span><div class=\"midcol unvoted\"><div aria-label=\"upvote\" class=\"arrow up login-required access-required\" data-event-action=\"upvote\" role=\"button\" tabindex=\"0\"></div><div class=\"score dislikes\">1524</div><div class=\"score unvoted\">1525</div><div class=\"score likes\">1526</div><div aria-label=\"downvote\" class=\"arrow down login-required access-required\" data-event-action=\"downvote\" role=\"button\" tabindex=\"0\"></div></div><a class=\"thumbnail may-blank \" href=\"http://i.imgur.com/HBzAlge.jpg\" rel=\"\"><img alt=\"\" height=\"70\" src=\"//b.thumbs.redditmedia.com/bbw0etUrtbY03jKuUsb8U4ap9yjUGJWu8e9-Roux5dg.jpg\" width=\"70\"/></a><div class=\"entry unvoted\"><p class=\"title\"><a class=\"title may-blank \" href=\"http://i.imgur.com/HBzAlge.jpg\" rel=\"\" tabindex=\"1\">One of my gummy bears turned out a little strange...</a> <span class=\"domain\">(<a href=\"/domain/i.imgur.com/\">i.imgur.com</a>)</span></p><div class=\"expando-button collapsed video\"></div><p class=\"tagline\">submitted <time class=\"live-timestamp\" datetime=\"2016-06-22T19:50:28+00:00\" title=\"Wed Jun 22 19:50:28 2016 UTC\">6 hours ago</time> by <a class=\"author may-blank id-t2_ktppy\" href=\"https://www.reddit.com/user/zorzurafi\">zorzurafi</a><span class=\"userattrs\"></span> to <a class=\"subreddit hover may-blank\" href=\"https://www.reddit.com/r/mildlyinteresting/\">/r/mildlyinteresting</a></p><ul class=\"flat-list buttons\"><li class=\"first\"><a class=\"bylink comments may-blank\" data-event-action=\"comments\" href=\"https://www.reddit.com/r/mildlyinteresting/comments/4pcngg/one_of_my_gummy_bears_turned_out_a_little_strange/\" rel=\"nofollow\">94 comments</a></li><li class=\"share\"><a class=\"post-sharing-button\" href=\"javascript: void 0;\">share</a></li></ul><div class=\"reportform report-t3_4pcngg\"></div><div class=\"expando expando-uninitialized\" data-cachedhtml=' &lt;div class=\"media-preview\" id=\"media-preview-4pcngg\" style=\"max-width: 576px\"&gt; &lt;div class=\"media-preview-content\"&gt; &lt;a href=\"http://i.imgur.com/HBzAlge.jpg\" class=\"may-blank\"&gt; &lt;img class=\"preview\" src=\"https://i.redditmedia.com/Is4gijaAs13V6vxfTW_luw-FhoRwknQjNW8xegRsLck.jpg?w=576&amp;amp;s=684b6b46601558fe7f8d11d19f6118e0\" width=\"576\" height=\"768\"&gt; &lt;/a&gt; &lt;/div&gt; &lt;/div&gt; ' style=\"display: none\"><span class=\"error\">loading...</span></div></div><div class=\"child\"></div><div class=\"clearleft\"></div></div><div class=\"clearleft\"></div><div class=\" thing id-t3_4paimu linkflair linkflair-soft-lock even link \" data-author=\"_korbendallas_\" data-author-fullname=\"t2_iqgmk\" data-domain=\"i.imgur.com\" data-fullname=\"t3_4paimu\" data-rank=\"22\" data-subreddit=\"photoshopbattles\" data-subreddit-fullname=\"t5_2tecy\" data-timestamp=\"1466600445000\" data-type=\"link\" data-url=\"http://i.imgur.com/vrMkgxQ.jpg\" id=\"thing_t3_4paimu\" onclick=\"click_thing(this)\"><p class=\"parent\"></p><span class=\"rank\">22</span><div class=\"midcol unvoted\"><div aria-label=\"upvote\" class=\"arrow up login-required access-required\" data-event-action=\"upvote\" role=\"button\" tabindex=\"0\"></div><div class=\"score dislikes\">5243</div><div class=\"score unvoted\">5244</div><div class=\"score likes\">5245</div><div aria-label=\"downvote\" class=\"arrow down login-required access-required\" data-event-action=\"downvote\" role=\"button\" tabindex=\"0\"></div></div><a class=\"thumbnail may-blank \" href=\"http://i.imgur.com/vrMkgxQ.jpg\" rel=\"\"><img alt=\"\" height=\"70\" src=\"//b.thumbs.redditmedia.com/scESvIJJHeAPC5MxSIS4rJRciOmxa9APzUygVQbxCOQ.jpg\" width=\"70\"/></a><div class=\"entry unvoted\"><p class=\"title\"><a class=\"title may-blank \" href=\"http://i.imgur.com/vrMkgxQ.jpg\" rel=\"\" tabindex=\"1\">PsBattle: Peter Dinklage riding a scooter</a><span class=\"linkflairlabel\" title=\"Photoshops Only Mode | Cutout in Comments\">Photoshops Only Mode | Cutout in Comments</span> <span class=\"domain\">(<a href=\"/domain/i.imgur.com/\">i.imgur.com</a>)</span></p><div class=\"expando-button collapsed video\"></div><p class=\"tagline\">submitted <time class=\"live-timestamp\" datetime=\"2016-06-22T13:00:45+00:00\" title=\"Wed Jun 22 13:00:45 2016 UTC\">12 hours ago</time> by <a class=\"author may-blank id-t2_iqgmk\" href=\"https://www.reddit.com/user/_korbendallas_\">_korbendallas_</a><span class=\"userattrs\"></span> to <a class=\"subreddit hover may-blank\" href=\"https://www.reddit.com/r/photoshopbattles/\">/r/photoshopbattles</a></p><ul class=\"flat-list buttons\"><li class=\"first\"><a class=\"bylink comments may-blank\" data-event-action=\"comments\" href=\"https://www.reddit.com/r/photoshopbattles/comments/4paimu/psbattle_peter_dinklage_riding_a_scooter/\" rel=\"nofollow\">486 comments</a></li><li class=\"share\"><a class=\"post-sharing-button\" href=\"javascript: void 0;\">share</a></li></ul><div class=\"reportform report-t3_4paimu\"></div><div class=\"expando expando-uninitialized\" data-cachedhtml=' &lt;div class=\"media-preview\" id=\"media-preview-4paimu\" style=\"max-width: 615px\"&gt; &lt;div class=\"media-preview-content\"&gt; &lt;a href=\"http://i.imgur.com/vrMkgxQ.jpg\" class=\"may-blank\"&gt; &lt;img class=\"preview\" src=\"https://i.redditmedia.com/BU0QybMYOxY7_7ezw1Q9lAKF8ACd6egANq9Ud3asR_M.png?w=615&amp;amp;s=4c539da8577828a2de0eacca260bf38a\" width=\"615\" height=\"768\"&gt; &lt;/a&gt; &lt;/div&gt; &lt;/div&gt; ' style=\"display: none\"><span class=\"error\">loading...</span></div></div><div class=\"child\"></div><div class=\"clearleft\"></div></div><div class=\"clearleft\"></div><div class=\" thing id-t3_4padlt odd link \" data-author=\"jaykirsch\" data-author-fullname=\"t2_snpqs\" data-domain=\"i.imgur.com\" data-fullname=\"t3_4padlt\" data-rank=\"23\" data-subreddit=\"OldSchoolCool\" data-subreddit-fullname=\"t5_2tycb\" data-timestamp=\"1466598383000\" data-type=\"link\" data-url=\"http://i.imgur.com/100VGtu.jpg\" id=\"thing_t3_4padlt\" onclick=\"click_thing(this)\"><p class=\"parent\"></p><span class=\"rank\">23</span><div class=\"midcol unvoted\"><div aria-label=\"upvote\" class=\"arrow up login-required access-required\" data-event-action=\"upvote\" role=\"button\" tabindex=\"0\"></div><div class=\"score dislikes\">5469</div><div class=\"score unvoted\">5470</div><div class=\"score likes\">5471</div><div aria-label=\"downvote\" class=\"arrow down login-required access-required\" data-event-action=\"downvote\" role=\"button\" tabindex=\"0\"></div></div><a class=\"thumbnail may-blank \" href=\"http://i.imgur.com/100VGtu.jpg\" rel=\"\"><img alt=\"\" height=\"68\" src=\"//b.thumbs.redditmedia.com/9Y1U2tPNXrBUGMUcRdPIwoIPWYlqJjGwdSeQ_l-whFc.jpg\" width=\"70\"/></a><div class=\"entry unvoted\"><p class=\"title\"><a class=\"title may-blank \" href=\"http://i.imgur.com/100VGtu.jpg\" rel=\"\" tabindex=\"1\">Albert Einstein and Charlie Chaplain, 1931</a> <span class=\"domain\">(<a href=\"/domain/i.imgur.com/\">i.imgur.com</a>)</span></p><div class=\"expando-button collapsed video\"></div><p class=\"tagline\">submitted <time class=\"live-timestamp\" datetime=\"2016-06-22T12:26:23+00:00\" title=\"Wed Jun 22 12:26:23 2016 UTC\">13 hours ago</time> by <a class=\"author may-blank id-t2_snpqs\" href=\"https://www.reddit.com/user/jaykirsch\">jaykirsch</a><span class=\"userattrs\"></span> to <a class=\"subreddit hover may-blank\" href=\"https://www.reddit.com/r/OldSchoolCool/\">/r/OldSchoolCool</a></p><ul class=\"flat-list buttons\"><li class=\"first\"><a class=\"bylink comments may-blank\" data-event-action=\"comments\" href=\"https://www.reddit.com/r/OldSchoolCool/comments/4padlt/albert_einstein_and_charlie_chaplain_1931/\" rel=\"nofollow\">664 comments</a></li><li class=\"share\"><a class=\"post-sharing-button\" href=\"javascript: void 0;\">share</a></li></ul><div class=\"reportform report-t3_4padlt\"></div><div class=\"expando expando-uninitialized\" data-cachedhtml=' &lt;div class=\"media-preview\" id=\"media-preview-4padlt\" style=\"max-width: 671px\"&gt; &lt;div class=\"media-preview-content\"&gt; &lt;a href=\"http://i.imgur.com/100VGtu.jpg\" class=\"may-blank\"&gt; &lt;img class=\"preview\" src=\"https://i.redditmedia.com/baDo7rqct6CN79AmJxbx8UaGsMKlCfSwEgNt_1N5XYM.jpg?w=671&amp;amp;s=04ab58a29785c4c968c29497072e22bb\" width=\"671\" height=\"654\"&gt; &lt;/a&gt; &lt;/div&gt; &lt;/div&gt; ' style=\"display: none\"><span class=\"error\">loading...</span></div></div><div class=\"child\"></div><div class=\"clearleft\"></div></div><div class=\"clearleft\"></div><div class=\" thing id-t3_4pb2jh linkflair linkflair-Engineering even link self\" data-author=\"KyleHooks\" data-author-fullname=\"t2_n6fry\" data-domain=\"self.explainlikeimfive\" data-fullname=\"t3_4pb2jh\" data-rank=\"24\" data-subreddit=\"explainlikeimfive\" data-subreddit-fullname=\"t5_2sokd\" data-timestamp=\"1466607522000\" data-type=\"link\" data-url=\"/r/explainlikeimfive/comments/4pb2jh/eli5_why_tunnels_that_go_underground_dont_flood/\" id=\"thing_t3_4pb2jh\" onclick=\"click_thing(this)\"><p class=\"parent\"></p><span class=\"rank\">24</span><div class=\"midcol unvoted\"><div aria-label=\"upvote\" class=\"arrow up login-required access-required\" data-event-action=\"upvote\" role=\"button\" tabindex=\"0\"></div><div class=\"score dislikes\">3169</div><div class=\"score unvoted\">3170</div><div class=\"score likes\">3171</div><div aria-label=\"downvote\" class=\"arrow down login-required access-required\" data-event-action=\"downvote\" role=\"button\" tabindex=\"0\"></div></div><div class=\"entry unvoted\"><p class=\"title\"><a class=\"title may-blank \" href=\"/r/explainlikeimfive/comments/4pb2jh/eli5_why_tunnels_that_go_underground_dont_flood/\" rel=\"\" tabindex=\"1\">ELI5: Why tunnels that go underground don't flood when it rains</a><span class=\"linkflairlabel\" title=\"Engineering\">Engineering</span> <span class=\"domain\">(<a href=\"/r/explainlikeimfive/\">self.explainlikeimfive</a>)</span></p><div class=\"expando-button collapsed selftext\"></div><p class=\"tagline\">submitted <time class=\"live-timestamp\" datetime=\"2016-06-22T14:58:42+00:00\" title=\"Wed Jun 22 14:58:42 2016 UTC\">10 hours ago</time> <time class=\"edited-timestamp\" datetime=\"2016-06-22T15:20:04+00:00\" title=\"last edited 10 hours ago\">*</time> by <a class=\"author may-blank id-t2_n6fry\" href=\"https://www.reddit.com/user/KyleHooks\">KyleHooks</a><span class=\"userattrs\"></span> to <a class=\"subreddit hover may-blank\" href=\"https://www.reddit.com/r/explainlikeimfive/\">/r/explainlikeimfive</a></p><ul class=\"flat-list buttons\"><li class=\"first\"><a class=\"bylink comments may-blank\" data-event-action=\"comments\" href=\"https://www.reddit.com/r/explainlikeimfive/comments/4pb2jh/eli5_why_tunnels_that_go_underground_dont_flood/\" rel=\"nofollow\">556 comments</a></li><li class=\"share\"><a class=\"post-sharing-button\" href=\"javascript: void 0;\">share</a></li></ul><div class=\"reportform report-t3_4pb2jh\"></div><div class=\"expando expando-uninitialized\" style=\"display: none\"><span class=\"error\">loading...</span></div></div><div class=\"child\"></div><div class=\"clearleft\"></div></div><div class=\"clearleft\"></div><div class=\" thing id-t3_4paiyy linkflair linkflair-poster odd link \" data-author=\"filmfanatic5\" data-author-fullname=\"t2_lonuo\" data-domain=\"i.redd.it\" data-fullname=\"t3_4paiyy\" data-rank=\"25\" data-subreddit=\"movies\" data-subreddit-fullname=\"t5_2qh3s\" data-timestamp=\"1466600575000\" data-type=\"link\" data-url=\"/r/movies/comments/4paiyy/power_rangers_teaser_poster/\" id=\"thing_t3_4paiyy\" onclick=\"click_thing(this)\"><p class=\"parent\"></p><span class=\"rank\">25</span><div class=\"midcol unvoted\"><div aria-label=\"upvote\" class=\"arrow up login-required access-required\" data-event-action=\"upvote\" role=\"button\" tabindex=\"0\"></div><div class=\"score dislikes\">4372</div><div class=\"score unvoted\">4373</div><div class=\"score likes\">4374</div><div aria-label=\"downvote\" class=\"arrow down login-required access-required\" data-event-action=\"downvote\" role=\"button\" tabindex=\"0\"></div></div><a class=\"thumbnail may-blank \" href=\"/r/movies/comments/4paiyy/power_rangers_teaser_poster/\" rel=\"\"><img alt=\"\" height=\"70\" src=\"//b.thumbs.redditmedia.com/rYIZBMfsCMYPwfjUW4HRoslgEoJ8jLx0Ng14lDpnv1A.jpg\" width=\"70\"/></a><div class=\"entry unvoted\"><p class=\"title\"><a class=\"title may-blank \" href=\"/r/movies/comments/4paiyy/power_rangers_teaser_poster/\" rel=\"\" tabindex=\"1\">'Power Rangers' Teaser Poster</a><span class=\"linkflairlabel\" title=\"Poster\">Poster</span> <span class=\"domain\">(<a href=\"/domain/i.redd.it/\">i.redd.it</a>)</span></p><div class=\"expando-button collapsed video\"></div><p class=\"tagline\">submitted <time class=\"live-timestamp\" datetime=\"2016-06-22T13:02:55+00:00\" title=\"Wed Jun 22 13:02:55 2016 UTC\">12 hours ago</time> by <a class=\"author may-blank id-t2_lonuo\" href=\"https://www.reddit.com/user/filmfanatic5\">filmfanatic5</a><span class=\"userattrs\"></span> to <a class=\"subreddit hover may-blank\" href=\"https://www.reddit.com/r/movies/\">/r/movies</a></p><ul class=\"flat-list buttons\"><li class=\"first\"><a class=\"bylink comments may-blank\" data-event-action=\"comments\" href=\"https://www.reddit.com/r/movies/comments/4paiyy/power_rangers_teaser_poster/\" rel=\"nofollow\">1249 comments</a></li><li class=\"share\"><a class=\"post-sharing-button\" href=\"javascript: void 0;\">share</a></li></ul><div class=\"reportform report-t3_4paiyy\"></div><div class=\"expando expando-uninitialized\" data-cachedhtml=' &lt;div class=\"media-preview\" id=\"media-preview-4paiyy\" style=\"max-width: 498px\"&gt; &lt;div class=\"media-preview-content\"&gt; &lt;a href=\"https://i.redd.it/3329420zau4x.jpg\" class=\"may-blank\"&gt; &lt;img class=\"preview\" src=\"https://i.redditmedia.com/4v5s3MAzmH0zCzfMxjNEx1Kvb9roNDcVwjLPUJiIvsk.jpg?w=498&amp;amp;s=b0175e6719f8b965ee8686d7ff4f64db\" width=\"498\" height=\"768\"&gt; &lt;/a&gt; &lt;/div&gt; &lt;/div&gt; ' style=\"display: none\"><span class=\"error\">loading...</span></div></div><div class=\"child\"></div><div class=\"clearleft\"></div></div><div class=\"clearleft\"></div><div class=\"nav-buttons\"><span class=\"nextprev\">view more: <a href=\"https://www.reddit.com/?count=25&amp;after=t3_4paiyy\" rel=\"nofollow next\">next ›</a></span><span class=\"next-suggestions\">or try a <a href=\"https://www.reddit.com/r/random\">random subreddit</a></span></div></div>]"
      ]
     },
     "execution_count": 184,
     "metadata": {},
     "output_type": "execute_result"
    }
   ],
   "source": [
    "all_headlines"
   ]
  },
  {
   "cell_type": "code",
   "execution_count": 190,
   "metadata": {
    "collapsed": false
   },
   "outputs": [
    {
     "data": {
      "text/plain": [
       "[<div class=\"entry unvoted\"><p class=\"title\"><a class=\"title may-blank \" href=\"https://streamable.com/f6hj\" rel=\"\" tabindex=\"1\">Icelandic commentator loses his mind after his country, that has a population of only 330,000,win in the last minute and advance to the knockout stages</a> <span class=\"domain\">(<a href=\"/domain/streamable.com/\">streamable.com</a>)</span></p><div class=\"expando-button collapsed video\"></div><p class=\"tagline\">submitted <time class=\"live-timestamp\" datetime=\"2016-06-22T19:10:51+00:00\" title=\"Wed Jun 22 19:10:51 2016 UTC\">6 hours ago</time> by <a class=\"author may-blank id-t2_qef2g\" href=\"https://www.reddit.com/user/alitheboss55\">alitheboss55</a><span class=\"userattrs\"></span> to <a class=\"subreddit hover may-blank\" href=\"https://www.reddit.com/r/videos/\">/r/videos</a></p><ul class=\"flat-list buttons\"><li class=\"first\"><a class=\"bylink comments may-blank\" data-event-action=\"comments\" href=\"https://www.reddit.com/r/videos/comments/4pcfy4/icelandic_commentator_loses_his_mind_after_his/\" rel=\"nofollow\">3204 comments</a></li><li class=\"share\"><a class=\"post-sharing-button\" href=\"javascript: void 0;\">share</a></li></ul><div class=\"reportform report-t3_4pcfy4\"></div><div class=\"expando expando-uninitialized\" data-cachedhtml=' &lt;iframe src=\"//www.redditmedia.com/mediaembed/4pcfy4\" id=\"media-embed-4pcfy4-na2\" class=\"media-embed\" width=\"610\" height=\"348\" border=\"0\" frameBorder=\"0\" scrolling=\"no\" allowfullscreen&gt;&lt;/iframe&gt; ' style=\"display: none\"><span class=\"error\">loading...</span></div></div>]"
      ]
     },
     "execution_count": 190,
     "metadata": {},
     "output_type": "execute_result"
    }
   ],
   "source": [
    "all_stories = []\n",
    "for title in all_headlines:\n",
    "    story_title = title.find(\"div\", {'class': 'entry unvoted' })\n",
    "    all_stories.append(story_title)\n",
    "all_stories\n",
    "    "
   ]
  },
  {
   "cell_type": "code",
   "execution_count": 195,
   "metadata": {
    "collapsed": false
   },
   "outputs": [
    {
     "data": {
      "text/plain": [
       "[[...]]"
      ]
     },
     "execution_count": 195,
     "metadata": {},
     "output_type": "execute_result"
    }
   ],
   "source": [
    "all_votes = []\n",
    "for votes in all_headlines:\n",
    "    votes_total = votes.find(\"div\", { 'class': 'score unvoted' })\n",
    "    all_votes.append(all_votes)\n",
    "all_votes\n",
    "\n"
   ]
  },
  {
   "cell_type": "code",
   "execution_count": null,
   "metadata": {
    "collapsed": true
   },
   "outputs": [],
   "source": []
  },
  {
   "cell_type": "code",
   "execution_count": null,
   "metadata": {
    "collapsed": true
   },
   "outputs": [],
   "source": []
  },
  {
   "cell_type": "code",
   "execution_count": null,
   "metadata": {
    "collapsed": true
   },
   "outputs": [],
   "source": []
  },
  {
   "cell_type": "code",
   "execution_count": null,
   "metadata": {
    "collapsed": true
   },
   "outputs": [],
   "source": []
  },
  {
   "cell_type": "code",
   "execution_count": null,
   "metadata": {
    "collapsed": true
   },
   "outputs": [],
   "source": []
  },
  {
   "cell_type": "code",
   "execution_count": null,
   "metadata": {
    "collapsed": true
   },
   "outputs": [],
   "source": []
  },
  {
   "cell_type": "code",
   "execution_count": 187,
   "metadata": {
    "collapsed": false
   },
   "outputs": [
    {
     "data": {
      "text/plain": [
       "[{'title': 'Icelandic commentator loses his mind after his country, that has a population of only 330,000,win in the last minute and advance to the knockout stages'}]"
      ]
     },
     "execution_count": 187,
     "metadata": {},
     "output_type": "execute_result"
    }
   ],
   "source": [
    "all_stories = []\n",
    "for title in all_headlines:\n",
    "    #getting the title from the a_tag\n",
    "    story_title = title.find(\"div\", {'class': 'title may-blank ' })\n",
    "    story_title = story_title.string\n",
    "    story_dict = {'title': story_title}\n",
    "    all_stories.append(story_dict)\n",
    "all_stories"
   ]
  },
  {
   "cell_type": "code",
   "execution_count": null,
   "metadata": {
    "collapsed": true
   },
   "outputs": [],
   "source": []
  },
  {
   "cell_type": "code",
   "execution_count": 316,
   "metadata": {
    "collapsed": true
   },
   "outputs": [],
   "source": [
    "def vote_count_int(x):\n",
    "    if x == '•':\n",
    "        x = 0\n",
    "    else:\n",
    "        x = int(x)\n",
    "    return x"
   ]
  },
  {
   "cell_type": "code",
   "execution_count": 317,
   "metadata": {
    "collapsed": false
   },
   "outputs": [
    {
     "data": {
      "text/plain": [
       "[0,\n",
       " 0,\n",
       " 0,\n",
       " 0,\n",
       " 0,\n",
       " 0,\n",
       " 0,\n",
       " 0,\n",
       " 0,\n",
       " 0,\n",
       " 3942,\n",
       " 5915,\n",
       " 5147,\n",
       " 6229,\n",
       " 6736,\n",
       " 5330,\n",
       " 4136,\n",
       " 3732,\n",
       " 5133,\n",
       " 2088,\n",
       " 3343,\n",
       " 5456,\n",
       " 5714,\n",
       " 3984,\n",
       " 5096,\n",
       " 4118,\n",
       " 3367,\n",
       " 5943,\n",
       " 3570,\n",
       " 2852,\n",
       " 4383,\n",
       " 4855,\n",
       " 4918,\n",
       " 5241,\n",
       " 3084]"
      ]
     },
     "execution_count": 317,
     "metadata": {},
     "output_type": "execute_result"
    }
   ],
   "source": [
    "x = [vote_count_int(votes.string) for votes in div_class_midcol_unvoted]\n",
    "x\n"
   ]
  },
  {
   "cell_type": "code",
   "execution_count": null,
   "metadata": {
    "collapsed": true
   },
   "outputs": [],
   "source": []
  },
  {
   "cell_type": "code",
   "execution_count": null,
   "metadata": {
    "collapsed": true
   },
   "outputs": [],
   "source": []
  },
  {
   "cell_type": "code",
   "execution_count": 160,
   "metadata": {
    "collapsed": false
   },
   "outputs": [
    {
     "data": {
      "text/plain": [
       "[{'title': 'We all use the same 26 letters of the alphabet as persuasive speakers, rappers, con artists, etc. They just put the letters in the right order.'},\n",
       " {'title': \"TIFU by sneezing on a germophobe's lunchbox.\"},\n",
       " {'title': \"I'm taking a gender class for the first time and struggling A LOT. I think my classmates think I'm a bad feminist and I'm not sure if they're right.\"},\n",
       " {'title': 'The Motorcycle Industry -- French for Tigers [Pop Punk] (2010)'},\n",
       " {'title': \"If I ever run into anyone named Jessica Fletcher, I'm getting the heck out of there\"},\n",
       " {'title': 'What are the best documentaries on Netflix?'},\n",
       " {'title': 'Sprinkle Infusion 24x18 Acrylic, Latex, Ink, & Watercolor On Textured Canvas'},\n",
       " {'title': 'Ps Battle: Double mailman.'},\n",
       " {'title': 'I wonder how many Rocket League matches I could have won if I could actually hit the ball.'},\n",
       " {'title': 'Icelandic commentator loses his mind after his country, that has a population of only 330,000,win in the last minute and advance to the knockout stages'},\n",
       " {'title': '11 million Americans spend half their income on rent'},\n",
       " {'title': 'View of Cleveland for the Cavaliers parade'},\n",
       " {'title': '\"I\\'m stuck...I\\'m stuck! Never mind...I got it!\"'},\n",
       " {'title': 'Demand for abortions soars in countries hit by Zika outbreak, study finds'},\n",
       " {'title': 'This pro wrestler looks like frasier on steroids'},\n",
       " {'title': \"There exists a set of finite actions that, if I performed them in the correct order, would make me a millionaire in a day. I just don't know what they are.\"},\n",
       " {'title': 'TIL that in 1997, 14 year old Nathan Zohner was able to get 43 out of 50 of his classmates to vote to ban \"Dihydrogen Monoxide\" for his science fair project. His project aimed to prove that the use of true facts can lead the ignorant public to false conclusions. He won first prize.'},\n",
       " {'title': \"My kitten constantly looks like she's having an existential crisis.\"},\n",
       " {'title': \"My mom just left and I'm going to be homeless at the end of the month. I'm really scared and don't know what to do.\"},\n",
       " {'title': '\"Two clowns in the same circus\" 16 x 12s oil on linen'},\n",
       " {'title': 'Custom Nintendo 64'},\n",
       " {'title': \"Free tampons and pads are coming to New York City's public schools, prisons and homeless shelters\"},\n",
       " {'title': 'First World Anarchist'},\n",
       " {'title': 'German government agrees to ban fracking indefinitely'},\n",
       " {'title': 'TIFU By finishing my PhD.'},\n",
       " {'title': \"What is the creepiest and most unexplainable paranormal experience you've ever had?\"},\n",
       " {'title': 'LPT: Make a distinct bend in your business card before dropping it in a bowl used for a drawing. The drawer is more likely to pick a card that sticks out rather than lays flat.'},\n",
       " {'title': 'I created a startup that helps people pay off their student loans. AMA!'},\n",
       " {'title': 'For men, the importance of safe sex depends on how hot their partner is'},\n",
       " {'title': 'One of my gummy bears turned out a little strange...'},\n",
       " {'title': 'PsBattle: Peter Dinklage riding a scooter'},\n",
       " {'title': 'Albert Einstein and Charlie Chaplain, 1931'},\n",
       " {'title': \"ELI5: Why tunnels that go underground don't flood when it rains\"},\n",
       " {'title': \"'Power Rangers' Teaser Poster\"}]"
      ]
     },
     "execution_count": 160,
     "metadata": {},
     "output_type": "execute_result"
    }
   ],
   "source": [
    "all_stories = []\n",
    "for title in p_tag:\n",
    "    #getting the title from the a_tag\n",
    "    story_title = title.find(\"a\", {'class': 'title may-blank ' })\n",
    "    story_title = story_title.string\n",
    "    story_dict = {'title': story_title}\n",
    "    all_stories.append(story_dict)\n",
    "all_stories"
   ]
  },
  {
   "cell_type": "code",
   "execution_count": 313,
   "metadata": {
    "collapsed": false
   },
   "outputs": [],
   "source": [
    "div_class_midcol_unvoted = reddit.find_all(\"div\", { 'class': 'score unvoted' })\n",
    "x = [vote_count_int(votes.string) for votes in div_class_midcol_unvoted]\n",
    "\n",
    "\n"
   ]
  },
  {
   "cell_type": "code",
   "execution_count": 315,
   "metadata": {
    "collapsed": false
   },
   "outputs": [
    {
     "data": {
      "text/plain": [
       "[0,\n",
       " 0,\n",
       " 0,\n",
       " 0,\n",
       " 0,\n",
       " 0,\n",
       " 0,\n",
       " 0,\n",
       " 0,\n",
       " 0,\n",
       " 3942,\n",
       " 5915,\n",
       " 5147,\n",
       " 6229,\n",
       " 6736,\n",
       " 5330,\n",
       " 4136,\n",
       " 3732,\n",
       " 5133,\n",
       " 2088,\n",
       " 3343,\n",
       " 5456,\n",
       " 5714,\n",
       " 3984,\n",
       " 5096,\n",
       " 4118,\n",
       " 3367,\n",
       " 5943,\n",
       " 3570,\n",
       " 2852,\n",
       " 4383,\n",
       " 4855,\n",
       " 4918,\n",
       " 5241,\n",
       " 3084]"
      ]
     },
     "execution_count": 315,
     "metadata": {},
     "output_type": "execute_result"
    }
   ],
   "source": [
    "x = [vote_count_int(votes.string) for votes in div_class_midcol_unvoted]\n",
    "x"
   ]
  },
  {
   "cell_type": "code",
   "execution_count": 308,
   "metadata": {
    "collapsed": false
   },
   "outputs": [
    {
     "ename": "TypeError",
     "evalue": "'list' object is not callable",
     "output_type": "error",
     "traceback": [
      "\u001b[0;31m---------------------------------------------------------------------------\u001b[0m",
      "\u001b[0;31mTypeError\u001b[0m                                 Traceback (most recent call last)",
      "\u001b[0;32m<ipython-input-308-f6ea105b2daa>\u001b[0m in \u001b[0;36m<module>\u001b[0;34m()\u001b[0m\n\u001b[1;32m      1\u001b[0m \u001b[0;34m\u001b[0m\u001b[0m\n\u001b[1;32m      2\u001b[0m \u001b[0;34m\u001b[0m\u001b[0m\n\u001b[0;32m----> 3\u001b[0;31m \u001b[0mdict\u001b[0m\u001b[0;34m(\u001b[0m\u001b[0mzip\u001b[0m\u001b[0;34m(\u001b[0m\u001b[0mall_stories\u001b[0m\u001b[0;34m,\u001b[0m \u001b[0mx\u001b[0m\u001b[0;34m)\u001b[0m\u001b[0;34m)\u001b[0m\u001b[0;34m\u001b[0m\u001b[0m\n\u001b[0m",
      "\u001b[0;31mTypeError\u001b[0m: 'list' object is not callable"
     ]
    }
   ],
   "source": [
    "\n",
    "\n",
    "dict(zip(all_stories, x))"
   ]
  },
  {
   "cell_type": "code",
   "execution_count": 93,
   "metadata": {
    "collapsed": true
   },
   "outputs": [],
   "source": [
    "def vote_count_int(x):\n",
    "    if x == '•':\n",
    "        x = 0\n",
    "    else:\n",
    "        x = int(x)\n",
    "    return x"
   ]
  },
  {
   "cell_type": "code",
   "execution_count": null,
   "metadata": {
    "collapsed": true
   },
   "outputs": [],
   "source": [
    "for line in x:\n",
    "    vote"
   ]
  },
  {
   "cell_type": "code",
   "execution_count": 96,
   "metadata": {
    "collapsed": true
   },
   "outputs": [],
   "source": [
    "parent_p_tag = reddit.find_all(\"p\", { 'class': 'parent' })"
   ]
  },
  {
   "cell_type": "code",
   "execution_count": 101,
   "metadata": {
    "collapsed": true
   },
   "outputs": [],
   "source": [
    "all_ = reddit.find_all(\"div\", { 'id': 'sitetable' })"
   ]
  },
  {
   "cell_type": "code",
   "execution_count": 102,
   "metadata": {
    "collapsed": false
   },
   "outputs": [
    {
     "data": {
      "text/plain": [
       "[]"
      ]
     },
     "execution_count": 102,
     "metadata": {},
     "output_type": "execute_result"
    }
   ],
   "source": [
    "all_"
   ]
  },
  {
   "cell_type": "code",
   "execution_count": null,
   "metadata": {
    "collapsed": true
   },
   "outputs": [],
   "source": [
    "p_parent_tag = (\"p\", { 'class': 'title' })\n",
    "\n",
    "Frontpage_of_reddit = {}\n",
    "\n",
    "for title in p_parent_tag.find_next_sibling('h2'):\n",
    "    cheese_name = h2_tag.string\n",
    "    cheese_desc_tag = h2_tag.find_next_sibling('p')\n",
    "    cheese_dict[cheese_name] = cheese_desc_tag.string\n",
    "\n",
    "cheese_dict"
   ]
  },
  {
   "cell_type": "code",
   "execution_count": 162,
   "metadata": {
    "collapsed": false
   },
   "outputs": [],
   "source": [
    "one_sibling_up = reddit.find_all('div', {'class': 'clearleft'})"
   ]
  },
  {
   "cell_type": "code",
   "execution_count": 163,
   "metadata": {
    "collapsed": true
   },
   "outputs": [],
   "source": [
    "# because only every other clearleft has a post in it:\n",
    "posts = [tag.find_next_sibling('div') for tag in one_sibling_up if tag.find_next_sibling('div')]"
   ]
  },
  {
   "cell_type": "code",
   "execution_count": 164,
   "metadata": {
    "collapsed": false
   },
   "outputs": [
    {
     "data": {
      "text/plain": [
       "[<div class=\" thing id-t3_4peacp linkflair linkflair-S even link self\" data-author=\"StardustNyako\" data-author-fullname=\"t2_szicl\" data-domain=\"self.tifu\" data-fullname=\"t3_4peacp\" data-rank=\"\" data-subreddit=\"tifu\" data-subreddit-fullname=\"t5_2to41\" data-timestamp=\"1466646164000\" data-type=\"link\" data-url=\"/r/tifu/comments/4peacp/tifu_by_sneezing_on_a_germophobes_lunchbox/\" id=\"thing_t3_4peacp\" onclick=\"click_thing(this)\" style=\"display:none\"><p class=\"parent\"></p><span class=\"rank\"></span><div class=\"midcol unvoted\"><div aria-label=\"upvote\" class=\"arrow up login-required access-required\" data-event-action=\"upvote\" role=\"button\" tabindex=\"0\"></div><div class=\"score likes\">•</div><div class=\"score unvoted\">•</div><div class=\"score dislikes\">•</div><div aria-label=\"downvote\" class=\"arrow down login-required access-required\" data-event-action=\"downvote\" role=\"button\" tabindex=\"0\"></div></div><div class=\"entry unvoted\"><p class=\"title\"><a class=\"title may-blank \" href=\"/r/tifu/comments/4peacp/tifu_by_sneezing_on_a_germophobes_lunchbox/\" rel=\"nofollow\" tabindex=\"1\">TIFU by sneezing on a germophobe's lunchbox.</a><span class=\"linkflairlabel\" title=\"S\">S</span> <span class=\"domain\">(<a href=\"/r/tifu/\">self.tifu</a>)</span></p><div class=\"expando-button collapsed selftext\"></div><p class=\"tagline\">submitted <time class=\"live-timestamp\" datetime=\"2016-06-23T01:42:44+00:00\" title=\"Thu Jun 23 01:42:44 2016 UTC\">13 minutes ago</time> by <a class=\"author may-blank id-t2_szicl\" href=\"https://www.reddit.com/user/StardustNyako\">StardustNyako</a><span class=\"userattrs\"></span> to <a class=\"subreddit hover may-blank\" href=\"https://www.reddit.com/r/tifu/\">/r/tifu</a></p><ul class=\"flat-list buttons\"><li class=\"first\"><a class=\"bylink comments empty may-blank\" data-event-action=\"comments\" href=\"https://www.reddit.com/r/tifu/comments/4peacp/tifu_by_sneezing_on_a_germophobes_lunchbox/\" rel=\"nofollow\">comment</a></li><li class=\"share\"><a class=\"post-sharing-button\" href=\"javascript: void 0;\">share</a></li></ul><div class=\"reportform report-t3_4peacp\"></div><div class=\"expando expando-uninitialized\" style=\"display: none\"><span class=\"error\">loading...</span></div></div><div class=\"child\"></div><div class=\"clearleft\"></div></div>,\n",
       " <div class=\" thing id-t3_4pe9wi odd link self\" data-author=\"skrqdy\" data-author-fullname=\"t2_yy2gb\" data-domain=\"self.TwoXChromosomes\" data-fullname=\"t3_4pe9wi\" data-rank=\"\" data-subreddit=\"TwoXChromosomes\" data-subreddit-fullname=\"t5_2r2jt\" data-timestamp=\"1466645983000\" data-type=\"link\" data-url=\"/r/TwoXChromosomes/comments/4pe9wi/im_taking_a_gender_class_for_the_first_time_and/\" id=\"thing_t3_4pe9wi\" onclick=\"click_thing(this)\" style=\"display:none\"><p class=\"parent\"></p><span class=\"rank\"></span><div class=\"midcol unvoted\"><div aria-label=\"upvote\" class=\"arrow up login-required access-required\" data-event-action=\"upvote\" role=\"button\" tabindex=\"0\"></div><div class=\"score likes\">•</div><div class=\"score unvoted\">•</div><div class=\"score dislikes\">•</div><div aria-label=\"downvote\" class=\"arrow down login-required access-required\" data-event-action=\"downvote\" role=\"button\" tabindex=\"0\"></div></div><div class=\"entry unvoted\"><p class=\"title\"><a class=\"title may-blank \" href=\"/r/TwoXChromosomes/comments/4pe9wi/im_taking_a_gender_class_for_the_first_time_and/\" rel=\"nofollow\" tabindex=\"1\">I'm taking a gender class for the first time and struggling A LOT. I think my classmates think I'm a bad feminist and I'm not sure if they're right.</a> <span class=\"domain\">(<a href=\"/r/TwoXChromosomes/\">self.TwoXChromosomes</a>)</span></p><div class=\"expando-button collapsed selftext\"></div><p class=\"tagline\">submitted <time class=\"live-timestamp\" datetime=\"2016-06-23T01:39:43+00:00\" title=\"Thu Jun 23 01:39:43 2016 UTC\">16 minutes ago</time> by <a class=\"author may-blank id-t2_yy2gb\" href=\"https://www.reddit.com/user/skrqdy\">skrqdy</a><span class=\"userattrs\"></span> to <a class=\"subreddit hover may-blank\" href=\"https://www.reddit.com/r/TwoXChromosomes/\">/r/TwoXChromosomes</a></p><ul class=\"flat-list buttons\"><li class=\"first\"><a class=\"bylink comments may-blank\" data-event-action=\"comments\" href=\"https://www.reddit.com/r/TwoXChromosomes/comments/4pe9wi/im_taking_a_gender_class_for_the_first_time_and/\" rel=\"nofollow\">1 comment</a></li><li class=\"share\"><a class=\"post-sharing-button\" href=\"javascript: void 0;\">share</a></li></ul><div class=\"reportform report-t3_4pe9wi\"></div><div class=\"expando expando-uninitialized\" style=\"display: none\"><span class=\"error\">loading...</span></div></div><div class=\"child\"></div><div class=\"clearleft\"></div></div>,\n",
       " <div class=\" thing id-t3_4pe9g4 even link \" data-author=\"ByeByeEmpire\" data-author-fullname=\"t2_g7wj0\" data-domain=\"themotorcycleindustry.bandcamp.com\" data-fullname=\"t3_4pe9g4\" data-rank=\"\" data-subreddit=\"listentothis\" data-subreddit-fullname=\"t5_2qxzy\" data-timestamp=\"1466645805000\" data-type=\"link\" data-url=\"https://themotorcycleindustry.bandcamp.com/track/french-for-tigers\" id=\"thing_t3_4pe9g4\" onclick=\"click_thing(this)\" style=\"display:none\"><p class=\"parent\"></p><span class=\"rank\"></span><div class=\"midcol unvoted\"><div aria-label=\"upvote\" class=\"arrow up login-required access-required\" data-event-action=\"upvote\" role=\"button\" tabindex=\"0\"></div><div class=\"score likes\">•</div><div class=\"score unvoted\">•</div><div class=\"score dislikes\">•</div><div aria-label=\"downvote\" class=\"arrow down login-required access-required\" data-event-action=\"downvote\" role=\"button\" tabindex=\"0\"></div></div><a class=\"thumbnail may-blank \" href=\"https://themotorcycleindustry.bandcamp.com/track/french-for-tigers\" rel=\"nofollow\"><img alt=\"\" height=\"70\" src=\"//b.thumbs.redditmedia.com/gETQDiuj4gLUhlM6vh-8Izl78RIMbUy6Sko4Y2QYNzo.jpg\" width=\"70\"/></a><div class=\"entry unvoted\"><p class=\"title\"><a class=\"title may-blank \" href=\"https://themotorcycleindustry.bandcamp.com/track/french-for-tigers\" rel=\"nofollow\" tabindex=\"1\">The Motorcycle Industry -- French for Tigers [Pop Punk] (2010)</a> <span class=\"domain\">(<a href=\"/domain/themotorcycleindustry.bandcamp.com/\">themotorcycleindustry.bandcamp.com</a>)</span></p><p class=\"tagline\">submitted <time class=\"live-timestamp\" datetime=\"2016-06-23T01:36:45+00:00\" title=\"Thu Jun 23 01:36:45 2016 UTC\">19 minutes ago</time> by <a class=\"author may-blank id-t2_g7wj0\" href=\"https://www.reddit.com/user/ByeByeEmpire\">ByeByeEmpire</a><span class=\"userattrs\"></span> to <a class=\"subreddit hover may-blank\" href=\"https://www.reddit.com/r/listentothis/\">/r/listentothis</a></p><ul class=\"flat-list buttons\"><li class=\"first\"><a class=\"bylink comments empty may-blank\" data-event-action=\"comments\" href=\"https://www.reddit.com/r/listentothis/comments/4pe9g4/the_motorcycle_industry_french_for_tigers_pop/\" rel=\"nofollow\">comment</a></li><li class=\"share\"><a class=\"post-sharing-button\" href=\"javascript: void 0;\">share</a></li></ul><div class=\"reportform report-t3_4pe9g4\"></div><div class=\"expando expando-uninitialized\" style=\"display: none\"><span class=\"error\">loading...</span></div></div><div class=\"child\"></div><div class=\"clearleft\"></div></div>,\n",
       " <div class=\" thing id-t3_4pea6e odd link self\" data-author=\"dinkusmandingus\" data-author-fullname=\"t2_dych3\" data-domain=\"self.Showerthoughts\" data-fullname=\"t3_4pea6e\" data-rank=\"\" data-subreddit=\"Showerthoughts\" data-subreddit-fullname=\"t5_2szyo\" data-timestamp=\"1466646092000\" data-type=\"link\" data-url=\"/r/Showerthoughts/comments/4pea6e/if_i_ever_run_into_anyone_named_jessica_fletcher/\" id=\"thing_t3_4pea6e\" onclick=\"click_thing(this)\" style=\"display:none\"><p class=\"parent\"></p><span class=\"rank\"></span><div class=\"midcol unvoted\"><div aria-label=\"upvote\" class=\"arrow up login-required access-required\" data-event-action=\"upvote\" role=\"button\" tabindex=\"0\"></div><div class=\"score likes\">•</div><div class=\"score unvoted\">•</div><div class=\"score dislikes\">•</div><div aria-label=\"downvote\" class=\"arrow down login-required access-required\" data-event-action=\"downvote\" role=\"button\" tabindex=\"0\"></div></div><a class=\"thumbnail self may-blank \" href=\"/r/Showerthoughts/comments/4pea6e/if_i_ever_run_into_anyone_named_jessica_fletcher/\" rel=\"nofollow\"></a><div class=\"entry unvoted\"><p class=\"title\"><a class=\"title may-blank \" href=\"/r/Showerthoughts/comments/4pea6e/if_i_ever_run_into_anyone_named_jessica_fletcher/\" rel=\"nofollow\" tabindex=\"1\">If I ever run into anyone named Jessica Fletcher, I'm getting the heck out of there</a> <span class=\"domain\">(<a href=\"/r/Showerthoughts/\">self.Showerthoughts</a>)</span></p><p class=\"tagline\">submitted <time class=\"live-timestamp\" datetime=\"2016-06-23T01:41:32+00:00\" title=\"Thu Jun 23 01:41:32 2016 UTC\">14 minutes ago</time> by <a class=\"author may-blank id-t2_dych3\" href=\"https://www.reddit.com/user/dinkusmandingus\">dinkusmandingus</a><span class=\"userattrs\"></span> to <a class=\"subreddit hover may-blank\" href=\"https://www.reddit.com/r/Showerthoughts/\">/r/Showerthoughts</a></p><ul class=\"flat-list buttons\"><li class=\"first\"><a class=\"bylink comments empty may-blank\" data-event-action=\"comments\" href=\"https://www.reddit.com/r/Showerthoughts/comments/4pea6e/if_i_ever_run_into_anyone_named_jessica_fletcher/\" rel=\"nofollow\">comment</a></li><li class=\"share\"><a class=\"post-sharing-button\" href=\"javascript: void 0;\">share</a></li></ul><div class=\"reportform report-t3_4pea6e\"></div><div class=\"expando expando-uninitialized\" style=\"display: none\"><span class=\"error\">loading...</span></div></div><div class=\"child\"></div><div class=\"clearleft\"></div></div>,\n",
       " <div class=\" thing id-t3_4pealf even link self\" data-author=\"CranialFlatulence\" data-author-fullname=\"t2_fyzs8\" data-domain=\"self.AskReddit\" data-fullname=\"t3_4pealf\" data-rank=\"\" data-subreddit=\"AskReddit\" data-subreddit-fullname=\"t5_2qh1i\" data-timestamp=\"1466646257000\" data-type=\"link\" data-url=\"/r/AskReddit/comments/4pealf/what_are_the_best_documentaries_on_netflix/\" id=\"thing_t3_4pealf\" onclick=\"click_thing(this)\" style=\"display:none\"><p class=\"parent\"></p><span class=\"rank\"></span><div class=\"midcol unvoted\"><div aria-label=\"upvote\" class=\"arrow up login-required access-required\" data-event-action=\"upvote\" role=\"button\" tabindex=\"0\"></div><div class=\"score likes\">•</div><div class=\"score unvoted\">•</div><div class=\"score dislikes\">•</div><div aria-label=\"downvote\" class=\"arrow down login-required access-required\" data-event-action=\"downvote\" role=\"button\" tabindex=\"0\"></div></div><div class=\"entry unvoted\"><p class=\"title\"><a class=\"title may-blank \" href=\"/r/AskReddit/comments/4pealf/what_are_the_best_documentaries_on_netflix/\" rel=\"\" tabindex=\"1\">What are the best documentaries on Netflix?</a> <span class=\"domain\">(<a href=\"/r/AskReddit/\">self.AskReddit</a>)</span></p><p class=\"tagline\">submitted <time class=\"live-timestamp\" datetime=\"2016-06-23T01:44:17+00:00\" title=\"Thu Jun 23 01:44:17 2016 UTC\">12 minutes ago</time> by <a class=\"author may-blank id-t2_fyzs8\" href=\"https://www.reddit.com/user/CranialFlatulence\">CranialFlatulence</a><span class=\"userattrs\"></span> to <a class=\"subreddit hover may-blank\" href=\"https://www.reddit.com/r/AskReddit/\">/r/AskReddit</a></p><ul class=\"flat-list buttons\"><li class=\"first\"><a class=\"bylink comments may-blank\" data-event-action=\"comments\" href=\"https://www.reddit.com/r/AskReddit/comments/4pealf/what_are_the_best_documentaries_on_netflix/\" rel=\"nofollow\">10 comments</a></li><li class=\"share\"><a class=\"post-sharing-button\" href=\"javascript: void 0;\">share</a></li></ul><div class=\"reportform report-t3_4pealf\"></div><div class=\"expando expando-uninitialized\" style=\"display: none\"><span class=\"error\">loading...</span></div></div><div class=\"child\"></div><div class=\"clearleft\"></div></div>,\n",
       " <div class=\" thing id-t3_4pe9ph linkflair linkflair-artwork odd link \" data-author=\"paintsoul0\" data-author-fullname=\"t2_yimjx\" data-domain=\"i.imgur.com\" data-fullname=\"t3_4pe9ph\" data-rank=\"\" data-subreddit=\"Art\" data-subreddit-fullname=\"t5_2qh7a\" data-timestamp=\"1466645904000\" data-type=\"link\" data-url=\"http://i.imgur.com/nPTORue.png\" id=\"thing_t3_4pe9ph\" onclick=\"click_thing(this)\" style=\"display:none\"><p class=\"parent\"></p><span class=\"rank\"></span><div class=\"midcol unvoted\"><div aria-label=\"upvote\" class=\"arrow up login-required access-required\" data-event-action=\"upvote\" role=\"button\" tabindex=\"0\"></div><div class=\"score likes\">•</div><div class=\"score unvoted\">•</div><div class=\"score dislikes\">•</div><div aria-label=\"downvote\" class=\"arrow down login-required access-required\" data-event-action=\"downvote\" role=\"button\" tabindex=\"0\"></div></div><a class=\"thumbnail may-blank \" href=\"http://i.imgur.com/nPTORue.png\" rel=\"nofollow\"><img alt=\"\" height=\"51\" src=\"//b.thumbs.redditmedia.com/p8hRPZ5paGUygsc4Zs0jKosWernMnwVR_FdHEg73b8A.jpg\" width=\"70\"/></a><div class=\"entry unvoted\"><p class=\"title\"><a class=\"title may-blank \" href=\"http://i.imgur.com/nPTORue.png\" rel=\"nofollow\" tabindex=\"1\">Sprinkle Infusion 24x18 Acrylic, Latex, Ink, &amp; Watercolor On Textured Canvas</a><span class=\"linkflairlabel\" title=\"Artwork \">Artwork</span> <span class=\"domain\">(<a href=\"/domain/i.imgur.com/\">i.imgur.com</a>)</span></p><div class=\"expando-button collapsed video\"></div><p class=\"tagline\">submitted <time class=\"live-timestamp\" datetime=\"2016-06-23T01:38:24+00:00\" title=\"Thu Jun 23 01:38:24 2016 UTC\">18 minutes ago</time> by <a class=\"author may-blank id-t2_yimjx\" href=\"https://www.reddit.com/user/paintsoul0\">paintsoul0</a><span class=\"userattrs\"></span> to <a class=\"subreddit hover may-blank\" href=\"https://www.reddit.com/r/Art/\">/r/Art</a></p><ul class=\"flat-list buttons\"><li class=\"first\"><a class=\"bylink comments empty may-blank\" data-event-action=\"comments\" href=\"https://www.reddit.com/r/Art/comments/4pe9ph/sprinkle_infusion_24x18_acrylic_latex_ink/\" rel=\"nofollow\">comment</a></li><li class=\"share\"><a class=\"post-sharing-button\" href=\"javascript: void 0;\">share</a></li></ul><div class=\"reportform report-t3_4pe9ph\"></div><div class=\"expando expando-uninitialized\" data-cachedhtml=' &lt;div class=\"media-preview\" id=\"media-preview-4pe9ph\" style=\"max-width: 1024px\"&gt; &lt;div class=\"media-preview-content\"&gt; &lt;a href=\"http://i.imgur.com/nPTORue.png\" class=\"may-blank\"&gt; &lt;img class=\"preview\" src=\"https://i.redditmedia.com/TnPFc1N7jYJaDgpLGOqFOrNLd7IUKowmZ99OJbuhQS0.png?w=1024&amp;amp;s=a06d17bfbd902d8da227f5360e1b0e83\" width=\"1024\" height=\"749\"&gt; &lt;/a&gt; &lt;/div&gt; &lt;/div&gt; ' style=\"display: none\"><span class=\"error\">loading...</span></div></div><div class=\"child\"></div><div class=\"clearleft\"></div></div>,\n",
       " <div class=\" thing id-t3_4peasa even link \" data-author=\"SamDThurman\" data-author-fullname=\"t2_thqby\" data-domain=\"imgur.com\" data-fullname=\"t3_4peasa\" data-rank=\"\" data-subreddit=\"pics\" data-subreddit-fullname=\"t5_2qh0u\" data-timestamp=\"1466646335000\" data-type=\"link\" data-url=\"http://imgur.com/Nj2jtr0\" id=\"thing_t3_4peasa\" onclick=\"click_thing(this)\" style=\"display:none\"><p class=\"parent\"></p><span class=\"rank\"></span><div class=\"midcol unvoted\"><div aria-label=\"upvote\" class=\"arrow up login-required access-required\" data-event-action=\"upvote\" role=\"button\" tabindex=\"0\"></div><div class=\"score likes\">•</div><div class=\"score unvoted\">•</div><div class=\"score dislikes\">•</div><div aria-label=\"downvote\" class=\"arrow down login-required access-required\" data-event-action=\"downvote\" role=\"button\" tabindex=\"0\"></div></div><a class=\"thumbnail may-blank \" href=\"http://imgur.com/Nj2jtr0\" rel=\"nofollow\"><img alt=\"\" height=\"70\" src=\"//a.thumbs.redditmedia.com/pFESYU_YGGK7yLfynidgoa85o6HfoqEmhSYU1cEoav0.jpg\" width=\"70\"/></a><div class=\"entry unvoted\"><p class=\"title\"><a class=\"title may-blank \" href=\"http://imgur.com/Nj2jtr0\" rel=\"nofollow\" tabindex=\"1\">Ps Battle: Double mailman.</a> <span class=\"domain\">(<a href=\"/domain/imgur.com/\">imgur.com</a>)</span></p><p class=\"tagline\">submitted <time class=\"live-timestamp\" datetime=\"2016-06-23T01:45:35+00:00\" title=\"Thu Jun 23 01:45:35 2016 UTC\">10 minutes ago</time> by <a class=\"author may-blank id-t2_thqby\" href=\"https://www.reddit.com/user/SamDThurman\">SamDThurman</a><span class=\"userattrs\"></span> to <a class=\"subreddit hover may-blank\" href=\"https://www.reddit.com/r/pics/\">/r/pics</a></p><ul class=\"flat-list buttons\"><li class=\"first\"><a class=\"bylink comments empty may-blank\" data-event-action=\"comments\" href=\"https://www.reddit.com/r/pics/comments/4peasa/ps_battle_double_mailman/\" rel=\"nofollow\">comment</a></li><li class=\"share\"><a class=\"post-sharing-button\" href=\"javascript: void 0;\">share</a></li></ul><div class=\"reportform report-t3_4peasa\"></div><div class=\"expando expando-uninitialized\" style=\"display: none\"><span class=\"error\">loading...</span></div></div><div class=\"child\"></div><div class=\"clearleft\"></div></div>,\n",
       " <div class=\" thing id-t3_4pe9xk odd link self\" data-author=\"Spyderr8\" data-author-fullname=\"t2_hs4s3\" data-domain=\"self.Showerthoughts\" data-fullname=\"t3_4pe9xk\" data-rank=\"\" data-subreddit=\"Showerthoughts\" data-subreddit-fullname=\"t5_2szyo\" data-timestamp=\"1466645995000\" data-type=\"link\" data-url=\"/r/Showerthoughts/comments/4pe9xk/i_wonder_how_many_rocket_league_matches_i_could/\" id=\"thing_t3_4pe9xk\" onclick=\"click_thing(this)\" style=\"display:none\"><p class=\"parent\"></p><span class=\"rank\"></span><div class=\"midcol unvoted\"><div aria-label=\"upvote\" class=\"arrow up login-required access-required\" data-event-action=\"upvote\" role=\"button\" tabindex=\"0\"></div><div class=\"score likes\">•</div><div class=\"score unvoted\">•</div><div class=\"score dislikes\">•</div><div aria-label=\"downvote\" class=\"arrow down login-required access-required\" data-event-action=\"downvote\" role=\"button\" tabindex=\"0\"></div></div><a class=\"thumbnail self may-blank \" href=\"/r/Showerthoughts/comments/4pe9xk/i_wonder_how_many_rocket_league_matches_i_could/\" rel=\"nofollow\"></a><div class=\"entry unvoted\"><p class=\"title\"><a class=\"title may-blank \" href=\"/r/Showerthoughts/comments/4pe9xk/i_wonder_how_many_rocket_league_matches_i_could/\" rel=\"nofollow\" tabindex=\"1\">I wonder how many Rocket League matches I could have won if I could actually hit the ball.</a> <span class=\"domain\">(<a href=\"/r/Showerthoughts/\">self.Showerthoughts</a>)</span></p><p class=\"tagline\">submitted <time class=\"live-timestamp\" datetime=\"2016-06-23T01:39:55+00:00\" title=\"Thu Jun 23 01:39:55 2016 UTC\">16 minutes ago</time> by <a class=\"author may-blank id-t2_hs4s3\" href=\"https://www.reddit.com/user/Spyderr8\">Spyderr8</a><span class=\"userattrs\"></span> to <a class=\"subreddit hover may-blank\" href=\"https://www.reddit.com/r/Showerthoughts/\">/r/Showerthoughts</a></p><ul class=\"flat-list buttons\"><li class=\"first\"><a class=\"bylink comments empty may-blank\" data-event-action=\"comments\" href=\"https://www.reddit.com/r/Showerthoughts/comments/4pe9xk/i_wonder_how_many_rocket_league_matches_i_could/\" rel=\"nofollow\">comment</a></li><li class=\"share\"><a class=\"post-sharing-button\" href=\"javascript: void 0;\">share</a></li></ul><div class=\"reportform report-t3_4pe9xk\"></div><div class=\"expando expando-uninitialized\" style=\"display: none\"><span class=\"error\">loading...</span></div></div><div class=\"child\"></div><div class=\"clearleft\"></div></div>,\n",
       " <div class=\"thing interestbar\" style=\"display:none\"><div class=\"sr-interest-bar\"><div class=\"bubble\"><p class=\"caption\">it looks like you haven't  <span class=\"subscribe\">subscribed</span>  to any subreddits yet. want some ideas?</p><p class=\"error-caption\"></p><div class=\"query-box\"><input class=\"query\" placeholder=\"what are you interested in?\"><div class=\"throbber\"></div></input></div><ul class=\"results\"><li>try these:</li><li><a class=\"random\" href=\"/r/random\" target=\"_blank\"><span class=\"name\">serendipity</span></a></li></ul></div></div></div>,\n",
       " <div class=\" thing id-t3_4pcjja even link \" data-author=\"magenta_placenta\" data-author-fullname=\"t2_3bhyn\" data-domain=\"money.cnn.com\" data-fullname=\"t3_4pcjja\" data-rank=\"2\" data-subreddit=\"news\" data-subreddit-fullname=\"t5_2qh3l\" data-timestamp=\"1466623775000\" data-type=\"link\" data-url=\"http://money.cnn.com/2016/06/22/real_estate/rent-affordability-housing-harvard/\" id=\"thing_t3_4pcjja\" onclick=\"click_thing(this)\"><p class=\"parent\"></p><span class=\"rank\">2</span><div class=\"midcol unvoted\"><div aria-label=\"upvote\" class=\"arrow up login-required access-required\" data-event-action=\"upvote\" role=\"button\" tabindex=\"0\"></div><div class=\"score dislikes\">6147</div><div class=\"score unvoted\">6148</div><div class=\"score likes\">6149</div><div aria-label=\"downvote\" class=\"arrow down login-required access-required\" data-event-action=\"downvote\" role=\"button\" tabindex=\"0\"></div></div><div class=\"entry unvoted\"><p class=\"title\"><a class=\"title may-blank \" href=\"http://money.cnn.com/2016/06/22/real_estate/rent-affordability-housing-harvard/\" rel=\"\" tabindex=\"1\">11 million Americans spend half their income on rent</a> <span class=\"domain\">(<a href=\"/domain/money.cnn.com/\">money.cnn.com</a>)</span></p><p class=\"tagline\">submitted <time class=\"live-timestamp\" datetime=\"2016-06-22T19:29:35+00:00\" title=\"Wed Jun 22 19:29:35 2016 UTC\">6 hours ago</time> by <a class=\"author may-blank id-t2_3bhyn\" href=\"https://www.reddit.com/user/magenta_placenta\">magenta_placenta</a><span class=\"userattrs\"></span> to <a class=\"subreddit hover may-blank\" href=\"https://www.reddit.com/r/news/\">/r/news</a></p><ul class=\"flat-list buttons\"><li class=\"first\"><a class=\"bylink comments may-blank\" data-event-action=\"comments\" href=\"https://www.reddit.com/r/news/comments/4pcjja/11_million_americans_spend_half_their_income_on/\" rel=\"nofollow\">4686 comments</a></li><li class=\"share\"><a class=\"post-sharing-button\" href=\"javascript: void 0;\">share</a></li></ul><div class=\"reportform report-t3_4pcjja\"></div><div class=\"expando expando-uninitialized\" style=\"display: none\"><span class=\"error\">loading...</span></div></div><div class=\"child\"></div><div class=\"clearleft\"></div></div>,\n",
       " <div class=\" thing id-t3_4pcgs0 linkflair linkflair-basketball odd link \" data-author=\"leavin_you_hangin\" data-author-fullname=\"t2_ozfwd\" data-domain=\"imgur.com\" data-fullname=\"t3_4pcgs0\" data-rank=\"3\" data-subreddit=\"sports\" data-subreddit-fullname=\"t5_2qgzy\" data-timestamp=\"1466622922000\" data-type=\"link\" data-url=\"http://imgur.com/ZTBz6Ff\" id=\"thing_t3_4pcgs0\" onclick=\"click_thing(this)\"><p class=\"parent\"></p><span class=\"rank\">3</span><div class=\"midcol unvoted\"><div aria-label=\"upvote\" class=\"arrow up login-required access-required\" data-event-action=\"upvote\" role=\"button\" tabindex=\"0\"></div><div class=\"score dislikes\">5324</div><div class=\"score unvoted\">5325</div><div class=\"score likes\">5326</div><div aria-label=\"downvote\" class=\"arrow down login-required access-required\" data-event-action=\"downvote\" role=\"button\" tabindex=\"0\"></div></div><a class=\"thumbnail may-blank \" href=\"http://imgur.com/ZTBz6Ff\" rel=\"\"><img alt=\"\" height=\"70\" src=\"//b.thumbs.redditmedia.com/XosNpNRRouyGfVepUXxlAGLuEBmvv45vvAv5pWZs_2o.jpg\" width=\"70\"/></a><div class=\"entry unvoted\"><p class=\"title\"><a class=\"title may-blank \" href=\"http://imgur.com/ZTBz6Ff\" rel=\"\" tabindex=\"1\">View of Cleveland for the Cavaliers parade</a><span class=\"linkflairlabel\" title=\"Basketball\">Basketball</span> <span class=\"domain\">(<a href=\"/domain/imgur.com/\">imgur.com</a>)</span></p><p class=\"tagline\">submitted <time class=\"live-timestamp\" datetime=\"2016-06-22T19:15:22+00:00\" title=\"Wed Jun 22 19:15:22 2016 UTC\">6 hours ago</time> by <a class=\"author may-blank id-t2_ozfwd\" href=\"https://www.reddit.com/user/leavin_you_hangin\">leavin_you_hangin</a><span class=\"userattrs\"></span> to <a class=\"subreddit hover may-blank\" href=\"https://www.reddit.com/r/sports/\">/r/sports</a></p><ul class=\"flat-list buttons\"><li class=\"first\"><a class=\"bylink comments may-blank\" data-event-action=\"comments\" href=\"https://www.reddit.com/r/sports/comments/4pcgs0/view_of_cleveland_for_the_cavaliers_parade/\" rel=\"nofollow\">1284 comments</a></li><li class=\"share\"><a class=\"post-sharing-button\" href=\"javascript: void 0;\">share</a></li></ul><div class=\"reportform report-t3_4pcgs0\"></div><div class=\"expando expando-uninitialized\" style=\"display: none\"><span class=\"error\">loading...</span></div></div><div class=\"child\"></div><div class=\"clearleft\"></div></div>,\n",
       " <div class=\" thing id-t3_4pc8cg even link \" data-author=\"cakebeerandmorebeer\" data-author-fullname=\"t2_j3x2i\" data-domain=\"i.imgur.com\" data-fullname=\"t3_4pc8cg\" data-rank=\"4\" data-subreddit=\"funny\" data-subreddit-fullname=\"t5_2qh33\" data-timestamp=\"1466620262000\" data-type=\"link\" data-url=\"http://i.imgur.com/nuRZv1O.gifv\" id=\"thing_t3_4pc8cg\" onclick=\"click_thing(this)\"><p class=\"parent\"></p><span class=\"rank\">4</span><div class=\"midcol unvoted\"><div aria-label=\"upvote\" class=\"arrow up login-required access-required\" data-event-action=\"upvote\" role=\"button\" tabindex=\"0\"></div><div class=\"score dislikes\">5974</div><div class=\"score unvoted\">5975</div><div class=\"score likes\">5976</div><div aria-label=\"downvote\" class=\"arrow down login-required access-required\" data-event-action=\"downvote\" role=\"button\" tabindex=\"0\"></div></div><a class=\"thumbnail may-blank \" href=\"http://i.imgur.com/nuRZv1O.gifv\" rel=\"\"><img alt=\"\" height=\"70\" src=\"//a.thumbs.redditmedia.com/qT7PkIVnsieQ39kCxbnzf2NucgBHDExsa6bcJTR2oz8.jpg\" width=\"70\"/></a><div class=\"entry unvoted\"><p class=\"title\"><a class=\"title may-blank \" href=\"http://i.imgur.com/nuRZv1O.gifv\" rel=\"\" tabindex=\"1\">\"I'm stuck...I'm stuck! Never mind...I got it!\"</a> <span class=\"domain\">(<a href=\"/domain/i.imgur.com/\">i.imgur.com</a>)</span></p><div class=\"expando-button collapsed video\"></div><p class=\"tagline\">submitted <time class=\"live-timestamp\" datetime=\"2016-06-22T18:31:02+00:00\" title=\"Wed Jun 22 18:31:02 2016 UTC\">7 hours ago</time> by <a class=\"author may-blank id-t2_j3x2i\" href=\"https://www.reddit.com/user/cakebeerandmorebeer\">cakebeerandmorebeer</a><span class=\"userattrs\"></span> to <a class=\"subreddit hover may-blank\" href=\"https://www.reddit.com/r/funny/\">/r/funny</a></p><ul class=\"flat-list buttons\"><li class=\"first\"><a class=\"bylink comments may-blank\" data-event-action=\"comments\" href=\"https://www.reddit.com/r/funny/comments/4pc8cg/im_stuckim_stuck_never_mindi_got_it/\" rel=\"nofollow\">444 comments</a></li><li class=\"share\"><a class=\"post-sharing-button\" href=\"javascript: void 0;\">share</a></li></ul><div class=\"reportform report-t3_4pc8cg\"></div><div class=\"expando expando-uninitialized\" data-cachedhtml=' &lt;div class=\"media-preview\" id=\"media-preview-4pc8cg\" style=\"max-width: 614px\"&gt; &lt;div class=\"media-preview-content\"&gt; &lt;a href=\"http://i.imgur.com/nuRZv1O.gifv\" class=\"may-blank\"&gt; &lt;video class=\"preview\" preload=\"auto\" autoplay=\"autoplay\" muted=\"muted\" loop=\"loop\" webkit-playsinline=\"\" style=\"width: 614px; height: 768px;\"&gt; &lt;source src=\"https://g.redditmedia.com/S3JIEyhnGmnuJV6F_o-kkPPlI9V4VNP3UI2CACnGZ58.gif?w=614&amp;amp;fm=mp4&amp;amp;mp4-fragmented=false&amp;amp;s=e9169e4f7c1ef66daf4dc4ca2c8b583b\" type=\"video/mp4\"&gt; &lt;/video&gt; &lt;/a&gt; &lt;/div&gt; &lt;/div&gt; ' style=\"display: none\"><span class=\"error\">loading...</span></div></div><div class=\"child\"></div><div class=\"clearleft\"></div></div>,\n",
       " <div class=\" thing id-t3_4pd2ye linkflair linkflair-health linkflair-badpost odd link \" data-author=\"NinjaDiscoJesus\" data-author-fullname=\"t2_5qlsa\" data-domain=\"theguardian.com\" data-fullname=\"t3_4pd2ye\" data-rank=\"5\" data-subreddit=\"science\" data-subreddit-fullname=\"t5_mouw\" data-timestamp=\"1466630270000\" data-type=\"link\" data-url=\"https://www.theguardian.com/world/2016/jun/22/abortion-information-zika-virus-birth-defects-latin-america-study?CMP=twt_b-gdnnews\" id=\"thing_t3_4pd2ye\" onclick=\"click_thing(this)\"><p class=\"parent\"></p><span class=\"rank\">5</span><div class=\"midcol unvoted\"><div aria-label=\"upvote\" class=\"arrow up login-required access-required\" data-event-action=\"upvote\" role=\"button\" tabindex=\"0\"></div><div class=\"score dislikes\">3288</div><div class=\"score unvoted\">3289</div><div class=\"score likes\">3290</div><div aria-label=\"downvote\" class=\"arrow down login-required access-required\" data-event-action=\"downvote\" role=\"button\" tabindex=\"0\"></div></div><a class=\"thumbnail may-blank \" href=\"https://www.theguardian.com/world/2016/jun/22/abortion-information-zika-virus-birth-defects-latin-america-study?CMP=twt_b-gdnnews\" rel=\"\"><img alt=\"\" height=\"36\" src=\"//a.thumbs.redditmedia.com/kCitwr5epSipHoGohW974Qiw2X69htM_DWMkJ8MHTX0.jpg\" width=\"70\"/></a><div class=\"entry unvoted\"><p class=\"title\"><a class=\"title may-blank \" href=\"https://www.theguardian.com/world/2016/jun/22/abortion-information-zika-virus-birth-defects-latin-america-study?CMP=twt_b-gdnnews\" rel=\"\" tabindex=\"1\">Demand for abortions soars in countries hit by Zika outbreak, study finds</a><span class=\"linkflairlabel\" title=\"Health\">Health</span> <span class=\"domain\">(<a href=\"/domain/theguardian.com/\">theguardian.com</a>)</span></p><p class=\"tagline\">submitted <time class=\"live-timestamp\" datetime=\"2016-06-22T21:17:50+00:00\" title=\"Wed Jun 22 21:17:50 2016 UTC\">4 hours ago</time> by <a class=\"author may-blank id-t2_5qlsa\" href=\"https://www.reddit.com/user/NinjaDiscoJesus\">NinjaDiscoJesus</a><span class=\"userattrs\"></span> to <a class=\"subreddit hover may-blank\" href=\"https://www.reddit.com/r/science/\">/r/science</a></p><ul class=\"flat-list buttons\"><li class=\"first\"><a class=\"bylink comments may-blank\" data-event-action=\"comments\" href=\"https://www.reddit.com/r/science/comments/4pd2ye/demand_for_abortions_soars_in_countries_hit_by/\" rel=\"nofollow\">191 comments</a></li><li class=\"share\"><a class=\"post-sharing-button\" href=\"javascript: void 0;\">share</a></li></ul><div class=\"reportform report-t3_4pd2ye\"></div><div class=\"expando expando-uninitialized\" style=\"display: none\"><span class=\"error\">loading...</span></div></div><div class=\"child\"></div><div class=\"clearleft\"></div></div>,\n",
       " <div class=\" thing id-t3_4pcz9m even link \" data-author=\"Dongerding\" data-author-fullname=\"t2_cjrty\" data-domain=\"i.redd.it\" data-fullname=\"t3_4pcz9m\" data-rank=\"6\" data-subreddit=\"pics\" data-subreddit-fullname=\"t5_2qh0u\" data-timestamp=\"1466628975000\" data-type=\"link\" data-url=\"/r/pics/comments/4pcz9m/this_pro_wrestler_looks_like_frasier_on_steroids/\" id=\"thing_t3_4pcz9m\" onclick=\"click_thing(this)\"><p class=\"parent\"></p><span class=\"rank\">6</span><div class=\"midcol unvoted\"><div aria-label=\"upvote\" class=\"arrow up login-required access-required\" data-event-action=\"upvote\" role=\"button\" tabindex=\"0\"></div><div class=\"score dislikes\">3152</div><div class=\"score unvoted\">3153</div><div class=\"score likes\">3154</div><div aria-label=\"downvote\" class=\"arrow down login-required access-required\" data-event-action=\"downvote\" role=\"button\" tabindex=\"0\"></div></div><a class=\"thumbnail may-blank \" href=\"/r/pics/comments/4pcz9m/this_pro_wrestler_looks_like_frasier_on_steroids/\" rel=\"\"><img alt=\"\" height=\"33\" src=\"//b.thumbs.redditmedia.com/SXCNj-hxAbEZ-RB_jRmIUdO-7LrECm8EfXT81WO8bkI.jpg\" width=\"70\"/></a><div class=\"entry unvoted\"><p class=\"title\"><a class=\"title may-blank \" href=\"/r/pics/comments/4pcz9m/this_pro_wrestler_looks_like_frasier_on_steroids/\" rel=\"\" tabindex=\"1\">This pro wrestler looks like frasier on steroids</a> <span class=\"domain\">(<a href=\"/domain/i.redd.it/\">i.redd.it</a>)</span></p><div class=\"expando-button collapsed video\"></div><p class=\"tagline\">submitted <time class=\"live-timestamp\" datetime=\"2016-06-22T20:56:15+00:00\" title=\"Wed Jun 22 20:56:15 2016 UTC\">5 hours ago</time> by <a class=\"author may-blank id-t2_cjrty\" href=\"https://www.reddit.com/user/Dongerding\">Dongerding</a><span class=\"userattrs\"></span> to <a class=\"subreddit hover may-blank\" href=\"https://www.reddit.com/r/pics/\">/r/pics</a></p><ul class=\"flat-list buttons\"><li class=\"first\"><a class=\"bylink comments may-blank\" data-event-action=\"comments\" href=\"https://www.reddit.com/r/pics/comments/4pcz9m/this_pro_wrestler_looks_like_frasier_on_steroids/\" rel=\"nofollow\">134 comments</a></li><li class=\"share\"><a class=\"post-sharing-button\" href=\"javascript: void 0;\">share</a></li></ul><div class=\"reportform report-t3_4pcz9m\"></div><div class=\"expando expando-uninitialized\" data-cachedhtml=' &lt;div class=\"media-preview\" id=\"media-preview-4pcz9m\" style=\"max-width: 1024px\"&gt; &lt;div class=\"media-preview-content\"&gt; &lt;a href=\"https://i.redd.it/2hthqts2nw4x.png\" class=\"may-blank\"&gt; &lt;img class=\"preview\" src=\"https://i.redditmedia.com/kpZGbB3BE20z__cqfaGLv_zFGDzp_zQ7pzxeCj3WrJ8.png?w=1024&amp;amp;s=36b98f08304c3cece6c9646acc33836f\" width=\"1024\" height=\"496\"&gt; &lt;/a&gt; &lt;/div&gt; &lt;/div&gt; ' style=\"display: none\"><span class=\"error\">loading...</span></div></div><div class=\"child\"></div><div class=\"clearleft\"></div></div>,\n",
       " <div class=\" thing id-t3_4pbr8b odd link self\" data-author=\"i_like_yoghurt\" data-author-fullname=\"t2_y6gtb\" data-domain=\"self.Showerthoughts\" data-fullname=\"t3_4pbr8b\" data-rank=\"7\" data-subreddit=\"Showerthoughts\" data-subreddit-fullname=\"t5_2szyo\" data-timestamp=\"1466615168000\" data-type=\"link\" data-url=\"/r/Showerthoughts/comments/4pbr8b/there_exists_a_set_of_finite_actions_that_if_i/\" id=\"thing_t3_4pbr8b\" onclick=\"click_thing(this)\"><p class=\"parent\"></p><span class=\"rank\">7</span><div class=\"midcol unvoted\"><div aria-label=\"upvote\" class=\"arrow up login-required access-required\" data-event-action=\"upvote\" role=\"button\" tabindex=\"0\"></div><div class=\"score dislikes\">5451</div><div class=\"score unvoted\">5452</div><div class=\"score likes\">5453</div><div aria-label=\"downvote\" class=\"arrow down login-required access-required\" data-event-action=\"downvote\" role=\"button\" tabindex=\"0\"></div></div><a class=\"thumbnail self may-blank \" href=\"/r/Showerthoughts/comments/4pbr8b/there_exists_a_set_of_finite_actions_that_if_i/\" rel=\"nofollow\"></a><div class=\"entry unvoted\"><p class=\"title\"><a class=\"title may-blank \" href=\"/r/Showerthoughts/comments/4pbr8b/there_exists_a_set_of_finite_actions_that_if_i/\" rel=\"nofollow\" tabindex=\"1\">There exists a set of finite actions that, if I performed them in the correct order, would make me a millionaire in a day. I just don't know what they are.</a> <span class=\"domain\">(<a href=\"/r/Showerthoughts/\">self.Showerthoughts</a>)</span></p><p class=\"tagline\">submitted <time class=\"live-timestamp\" datetime=\"2016-06-22T17:06:08+00:00\" title=\"Wed Jun 22 17:06:08 2016 UTC\">8 hours ago</time> by <a class=\"author may-blank id-t2_y6gtb\" href=\"https://www.reddit.com/user/i_like_yoghurt\">i_like_yoghurt</a><span class=\"userattrs\"></span> to <a class=\"subreddit hover may-blank\" href=\"https://www.reddit.com/r/Showerthoughts/\">/r/Showerthoughts</a></p><ul class=\"flat-list buttons\"><li class=\"first\"><a class=\"bylink comments may-blank\" data-event-action=\"comments\" href=\"https://www.reddit.com/r/Showerthoughts/comments/4pbr8b/there_exists_a_set_of_finite_actions_that_if_i/\" rel=\"nofollow\">1503 comments</a></li><li class=\"share\"><a class=\"post-sharing-button\" href=\"javascript: void 0;\">share</a></li></ul><div class=\"reportform report-t3_4pbr8b\"></div><div class=\"expando expando-uninitialized\" style=\"display: none\"><span class=\"error\">loading...</span></div></div><div class=\"child\"></div><div class=\"clearleft\"></div></div>,\n",
       " <div class=\" thing id-t3_4pbpot even link \" data-author=\"parlonida\" data-author-fullname=\"t2_u25me\" data-domain=\"en.wikipedia.org\" data-fullname=\"t3_4pbpot\" data-rank=\"8\" data-subreddit=\"todayilearned\" data-subreddit-fullname=\"t5_2qqjc\" data-timestamp=\"1466614719000\" data-type=\"link\" data-url=\"https://en.wikipedia.org/wiki/Dihydrogen_monoxide_hoax#cite_ref-17\" id=\"thing_t3_4pbpot\" onclick=\"click_thing(this)\"><p class=\"parent\"></p><span class=\"rank\">8</span><div class=\"midcol unvoted\"><div aria-label=\"upvote\" class=\"arrow up login-required access-required\" data-event-action=\"upvote\" role=\"button\" tabindex=\"0\"></div><div class=\"score dislikes\">6031</div><div class=\"score unvoted\">6032</div><div class=\"score likes\">6033</div><div aria-label=\"downvote\" class=\"arrow down login-required access-required\" data-event-action=\"downvote\" role=\"button\" tabindex=\"0\"></div></div><a class=\"thumbnail may-blank \" href=\"https://en.wikipedia.org/wiki/Dihydrogen_monoxide_hoax#cite_ref-17\" rel=\"\"><img alt=\"\" height=\"70\" src=\"//b.thumbs.redditmedia.com/GOQ5PBdkKVwKwz-VRDRofbvuB3qVmw36LqensM0EmOU.jpg\" width=\"70\"/></a><div class=\"entry unvoted\"><p class=\"title\"><a class=\"title may-blank \" href=\"https://en.wikipedia.org/wiki/Dihydrogen_monoxide_hoax#cite_ref-17\" rel=\"\" tabindex=\"1\">TIL that in 1997, 14 year old Nathan Zohner was able to get 43 out of 50 of his classmates to vote to ban \"Dihydrogen Monoxide\" for his science fair project. His project aimed to prove that the use of true facts can lead the ignorant public to false conclusions. He won first prize.</a> <span class=\"domain\">(<a href=\"/domain/en.wikipedia.org/\">en.wikipedia.org</a>)</span></p><p class=\"tagline\">submitted <time class=\"live-timestamp\" datetime=\"2016-06-22T16:58:39+00:00\" title=\"Wed Jun 22 16:58:39 2016 UTC\">8 hours ago</time> by <a class=\"author may-blank id-t2_u25me\" href=\"https://www.reddit.com/user/parlonida\">parlonida</a><span class=\"userattrs\"></span> to <a class=\"subreddit hover may-blank\" href=\"https://www.reddit.com/r/todayilearned/\">/r/todayilearned</a></p><ul class=\"flat-list buttons\"><li class=\"first\"><a class=\"bylink comments may-blank\" data-event-action=\"comments\" href=\"https://www.reddit.com/r/todayilearned/comments/4pbpot/til_that_in_1997_14_year_old_nathan_zohner_was/\" rel=\"nofollow\">2767 comments</a></li><li class=\"share\"><a class=\"post-sharing-button\" href=\"javascript: void 0;\">share</a></li></ul><div class=\"reportform report-t3_4pbpot\"></div><div class=\"expando expando-uninitialized\" style=\"display: none\"><span class=\"error\">loading...</span></div></div><div class=\"child\"></div><div class=\"clearleft\"></div></div>,\n",
       " <div class=\" thing id-t3_4pc8dh odd link \" data-author=\"birdly420\" data-author-fullname=\"t2_nqm2b\" data-domain=\"i.reddituploads.com\" data-fullname=\"t3_4pc8dh\" data-rank=\"9\" data-subreddit=\"aww\" data-subreddit-fullname=\"t5_2qh1o\" data-timestamp=\"1466620270000\" data-type=\"link\" data-url=\"https://i.reddituploads.com/279da42ef1c14c02a540bc02cc14b06a?fit=max&amp;h=1536&amp;w=1536&amp;s=a1f7537addf26a81d76501e62b3a04f2\" id=\"thing_t3_4pc8dh\" onclick=\"click_thing(this)\"><p class=\"parent\"></p><span class=\"rank\">9</span><div class=\"midcol unvoted\"><div aria-label=\"upvote\" class=\"arrow up login-required access-required\" data-event-action=\"upvote\" role=\"button\" tabindex=\"0\"></div><div class=\"score dislikes\">3448</div><div class=\"score unvoted\">3449</div><div class=\"score likes\">3450</div><div aria-label=\"downvote\" class=\"arrow down login-required access-required\" data-event-action=\"downvote\" role=\"button\" tabindex=\"0\"></div></div><a class=\"thumbnail may-blank \" href=\"https://i.reddituploads.com/279da42ef1c14c02a540bc02cc14b06a?fit=max&amp;h=1536&amp;w=1536&amp;s=a1f7537addf26a81d76501e62b3a04f2\" rel=\"\"><img alt=\"\" height=\"70\" src=\"//b.thumbs.redditmedia.com/ppteCREpCRSug-8WFtVSAT0uDZuuVvmdXkdx9_L_lck.jpg\" width=\"70\"/></a><div class=\"entry unvoted\"><p class=\"title\"><a class=\"title may-blank \" href=\"https://i.reddituploads.com/279da42ef1c14c02a540bc02cc14b06a?fit=max&amp;h=1536&amp;w=1536&amp;s=a1f7537addf26a81d76501e62b3a04f2\" rel=\"\" tabindex=\"1\">My kitten constantly looks like she's having an existential crisis.</a> <span class=\"domain\">(<a href=\"/domain/i.reddituploads.com/\">i.reddituploads.com</a>)</span></p><div class=\"expando-button collapsed video\"></div><p class=\"tagline\">submitted <time class=\"live-timestamp\" datetime=\"2016-06-22T18:31:10+00:00\" title=\"Wed Jun 22 18:31:10 2016 UTC\">7 hours ago</time> by <a class=\"author may-blank id-t2_nqm2b\" href=\"https://www.reddit.com/user/birdly420\">birdly420</a><span class=\"userattrs\"></span> to <a class=\"subreddit hover may-blank\" href=\"https://www.reddit.com/r/aww/\">/r/aww</a></p><ul class=\"flat-list buttons\"><li class=\"first\"><a class=\"bylink comments may-blank\" data-event-action=\"comments\" href=\"https://www.reddit.com/r/aww/comments/4pc8dh/my_kitten_constantly_looks_like_shes_having_an/\" rel=\"nofollow\">71 comments</a></li><li class=\"share\"><a class=\"post-sharing-button\" href=\"javascript: void 0;\">share</a></li></ul><div class=\"reportform report-t3_4pc8dh\"></div><div class=\"expando expando-uninitialized\" data-cachedhtml=' &lt;div class=\"media-preview\" id=\"media-preview-4pc8dh\" style=\"max-width: 576px\"&gt; &lt;div class=\"media-preview-content\"&gt; &lt;a href=\"https://i.reddituploads.com/279da42ef1c14c02a540bc02cc14b06a?fit=max&amp;amp;h=1536&amp;amp;w=1536&amp;amp;s=a1f7537addf26a81d76501e62b3a04f2\" class=\"may-blank\"&gt; &lt;img class=\"preview\" src=\"https://i.redditmedia.com/Fz0b6_auRllkepgg_MmbwNMjYJj71_dqguRcHBMPPqE.jpg?w=576&amp;amp;s=1320b69c7c611509bfdc0696becf3530\" width=\"576\" height=\"768\"&gt; &lt;/a&gt; &lt;/div&gt; &lt;/div&gt; ' style=\"display: none\"><span class=\"error\">loading...</span></div></div><div class=\"child\"></div><div class=\"clearleft\"></div></div>,\n",
       " <div class=\" thing id-t3_4pbhl1 linkflair linkflair-Housing even gilded link self\" data-author=\"throwaway75238\" data-author-fullname=\"t2_yxpgj\" data-domain=\"self.personalfinance\" data-fullname=\"t3_4pbhl1\" data-rank=\"10\" data-subreddit=\"personalfinance\" data-subreddit-fullname=\"t5_2qstm\" data-timestamp=\"1466612247000\" data-type=\"link\" data-url=\"/r/personalfinance/comments/4pbhl1/my_mom_just_left_and_im_going_to_be_homeless_at/\" id=\"thing_t3_4pbhl1\" onclick=\"click_thing(this)\"><p class=\"parent\"></p><span class=\"rank\">10</span><div class=\"midcol unvoted\"><div aria-label=\"upvote\" class=\"arrow up login-required access-required\" data-event-action=\"upvote\" role=\"button\" tabindex=\"0\"></div><div class=\"score dislikes\">5083</div><div class=\"score unvoted\">5084</div><div class=\"score likes\">5085</div><div aria-label=\"downvote\" class=\"arrow down login-required access-required\" data-event-action=\"downvote\" role=\"button\" tabindex=\"0\"></div></div><div class=\"entry unvoted\"><p class=\"title\"><a class=\"title may-blank \" href=\"/r/personalfinance/comments/4pbhl1/my_mom_just_left_and_im_going_to_be_homeless_at/\" rel=\"\" tabindex=\"1\">My mom just left and I'm going to be homeless at the end of the month. I'm really scared and don't know what to do.</a><span class=\"linkflairlabel\" title=\"Housing\">Housing</span> <span class=\"domain\">(<a href=\"/r/personalfinance/\">self.personalfinance</a>)</span></p><div class=\"expando-button collapsed selftext\"></div><p class=\"tagline\">submitted <time class=\"live-timestamp\" datetime=\"2016-06-22T16:17:27+00:00\" title=\"Wed Jun 22 16:17:27 2016 UTC\">9 hours ago</time> <time class=\"edited-timestamp\" datetime=\"2016-06-22T20:37:09+00:00\" title=\"last edited 5 hours ago\">*</time> by <a class=\"author may-blank id-t2_yxpgj\" href=\"https://www.reddit.com/user/throwaway75238\">throwaway75238</a><span class=\"userattrs\"></span> to <a class=\"subreddit hover may-blank\" href=\"https://www.reddit.com/r/personalfinance/\">/r/personalfinance</a></p><ul class=\"flat-list buttons\"><li class=\"first\"><a class=\"bylink comments may-blank\" data-event-action=\"comments\" href=\"https://www.reddit.com/r/personalfinance/comments/4pbhl1/my_mom_just_left_and_im_going_to_be_homeless_at/\" rel=\"nofollow\">1121 comments</a></li><li class=\"share\"><a class=\"post-sharing-button\" href=\"javascript: void 0;\">share</a></li></ul><div class=\"reportform report-t3_4pbhl1\"></div><div class=\"expando expando-uninitialized\" style=\"display: none\"><span class=\"error\">loading...</span></div></div><div class=\"child\"></div><div class=\"clearleft\"></div></div>,\n",
       " <div class=\" thing id-t3_4pbvk5 linkflair linkflair-artwork odd gilded link \" data-author=\"idezine123\" data-author-fullname=\"t2_epusm\" data-domain=\"i.redd.it\" data-fullname=\"t3_4pbvk5\" data-rank=\"11\" data-subreddit=\"Art\" data-subreddit-fullname=\"t5_2qh7a\" data-timestamp=\"1466616463000\" data-type=\"link\" data-url=\"/r/Art/comments/4pbvk5/two_clowns_in_the_same_circus_16_x_12s_oil_on/\" id=\"thing_t3_4pbvk5\" onclick=\"click_thing(this)\"><p class=\"parent\"></p><span class=\"rank\">11</span><div class=\"midcol unvoted\"><div aria-label=\"upvote\" class=\"arrow up login-required access-required\" data-event-action=\"upvote\" role=\"button\" tabindex=\"0\"></div><div class=\"score dislikes\">4335</div><div class=\"score unvoted\">4336</div><div class=\"score likes\">4337</div><div aria-label=\"downvote\" class=\"arrow down login-required access-required\" data-event-action=\"downvote\" role=\"button\" tabindex=\"0\"></div></div><a class=\"thumbnail may-blank \" href=\"/r/Art/comments/4pbvk5/two_clowns_in_the_same_circus_16_x_12s_oil_on/\" rel=\"\"><img alt=\"\" height=\"46\" src=\"//b.thumbs.redditmedia.com/p32PnbLD9t9hqvw9Q5X7eZS2tI7Ygqnh5K5MTxOERSE.jpg\" width=\"70\"/></a><div class=\"entry unvoted\"><p class=\"title\"><a class=\"title may-blank \" href=\"/r/Art/comments/4pbvk5/two_clowns_in_the_same_circus_16_x_12s_oil_on/\" rel=\"\" tabindex=\"1\">\"Two clowns in the same circus\" 16 x 12s oil on linen</a><span class=\"linkflairlabel\" title=\"Artwork \">Artwork</span> <span class=\"domain\">(<a href=\"/domain/i.redd.it/\">i.redd.it</a>)</span></p><div class=\"expando-button collapsed video\"></div><p class=\"tagline\">submitted <time class=\"live-timestamp\" datetime=\"2016-06-22T17:27:43+00:00\" title=\"Wed Jun 22 17:27:43 2016 UTC\">8 hours ago</time> by <a class=\"author may-blank id-t2_epusm\" href=\"https://www.reddit.com/user/idezine123\">idezine123</a><span class=\"userattrs\"></span> to <a class=\"subreddit hover may-blank\" href=\"https://www.reddit.com/r/Art/\">/r/Art</a></p><ul class=\"flat-list buttons\"><li class=\"first\"><a class=\"bylink comments may-blank\" data-event-action=\"comments\" href=\"https://www.reddit.com/r/Art/comments/4pbvk5/two_clowns_in_the_same_circus_16_x_12s_oil_on/\" rel=\"nofollow\">1677 comments</a></li><li class=\"share\"><a class=\"post-sharing-button\" href=\"javascript: void 0;\">share</a></li></ul><div class=\"reportform report-t3_4pbvk5\"></div><div class=\"expando expando-uninitialized\" data-cachedhtml=' &lt;div class=\"media-preview\" id=\"media-preview-4pbvk5\" style=\"max-width: 1024px\"&gt; &lt;div class=\"media-preview-content\"&gt; &lt;a href=\"https://i.redd.it/xip1d486mv4x.jpg\" class=\"may-blank\"&gt; &lt;img class=\"preview\" src=\"https://i.redditmedia.com/rOx0Stv0Te8qB5F7KfXypoTbfJSXBTv-Vqem-F4xZcY.jpg?w=1024&amp;amp;s=ffc44f551bc6187638a4366374ddb043\" width=\"1024\" height=\"679\"&gt; &lt;/a&gt; &lt;/div&gt; &lt;/div&gt; ' style=\"display: none\"><span class=\"error\">loading...</span></div></div><div class=\"child\"></div><div class=\"clearleft\"></div></div>,\n",
       " <div class=\" thing id-t3_4pbxkh even link \" data-author=\"charliehoward\" data-author-fullname=\"t2_xtop3\" data-domain=\"imgur.com\" data-fullname=\"t3_4pbxkh\" data-rank=\"12\" data-subreddit=\"DIY\" data-subreddit-fullname=\"t5_2qh7d\" data-timestamp=\"1466617038000\" data-type=\"link\" data-url=\"http://imgur.com/a/cGq5r\" id=\"thing_t3_4pbxkh\" onclick=\"click_thing(this)\"><p class=\"parent\"></p><span class=\"rank\">12</span><div class=\"midcol unvoted\"><div aria-label=\"upvote\" class=\"arrow up login-required access-required\" data-event-action=\"upvote\" role=\"button\" tabindex=\"0\"></div><div class=\"score dislikes\">3601</div><div class=\"score unvoted\">3602</div><div class=\"score likes\">3603</div><div aria-label=\"downvote\" class=\"arrow down login-required access-required\" data-event-action=\"downvote\" role=\"button\" tabindex=\"0\"></div></div><a class=\"thumbnail may-blank \" href=\"http://imgur.com/a/cGq5r\" rel=\"\"><img alt=\"\" height=\"52\" src=\"//b.thumbs.redditmedia.com/oUAn6uciUKrIC73W6qPwWpLdwqrwdNfeXSKqLOZLyiQ.jpg\" width=\"70\"/></a><div class=\"entry unvoted\"><p class=\"title\"><a class=\"title may-blank \" href=\"http://imgur.com/a/cGq5r\" rel=\"\" tabindex=\"1\">Custom Nintendo 64</a> <span class=\"domain\">(<a href=\"/domain/imgur.com/\">imgur.com</a>)</span></p><div class=\"expando-button collapsed video\"></div><p class=\"tagline\">submitted <time class=\"live-timestamp\" datetime=\"2016-06-22T17:37:18+00:00\" title=\"Wed Jun 22 17:37:18 2016 UTC\">8 hours ago</time> by <a class=\"author may-blank id-t2_xtop3\" href=\"https://www.reddit.com/user/charliehoward\">charliehoward</a><span class=\"userattrs\"></span> to <a class=\"subreddit hover may-blank\" href=\"https://www.reddit.com/r/DIY/\">/r/DIY</a></p><ul class=\"flat-list buttons\"><li class=\"first\"><a class=\"bylink comments may-blank\" data-event-action=\"comments\" href=\"https://www.reddit.com/r/DIY/comments/4pbxkh/custom_nintendo_64/\" rel=\"nofollow\">313 comments</a></li><li class=\"share\"><a class=\"post-sharing-button\" href=\"javascript: void 0;\">share</a></li></ul><div class=\"reportform report-t3_4pbxkh\"></div><div class=\"expando expando-uninitialized\" data-cachedhtml=' &lt;iframe src=\"//www.redditmedia.com/mediaembed/4pbxkh\" id=\"media-embed-4pbxkh-xug\" class=\"media-embed\" width=\"560\" height=\"560\" border=\"0\" frameBorder=\"0\" scrolling=\"no\" allowfullscreen&gt;&lt;/iframe&gt; ' style=\"display: none\"><span class=\"error\">loading...</span></div></div><div class=\"child\"></div><div class=\"clearleft\"></div></div>,\n",
       " <div class=\" thing id-t3_4pcw7m linkflair linkflair-allstatus odd link \" data-author=\"OPisactuallydog\" data-author-fullname=\"t2_p52lw\" data-domain=\"bbc.co.uk\" data-fullname=\"t3_4pcw7m\" data-rank=\"13\" data-subreddit=\"TwoXChromosomes\" data-subreddit-fullname=\"t5_2r2jt\" data-timestamp=\"1466627893000\" data-type=\"link\" data-url=\"http://bbc.co.uk/news/world-us-canada-36597949\" id=\"thing_t3_4pcw7m\" onclick=\"click_thing(this)\"><p class=\"parent\"></p><span class=\"rank\">13</span><div class=\"midcol unvoted\"><div aria-label=\"upvote\" class=\"arrow up login-required access-required\" data-event-action=\"upvote\" role=\"button\" tabindex=\"0\"></div><div class=\"score dislikes\">1920</div><div class=\"score unvoted\">1921</div><div class=\"score likes\">1922</div><div aria-label=\"downvote\" class=\"arrow down login-required access-required\" data-event-action=\"downvote\" role=\"button\" tabindex=\"0\"></div></div><div class=\"entry unvoted\"><p class=\"title\"><a class=\"title may-blank \" href=\"http://bbc.co.uk/news/world-us-canada-36597949\" rel=\"\" tabindex=\"1\">Free tampons and pads are coming to New York City's public schools, prisons and homeless shelters</a><span class=\"linkflairlabel\" title=\"/r/all\">/r/all</span> <span class=\"domain\">(<a href=\"/domain/bbc.co.uk/\">bbc.co.uk</a>)</span></p><p class=\"tagline\">submitted <time class=\"live-timestamp\" datetime=\"2016-06-22T20:38:13+00:00\" title=\"Wed Jun 22 20:38:13 2016 UTC\">5 hours ago</time> by <a class=\"author may-blank id-t2_p52lw\" href=\"https://www.reddit.com/user/OPisactuallydog\">OPisactuallydog</a><span class=\"userattrs\"></span> to <a class=\"subreddit hover may-blank\" href=\"https://www.reddit.com/r/TwoXChromosomes/\">/r/TwoXChromosomes</a></p><ul class=\"flat-list buttons\"><li class=\"first\"><a class=\"bylink comments may-blank\" data-event-action=\"comments\" href=\"https://www.reddit.com/r/TwoXChromosomes/comments/4pcw7m/free_tampons_and_pads_are_coming_to_new_york/\" rel=\"nofollow\">194 comments</a></li><li class=\"share\"><a class=\"post-sharing-button\" href=\"javascript: void 0;\">share</a></li></ul><div class=\"reportform report-t3_4pcw7m\"></div><div class=\"expando expando-uninitialized\" style=\"display: none\"><span class=\"error\">loading...</span></div></div><div class=\"child\"></div><div class=\"clearleft\"></div></div>,\n",
       " <div class=\" thing id-t3_4pbew0 even link \" data-author=\"syrupdash\" data-author-fullname=\"t2_aapd2\" data-domain=\"i.imgur.com\" data-fullname=\"t3_4pbew0\" data-rank=\"14\" data-subreddit=\"gaming\" data-subreddit-fullname=\"t5_2qh03\" data-timestamp=\"1466611424000\" data-type=\"link\" data-url=\"http://i.imgur.com/r7umZnt.jpg\" id=\"thing_t3_4pbew0\" onclick=\"click_thing(this)\"><p class=\"parent\"></p><span class=\"rank\">14</span><div class=\"midcol unvoted\"><div aria-label=\"upvote\" class=\"arrow up login-required access-required\" data-event-action=\"upvote\" role=\"button\" tabindex=\"0\"></div><div class=\"score dislikes\">4518</div><div class=\"score unvoted\">4519</div><div class=\"score likes\">4520</div><div aria-label=\"downvote\" class=\"arrow down login-required access-required\" data-event-action=\"downvote\" role=\"button\" tabindex=\"0\"></div></div><a class=\"thumbnail may-blank \" href=\"http://i.imgur.com/r7umZnt.jpg\" rel=\"\"><img alt=\"\" height=\"39\" src=\"//b.thumbs.redditmedia.com/8oaBpeVbDmafM6aMBn0Rl6XQROzqrkkVLVO7YPMflMo.jpg\" width=\"70\"/></a><div class=\"entry unvoted\"><p class=\"title\"><a class=\"title may-blank \" href=\"http://i.imgur.com/r7umZnt.jpg\" rel=\"\" tabindex=\"1\">First World Anarchist</a> <span class=\"domain\">(<a href=\"/domain/i.imgur.com/\">i.imgur.com</a>)</span></p><div class=\"expando-button collapsed video\"></div><p class=\"tagline\">submitted <time class=\"live-timestamp\" datetime=\"2016-06-22T16:03:44+00:00\" title=\"Wed Jun 22 16:03:44 2016 UTC\">9 hours ago</time> by <a class=\"author may-blank id-t2_aapd2\" href=\"https://www.reddit.com/user/syrupdash\">syrupdash</a><span class=\"userattrs\"></span> to <a class=\"subreddit hover may-blank\" href=\"https://www.reddit.com/r/gaming/\">/r/gaming</a></p><ul class=\"flat-list buttons\"><li class=\"first\"><a class=\"bylink comments may-blank\" data-event-action=\"comments\" href=\"https://www.reddit.com/r/gaming/comments/4pbew0/first_world_anarchist/\" rel=\"nofollow\">746 comments</a></li><li class=\"share\"><a class=\"post-sharing-button\" href=\"javascript: void 0;\">share</a></li></ul><div class=\"reportform report-t3_4pbew0\"></div><div class=\"expando expando-uninitialized\" data-cachedhtml=' &lt;div class=\"media-preview\" id=\"media-preview-4pbew0\" style=\"max-width: 1024px\"&gt; &lt;div class=\"media-preview-content\"&gt; &lt;a href=\"http://i.imgur.com/r7umZnt.jpg\" class=\"may-blank\"&gt; &lt;img class=\"preview\" src=\"https://i.redditmedia.com/3N0jPeOV3w1Ia3Q9BnufKBE7cSjf8lkUI4t5fV6uMpk.jpg?w=1024&amp;amp;s=de13b6b614026a7dcf986c081f2c4f86\" width=\"1024\" height=\"576\"&gt; &lt;/a&gt; &lt;/div&gt; &lt;/div&gt; ' style=\"display: none\"><span class=\"error\">loading...</span></div></div><div class=\"child\"></div><div class=\"clearleft\"></div></div>,\n",
       " <div class=\" thing id-t3_4panw5 odd link \" data-author=\"JackassWhisperer\" data-author-fullname=\"t2_fmxqm\" data-domain=\"reuters.com\" data-fullname=\"t3_4panw5\" data-rank=\"15\" data-subreddit=\"worldnews\" data-subreddit-fullname=\"t5_2qh13\" data-timestamp=\"1466602480000\" data-type=\"link\" data-url=\"http://www.reuters.com/article/us-germany-fracking-idUSKCN0Z71YY\" id=\"thing_t3_4panw5\" onclick=\"click_thing(this)\"><p class=\"parent\"></p><span class=\"rank\">15</span><div class=\"midcol unvoted\"><div aria-label=\"upvote\" class=\"arrow up login-required access-required\" data-event-action=\"upvote\" role=\"button\" tabindex=\"0\"></div><div class=\"score dislikes\">5983</div><div class=\"score unvoted\">5984</div><div class=\"score likes\">5985</div><div aria-label=\"downvote\" class=\"arrow down login-required access-required\" data-event-action=\"downvote\" role=\"button\" tabindex=\"0\"></div></div><div class=\"entry unvoted\"><p class=\"title\"><a class=\"title may-blank \" href=\"http://www.reuters.com/article/us-germany-fracking-idUSKCN0Z71YY\" rel=\"\" tabindex=\"1\">German government agrees to ban fracking indefinitely</a> <span class=\"domain\">(<a href=\"/domain/reuters.com/\">reuters.com</a>)</span></p><p class=\"tagline\">submitted <time class=\"live-timestamp\" datetime=\"2016-06-22T13:34:40+00:00\" title=\"Wed Jun 22 13:34:40 2016 UTC\">12 hours ago</time> by <a class=\"author may-blank id-t2_fmxqm\" href=\"https://www.reddit.com/user/JackassWhisperer\">JackassWhisperer</a><span class=\"userattrs\"></span> to <a class=\"subreddit hover may-blank\" href=\"https://www.reddit.com/r/worldnews/\">/r/worldnews</a></p><ul class=\"flat-list buttons\"><li class=\"first\"><a class=\"bylink comments may-blank\" data-event-action=\"comments\" href=\"https://www.reddit.com/r/worldnews/comments/4panw5/german_government_agrees_to_ban_fracking/\" rel=\"nofollow\">2511 comments</a></li><li class=\"share\"><a class=\"post-sharing-button\" href=\"javascript: void 0;\">share</a></li></ul><div class=\"reportform report-t3_4panw5\"></div><div class=\"expando expando-uninitialized\" style=\"display: none\"><span class=\"error\">loading...</span></div></div><div class=\"child\"></div><div class=\"clearleft\"></div></div>,\n",
       " <div class=\" thing id-t3_4pbffj linkflair linkflair-M even link self\" data-author=\"golonrisa\" data-author-fullname=\"t2_ouiog\" data-domain=\"self.tifu\" data-fullname=\"t3_4pbffj\" data-rank=\"16\" data-subreddit=\"tifu\" data-subreddit-fullname=\"t5_2to41\" data-timestamp=\"1466611589000\" data-type=\"link\" data-url=\"/r/tifu/comments/4pbffj/tifu_by_finishing_my_phd/\" id=\"thing_t3_4pbffj\" onclick=\"click_thing(this)\"><p class=\"parent\"></p><span class=\"rank\">16</span><div class=\"midcol unvoted\"><div aria-label=\"upvote\" class=\"arrow up login-required access-required\" data-event-action=\"upvote\" role=\"button\" tabindex=\"0\"></div><div class=\"score dislikes\">3440</div><div class=\"score unvoted\">3441</div><div class=\"score likes\">3442</div><div aria-label=\"downvote\" class=\"arrow down login-required access-required\" data-event-action=\"downvote\" role=\"button\" tabindex=\"0\"></div></div><div class=\"entry unvoted\"><p class=\"title\"><a class=\"title may-blank \" href=\"/r/tifu/comments/4pbffj/tifu_by_finishing_my_phd/\" rel=\"\" tabindex=\"1\">TIFU By finishing my PhD.</a><span class=\"linkflairlabel\" title=\"M\">M</span> <span class=\"domain\">(<a href=\"/r/tifu/\">self.tifu</a>)</span></p><div class=\"expando-button collapsed selftext\"></div><p class=\"tagline\">submitted <time class=\"live-timestamp\" datetime=\"2016-06-22T16:06:29+00:00\" title=\"Wed Jun 22 16:06:29 2016 UTC\">9 hours ago</time> <time class=\"edited-timestamp\" datetime=\"2016-06-23T01:42:14+00:00\" title=\"last edited 14 minutes ago\">*</time> by <a class=\"author may-blank id-t2_ouiog\" href=\"https://www.reddit.com/user/golonrisa\">golonrisa</a><span class=\"userattrs\"></span> to <a class=\"subreddit hover may-blank\" href=\"https://www.reddit.com/r/tifu/\">/r/tifu</a></p><ul class=\"flat-list buttons\"><li class=\"first\"><a class=\"bylink comments may-blank\" data-event-action=\"comments\" href=\"https://www.reddit.com/r/tifu/comments/4pbffj/tifu_by_finishing_my_phd/\" rel=\"nofollow\">1019 comments</a></li><li class=\"share\"><a class=\"post-sharing-button\" href=\"javascript: void 0;\">share</a></li></ul><div class=\"reportform report-t3_4pbffj\"></div><div class=\"expando expando-uninitialized\" style=\"display: none\"><span class=\"error\">loading...</span></div></div><div class=\"child\"></div><div class=\"clearleft\"></div></div>,\n",
       " <div class=\" thing id-t3_4pc3xy odd link self\" data-author=\"eshoves14\" data-author-fullname=\"t2_9drig\" data-domain=\"self.AskReddit\" data-fullname=\"t3_4pc3xy\" data-rank=\"17\" data-subreddit=\"AskReddit\" data-subreddit-fullname=\"t5_2qh1i\" data-timestamp=\"1466618944000\" data-type=\"link\" data-url=\"/r/AskReddit/comments/4pc3xy/what_is_the_creepiest_and_most_unexplainable/\" id=\"thing_t3_4pc3xy\" onclick=\"click_thing(this)\"><p class=\"parent\"></p><span class=\"rank\">17</span><div class=\"midcol unvoted\"><div aria-label=\"upvote\" class=\"arrow up login-required access-required\" data-event-action=\"upvote\" role=\"button\" tabindex=\"0\"></div><div class=\"score dislikes\">2301</div><div class=\"score unvoted\">2302</div><div class=\"score likes\">2303</div><div aria-label=\"downvote\" class=\"arrow down login-required access-required\" data-event-action=\"downvote\" role=\"button\" tabindex=\"0\"></div></div><div class=\"entry unvoted\"><p class=\"title\"><a class=\"title may-blank \" href=\"/r/AskReddit/comments/4pc3xy/what_is_the_creepiest_and_most_unexplainable/\" rel=\"\" tabindex=\"1\">What is the creepiest and most unexplainable paranormal experience you've ever had?</a> <span class=\"domain\">(<a href=\"/r/AskReddit/\">self.AskReddit</a>)</span></p><p class=\"tagline\">submitted <time class=\"live-timestamp\" datetime=\"2016-06-22T18:09:04+00:00\" title=\"Wed Jun 22 18:09:04 2016 UTC\">7 hours ago</time> by <a class=\"author may-blank id-t2_9drig\" href=\"https://www.reddit.com/user/eshoves14\">eshoves14</a><span class=\"userattrs\"></span> to <a class=\"subreddit hover may-blank\" href=\"https://www.reddit.com/r/AskReddit/\">/r/AskReddit</a></p><ul class=\"flat-list buttons\"><li class=\"first\"><a class=\"bylink comments may-blank\" data-event-action=\"comments\" href=\"https://www.reddit.com/r/AskReddit/comments/4pc3xy/what_is_the_creepiest_and_most_unexplainable/\" rel=\"nofollow\">2095 comments</a></li><li class=\"share\"><a class=\"post-sharing-button\" href=\"javascript: void 0;\">share</a></li></ul><div class=\"reportform report-t3_4pc3xy\"></div><div class=\"expando expando-uninitialized\" style=\"display: none\"><span class=\"error\">loading...</span></div></div><div class=\"child\"></div><div class=\"clearleft\"></div></div>,\n",
       " <div class=\" thing id-t3_4pay8c even link self\" data-author=\"CanIGetAWotM8\" data-author-fullname=\"t2_rrkkr\" data-domain=\"self.LifeProTips\" data-fullname=\"t3_4pay8c\" data-rank=\"18\" data-subreddit=\"LifeProTips\" data-subreddit-fullname=\"t5_2s5oq\" data-timestamp=\"1466606052000\" data-type=\"link\" data-url=\"/r/LifeProTips/comments/4pay8c/lpt_make_a_distinct_bend_in_your_business_card/\" id=\"thing_t3_4pay8c\" onclick=\"click_thing(this)\"><p class=\"parent\"></p><span class=\"rank\">18</span><div class=\"midcol unvoted\"><div aria-label=\"upvote\" class=\"arrow up login-required access-required\" data-event-action=\"upvote\" role=\"button\" tabindex=\"0\"></div><div class=\"score dislikes\">4429</div><div class=\"score unvoted\">4430</div><div class=\"score likes\">4431</div><div aria-label=\"downvote\" class=\"arrow down login-required access-required\" data-event-action=\"downvote\" role=\"button\" tabindex=\"0\"></div></div><a class=\"thumbnail self may-blank \" href=\"/r/LifeProTips/comments/4pay8c/lpt_make_a_distinct_bend_in_your_business_card/\" rel=\"nofollow\"></a><div class=\"entry unvoted\"><p class=\"title\"><a class=\"title may-blank \" href=\"/r/LifeProTips/comments/4pay8c/lpt_make_a_distinct_bend_in_your_business_card/\" rel=\"nofollow\" tabindex=\"1\">LPT: Make a distinct bend in your business card before dropping it in a bowl used for a drawing. The drawer is more likely to pick a card that sticks out rather than lays flat.</a> <span class=\"domain\">(<a href=\"/r/LifeProTips/\">self.LifeProTips</a>)</span></p><div class=\"expando-button collapsed selftext\"></div><p class=\"tagline\">submitted <time class=\"live-timestamp\" datetime=\"2016-06-22T14:34:12+00:00\" title=\"Wed Jun 22 14:34:12 2016 UTC\">11 hours ago</time> by <a class=\"author may-blank id-t2_rrkkr\" href=\"https://www.reddit.com/user/CanIGetAWotM8\">CanIGetAWotM8</a><span class=\"userattrs\"></span> to <a class=\"subreddit hover may-blank\" href=\"https://www.reddit.com/r/LifeProTips/\">/r/LifeProTips</a></p><ul class=\"flat-list buttons\"><li class=\"first\"><a class=\"bylink comments may-blank\" data-event-action=\"comments\" href=\"https://www.reddit.com/r/LifeProTips/comments/4pay8c/lpt_make_a_distinct_bend_in_your_business_card/\" rel=\"nofollow\">785 comments</a></li><li class=\"share\"><a class=\"post-sharing-button\" href=\"javascript: void 0;\">share</a></li></ul><div class=\"reportform report-t3_4pay8c\"></div><div class=\"expando expando-uninitialized\" style=\"display: none\"><span class=\"error\">loading...</span></div></div><div class=\"child\"></div><div class=\"clearleft\"></div></div>,\n",
       " <div class=\" thing id-t3_4parc7 linkflair linkflair-business odd link self\" data-author=\"studentloanhero\" data-author-fullname=\"t2_b80vk\" data-domain=\"self.IAmA\" data-fullname=\"t3_4parc7\" data-rank=\"19\" data-subreddit=\"IAmA\" data-subreddit-fullname=\"t5_2qzb6\" data-timestamp=\"1466603721000\" data-type=\"link\" data-url=\"/r/IAmA/comments/4parc7/i_created_a_startup_that_helps_people_pay_off/\" id=\"thing_t3_4parc7\" onclick=\"click_thing(this)\"><p class=\"parent\"></p><span class=\"rank\">19</span><div class=\"midcol unvoted\"><div aria-label=\"upvote\" class=\"arrow up login-required access-required\" data-event-action=\"upvote\" role=\"button\" tabindex=\"0\"></div><div class=\"score dislikes\">4537</div><div class=\"score unvoted\">4538</div><div class=\"score likes\">4539</div><div aria-label=\"downvote\" class=\"arrow down login-required access-required\" data-event-action=\"downvote\" role=\"button\" tabindex=\"0\"></div></div><a class=\"thumbnail self may-blank \" href=\"/r/IAmA/comments/4parc7/i_created_a_startup_that_helps_people_pay_off/\" rel=\"\"></a><div class=\"entry unvoted\"><p class=\"title\"><a class=\"title may-blank \" href=\"/r/IAmA/comments/4parc7/i_created_a_startup_that_helps_people_pay_off/\" rel=\"\" tabindex=\"1\">I created a startup that helps people pay off their student loans. AMA!</a><span class=\"linkflairlabel\" title=\"Business\">Business</span> <span class=\"domain\">(<a href=\"/r/IAmA/\">self.IAmA</a>)</span></p><div class=\"expando-button collapsed selftext\"></div><p class=\"tagline\">submitted <time class=\"live-timestamp\" datetime=\"2016-06-22T13:55:21+00:00\" title=\"Wed Jun 22 13:55:21 2016 UTC\">12 hours ago</time> <time class=\"edited-timestamp\" datetime=\"2016-06-22T22:11:25+00:00\" title=\"last edited 3 hours ago\">*</time> by <a class=\"author may-blank id-t2_b80vk\" href=\"https://www.reddit.com/user/studentloanhero\">studentloanhero</a><span class=\"userattrs\"></span> to <a class=\"subreddit hover may-blank\" href=\"https://www.reddit.com/r/IAmA/\">/r/IAmA</a></p><ul class=\"flat-list buttons\"><li class=\"first\"><a class=\"bylink comments may-blank\" data-event-action=\"comments\" href=\"https://www.reddit.com/r/IAmA/comments/4parc7/i_created_a_startup_that_helps_people_pay_off/\" rel=\"nofollow\">2202 comments</a></li><li class=\"share\"><a class=\"post-sharing-button\" href=\"javascript: void 0;\">share</a></li></ul><div class=\"reportform report-t3_4parc7\"></div><div class=\"expando expando-uninitialized\" style=\"display: none\"><span class=\"error\">loading...</span></div></div><div class=\"child\"></div><div class=\"clearleft\"></div></div>,\n",
       " <div class=\" thing id-t3_4pam6a even link \" data-author=\"ken27238\" data-author-fullname=\"t2_69mz7\" data-domain=\"arstechnica.com\" data-fullname=\"t3_4pam6a\" data-rank=\"20\" data-subreddit=\"nottheonion\" data-subreddit-fullname=\"t5_2qnts\" data-timestamp=\"1466601833000\" data-type=\"link\" data-url=\"http://arstechnica.com/science/2016/06/for-men-the-importance-of-safe-sex-depends-on-how-hot-their-partner-is/\" id=\"thing_t3_4pam6a\" onclick=\"click_thing(this)\"><p class=\"parent\"></p><span class=\"rank\">20</span><div class=\"midcol unvoted\"><div aria-label=\"upvote\" class=\"arrow up login-required access-required\" data-event-action=\"upvote\" role=\"button\" tabindex=\"0\"></div><div class=\"score dislikes\">4971</div><div class=\"score unvoted\">4972</div><div class=\"score likes\">4973</div><div aria-label=\"downvote\" class=\"arrow down login-required access-required\" data-event-action=\"downvote\" role=\"button\" tabindex=\"0\"></div></div><a class=\"thumbnail may-blank \" href=\"http://arstechnica.com/science/2016/06/for-men-the-importance-of-safe-sex-depends-on-how-hot-their-partner-is/\" rel=\"\"><img alt=\"\" height=\"52\" src=\"//b.thumbs.redditmedia.com/eM_f1SKssiVX7FQRYP803V5KTTR-5t3OSgt6JbkpEkI.jpg\" width=\"70\"/></a><div class=\"entry unvoted\"><p class=\"title\"><a class=\"title may-blank \" href=\"http://arstechnica.com/science/2016/06/for-men-the-importance-of-safe-sex-depends-on-how-hot-their-partner-is/\" rel=\"\" tabindex=\"1\">For men, the importance of safe sex depends on how hot their partner is</a> <span class=\"domain\">(<a href=\"/domain/arstechnica.com/\">arstechnica.com</a>)</span></p><p class=\"tagline\">submitted <time class=\"live-timestamp\" datetime=\"2016-06-22T13:23:53+00:00\" title=\"Wed Jun 22 13:23:53 2016 UTC\">12 hours ago</time> by <a class=\"author may-blank id-t2_69mz7\" href=\"https://www.reddit.com/user/ken27238\">ken27238</a><span class=\"userattrs\"></span> to <a class=\"subreddit hover may-blank\" href=\"https://www.reddit.com/r/nottheonion/\">/r/nottheonion</a></p><ul class=\"flat-list buttons\"><li class=\"first\"><a class=\"bylink comments may-blank\" data-event-action=\"comments\" href=\"https://www.reddit.com/r/nottheonion/comments/4pam6a/for_men_the_importance_of_safe_sex_depends_on_how/\" rel=\"nofollow\">3716 comments</a></li><li class=\"share\"><a class=\"post-sharing-button\" href=\"javascript: void 0;\">share</a></li></ul><div class=\"reportform report-t3_4pam6a\"></div><div class=\"expando expando-uninitialized\" style=\"display: none\"><span class=\"error\">loading...</span></div></div><div class=\"child\"></div><div class=\"clearleft\"></div></div>,\n",
       " <div class=\" thing id-t3_4pcngg odd link \" data-author=\"zorzurafi\" data-author-fullname=\"t2_ktppy\" data-domain=\"i.imgur.com\" data-fullname=\"t3_4pcngg\" data-rank=\"21\" data-subreddit=\"mildlyinteresting\" data-subreddit-fullname=\"t5_2ti4h\" data-timestamp=\"1466625028000\" data-type=\"link\" data-url=\"http://i.imgur.com/HBzAlge.jpg\" id=\"thing_t3_4pcngg\" onclick=\"click_thing(this)\"><p class=\"parent\"></p><span class=\"rank\">21</span><div class=\"midcol unvoted\"><div aria-label=\"upvote\" class=\"arrow up login-required access-required\" data-event-action=\"upvote\" role=\"button\" tabindex=\"0\"></div><div class=\"score dislikes\">1524</div><div class=\"score unvoted\">1525</div><div class=\"score likes\">1526</div><div aria-label=\"downvote\" class=\"arrow down login-required access-required\" data-event-action=\"downvote\" role=\"button\" tabindex=\"0\"></div></div><a class=\"thumbnail may-blank \" href=\"http://i.imgur.com/HBzAlge.jpg\" rel=\"\"><img alt=\"\" height=\"70\" src=\"//b.thumbs.redditmedia.com/bbw0etUrtbY03jKuUsb8U4ap9yjUGJWu8e9-Roux5dg.jpg\" width=\"70\"/></a><div class=\"entry unvoted\"><p class=\"title\"><a class=\"title may-blank \" href=\"http://i.imgur.com/HBzAlge.jpg\" rel=\"\" tabindex=\"1\">One of my gummy bears turned out a little strange...</a> <span class=\"domain\">(<a href=\"/domain/i.imgur.com/\">i.imgur.com</a>)</span></p><div class=\"expando-button collapsed video\"></div><p class=\"tagline\">submitted <time class=\"live-timestamp\" datetime=\"2016-06-22T19:50:28+00:00\" title=\"Wed Jun 22 19:50:28 2016 UTC\">6 hours ago</time> by <a class=\"author may-blank id-t2_ktppy\" href=\"https://www.reddit.com/user/zorzurafi\">zorzurafi</a><span class=\"userattrs\"></span> to <a class=\"subreddit hover may-blank\" href=\"https://www.reddit.com/r/mildlyinteresting/\">/r/mildlyinteresting</a></p><ul class=\"flat-list buttons\"><li class=\"first\"><a class=\"bylink comments may-blank\" data-event-action=\"comments\" href=\"https://www.reddit.com/r/mildlyinteresting/comments/4pcngg/one_of_my_gummy_bears_turned_out_a_little_strange/\" rel=\"nofollow\">94 comments</a></li><li class=\"share\"><a class=\"post-sharing-button\" href=\"javascript: void 0;\">share</a></li></ul><div class=\"reportform report-t3_4pcngg\"></div><div class=\"expando expando-uninitialized\" data-cachedhtml=' &lt;div class=\"media-preview\" id=\"media-preview-4pcngg\" style=\"max-width: 576px\"&gt; &lt;div class=\"media-preview-content\"&gt; &lt;a href=\"http://i.imgur.com/HBzAlge.jpg\" class=\"may-blank\"&gt; &lt;img class=\"preview\" src=\"https://i.redditmedia.com/Is4gijaAs13V6vxfTW_luw-FhoRwknQjNW8xegRsLck.jpg?w=576&amp;amp;s=684b6b46601558fe7f8d11d19f6118e0\" width=\"576\" height=\"768\"&gt; &lt;/a&gt; &lt;/div&gt; &lt;/div&gt; ' style=\"display: none\"><span class=\"error\">loading...</span></div></div><div class=\"child\"></div><div class=\"clearleft\"></div></div>,\n",
       " <div class=\" thing id-t3_4paimu linkflair linkflair-soft-lock even link \" data-author=\"_korbendallas_\" data-author-fullname=\"t2_iqgmk\" data-domain=\"i.imgur.com\" data-fullname=\"t3_4paimu\" data-rank=\"22\" data-subreddit=\"photoshopbattles\" data-subreddit-fullname=\"t5_2tecy\" data-timestamp=\"1466600445000\" data-type=\"link\" data-url=\"http://i.imgur.com/vrMkgxQ.jpg\" id=\"thing_t3_4paimu\" onclick=\"click_thing(this)\"><p class=\"parent\"></p><span class=\"rank\">22</span><div class=\"midcol unvoted\"><div aria-label=\"upvote\" class=\"arrow up login-required access-required\" data-event-action=\"upvote\" role=\"button\" tabindex=\"0\"></div><div class=\"score dislikes\">5243</div><div class=\"score unvoted\">5244</div><div class=\"score likes\">5245</div><div aria-label=\"downvote\" class=\"arrow down login-required access-required\" data-event-action=\"downvote\" role=\"button\" tabindex=\"0\"></div></div><a class=\"thumbnail may-blank \" href=\"http://i.imgur.com/vrMkgxQ.jpg\" rel=\"\"><img alt=\"\" height=\"70\" src=\"//b.thumbs.redditmedia.com/scESvIJJHeAPC5MxSIS4rJRciOmxa9APzUygVQbxCOQ.jpg\" width=\"70\"/></a><div class=\"entry unvoted\"><p class=\"title\"><a class=\"title may-blank \" href=\"http://i.imgur.com/vrMkgxQ.jpg\" rel=\"\" tabindex=\"1\">PsBattle: Peter Dinklage riding a scooter</a><span class=\"linkflairlabel\" title=\"Photoshops Only Mode | Cutout in Comments\">Photoshops Only Mode | Cutout in Comments</span> <span class=\"domain\">(<a href=\"/domain/i.imgur.com/\">i.imgur.com</a>)</span></p><div class=\"expando-button collapsed video\"></div><p class=\"tagline\">submitted <time class=\"live-timestamp\" datetime=\"2016-06-22T13:00:45+00:00\" title=\"Wed Jun 22 13:00:45 2016 UTC\">12 hours ago</time> by <a class=\"author may-blank id-t2_iqgmk\" href=\"https://www.reddit.com/user/_korbendallas_\">_korbendallas_</a><span class=\"userattrs\"></span> to <a class=\"subreddit hover may-blank\" href=\"https://www.reddit.com/r/photoshopbattles/\">/r/photoshopbattles</a></p><ul class=\"flat-list buttons\"><li class=\"first\"><a class=\"bylink comments may-blank\" data-event-action=\"comments\" href=\"https://www.reddit.com/r/photoshopbattles/comments/4paimu/psbattle_peter_dinklage_riding_a_scooter/\" rel=\"nofollow\">486 comments</a></li><li class=\"share\"><a class=\"post-sharing-button\" href=\"javascript: void 0;\">share</a></li></ul><div class=\"reportform report-t3_4paimu\"></div><div class=\"expando expando-uninitialized\" data-cachedhtml=' &lt;div class=\"media-preview\" id=\"media-preview-4paimu\" style=\"max-width: 615px\"&gt; &lt;div class=\"media-preview-content\"&gt; &lt;a href=\"http://i.imgur.com/vrMkgxQ.jpg\" class=\"may-blank\"&gt; &lt;img class=\"preview\" src=\"https://i.redditmedia.com/BU0QybMYOxY7_7ezw1Q9lAKF8ACd6egANq9Ud3asR_M.png?w=615&amp;amp;s=4c539da8577828a2de0eacca260bf38a\" width=\"615\" height=\"768\"&gt; &lt;/a&gt; &lt;/div&gt; &lt;/div&gt; ' style=\"display: none\"><span class=\"error\">loading...</span></div></div><div class=\"child\"></div><div class=\"clearleft\"></div></div>,\n",
       " <div class=\" thing id-t3_4padlt odd link \" data-author=\"jaykirsch\" data-author-fullname=\"t2_snpqs\" data-domain=\"i.imgur.com\" data-fullname=\"t3_4padlt\" data-rank=\"23\" data-subreddit=\"OldSchoolCool\" data-subreddit-fullname=\"t5_2tycb\" data-timestamp=\"1466598383000\" data-type=\"link\" data-url=\"http://i.imgur.com/100VGtu.jpg\" id=\"thing_t3_4padlt\" onclick=\"click_thing(this)\"><p class=\"parent\"></p><span class=\"rank\">23</span><div class=\"midcol unvoted\"><div aria-label=\"upvote\" class=\"arrow up login-required access-required\" data-event-action=\"upvote\" role=\"button\" tabindex=\"0\"></div><div class=\"score dislikes\">5469</div><div class=\"score unvoted\">5470</div><div class=\"score likes\">5471</div><div aria-label=\"downvote\" class=\"arrow down login-required access-required\" data-event-action=\"downvote\" role=\"button\" tabindex=\"0\"></div></div><a class=\"thumbnail may-blank \" href=\"http://i.imgur.com/100VGtu.jpg\" rel=\"\"><img alt=\"\" height=\"68\" src=\"//b.thumbs.redditmedia.com/9Y1U2tPNXrBUGMUcRdPIwoIPWYlqJjGwdSeQ_l-whFc.jpg\" width=\"70\"/></a><div class=\"entry unvoted\"><p class=\"title\"><a class=\"title may-blank \" href=\"http://i.imgur.com/100VGtu.jpg\" rel=\"\" tabindex=\"1\">Albert Einstein and Charlie Chaplain, 1931</a> <span class=\"domain\">(<a href=\"/domain/i.imgur.com/\">i.imgur.com</a>)</span></p><div class=\"expando-button collapsed video\"></div><p class=\"tagline\">submitted <time class=\"live-timestamp\" datetime=\"2016-06-22T12:26:23+00:00\" title=\"Wed Jun 22 12:26:23 2016 UTC\">13 hours ago</time> by <a class=\"author may-blank id-t2_snpqs\" href=\"https://www.reddit.com/user/jaykirsch\">jaykirsch</a><span class=\"userattrs\"></span> to <a class=\"subreddit hover may-blank\" href=\"https://www.reddit.com/r/OldSchoolCool/\">/r/OldSchoolCool</a></p><ul class=\"flat-list buttons\"><li class=\"first\"><a class=\"bylink comments may-blank\" data-event-action=\"comments\" href=\"https://www.reddit.com/r/OldSchoolCool/comments/4padlt/albert_einstein_and_charlie_chaplain_1931/\" rel=\"nofollow\">664 comments</a></li><li class=\"share\"><a class=\"post-sharing-button\" href=\"javascript: void 0;\">share</a></li></ul><div class=\"reportform report-t3_4padlt\"></div><div class=\"expando expando-uninitialized\" data-cachedhtml=' &lt;div class=\"media-preview\" id=\"media-preview-4padlt\" style=\"max-width: 671px\"&gt; &lt;div class=\"media-preview-content\"&gt; &lt;a href=\"http://i.imgur.com/100VGtu.jpg\" class=\"may-blank\"&gt; &lt;img class=\"preview\" src=\"https://i.redditmedia.com/baDo7rqct6CN79AmJxbx8UaGsMKlCfSwEgNt_1N5XYM.jpg?w=671&amp;amp;s=04ab58a29785c4c968c29497072e22bb\" width=\"671\" height=\"654\"&gt; &lt;/a&gt; &lt;/div&gt; &lt;/div&gt; ' style=\"display: none\"><span class=\"error\">loading...</span></div></div><div class=\"child\"></div><div class=\"clearleft\"></div></div>,\n",
       " <div class=\" thing id-t3_4pb2jh linkflair linkflair-Engineering even link self\" data-author=\"KyleHooks\" data-author-fullname=\"t2_n6fry\" data-domain=\"self.explainlikeimfive\" data-fullname=\"t3_4pb2jh\" data-rank=\"24\" data-subreddit=\"explainlikeimfive\" data-subreddit-fullname=\"t5_2sokd\" data-timestamp=\"1466607522000\" data-type=\"link\" data-url=\"/r/explainlikeimfive/comments/4pb2jh/eli5_why_tunnels_that_go_underground_dont_flood/\" id=\"thing_t3_4pb2jh\" onclick=\"click_thing(this)\"><p class=\"parent\"></p><span class=\"rank\">24</span><div class=\"midcol unvoted\"><div aria-label=\"upvote\" class=\"arrow up login-required access-required\" data-event-action=\"upvote\" role=\"button\" tabindex=\"0\"></div><div class=\"score dislikes\">3169</div><div class=\"score unvoted\">3170</div><div class=\"score likes\">3171</div><div aria-label=\"downvote\" class=\"arrow down login-required access-required\" data-event-action=\"downvote\" role=\"button\" tabindex=\"0\"></div></div><div class=\"entry unvoted\"><p class=\"title\"><a class=\"title may-blank \" href=\"/r/explainlikeimfive/comments/4pb2jh/eli5_why_tunnels_that_go_underground_dont_flood/\" rel=\"\" tabindex=\"1\">ELI5: Why tunnels that go underground don't flood when it rains</a><span class=\"linkflairlabel\" title=\"Engineering\">Engineering</span> <span class=\"domain\">(<a href=\"/r/explainlikeimfive/\">self.explainlikeimfive</a>)</span></p><div class=\"expando-button collapsed selftext\"></div><p class=\"tagline\">submitted <time class=\"live-timestamp\" datetime=\"2016-06-22T14:58:42+00:00\" title=\"Wed Jun 22 14:58:42 2016 UTC\">10 hours ago</time> <time class=\"edited-timestamp\" datetime=\"2016-06-22T15:20:04+00:00\" title=\"last edited 10 hours ago\">*</time> by <a class=\"author may-blank id-t2_n6fry\" href=\"https://www.reddit.com/user/KyleHooks\">KyleHooks</a><span class=\"userattrs\"></span> to <a class=\"subreddit hover may-blank\" href=\"https://www.reddit.com/r/explainlikeimfive/\">/r/explainlikeimfive</a></p><ul class=\"flat-list buttons\"><li class=\"first\"><a class=\"bylink comments may-blank\" data-event-action=\"comments\" href=\"https://www.reddit.com/r/explainlikeimfive/comments/4pb2jh/eli5_why_tunnels_that_go_underground_dont_flood/\" rel=\"nofollow\">556 comments</a></li><li class=\"share\"><a class=\"post-sharing-button\" href=\"javascript: void 0;\">share</a></li></ul><div class=\"reportform report-t3_4pb2jh\"></div><div class=\"expando expando-uninitialized\" style=\"display: none\"><span class=\"error\">loading...</span></div></div><div class=\"child\"></div><div class=\"clearleft\"></div></div>,\n",
       " <div class=\" thing id-t3_4paiyy linkflair linkflair-poster odd link \" data-author=\"filmfanatic5\" data-author-fullname=\"t2_lonuo\" data-domain=\"i.redd.it\" data-fullname=\"t3_4paiyy\" data-rank=\"25\" data-subreddit=\"movies\" data-subreddit-fullname=\"t5_2qh3s\" data-timestamp=\"1466600575000\" data-type=\"link\" data-url=\"/r/movies/comments/4paiyy/power_rangers_teaser_poster/\" id=\"thing_t3_4paiyy\" onclick=\"click_thing(this)\"><p class=\"parent\"></p><span class=\"rank\">25</span><div class=\"midcol unvoted\"><div aria-label=\"upvote\" class=\"arrow up login-required access-required\" data-event-action=\"upvote\" role=\"button\" tabindex=\"0\"></div><div class=\"score dislikes\">4372</div><div class=\"score unvoted\">4373</div><div class=\"score likes\">4374</div><div aria-label=\"downvote\" class=\"arrow down login-required access-required\" data-event-action=\"downvote\" role=\"button\" tabindex=\"0\"></div></div><a class=\"thumbnail may-blank \" href=\"/r/movies/comments/4paiyy/power_rangers_teaser_poster/\" rel=\"\"><img alt=\"\" height=\"70\" src=\"//b.thumbs.redditmedia.com/rYIZBMfsCMYPwfjUW4HRoslgEoJ8jLx0Ng14lDpnv1A.jpg\" width=\"70\"/></a><div class=\"entry unvoted\"><p class=\"title\"><a class=\"title may-blank \" href=\"/r/movies/comments/4paiyy/power_rangers_teaser_poster/\" rel=\"\" tabindex=\"1\">'Power Rangers' Teaser Poster</a><span class=\"linkflairlabel\" title=\"Poster\">Poster</span> <span class=\"domain\">(<a href=\"/domain/i.redd.it/\">i.redd.it</a>)</span></p><div class=\"expando-button collapsed video\"></div><p class=\"tagline\">submitted <time class=\"live-timestamp\" datetime=\"2016-06-22T13:02:55+00:00\" title=\"Wed Jun 22 13:02:55 2016 UTC\">12 hours ago</time> by <a class=\"author may-blank id-t2_lonuo\" href=\"https://www.reddit.com/user/filmfanatic5\">filmfanatic5</a><span class=\"userattrs\"></span> to <a class=\"subreddit hover may-blank\" href=\"https://www.reddit.com/r/movies/\">/r/movies</a></p><ul class=\"flat-list buttons\"><li class=\"first\"><a class=\"bylink comments may-blank\" data-event-action=\"comments\" href=\"https://www.reddit.com/r/movies/comments/4paiyy/power_rangers_teaser_poster/\" rel=\"nofollow\">1249 comments</a></li><li class=\"share\"><a class=\"post-sharing-button\" href=\"javascript: void 0;\">share</a></li></ul><div class=\"reportform report-t3_4paiyy\"></div><div class=\"expando expando-uninitialized\" data-cachedhtml=' &lt;div class=\"media-preview\" id=\"media-preview-4paiyy\" style=\"max-width: 498px\"&gt; &lt;div class=\"media-preview-content\"&gt; &lt;a href=\"https://i.redd.it/3329420zau4x.jpg\" class=\"may-blank\"&gt; &lt;img class=\"preview\" src=\"https://i.redditmedia.com/4v5s3MAzmH0zCzfMxjNEx1Kvb9roNDcVwjLPUJiIvsk.jpg?w=498&amp;amp;s=b0175e6719f8b965ee8686d7ff4f64db\" width=\"498\" height=\"768\"&gt; &lt;/a&gt; &lt;/div&gt; &lt;/div&gt; ' style=\"display: none\"><span class=\"error\">loading...</span></div></div><div class=\"child\"></div><div class=\"clearleft\"></div></div>,\n",
       " <div class=\"nav-buttons\"><span class=\"nextprev\">view more: <a href=\"https://www.reddit.com/?count=25&amp;after=t3_4paiyy\" rel=\"nofollow next\">next ›</a></span><span class=\"next-suggestions\">or try a <a href=\"https://www.reddit.com/r/random\">random subreddit</a></span></div>]"
      ]
     },
     "execution_count": 164,
     "metadata": {},
     "output_type": "execute_result"
    }
   ],
   "source": [
    "posts"
   ]
  },
  {
   "cell_type": "code",
   "execution_count": 165,
   "metadata": {
    "collapsed": false
   },
   "outputs": [
    {
     "ename": "AttributeError",
     "evalue": "'NoneType' object has no attribute 'string'",
     "output_type": "error",
     "traceback": [
      "\u001b[0;31m---------------------------------------------------------------------------\u001b[0m",
      "\u001b[0;31mAttributeError\u001b[0m                            Traceback (most recent call last)",
      "\u001b[0;32m<ipython-input-165-4825225ba635>\u001b[0m in \u001b[0;36m<module>\u001b[0;34m()\u001b[0m\n\u001b[1;32m      3\u001b[0m     \u001b[0;31m#getting the title from the a_tag\u001b[0m\u001b[0;34m\u001b[0m\u001b[0;34m\u001b[0m\u001b[0m\n\u001b[1;32m      4\u001b[0m     \u001b[0mstory_title\u001b[0m \u001b[0;34m=\u001b[0m \u001b[0mtitle\u001b[0m\u001b[0;34m.\u001b[0m\u001b[0mfind\u001b[0m\u001b[0;34m(\u001b[0m\u001b[0;34m\"a\"\u001b[0m\u001b[0;34m,\u001b[0m \u001b[0;34m{\u001b[0m\u001b[0;34m'class'\u001b[0m\u001b[0;34m:\u001b[0m \u001b[0;34m'title may-blank '\u001b[0m \u001b[0;34m}\u001b[0m\u001b[0;34m)\u001b[0m\u001b[0;34m\u001b[0m\u001b[0m\n\u001b[0;32m----> 5\u001b[0;31m     \u001b[0mstory_title\u001b[0m \u001b[0;34m=\u001b[0m \u001b[0mstory_title\u001b[0m\u001b[0;34m.\u001b[0m\u001b[0mstring\u001b[0m\u001b[0;34m\u001b[0m\u001b[0m\n\u001b[0m\u001b[1;32m      6\u001b[0m     \u001b[0mstory_dict\u001b[0m \u001b[0;34m=\u001b[0m \u001b[0;34m{\u001b[0m\u001b[0;34m'title'\u001b[0m\u001b[0;34m:\u001b[0m \u001b[0mstory_title\u001b[0m\u001b[0;34m}\u001b[0m\u001b[0;34m\u001b[0m\u001b[0m\n\u001b[1;32m      7\u001b[0m     \u001b[0mall_stories\u001b[0m\u001b[0;34m.\u001b[0m\u001b[0mappend\u001b[0m\u001b[0;34m(\u001b[0m\u001b[0mstory_dict\u001b[0m\u001b[0;34m)\u001b[0m\u001b[0;34m\u001b[0m\u001b[0m\n",
      "\u001b[0;31mAttributeError\u001b[0m: 'NoneType' object has no attribute 'string'"
     ]
    }
   ],
   "source": [
    "all_stories = []\n",
    "for title in posts:\n",
    "    #getting the title from the a_tag\n",
    "    story_title = title.find(\"a\", {'class': 'title may-blank ' })\n",
    "    story_title = story_title.string\n",
    "    story_dict = {'title': story_title}\n",
    "    all_stories.append(story_dict)\n",
    "all_stories"
   ]
  },
  {
   "cell_type": "code",
   "execution_count": 166,
   "metadata": {
    "collapsed": false
   },
   "outputs": [
    {
     "data": {
      "text/plain": [
       "[<a class=\"title may-blank \" href=\"/r/tifu/comments/4peacp/tifu_by_sneezing_on_a_germophobes_lunchbox/\" rel=\"nofollow\" tabindex=\"1\">TIFU by sneezing on a germophobe's lunchbox.</a>,\n",
       " <a class=\"title may-blank \" href=\"/r/TwoXChromosomes/comments/4pe9wi/im_taking_a_gender_class_for_the_first_time_and/\" rel=\"nofollow\" tabindex=\"1\">I'm taking a gender class for the first time and struggling A LOT. I think my classmates think I'm a bad feminist and I'm not sure if they're right.</a>,\n",
       " <a class=\"title may-blank \" href=\"https://themotorcycleindustry.bandcamp.com/track/french-for-tigers\" rel=\"nofollow\" tabindex=\"1\">The Motorcycle Industry -- French for Tigers [Pop Punk] (2010)</a>,\n",
       " <a class=\"title may-blank \" href=\"/r/Showerthoughts/comments/4pea6e/if_i_ever_run_into_anyone_named_jessica_fletcher/\" rel=\"nofollow\" tabindex=\"1\">If I ever run into anyone named Jessica Fletcher, I'm getting the heck out of there</a>,\n",
       " <a class=\"title may-blank \" href=\"/r/AskReddit/comments/4pealf/what_are_the_best_documentaries_on_netflix/\" rel=\"\" tabindex=\"1\">What are the best documentaries on Netflix?</a>,\n",
       " <a class=\"title may-blank \" href=\"http://i.imgur.com/nPTORue.png\" rel=\"nofollow\" tabindex=\"1\">Sprinkle Infusion 24x18 Acrylic, Latex, Ink, &amp; Watercolor On Textured Canvas</a>,\n",
       " <a class=\"title may-blank \" href=\"http://imgur.com/Nj2jtr0\" rel=\"nofollow\" tabindex=\"1\">Ps Battle: Double mailman.</a>,\n",
       " <a class=\"title may-blank \" href=\"/r/Showerthoughts/comments/4pe9xk/i_wonder_how_many_rocket_league_matches_i_could/\" rel=\"nofollow\" tabindex=\"1\">I wonder how many Rocket League matches I could have won if I could actually hit the ball.</a>,\n",
       " None,\n",
       " <a class=\"title may-blank \" href=\"http://money.cnn.com/2016/06/22/real_estate/rent-affordability-housing-harvard/\" rel=\"\" tabindex=\"1\">11 million Americans spend half their income on rent</a>,\n",
       " <a class=\"title may-blank \" href=\"http://imgur.com/ZTBz6Ff\" rel=\"\" tabindex=\"1\">View of Cleveland for the Cavaliers parade</a>,\n",
       " <a class=\"title may-blank \" href=\"http://i.imgur.com/nuRZv1O.gifv\" rel=\"\" tabindex=\"1\">\"I'm stuck...I'm stuck! Never mind...I got it!\"</a>,\n",
       " <a class=\"title may-blank \" href=\"https://www.theguardian.com/world/2016/jun/22/abortion-information-zika-virus-birth-defects-latin-america-study?CMP=twt_b-gdnnews\" rel=\"\" tabindex=\"1\">Demand for abortions soars in countries hit by Zika outbreak, study finds</a>,\n",
       " <a class=\"title may-blank \" href=\"/r/pics/comments/4pcz9m/this_pro_wrestler_looks_like_frasier_on_steroids/\" rel=\"\" tabindex=\"1\">This pro wrestler looks like frasier on steroids</a>,\n",
       " <a class=\"title may-blank \" href=\"/r/Showerthoughts/comments/4pbr8b/there_exists_a_set_of_finite_actions_that_if_i/\" rel=\"nofollow\" tabindex=\"1\">There exists a set of finite actions that, if I performed them in the correct order, would make me a millionaire in a day. I just don't know what they are.</a>,\n",
       " <a class=\"title may-blank \" href=\"https://en.wikipedia.org/wiki/Dihydrogen_monoxide_hoax#cite_ref-17\" rel=\"\" tabindex=\"1\">TIL that in 1997, 14 year old Nathan Zohner was able to get 43 out of 50 of his classmates to vote to ban \"Dihydrogen Monoxide\" for his science fair project. His project aimed to prove that the use of true facts can lead the ignorant public to false conclusions. He won first prize.</a>,\n",
       " <a class=\"title may-blank \" href=\"https://i.reddituploads.com/279da42ef1c14c02a540bc02cc14b06a?fit=max&amp;h=1536&amp;w=1536&amp;s=a1f7537addf26a81d76501e62b3a04f2\" rel=\"\" tabindex=\"1\">My kitten constantly looks like she's having an existential crisis.</a>,\n",
       " <a class=\"title may-blank \" href=\"/r/personalfinance/comments/4pbhl1/my_mom_just_left_and_im_going_to_be_homeless_at/\" rel=\"\" tabindex=\"1\">My mom just left and I'm going to be homeless at the end of the month. I'm really scared and don't know what to do.</a>,\n",
       " <a class=\"title may-blank \" href=\"/r/Art/comments/4pbvk5/two_clowns_in_the_same_circus_16_x_12s_oil_on/\" rel=\"\" tabindex=\"1\">\"Two clowns in the same circus\" 16 x 12s oil on linen</a>,\n",
       " <a class=\"title may-blank \" href=\"http://imgur.com/a/cGq5r\" rel=\"\" tabindex=\"1\">Custom Nintendo 64</a>,\n",
       " <a class=\"title may-blank \" href=\"http://bbc.co.uk/news/world-us-canada-36597949\" rel=\"\" tabindex=\"1\">Free tampons and pads are coming to New York City's public schools, prisons and homeless shelters</a>,\n",
       " <a class=\"title may-blank \" href=\"http://i.imgur.com/r7umZnt.jpg\" rel=\"\" tabindex=\"1\">First World Anarchist</a>,\n",
       " <a class=\"title may-blank \" href=\"http://www.reuters.com/article/us-germany-fracking-idUSKCN0Z71YY\" rel=\"\" tabindex=\"1\">German government agrees to ban fracking indefinitely</a>,\n",
       " <a class=\"title may-blank \" href=\"/r/tifu/comments/4pbffj/tifu_by_finishing_my_phd/\" rel=\"\" tabindex=\"1\">TIFU By finishing my PhD.</a>,\n",
       " <a class=\"title may-blank \" href=\"/r/AskReddit/comments/4pc3xy/what_is_the_creepiest_and_most_unexplainable/\" rel=\"\" tabindex=\"1\">What is the creepiest and most unexplainable paranormal experience you've ever had?</a>,\n",
       " <a class=\"title may-blank \" href=\"/r/LifeProTips/comments/4pay8c/lpt_make_a_distinct_bend_in_your_business_card/\" rel=\"nofollow\" tabindex=\"1\">LPT: Make a distinct bend in your business card before dropping it in a bowl used for a drawing. The drawer is more likely to pick a card that sticks out rather than lays flat.</a>,\n",
       " <a class=\"title may-blank \" href=\"/r/IAmA/comments/4parc7/i_created_a_startup_that_helps_people_pay_off/\" rel=\"\" tabindex=\"1\">I created a startup that helps people pay off their student loans. AMA!</a>,\n",
       " <a class=\"title may-blank \" href=\"http://arstechnica.com/science/2016/06/for-men-the-importance-of-safe-sex-depends-on-how-hot-their-partner-is/\" rel=\"\" tabindex=\"1\">For men, the importance of safe sex depends on how hot their partner is</a>,\n",
       " <a class=\"title may-blank \" href=\"http://i.imgur.com/HBzAlge.jpg\" rel=\"\" tabindex=\"1\">One of my gummy bears turned out a little strange...</a>,\n",
       " <a class=\"title may-blank \" href=\"http://i.imgur.com/vrMkgxQ.jpg\" rel=\"\" tabindex=\"1\">PsBattle: Peter Dinklage riding a scooter</a>,\n",
       " <a class=\"title may-blank \" href=\"http://i.imgur.com/100VGtu.jpg\" rel=\"\" tabindex=\"1\">Albert Einstein and Charlie Chaplain, 1931</a>,\n",
       " <a class=\"title may-blank \" href=\"/r/explainlikeimfive/comments/4pb2jh/eli5_why_tunnels_that_go_underground_dont_flood/\" rel=\"\" tabindex=\"1\">ELI5: Why tunnels that go underground don't flood when it rains</a>,\n",
       " <a class=\"title may-blank \" href=\"/r/movies/comments/4paiyy/power_rangers_teaser_poster/\" rel=\"\" tabindex=\"1\">'Power Rangers' Teaser Poster</a>,\n",
       " None]"
      ]
     },
     "execution_count": 166,
     "metadata": {},
     "output_type": "execute_result"
    }
   ],
   "source": [
    "all_stories = []\n",
    "for title in posts:\n",
    "    #getting the title from the a_tag\n",
    "    if title == None:\n",
    "        story_title = 'test'\n",
    "    else:\n",
    "        story_title = title.find(\"a\", {'class': 'title may-blank ' })\n",
    "    all_stories.append(story_title)\n",
    "all_stories"
   ]
  },
  {
   "cell_type": "code",
   "execution_count": 134,
   "metadata": {
    "collapsed": false
   },
   "outputs": [
    {
     "ename": "SyntaxError",
     "evalue": "invalid syntax (<ipython-input-134-02d1d9b4e126>, line 1)",
     "output_type": "error",
     "traceback": [
      "\u001b[0;36m  File \u001b[0;32m\"<ipython-input-134-02d1d9b4e126>\"\u001b[0;36m, line \u001b[0;32m1\u001b[0m\n\u001b[0;31m    test = [<a class=\"title may-blank \" href=\"/r/personalfinance/comments/4pcged/starting_a_roth_ira_what_are_the_beginning_steps/\" rel=\"nofollow\" tabindex=\"1\">Starting a Roth IRA, What are the beginning steps?</a>,\u001b[0m\n\u001b[0m            ^\u001b[0m\n\u001b[0;31mSyntaxError\u001b[0m\u001b[0;31m:\u001b[0m invalid syntax\n"
     ]
    }
   ],
   "source": [
    "test = [<a class=\"title may-blank \" href=\"/r/personalfinance/comments/4pcged/starting_a_roth_ira_what_are_the_beginning_steps/\" rel=\"nofollow\" tabindex=\"1\">Starting a Roth IRA, What are the beginning steps?</a>,\n",
    " <a class=\"title may-blank \" href=\"/r/Showerthoughts/comments/4pch3c/the_earths_rotations_slows_very_slightly_every/\" rel=\"nofollow\" tabindex=\"1\">The Earth's rotations slows very slightly every year, making every day a little longer than the same day the year before. Yesterday was the longest day of this year. Therefore, it was also the longest day in the history of the world.</a>]"
   ]
  },
  {
   "cell_type": "code",
   "execution_count": null,
   "metadata": {
    "collapsed": true
   },
   "outputs": [],
   "source": []
  }
 ],
 "metadata": {
  "kernelspec": {
   "display_name": "Python 3",
   "language": "python",
   "name": "python3"
  },
  "language_info": {
   "codemirror_mode": {
    "name": "ipython",
    "version": 3
   },
   "file_extension": ".py",
   "mimetype": "text/x-python",
   "name": "python",
   "nbconvert_exporter": "python",
   "pygments_lexer": "ipython3",
   "version": "3.5.1"
  }
 },
 "nbformat": 4,
 "nbformat_minor": 0
}
