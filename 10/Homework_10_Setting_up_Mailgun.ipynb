{
 "cells": [
  {
   "cell_type": "markdown",
   "metadata": {},
   "source": [
    "# Homework_10_Setting_up_Mailgun"
   ]
  },
  {
   "cell_type": "code",
   "execution_count": 36,
   "metadata": {
    "collapsed": true
   },
   "outputs": [],
   "source": [
    "import requests"
   ]
  },
  {
   "cell_type": "code",
   "execution_count": 37,
   "metadata": {
    "collapsed": true
   },
   "outputs": [],
   "source": [
    "key = 'key-xxxxxxxxxxxxxxxxxx'\n",
    "sandbox = 'sandboxXxxxxxxxxxxxxxxxxxx.mailgun.org'\n",
    "recipient = 'barnaby.skinner@sonntagszeitung.ch'"
   ]
  },
  {
   "cell_type": "code",
   "execution_count": 38,
   "metadata": {
    "collapsed": false
   },
   "outputs": [
    {
     "name": "stdout",
     "output_type": "stream",
     "text": [
      "Status: 401\n",
      "Body:   Forbidden\n"
     ]
    }
   ],
   "source": [
    "request_url = 'https://api.mailgun.net/v2/{0}/messages'.format(sandbox)\n",
    "request = requests.post(request_url, \n",
    "    auth=('api', key), \n",
    "    files=[(\"attachment\", open(\"test.jpg\"))],\n",
    "    data={\n",
    "        'from': 'hello@example.com',\n",
    "        'to': recipient,\n",
    "        'subject': 'Hello',\n",
    "        'text': 'Hello from Mailgun'\n",
    "})\n",
    "\n",
    "print('Status: {0}'.format(request.status_code))\n",
    "print('Body:   {0}'.format(request.text))"
   ]
  },
  {
   "cell_type": "code",
   "execution_count": 39,
   "metadata": {
    "collapsed": false
   },
   "outputs": [
    {
     "name": "stdout",
     "output_type": "stream",
     "text": [
      "Status: 401\n",
      "Body:   \n"
     ]
    }
   ],
   "source": [
    "#Checking to see if message is sent\n",
    "key = 'key-xxxxxxxxxxxxxxxxxxxxxxxxx'\n",
    "sandbox = 'sandboxxxxxxxxxxxxxxxxxxxxxxxxxx.mailgun.org'\n",
    "\n",
    "request_url = 'https://api.mailgun.net/v2/{0}/events'.format(sandbox)\n",
    "request = requests.get(request_url, auth=('api', key), params={'limit': 5})\n",
    "\n",
    "print('Status: {0}'.format(request.status_code))\n",
    "print('Body:   {0}'.format(request.text))"
   ]
  }
 ],
 "metadata": {
  "kernelspec": {
   "display_name": "Python 3",
   "language": "python",
   "name": "python3"
  },
  "language_info": {
   "codemirror_mode": {
    "name": "ipython",
    "version": 3
   },
   "file_extension": ".py",
   "mimetype": "text/x-python",
   "name": "python",
   "nbconvert_exporter": "python",
   "pygments_lexer": "ipython3",
   "version": "3.5.1"
  }
 },
 "nbformat": 4,
 "nbformat_minor": 0
}
