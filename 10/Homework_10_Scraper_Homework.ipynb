{
 "cells": [
  {
   "cell_type": "code",
   "execution_count": 1,
   "metadata": {
    "collapsed": true
   },
   "outputs": [],
   "source": [
    "import requests\n",
    "from bs4 import BeautifulSoup"
   ]
  },
  {
   "cell_type": "code",
   "execution_count": 2,
   "metadata": {
    "collapsed": true
   },
   "outputs": [],
   "source": [
    "# Grab the Reddit Homepage\n",
    "headers = {'User-Agent': 'Mozilla/5.0 (Macintosh; Intel Mac OS X 10_10_1) AppleWebKit/537.36 (KHTML, like Gecko) Chrome/39.0.2171.95 Safari/537.36'}\n",
    "response = requests.get(\"http://www.reddit.com\", headers=headers)"
   ]
  },
  {
   "cell_type": "code",
   "execution_count": 3,
   "metadata": {
    "collapsed": true
   },
   "outputs": [],
   "source": [
    "#Feed it into BeautifulSoup\n",
    "reddit = BeautifulSoup(response.text, 'html.parser')"
   ]
  },
  {
   "cell_type": "code",
   "execution_count": 4,
   "metadata": {
    "collapsed": false
   },
   "outputs": [],
   "source": [
    "#reddit"
   ]
  },
  {
   "cell_type": "code",
   "execution_count": 5,
   "metadata": {
    "collapsed": true
   },
   "outputs": [],
   "source": [
    "one_sibling_up = reddit.find_all('div', {'class': 'clearleft'})"
   ]
  },
  {
   "cell_type": "code",
   "execution_count": 6,
   "metadata": {
    "collapsed": true
   },
   "outputs": [],
   "source": [
    "#because only every other clearleft has a post in it:\n",
    "posts = [tag.find_next_sibling('div') for tag in one_sibling_up if tag.find_next_sibling('div')]"
   ]
  },
  {
   "cell_type": "code",
   "execution_count": 7,
   "metadata": {
    "collapsed": true
   },
   "outputs": [],
   "source": [
    "#Function to change the votes into int\n",
    "def vote_count_int(x):\n",
    "    if x == '•':\n",
    "        return 0\n",
    "    else:\n",
    "        return int(x)"
   ]
  },
  {
   "cell_type": "code",
   "execution_count": 8,
   "metadata": {
    "collapsed": false
   },
   "outputs": [],
   "source": [
    "all_stories = []\n",
    "for article in posts:\n",
    "    #subreddit\n",
    "    if article.find(\"a\", {'class': 'subreddit hover may-blank' }) is None:\n",
    "        continue\n",
    "    else:\n",
    "        article_subreddit = article.find(\"a\", {'class': 'subreddit hover may-blank' })\n",
    "    #title\n",
    "    if article.find(\"a\", {'class': 'title may-blank ' }) is None:\n",
    "        continue\n",
    "    else:\n",
    "        article_title = article.find(\"a\", {'class': 'title may-blank ' }) \n",
    "    #time\n",
    "    if article.find(\"time\", {'class' : 'live-timestamp'}) is None:  \n",
    "        continue\n",
    "    else:\n",
    "        time = article.find(\"time\", {'class' : 'live-timestamp'}).get('datetime')\n",
    "    #URL\n",
    "    if article.find(\"a\", {'class': 'title may-blank ' }) is None:\n",
    "        continue\n",
    "    else: \n",
    "        article_URL = article.find(\"a\", {'class': 'title may-blank ' }).get('href')\n",
    "    #Thumbnails\n",
    "    #if article.find('img') is None:\n",
    "    #    posts.remove(article)\n",
    "    #else:\n",
    "    #    image_url = article.find('img')\n",
    "    #    if image_url:\n",
    "    #        thumbnail = image_url.get('src')\n",
    "    #votes\n",
    "    if article.find(\"div\", {'class': 'score unvoted' }) is None:\n",
    "        break\n",
    "    else:\n",
    "        article_score = article.find(\"div\", {'class': 'score unvoted' })\n",
    "    #Dictionary\n",
    "    article_subreddit_dict = {'subreddit': article_subreddit.string, 'title': article_title.string, \\\n",
    "                              'time': time, 'URL': article_URL, \\\n",
    "                              'votes': vote_count_int(article_score.string)} \n",
    "    #Dict List\n",
    "    all_stories.append(article_subreddit_dict)"
   ]
  },
  {
   "cell_type": "code",
   "execution_count": 9,
   "metadata": {
    "collapsed": false
   },
   "outputs": [
    {
     "data": {
      "text/plain": [
       "[{'URL': '/r/AskReddit/comments/4pizcs/what_is_worse_being_super_busy_or_being_super/',\n",
       "  'subreddit': '/r/AskReddit',\n",
       "  'time': '2016-06-23T20:49:41+00:00',\n",
       "  'title': 'What is worse, being super busy or being super bored?',\n",
       "  'votes': 0},\n",
       " {'URL': '/r/explainlikeimfive/comments/4pgr6l/eli5_what_are_the_black_dots_that_a_human_sees/',\n",
       "  'subreddit': '/r/explainlikeimfive',\n",
       "  'time': '2016-06-23T13:34:18+00:00',\n",
       "  'title': 'ELI5: What are the black dots that a human sees swimming in vision when suddenly standing up after lying down for a while (not sleeping) ?',\n",
       "  'votes': 212},\n",
       " {'URL': 'https://youtu.be/JnDftxnC4Yo',\n",
       "  'subreddit': '/r/Music',\n",
       "  'time': '2016-06-23T20:48:46+00:00',\n",
       "  'title': 'Diagonal People - Let Me Be [indie rock]',\n",
       "  'votes': 0},\n",
       " {'URL': '/r/personalfinance/comments/4pizch/should_i_leave_all_profit_in_my_business_as/',\n",
       "  'subreddit': '/r/personalfinance',\n",
       "  'time': '2016-06-23T20:49:37+00:00',\n",
       "  'title': 'Should I leave all profit in my business as retained earnings?',\n",
       "  'votes': 0},\n",
       " {'URL': 'http://www.nbcnews.com/news/us-news/two-charged-backyard-shooting-killed-five-including-pregnant-woman-pennsylvania-n597801?cid=sm_tw&hootPostID=424d1fe957858025beb9c33da95b37d4',\n",
       "  'subreddit': '/r/news',\n",
       "  'time': '2016-06-23T20:46:59+00:00',\n",
       "  'title': 'Two Charged in Backyard Shooting That Killed Five, Including Pregnant Woman, in Pennsylvania',\n",
       "  'votes': 0},\n",
       " {'URL': 'http://i.imgur.com/XJW4Pg2.jpg',\n",
       "  'subreddit': '/r/photoshopbattles',\n",
       "  'time': '2016-06-23T20:46:53+00:00',\n",
       "  'title': 'PsBattle: Slovak president looking at a computer screen',\n",
       "  'votes': 0},\n",
       " {'URL': '/r/AskReddit/comments/4pizd1/who_should_be_added_to_mount_rushmore/',\n",
       "  'subreddit': '/r/AskReddit',\n",
       "  'time': '2016-06-23T20:49:44+00:00',\n",
       "  'title': 'Who should be added to Mount Rushmore?',\n",
       "  'votes': 0},\n",
       " {'URL': 'http://www.sltrib.com/news/4040455-155/charges-utah-head-of-militia-tried',\n",
       "  'subreddit': '/r/news',\n",
       "  'time': '2016-06-23T20:46:20+00:00',\n",
       "  'title': 'Utah head of militia tried to detonate bomb at BLM facility in Arizona',\n",
       "  'votes': 0},\n",
       " {'URL': '/r/personalfinance/comments/4piyxt/i_would_love_to_get_some_help_setting_up_a_plan/',\n",
       "  'subreddit': '/r/personalfinance',\n",
       "  'time': '2016-06-23T20:47:16+00:00',\n",
       "  'title': 'I would love to get some help setting up a plan to buy a home.',\n",
       "  'votes': 0},\n",
       " {'URL': '/r/funny/comments/4phjkg/what_math_we_should_teach/',\n",
       "  'subreddit': '/r/funny',\n",
       "  'time': '2016-06-23T16:19:01+00:00',\n",
       "  'title': 'What Math We Should Teach',\n",
       "  'votes': 6094},\n",
       " {'URL': 'https://gfycat.com/GoodAccomplishedHuman',\n",
       "  'subreddit': '/r/gaming',\n",
       "  'time': '2016-06-23T15:57:20+00:00',\n",
       "  'title': 'Thread The Needle GTA V',\n",
       "  'votes': 5629},\n",
       " {'URL': 'http://www.ew.com/article/2016/06/23/game-thrones-ratings',\n",
       "  'subreddit': '/r/television',\n",
       "  'time': '2016-06-23T15:14:32+00:00',\n",
       "  'title': \"'Game of Thrones' ratings at record high: 23 million viewers\",\n",
       "  'votes': 4782},\n",
       " {'URL': 'https://imgur.com/gallery/AEDgA',\n",
       "  'subreddit': '/r/pics',\n",
       "  'time': '2016-06-23T14:12:05+00:00',\n",
       "  'title': 'Mad skills',\n",
       "  'votes': 6094},\n",
       " {'URL': 'https://www.rt.com/news/347958-germany-gunman-cinema-shooting/',\n",
       "  'subreddit': '/r/worldnews',\n",
       "  'time': '2016-06-23T14:30:23+00:00',\n",
       "  'title': 'Man opens fire at cinema complex in Germany, several people wounded – report',\n",
       "  'votes': 5200},\n",
       " {'URL': 'http://www.hollywoodreporter.com/thr-esq/led-zeppelin-wins-stairway-heaven-905866',\n",
       "  'subreddit': '/r/Music',\n",
       "  'time': '2016-06-23T17:17:47+00:00',\n",
       "  'title': \"Led Zeppelin Wins 'Stairway to Heaven' Jury Trial\",\n",
       "  'votes': 2560},\n",
       " {'URL': 'http://imgur.com/wecPnLs',\n",
       "  'subreddit': '/r/aww',\n",
       "  'time': '2016-06-23T12:38:06+00:00',\n",
       "  'title': 'I get greeted like this everyday.',\n",
       "  'votes': 6223},\n",
       " {'URL': '/r/Showerthoughts/comments/4pgifi/if_i_wore_a_british_flag_sweater_while_in_the_uk/',\n",
       "  'subreddit': '/r/Showerthoughts',\n",
       "  'time': '2016-06-23T12:37:11+00:00',\n",
       "  'title': \"If I wore a British flag sweater while in the UK, people would assume I'm a tourist. If I wore an American flag sweater while in America, they'd assume I'm a local.\",\n",
       "  'votes': 5404},\n",
       " {'URL': 'https://gfycat.com/NaiveGloriousBallpython',\n",
       "  'subreddit': '/r/gifs',\n",
       "  'time': '2016-06-23T15:17:36+00:00',\n",
       "  'title': 'Robot dog slips over banana peel',\n",
       "  'votes': 3142},\n",
       " {'URL': 'https://en.wikipedia.org/wiki/Fourth_Army_(United_Kingdom)#Second_World_War',\n",
       "  'subreddit': '/r/todayilearned',\n",
       "  'time': '2016-06-23T13:16:15+00:00',\n",
       "  'title': 'TIL during WW2 the British maintained an entirely fictional army, the 4th Army, that they successfully used to draw German forces away from invasion targets on multiple occasions, including the Normandy landings',\n",
       "  'votes': 4543},\n",
       " {'URL': '/r/explainlikeimfive/comments/4pgvfq/eli5_why_is_the_ar15_not_considered_an_assault/',\n",
       "  'subreddit': '/r/explainlikeimfive',\n",
       "  'time': '2016-06-23T14:01:11+00:00',\n",
       "  'title': 'ELI5: Why is the AR-15 not considered an assault rifle? What makes a rifle an assault rifle?',\n",
       "  'votes': 3943},\n",
       " {'URL': 'https://www.youtube.com/watch?v=dGiQaabX3_o',\n",
       "  'subreddit': '/r/videos',\n",
       "  'time': '2016-06-23T12:06:52+00:00',\n",
       "  'title': 'What Happened Before History? Human Origins',\n",
       "  'votes': 5495},\n",
       " {'URL': 'http://imgur.com/FC1kOTn',\n",
       "  'subreddit': '/r/food',\n",
       "  'time': '2016-06-23T13:44:37+00:00',\n",
       "  'title': 'Caprese salad I make at the restaurant I work at.',\n",
       "  'votes': 3988},\n",
       " {'URL': 'https://www.youtube.com/watch?v=tf7IEVTDjng',\n",
       "  'subreddit': '/r/Futurology',\n",
       "  'time': '2016-06-23T15:23:08+00:00',\n",
       "  'title': 'Introducing the New Robot by Boston Dynamics. SpotMini is smaller, quieter, and performs some tasks autonomously',\n",
       "  'votes': 2469},\n",
       " {'URL': 'http://imgur.com/pgY9tfA',\n",
       "  'subreddit': '/r/mildlyinteresting',\n",
       "  'time': '2016-06-23T11:35:08+00:00',\n",
       "  'title': 'Someone who drives the same truck as me, in the same color, with the same NASA sticker in the same place on the back windshield parked next to me this morning.',\n",
       "  'votes': 4791},\n",
       " {'URL': 'http://i.imgur.com/5iPMM0d.jpg',\n",
       "  'subreddit': '/r/creepy',\n",
       "  'time': '2016-06-23T10:42:03+00:00',\n",
       "  'title': \"Coraline's Other Mother Cosplay\",\n",
       "  'votes': 4835},\n",
       " {'URL': '/r/tifu/comments/4pgicf/tifu_by_taking_my_entire_hotels_internet_down_for/',\n",
       "  'subreddit': '/r/tifu',\n",
       "  'time': '2016-06-23T12:36:38+00:00',\n",
       "  'title': \"TIFU by taking my entire hotel's internet down for a day\",\n",
       "  'votes': 3364},\n",
       " {'URL': 'http://imgur.com/a/7riPu',\n",
       "  'subreddit': '/r/DIY',\n",
       "  'time': '2016-06-23T16:16:27+00:00',\n",
       "  'title': \"Laser cutting/etching my way towards a prettier airplane cockpit (aka 'Holy butts, I bet I can make this look better')\",\n",
       "  'votes': 1717},\n",
       " {'URL': 'http://q13fox.com/2016/06/21/court-public-hospitals-must-provide-abortions-on-site/',\n",
       "  'subreddit': '/r/TwoXChromosomes',\n",
       "  'time': '2016-06-23T14:41:50+00:00',\n",
       "  'title': 'Washington judge rules public hospitals must provide abortions on site if they also provide maternity services',\n",
       "  'votes': 2185},\n",
       " {'URL': 'https://i.imgur.com/5eTvtJl.jpg',\n",
       "  'subreddit': '/r/photoshopbattles',\n",
       "  'time': '2016-06-23T09:41:33+00:00',\n",
       "  'title': 'PsBattle: A cheetah refusing to paricipate in a dog race',\n",
       "  'votes': 5372},\n",
       " {'URL': 'http://www.standard.co.uk/news/world/gun-control-protest-sparks-chaos-in-us-congress-a3278811.html',\n",
       "  'subreddit': '/r/news',\n",
       "  'time': '2016-06-23T10:50:19+00:00',\n",
       "  'title': 'Gun control protest sparks chaos in US Congress',\n",
       "  'votes': 3905},\n",
       " {'URL': '/r/AskReddit/comments/4pgnso/serious_what_are_some_of_the_best_books_youve/',\n",
       "  'subreddit': '/r/AskReddit',\n",
       "  'time': '2016-06-23T13:12:50+00:00',\n",
       "  'title': \"[Serious] What are some of the best books you've ever read?\",\n",
       "  'votes': 2356},\n",
       " {'URL': 'http://hub.jhu.edu/2016/06/16/dark-matter-in-primordial-black-hole-collision',\n",
       "  'subreddit': '/r/science',\n",
       "  'time': '2016-06-23T16:36:00+00:00',\n",
       "  'title': 'Physicists suggest we might have just found dark matter while detecting gravitational waves.',\n",
       "  'votes': 1213},\n",
       " {'URL': '/r/WritingPrompts/comments/4pg8rd/wp_the_uk_votes_to_leave_earth_it_passes/',\n",
       "  'subreddit': '/r/WritingPrompts',\n",
       "  'time': '2016-06-23T11:25:39+00:00',\n",
       "  'title': '[WP] The UK votes to leave Earth. It passes.',\n",
       "  'votes': 2775}]"
      ]
     },
     "execution_count": 9,
     "metadata": {},
     "output_type": "execute_result"
    }
   ],
   "source": [
    "all_stories"
   ]
  },
  {
   "cell_type": "code",
   "execution_count": 10,
   "metadata": {
    "collapsed": true
   },
   "outputs": [],
   "source": [
    "import pandas as pd"
   ]
  },
  {
   "cell_type": "code",
   "execution_count": 11,
   "metadata": {
    "collapsed": true
   },
   "outputs": [],
   "source": [
    "#convert to Pandas"
   ]
  },
  {
   "cell_type": "code",
   "execution_count": 12,
   "metadata": {
    "collapsed": true
   },
   "outputs": [],
   "source": [
    "#date string import"
   ]
  },
  {
   "cell_type": "code",
   "execution_count": 13,
   "metadata": {
    "collapsed": false
   },
   "outputs": [
    {
     "data": {
      "text/html": [
       "<div>\n",
       "<table border=\"1\" class=\"dataframe\">\n",
       "  <thead>\n",
       "    <tr style=\"text-align: right;\">\n",
       "      <th></th>\n",
       "      <th>URL</th>\n",
       "      <th>subreddit</th>\n",
       "      <th>time</th>\n",
       "      <th>title</th>\n",
       "      <th>votes</th>\n",
       "    </tr>\n",
       "  </thead>\n",
       "  <tbody>\n",
       "    <tr>\n",
       "      <th>0</th>\n",
       "      <td>/r/AskReddit/comments/4pizcs/what_is_worse_bei...</td>\n",
       "      <td>/r/AskReddit</td>\n",
       "      <td>2016-06-23T20:49:41+00:00</td>\n",
       "      <td>What is worse, being super busy or being super...</td>\n",
       "      <td>0</td>\n",
       "    </tr>\n",
       "    <tr>\n",
       "      <th>1</th>\n",
       "      <td>/r/explainlikeimfive/comments/4pgr6l/eli5_what...</td>\n",
       "      <td>/r/explainlikeimfive</td>\n",
       "      <td>2016-06-23T13:34:18+00:00</td>\n",
       "      <td>ELI5: What are the black dots that a human see...</td>\n",
       "      <td>212</td>\n",
       "    </tr>\n",
       "  </tbody>\n",
       "</table>\n",
       "</div>"
      ],
      "text/plain": [
       "                                                 URL             subreddit  \\\n",
       "0  /r/AskReddit/comments/4pizcs/what_is_worse_bei...          /r/AskReddit   \n",
       "1  /r/explainlikeimfive/comments/4pgr6l/eli5_what...  /r/explainlikeimfive   \n",
       "\n",
       "                        time  \\\n",
       "0  2016-06-23T20:49:41+00:00   \n",
       "1  2016-06-23T13:34:18+00:00   \n",
       "\n",
       "                                               title  votes  \n",
       "0  What is worse, being super busy or being super...      0  \n",
       "1  ELI5: What are the black dots that a human see...    212  "
      ]
     },
     "execution_count": 13,
     "metadata": {},
     "output_type": "execute_result"
    }
   ],
   "source": [
    "stories_df = pd.DataFrame(all_stories)\n",
    "stories_df.head(2)"
   ]
  },
  {
   "cell_type": "code",
   "execution_count": 14,
   "metadata": {
    "collapsed": true
   },
   "outputs": [],
   "source": [
    "import time"
   ]
  },
  {
   "cell_type": "code",
   "execution_count": 15,
   "metadata": {
    "collapsed": false
   },
   "outputs": [
    {
     "data": {
      "text/plain": [
       "'06-Jun-23'"
      ]
     },
     "execution_count": 15,
     "metadata": {},
     "output_type": "execute_result"
    }
   ],
   "source": [
    "datestring = time.strftime(\"%m-%h-%d\")\n",
    "datestring"
   ]
  },
  {
   "cell_type": "code",
   "execution_count": 16,
   "metadata": {
    "collapsed": true
   },
   "outputs": [],
   "source": [
    "#creating .csv file"
   ]
  },
  {
   "cell_type": "code",
   "execution_count": 17,
   "metadata": {
    "collapsed": false
   },
   "outputs": [],
   "source": [
    "filename = \"reddit-frontpage-\" + datestring + \".csv\"\n",
    "stories_df.to_csv(filename, index=False)"
   ]
  },
  {
   "cell_type": "code",
   "execution_count": null,
   "metadata": {
    "collapsed": true
   },
   "outputs": [],
   "source": []
  }
 ],
 "metadata": {
  "kernelspec": {
   "display_name": "Python 3",
   "language": "python",
   "name": "python3"
  },
  "language_info": {
   "codemirror_mode": {
    "name": "ipython",
    "version": 3
   },
   "file_extension": ".py",
   "mimetype": "text/x-python",
   "name": "python",
   "nbconvert_exporter": "python",
   "pygments_lexer": "ipython3",
   "version": "3.5.1"
  }
 },
 "nbformat": 4,
 "nbformat_minor": 0
}
