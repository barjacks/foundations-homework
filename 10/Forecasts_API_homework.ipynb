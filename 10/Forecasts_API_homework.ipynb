{
 "cells": [
  {
   "cell_type": "markdown",
   "metadata": {},
   "source": [
    "# Forecasts_API_Homework"
   ]
  },
  {
   "cell_type": "code",
   "execution_count": 1,
   "metadata": {
    "collapsed": true
   },
   "outputs": [],
   "source": [
    "import requests\n",
    "import datetime\n",
    "import time\n",
    "\n",
    "#human readable time\n",
    "localtime = time.asctime(time.localtime(time.time()))\n",
    "#UNIX-Time\n",
    "current_UNIX_Time = int(time.time())\n",
    "current_UNIX_Time = str(current_UNIX_Time)"
   ]
  },
  {
   "cell_type": "code",
   "execution_count": 2,
   "metadata": {
    "collapsed": false
   },
   "outputs": [],
   "source": [
    "x = (\"https://api.forecast.io/forecast/e554f37a8164ce189acd210d00a452e0/47.407875,9.464714,\" + current_UNIX_Time)"
   ]
  },
  {
   "cell_type": "code",
   "execution_count": 3,
   "metadata": {
    "collapsed": true
   },
   "outputs": [],
   "source": [
    "#What I need:\n",
    "#Temperature x\n",
    "#Summary\n",
    "#High-Temp Feeling in words for the day\n",
    "#Time of High Temperature\n",
    "#High-Temp for the day\n",
    "#Low-Temp for the day\n",
    "#Rain-Warning"
   ]
  },
  {
   "cell_type": "code",
   "execution_count": 4,
   "metadata": {
    "collapsed": false
   },
   "outputs": [],
   "source": [
    "response = requests.get(x)\n",
    "weather_forecast_trogen = response.json()"
   ]
  },
  {
   "cell_type": "code",
   "execution_count": 5,
   "metadata": {
    "collapsed": true
   },
   "outputs": [],
   "source": [
    "#Temperature:"
   ]
  },
  {
   "cell_type": "code",
   "execution_count": 6,
   "metadata": {
    "collapsed": true
   },
   "outputs": [],
   "source": [
    "def celsius(x):\n",
    "    return round((x -32) /1.8)"
   ]
  },
  {
   "cell_type": "code",
   "execution_count": 7,
   "metadata": {
    "collapsed": false
   },
   "outputs": [
    {
     "data": {
      "text/plain": [
       "dict_keys(['humidity', 'windSpeed', 'time', 'summary', 'temperature', 'ozone', 'dewPoint', 'apparentTemperature', 'precipIntensity', 'cloudCover', 'windBearing', 'pressure', 'precipProbability', 'icon', 'visibility'])"
      ]
     },
     "execution_count": 7,
     "metadata": {},
     "output_type": "execute_result"
    }
   ],
   "source": [
    "weather_forecast_trogen['currently'].keys()"
   ]
  },
  {
   "cell_type": "code",
   "execution_count": 8,
   "metadata": {
    "collapsed": false
   },
   "outputs": [
    {
     "data": {
      "text/plain": [
       "16"
      ]
     },
     "execution_count": 8,
     "metadata": {},
     "output_type": "execute_result"
    }
   ],
   "source": [
    "Current_Temperature = celsius(weather_forecast_trogen['currently']['apparentTemperature'])\n",
    "Current_Temperature"
   ]
  },
  {
   "cell_type": "code",
   "execution_count": 9,
   "metadata": {
    "collapsed": true
   },
   "outputs": [],
   "source": [
    "#Summary"
   ]
  },
  {
   "cell_type": "code",
   "execution_count": 10,
   "metadata": {
    "collapsed": false
   },
   "outputs": [],
   "source": [
    "Summary = weather_forecast_trogen['currently']['summary']"
   ]
  },
  {
   "cell_type": "code",
   "execution_count": 11,
   "metadata": {
    "collapsed": false
   },
   "outputs": [],
   "source": [
    "#weather_forecast_trogen['daily']['data']"
   ]
  },
  {
   "cell_type": "code",
   "execution_count": 12,
   "metadata": {
    "collapsed": true
   },
   "outputs": [],
   "source": [
    "#High-Temp Feeling in words for the day"
   ]
  },
  {
   "cell_type": "code",
   "execution_count": 13,
   "metadata": {
    "collapsed": false
   },
   "outputs": [],
   "source": [
    "for TemperatureMax in weather_forecast_trogen['daily']['data']:\n",
    "    apparentTemperatureMax_tomorrow = TemperatureMax['apparentTemperatureMax']\n",
    "    break\n",
    "\n",
    "apparentTemperatureMax_tomorrow = celsius(apparentTemperatureMax_tomorrow)\n",
    "\n",
    "if apparentTemperatureMax_tomorrow > 30:\n",
    "    apparentTemperatureMax_tomorrow = \"hot\"\n",
    "elif apparentTemperatureMax_tomorrow > 25:\n",
    "    apparentTemperatureMax_tomorrow = \"warm\"\n",
    "elif apparentTemperatureMax_tomorrow > 18:\n",
    "    apparentTemperatureMax_tomorrow = \"warmish\"\n",
    "elif apparentTemperatureMax_tomorrow > 8:\n",
    "    apparentTemperatureMax_tomorrow = \"cool\"\n",
    "elif apparentTemperatureMax_tomorrow > 0:\n",
    "    apparentTemperatureMax_tomorrow = \"nearly freezing\"\n",
    "else: \n",
    "    apparentTemperatureMax_tomorrow = \"icey cold\""
   ]
  },
  {
   "cell_type": "code",
   "execution_count": 14,
   "metadata": {
    "collapsed": true
   },
   "outputs": [],
   "source": [
    "#High-Temp for the day"
   ]
  },
  {
   "cell_type": "code",
   "execution_count": 15,
   "metadata": {
    "collapsed": false
   },
   "outputs": [
    {
     "data": {
      "text/plain": [
       "29"
      ]
     },
     "execution_count": 15,
     "metadata": {},
     "output_type": "execute_result"
    }
   ],
   "source": [
    "for TemperatureMax in weather_forecast_trogen['daily']['data']:\n",
    "    TemperatureMax_tomorrow = TemperatureMax['apparentTemperatureMax']\n",
    "    break\n",
    "\n",
    "celsius(TemperatureMax_tomorrow)"
   ]
  },
  {
   "cell_type": "code",
   "execution_count": 16,
   "metadata": {
    "collapsed": true
   },
   "outputs": [],
   "source": [
    "#Time of High Temperature"
   ]
  },
  {
   "cell_type": "code",
   "execution_count": 17,
   "metadata": {
    "collapsed": false
   },
   "outputs": [],
   "source": [
    "for TemperatureMaxTime in weather_forecast_trogen['daily']['data']:\n",
    "    TemperatureMaxtime_tomorrow = TemperatureMaxTime['apparentTemperatureMaxTime']\n",
    "    break\n",
    "\n",
    "import datetime\n",
    "TemperatureMaxTime = (\n",
    "    datetime.datetime.fromtimestamp(\n",
    "        int(TemperatureMaxtime_tomorrow)\n",
    "    ).strftime('%H:%M')\n",
    ")"
   ]
  },
  {
   "cell_type": "code",
   "execution_count": 18,
   "metadata": {
    "collapsed": true
   },
   "outputs": [],
   "source": [
    "#Min-Temp of the day"
   ]
  },
  {
   "cell_type": "code",
   "execution_count": 19,
   "metadata": {
    "collapsed": false
   },
   "outputs": [
    {
     "data": {
      "text/plain": [
       "16"
      ]
     },
     "execution_count": 19,
     "metadata": {},
     "output_type": "execute_result"
    }
   ],
   "source": [
    "for TemperatureMin in weather_forecast_trogen['daily']['data']:\n",
    "    TemperatureMin_tomorrow = TemperatureMin['apparentTemperatureMin']\n",
    "    break\n",
    "\n",
    "celsius(TemperatureMin_tomorrow)"
   ]
  },
  {
   "cell_type": "code",
   "execution_count": 20,
   "metadata": {
    "collapsed": true
   },
   "outputs": [],
   "source": [
    "#Time of Min of the day"
   ]
  },
  {
   "cell_type": "code",
   "execution_count": 21,
   "metadata": {
    "collapsed": false
   },
   "outputs": [],
   "source": [
    "for TemperatureMinTime in weather_forecast_trogen['daily']['data']:\n",
    "    TemperatureMintime_tomorrow = TemperatureMinTime['apparentTemperatureMinTime']\n",
    "    break\n",
    "\n",
    "import datetime\n",
    "TemperatureMinTime = (\n",
    "    datetime.datetime.fromtimestamp(\n",
    "        int(TemperatureMintime_tomorrow)\n",
    "    ).strftime('%H:%M')\n",
    ")"
   ]
  },
  {
   "cell_type": "code",
   "execution_count": 22,
   "metadata": {
    "collapsed": true
   },
   "outputs": [],
   "source": [
    "#Rain-Warning"
   ]
  },
  {
   "cell_type": "code",
   "execution_count": 23,
   "metadata": {
    "collapsed": false
   },
   "outputs": [],
   "source": [
    "icon = weather_forecast_trogen['currently']['icon']"
   ]
  },
  {
   "cell_type": "code",
   "execution_count": 24,
   "metadata": {
    "collapsed": false
   },
   "outputs": [
    {
     "name": "stdout",
     "output_type": "stream",
     "text": [
      "clear\n"
     ]
    }
   ],
   "source": [
    "if icon == 'clear-day':\n",
    "    icon = \"clear\"\n",
    "elif icon == 'clear-night':\n",
    "    icon = \"clear\"\n",
    "elif icon == 'rain':\n",
    "    icon = \"rainy\"\n",
    "elif icon == 'snow':\n",
    "    icon = \"snowy\"\n",
    "elif icon == 'sleet':\n",
    "    icon = \"sleety\"\n",
    "elif icon == 'wind':\n",
    "    icon = \"windy\"\n",
    "elif icon == 'foggy':\n",
    "    icon = \"foggy\"\n",
    "elif icon == 'cloudy':\n",
    "    icon = 'cloudy'\n",
    "elif icon == 'partly-cloudy day.':\n",
    "    icon = 'partly-cloudy'\n",
    "elif icon == 'partly-cloudy-night':\n",
    "    icon = 'partly-cloudy'\n",
    "\n",
    "print(icon) "
   ]
  },
  {
   "cell_type": "code",
   "execution_count": 25,
   "metadata": {
    "collapsed": false
   },
   "outputs": [
    {
     "name": "stdout",
     "output_type": "stream",
     "text": [
      "The current temperature is 16 °C. It is clear. Tomorrow, a warm day awaits you, with a maximum temperature of 29 °C, peaking at 09:00. The coldest hour of day is 20:00 reaching a low of 16 °C. All in all it will be a clear day.\n"
     ]
    }
   ],
   "source": [
    "print(\"The current temperature is \" + str(Current_Temperature) + \" °C. It is \" + Summary.lower() \\\n",
    "      + \". Tomorrow, a \" + str(apparentTemperatureMax_tomorrow) + \" day awaits you, with a maximum temperature of \" + str(celsius(TemperatureMax_tomorrow)) + \" °C, peaking at \" + \\\n",
    "      str(TemperatureMaxTime) + \". The coldest hour of day is \" + str(TemperatureMinTime) + \" reaching a low of \" \\\n",
    "      + str(celsius(TemperatureMin_tomorrow)) + \" °C. All in all it will be a \" + icon + \" day.\")"
   ]
  },
  {
   "cell_type": "markdown",
   "metadata": {},
   "source": [
    "## Mailing"
   ]
  },
  {
   "cell_type": "code",
   "execution_count": 31,
   "metadata": {
    "collapsed": false
   },
   "outputs": [
    {
     "name": "stdout",
     "output_type": "stream",
     "text": [
      "Status: 400\n",
      "Body:   {\n",
      "  \"message\": \"Sandbox subdomains are for test purposes only. Please add your own domain or add the address to authorized recipients in domain settings.\"\n",
      "}\n"
     ]
    }
   ],
   "source": [
    "key = 'key-Xxxxxxxxxxxxxx'\n",
    "sandbox = 'sandboxXxxxxxxxxxxxxx.mailgun.org'\n",
    "recipient = 'barnaby.skinner@sonntagszeitung'\n",
    "\n",
    "request_url = 'https://api.mailgun.net/v2/{0}/messages'.format(sandbox)\n",
    "request = requests.post(request_url,\n",
    "    auth=('api', key),\n",
    "    data={\n",
    "        'from': 'barnaby.skinner@gmail.com',\n",
    "        'to': recipient, \n",
    "        'subject': 'Weather Report For Tomorrow',\n",
    "        'text': (\"The current temperature is \" + str(Current_Temperature) + \" °C. It is \" + Summary.lower() \\\n",
    "      + \". Tomorrow, a \" + str(apparentTemperatureMax_tomorrow) + \" day awaits you, with a maximum temperature of \" + str(celsius(TemperatureMax_tomorrow)) + \" °C, peaking at \" + \\\n",
    "      str(TemperatureMaxTime) + \". The coldest hour of day is \" + str(TemperatureMinTime) + \" reaching a low of \" \\\n",
    "      + str(celsius(TemperatureMin_tomorrow)) + \" °C. All in all it will be a \" + icon + \" day.\")\n",
    "})\n",
    "\n",
    "print('Status: {0}'.format(request.status_code))\n",
    "print('Body:   {0}'.format(request.text))"
   ]
  },
  {
   "cell_type": "code",
   "execution_count": null,
   "metadata": {
    "collapsed": true
   },
   "outputs": [],
   "source": []
  }
 ],
 "metadata": {
  "kernelspec": {
   "display_name": "Python 3",
   "language": "python",
   "name": "python3"
  },
  "language_info": {
   "codemirror_mode": {
    "name": "ipython",
    "version": 3
   },
   "file_extension": ".py",
   "mimetype": "text/x-python",
   "name": "python",
   "nbconvert_exporter": "python",
   "pygments_lexer": "ipython3",
   "version": "3.5.1"
  }
 },
 "nbformat": 4,
 "nbformat_minor": 0
}
